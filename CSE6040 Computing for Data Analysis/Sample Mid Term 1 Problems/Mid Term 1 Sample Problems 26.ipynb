{
 "cells": [
  {
   "cell_type": "markdown",
   "metadata": {
    "deletable": false,
    "editable": false,
    "nbgrader": {
     "grade": false,
     "locked": true,
     "solution": false
    }
   },
   "source": [
    "# Midterm 1, Spring 2022: USDA Food Labels\n",
    "_Version 1.2_\n",
    "\n",
    "<a href=\"main(2).html\" target=\"_blank\">Solution<a>\n",
    "\n",
    "Changes:\n",
    "\n",
    "- 1.1 - Clarified instructions for exercise 6\n",
    "- 1.2 - Corrected typos in exercise 2 and exercise 4\n",
    "\n",
    "This problem builds on your knowledge of nested data structures, string processing, and implementation of mathematical functions. It has 7 exercises, numbered 0 to 6. There are 14 available points. However, to earn 100% the threshold is 11 points. (Therefore, once you hit 11 points, you can stop. There is no extra credit for exceeding this threshold.)\n",
    "\n",
    "Each exercise builds logically on previous exercises, but you may solve them in any order. That is, if you can't solve an exercise, you can still move on and try the next one. Use this to your advantage, as the exercises are **not** necessarily ordered in terms of difficulty. Higher point values generally indicate more difficult exercises. \n",
    "\n",
    "Code cells starting with the comment `### Loading results` load the result of applying the **correct** solution as described in the markdown cell above it. These can be used to follow along with the overall analysis, but they are not required to be run to move on. Most of these cells are loading rather large data structures (at least in terms of what's human-readable). As such, the data is only loaded - not printed. You are free to use Python to explore it further.\n",
    "\n",
    "The point values of individual exercises are as follows:\n",
    "\n",
    "- Exercise 0: 1 point (This one is a freebie!)\n",
    "- Exercise 1: 1 point  \n",
    "- Exercise 2: 4 points  \n",
    "- Exercise 3: 1 point  \n",
    "- Exercise 4: 2 points  \n",
    "- Exercise 5: 3 points\n",
    "- Exercise 6: 2 points"
   ]
  },
  {
   "cell_type": "markdown",
   "metadata": {
    "deletable": false,
    "editable": false,
    "nbgrader": {
     "grade": false,
     "locked": true,
     "solution": false
    }
   },
   "source": [
    "We will be working with some data about food. The foods you see in the grocery store are required to have nutrition labels, which provide information to consumers about which nutrients are present in a food, the amounts present, and the ingredients in that food (listed in order of content). The USDA maintains all of this information and makes it available to the public on their [website](https://fdc.nal.usda.gov/download-datasets.html) - we are using the \"Global Branded Foods\" data from October 2021 in this notebook. \n",
    "\n",
    "The file linked on the website may change (hopefully this link will work in the future) - [https://fdc.nal.usda.gov/fdc-datasets/FoodData_Central_branded_food_json_2021-10-28.zip](https://fdc.nal.usda.gov/fdc-datasets/FoodData_Central_branded_food_json_2021-10-28.zip). \n",
    "\n",
    "**Note** to keep the runtimes shorter, we are working with a _sample_ of the source data. This will not affect any of the functionality we will be developing in this notebook."
   ]
  },
  {
   "cell_type": "markdown",
   "metadata": {
    "deletable": false,
    "editable": false,
    "nbgrader": {
     "grade": false,
     "locked": true,
     "solution": false
    }
   },
   "source": [
    "## Exercise 0 (1 Points):"
   ]
  },
  {
   "cell_type": "markdown",
   "metadata": {
    "deletable": false,
    "editable": false,
    "nbgrader": {
     "grade": false,
     "locked": true,
     "solution": false
    }
   },
   "source": [
    "After downloading and unzipping the file, you will find the data stored in a **JSON** format. You may or may not have seen this type of data format before, so we will take care of reading the data into our Python environment. The result of the code below is that `food_lod` will load the serialized contents of the json file into Python objects - in this case, a `list` of `dict`s.\n",
    "\n",
    "Run the test cell below to load the data. We are treating this as a \"test\" cell, so you will get one point for just submitting. How generous!"
   ]
  },
  {
   "cell_type": "code",
   "execution_count": 2,
   "metadata": {
    "collapsed": true,
    "deletable": false,
    "editable": false,
    "nbgrader": {
     "grade": true,
     "grade_id": "ex0_test",
     "locked": true,
     "points": "1",
     "solution": false
    }
   },
   "outputs": [],
   "source": [
    "###\n",
    "### AUTOGRADER TEST - DO NOT REMOVE\n",
    "###\n",
    "\n",
    "import json                                          # import the json module\n",
    "path = './resource/asnlib/publicdata/food_data.json' # path to the data file\n",
    "with open(path, 'r') as file:                        # open the path and keep the file object as a context\n",
    "    food_lod = json.load(file)                       # load the file into a variable in our Python environment"
   ]
  },
  {
   "cell_type": "markdown",
   "metadata": {
    "deletable": false,
    "editable": false,
    "nbgrader": {
     "grade": false,
     "locked": true,
     "solution": false
    }
   },
   "source": [
    "## Exploring the data\n",
    "\n",
    "Let's start by taking a look at some of the basic attributes about this data."
   ]
  },
  {
   "cell_type": "code",
   "execution_count": 3,
   "metadata": {},
   "outputs": [
    {
     "data": {
      "text/plain": [
       "{'type': list, 'length': 30000, 'value_types': {dict}}"
      ]
     },
     "execution_count": 3,
     "metadata": {},
     "output_type": "execute_result"
    }
   ],
   "source": [
    "{\n",
    "    'type': type(food_lod),\n",
    "    'length': len(food_lod),\n",
    "    'value_types': {type(v) for v in food_lod}\n",
    "}"
   ]
  },
  {
   "cell_type": "markdown",
   "metadata": {},
   "source": [
    "Well... `food_lod` is a `list`, with 30,000 entries, and each of those are of type `dict`. Let's take a look at some of the keys in one of the `dicts`."
   ]
  },
  {
   "cell_type": "code",
   "execution_count": 5,
   "metadata": {},
   "outputs": [
    {
     "data": {
      "text/plain": [
       "{'foodClass': 'Branded',\n",
       " 'description': 'KETTLE COOKED POTATO CHIPS, PINK HIMALAYAN SALT & RED WINE VINEGAR',\n",
       " 'foodNutrients': [{'type': 'FoodNutrient',\n",
       "   'id': 22804349,\n",
       "   'nutrient': {'id': 1003,\n",
       "    'number': '203',\n",
       "    'name': 'Protein',\n",
       "    'rank': 600,\n",
       "    'unitName': 'g'},\n",
       "   'foodNutrientDerivation': {'code': 'LCCS',\n",
       "    'description': 'Calculated from value per serving size measure',\n",
       "    'foodNutrientSource': {'id': 9,\n",
       "     'code': '12',\n",
       "     'description': \"Manufacturer's analytical; partial documentation\"}},\n",
       "   'amount': 7.14},\n",
       "  {'type': 'FoodNutrient',\n",
       "   'id': 22804350,\n",
       "   'nutrient': {'id': 1004,\n",
       "    'number': '204',\n",
       "    'name': 'Total lipid (fat)',\n",
       "    'rank': 800,\n",
       "    'unitName': 'g'},\n",
       "   'foodNutrientDerivation': {'code': 'LCCS',\n",
       "    'description': 'Calculated from value per serving size measure',\n",
       "    'foodNutrientSource': {'id': 9,\n",
       "     'code': '12',\n",
       "     'description': \"Manufacturer's analytical; partial documentation\"}},\n",
       "   'amount': 25.0},\n",
       "  {'type': 'FoodNutrient',\n",
       "   'id': 22804351,\n",
       "   'nutrient': {'id': 1005,\n",
       "    'number': '205',\n",
       "    'name': 'Carbohydrate, by difference',\n",
       "    'rank': 1110,\n",
       "    'unitName': 'g'},\n",
       "   'foodNutrientDerivation': {'code': 'LCCS',\n",
       "    'description': 'Calculated from value per serving size measure',\n",
       "    'foodNutrientSource': {'id': 9,\n",
       "     'code': '12',\n",
       "     'description': \"Manufacturer's analytical; partial documentation\"}},\n",
       "   'amount': 60.7},\n",
       "  {'type': 'FoodNutrient',\n",
       "   'id': 22804352,\n",
       "   'nutrient': {'id': 1008,\n",
       "    'number': '208',\n",
       "    'name': 'Energy',\n",
       "    'rank': 300,\n",
       "    'unitName': 'kcal'},\n",
       "   'foodNutrientDerivation': {'code': 'LCCS',\n",
       "    'description': 'Calculated from value per serving size measure',\n",
       "    'foodNutrientSource': {'id': 9,\n",
       "     'code': '12',\n",
       "     'description': \"Manufacturer's analytical; partial documentation\"}},\n",
       "   'amount': 500},\n",
       "  {'type': 'FoodNutrient',\n",
       "   'id': 22804353,\n",
       "   'nutrient': {'id': 2000,\n",
       "    'number': '269',\n",
       "    'name': 'Sugars, total including NLEA',\n",
       "    'rank': 1510,\n",
       "    'unitName': 'g'},\n",
       "   'foodNutrientDerivation': {'code': 'LCCS',\n",
       "    'description': 'Calculated from value per serving size measure',\n",
       "    'foodNutrientSource': {'id': 9,\n",
       "     'code': '12',\n",
       "     'description': \"Manufacturer's analytical; partial documentation\"}},\n",
       "   'amount': 0.0},\n",
       "  {'type': 'FoodNutrient',\n",
       "   'id': 22804354,\n",
       "   'nutrient': {'id': 1079,\n",
       "    'number': '291',\n",
       "    'name': 'Fiber, total dietary',\n",
       "    'rank': 1200,\n",
       "    'unitName': 'g'},\n",
       "   'foodNutrientDerivation': {'code': 'LCSL',\n",
       "    'description': 'Calculated from a less than value per serving size measure',\n",
       "    'foodNutrientSource': {'id': 9,\n",
       "     'code': '12',\n",
       "     'description': \"Manufacturer's analytical; partial documentation\"}},\n",
       "   'amount': 3.6},\n",
       "  {'type': 'FoodNutrient',\n",
       "   'id': 22804355,\n",
       "   'nutrient': {'id': 1087,\n",
       "    'number': '301',\n",
       "    'name': 'Calcium, Ca',\n",
       "    'rank': 5300,\n",
       "    'unitName': 'mg'},\n",
       "   'foodNutrientDerivation': {'code': 'LCCD',\n",
       "    'description': 'Calculated from a daily value percentage per serving size measure',\n",
       "    'foodNutrientSource': {'id': 9,\n",
       "     'code': '12',\n",
       "     'description': \"Manufacturer's analytical; partial documentation\"}},\n",
       "   'amount': 0.0},\n",
       "  {'type': 'FoodNutrient',\n",
       "   'id': 22804356,\n",
       "   'nutrient': {'id': 1089,\n",
       "    'number': '303',\n",
       "    'name': 'Iron, Fe',\n",
       "    'rank': 5400,\n",
       "    'unitName': 'mg'},\n",
       "   'foodNutrientDerivation': {'code': 'LCCS',\n",
       "    'description': 'Calculated from value per serving size measure',\n",
       "    'foodNutrientSource': {'id': 9,\n",
       "     'code': '12',\n",
       "     'description': \"Manufacturer's analytical; partial documentation\"}},\n",
       "   'amount': 1.43},\n",
       "  {'type': 'FoodNutrient',\n",
       "   'id': 22804357,\n",
       "   'nutrient': {'id': 1092,\n",
       "    'number': '306',\n",
       "    'name': 'Potassium, K',\n",
       "    'rank': 5700,\n",
       "    'unitName': 'mg'},\n",
       "   'foodNutrientDerivation': {'code': 'LCCS',\n",
       "    'description': 'Calculated from value per serving size measure',\n",
       "    'foodNutrientSource': {'id': 9,\n",
       "     'code': '12',\n",
       "     'description': \"Manufacturer's analytical; partial documentation\"}},\n",
       "   'amount': 1140.0},\n",
       "  {'type': 'FoodNutrient',\n",
       "   'id': 22804358,\n",
       "   'nutrient': {'id': 1093,\n",
       "    'number': '307',\n",
       "    'name': 'Sodium, Na',\n",
       "    'rank': 5800,\n",
       "    'unitName': 'mg'},\n",
       "   'foodNutrientDerivation': {'code': 'LCCS',\n",
       "    'description': 'Calculated from value per serving size measure',\n",
       "    'foodNutrientSource': {'id': 9,\n",
       "     'code': '12',\n",
       "     'description': \"Manufacturer's analytical; partial documentation\"}},\n",
       "   'amount': 500},\n",
       "  {'type': 'FoodNutrient',\n",
       "   'id': 22804359,\n",
       "   'nutrient': {'id': 1110,\n",
       "    'number': '324',\n",
       "    'name': 'Vitamin D (D2 + D3), International Units',\n",
       "    'rank': 8650,\n",
       "    'unitName': 'IU'},\n",
       "   'foodNutrientDerivation': {'code': 'LCCD',\n",
       "    'description': 'Calculated from a daily value percentage per serving size measure',\n",
       "    'foodNutrientSource': {'id': 9,\n",
       "     'code': '12',\n",
       "     'description': \"Manufacturer's analytical; partial documentation\"}},\n",
       "   'amount': 0.0},\n",
       "  {'type': 'FoodNutrient',\n",
       "   'id': 22804360,\n",
       "   'nutrient': {'id': 1235,\n",
       "    'number': '539',\n",
       "    'name': 'Sugars, added',\n",
       "    'rank': 1540,\n",
       "    'unitName': 'g'},\n",
       "   'foodNutrientDerivation': {'code': 'LCCD',\n",
       "    'description': 'Calculated from a daily value percentage per serving size measure',\n",
       "    'foodNutrientSource': {'id': 9,\n",
       "     'code': '12',\n",
       "     'description': \"Manufacturer's analytical; partial documentation\"}},\n",
       "   'amount': 0.0},\n",
       "  {'type': 'FoodNutrient',\n",
       "   'id': 22804361,\n",
       "   'nutrient': {'id': 1253,\n",
       "    'number': '601',\n",
       "    'name': 'Cholesterol',\n",
       "    'rank': 15700,\n",
       "    'unitName': 'mg'},\n",
       "   'foodNutrientDerivation': {'code': 'LCCD',\n",
       "    'description': 'Calculated from a daily value percentage per serving size measure',\n",
       "    'foodNutrientSource': {'id': 9,\n",
       "     'code': '12',\n",
       "     'description': \"Manufacturer's analytical; partial documentation\"}},\n",
       "   'amount': 0.0},\n",
       "  {'type': 'FoodNutrient',\n",
       "   'id': 22804362,\n",
       "   'nutrient': {'id': 1257,\n",
       "    'number': '605',\n",
       "    'name': 'Fatty acids, total trans',\n",
       "    'rank': 15400,\n",
       "    'unitName': 'g'},\n",
       "   'foodNutrientDerivation': {'code': 'LCCS',\n",
       "    'description': 'Calculated from value per serving size measure',\n",
       "    'foodNutrientSource': {'id': 9,\n",
       "     'code': '12',\n",
       "     'description': \"Manufacturer's analytical; partial documentation\"}},\n",
       "   'amount': 0.0},\n",
       "  {'type': 'FoodNutrient',\n",
       "   'id': 22804363,\n",
       "   'nutrient': {'id': 1258,\n",
       "    'number': '606',\n",
       "    'name': 'Fatty acids, total saturated',\n",
       "    'rank': 9700,\n",
       "    'unitName': 'g'},\n",
       "   'foodNutrientDerivation': {'code': 'LCCS',\n",
       "    'description': 'Calculated from value per serving size measure',\n",
       "    'foodNutrientSource': {'id': 9,\n",
       "     'code': '12',\n",
       "     'description': \"Manufacturer's analytical; partial documentation\"}},\n",
       "   'amount': 1.79}],\n",
       " 'foodAttributes': [],\n",
       " 'modifiedDate': '9/6/2018',\n",
       " 'availableDate': '9/6/2018',\n",
       " 'marketCountry': 'United States',\n",
       " 'brandOwner': 'Cape Cod Potato Chips Inc.',\n",
       " 'brandName': 'CAPE COD',\n",
       " 'gtinUpc': '020685002434',\n",
       " 'dataSource': 'LI',\n",
       " 'ingredients': 'POTATOES, VEGETABLE OIL (CONTAINS ONE OR MORE OF THE FOLLOWING: CANOLA OIL, SAFFLOWER OIL AND/OR SUNFLOWER OIL), MALTODEXTRIN, HIMALAYAN SALT, RED WINE VINEGAR, CITRIC ACID, SUGAR, WHITE DISTILLED VINEGAR, NATURAL FLAVOR.',\n",
       " 'servingSize': 28,\n",
       " 'servingSizeUnit': 'g',\n",
       " 'labelNutrients': {'fat': {'value': 7.0},\n",
       "  'saturatedFat': {'value': 0.501},\n",
       "  'transFat': {'value': 0.0},\n",
       "  'cholesterol': {'value': 0.0},\n",
       "  'sodium': {'value': 140},\n",
       "  'carbohydrates': {'value': 17.0},\n",
       "  'fiber': {'value': 1.01},\n",
       "  'sugars': {'value': 0.0},\n",
       "  'protein': {'value': 2.0},\n",
       "  'calcium': {'value': 0.0},\n",
       "  'iron': {'value': 0.4},\n",
       "  'potassium': {'value': 319},\n",
       "  'addedSugar': {'value': 0.0},\n",
       "  'calories': {'value': 140}},\n",
       " 'packageWeight': '6.5 oz/184 g',\n",
       " 'brandedFoodCategory': 'Chips, Pretzels & Snacks',\n",
       " 'fdcId': 1953579,\n",
       " 'dataType': 'Branded',\n",
       " 'foodUpdateLog': [{'foodClass': 'Branded',\n",
       "   'description': 'KETTLE COOKED POTATO CHIPS, PINK HIMALAYAN SALT & RED WINE VINEGAR',\n",
       "   'foodAttributes': [{'id': 2109377,\n",
       "     'name': 'Nutrient Added',\n",
       "     'value': '5',\n",
       "     'foodAttributeType': {'id': 998}},\n",
       "    {'id': 2109378,\n",
       "     'name': 'Nutrient Updated',\n",
       "     'value': '4',\n",
       "     'foodAttributeType': {'id': 998}},\n",
       "    {'id': 2109379,\n",
       "     'name': 'Description',\n",
       "     'value': '2',\n",
       "     'foodAttributeType': {'id': 998}}],\n",
       "   'fdcId': 1953579,\n",
       "   'dataType': 'Branded',\n",
       "   'publicationDate': '7/29/2021'},\n",
       "  {'foodClass': 'Branded',\n",
       "   'description': 'KETTLE COOKED POTATO CHIPS',\n",
       "   'foodAttributes': [{'id': 1730511,\n",
       "     'name': 'Added Brand/Sub Brand Information',\n",
       "     'value': '10',\n",
       "     'foodAttributeType': {'id': 998}}],\n",
       "   'fdcId': 1672556,\n",
       "   'dataType': 'Branded',\n",
       "   'publicationDate': '3/19/2021'},\n",
       "  {'foodClass': 'Branded',\n",
       "   'description': 'KETTLE COOKED POTATO CHIPS',\n",
       "   'foodAttributes': [{'id': 1361522,\n",
       "     'name': 'Added Brand/Sub Brand Information',\n",
       "     'value': '10',\n",
       "     'foodAttributeType': {'id': 998}}],\n",
       "   'fdcId': 1380329,\n",
       "   'dataType': 'Branded',\n",
       "   'publicationDate': '2/26/2021'},\n",
       "  {'foodClass': 'Branded',\n",
       "   'description': 'KETTLE COOKED POTATO CHIPS',\n",
       "   'foodAttributes': [],\n",
       "   'fdcId': 590107,\n",
       "   'dataType': 'Branded',\n",
       "   'publicationDate': '4/1/2019'}],\n",
       " 'publicationDate': '7/29/2021'}"
      ]
     },
     "execution_count": 5,
     "metadata": {},
     "output_type": "execute_result"
    }
   ],
   "source": [
    "food_lod[0]"
   ]
  },
  {
   "cell_type": "code",
   "execution_count": 6,
   "metadata": {},
   "outputs": [
    {
     "data": {
      "text/plain": [
       "'Branded'"
      ]
     },
     "execution_count": 6,
     "metadata": {},
     "output_type": "execute_result"
    }
   ],
   "source": [
    "food_lod[0]['foodClass']"
   ]
  },
  {
   "cell_type": "code",
   "execution_count": 7,
   "metadata": {},
   "outputs": [
    {
     "data": {
      "text/plain": [
       "[{'type': 'FoodNutrient',\n",
       "  'id': 22804349,\n",
       "  'nutrient': {'id': 1003,\n",
       "   'number': '203',\n",
       "   'name': 'Protein',\n",
       "   'rank': 600,\n",
       "   'unitName': 'g'},\n",
       "  'foodNutrientDerivation': {'code': 'LCCS',\n",
       "   'description': 'Calculated from value per serving size measure',\n",
       "   'foodNutrientSource': {'id': 9,\n",
       "    'code': '12',\n",
       "    'description': \"Manufacturer's analytical; partial documentation\"}},\n",
       "  'amount': 7.14},\n",
       " {'type': 'FoodNutrient',\n",
       "  'id': 22804350,\n",
       "  'nutrient': {'id': 1004,\n",
       "   'number': '204',\n",
       "   'name': 'Total lipid (fat)',\n",
       "   'rank': 800,\n",
       "   'unitName': 'g'},\n",
       "  'foodNutrientDerivation': {'code': 'LCCS',\n",
       "   'description': 'Calculated from value per serving size measure',\n",
       "   'foodNutrientSource': {'id': 9,\n",
       "    'code': '12',\n",
       "    'description': \"Manufacturer's analytical; partial documentation\"}},\n",
       "  'amount': 25.0},\n",
       " {'type': 'FoodNutrient',\n",
       "  'id': 22804351,\n",
       "  'nutrient': {'id': 1005,\n",
       "   'number': '205',\n",
       "   'name': 'Carbohydrate, by difference',\n",
       "   'rank': 1110,\n",
       "   'unitName': 'g'},\n",
       "  'foodNutrientDerivation': {'code': 'LCCS',\n",
       "   'description': 'Calculated from value per serving size measure',\n",
       "   'foodNutrientSource': {'id': 9,\n",
       "    'code': '12',\n",
       "    'description': \"Manufacturer's analytical; partial documentation\"}},\n",
       "  'amount': 60.7},\n",
       " {'type': 'FoodNutrient',\n",
       "  'id': 22804352,\n",
       "  'nutrient': {'id': 1008,\n",
       "   'number': '208',\n",
       "   'name': 'Energy',\n",
       "   'rank': 300,\n",
       "   'unitName': 'kcal'},\n",
       "  'foodNutrientDerivation': {'code': 'LCCS',\n",
       "   'description': 'Calculated from value per serving size measure',\n",
       "   'foodNutrientSource': {'id': 9,\n",
       "    'code': '12',\n",
       "    'description': \"Manufacturer's analytical; partial documentation\"}},\n",
       "  'amount': 500},\n",
       " {'type': 'FoodNutrient',\n",
       "  'id': 22804353,\n",
       "  'nutrient': {'id': 2000,\n",
       "   'number': '269',\n",
       "   'name': 'Sugars, total including NLEA',\n",
       "   'rank': 1510,\n",
       "   'unitName': 'g'},\n",
       "  'foodNutrientDerivation': {'code': 'LCCS',\n",
       "   'description': 'Calculated from value per serving size measure',\n",
       "   'foodNutrientSource': {'id': 9,\n",
       "    'code': '12',\n",
       "    'description': \"Manufacturer's analytical; partial documentation\"}},\n",
       "  'amount': 0.0},\n",
       " {'type': 'FoodNutrient',\n",
       "  'id': 22804354,\n",
       "  'nutrient': {'id': 1079,\n",
       "   'number': '291',\n",
       "   'name': 'Fiber, total dietary',\n",
       "   'rank': 1200,\n",
       "   'unitName': 'g'},\n",
       "  'foodNutrientDerivation': {'code': 'LCSL',\n",
       "   'description': 'Calculated from a less than value per serving size measure',\n",
       "   'foodNutrientSource': {'id': 9,\n",
       "    'code': '12',\n",
       "    'description': \"Manufacturer's analytical; partial documentation\"}},\n",
       "  'amount': 3.6},\n",
       " {'type': 'FoodNutrient',\n",
       "  'id': 22804355,\n",
       "  'nutrient': {'id': 1087,\n",
       "   'number': '301',\n",
       "   'name': 'Calcium, Ca',\n",
       "   'rank': 5300,\n",
       "   'unitName': 'mg'},\n",
       "  'foodNutrientDerivation': {'code': 'LCCD',\n",
       "   'description': 'Calculated from a daily value percentage per serving size measure',\n",
       "   'foodNutrientSource': {'id': 9,\n",
       "    'code': '12',\n",
       "    'description': \"Manufacturer's analytical; partial documentation\"}},\n",
       "  'amount': 0.0},\n",
       " {'type': 'FoodNutrient',\n",
       "  'id': 22804356,\n",
       "  'nutrient': {'id': 1089,\n",
       "   'number': '303',\n",
       "   'name': 'Iron, Fe',\n",
       "   'rank': 5400,\n",
       "   'unitName': 'mg'},\n",
       "  'foodNutrientDerivation': {'code': 'LCCS',\n",
       "   'description': 'Calculated from value per serving size measure',\n",
       "   'foodNutrientSource': {'id': 9,\n",
       "    'code': '12',\n",
       "    'description': \"Manufacturer's analytical; partial documentation\"}},\n",
       "  'amount': 1.43},\n",
       " {'type': 'FoodNutrient',\n",
       "  'id': 22804357,\n",
       "  'nutrient': {'id': 1092,\n",
       "   'number': '306',\n",
       "   'name': 'Potassium, K',\n",
       "   'rank': 5700,\n",
       "   'unitName': 'mg'},\n",
       "  'foodNutrientDerivation': {'code': 'LCCS',\n",
       "   'description': 'Calculated from value per serving size measure',\n",
       "   'foodNutrientSource': {'id': 9,\n",
       "    'code': '12',\n",
       "    'description': \"Manufacturer's analytical; partial documentation\"}},\n",
       "  'amount': 1140.0},\n",
       " {'type': 'FoodNutrient',\n",
       "  'id': 22804358,\n",
       "  'nutrient': {'id': 1093,\n",
       "   'number': '307',\n",
       "   'name': 'Sodium, Na',\n",
       "   'rank': 5800,\n",
       "   'unitName': 'mg'},\n",
       "  'foodNutrientDerivation': {'code': 'LCCS',\n",
       "   'description': 'Calculated from value per serving size measure',\n",
       "   'foodNutrientSource': {'id': 9,\n",
       "    'code': '12',\n",
       "    'description': \"Manufacturer's analytical; partial documentation\"}},\n",
       "  'amount': 500},\n",
       " {'type': 'FoodNutrient',\n",
       "  'id': 22804359,\n",
       "  'nutrient': {'id': 1110,\n",
       "   'number': '324',\n",
       "   'name': 'Vitamin D (D2 + D3), International Units',\n",
       "   'rank': 8650,\n",
       "   'unitName': 'IU'},\n",
       "  'foodNutrientDerivation': {'code': 'LCCD',\n",
       "   'description': 'Calculated from a daily value percentage per serving size measure',\n",
       "   'foodNutrientSource': {'id': 9,\n",
       "    'code': '12',\n",
       "    'description': \"Manufacturer's analytical; partial documentation\"}},\n",
       "  'amount': 0.0},\n",
       " {'type': 'FoodNutrient',\n",
       "  'id': 22804360,\n",
       "  'nutrient': {'id': 1235,\n",
       "   'number': '539',\n",
       "   'name': 'Sugars, added',\n",
       "   'rank': 1540,\n",
       "   'unitName': 'g'},\n",
       "  'foodNutrientDerivation': {'code': 'LCCD',\n",
       "   'description': 'Calculated from a daily value percentage per serving size measure',\n",
       "   'foodNutrientSource': {'id': 9,\n",
       "    'code': '12',\n",
       "    'description': \"Manufacturer's analytical; partial documentation\"}},\n",
       "  'amount': 0.0},\n",
       " {'type': 'FoodNutrient',\n",
       "  'id': 22804361,\n",
       "  'nutrient': {'id': 1253,\n",
       "   'number': '601',\n",
       "   'name': 'Cholesterol',\n",
       "   'rank': 15700,\n",
       "   'unitName': 'mg'},\n",
       "  'foodNutrientDerivation': {'code': 'LCCD',\n",
       "   'description': 'Calculated from a daily value percentage per serving size measure',\n",
       "   'foodNutrientSource': {'id': 9,\n",
       "    'code': '12',\n",
       "    'description': \"Manufacturer's analytical; partial documentation\"}},\n",
       "  'amount': 0.0},\n",
       " {'type': 'FoodNutrient',\n",
       "  'id': 22804362,\n",
       "  'nutrient': {'id': 1257,\n",
       "   'number': '605',\n",
       "   'name': 'Fatty acids, total trans',\n",
       "   'rank': 15400,\n",
       "   'unitName': 'g'},\n",
       "  'foodNutrientDerivation': {'code': 'LCCS',\n",
       "   'description': 'Calculated from value per serving size measure',\n",
       "   'foodNutrientSource': {'id': 9,\n",
       "    'code': '12',\n",
       "    'description': \"Manufacturer's analytical; partial documentation\"}},\n",
       "  'amount': 0.0},\n",
       " {'type': 'FoodNutrient',\n",
       "  'id': 22804363,\n",
       "  'nutrient': {'id': 1258,\n",
       "   'number': '606',\n",
       "   'name': 'Fatty acids, total saturated',\n",
       "   'rank': 9700,\n",
       "   'unitName': 'g'},\n",
       "  'foodNutrientDerivation': {'code': 'LCCS',\n",
       "   'description': 'Calculated from value per serving size measure',\n",
       "   'foodNutrientSource': {'id': 9,\n",
       "    'code': '12',\n",
       "    'description': \"Manufacturer's analytical; partial documentation\"}},\n",
       "  'amount': 1.79}]"
      ]
     },
     "execution_count": 7,
     "metadata": {},
     "output_type": "execute_result"
    }
   ],
   "source": [
    "food_lod[0]['foodNutrients']"
   ]
  },
  {
   "cell_type": "code",
   "execution_count": 8,
   "metadata": {
    "deletable": false,
    "editable": false,
    "nbgrader": {
     "grade": false,
     "locked": true,
     "solution": false
    }
   },
   "outputs": [
    {
     "data": {
      "text/plain": [
       "dict_keys(['foodClass', 'description', 'foodNutrients', 'foodAttributes', 'modifiedDate', 'availableDate', 'marketCountry', 'brandOwner', 'brandName', 'gtinUpc', 'dataSource', 'ingredients', 'servingSize', 'servingSizeUnit', 'labelNutrients', 'packageWeight', 'brandedFoodCategory', 'fdcId', 'dataType', 'foodUpdateLog', 'publicationDate'])"
      ]
     },
     "execution_count": 8,
     "metadata": {},
     "output_type": "execute_result"
    }
   ],
   "source": [
    "food_lod[0].keys()"
   ]
  },
  {
   "cell_type": "code",
   "execution_count": 9,
   "metadata": {},
   "outputs": [
    {
     "data": {
      "text/plain": [
       "dict_keys(['foodClass', 'description', 'foodNutrients', 'foodAttributes', 'modifiedDate', 'availableDate', 'marketCountry', 'brandOwner', 'brandName', 'gtinUpc', 'dataSource', 'ingredients', 'servingSize', 'servingSizeUnit', 'labelNutrients', 'packageWeight', 'brandedFoodCategory', 'fdcId', 'dataType', 'foodUpdateLog', 'publicationDate'])"
      ]
     },
     "execution_count": 9,
     "metadata": {},
     "output_type": "execute_result"
    }
   ],
   "source": [
    "key_list = food_lod[0].keys()\n",
    "key_list"
   ]
  },
  {
   "cell_type": "code",
   "execution_count": 10,
   "metadata": {},
   "outputs": [
    {
     "data": {
      "text/plain": [
       "dict_keys(['type', 'id', 'nutrient', 'foodNutrientDerivation', 'amount'])"
      ]
     },
     "execution_count": 10,
     "metadata": {},
     "output_type": "execute_result"
    }
   ],
   "source": [
    "food_lod[0]['foodNutrients'][0].keys()"
   ]
  },
  {
   "cell_type": "markdown",
   "metadata": {
    "deletable": false,
    "editable": false,
    "nbgrader": {
     "grade": false,
     "locked": true,
     "solution": false
    }
   },
   "source": [
    "## Exercise 1 (1 Points): \n",
    "\n",
    "These look like some promising candidates for extracting information about individual foods. There appear to be some \"category\" related keys, which may be useful for grouping foods and comparing between groups as well. For further analysis, we want to know if the `dict`s are all of similar structure to the first one. A good start to analyzing this is determining which keys are common to all of them..."
   ]
  },
  {
   "cell_type": "markdown",
   "metadata": {
    "deletable": false,
    "editable": false,
    "nbgrader": {
     "grade": false,
     "locked": true,
     "solution": false
    },
    "tags": [
     "exercise_text_ex1"
    ]
   },
   "source": [
    "Given an input `lod`, which is a `list` of `dict`s complete the function `common_keys(lod)` to return a Python `set` of the keys which are common to all of the `dicts` in `lod`. "
   ]
  },
  {
   "cell_type": "code",
   "execution_count": 12,
   "metadata": {
    "collapsed": true,
    "tags": [
     "exercise_solution_ex1"
    ]
   },
   "outputs": [],
   "source": [
    "### Define common_keys\n",
    "def common_keys(lod):\n",
    "    \n",
    "    key_list = list(lod[0].keys())\n",
    "        \n",
    "    for key_ in key_list:\n",
    "        for dict_ in lod:\n",
    "            dict_list = list(dict_.keys())\n",
    "            if key_ not in dict_list:\n",
    "                key_list.remove(key_)\n",
    "    \n",
    "    for key_ in key_list:\n",
    "        for dict_ in lod:\n",
    "            dict_list = list(dict_.keys())\n",
    "            if key_ not in dict_list:\n",
    "                key_list.remove(key_)\n",
    "        \n",
    "    return set(key_list)"
   ]
  },
  {
   "cell_type": "markdown",
   "metadata": {
    "deletable": false,
    "editable": false,
    "nbgrader": {
     "grade": false,
     "locked": true,
     "solution": false
    },
    "tags": [
     "demo_output_md_ex1"
    ]
   },
   "source": [
    "<!-- Expected demo output text block -->\n",
    "The demo cell below should display the following output:\n",
    "```\n",
    "{'bar', 'qux'}\n",
    "```"
   ]
  },
  {
   "cell_type": "code",
   "execution_count": 13,
   "metadata": {
    "collapsed": true,
    "deletable": false,
    "editable": false,
    "nbgrader": {
     "grade": false,
     "locked": true,
     "solution": false
    },
    "tags": [
     "demo_inputs_ex1"
    ]
   },
   "outputs": [],
   "source": [
    "### define demo inputs\n",
    "demo_key_list_ex0 = ['foo', 'bar', 'baz', 'qux', 'tav', 'wot']\n",
    "demo_lod_ex0 = [\n",
    "    {k: 1 for k in demo_key_list_ex0[1:]},\n",
    "    {k: 1 for k in demo_key_list_ex0[:-1]},\n",
    "    {k: 1 for k in demo_key_list_ex0[1::2]}\n",
    "]\n"
   ]
  },
  {
   "cell_type": "code",
   "execution_count": 14,
   "metadata": {},
   "outputs": [
    {
     "data": {
      "text/plain": [
       "[{'bar': 1, 'baz': 1, 'qux': 1, 'tav': 1, 'wot': 1},\n",
       " {'foo': 1, 'bar': 1, 'baz': 1, 'qux': 1, 'tav': 1},\n",
       " {'bar': 1, 'qux': 1, 'wot': 1}]"
      ]
     },
     "execution_count": 14,
     "metadata": {},
     "output_type": "execute_result"
    }
   ],
   "source": [
    "demo_lod_ex0"
   ]
  },
  {
   "cell_type": "code",
   "execution_count": 15,
   "metadata": {},
   "outputs": [
    {
     "data": {
      "text/plain": [
       "['bar', 'baz', 'qux', 'tav', 'wot']"
      ]
     },
     "execution_count": 15,
     "metadata": {},
     "output_type": "execute_result"
    }
   ],
   "source": [
    "key_list = list(demo_lod_ex0[0].keys())\n",
    "key_list"
   ]
  },
  {
   "cell_type": "code",
   "execution_count": 16,
   "metadata": {
    "collapsed": true
   },
   "outputs": [],
   "source": [
    "for key_ in key_list:\n",
    "    for dict_ in demo_lod_ex0:\n",
    "        dict_list = list(dict_.keys())\n",
    "        if key_ not in dict_list:\n",
    "            key_list.remove(key_)\n",
    "\n",
    "for key_ in key_list:\n",
    "    for dict_ in demo_lod_ex0:\n",
    "        dict_list = list(dict_.keys())\n",
    "        if key_ not in dict_list:\n",
    "            key_list.remove(key_)"
   ]
  },
  {
   "cell_type": "code",
   "execution_count": 17,
   "metadata": {},
   "outputs": [
    {
     "data": {
      "text/plain": [
       "['bar', 'qux']"
      ]
     },
     "execution_count": 17,
     "metadata": {},
     "output_type": "execute_result"
    }
   ],
   "source": [
    "key_list"
   ]
  },
  {
   "cell_type": "code",
   "execution_count": 18,
   "metadata": {
    "deletable": false,
    "editable": false,
    "nbgrader": {
     "grade": false,
     "locked": true,
     "solution": false
    },
    "tags": [
     "demo_run_ex1"
    ]
   },
   "outputs": [
    {
     "data": {
      "text/plain": [
       "{'bar', 'qux'}"
      ]
     },
     "execution_count": 18,
     "metadata": {},
     "output_type": "execute_result"
    }
   ],
   "source": [
    "### call demo funtion\n",
    "common_keys(demo_lod_ex0)"
   ]
  },
  {
   "cell_type": "code",
   "execution_count": 19,
   "metadata": {
    "collapsed": true
   },
   "outputs": [],
   "source": [
    "def common_keys(lod):\n",
    "    # Initialize a set with the keys from the first dictionary\n",
    "    common_keys_set = set(lod[0].keys())\n",
    "\n",
    "    # Iterate through the dictionaries starting from the second one\n",
    "    for d in lod:\n",
    "        # Update the set of common keys by taking the intersection with the keys of the current dictionary\n",
    "        common_keys_set.intersection_update(d.keys())\n",
    "\n",
    "    # Convert the set of common keys to a list and return it\n",
    "    return common_keys_set"
   ]
  },
  {
   "cell_type": "code",
   "execution_count": 20,
   "metadata": {
    "collapsed": true
   },
   "outputs": [],
   "source": [
    "def common_keys(lod):\n",
    "    # Initialize a set with the keys from the first dictionary\n",
    "    common_keys_set = set(lod[0].keys())\n",
    "\n",
    "    # Iterate through the dictionaries starting from the second one\n",
    "    for d in lod:\n",
    "        # Update the set of common keys by taking the intersection with the keys of the current dictionary\n",
    "        common_keys_set = common_keys_set & d.keys()\n",
    "\n",
    "    # Convert the set of common keys to a list and return it\n",
    "    return common_keys_set"
   ]
  },
  {
   "cell_type": "markdown",
   "metadata": {},
   "source": [
    "common_keys_set.intersection_update(...): The intersection_update method is called on the common_keys_set. This method is used to update the set in-place (i.e., it modifies the set itself) by keeping only the elements that are common between the set and the iterable provided as an argument.\n",
    "\n",
    "In our case, common_keys_set.intersection_update(d.keys()) means that we want to update the common_keys_set by keeping only the keys that are common between the current keys in common_keys_set and the keys in d.keys().\n",
    "\n",
    "For example, if common_keys_set initially contains {'qux', 'bar', 'baz'} and d.keys() contains {'bar', 'qux', 'tav'}, after this operation, common_keys_set will be updated to contain {'qux', 'bar'} because those are the common keys between the two sets."
   ]
  },
  {
   "cell_type": "markdown",
   "metadata": {
    "deletable": false,
    "editable": false,
    "nbgrader": {
     "grade": false,
     "locked": true,
     "solution": false
    }
   },
   "source": [
    "<!-- Test Cell Boilerplate -->\n",
    "The cell below will test your solution for Exercise 1. The testing variables will be available for debugging under the following names in a dictionary format.\n",
    "- `input_vars` - Input variables for your solution. \n",
    "- `original_input_vars` - Copy of input variables from prior to running your solution. These _should_ be the same as `input_vars` - otherwise the inputs were modified by your solution.\n",
    "- `returned_output_vars` - Outputs returned by your solution.\n",
    "- `true_output_vars` - The expected output. This _should_ \"match\" `returned_output_vars` based on the question requirements - otherwise, your solution is not returning the correct output. "
   ]
  },
  {
   "cell_type": "code",
   "execution_count": 21,
   "metadata": {
    "deletable": false,
    "editable": false,
    "nbgrader": {
     "grade": true,
     "grade_id": "ex1_test",
     "locked": true,
     "points": "1",
     "solution": false
    },
    "scrolled": true
   },
   "outputs": [
    {
     "name": "stdout",
     "output_type": "stream",
     "text": [
      "initializing tester_fw.tester_6040\n",
      "Passed! Please submit.\n"
     ]
    }
   ],
   "source": [
    "### test_cell_ex1\n",
    "\n",
    "###\n",
    "### AUTOGRADER TEST - DO NOT REMOVE\n",
    "###\n",
    "\n",
    "from tester_fw.testers import Tester_ex1\n",
    "tester = Tester_ex1()\n",
    "for _ in range(20):\n",
    "    try:\n",
    "        tester.run_test(common_keys)\n",
    "        (input_vars, original_input_vars, returned_output_vars, true_output_vars) = tester.get_test_vars()\n",
    "    except:\n",
    "        (input_vars, original_input_vars, returned_output_vars, true_output_vars) = tester.get_test_vars()\n",
    "        raise\n",
    "\n",
    "###\n",
    "### AUTOGRADER TEST - DO NOT REMOVE\n",
    "###\n",
    "print('Passed! Please submit.')"
   ]
  },
  {
   "cell_type": "markdown",
   "metadata": {},
   "source": [
    "---"
   ]
  },
  {
   "cell_type": "markdown",
   "metadata": {
    "deletable": false,
    "editable": false,
    "nbgrader": {
     "grade": false,
     "locked": true,
     "solution": false
    }
   },
   "source": [
    "Even if your solution was incorrect or you skipped this exercise, run this cell to see the expected output of a call to `common_keys(food_lod)`."
   ]
  },
  {
   "cell_type": "code",
   "execution_count": 22,
   "metadata": {
    "collapsed": true,
    "deletable": false,
    "editable": false,
    "nbgrader": {
     "grade": false,
     "locked": true,
     "solution": false
    }
   },
   "outputs": [],
   "source": [
    "### Loading results\n",
    "import pickle\n",
    "import os\n",
    "path = './resource/asnlib/publicdata/ex1.pkl'\n",
    "if not os.path.exists(path):\n",
    "    with open(path, 'wb') as file:\n",
    "        pickle.dump(common_keys(food_lod), file)\n",
    "with open(path, 'rb') as file:\n",
    "    food_keys = pickle.load(file)"
   ]
  },
  {
   "cell_type": "markdown",
   "metadata": {
    "deletable": false,
    "editable": false,
    "nbgrader": {
     "grade": false,
     "locked": true,
     "solution": false
    }
   },
   "source": [
    "## Exercise 2 (4 Points): \n",
    "For our analysis, we are interested in the nutritional content and ingredients contained in each food. Additionally we would like to group foods by the categories given. The keys of interest are 'description', 'ingredients', 'labelNutrients', and 'brandedFoodCategory'."
   ]
  },
  {
   "cell_type": "code",
   "execution_count": 24,
   "metadata": {},
   "outputs": [
    {
     "data": {
      "text/plain": [
       "{'foodClass': 'Branded',\n",
       " 'description': 'KETTLE COOKED POTATO CHIPS, PINK HIMALAYAN SALT & RED WINE VINEGAR',\n",
       " 'foodNutrients': [{'type': 'FoodNutrient',\n",
       "   'id': 22804349,\n",
       "   'nutrient': {'id': 1003,\n",
       "    'number': '203',\n",
       "    'name': 'Protein',\n",
       "    'rank': 600,\n",
       "    'unitName': 'g'},\n",
       "   'foodNutrientDerivation': {'code': 'LCCS',\n",
       "    'description': 'Calculated from value per serving size measure',\n",
       "    'foodNutrientSource': {'id': 9,\n",
       "     'code': '12',\n",
       "     'description': \"Manufacturer's analytical; partial documentation\"}},\n",
       "   'amount': 7.14},\n",
       "  {'type': 'FoodNutrient',\n",
       "   'id': 22804350,\n",
       "   'nutrient': {'id': 1004,\n",
       "    'number': '204',\n",
       "    'name': 'Total lipid (fat)',\n",
       "    'rank': 800,\n",
       "    'unitName': 'g'},\n",
       "   'foodNutrientDerivation': {'code': 'LCCS',\n",
       "    'description': 'Calculated from value per serving size measure',\n",
       "    'foodNutrientSource': {'id': 9,\n",
       "     'code': '12',\n",
       "     'description': \"Manufacturer's analytical; partial documentation\"}},\n",
       "   'amount': 25.0},\n",
       "  {'type': 'FoodNutrient',\n",
       "   'id': 22804351,\n",
       "   'nutrient': {'id': 1005,\n",
       "    'number': '205',\n",
       "    'name': 'Carbohydrate, by difference',\n",
       "    'rank': 1110,\n",
       "    'unitName': 'g'},\n",
       "   'foodNutrientDerivation': {'code': 'LCCS',\n",
       "    'description': 'Calculated from value per serving size measure',\n",
       "    'foodNutrientSource': {'id': 9,\n",
       "     'code': '12',\n",
       "     'description': \"Manufacturer's analytical; partial documentation\"}},\n",
       "   'amount': 60.7},\n",
       "  {'type': 'FoodNutrient',\n",
       "   'id': 22804352,\n",
       "   'nutrient': {'id': 1008,\n",
       "    'number': '208',\n",
       "    'name': 'Energy',\n",
       "    'rank': 300,\n",
       "    'unitName': 'kcal'},\n",
       "   'foodNutrientDerivation': {'code': 'LCCS',\n",
       "    'description': 'Calculated from value per serving size measure',\n",
       "    'foodNutrientSource': {'id': 9,\n",
       "     'code': '12',\n",
       "     'description': \"Manufacturer's analytical; partial documentation\"}},\n",
       "   'amount': 500},\n",
       "  {'type': 'FoodNutrient',\n",
       "   'id': 22804353,\n",
       "   'nutrient': {'id': 2000,\n",
       "    'number': '269',\n",
       "    'name': 'Sugars, total including NLEA',\n",
       "    'rank': 1510,\n",
       "    'unitName': 'g'},\n",
       "   'foodNutrientDerivation': {'code': 'LCCS',\n",
       "    'description': 'Calculated from value per serving size measure',\n",
       "    'foodNutrientSource': {'id': 9,\n",
       "     'code': '12',\n",
       "     'description': \"Manufacturer's analytical; partial documentation\"}},\n",
       "   'amount': 0.0},\n",
       "  {'type': 'FoodNutrient',\n",
       "   'id': 22804354,\n",
       "   'nutrient': {'id': 1079,\n",
       "    'number': '291',\n",
       "    'name': 'Fiber, total dietary',\n",
       "    'rank': 1200,\n",
       "    'unitName': 'g'},\n",
       "   'foodNutrientDerivation': {'code': 'LCSL',\n",
       "    'description': 'Calculated from a less than value per serving size measure',\n",
       "    'foodNutrientSource': {'id': 9,\n",
       "     'code': '12',\n",
       "     'description': \"Manufacturer's analytical; partial documentation\"}},\n",
       "   'amount': 3.6},\n",
       "  {'type': 'FoodNutrient',\n",
       "   'id': 22804355,\n",
       "   'nutrient': {'id': 1087,\n",
       "    'number': '301',\n",
       "    'name': 'Calcium, Ca',\n",
       "    'rank': 5300,\n",
       "    'unitName': 'mg'},\n",
       "   'foodNutrientDerivation': {'code': 'LCCD',\n",
       "    'description': 'Calculated from a daily value percentage per serving size measure',\n",
       "    'foodNutrientSource': {'id': 9,\n",
       "     'code': '12',\n",
       "     'description': \"Manufacturer's analytical; partial documentation\"}},\n",
       "   'amount': 0.0},\n",
       "  {'type': 'FoodNutrient',\n",
       "   'id': 22804356,\n",
       "   'nutrient': {'id': 1089,\n",
       "    'number': '303',\n",
       "    'name': 'Iron, Fe',\n",
       "    'rank': 5400,\n",
       "    'unitName': 'mg'},\n",
       "   'foodNutrientDerivation': {'code': 'LCCS',\n",
       "    'description': 'Calculated from value per serving size measure',\n",
       "    'foodNutrientSource': {'id': 9,\n",
       "     'code': '12',\n",
       "     'description': \"Manufacturer's analytical; partial documentation\"}},\n",
       "   'amount': 1.43},\n",
       "  {'type': 'FoodNutrient',\n",
       "   'id': 22804357,\n",
       "   'nutrient': {'id': 1092,\n",
       "    'number': '306',\n",
       "    'name': 'Potassium, K',\n",
       "    'rank': 5700,\n",
       "    'unitName': 'mg'},\n",
       "   'foodNutrientDerivation': {'code': 'LCCS',\n",
       "    'description': 'Calculated from value per serving size measure',\n",
       "    'foodNutrientSource': {'id': 9,\n",
       "     'code': '12',\n",
       "     'description': \"Manufacturer's analytical; partial documentation\"}},\n",
       "   'amount': 1140.0},\n",
       "  {'type': 'FoodNutrient',\n",
       "   'id': 22804358,\n",
       "   'nutrient': {'id': 1093,\n",
       "    'number': '307',\n",
       "    'name': 'Sodium, Na',\n",
       "    'rank': 5800,\n",
       "    'unitName': 'mg'},\n",
       "   'foodNutrientDerivation': {'code': 'LCCS',\n",
       "    'description': 'Calculated from value per serving size measure',\n",
       "    'foodNutrientSource': {'id': 9,\n",
       "     'code': '12',\n",
       "     'description': \"Manufacturer's analytical; partial documentation\"}},\n",
       "   'amount': 500},\n",
       "  {'type': 'FoodNutrient',\n",
       "   'id': 22804359,\n",
       "   'nutrient': {'id': 1110,\n",
       "    'number': '324',\n",
       "    'name': 'Vitamin D (D2 + D3), International Units',\n",
       "    'rank': 8650,\n",
       "    'unitName': 'IU'},\n",
       "   'foodNutrientDerivation': {'code': 'LCCD',\n",
       "    'description': 'Calculated from a daily value percentage per serving size measure',\n",
       "    'foodNutrientSource': {'id': 9,\n",
       "     'code': '12',\n",
       "     'description': \"Manufacturer's analytical; partial documentation\"}},\n",
       "   'amount': 0.0},\n",
       "  {'type': 'FoodNutrient',\n",
       "   'id': 22804360,\n",
       "   'nutrient': {'id': 1235,\n",
       "    'number': '539',\n",
       "    'name': 'Sugars, added',\n",
       "    'rank': 1540,\n",
       "    'unitName': 'g'},\n",
       "   'foodNutrientDerivation': {'code': 'LCCD',\n",
       "    'description': 'Calculated from a daily value percentage per serving size measure',\n",
       "    'foodNutrientSource': {'id': 9,\n",
       "     'code': '12',\n",
       "     'description': \"Manufacturer's analytical; partial documentation\"}},\n",
       "   'amount': 0.0},\n",
       "  {'type': 'FoodNutrient',\n",
       "   'id': 22804361,\n",
       "   'nutrient': {'id': 1253,\n",
       "    'number': '601',\n",
       "    'name': 'Cholesterol',\n",
       "    'rank': 15700,\n",
       "    'unitName': 'mg'},\n",
       "   'foodNutrientDerivation': {'code': 'LCCD',\n",
       "    'description': 'Calculated from a daily value percentage per serving size measure',\n",
       "    'foodNutrientSource': {'id': 9,\n",
       "     'code': '12',\n",
       "     'description': \"Manufacturer's analytical; partial documentation\"}},\n",
       "   'amount': 0.0},\n",
       "  {'type': 'FoodNutrient',\n",
       "   'id': 22804362,\n",
       "   'nutrient': {'id': 1257,\n",
       "    'number': '605',\n",
       "    'name': 'Fatty acids, total trans',\n",
       "    'rank': 15400,\n",
       "    'unitName': 'g'},\n",
       "   'foodNutrientDerivation': {'code': 'LCCS',\n",
       "    'description': 'Calculated from value per serving size measure',\n",
       "    'foodNutrientSource': {'id': 9,\n",
       "     'code': '12',\n",
       "     'description': \"Manufacturer's analytical; partial documentation\"}},\n",
       "   'amount': 0.0},\n",
       "  {'type': 'FoodNutrient',\n",
       "   'id': 22804363,\n",
       "   'nutrient': {'id': 1258,\n",
       "    'number': '606',\n",
       "    'name': 'Fatty acids, total saturated',\n",
       "    'rank': 9700,\n",
       "    'unitName': 'g'},\n",
       "   'foodNutrientDerivation': {'code': 'LCCS',\n",
       "    'description': 'Calculated from value per serving size measure',\n",
       "    'foodNutrientSource': {'id': 9,\n",
       "     'code': '12',\n",
       "     'description': \"Manufacturer's analytical; partial documentation\"}},\n",
       "   'amount': 1.79}],\n",
       " 'foodAttributes': [],\n",
       " 'modifiedDate': '9/6/2018',\n",
       " 'availableDate': '9/6/2018',\n",
       " 'marketCountry': 'United States',\n",
       " 'brandOwner': 'Cape Cod Potato Chips Inc.',\n",
       " 'brandName': 'CAPE COD',\n",
       " 'gtinUpc': '020685002434',\n",
       " 'dataSource': 'LI',\n",
       " 'ingredients': 'POTATOES, VEGETABLE OIL (CONTAINS ONE OR MORE OF THE FOLLOWING: CANOLA OIL, SAFFLOWER OIL AND/OR SUNFLOWER OIL), MALTODEXTRIN, HIMALAYAN SALT, RED WINE VINEGAR, CITRIC ACID, SUGAR, WHITE DISTILLED VINEGAR, NATURAL FLAVOR.',\n",
       " 'servingSize': 28,\n",
       " 'servingSizeUnit': 'g',\n",
       " 'labelNutrients': {'fat': {'value': 7.0},\n",
       "  'saturatedFat': {'value': 0.501},\n",
       "  'transFat': {'value': 0.0},\n",
       "  'cholesterol': {'value': 0.0},\n",
       "  'sodium': {'value': 140},\n",
       "  'carbohydrates': {'value': 17.0},\n",
       "  'fiber': {'value': 1.01},\n",
       "  'sugars': {'value': 0.0},\n",
       "  'protein': {'value': 2.0},\n",
       "  'calcium': {'value': 0.0},\n",
       "  'iron': {'value': 0.4},\n",
       "  'potassium': {'value': 319},\n",
       "  'addedSugar': {'value': 0.0},\n",
       "  'calories': {'value': 140}},\n",
       " 'packageWeight': '6.5 oz/184 g',\n",
       " 'brandedFoodCategory': 'Chips, Pretzels & Snacks',\n",
       " 'fdcId': 1953579,\n",
       " 'dataType': 'Branded',\n",
       " 'foodUpdateLog': [{'foodClass': 'Branded',\n",
       "   'description': 'KETTLE COOKED POTATO CHIPS, PINK HIMALAYAN SALT & RED WINE VINEGAR',\n",
       "   'foodAttributes': [{'id': 2109377,\n",
       "     'name': 'Nutrient Added',\n",
       "     'value': '5',\n",
       "     'foodAttributeType': {'id': 998}},\n",
       "    {'id': 2109378,\n",
       "     'name': 'Nutrient Updated',\n",
       "     'value': '4',\n",
       "     'foodAttributeType': {'id': 998}},\n",
       "    {'id': 2109379,\n",
       "     'name': 'Description',\n",
       "     'value': '2',\n",
       "     'foodAttributeType': {'id': 998}}],\n",
       "   'fdcId': 1953579,\n",
       "   'dataType': 'Branded',\n",
       "   'publicationDate': '7/29/2021'},\n",
       "  {'foodClass': 'Branded',\n",
       "   'description': 'KETTLE COOKED POTATO CHIPS',\n",
       "   'foodAttributes': [{'id': 1730511,\n",
       "     'name': 'Added Brand/Sub Brand Information',\n",
       "     'value': '10',\n",
       "     'foodAttributeType': {'id': 998}}],\n",
       "   'fdcId': 1672556,\n",
       "   'dataType': 'Branded',\n",
       "   'publicationDate': '3/19/2021'},\n",
       "  {'foodClass': 'Branded',\n",
       "   'description': 'KETTLE COOKED POTATO CHIPS',\n",
       "   'foodAttributes': [{'id': 1361522,\n",
       "     'name': 'Added Brand/Sub Brand Information',\n",
       "     'value': '10',\n",
       "     'foodAttributeType': {'id': 998}}],\n",
       "   'fdcId': 1380329,\n",
       "   'dataType': 'Branded',\n",
       "   'publicationDate': '2/26/2021'},\n",
       "  {'foodClass': 'Branded',\n",
       "   'description': 'KETTLE COOKED POTATO CHIPS',\n",
       "   'foodAttributes': [],\n",
       "   'fdcId': 590107,\n",
       "   'dataType': 'Branded',\n",
       "   'publicationDate': '4/1/2019'}],\n",
       " 'publicationDate': '7/29/2021'}"
      ]
     },
     "execution_count": 24,
     "metadata": {},
     "output_type": "execute_result"
    }
   ],
   "source": [
    "food_lod[0]"
   ]
  },
  {
   "cell_type": "code",
   "execution_count": 25,
   "metadata": {},
   "outputs": [
    {
     "data": {
      "text/plain": [
       "'POTATOES, VEGETABLE OIL (CONTAINS ONE OR MORE OF THE FOLLOWING: CANOLA OIL, SAFFLOWER OIL AND/OR SUNFLOWER OIL), MALTODEXTRIN, HIMALAYAN SALT, RED WINE VINEGAR, CITRIC ACID, SUGAR, WHITE DISTILLED VINEGAR, NATURAL FLAVOR.'"
      ]
     },
     "execution_count": 25,
     "metadata": {},
     "output_type": "execute_result"
    }
   ],
   "source": [
    "food_lod[0]['ingredients']"
   ]
  },
  {
   "cell_type": "code",
   "execution_count": 26,
   "metadata": {},
   "outputs": [
    {
     "data": {
      "text/plain": [
       "{'fat': {'value': 7.0},\n",
       " 'saturatedFat': {'value': 0.501},\n",
       " 'transFat': {'value': 0.0},\n",
       " 'cholesterol': {'value': 0.0},\n",
       " 'sodium': {'value': 140},\n",
       " 'carbohydrates': {'value': 17.0},\n",
       " 'fiber': {'value': 1.01},\n",
       " 'sugars': {'value': 0.0},\n",
       " 'protein': {'value': 2.0},\n",
       " 'calcium': {'value': 0.0},\n",
       " 'iron': {'value': 0.4},\n",
       " 'potassium': {'value': 319},\n",
       " 'addedSugar': {'value': 0.0},\n",
       " 'calories': {'value': 140}}"
      ]
     },
     "execution_count": 26,
     "metadata": {},
     "output_type": "execute_result"
    }
   ],
   "source": [
    "food_lod[0]['labelNutrients']"
   ]
  },
  {
   "cell_type": "code",
   "execution_count": 27,
   "metadata": {},
   "outputs": [
    {
     "data": {
      "text/plain": [
       "'Chips, Pretzels & Snacks'"
      ]
     },
     "execution_count": 27,
     "metadata": {},
     "output_type": "execute_result"
    }
   ],
   "source": [
    "food_lod[0]['brandedFoodCategory']"
   ]
  },
  {
   "cell_type": "code",
   "execution_count": 23,
   "metadata": {
    "deletable": false,
    "editable": false,
    "nbgrader": {
     "grade": false,
     "locked": true,
     "solution": false
    }
   },
   "outputs": [
    {
     "data": {
      "text/plain": [
       "{'description': 'KETTLE COOKED POTATO CHIPS, PINK HIMALAYAN SALT & RED WINE VINEGAR',\n",
       " 'ingredients': 'POTATOES, VEGETABLE OIL (CONTAINS ONE OR MORE OF THE FOLLOWING: CANOLA OIL, SAFFLOWER OIL AND/OR SUNFLOWER OIL), MALTODEXTRIN, HIMALAYAN SALT, RED WINE VINEGAR, CITRIC ACID, SUGAR, WHITE DISTILLED VINEGAR, NATURAL FLAVOR.',\n",
       " 'labelNutrients': {'fat': {'value': 7.0},\n",
       "  'saturatedFat': {'value': 0.501},\n",
       "  'transFat': {'value': 0.0},\n",
       "  'cholesterol': {'value': 0.0},\n",
       "  'sodium': {'value': 140},\n",
       "  'carbohydrates': {'value': 17.0},\n",
       "  'fiber': {'value': 1.01},\n",
       "  'sugars': {'value': 0.0},\n",
       "  'protein': {'value': 2.0},\n",
       "  'calcium': {'value': 0.0},\n",
       "  'iron': {'value': 0.4},\n",
       "  'potassium': {'value': 319},\n",
       "  'addedSugar': {'value': 0.0},\n",
       "  'calories': {'value': 140}},\n",
       " 'brandedFoodCategory': 'Chips, Pretzels & Snacks'}"
      ]
     },
     "execution_count": 23,
     "metadata": {},
     "output_type": "execute_result"
    }
   ],
   "source": [
    "keys_of_interest = {'description', 'ingredients', 'labelNutrients', 'brandedFoodCategory'}\n",
    "{k:v for k, v in food_lod[0].items() if k in keys_of_interest}"
   ]
  },
  {
   "cell_type": "markdown",
   "metadata": {
    "deletable": false,
    "editable": false,
    "nbgrader": {
     "grade": false,
     "locked": true,
     "solution": false
    },
    "tags": [
     "exercise_text_ex2"
    ]
   },
   "source": [
    "<!-- Exercise text block -->\n",
    "Define `extract_basic_data` to meet the following requirements.\n",
    "Given a `list` of `dict`s, `lod`, create a **new** `list` of `dict`s called `basic_data`. For each `dict` in `lod`, there should be a corresponding `dict` in `basic_data` with the following key/value pairs:\n",
    "- `'description'` - `str` associated with `'description'` in the `lod` `dict`.\n",
    "- `'list_of_ingredients'` - `list` of all the ingredients associated with `'ingredients'` in the `lod` `dict`. *See \"Notes on ingredients\" below*.\n",
    "- `'raw_nutrients'` - `dict` mapping the nutrient name (`str`) to it's amount (`float`). *See \"Notes on nutrients\" below*.\n",
    "- `'category'` - `str` associated with `'brandedFoodCategory'` in the `lod` `dict`.\n",
    "\n",
    "**Notes on ingredients**\n",
    "- For each `dict`, `d` in `lod` the **ingredients** are stored as a `str` associated with the `'ingredients'` key.  \n",
    "- Sometimes there is extra information wrapped in parentheses. We do not want to include this information in our analysis, so any text wrapped in `()` (and the parentheses themselves) should be left out of further processing. There may be **multiple** sets of parentheses in an `ingredients` string.\n",
    "  - You can assume that there are not **nested** parentheses. For example strings of this form **will not** occur - `'item, item1 (level 1 (another, level)), item2.'`\n",
    "  - The `re` module may be helpful here.\n",
    "  - Note that there can be _anything_ in between the parentheses and all of that text should be discarded. For example `'ingredient 1, ingredient 2 (ingredient 2.1, ingredient 2.2, [ingredient 2.2.1, ingredient 2.2.2]), ingredient 3.'` should result in just `['ingredient 1', 'ingredient 2', 'ingredient 3']` as it's associated `'list_of_ingredients'`.\n",
    "- The ingredient string ends in `'.'`, which should also be left out of further processing.  \n",
    "- The individual ingredients are separated by `', '`.\n",
    "- The ingredients in `basic_data[i]['list_of_ingredients']` should not have any leading or trailing whitespace.\n",
    "\n",
    "**Notes on nutrients**\n",
    "- For each `dict`, `d`, in `lod`, the nutrients are associated with the `'labelNutrients'` key.\n",
    "- `d['labelNutrients']` is a dictionary of the form `{'protein': {'value': 10}, 'riboflavin': {'value': 2}}`, i.e. mapping the nutrient name to a dictionary with one key (`'value'`) which is mapped to the amount of that nutrient present in a particular food."
   ]
  },
  {
   "cell_type": "code",
   "execution_count": 52,
   "metadata": {
    "collapsed": true,
    "deletable": false,
    "editable": false,
    "nbgrader": {
     "grade": false,
     "locked": true,
     "solution": false
    },
    "tags": [
     "demo_inputs_ex2"
    ]
   },
   "outputs": [],
   "source": [
    "### define demo inputs\n",
    "keys_of_interest = {'description', 'ingredients', 'labelNutrients', 'brandedFoodCategory'}\n",
    "demo_lod_ex1 = [{k:v for k, v in d.items() if k in keys_of_interest} for d in food_lod[:2]]"
   ]
  },
  {
   "cell_type": "code",
   "execution_count": 53,
   "metadata": {
    "scrolled": true
   },
   "outputs": [
    {
     "data": {
      "text/plain": [
       "[{'description': 'KETTLE COOKED POTATO CHIPS, PINK HIMALAYAN SALT & RED WINE VINEGAR',\n",
       "  'ingredients': 'POTATOES, VEGETABLE OIL (CONTAINS ONE OR MORE OF THE FOLLOWING: CANOLA OIL, SAFFLOWER OIL AND/OR SUNFLOWER OIL), MALTODEXTRIN, HIMALAYAN SALT, RED WINE VINEGAR, CITRIC ACID, SUGAR, WHITE DISTILLED VINEGAR, NATURAL FLAVOR.',\n",
       "  'labelNutrients': {'fat': {'value': 7.0},\n",
       "   'saturatedFat': {'value': 0.501},\n",
       "   'transFat': {'value': 0.0},\n",
       "   'cholesterol': {'value': 0.0},\n",
       "   'sodium': {'value': 140},\n",
       "   'carbohydrates': {'value': 17.0},\n",
       "   'fiber': {'value': 1.01},\n",
       "   'sugars': {'value': 0.0},\n",
       "   'protein': {'value': 2.0},\n",
       "   'calcium': {'value': 0.0},\n",
       "   'iron': {'value': 0.4},\n",
       "   'potassium': {'value': 319},\n",
       "   'addedSugar': {'value': 0.0},\n",
       "   'calories': {'value': 140}},\n",
       "  'brandedFoodCategory': 'Chips, Pretzels & Snacks'},\n",
       " {'description': 'TOMATO BASIL PASTA SAUCE',\n",
       "  'ingredients': 'TOMATO PUREE (WATER, TOMATO PASTE), TOMATOES, SUGAR, SOYBEAN OIL, SALT, DRIED ONIONS, DRIED GARLIC, SPICES, LEMON JUICE CONCENTRATE, ROMANO CHEESE (CULTURED PART-SKIM MILK, SALT, ENZYMES).',\n",
       "  'labelNutrients': {'fat': {'value': 2.0},\n",
       "   'sodium': {'value': 580},\n",
       "   'carbohydrates': {'value': 17.0},\n",
       "   'fiber': {'value': 2.94},\n",
       "   'sugars': {'value': 10.0},\n",
       "   'protein': {'value': 3.0},\n",
       "   'calcium': {'value': 29.4},\n",
       "   'iron': {'value': 0.998},\n",
       "   'potassium': {'value': 750},\n",
       "   'addedSugar': {'value': 2.05},\n",
       "   'calories': {'value': 89.6}},\n",
       "  'brandedFoodCategory': 'Prepared Pasta & Pizza Sauces'}]"
      ]
     },
     "execution_count": 53,
     "metadata": {},
     "output_type": "execute_result"
    }
   ],
   "source": [
    "demo_lod_ex1 "
   ]
  },
  {
   "cell_type": "code",
   "execution_count": 41,
   "metadata": {},
   "outputs": [
    {
     "name": "stdout",
     "output_type": "stream",
     "text": [
      "{'description': 'KETTLE COOKED POTATO CHIPS, PINK HIMALAYAN SALT & RED WINE VINEGAR', 'ingredients': 'POTATOES, VEGETABLE OIL (CONTAINS ONE OR MORE OF THE FOLLOWING: CANOLA OIL, SAFFLOWER OIL AND/OR SUNFLOWER OIL), MALTODEXTRIN, HIMALAYAN SALT, RED WINE VINEGAR, CITRIC ACID, SUGAR, WHITE DISTILLED VINEGAR, NATURAL FLAVOR.', 'labelNutrients': {'fat': {'value': 7.0}, 'saturatedFat': {'value': 0.501}, 'transFat': {'value': 0.0}, 'cholesterol': {'value': 0.0}, 'sodium': {'value': 140}, 'carbohydrates': {'value': 17.0}, 'fiber': {'value': 1.01}, 'sugars': {'value': 0.0}, 'protein': {'value': 2.0}, 'calcium': {'value': 0.0}, 'iron': {'value': 0.4}, 'potassium': {'value': 319}, 'addedSugar': {'value': 0.0}, 'calories': {'value': 140}}, 'brandedFoodCategory': 'Chips, Pretzels & Snacks'}\n",
      " \n",
      "{'description': 'TOMATO BASIL PASTA SAUCE', 'ingredients': 'TOMATO PUREE (WATER, TOMATO PASTE), TOMATOES, SUGAR, SOYBEAN OIL, SALT, DRIED ONIONS, DRIED GARLIC, SPICES, LEMON JUICE CONCENTRATE, ROMANO CHEESE (CULTURED PART-SKIM MILK, SALT, ENZYMES).', 'labelNutrients': {'fat': {'value': 2.0}, 'sodium': {'value': 580}, 'carbohydrates': {'value': 17.0}, 'fiber': {'value': 2.94}, 'sugars': {'value': 10.0}, 'protein': {'value': 3.0}, 'calcium': {'value': 29.4}, 'iron': {'value': 0.998}, 'potassium': {'value': 750}, 'addedSugar': {'value': 2.05}, 'calories': {'value': 89.6}}, 'brandedFoodCategory': 'Prepared Pasta & Pizza Sauces'}\n",
      " \n"
     ]
    }
   ],
   "source": [
    "for dict in demo_lod_ex1:\n",
    "    print(dict)\n",
    "    print(\" \")"
   ]
  },
  {
   "cell_type": "code",
   "execution_count": 42,
   "metadata": {
    "collapsed": true
   },
   "outputs": [],
   "source": [
    "import re"
   ]
  },
  {
   "cell_type": "code",
   "execution_count": 43,
   "metadata": {},
   "outputs": [
    {
     "data": {
      "text/plain": [
       "'POTATOES, VEGETABLE OIL (CONTAINS ONE OR MORE OF THE FOLLOWING: CANOLA OIL, SAFFLOWER OIL AND/OR SUNFLOWER OIL), MALTODEXTRIN, HIMALAYAN SALT, RED WINE VINEGAR, CITRIC ACID, SUGAR, WHITE DISTILLED VINEGAR, NATURAL FLAVOR.'"
      ]
     },
     "execution_count": 43,
     "metadata": {},
     "output_type": "execute_result"
    }
   ],
   "source": [
    "ingredients = demo_lod_ex1[0]['ingredients']\n",
    "ingredients"
   ]
  },
  {
   "cell_type": "code",
   "execution_count": 44,
   "metadata": {},
   "outputs": [
    {
     "data": {
      "text/plain": [
       "'POTATOES, VEGETABLE OIL , MALTODEXTRIN, HIMALAYAN SALT, RED WINE VINEGAR, CITRIC ACID, SUGAR, WHITE DISTILLED VINEGAR, NATURAL FLAVOR.'"
      ]
     },
     "execution_count": 44,
     "metadata": {},
     "output_type": "execute_result"
    }
   ],
   "source": [
    "pattern = r'\\(.*?\\)'\n",
    "\n",
    "ingredients = re.sub(pattern, '', ingredients)\n",
    "\n",
    "ingredients"
   ]
  },
  {
   "cell_type": "code",
   "execution_count": 45,
   "metadata": {},
   "outputs": [
    {
     "data": {
      "text/plain": [
       "'POTATOES, VEGETABLE OIL , MALTODEXTRIN, HIMALAYAN SALT, RED WINE VINEGAR, CITRIC ACID, SUGAR, WHITE DISTILLED VINEGAR, NATURAL FLAVOR'"
      ]
     },
     "execution_count": 45,
     "metadata": {},
     "output_type": "execute_result"
    }
   ],
   "source": [
    "ingredients = ingredients.strip()\n",
    "\n",
    "ingredients = ingredients[:-1]\n",
    "\n",
    "ingredients "
   ]
  },
  {
   "cell_type": "code",
   "execution_count": 71,
   "metadata": {},
   "outputs": [
    {
     "data": {
      "text/plain": [
       "{'fat': {'value': 7.0},\n",
       " 'saturatedFat': {'value': 0.501},\n",
       " 'transFat': {'value': 0.0},\n",
       " 'cholesterol': {'value': 0.0},\n",
       " 'sodium': {'value': 140},\n",
       " 'carbohydrates': {'value': 17.0},\n",
       " 'fiber': {'value': 1.01},\n",
       " 'sugars': {'value': 0.0},\n",
       " 'protein': {'value': 2.0},\n",
       " 'calcium': {'value': 0.0},\n",
       " 'iron': {'value': 0.4},\n",
       " 'potassium': {'value': 319},\n",
       " 'addedSugar': {'value': 0.0},\n",
       " 'calories': {'value': 140}}"
      ]
     },
     "execution_count": 71,
     "metadata": {},
     "output_type": "execute_result"
    }
   ],
   "source": [
    "nutrients = demo_lod_ex1[0]['labelNutrients']\n",
    "nutrients"
   ]
  },
  {
   "cell_type": "code",
   "execution_count": 73,
   "metadata": {},
   "outputs": [
    {
     "data": {
      "text/plain": [
       "{'fat': 7.0,\n",
       " 'saturatedFat': 0.501,\n",
       " 'transFat': 0.0,\n",
       " 'cholesterol': 0.0,\n",
       " 'sodium': 140,\n",
       " 'carbohydrates': 17.0,\n",
       " 'fiber': 1.01,\n",
       " 'sugars': 0.0,\n",
       " 'protein': 2.0,\n",
       " 'calcium': 0.0,\n",
       " 'iron': 0.4,\n",
       " 'potassium': 319,\n",
       " 'addedSugar': 0.0,\n",
       " 'calories': 140}"
      ]
     },
     "execution_count": 73,
     "metadata": {},
     "output_type": "execute_result"
    }
   ],
   "source": [
    "raw_nutrients = {}\n",
    "\n",
    "for key in nutrients.keys():\n",
    "    raw_nutrients[key] = nutrients[key]['value']\n",
    "\n",
    "raw_nutrients"
   ]
  },
  {
   "cell_type": "code",
   "execution_count": 62,
   "metadata": {},
   "outputs": [
    {
     "data": {
      "text/plain": [
       "[{'description': 'KETTLE COOKED POTATO CHIPS, PINK HIMALAYAN SALT & RED WINE VINEGAR',\n",
       "  'list_of_ingredients': ['POTATOES',\n",
       "   'VEGETABLE OIL',\n",
       "   'MALTODEXTRIN',\n",
       "   'HIMALAYAN SALT',\n",
       "   'RED WINE VINEGAR',\n",
       "   'CITRIC ACID',\n",
       "   'SUGAR',\n",
       "   'WHITE DISTILLED VINEGAR',\n",
       "   'NATURAL FLAVOR'],\n",
       "  'raw_nutrients': {'fat': {'value': 7.0},\n",
       "   'saturatedFat': {'value': 0.501},\n",
       "   'transFat': {'value': 0.0},\n",
       "   'cholesterol': {'value': 0.0},\n",
       "   'sodium': {'value': 140},\n",
       "   'carbohydrates': {'value': 17.0},\n",
       "   'fiber': {'value': 1.01},\n",
       "   'sugars': {'value': 0.0},\n",
       "   'protein': {'value': 2.0},\n",
       "   'calcium': {'value': 0.0},\n",
       "   'iron': {'value': 0.4},\n",
       "   'potassium': {'value': 319},\n",
       "   'addedSugar': {'value': 0.0},\n",
       "   'calories': {'value': 140}},\n",
       "  'category': 'Chips, Pretzels & Snacks'},\n",
       " {'description': 'TOMATO BASIL PASTA SAUCE',\n",
       "  'list_of_ingredients': ['TOMATO PUREE',\n",
       "   'TOMATOES',\n",
       "   'SUGAR',\n",
       "   'SOYBEAN OIL',\n",
       "   'SALT',\n",
       "   'DRIED ONIONS',\n",
       "   'DRIED GARLIC',\n",
       "   'SPICES',\n",
       "   'LEMON JUICE CONCENTRATE',\n",
       "   'ROMANO CHEESE'],\n",
       "  'raw_nutrients': {'fat': {'value': 2.0},\n",
       "   'sodium': {'value': 580},\n",
       "   'carbohydrates': {'value': 17.0},\n",
       "   'fiber': {'value': 2.94},\n",
       "   'sugars': {'value': 10.0},\n",
       "   'protein': {'value': 3.0},\n",
       "   'calcium': {'value': 29.4},\n",
       "   'iron': {'value': 0.998},\n",
       "   'potassium': {'value': 750},\n",
       "   'addedSugar': {'value': 2.05},\n",
       "   'calories': {'value': 89.6}},\n",
       "  'category': 'Prepared Pasta & Pizza Sauces'}]"
      ]
     },
     "execution_count": 62,
     "metadata": {},
     "output_type": "execute_result"
    }
   ],
   "source": [
    "import re\n",
    "\n",
    "basic_data = []\n",
    "\n",
    "for dict in demo_lod_ex1:\n",
    "    dict2 = {}\n",
    "    \n",
    "    # 'description'\n",
    "    dict2['description'] = dict['description']\n",
    "    \n",
    "    # 'list_of_ingredients'\n",
    "    ingredients = dict['ingredients']\n",
    "    \n",
    "    pattern = r'\\(.*?\\)'\n",
    "\n",
    "    ingredients = re.sub(pattern, '', ingredients)\n",
    "    \n",
    "    ingredients = ingredients.strip()\n",
    "\n",
    "    ingredients = ingredients[:-1]\n",
    "    \n",
    "    ingredients = ingredients.split(',')\n",
    "    \n",
    "    ingredients = [str.strip() for str in ingredients]\n",
    "    \n",
    "    dict2['list_of_ingredients']=ingredients\n",
    "    \n",
    "    # 'raw_nutrients'\n",
    "    dict2['raw_nutrients'] = dict['labelNutrients']\n",
    "    \n",
    "    # 'category'\n",
    "    dict2['category'] = dict['brandedFoodCategory']\n",
    "    \n",
    "    # append dict2 into basic_data\n",
    "    \n",
    "    basic_data.append(dict2)\n",
    "    \n",
    "basic_data"
   ]
  },
  {
   "cell_type": "code",
   "execution_count": 74,
   "metadata": {
    "collapsed": true,
    "nbgrader": {
     "grade": false,
     "locked": false,
     "solution": false
    },
    "tags": [
     "exercise_solution_ex2"
    ]
   },
   "outputs": [],
   "source": [
    "### Define extract_basic_data\n",
    "def extract_basic_data(lod):\n",
    "    import re\n",
    "\n",
    "    basic_data = []\n",
    "\n",
    "    for dict in lod:\n",
    "        \n",
    "        dict2 = {}\n",
    "\n",
    "        # 'description'\n",
    "        dict2['description'] = dict['description']\n",
    "\n",
    "        # 'list_of_ingredients'\n",
    "        ingredients = dict['ingredients']\n",
    "\n",
    "        pattern = r'\\(.*?\\)'\n",
    "\n",
    "        ingredients = re.sub(pattern, '', ingredients)\n",
    "\n",
    "        ingredients = ingredients.strip()\n",
    "\n",
    "        ingredients = ingredients[:-1]\n",
    "        \n",
    "        ingredients = ingredients.split(',')\n",
    "    \n",
    "        ingredients = [str.strip() for str in ingredients]\n",
    "\n",
    "        dict2['list_of_ingredients']=ingredients\n",
    "\n",
    "        # 'raw_nutrients'\n",
    "        raw_nutrients = {}\n",
    "\n",
    "        nutrients = dict['labelNutrients']\n",
    "        \n",
    "        for key in nutrients.keys():\n",
    "            raw_nutrients[key] = nutrients[key]['value']\n",
    "\n",
    "        dict2['raw_nutrients'] = raw_nutrients\n",
    "\n",
    "        # 'category'\n",
    "        dict2['category'] = dict['brandedFoodCategory']\n",
    "\n",
    "        # append dict2 into basic_data\n",
    "\n",
    "        basic_data.append(dict2)\n",
    "    \n",
    "    return basic_data\n"
   ]
  },
  {
   "cell_type": "markdown",
   "metadata": {
    "deletable": false,
    "editable": false,
    "nbgrader": {
     "grade": false,
     "locked": true,
     "solution": false
    },
    "tags": [
     "demo_output_md_ex2"
    ]
   },
   "source": [
    "<!-- Expected demo output text block -->\n",
    "The demo cell below should display the following output:\n",
    "```\n",
    "[{'description': 'KETTLE COOKED POTATO CHIPS, PINK HIMALAYAN SALT & RED WINE VINEGAR',\n",
    "  'list_of_ingredients': ['POTATOES',\n",
    "   'VEGETABLE OIL',\n",
    "   'MALTODEXTRIN',\n",
    "   'HIMALAYAN SALT',\n",
    "   'RED WINE VINEGAR',\n",
    "   'CITRIC ACID',\n",
    "   'SUGAR',\n",
    "   'WHITE DISTILLED VINEGAR',\n",
    "   'NATURAL FLAVOR'],\n",
    "  'raw_nutrients': {'fat': 7.0,\n",
    "   'saturatedFat': 0.501,\n",
    "   'transFat': 0.0,\n",
    "   'cholesterol': 0.0,\n",
    "   'sodium': 140.0,\n",
    "   'carbohydrates': 17.0,\n",
    "   'fiber': 1.01,\n",
    "   'sugars': 0.0,\n",
    "   'protein': 2.0,\n",
    "   'calcium': 0.0,\n",
    "   'iron': 0.4,\n",
    "   'potassium': 319.0,\n",
    "   'addedSugar': 0.0,\n",
    "   'calories': 140.0},\n",
    "  'category': 'Chips, Pretzels & Snacks'},\n",
    " {'description': 'TOMATO BASIL PASTA SAUCE',\n",
    "  'list_of_ingredients': ['TOMATO PUREE',\n",
    "   'TOMATOES',\n",
    "   'SUGAR',\n",
    "   'SOYBEAN OIL',\n",
    "   'SALT',\n",
    "   'DRIED ONIONS',\n",
    "   'DRIED GARLIC',\n",
    "   'SPICES',\n",
    "   'LEMON JUICE CONCENTRATE',\n",
    "   'ROMANO CHEESE'],\n",
    "  'raw_nutrients': {'fat': 2.0,\n",
    "   'sodium': 580.0,\n",
    "   'carbohydrates': 17.0,\n",
    "   'fiber': 2.94,\n",
    "   'sugars': 10.0,\n",
    "   'protein': 3.0,\n",
    "   'calcium': 29.4,\n",
    "   'iron': 0.998,\n",
    "   'potassium': 750.0,\n",
    "   'addedSugar': 2.05,\n",
    "   'calories': 89.6},\n",
    "  'category': 'Prepared Pasta & Pizza Sauces'}]\n",
    "```"
   ]
  },
  {
   "cell_type": "code",
   "execution_count": 75,
   "metadata": {
    "deletable": false,
    "editable": false,
    "nbgrader": {
     "grade": false,
     "locked": true,
     "solution": false
    },
    "tags": [
     "demo_run_ex2"
    ]
   },
   "outputs": [
    {
     "data": {
      "text/plain": [
       "[{'description': 'KETTLE COOKED POTATO CHIPS, PINK HIMALAYAN SALT & RED WINE VINEGAR',\n",
       "  'list_of_ingredients': ['POTATOES',\n",
       "   'VEGETABLE OIL',\n",
       "   'MALTODEXTRIN',\n",
       "   'HIMALAYAN SALT',\n",
       "   'RED WINE VINEGAR',\n",
       "   'CITRIC ACID',\n",
       "   'SUGAR',\n",
       "   'WHITE DISTILLED VINEGAR',\n",
       "   'NATURAL FLAVOR'],\n",
       "  'raw_nutrients': {'fat': 7.0,\n",
       "   'saturatedFat': 0.501,\n",
       "   'transFat': 0.0,\n",
       "   'cholesterol': 0.0,\n",
       "   'sodium': 140,\n",
       "   'carbohydrates': 17.0,\n",
       "   'fiber': 1.01,\n",
       "   'sugars': 0.0,\n",
       "   'protein': 2.0,\n",
       "   'calcium': 0.0,\n",
       "   'iron': 0.4,\n",
       "   'potassium': 319,\n",
       "   'addedSugar': 0.0,\n",
       "   'calories': 140},\n",
       "  'category': 'Chips, Pretzels & Snacks'},\n",
       " {'description': 'TOMATO BASIL PASTA SAUCE',\n",
       "  'list_of_ingredients': ['TOMATO PUREE',\n",
       "   'TOMATOES',\n",
       "   'SUGAR',\n",
       "   'SOYBEAN OIL',\n",
       "   'SALT',\n",
       "   'DRIED ONIONS',\n",
       "   'DRIED GARLIC',\n",
       "   'SPICES',\n",
       "   'LEMON JUICE CONCENTRATE',\n",
       "   'ROMANO CHEESE'],\n",
       "  'raw_nutrients': {'fat': 2.0,\n",
       "   'sodium': 580,\n",
       "   'carbohydrates': 17.0,\n",
       "   'fiber': 2.94,\n",
       "   'sugars': 10.0,\n",
       "   'protein': 3.0,\n",
       "   'calcium': 29.4,\n",
       "   'iron': 0.998,\n",
       "   'potassium': 750,\n",
       "   'addedSugar': 2.05,\n",
       "   'calories': 89.6},\n",
       "  'category': 'Prepared Pasta & Pizza Sauces'}]"
      ]
     },
     "execution_count": 75,
     "metadata": {},
     "output_type": "execute_result"
    }
   ],
   "source": [
    "### call demo funtion\n",
    "extract_basic_data(demo_lod_ex1)"
   ]
  },
  {
   "cell_type": "markdown",
   "metadata": {
    "deletable": false,
    "editable": false,
    "nbgrader": {
     "grade": false,
     "locked": true,
     "solution": false
    }
   },
   "source": [
    "<!-- Test Cell Boilerplate -->\n",
    "The cell below will test your solution for Exercise 2. The testing variables will be available for debugging under the following names in a dictionary format.\n",
    "- `input_vars` - Input variables for your solution. \n",
    "- `original_input_vars` - Copy of input variables from prior to running your solution. These _should_ be the same as `input_vars` - otherwise the inputs were modified by your solution.\n",
    "- `returned_output_vars` - Outputs returned by your solution.\n",
    "- `true_output_vars` - The expected output. This _should_ \"match\" `returned_output_vars` based on the question requirements - otherwise, your solution is not returning the correct output. "
   ]
  },
  {
   "cell_type": "code",
   "execution_count": 76,
   "metadata": {
    "deletable": false,
    "editable": false,
    "nbgrader": {
     "grade": true,
     "grade_id": "ex2_test",
     "locked": true,
     "points": "4",
     "solution": false
    }
   },
   "outputs": [
    {
     "name": "stdout",
     "output_type": "stream",
     "text": [
      "initializing tester_fw.tester_6040\n",
      "Passed! Please submit.\n"
     ]
    }
   ],
   "source": [
    "### test_cell_ex2\n",
    "\n",
    "###\n",
    "### AUTOGRADER TEST - DO NOT REMOVE\n",
    "###\n",
    "\n",
    "from tester_fw.testers import Tester_ex2\n",
    "tester = Tester_ex2()\n",
    "for _ in range(20):\n",
    "    try:\n",
    "        tester.run_test(extract_basic_data)\n",
    "        (input_vars, original_input_vars, returned_output_vars, true_output_vars) = tester.get_test_vars()\n",
    "    except:\n",
    "        (input_vars, original_input_vars, returned_output_vars, true_output_vars) = tester.get_test_vars()\n",
    "        raise\n",
    "\n",
    "###\n",
    "### AUTOGRADER TEST - DO NOT REMOVE\n",
    "###\n",
    "print('Passed! Please submit.')"
   ]
  },
  {
   "cell_type": "markdown",
   "metadata": {},
   "source": [
    "---"
   ]
  },
  {
   "cell_type": "markdown",
   "metadata": {},
   "source": [
    "# STOPPED HERE"
   ]
  },
  {
   "cell_type": "markdown",
   "metadata": {
    "deletable": false,
    "editable": false,
    "nbgrader": {
     "grade": false,
     "locked": true,
     "solution": false
    }
   },
   "source": [
    "Even if your solution was incorrect or you skipped this exercise, run this cell to see the expected output of a call to `extract_basic_data(food_lod)`."
   ]
  },
  {
   "cell_type": "code",
   "execution_count": null,
   "metadata": {
    "collapsed": true,
    "deletable": false,
    "editable": false,
    "nbgrader": {
     "grade": false,
     "locked": true,
     "solution": false
    }
   },
   "outputs": [],
   "source": [
    "### Loading results\n",
    "import pickle\n",
    "import os\n",
    "path = './resource/asnlib/publicdata/ex2.pkl'\n",
    "if not os.path.exists(path):\n",
    "    with open(path, 'wb') as file:\n",
    "        pickle.dump(extract_basic_data(food_lod), file)\n",
    "with open(path, 'rb') as file:\n",
    "    basic_data = pickle.load(file)"
   ]
  },
  {
   "cell_type": "markdown",
   "metadata": {
    "deletable": false,
    "editable": false,
    "nbgrader": {
     "grade": false,
     "locked": true,
     "solution": false
    }
   },
   "source": [
    "## Exercise 3 (1 Points): \n",
    "Our analysis requires that the foods have at least 3 listed ingredients and have amounts for nutrients: 'fat', 'protein', 'sodium', and 'carbohydrates'."
   ]
  },
  {
   "cell_type": "markdown",
   "metadata": {
    "deletable": false,
    "editable": false,
    "nbgrader": {
     "grade": false,
     "locked": true,
     "solution": false
    },
    "tags": [
     "exercise_text_ex3"
    ]
   },
   "source": [
    "Given `data`, a `list` of `dicts`, define `filter_basic_data(data)` to filter out unwanted records.\n",
    "- This function should return a **new** list containing the same `dicts` as `data` with the following exceptions.\n",
    "- You can assume that each `dict` in `data` will have `'list_of_ingredients` and `'raw_nutrients'` as keys and that the respective values for those keys are of type `list` and `dict`.\n",
    "- Any `dict` with fewer than 3 items in it's `'list_of_ingredients'` should not be included.\n",
    "- Any `dict`, `d`, where `d['raw_nutrients']` does not have **all** of `{'fat', 'protein', 'sodium', 'carbohydrates'}` as keys should not be included. "
   ]
  },
  {
   "cell_type": "code",
   "execution_count": null,
   "metadata": {
    "collapsed": true,
    "tags": [
     "exercise_solution_ex3"
    ]
   },
   "outputs": [],
   "source": [
    "### Define filter_basic_data\n",
    "def filter_basic_data(data):\n",
    "    ###\n",
    "    ### YOUR CODE HERE\n",
    "    ###\n"
   ]
  },
  {
   "cell_type": "markdown",
   "metadata": {
    "deletable": false,
    "editable": false,
    "nbgrader": {
     "grade": false,
     "locked": true,
     "solution": false
    },
    "tags": [
     "demo_output_md_ex3"
    ]
   },
   "source": [
    "<!-- Expected demo output text block -->\n",
    "The demo cell below should display the following output:\n",
    "```\n",
    "[{'list_of_ingredients': [1, 2, 'this ok', 'milk'],\n",
    "  'raw_nutrients': {'fat': 22,\n",
    "   'protein': 'caterpillar',\n",
    "   'carbohydrates': 5,\n",
    "   'sodium': 100,\n",
    "   'awesome sauce': 'this one should be kept'}}]\n",
    "```"
   ]
  },
  {
   "cell_type": "code",
   "execution_count": null,
   "metadata": {
    "collapsed": true,
    "deletable": false,
    "editable": false,
    "nbgrader": {
     "grade": false,
     "locked": true,
     "solution": false
    },
    "tags": [
     "demo_inputs_ex3"
    ]
   },
   "outputs": [],
   "source": [
    "### define demo inputs\n",
    "demo_data_ex3 = [\n",
    "    {\n",
    "        'list_of_ingredients': [1, 2, 'this ok', 'milk'],\n",
    "        'raw_nutrients': {\n",
    "            'fat':22, \n",
    "            'protein': 'caterpillar', \n",
    "            'carbohydrates': 5, \n",
    "            'sodium': 100, \n",
    "            'awesome sauce': 'this one should be kept'}\n",
    "    },\n",
    "    {\n",
    "        'list_of_ingredients': ['catfish', 2, 'cse6040', 'bicycle'],\n",
    "        'raw_nutrients': {\n",
    "            'fat':12, \n",
    "            'carbohydrates': 35, \n",
    "            'sodium': 70, \n",
    "            'awesome sauce': 'this one should be rejected - no protein'\n",
    "        }\n",
    "    },\n",
    "    {\n",
    "        'list_of_ingredients': ['marble', 2.5],\n",
    "        'raw_nutrients': {\n",
    "            'fat':12, \n",
    "            'carbohydrates': 35, \n",
    "            'protein': 7, \n",
    "            'sodium': 70, \n",
    "            'awesome sauce': 'this one should be rejected too - not enough ingredients'\n",
    "        }\n",
    "    }\n",
    "]"
   ]
  },
  {
   "cell_type": "code",
   "execution_count": null,
   "metadata": {
    "collapsed": true,
    "deletable": false,
    "editable": false,
    "nbgrader": {
     "grade": false,
     "locked": true,
     "solution": false
    },
    "tags": [
     "demo_run_ex3"
    ]
   },
   "outputs": [],
   "source": [
    "### call demo funtion\n",
    "filter_basic_data(demo_data_ex3)"
   ]
  },
  {
   "cell_type": "markdown",
   "metadata": {
    "deletable": false,
    "editable": false,
    "nbgrader": {
     "grade": false,
     "locked": true,
     "solution": false
    }
   },
   "source": [
    "<!-- Test Cell Boilerplate -->\n",
    "The cell below will test your solution for Exercise 3. The testing variables will be available for debugging under the following names in a dictionary format.\n",
    "- `input_vars` - Input variables for your solution. \n",
    "- `original_input_vars` - Copy of input variables from prior to running your solution. These _should_ be the same as `input_vars` - otherwise the inputs were modified by your solution.\n",
    "- `returned_output_vars` - Outputs returned by your solution.\n",
    "- `true_output_vars` - The expected output. This _should_ \"match\" `returned_output_vars` based on the question requirements - otherwise, your solution is not returning the correct output. "
   ]
  },
  {
   "cell_type": "code",
   "execution_count": null,
   "metadata": {
    "collapsed": true,
    "deletable": false,
    "editable": false,
    "nbgrader": {
     "grade": true,
     "grade_id": "ex3_test",
     "locked": true,
     "points": "1",
     "solution": false
    }
   },
   "outputs": [],
   "source": [
    "### test_cell_ex3\n",
    "\n",
    "###\n",
    "### AUTOGRADER TEST - DO NOT REMOVE\n",
    "###\n",
    "\n",
    "from tester_fw.testers import Tester_ex3\n",
    "tester = Tester_ex3()\n",
    "for _ in range(20):\n",
    "    try:\n",
    "        tester.run_test(filter_basic_data)\n",
    "        (input_vars, original_input_vars, returned_output_vars, true_output_vars) = tester.get_test_vars()\n",
    "    except:\n",
    "        (input_vars, original_input_vars, returned_output_vars, true_output_vars) = tester.get_test_vars()\n",
    "        raise\n",
    "\n",
    "###\n",
    "### AUTOGRADER TEST - DO NOT REMOVE\n",
    "###\n",
    "print('Passed! Please submit.')"
   ]
  },
  {
   "cell_type": "markdown",
   "metadata": {
    "deletable": false,
    "editable": false,
    "nbgrader": {
     "grade": false,
     "locked": true,
     "solution": false
    }
   },
   "source": [
    "Even if your solution was incorrect or you skipped this exercise, run this cell to see the expected output of a call to `filter_basic_data(basic_data)`."
   ]
  },
  {
   "cell_type": "code",
   "execution_count": null,
   "metadata": {
    "collapsed": true,
    "deletable": false,
    "editable": false,
    "nbgrader": {
     "grade": false,
     "locked": true,
     "solution": false
    }
   },
   "outputs": [],
   "source": [
    "### Loading results\n",
    "import pickle\n",
    "import os\n",
    "path = './resource/asnlib/publicdata/ex3.pkl'\n",
    "if not os.path.exists(path):\n",
    "    with open(path, 'wb') as file:\n",
    "        pickle.dump(filter_basic_data(basic_data), file)\n",
    "with open(path, 'rb') as file:\n",
    "    filtered_data = pickle.load(file)"
   ]
  },
  {
   "cell_type": "markdown",
   "metadata": {
    "deletable": false,
    "editable": false,
    "nbgrader": {
     "grade": false,
     "locked": true,
     "solution": false
    }
   },
   "source": [
    "## Exercise 4 (2 Points): \n",
    "We want to compute summary statistics on the nutrients present in each food. While you might be able to find formulas for these statistics and implement them yourselves - there is no need to reinvent the wheel. Feel free to use the `statistics` module, but you will have to `import` it yourself."
   ]
  },
  {
   "cell_type": "markdown",
   "metadata": {
    "deletable": false,
    "editable": false,
    "nbgrader": {
     "grade": false,
     "locked": true,
     "solution": false
    },
    "tags": [
     "exercise_text_ex4"
    ]
   },
   "source": [
    "Given a `list` of `dict`s, `data` structured as `basic_data`, define `make_summary(data, key)` to generate a dictionary of summary statistics.\n",
    "- We will assume that each `dict` in `data` has a `'raw_nutrients'` key mapped to a dictionary which maps nutrients to amounts.\n",
    "- Extract the amount of the nutrient given by `key` for each `dict`, `d` in `data` - we will call these the observations. I.e. `data[0]['raw_nutrients'][key]` is one observation.\n",
    "- Note: each entry in `data` counts as an observation and for all `dict`s `d` in `data`, `d['raw_nutrients'][key]` is **not** guaranteed to exist. In such cases, we will interpret the observation as a 0.\n",
    "- Compute statistics on the observations. Store the results in a dictionary with the following mapping:\n",
    "  - `'mean'` - (`float`) mean of all observations\n",
    "  - `'median'` - (`float`) median of all observations\n",
    "  - `'stdev'` - (`float`) **population** standard deviation of all observations - check your stats notes and documentation to make sure you're computing this correctly\n",
    "  - `'min'` - (`float`) minimum\n",
    "  - `'max'` - (`float`) maximum\n",
    "  "
   ]
  },
  {
   "cell_type": "code",
   "execution_count": null,
   "metadata": {
    "collapsed": true,
    "tags": [
     "exercise_solution_ex4"
    ]
   },
   "outputs": [],
   "source": [
    "### Define make_summary\n",
    "def make_summary(data, key):\n",
    "    ###\n",
    "    ### YOUR CODE HERE\n",
    "    ###\n"
   ]
  },
  {
   "cell_type": "markdown",
   "metadata": {
    "deletable": false,
    "editable": false,
    "nbgrader": {
     "grade": false,
     "locked": true,
     "solution": false
    },
    "tags": [
     "demo_output_md_ex4"
    ]
   },
   "source": [
    "<!-- Expected demo output text block -->\n",
    "The demo cell below should display the following output:\n",
    "```\n",
    "key: foo\n",
    "{'mean': 18.714285714285715, 'median': 17.0, 'stdev': 12.75835060672349, 'min': 5.0, 'max': 48.0}\n",
    "\n",
    "key: bar\n",
    "{'mean': 23.571428571428573, 'median': 33.0, 'stdev': 14.907880397936646, 'min': 0.0, 'max': 33.0}\n",
    "\n",
    "key: baz\n",
    "{'mean': 100.0, 'median': 100.0, 'stdev': 0.0, 'min': 100.0, 'max': 100.0}\n",
    "```"
   ]
  },
  {
   "cell_type": "code",
   "execution_count": null,
   "metadata": {
    "collapsed": true,
    "deletable": false,
    "editable": false,
    "nbgrader": {
     "grade": false,
     "locked": true,
     "solution": false
    },
    "tags": [
     "demo_inputs_ex4"
    ]
   },
   "outputs": [],
   "source": [
    "### define demo inputs\n",
    "demo_data_ex4 = [\n",
    "    {'raw_nutrients': {'foo': 12,   'bar': 33,  'baz': 100}},\n",
    "    {'raw_nutrients': {'foo': 48,   'bar': 33,  'baz': 100}},\n",
    "    {'raw_nutrients': {'foo': 17,   'bar': 33,  'baz': 100}},\n",
    "    {'raw_nutrients': {'foo': 5,                'baz': 100}},\n",
    "    {'raw_nutrients': {'foo': 18,   'bar': 33,  'baz': 100}},\n",
    "    {'raw_nutrients': {'foo': 12,   'bar': 33,  'baz': 100}},\n",
    "    {'raw_nutrients': {'foo': 19,               'baz': 100}},\n",
    "]\n",
    "demo_keys_ex4 = ['foo', 'bar', 'baz']"
   ]
  },
  {
   "cell_type": "code",
   "execution_count": null,
   "metadata": {
    "collapsed": true,
    "deletable": false,
    "editable": false,
    "nbgrader": {
     "grade": false,
     "locked": true,
     "solution": false
    },
    "tags": [
     "demo_run_ex4"
    ]
   },
   "outputs": [],
   "source": [
    "### call demo funtion\n",
    "for k in demo_keys_ex4:\n",
    "    print(f'key: {k}')\n",
    "    print(make_summary(demo_data_ex4, k))\n",
    "    print()"
   ]
  },
  {
   "cell_type": "markdown",
   "metadata": {
    "deletable": false,
    "editable": false,
    "nbgrader": {
     "grade": false,
     "locked": true,
     "solution": false
    }
   },
   "source": [
    "<!-- Test Cell Boilerplate -->\n",
    "The cell below will test your solution for Exercise 4. The testing variables will be available for debugging under the following names in a dictionary format.\n",
    "- `input_vars` - Input variables for your solution. \n",
    "- `original_input_vars` - Copy of input variables from prior to running your solution. These _should_ be the same as `input_vars` - otherwise the inputs were modified by your solution.\n",
    "- `returned_output_vars` - Outputs returned by your solution.\n",
    "- `true_output_vars` - The expected output. This _should_ \"match\" `returned_output_vars` based on the question requirements - otherwise, your solution is not returning the correct output. "
   ]
  },
  {
   "cell_type": "code",
   "execution_count": null,
   "metadata": {
    "collapsed": true,
    "deletable": false,
    "editable": false,
    "nbgrader": {
     "grade": true,
     "grade_id": "ex4_test",
     "locked": true,
     "points": "2",
     "solution": false
    }
   },
   "outputs": [],
   "source": [
    "### test_cell_ex4\n",
    "\n",
    "###\n",
    "### AUTOGRADER TEST - DO NOT REMOVE\n",
    "###\n",
    "\n",
    "from tester_fw.testers import Tester_ex4\n",
    "tester = Tester_ex4()\n",
    "for _ in range(20):\n",
    "    try:\n",
    "        tester.run_test(make_summary)\n",
    "        (input_vars, original_input_vars, returned_output_vars, true_output_vars) = tester.get_test_vars()\n",
    "    except:\n",
    "        (input_vars, original_input_vars, returned_output_vars, true_output_vars) = tester.get_test_vars()\n",
    "        raise\n",
    "\n",
    "###\n",
    "### AUTOGRADER TEST - DO NOT REMOVE\n",
    "###\n",
    "print('Passed! Please submit.')"
   ]
  },
  {
   "cell_type": "markdown",
   "metadata": {
    "deletable": false,
    "editable": false,
    "nbgrader": {
     "grade": false,
     "locked": true,
     "solution": false
    }
   },
   "source": [
    "Even if your solution was incorrect or you skipped this exercise, run this cell. You would get the same result as `summary_dict` if you were to run the code below with a correct implementation of `make_summary`.\n",
    "\n",
    "```\n",
    "keys = ('fat', 'protein', 'carbohydrates', 'sodium')\n",
    "{key:make_summary(filtered_data, key) for key in keys}\n",
    "\n",
    "```"
   ]
  },
  {
   "cell_type": "code",
   "execution_count": null,
   "metadata": {
    "collapsed": true,
    "deletable": false,
    "editable": false,
    "nbgrader": {
     "grade": false,
     "locked": true,
     "solution": false
    }
   },
   "outputs": [],
   "source": [
    "### Loading results\n",
    "import pickle\n",
    "import os\n",
    "path = './resource/asnlib/publicdata/ex4.pkl'\n",
    "if not os.path.exists(path):\n",
    "    with open(path, 'wb') as file:\n",
    "        pickle.dump({key:make_summary(filtered_data, key) for key in ('fat', 'protein', 'carbohydrates', 'sodium')}, file)\n",
    "with open(path, 'rb') as file:\n",
    "    summary_dict = pickle.load(file)"
   ]
  },
  {
   "cell_type": "markdown",
   "metadata": {
    "deletable": false,
    "editable": false,
    "nbgrader": {
     "grade": false,
     "locked": true,
     "solution": false
    }
   },
   "source": [
    "## Exercise 5 (3 Points): \n",
    "We are interested in whether the amount of one particular nutrient in a food has any relationship with the amounts of other nutrients in the food. For this, we will compare the observations of multiple nutrients and compute the correlation between them."
   ]
  },
  {
   "cell_type": "markdown",
   "metadata": {
    "deletable": false,
    "editable": false,
    "nbgrader": {
     "grade": false,
     "locked": true,
     "solution": false
    },
    "tags": [
     "exercise_text_ex5"
    ]
   },
   "source": [
    "Given `data`, a `list` of `dicts`, and `keys`, a `list` of `strings`, complete the function `create_cor_dict(data, key)` to find the correlation between each nutrient listed and all of the other nutrients listed. Return the result as a `dict` which maps each key to a dictionary mapping the other keys to the correlation between the parent key and the child key. For example, if `keys=['fat', 'protein', 'carbohydrates']` then the result would look something like this:\n",
    "\n",
    "```\n",
    "{'fat': {                                       # parent key is 'fat'\n",
    "    'protein': 0.1854653535334078,              # parent key is 'fat' --> correlation between 'fat' and 'protein\n",
    "    'carbohydrates': -0.6720362432582452        # correlation between 'fat' and 'carbohydrates'\n",
    "    },\n",
    " 'protein': {                                   # 'protein'\n",
    "     'fat': 0.1854653535334078,                 # 'protein' correlation w/ 'fat'\n",
    "     'carbohydrates': -0.3814834566078096       # 'protein' correlation w/ 'carbohydrates'\n",
    "     },\n",
    " 'carbohydrates': {                             # 'carbohydrates'\n",
    "     'fat': -0.6720362432582452,                # 'carbohydrates' correlation w/ 'fat'\n",
    "     'protein': -0.3814834566078096}            # 'carbohydrates' correlation w/ 'protein'\n",
    "     }\n",
    "```\n",
    "\n",
    "You can assume that if `d` is a `dict` in `data`, then `d` will have `'raw_nutrients'` as a key which is mapped to a `dict` which itself maps strings to integers. For example:\n",
    "```\n",
    "[\n",
    "    {'raw_nutrients': {'foo': 17,   'bar': 33,  'baz': 150}},\n",
    "    {'raw_nutrients': {'foo': 5,                'baz': 35}},\n",
    "    {'raw_nutrients': {'foo': 18,   'bar': 33,  'baz': 200}}\n",
    "]\n",
    "```\n",
    "\n",
    "Each dictionary in `data` should be treated as a single observation. You can compute the correlation with the following formulas.\n",
    "- $n$ is the number of observations.\n",
    "- $\\bar{x}, \\bar{y}$ - Means nutrient $x$, and nutrient $y$. \n",
    "- $\\bar{xy} = \\frac{1}{n}\\sum_{i=0}^{n-1}x_iy_i$\n",
    "- $\\sigma_x =$ **population** standard deviaiton - check your stats notes and documentation to make sure that you are calculating this correctly\n",
    "- Correlation: $$c=\\frac{\\bar{xy} - (\\bar{x})(\\bar{y})}{\\sigma_x \\sigma_y}$$\n",
    "\n"
   ]
  },
  {
   "cell_type": "code",
   "execution_count": null,
   "metadata": {
    "collapsed": true,
    "tags": [
     "exercise_solution_ex5"
    ]
   },
   "outputs": [],
   "source": [
    "### Define make_correlations\n",
    "def make_correlations(data, keys):\n",
    "    ###\n",
    "    ### YOUR CODE HERE\n",
    "    ###\n"
   ]
  },
  {
   "cell_type": "markdown",
   "metadata": {
    "deletable": false,
    "editable": false,
    "nbgrader": {
     "grade": false,
     "locked": true,
     "solution": false
    },
    "tags": [
     "demo_output_md_ex5"
    ]
   },
   "source": [
    "<!-- Expected demo output text block -->\n",
    "The demo cell below should display the following output:\n",
    "```\n",
    "{'foo': {'bar': 0.3328398218980465, 'baz': 0.983194888209125},\n",
    " 'bar': {'foo': 0.33283982189804656, 'baz': 0.31688680340974},\n",
    " 'baz': {'foo': 0.983194888209125, 'bar': 0.31688680340974007}}\n",
    "```"
   ]
  },
  {
   "cell_type": "code",
   "execution_count": null,
   "metadata": {
    "collapsed": true,
    "deletable": false,
    "editable": false,
    "nbgrader": {
     "grade": false,
     "locked": true,
     "solution": false
    },
    "tags": [
     "demo_inputs_ex5"
    ]
   },
   "outputs": [],
   "source": [
    "### define demo inputs\n",
    "### use naming convention demo_varname_ex_* to name demo variables\n",
    "demo_data_ex5 = [\n",
    "    {'raw_nutrients': {'foo': 12,   'bar': 33,  'baz': 100}},\n",
    "    {'raw_nutrients': {'foo': 48,   'bar': 33,  'baz': 400}},\n",
    "    {'raw_nutrients': {'foo': 17,   'bar': 33,  'baz': 150}},\n",
    "    {'raw_nutrients': {'foo': 5,                'baz': 35}},\n",
    "    {'raw_nutrients': {'foo': 18,   'bar': 33,  'baz': 200}},\n",
    "    {'raw_nutrients': {'foo': 12,   'bar': 33,  'baz': 105}},\n",
    "    {'raw_nutrients': {'foo': 19,               'baz': 195}},\n",
    "]\n",
    "demo_keys_ex5 = ['foo', 'bar', 'baz']"
   ]
  },
  {
   "cell_type": "code",
   "execution_count": null,
   "metadata": {
    "collapsed": true,
    "deletable": false,
    "editable": false,
    "nbgrader": {
     "grade": false,
     "locked": true,
     "solution": false
    },
    "tags": [
     "demo_run_ex5"
    ]
   },
   "outputs": [],
   "source": [
    "### call demo funtion\n",
    "make_correlations(demo_data_ex5, demo_keys_ex5)"
   ]
  },
  {
   "cell_type": "markdown",
   "metadata": {
    "deletable": false,
    "editable": false,
    "nbgrader": {
     "grade": false,
     "locked": true,
     "solution": false
    }
   },
   "source": [
    "<!-- Test Cell Boilerplate -->\n",
    "The cell below will test your solution for Exercise 5. The testing variables will be available for debugging under the following names in a dictionary format.\n",
    "- `input_vars` - Input variables for your solution. \n",
    "- `original_input_vars` - Copy of input variables from prior to running your solution. These _should_ be the same as `input_vars` - otherwise the inputs were modified by your solution.\n",
    "- `returned_output_vars` - Outputs returned by your solution.\n",
    "- `true_output_vars` - The expected output. This _should_ \"match\" `returned_output_vars` based on the question requirements - otherwise, your solution is not returning the correct output. "
   ]
  },
  {
   "cell_type": "code",
   "execution_count": null,
   "metadata": {
    "collapsed": true,
    "deletable": false,
    "editable": false,
    "nbgrader": {
     "grade": true,
     "grade_id": "ex5_test",
     "locked": true,
     "points": "3",
     "solution": false
    }
   },
   "outputs": [],
   "source": [
    "### test_cell_ex5\n",
    "\n",
    "###\n",
    "### AUTOGRADER TEST - DO NOT REMOVE\n",
    "###\n",
    "\n",
    "from tester_fw.testers import Tester_ex5\n",
    "tester = Tester_ex5()\n",
    "for _ in range(20):\n",
    "    try:\n",
    "        tester.run_test(make_correlations)\n",
    "        (input_vars, original_input_vars, returned_output_vars, true_output_vars) = tester.get_test_vars()\n",
    "    except:\n",
    "        (input_vars, original_input_vars, returned_output_vars, true_output_vars) = tester.get_test_vars()\n",
    "        raise\n",
    "\n",
    "###\n",
    "### AUTOGRADER TEST - DO NOT REMOVE\n",
    "###\n",
    "print('Passed! Please submit.')"
   ]
  },
  {
   "cell_type": "markdown",
   "metadata": {
    "deletable": false,
    "editable": false,
    "nbgrader": {
     "grade": false,
     "locked": true,
     "solution": false
    }
   },
   "source": [
    "Even if your solution was incorrect or you skipped this exercise, run this cell. You would get the same result as `corr_dict` if you were to run the code below with a correct implementation of `make_correlations`.\n",
    "\n",
    "```\n",
    "make_correlations(filtered_data, ('fat', 'carbohydrates', 'protein'))\n",
    "\n",
    "```"
   ]
  },
  {
   "cell_type": "code",
   "execution_count": null,
   "metadata": {
    "collapsed": true,
    "deletable": false,
    "editable": false,
    "nbgrader": {
     "grade": false,
     "locked": true,
     "solution": false
    }
   },
   "outputs": [],
   "source": [
    "### Loading results\n",
    "import pickle\n",
    "import os\n",
    "path = './resource/asnlib/publicdata/ex5.pkl'\n",
    "if not os.path.exists(path):\n",
    "    with open(path, 'wb') as file:\n",
    "        pickle.dump(make_correlations(filtered_data, ('fat', 'carbohydrates', 'protein')), file)\n",
    "with open(path, 'rb') as file:\n",
    "    corr_dict = pickle.load(file)\n",
    "corr_dict"
   ]
  },
  {
   "cell_type": "markdown",
   "metadata": {
    "deletable": false,
    "editable": false,
    "nbgrader": {
     "grade": false,
     "locked": true,
     "solution": false
    }
   },
   "source": [
    "## Exercise 6 (2 Points): \n",
    "We are interested in the most common ingredients listed for foods. Instead of gathering this information on the whole data set, we want it on a category level. A good strategy for drilling down could be useful for generating category level summaries and correlations as well. The function below will transform our `basic_data` structure (a list of dictionaries) into a dictionary mapping each category to a list of dictionaries which have that category. Each of these lists will have the same structure as `basic_data`. You may (or may not) find it useful in completing exercise 6."
   ]
  },
  {
   "cell_type": "code",
   "execution_count": null,
   "metadata": {
    "collapsed": true,
    "deletable": false,
    "editable": false,
    "nbgrader": {
     "grade": false,
     "locked": true,
     "solution": false
    }
   },
   "outputs": [],
   "source": [
    "def group_by_category(data):\n",
    "    from collections import defaultdict\n",
    "    g = defaultdict(list)\n",
    "    for d in data:\n",
    "        c = d['category']\n",
    "        g[c].append(d)\n",
    "    return dict(g)"
   ]
  },
  {
   "cell_type": "markdown",
   "metadata": {
    "deletable": false,
    "editable": false,
    "nbgrader": {
     "grade": false,
     "locked": true,
     "solution": false
    },
    "tags": [
     "exercise_text_ex6"
    ]
   },
   "source": [
    "Complete the function `top_ingredients` to accomplish the following:\n",
    "- Parameters \n",
    "  - `data` - `list` of `dict`s. You can assume that `d['list_of_ingredients']` is a `list` of strings, and `d['category']` is a string - for any `d` in `data`. Each of these `dict`s contains data on a single food.\n",
    "  - `n` - `int` - number of ingredients to list\n",
    "- We will say that an ingredient's \"strength\" within a category is given by the following: \n",
    "$$x_i = \\text{number of times ingredient x has been listed in position i}$$\n",
    "$$\\text{Strength}_x = 3x_0 + 2x_1 + x_2$$\n",
    "- For each unique category (value of `d['category']`) compute the strength of all ingredients present in that category.\n",
    "- Return a dictionary mapping each category to a list containing the top `n` ingredients in that category, ranked by strength in descending order. Only include ingredients which have strength greater than 0.\n",
    "- In the instance of ties (two ingredients having the same strength in a category), break the tie by ranking ingredients alphabetically. \n",
    "- If there are fewer than `n` ingredients - all of the ingredients should be included. There should always be `n` or fewer ingredients listed for each category."
   ]
  },
  {
   "cell_type": "code",
   "execution_count": null,
   "metadata": {
    "collapsed": true,
    "tags": [
     "exercise_solution_ex6"
    ]
   },
   "outputs": [],
   "source": [
    "### Define top_ingredients\n",
    "def top_ingredients(data, n=3):\n",
    "    ###\n",
    "    ### YOUR CODE HERE\n",
    "    ###\n"
   ]
  },
  {
   "cell_type": "markdown",
   "metadata": {
    "deletable": false,
    "editable": false,
    "nbgrader": {
     "grade": false,
     "locked": true,
     "solution": false
    },
    "tags": [
     "demo_output_md_ex6"
    ]
   },
   "source": [
    "<!-- Expected demo output text block -->\n",
    "The demo cell below should display the following output:\n",
    "```\n",
    "{'cat0': ['bar', 'foo', 'baz', 'tux'],\n",
    " 'cat1': ['bax', 'rak', 'foo'],\n",
    " 'cat2': ['rah']}\n",
    "```"
   ]
  },
  {
   "cell_type": "code",
   "execution_count": null,
   "metadata": {
    "collapsed": true,
    "deletable": false,
    "editable": false,
    "nbgrader": {
     "grade": false,
     "locked": true,
     "solution": false
    },
    "tags": [
     "demo_inputs_ex6"
    ]
   },
   "outputs": [],
   "source": [
    "### define demo inputs\n",
    "demo_data_ex6 = [\n",
    "    {'category': 'cat0', 'list_of_ingredients':['foo', 'bar', 'baz', 'tux', 'rak']},\n",
    "    {'category': 'cat0', 'list_of_ingredients':['bar', 'foo', 'baz', 'tux', 'baz']},\n",
    "    {'category': 'cat0', 'list_of_ingredients':['bar', 'foo', 'tux']},\n",
    "    {'category': 'cat0', 'list_of_ingredients':['bar', 'baz', 'tux',]},\n",
    "\n",
    "    {'category': 'cat1', 'list_of_ingredients':['rak', 'foo', 'bax']},\n",
    "    {'category': 'cat1', 'list_of_ingredients':['rak', 'bax']},\n",
    "    {'category': 'cat1', 'list_of_ingredients':['bax', 'rak', 'foo']},\n",
    "    {'category': 'cat1', 'list_of_ingredients':['bax', 'foo', 'rak']},\n",
    "    \n",
    "    {'category': 'cat2', 'list_of_ingredients':['rah']},\n",
    "    {'category': 'cat2', 'list_of_ingredients':['rah']},\n",
    "    {'category': 'cat2', 'list_of_ingredients':['rah']},\n",
    "]"
   ]
  },
  {
   "cell_type": "code",
   "execution_count": null,
   "metadata": {
    "collapsed": true,
    "deletable": false,
    "editable": false,
    "nbgrader": {
     "grade": false,
     "locked": true,
     "solution": false
    },
    "tags": [
     "demo_run_ex6"
    ]
   },
   "outputs": [],
   "source": [
    "### call demo funtion\n",
    "top_ingredients(demo_data_ex6, n=5)"
   ]
  },
  {
   "cell_type": "markdown",
   "metadata": {
    "deletable": false,
    "editable": false,
    "nbgrader": {
     "grade": false,
     "locked": true,
     "solution": false
    }
   },
   "source": [
    "<!-- Test Cell Boilerplate -->\n",
    "The cell below will test your solution for Exercise 6. The testing variables will be available for debugging under the following names in a dictionary format.\n",
    "- `input_vars` - Input variables for your solution. \n",
    "- `original_input_vars` - Copy of input variables from prior to running your solution. These _should_ be the same as `input_vars` - otherwise the inputs were modified by your solution.\n",
    "- `returned_output_vars` - Outputs returned by your solution.\n",
    "- `true_output_vars` - The expected output. This _should_ \"match\" `returned_output_vars` based on the question requirements - otherwise, your solution is not returning the correct output. "
   ]
  },
  {
   "cell_type": "code",
   "execution_count": null,
   "metadata": {
    "collapsed": true,
    "deletable": false,
    "editable": false,
    "nbgrader": {
     "grade": true,
     "grade_id": "ex6_test",
     "locked": true,
     "points": "2",
     "solution": false
    }
   },
   "outputs": [],
   "source": [
    "### test_cell_ex6\n",
    "\n",
    "###\n",
    "### AUTOGRADER TEST - DO NOT REMOVE\n",
    "###\n",
    "\n",
    "from tester_fw.testers import Tester_ex6\n",
    "tester = Tester_ex6()\n",
    "for _ in range(20):\n",
    "    try:\n",
    "        tester.run_test(top_ingredients)\n",
    "        (input_vars, original_input_vars, returned_output_vars, true_output_vars) = tester.get_test_vars()\n",
    "    except:\n",
    "        (input_vars, original_input_vars, returned_output_vars, true_output_vars) = tester.get_test_vars()\n",
    "        raise\n",
    "\n",
    "###\n",
    "### AUTOGRADER TEST - DO NOT REMOVE\n",
    "###\n",
    "print('Passed! Please submit.')"
   ]
  },
  {
   "cell_type": "markdown",
   "metadata": {
    "deletable": false,
    "editable": false,
    "nbgrader": {
     "grade": false,
     "locked": true,
     "solution": false
    }
   },
   "source": [
    "Even if your solution was incorrect or you skipped this exercise, run this cell. You would get the same result as `leaders` if you were to run the code below with a correct implementation of `top_ingredients`.\n",
    "\n",
    "```\n",
    "top_ingredients(filtered_data, 3)\n",
    "\n",
    "```"
   ]
  },
  {
   "cell_type": "code",
   "execution_count": null,
   "metadata": {
    "collapsed": true,
    "deletable": false,
    "editable": false,
    "nbgrader": {
     "grade": false,
     "locked": true,
     "solution": false
    }
   },
   "outputs": [],
   "source": [
    "### Loading results\n",
    "import pickle\n",
    "import os\n",
    "path = './resource/asnlib/publicdata/ex6.pkl'\n",
    "if not os.path.exists(path):\n",
    "    with open(path, 'wb') as file:\n",
    "        pickle.dump(top_ingredients(filtered_data, 3), file)\n",
    "with open(path, 'rb') as file:\n",
    "    leaders = pickle.load(file)"
   ]
  },
  {
   "cell_type": "markdown",
   "metadata": {},
   "source": [
    "**Fin**. This is the end of the exam. If you haven't already, submit your work."
   ]
  }
 ],
 "metadata": {
  "kernelspec": {
   "display_name": "Python 3.8",
   "language": "python",
   "name": "python38"
  },
  "language_info": {
   "codemirror_mode": {
    "name": "ipython",
    "version": 3
   },
   "file_extension": ".py",
   "mimetype": "text/x-python",
   "name": "python",
   "nbconvert_exporter": "python",
   "pygments_lexer": "ipython3",
   "version": "3.8.7"
  },
  "toc": {
   "base_numbering": 1,
   "nav_menu": {},
   "number_sections": true,
   "sideBar": true,
   "skip_h1_title": false,
   "title_cell": "Table of Contents",
   "title_sidebar": "Contents",
   "toc_cell": false,
   "toc_position": {},
   "toc_section_display": true,
   "toc_window_display": false
  }
 },
 "nbformat": 4,
 "nbformat_minor": 5
}
