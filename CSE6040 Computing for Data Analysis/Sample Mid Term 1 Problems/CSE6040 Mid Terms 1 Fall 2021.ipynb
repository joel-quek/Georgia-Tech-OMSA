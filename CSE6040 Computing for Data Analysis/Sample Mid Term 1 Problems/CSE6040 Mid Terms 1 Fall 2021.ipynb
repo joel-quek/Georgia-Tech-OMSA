{
 "cells": [
  {
   "cell_type": "markdown",
   "metadata": {
    "deletable": false,
    "editable": false,
    "nbgrader": {
     "grade": false,
     "locked": true,
     "solution": false
    }
   },
   "source": [
    "# Midterm 1, Fall 2021: Chess Ratings #\n",
    "\n",
    "_Version 1.0_\n",
    "\n",
    "Change Log:\n",
    "1.0 - Initial Release\n",
    "\n",
    "This problem builds on your knowledge of **Python data structures, string processing, and implementing mathematical functions**.\n",
    "\n",
    "For other preliminaries and pointers, refer back to the Piazza post titled **\"Midterm 1 Release Notes\"**.\n",
    "- Total Exercises: **8**  \n",
    "- Total Points: **16**\n",
    "- Time Limit: **3 Hours**\n",
    "\n",
    "Each exercise builds logically on the previous one, but you may **solve them in any order**. That is, if you can't solve an exercise, you can still move on and try the next one. **However, if you see a code cell introduced by the phrase, \"Sample result for ...\", please run it.** Some demo cells in the notebook may depend on these precomputed results.\n",
    "\n",
    "The point values of individual exercises are as follows:\n",
    "\n",
    "- Exercise 0: 3 points\n",
    "- Exercise 1: 2 points\n",
    "- Exercise 2: 1 points\n",
    "- Exercise 3: 2 points\n",
    "- Exercise 4: 1 points\n",
    "- Exercise 5: 3 points\n",
    "- Exercise 6: 2 points\n",
    "- Exercise 7: 2 points\n",
    "\n",
    "\n",
    "**Good luck!**"
   ]
  },
  {
   "cell_type": "markdown",
   "metadata": {
    "deletable": false,
    "editable": false,
    "nbgrader": {
     "grade": false,
     "locked": true,
     "solution": false
    }
   },
   "source": [
    "## Elo Ratings\n",
    "\n",
    "The Elo (rhymes with \"Hello\") rating system is a widely used method for quantifying relative skill levels of players in a game or sport. The method was originally used to rate chess players and is named for its creator, Arpad Elo. This system is very simple but is able to rate players much more effectively than a win/loss record.\n",
    "\n",
    "On a high level, the winning player in a game takes rating points away from the losing player. How many points change hands is determined by the difference in the initial ratings of each player. For example, if a highly rated player records a victory over a lower rated player, then they would gain only a few points. This is reflective of the highly rated player being expected to win. However, if the lower rated player is able to pull off an upset, a larger quantity of points would be exchanged. The idea is that over time the system will adjust players' ratings to their true relative skill levels. Additionally, the difference in Elo ratings between two players can be used to calculate the expectation for the number of wins each player would accrue, which is often expressed as \"win probability\". \n",
    "\n",
    "Here we will extract data from a recent chess tournament that captures players' ratings at the start of the tournament and the outcome of all games played. We will then use that data to calculate expected wins based on the matchups and compare our expectation with the observed results. Finally we will determine the updated Elo ratings for the players. There are many variations on this system, but here we will use the original version. You can find more information about the Elo rating system [here](https://en.wikipedia.org/wiki/Elo_rating_system)\n",
    "\n",
    "Let's get started by taking a look at the data!"
   ]
  },
  {
   "cell_type": "code",
   "execution_count": 1,
   "metadata": {
    "deletable": false,
    "editable": false,
    "nbgrader": {
     "grade": false,
     "locked": true,
     "solution": false
    }
   },
   "outputs": [
    {
     "data": {
      "text/plain": [
       "'48.3 MiB'"
      ]
     },
     "execution_count": 1,
     "metadata": {},
     "output_type": "execute_result"
    }
   ],
   "source": [
    "###\n",
    "### AUTOGRADER TEST - DO NOT REMOVE\n",
    "###\n",
    "\n",
    "import run_tests as test_utils\n",
    "raw_data = test_utils.read_raw_data('Bucharest2021.pgn')\n",
    "test_utils.get_mem_usage_str()"
   ]
  },
  {
   "cell_type": "markdown",
   "metadata": {
    "deletable": false,
    "editable": false,
    "nbgrader": {
     "grade": false,
     "locked": true,
     "solution": false
    }
   },
   "source": [
    "Take note of how the data is **split** into sections by **blank lines** (`'\\n\\n'`); this fact might be useful later on! _(hint! hint!)_ Here are the first 4 sections."
   ]
  },
  {
   "cell_type": "code",
   "execution_count": 2,
   "metadata": {},
   "outputs": [
    {
     "data": {
      "text/plain": [
       "'[Event \"Superbet Classic 2021\"]\\n[Site \"Bucharest ROU\"]\\n[Date \"2021.06.05\"]\\n[Round \"1.5\"]\\n[White \"Deac,Bogdan-Daniel\"]\\n[Black \"Giri,A\"]\\n[Result \"1/2-1/2\"]\\n[WhiteElo \"2627\"]\\n[BlackElo \"2780\"]\\n[ECO \"D43\"]\\n\\n1.d4 d5 2.c4 c6 3.Nc3 Nf6 4.Nf3 e6 5.Bg5 h6 6.Bh4 dxc4 7.e4 g5 8.Bg3 b5 9.Be2 Bb7\\n10.Qc2 Nh5 11.Rd1 Nxg3 12.hxg3 Na6 13.a3 Bg7 14.e5 Qe7 15.Ne4 O-O-O 16.Nd6+ Rxd6\\n17.exd6 Qxd6 18.O-O g4 19.Ne5 Bxe5 20.dxe5 Qxe5 21.Bxg4 h5 22.Rfe1 Qf6 23.Bf3 h4\\n24.b3 cxb3 25.Qxb3 hxg3 26.fxg3 Qg7 27.Qd3 Nc7 28.Qd6 c5 29.Qd7+ Kb8 30.Bxb7 Kxb7\\n31.Rxe6 Qxg3 32.Qc6+ Kb8 33.Qd6 Qxd6 34.Rexd6 Kb7 35.Rf6 Rh7 36.Rd7 b4 37.axb4 cxb4\\n38.Kf2 a5 39.Ke2 Rg7 40.Rfxf7 Rxg2+ 41.Kd1 Rg1+ 42.Kc2 Rg2+ 43.Kb1 Rg1+ 44.Kb2 Rg2+\\n45.Kb1 Rg1+ 46.Kb2 Rg2+ 47.Kb1 Rg1+  1/2-1/2\\n\\n[Event \"Superbet Classic 2021\"]\\n[Site \"Bucharest ROU\"]\\n[Date \"2021.06.05\"]\\n[Round \"1.4\"]\\n[White \"Lupulescu,C\"]\\n[Black \"Aronian,L\"]\\n[Result \"1/2-1/2\"]\\n[WhiteElo \"2656\"]\\n[BlackElo \"2781\"]\\n[ECO \"E39\"]\\n\\n1.d4 Nf6 2.c4 e6 3.Nc3 Bb4 4.Qc2 c5 5.dxc5 O-O 6.Nf3 Na6 7.g3 Nxc5 8.Bg2 Nce4\\n9.O-O Nxc3 10.bxc3 Be7 11.e4 d6 12.e5 dxe5 13.Nxe5 Qc7 14.Qe2 Nd7 15.Bf4 Nxe5\\n16.Bxe5 Bd6 17.Bxd6 Qxd6 18.Qe3 Qc7 19.Rfb1 Qxc4 20.Bxb7 Bxb7 21.Rxb7 h6\\n22.Rxa7 Rxa7 23.Qxa7 Qxc3 24.Rb1 Qc2 25.Rb8 Qd1+ 26.Kg2 Qd5+ 27.Kg1 Qd1+\\n28.Kg2 Qd5+ 29.Kg1 Qd1+  1/2-1/2\\n\\n[Event \"Superbet Classic 2021\"]\\n[Site \"Bucharest ROU\"]\\n[Date \"2021.06.05\"]\\n[Round \"1.3\"]\\n[White \"Grischuk,A\"]\\n[Black \"Vachier Lagrave,M\"]\\n[Result \"1/2-1/2\"]\\n[WhiteElo \"2776\"]\\n[BlackElo \"2760\"]\\n[ECO \"D85\"]\\n\\n1.d4 Nf6 2.c4 g6 3.Nc3 d5 4.cxd5 Nxd5 5.e4 Nxc3 6.bxc3 Bg7 7.Nf3 c5 8.Rb1 O-O\\n9.Be2 cxd4 10.cxd4 Qa5+ 11.Bd2 Qxa2 12.O-O Bg4 13.Rxb7 Bxf3 14.Bxf3 Bxd4\\n15.e5 Na6 16.Rxe7 Rad8 17.e6 fxe6 18.Qe1 Bf6 19.Rxa7 Rxd2 20.Rxa6 Qxa6 21.Qxd2 Qb6\\n22.g3 Bd4 23.Qe2 Rf6 24.Kg2 Qb2 25.Qxb2 Bxb2 26.Rd1 Kg7 27.Rd8 Rf8 28.Rd6 Kf6\\n29.h4 Re8 30.Be2 Be5 31.Rc6 Rd8 32.f4 Bd6 33.Bg4 e5 34.fxe5+ Kxe5 35.Rc8 Rxc8\\n36.Bxc8 Kf6 37.g4 g5 38.hxg5+ Kxg5 39.Kf3 h5 40.gxh5 Kxh5 41.Ke4 Bf4 42.Bd7 Kh4\\n43.Bh3 Kxh3 44.Kxf4  1/2-1/2\\n\\n[Event \"Superbet Classic 2021\"]\\n[Site \"Bucharest ROU\"]\\n[Date \"2021.06.05\"]\\n[Round \"1.2\"]\\n[White \"Mamedyarov,S\"]\\n[Black \"So,W\"]\\n[Result \"1/2-1/2\"]\\n[WhiteElo \"2770\"]\\n[BlackElo \"2770\"]\\n[ECO \"D27\"]\\n\\n1.d4 d5 2.Nf3 Nf6 3.c4 dxc4 4.e3 e6 5.Bxc4 a6 6.O-O c5 7.dxc5 Bxc5 8.Qxd8+ Kxd8\\n9.Be2 Ke7 10.Rd1 Nbd7 11.Nd4 Ne5 12.b3 Bd7 13.Bb2 Nc6 14.Nxc6+ Bxc6 15.Rc1 Bb4\\n16.Na3 Nd7 17.Nc4 Bd5 18.a3 Bc5 19.b4 Ba7 20.Na5 Rhc8 21.Bd3 f5 22.Bc4 Bxc4\\n23.Nxc4 b5 24.Na5 g6 25.Kf1 Bb6 26.Nb3 e5 27.Ke2 Rxc1 28.Rxc1 Ra7 29.e4 Rc7\\n30.Rxc7 Bxc7 31.f3 Ke6 32.Bc1 f4 33.g3 g5 34.g4 Bb6 35.h3 Kd6 36.Kd3 Bf2\\n37.Ke2 Bb6 38.Kd3 Bg1 39.Bb2 Nb6 40.Na5 Na4 41.Ba1 Bb6 42.Nb3 Be3 43.Bc3 Bb6\\n44.Ba1 Be3 45.Bc3 Bb6 46.Ba1 Be3  1/2-1/2\\n\\n[Event \"Superbet Classic 2021\"]\\n[Site \"Bucharest ROU\"]\\n[Date \"2021.06.06\"]\\n[Round \"2.2\"]\\n[White \"So,W\"]\\n[Black \"Aronian,L\"]\\n[Result \"1/2-1/2\"]\\n[WhiteElo \"2770\"]\\n[BlackElo \"2781\"]\\n[ECO \"D38\"]\\n\\n1.d4 Nf6 2.c4 e6 3.Nf3 d5 4.Nc3 Bb4 5.Qa4+ Nc6 6.e3 O-O 7.Bd2 dxc4 8.Bxc4 Bd6\\n9.Qc2 e5 10.dxe5 Nxe5 11.Nxe5 Bxe5 12.O-O-O Qe7 13.Kb1 Be6 14.Bxe6 Qxe6 15.f3 Rad8\\n16.e4 Rd7 17.Bc1 Rfd8 18.Rxd7 Qxd7 19.Ne2 c6 20.Be3 Bc7 21.Rc1 Bb6 22.Bg5 Qe6\\n23.Qb3 h6 24.Qxe6 fxe6 25.Bf4 Nh5 26.Be5 Rd2 27.Rc2 Rd1+ 28.Rc1 Rd2 29.Rc2 Rd1+\\n30.Rc1 Rd2  1/2-1/2\\n\\n[Event \"Superbet Classic 2021\"]\\n[Site \"Bucharest ROU\"]\\n[Date \"2021.06.06\"]\\n[Round \"2.4\"]\\n[White \"Mamedyarov,S\"]\\n[Black \"Grischuk,A\"]\\n[Result \"1/2-1/2\"]\\n[WhiteElo \"2770\"]\\n[BlackElo \"2776\"]\\n[ECO \"A33\"]\\n\\n1.c4 c5 2.Nf3 Nf6 3.Nc3 Nc6 4.d4 cxd4 5.Nxd4 e6 6.e4 Bb4 7.Nxc6 bxc6 8.Bd3 e5\\n9.O-O O-O 10.Be3 Bxc3 11.bxc3 d6 12.c5 d5 13.exd5 Nxd5 14.Re1 Nxe3 15.Rxe3 Qd5\\n16.Bc2 Qxc5 17.Qh5 g6 18.Qxe5 Qxe5 19.Rxe5 a5 20.Rc5 Be6 21.a4 Rfc8 22.Be4 Bd5\\n23.Bxd5 cxd5 24.Rxd5 Rxc3 25.g3 Rc4 26.Kg2 Kg7 27.Kg1 Kg8 28.Kg2 Kg7 29.Kg1 Kg8\\n30.Kg2 Kg7 31.Kg1  1/2-1/2\\n\\n[Event \"Superbet Classic 2021\"]\\n[Site \"Bucharest ROU\"]\\n[Date \"2021.06.06\"]\\n[Round \"2.5\"]\\n[White \"Vachier Lagrave,M\"]\\n[Black \"Deac,Bogdan-Daniel\"]\\n[Result \"0-1\"]\\n[WhiteElo \"2760\"]\\n[BlackElo \"2627\"]\\n[ECO \"C80\"]\\n\\n1.e4 e5 2.Nf3 Nc6 3.Bb5 a6 4.Ba4 Nf6 5.O-O Nxe4 6.d4 b5 7.Bb3 d5 8.dxe5 Be6\\n9.Nbd2 Be7 10.c3 O-O 11.Bc2 f5 12.exf6 Nxf6 13.a4 b4 14.Re1 Bg4 15.Nf1 Bc5\\n16.Be3 d4 17.cxd4 Nxd4 18.Bxd4 Bxf3 19.Qxf3 Qxd4 20.Rad1 Qxb2 21.Re2 Qc3\\n22.Rd3 Qa1 23.Rd1 Qc3 24.Rd3 Qa1 25.g4 b3 26.Bxb3+ Kh8 27.g5 Ng8 28.Qd5 Bd6\\n29.Rh3 g6 30.Qd3 Rf5 31.Qc3+ Qxc3 32.Rxc3 Rxg5+ 33.Ng3 Nf6 34.Kf1 Rb8 35.h3 Re5\\n36.Bc4 Rc5 37.Rcc2 Ra5 38.Ne4 Nxe4 39.Rxe4 Rxa4 40.h4 Kg7 41.h5 gxh5 42.Re1 Rbb4\\n43.Be2 Rh4 44.Bf3 a5  0-1\\n\\n[Event \"Superbet Classic 2021\"]\\n[Site \"Bucharest ROU\"]\\n[Date \"2021.06.06\"]\\n[Round \"2.1\"]\\n[White \"Caruana,F\"]\\n[Black \"Lupulescu,C\"]\\n[Result \"1-0\"]\\n[WhiteElo \"2820\"]\\n[BlackElo \"2656\"]\\n[ECO \"C11\"]\\n\\n1.e4 e6 2.d4 d5 3.Nc3 Nf6 4.Bg5 dxe4 5.Nxe4 Nbd7 6.Nf3 h6 7.Bxf6 Nxf6 8.Bd3 Nxe4\\n9.Bxe4 c5 10.Qe2 Qa5+ 11.c3 cxd4 12.Nxd4 Be7 13.O-O-O O-O 14.Kb1 Rd8 15.Bc2 Bd7\\n16.Qe4 g6 17.h4 Ba4 18.Bxa4 Qxa4 19.h5 g5 20.Qxb7 Bc5 21.Qc6 Qxc6 22.Nxc6 Rxd1+\\n23.Rxd1 Bxf2 24.Rd7 f6 25.Nd8 Bb6 26.Nf7 Rf8 27.Nxh6+ Kh8 28.Kc2  1-0\\n\\n[Event \"Superbet Classic 2021\"]\\n[Site \"Bucharest ROU\"]\\n[Date \"2021.06.06\"]\\n[Round \"2.3\"]\\n[White \"Giri,A\"]\\n[Black \"Radjabov,T\"]\\n[Result \"1/2-1/2\"]\\n[WhiteElo \"2780\"]\\n[BlackElo \"2765\"]\\n[ECO \"E06\"]\\n\\n1.d4 Nf6 2.c4 e6 3.Nf3 d5 4.g3 Be7 5.Bg2 O-O 6.O-O dxc4 7.Qc2 a6 8.a4 Bd7\\n9.Qxc4 Bc6 10.Bf4 Bd6 11.Nc3 Nbd7 12.Rfd1 Bxf4 13.gxf4 Nb6 14.Qd3 a5 15.Ne5 Bxg2\\n16.Kxg2 Nbd5 17.Qf3 c6 18.e3 Qe7 19.h3 Nd7 20.Nxd7 Qxd7 21.Ne4 Qe7 22.Kh2 b6\\n23.Rac1 Rac8 24.Rc4 Rc7 25.Rdc1 Rfc8 26.b3 Qa3 27.Qd1 Qe7 28.Qf3 Qa3 29.Qd1 Qe7\\n30.Qf3  1/2-1/2\\n\\n[Event \"Superbet Classic 2021\"]\\n[Site \"Bucharest ROU\"]\\n[Date \"2021.06.07\"]\\n[Round \"3.1\"]\\n[White \"Aronian,L\"]\\n[Black \"Caruana,F\"]\\n[Result \"1/2-1/2\"]\\n[WhiteElo \"2781\"]\\n[BlackElo \"2820\"]\\n[ECO \"D26\"]\\n\\n1.d4 d5 2.c4 dxc4 3.e3 Nf6 4.Bxc4 e6 5.Nf3 c5 6.O-O Nc6 7.Nc3 a6 8.Ne5 Qc7\\n9.Nxc6 Qxc6 10.d5 exd5 11.Nxd5 b5 12.Nxf6+ Qxf6 13.Bd5 Rb8 14.e4 Be7 15.a4 O-O\\n16.axb5 Rxb5 17.Ra3 Rb6 18.Rf3 Qe5 19.Bd2 Rg6 20.Bc3 Qc7 21.Rg3 Bb7 22.Rxg6 hxg6\\n23.Bxb7 Qxb7 24.Qg4 c4 25.e5 Bb4 26.Bxb4 Qxb4 27.e6 Qxb2 28.Qxc4 Qf6 29.Qxa6 Qxe6\\n30.Qxe6 fxe6 31.Kh1 Kh8 32.Kg1 Kg8 33.Kh1 Kh8 34.Kg1 Kg8  1/2-1/2\\n\\n[Event \"Superbet Classic 2021\"]\\n[Site \"Bucharest ROU\"]\\n[Date \"2021.06.07\"]\\n[Round \"3.2\"]\\n[White \"Deac,Bogdan-Daniel\"]\\n[Black \"Mamedyarov,S\"]\\n[Result \"1/2-1/2\"]\\n[WhiteElo \"2627\"]\\n[BlackElo \"2770\"]\\n[ECO \"E04\"]\\n\\n1.d4 Nf6 2.c4 e6 3.Nf3 d5 4.g3 dxc4 5.Bg2 Nc6 6.Qa4 Bb4+ 7.Bd2 Nd5 8.Bxb4 Nxb4\\n9.O-O Rb8 10.Na3 O-O 11.Qb5 b6 12.Qxc4 Ba6 13.Nb5 Qe8 14.Rfc1 Nd5 15.e4 Na5\\n16.Nxc7 Nxc4 17.Nxe8 Rfxe8 18.exd5 exd5 19.b3 Nd6 20.Ne5 Bb7 21.Nc6 Bxc6\\n22.Rxc6 Nb5 23.Bxd5 Re7 24.Bc4 Nxd4 25.Rd6 Nf3+ 26.Kg2 Ne1+ 27.Kf1 Nf3 28.h3 g5\\n29.Rad1 Ne5 30.R6d5 h6 31.Ba6 Kg7 32.Kg2 Rbe8 33.a4 Rc7 34.a5 Re6 35.Re1 Kf6\\n36.axb6 axb6 37.Re4 Rc3 38.Rb5 Nd7 39.Rxe6+ Kxe6 40.Rb4 Kd6 41.Bc4 f6 42.Rb5 Ke7\\n43.f4 Rc2+ 44.Kf3 Rc3+ 45.Kg2 Rc2+ 46.Kf3 Rc3+ 47.Kg2 Rc2+ 48.Kf3 Rc3+  1/2-1/2\\n\\n[Event \"Superbet Classic 2021\"]\\n[Site \"Bucharest ROU\"]\\n[Date \"2021.06.07\"]\\n[Round \"3.3\"]\\n[White \"Grischuk,A\"]\\n[Black \"So,W\"]\\n[Result \"1/2-1/2\"]\\n[WhiteElo \"2776\"]\\n[BlackElo \"2770\"]\\n[ECO \"C67\"]\\n\\n1.e4 e5 2.Nf3 Nc6 3.Bb5 Nf6 4.O-O Nxe4 5.d4 Nd6 6.Bxc6 dxc6 7.dxe5 Nf5 8.Qxd8+ Kxd8\\n9.h3 Be7 10.Rd1+ Ke8 11.g4 Nh4 12.Nxh4 Bxh4 13.Nc3 h5 14.g5 f6 15.exf6 gxf6\\n16.Ne4 fxg5 17.Bxg5 Bxg5 18.Nxg5 Ke7 19.Re1+ Kf6 20.Ne4+ Kf7 21.Ng5+ Kf6\\n22.Ne4+ Kf7 23.Ng5+ Kf6  1/2-1/2\\n\\n[Event \"Superbet Classic 2021\"]\\n[Site \"Bucharest ROU\"]\\n[Date \"2021.06.07\"]\\n[Round \"3.5\"]\\n[White \"Lupulescu,C\"]\\n[Black \"Giri,A\"]\\n[Result \"1-0\"]\\n[WhiteElo \"2656\"]\\n[BlackElo \"2780\"]\\n[ECO \"A28\"]\\n\\n1.c4 e5 2.Nc3 Nf6 3.Nf3 Nc6 4.e3 Bb4 5.Qc2 Bxc3 6.Qxc3 Qe7 7.d4 Ne4 8.Qd3 exd4\\n9.Nxd4 Nc5 10.Qd1 Nxd4 11.Qxd4 O-O 12.Be2 b6 13.O-O Bb7 14.f3 a5 15.Bd2 f5\\n16.Rad1 d6 17.b3 Rae8 18.Rf2 Rf6 19.Bd3 Qf7 20.Re2 Qh5 21.Be1 Be4 22.Bb1 Rg6\\n23.Bg3 Bxb1 24.Rxb1 Ne4 25.Rbe1 Nxg3 26.Qd5+ Kh8 27.hxg3 Rxg3 28.e4 Qxf3\\n29.Qf7 Rg8 30.exf5 Qc6 31.Rf2 Qc5 32.Re7 Qd4 33.Re8 Rxg2+ 34.Kxg2 Qg4+ 35.Kh2 Qh4+\\n36.Kg2 Qg4+ 37.Kf1 Qh3+ 38.Ke1 Qc3+ 39.Rd2  1-0\\n\\n[Event \"Superbet Classic 2021\"]\\n[Site \"Bucharest ROU\"]\\n[Date \"2021.06.08\"]\\n[Round \"4.5\"]\\n[White \"Vachier Lagrave,M\"]\\n[Black \"Lupulescu,C\"]\\n[Result \"1/2-1/2\"]\\n[WhiteElo \"2760\"]\\n[BlackElo \"2656\"]\\n[ECO \"C11\"]\\n\\n1.e4 e6 2.d4 d5 3.Nc3 Nf6 4.e5 Nfd7 5.f4 c5 6.Nf3 Nc6 7.Be3 cxd4 8.Nxd4 Qb6\\n9.Qd2 Qxb2 10.Rb1 Qa3 11.Bb5 Nxd4 12.Bxd4 a6 13.Bxd7+ Bxd7 14.Rxb7 Bb4 15.O-O Bc8\\n16.Rb6 O-O 17.Rb1 Bc5 18.R6b3 Qa5 19.Bxc5 Qxc5+ 20.Qf2 Qxf2+ 21.Kxf2 Bd7\\n22.Ne2 Ba4 23.Rc3 Rfc8 24.Rxc8+ Rxc8 25.Nd4 g6 26.Ke3 Rc4 27.a3 Bxc2 28.Rc1 Bd3\\n29.Rxc4 Bxc4 30.g4 Kf8 31.Nc2 Bb3 32.Nb4 Bc4 33.g5 Kg7 34.Kd4 h5 35.Nc6 Bb5\\n36.Na5 Kf8 37.Kc5 Ke7 38.Nb3 Bc4 39.Nd4 Bd3 40.a4 Bf1 41.a5 Bd3 42.Kc6 Bc4\\n43.Kc5 Bd3 44.Kc6 Bc4 45.Kc5 Bd3  1/2-1/2\\n\\n[Event \"Superbet Classic 2021\"]\\n[Site \"Bucharest ROU\"]\\n[Date \"2021.06.08\"]\\n[Round \"4.3\"]\\n[White \"Giri,A\"]\\n[Black \"Aronian,L\"]\\n[Result \"1/2-1/2\"]\\n[WhiteElo \"2780\"]\\n[BlackElo \"2781\"]\\n[ECO \"E04\"]\\n\\n1.d4 Nf6 2.c4 e6 3.Nf3 d5 4.g3 dxc4 5.Bg2 c5 6.O-O Nc6 7.dxc5 Qxd1 8.Rxd1 Bxc5\\n9.Nbd2 c3 10.bxc3 O-O 11.Nb3 Be7 12.c4 Bd7 13.a4 Rad8 14.Bb2 Bc8 15.Nfd4 Nxd4\\n16.Bxd4 b6 17.a5 Nd7 18.axb6 axb6 19.Bc6 Bf6 20.Bb5 g5 21.f4 gxf4 22.gxf4 Bxd4+\\n23.Rxd4 Nf6 24.Ra7 e5 25.fxe5 Ng4 26.Ra8 Rxd4 27.Nxd4 Nxe5 28.Rb8 Be6 29.Rxb6 Bxc4\\n30.Bxc4 Nxc4 31.Rc6 Ne5 32.Rb6 Nc4 33.Rc6 Ne5 34.Rb6 Nc4  1/2-1/2\\n\\n[Event \"Superbet Classic 2021\"]\\n[Site \"Bucharest ROU\"]\\n[Date \"2021.06.08\"]\\n[Round \"4.2\"]\\n[White \"Grischuk,A\"]\\n[Black \"Deac,Bogdan-Daniel\"]\\n[Result \"1-0\"]\\n[WhiteElo \"2776\"]\\n[BlackElo \"2627\"]\\n[ECO \"D41\"]\\n\\n1.Nf3 d5 2.d4 Nf6 3.c4 e6 4.Nc3 c5 5.cxd5 cxd4 6.Qxd4 exd5 7.Bg5 Be7 8.e3 O-O\\n9.Be2 Nc6 10.Qd3 h6 11.Bh4 Be6 12.O-O Qb6 13.a3 Rfd8 14.Rfd1 Ne4 15.Bxe7 Nxe7\\n16.Nd4 Nxc3 17.Qxc3 Rac8 18.Qd2 Nf5 19.Bf3 Rc4 20.Nxf5 Bxf5 21.Bxd5 Be6 22.e4 Bxd5\\n23.exd5 Qb5 24.h3 Rd6 25.b4 Rc7 26.Qf4 Rcd7 27.Rac1 Rxd5 28.Rxd5 Qxd5 29.Qb8+ Kh7\\n30.Qxa7 Qd2 31.Qc5 g6 32.Qc3 Qf4 33.Re1 Rd2 34.Qe3 Qd6 35.Qf3 Qc7 36.Qf6 Rd6\\n37.Qe7 Rd7 38.Qe5 Qd8 39.g3 b6 40.a4 Rd4 41.Re4 Rd1+ 42.Kh2 Qa8 43.b5 Rf1\\n44.Qd4 Qb7 45.Qe3 Ra1 46.Qd4 Rf1 47.Qe3 Ra1 48.g4 Rd1 49.Qf3 Rd4 50.Re3 Qc7+\\n51.Qg3 Qd7 52.Qb8 Rxa4 53.Qxb6 Rf4 54.Kg3 g5 55.Rf3 Rb4 56.Qc6 Qe6 57.Kg2 Kg8\\n58.Qa8+ Kh7 59.Qf8 Rf4 60.Rxf4 gxf4 61.Qa8 h5 62.Qc6  1-0\\n\\n[Event \"Superbet Classic 2021\"]\\n[Site \"Bucharest ROU\"]\\n[Date \"2021.06.08\"]\\n[Round \"4.4\"]\\n[White \"Mamedyarov,S\"]\\n[Black \"Radjabov,T\"]\\n[Result \"1/2-1/2\"]\\n[WhiteElo \"2770\"]\\n[BlackElo \"2765\"]\\n[ECO \"E60\"]\\n\\n1.d4 Nf6 2.c4 g6 3.Nf3 Bg7 4.g3 c5 5.Bg2 cxd4 6.Nxd4 O-O 7.Nc3 Qc7 8.Nd5 Nxd5\\n9.cxd5 d6 10.O-O Qb6 11.Nb3 Qa6 12.Re1 Nd7 13.e4 Ne5 14.Bg5 Bg4 15.f3 Bd7\\n16.Bf1 Qb6+ 17.Be3 Qb4 18.Bd2 Qb6+ 19.Be3 Qb4 20.Bd2 Qb6+ 21.Be3  1/2-1/2\\n\\n[Event \"Superbet Classic 2021\"]\\n[Site \"Bucharest ROU\"]\\n[Date \"2021.06.08\"]\\n[Round \"4.1\"]\\n[White \"So,W\"]\\n[Black \"Caruana,F\"]\\n[Result \"1-0\"]\\n[WhiteElo \"2770\"]\\n[BlackElo \"2820\"]\\n[ECO \"A20\"]\\n\\n1.c4 e5 2.g3 Nf6 3.Bg2 Bc5 4.d3 c6 5.Nf3 d6 6.O-O O-O 7.Nc3 a5 8.d4 exd4\\n9.Nxd4 a4 10.Rb1 Re8 11.e3 Qa5 12.Bd2 Bg4 13.f3 Bh5 14.Ne4 Qd8 15.Nxc5 dxc5\\n16.Ne2 Qd3 17.Nf4 Qxc4 18.b3 axb3 19.axb3 Qb5 20.e4 Bg6 21.Bc3 Na6 22.h4 h5\\n23.Qc1 Kh7 24.Rd1 Rad8 25.Qb2 c4 26.Bxf6 gxf6 27.Qxf6 Rxd1+ 28.Rxd1 Qc5+\\n29.Kh2 Qe7 30.Qxe7 Rxe7 31.bxc4 Kg7 32.Bh3 Nc5 33.Rd6 f6 34.Ne6+ Nxe6 35.Bxe6 Be8\\n36.c5 Bf7 37.Bc8 Re5 38.Bxb7 Rxc5 39.Rxc6 Rb5 40.Ba6 Rb2+ 41.Kg1 Be8 42.Rc5 Kh6\\n43.Kf1 Bd7 44.Be2 Be8 45.Kf2 Rb3 46.Rd5 Ra3 47.Bd3 Kg7 48.Ke3 Rb3 49.Kf4 Rb4\\n50.Rc5 Bf7 51.Rc7 Kg6 52.g4  1-0\\n\\n[Event \"Superbet Classic 2021\"]\\n[Site \"Bucharest ROU\"]\\n[Date \"2021.06.09\"]\\n[Round \"5.2\"]\\n[White \"Radjabov,T\"]\\n[Black \"Grischuk,A\"]\\n[Result \"1/2-1/2\"]\\n[WhiteElo \"2765\"]\\n[BlackElo \"2776\"]\\n[ECO \"D37\"]\\n\\n1.d4 Nf6 2.c4 e6 3.Nf3 d5 4.Nc3 Be7 5.Bf4 O-O 6.e3 Nbd7 7.c5 Nh5 8.Bd3 Nxf4\\n9.exf4 b6 10.b4 a5 11.a3 c6 12.O-O Ba6 13.Bxa6 Rxa6 14.Qe2 Qa8 15.b5 cxb5\\n16.Qxb5 Ra7 17.Ne5 Nxe5 18.cxb6 Nc4 19.bxa7 Qxa7 20.f5 Qxd4 21.Qd7 Nd2 22.Qxe7 Nxf1\\n23.fxe6 fxe6 24.Qxe6+ Kh8 25.Rxf1 Qxc3 26.Qxd5 Qxa3 27.g3 Qb4 28.Ra1 a4 29.Qc6 Qb2\\n30.Qxa4 Qxf2+ 31.Kh1 Qf3+ 32.Kg1 Qf2+ 33.Kh1 Qf3+ 34.Kg1 Qe3+ 35.Kh1 Qf3+  1/2-1/2\\n\\n[Event \"Superbet Classic 2021\"]\\n[Site \"Bucharest ROU\"]\\n[Date \"2021.06.09\"]\\n[Round \"5.1\"]\\n[White \"Deac,Bogdan-Daniel\"]\\n[Black \"So,W\"]\\n[Result \"1/2-1/2\"]\\n[WhiteElo \"2627\"]\\n[BlackElo \"2770\"]\\n[ECO \"D37\"]\\n\\n1.d4 Nf6 2.c4 e6 3.Nf3 d5 4.Nc3 dxc4 5.e4 Bb4 6.Bxc4 Nxe4 7.O-O Nxc3 8.bxc3 Be7\\n9.Ne5 O-O 10.Qg4 Nc6 11.Re1 f5 12.Qf3 Nxe5 13.Rxe5 Kh8 14.Bf4 Bd6 15.Re2 Bxf4\\n16.Qxf4 Qd6 17.Qxd6 cxd6 18.Bxe6 Re8 19.Rae1 Bxe6 20.Rxe6 Rxe6 21.Rxe6 Rc8\\n22.Rxd6 Kg8 23.h4 Rxc3 24.Rd8+ Kf7 25.Rd7+ Kf6 26.Rxb7 Ra3 27.d5 Rxa2 28.d6 Rd2\\n29.Rxa7 Rxd6 30.g3 h5 31.Kg2 Re6 32.Ra8 Rd6 33.Rf8+ Kg6 34.Re8 Kf6 35.Rf8+ Kg6\\n36.Re8 Kf6 37.Rf8+  1/2-1/2\\n\\n[Event \"Superbet Classic 2021\"]\\n[Site \"Bucharest ROU\"]\\n[Date \"2021.06.09\"]\\n[Round \"5.4\"]\\n[White \"Caruana,F\"]\\n[Black \"Giri,A\"]\\n[Result \"1/2-1/2\"]\\n[WhiteElo \"2820\"]\\n[BlackElo \"2780\"]\\n[ECO \"C67\"]\\n\\n1.e4 e5 2.Nf3 Nc6 3.Bb5 Nf6 4.O-O Nxe4 5.d4 Nd6 6.Bxc6 dxc6 7.dxe5 Nf5 8.Qe2 Nd4\\n9.Nxd4 Qxd4 10.h3 Be6 11.Rd1 Qc4 12.Rd3 Rd8 13.b3 Qh4 14.Rxd8+ Qxd8 15.Be3 Be7\\n16.Nc3 O-O 17.Rd1 Qc8 18.f4 Rd8 19.Rf1 f5 20.exf6 Bxf6 21.Ne4 Be7 22.Bc5 Bxc5+\\n23.Nxc5 Bf5 24.g4 b6 25.Na4 Qe6 26.Rf2 Qg6 27.Nc3 h5 28.Rg2 hxg4 29.hxg4 Qf6\\n30.gxf5 Qxc3 31.Qe5 Qxe5 32.fxe5 Kf7 33.Kh2 Rd4 34.Kg3 Re4 35.e6+ Kf6 36.Kf3 Re5\\n37.Rg6+ Kxf5 38.Rxg7 Kxe6 39.Rxc7 Ra5 40.Rxc6+ Kd7 41.Rc3 Rxa2 42.Ke4 Kd6\\n43.Rc8 Kd7 44.Rc3 Kd6 45.Rc8 Kd7 46.Rc3  1/2-1/2\\n\\n[Event \"Superbet Classic 2021\"]\\n[Site \"Bucharest ROU\"]\\n[Date \"2021.06.09\"]\\n[Round \"5.3\"]\\n[White \"Lupulescu,C\"]\\n[Black \"Mamedyarov,S\"]\\n[Result \"0-1\"]\\n[WhiteElo \"2656\"]\\n[BlackElo \"2770\"]\\n[ECO \"A06\"]\\n\\n1.Nf3 d5 2.e3 e6 3.c4 Be7 4.b3 Bf6 5.Nc3 Ne7 6.Bb2 c5 7.Qc2 Nbc6 8.Na4 b6\\n9.Bxf6 gxf6 10.cxd5 Qxd5 11.Nc3 Qh5 12.Ne4 Qg6 13.Nh4 Qh6 14.Nd6+ Kf8 15.Nxc8 Rxc8\\n16.g3 Rd8 17.Be2 Kg7 18.a3 Rd6 19.f4 Rhd8 20.Rd1 f5 21.Nf3 Nd5 22.O-O Kg8\\n23.Rb1 a5 24.Bb5 Nce7 25.Rfd1 Nf6 26.Bf1 Ng4 27.h3 Nf6 28.d3 Nc6 29.Re1 Qg7\\n30.Qf2 Kh8 31.Kh2 Rg8 32.Be2 Nd5 33.Bf1 e5 34.fxe5 Rg6 35.Nh4 Rxg3 36.d4 Qg5\\n37.Ng2 cxd4 38.exd4 Nxd4  0-1\\n\\n[Event \"Superbet Classic 2021\"]\\n[Site \"Bucharest ROU\"]\\n[Date \"2021.06.09\"]\\n[Round \"5.5\"]\\n[White \"Aronian,L\"]\\n[Black \"Vachier Lagrave,M\"]\\n[Result \"1/2-1/2\"]\\n[WhiteElo \"2781\"]\\n[BlackElo \"2760\"]\\n[ECO \"A34\"]\\n\\n1.Nf3 Nf6 2.c4 c5 3.Nc3 d5 4.cxd5 Nxd5 5.e3 e6 6.Bc4 Be7 7.O-O O-O 8.Qe2 Nc6\\n9.d4 cxd4 10.exd4 Nb6 11.Bd3 Nxd4 12.Nxd4 Qxd4 13.Rd1 Qh4 14.g3 Qh3 15.Be4 e5\\n16.Bg2 Qg4 17.Qxe5 Bf6 18.Qe1 Bf5 19.h3 Qb4 20.Ne4 Qxe1+ 21.Rxe1 Bd4 22.Nd6 Be6\\n23.Nb5 Bc5 24.Be3 Bxe3 25.Rxe3 Rad8 26.b3 Nd5 27.Re5 Nb4 28.Re2 Nc6 29.Bxc6 bxc6\\n30.Nxa7 Ra8 31.Nxc6 Bxb3 32.Rb2 Be6 33.a4 Ra6 34.Ne7+ Kh8 35.a5 g6 36.Rb6 Rfa8\\n37.Rxa6 Rxa6 38.g4 Kg7 39.f4 f5 40.Rb1 Rxa5 41.Nc6 Ra4 42.Rb7+ Kf8 43.Rb8+ Kg7\\n44.Rb7+ Kf8 45.Rb8+ Kg7 46.Rb7+  1/2-1/2\\n\\n[Event \"Superbet Classic 2021\"]\\n[Site \"Bucharest ROU\"]\\n[Date \"2021.06.11\"]\\n[Round \"6.3\"]\\n[White \"Grischuk,A\"]\\n[Black \"Lupulescu,C\"]\\n[Result \"1-0\"]\\n[WhiteElo \"2776\"]\\n[BlackElo \"2656\"]\\n[ECO \"B67\"]\\n\\n1.e4 c5 2.Nf3 d6 3.d4 cxd4 4.Nxd4 Nf6 5.Nc3 Nc6 6.Bg5 Bd7 7.Qd2 a6 8.O-O-O e6\\n9.f4 b5 10.Bxf6 gxf6 11.Kb1 Qb6 12.Nxc6 Bxc6 13.f5 b4 14.Ne2 e5 15.Ng3 Qc5\\n16.b3 h5 17.h4 Bb5 18.Qe1 Rc8 19.Bxb5+ axb5 20.Qe2 Ra8 21.Rd5 Qa7 22.Qxb5+ Kd8\\n23.a4 bxa3 24.Rhd1 Be7 25.Qe2 Rc8 26.c4 Rg8 27.Nxh5 a2+ 28.Ka1 Rb8 29.R5d3 Qa3\\n30.Qc2 Rg4 31.c5 Rc8 32.Rc3 d5 33.Rxd5+ Ke8 34.g3 Qb4 35.Rc4 Qe1+ 36.Rd1 Qe3\\n37.Qd3  1-0\\n\\n[Event \"Superbet Classic 2021\"]\\n[Site \"Bucharest ROU\"]\\n[Date \"2021.06.11\"]\\n[Round \"6.4\"]\\n[White \"Vachier Lagrave,M\"]\\n[Black \"Caruana,F\"]\\n[Result \"1/2-1/2\"]\\n[WhiteElo \"2760\"]\\n[BlackElo \"2820\"]\\n[ECO \"C78\"]\\n\\n1.e4 e5 2.Nf3 Nc6 3.Bb5 a6 4.Ba4 Nf6 5.O-O Bc5 6.c3 b5 7.Bc2 d5 8.a4 dxe4\\n9.axb5 Bg4 10.bxc6 exf3 11.gxf3 Bh3 12.Re1 O-O 13.Ra5 Qd6 14.b4 Bxf2+ 15.Kxf2 e4\\n16.Kg1 Rae8 17.Re3 Nh5 18.f4 Nxf4 19.Rg5 f5 20.d4 Bg4 21.Rxg4 fxg4 22.Qxg4 Nd3\\n23.Bxd3 exd3 24.Rxe8 Rxe8 25.Bf4 Qxc6 26.Be5 Qh6 27.Bf4 Qc6 28.Be5 Qh6 29.Bf4 Qc6  1/2-1/2\\n\\n[Event \"Superbet Classic 2021\"]\\n[Site \"Bucharest ROU\"]\\n[Date \"2021.06.11\"]\\n[Round \"6.2\"]\\n[White \"So,W\"]\\n[Black \"Giri,A\"]\\n[Result \"1/2-1/2\"]\\n[WhiteElo \"2770\"]\\n[BlackElo \"2780\"]\\n[ECO \"E49\"]\\n\\n1.d4 Nf6 2.c4 e6 3.Nc3 Bb4 4.e3 O-O 5.Bd3 d5 6.a3 Bxc3+ 7.bxc3 dxc4 8.Bxc4 c5\\n9.Nf3 Qc7 10.Be2 b6 11.Bb2 cxd4 12.cxd4 Ba6 13.O-O Bxe2 14.Qxe2 Nbd7 15.e4 Rac8\\n16.Rfc1 Qb7 17.Re1 h6 18.Rab1 Rc7 19.Nd2 Rfc8 20.Nf1 Qc6 21.f3 Qc2 22.Qb5 Qc6\\n23.Qe2 Qc2 24.Ne3 Qxe2 25.Rxe2 Ne8 26.d5 Nc5 27.dxe6 Nxe6 28.Rd2 b5 29.Kf2 Rb7\\n30.h4 h5 31.Nd5 f6 32.Rbd1 a5 33.Bc3 Ra8 34.Rb2 Kf7 35.Be1 Ra6 36.Ne3 Nd6\\n37.Bxa5 Rxa5 38.Rxd6 Rxa3 39.Rd5 Nf4 40.Rdxb5 Rxb5 41.Rxb5 g6 42.Rb7+ Ke6\\n43.Rb6+ Kf7 44.Rb7+ Ke8 45.Rb8+ Kf7 46.Rc8 Ra2+ 47.Rc2 Rxc2+ 48.Nxc2 g5 49.hxg5 fxg5\\n50.Nd4 h4 51.g3 hxg3+ 52.Kxg3 Nd3 53.Nc6 Kg6 54.Ne7+ Kf6 55.Nd5+ Kg6 56.Ne3 Kf6\\n57.Ng4+ Ke6 58.Kg2 Nf4+ 59.Kf2 Nd3+ 60.Ke3 Nf4 61.Nh2 Ng2+ 62.Kf2 Nf4 63.Nf1 Nd3+\\n64.Ke3 Nf4 65.Nd2 Ng2+ 66.Kd4 Nh4 67.Ke3 Ng2+ 68.Kf2 Nf4 69.Nc4 Nd3+ 70.Ke3 Nf4\\n71.Nb2 Ng2+ 72.Ke2 g4 73.fxg4 Ke5 74.Kf3 Nh4+ 75.Kg3 Ng6 76.Kf3 Nh4+ 77.Kg3 Ng6\\n78.g5 Kxe4 79.Kg4 Ne5+ 80.Kh5 Kf5 81.Kh6 Nf7+ 82.Kh5 Nxg5 83.Nc4 Ke4 84.Ne3 Kxe3  1/2-1/2\\n\\n[Event \"Superbet Classic 2021\"]\\n[Site \"Bucharest ROU\"]\\n[Date \"2021.06.11\"]\\n[Round \"6.5\"]\\n[White \"Deac,Bogdan-Daniel\"]\\n[Black \"Radjabov,T\"]\\n[Result \"1/2-1/2\"]\\n[WhiteElo \"2627\"]\\n[BlackElo \"2765\"]\\n[ECO \"C67\"]\\n\\n1.e4 e5 2.Nf3 Nc6 3.Bb5 Nf6 4.O-O Nxe4 5.Re1 Nd6 6.Nxe5 Be7 7.Bf1 Nxe5 8.Rxe5 O-O\\n9.d4 Bf6 10.Re1 Re8 11.Bf4 Rxe1 12.Qxe1 Ne8 13.c3 d5 14.Bd3 g6 15.Nd2 Ng7\\n16.Qe2 c6 17.Re1 Bf5 18.Nf3 Qd7 19.Be5 Re8 20.Qd2 Bxe5 21.Nxe5 Qd8 22.Bxf5 Nxf5\\n23.g3 f6 24.Nd3 Nd6 25.h4 Rxe1+ 26.Qxe1 Kf7 27.f3 Qe7 28.Kf2 Nf5 29.Qd2 Qd6\\n30.Qf4 Qxf4 31.Nxf4 g5 32.hxg5 fxg5 33.Nd3 h5 34.g4 hxg4 35.fxg4 Nd6 36.Ke2 Ke7\\n37.Ne5 Nc4 38.Nxc4 dxc4 39.Ke3 b5 40.Ke4 Ke6 41.a3 a5 42.Kf3 Kd5 43.Ke3 Kd6\\n44.Ke4 Ke6 45.Kf3 Kd5 46.Ke3 Kd6 47.Ke4 Ke6  1/2-1/2\\n\\n[Event \"Superbet Classic 2021\"]\\n[Site \"Bucharest ROU\"]\\n[Date \"2021.06.11\"]\\n[Round \"6.1\"]\\n[White \"Mamedyarov,S\"]\\n[Black \"Aronian,L\"]\\n[Result \"1-0\"]\\n[WhiteElo \"2770\"]\\n[BlackElo \"2781\"]\\n[ECO \"D38\"]\\n\\n1.d4 Nf6 2.c4 e6 3.Nf3 d5 4.Nc3 Bb4 5.Qa4+ Nc6 6.e3 O-O 7.Bd2 dxc4 8.Bxc4 Bd6\\n9.Qc2 e5 10.dxe5 Nxe5 11.Nxe5 Bxe5 12.f4 Bxc3 13.Bxc3 Ng4 14.Bd4 c5 15.Bxc5 Re8\\n16.O-O Nxe3 17.Bxe3 Rxe3 18.Rfe1 Rxe1+ 19.Rxe1 Bd7 20.Qb3 Qf6 21.Qxb7 Qd4+\\n22.Kh1 Re8 23.Rxe8+ Bxe8 24.Bxf7+ Kf8 25.Bb3 Qc5 26.Qd5 Qc1+ 27.Bd1 Qxf4\\n28.Qc5+ Kg8 29.Qxa7 h5 30.h3 Bc6 31.Bb3+ Kh7 32.Qf7 Qc1+ 33.Kh2 Qc5 34.Qg8+ Kh6\\n35.Qe6+ g6 36.Qf6 Bd7 37.h4 Qc7+ 38.g3 Qc8 39.Qf4+ Kh7 40.Qf7+  1-0\\n\\n[Event \"Superbet Classic 2021\"]\\n[Site \"Bucharest ROU\"]\\n[Date \"2021.06.12\"]\\n[Round \"7.4\"]\\n[White \"Giri,A\"]\\n[Black \"Vachier Lagrave,M\"]\\n[Result \"1-0\"]\\n[WhiteElo \"2780\"]\\n[BlackElo \"2760\"]\\n[ECO \"A34\"]\\n\\n1.Nf3 Nf6 2.c4 c5 3.Nc3 d5 4.cxd5 Nxd5 5.d4 Nxc3 6.bxc3 g6 7.e3 Bg7 8.Bb5+ Bd7\\n9.Bd3 O-O 10.O-O Qa5 11.Qb3 Qc7 12.Rb1 b6 13.Ba3 Nc6 14.dxc5 Be6 15.cxb6 axb6\\n16.Qxb6 Qxb6 17.Rxb6 Rxa3 18.Rxc6 Bd5 19.Rc5 Bxf3 20.gxf3 Bxc3 21.Bc4 Bb4\\n22.Rb5 Bd6 23.Rc1 Rfa8 24.f4 Kg7 25.Bb3 R8a5 26.Rd5 Rxd5 27.Bxd5 h6 28.h3 g5\\n29.fxg5 hxg5 30.Bb3 Ra5 31.a4 Rc5 32.Rb1 Kf6 33.Kg2 Bc7 34.Bd1 Rd5 35.Rc1 Bd6\\n36.Be2 Rc5 37.Ra1 Rc3 38.a5 Ra3 39.Rxa3 Bxa3 40.Kf3 e6 41.Bd3 Ke7 42.Kg4 Kf6\\n43.a6 Bc5 44.Bb5 Ba7 45.Be8 Ke7 46.Bxf7 Kxf7 47.Kxg5 Kg7 48.h4 e5 49.Kf5 Bb8\\n50.Ke4  1-0\\n\\n[Event \"Superbet Classic 2021\"]\\n[Site \"Bucharest ROU\"]\\n[Date \"2021.06.12\"]\\n[Round \"7.5\"]\\n[White \"Lupulescu,C\"]\\n[Black \"Deac,Bogdan-Daniel\"]\\n[Result \"1/2-1/2\"]\\n[WhiteElo \"2656\"]\\n[BlackElo \"2627\"]\\n[ECO \"A22\"]\\n\\n1.c4 Nf6 2.Nc3 e5 3.e3 Nc6 4.a3 g6 5.d4 exd4 6.exd4 d5 7.Bg5 Be7 8.Nf3 O-O\\n9.Be2 Be6 10.cxd5 Bxd5 11.Nxd5 Nxd5 12.Bh6 Re8 13.O-O Bf6 14.Rc1 a6 15.Bc4 Qd6\\n16.Ba2 Bg7 17.Bxg7 Kxg7 18.Qb3 Nce7 19.Rfe1 Qb6 20.Qxb6 cxb6 21.Re5 Red8\\n22.g3 Rd7 23.Re2 f6 24.Bxd5 Nxd5 25.Rec2 g5 26.Kf1 Re8 27.Re2 Red8 28.Ne1 Kf7\\n29.Nc2 b5 30.Ne3 Ne7 31.Rd2 h5 32.Rcd1 Nc8 33.d5 Nd6 34.Rc2 Kg6 35.Rd4 Re8\\n36.h4 Ne4 37.Kg2 Nd6 38.Kf1 Rde7 39.Rc1 Ne4 40.Ng2 Nd6 41.Ne3 Rf7 42.Kg2 Re5\\n43.Kg1 Rd7 44.Kf1 Rde7 45.Kg2 Rd7 46.Kf1 Rde7 47.Kg2 gxh4 48.gxh4 Re4 49.Rcd1 f5\\n50.Kf3 Kf6 51.Ng2 Ke5 52.Rxe4+ fxe4+ 53.Ke2 Nc4 54.Ne3 Nxb2 55.d6 Rd7 56.Rd5+ Ke6\\n57.Rxh5 Kxd6 58.Rh8 Nc4 59.h5 Ke5 60.Re8+ Kf4 61.Rf8+ Kg5 62.Rf5+ Kh4 63.Nxc4 bxc4\\n64.Rc5 b5 65.a4 Rh7 66.axb5 axb5 67.Rxb5 Rxh5 68.Rb8 Rc5 69.Re8 c3 70.Rxe4+ Kh3\\n71.Kd1 c2+ 72.Kc1 Kg2 73.Re2 Kf3 74.Rxc2 Rxc2+ 75.Kxc2 Kxf2  1/2-1/2\\n\\n[Event \"Superbet Classic 2021\"]\\n[Site \"Bucharest ROU\"]\\n[Date \"2021.06.12\"]\\n[Round \"7.2\"]\\n[White \"Aronian,L\"]\\n[Black \"Grischuk,A\"]\\n[Result \"1-0\"]\\n[WhiteElo \"2781\"]\\n[BlackElo \"2776\"]\\n[ECO \"D40\"]\\n\\n1.d4 Nf6 2.c4 e6 3.Nf3 d5 4.Nc3 c5 5.e3 Nc6 6.a3 dxc4 7.Bxc4 a6 8.O-O b5\\n9.Ba2 Bb7 10.d5 exd5 11.Nxd5 Be7 12.e4 O-O 13.Bf4 c4 14.Re1 Re8 15.Qd2 Bc5\\n16.Bg5 Be7 17.h4 h6 18.Bf4 Bc5 19.Bc7 Qc8 20.Nxf6+ gxf6 21.Qf4 Nd4 22.Nxd4 Bxd4\\n23.Rad1 Bc5 24.Bb1 Bf8 25.Re3 Bg7 26.Rg3 Kh8 27.e5 Qe6 28.Bf5 Qe7 29.Rd7  1-0\\n\\n[Event \"Superbet Classic 2021\"]\\n[Site \"Bucharest ROU\"]\\n[Date \"2021.06.12\"]\\n[Round \"7.1\"]\\n[White \"Caruana,F\"]\\n[Black \"Mamedyarov,S\"]\\n[Result \"0-1\"]\\n[WhiteElo \"2820\"]\\n[BlackElo \"2770\"]\\n[ECO \"C65\"]\\n\\n1.e4 e5 2.Nf3 Nc6 3.Bb5 Nf6 4.d3 Bc5 5.Nc3 Nd4 6.Ba4 c6 7.O-O d6 8.Nxd4 Bxd4\\n9.h3 g5 10.Ne2 Bb6 11.c3 Rg8 12.d4 Nxe4 13.Bc2 d5 14.Bxe4 dxe4 15.dxe5 Qxd1\\n16.Rxd1 g4 17.h4 g3 18.Nd4 Bd8 19.fxg3 Rxg3 20.Re1 Rg4 21.Bg5 Bxg5 22.hxg5 Ke7\\n23.Rad1 Bd7 24.e6 fxe6 25.g6 hxg6 26.Nb3 e5 27.Na5 Be6 28.Rd2 Rb8 29.b4 Kf6\\n30.a4 Rg3 31.Rxe4 Bd5 32.Rh4 Rxc3 33.Rh7 b6 34.Nxc6 Bxc6 35.Rc7 Rc1+ 36.Kf2 Rf8\\n37.b5 Ke6+ 38.Kg3 Rc3+ 39.Kh2 Rh8+ 40.Kg1 Rh1+ 41.Kxh1 Bxg2+ 42.Rxg2 Rxc7\\n43.Rxg6+ Kd5 44.a5 Kc5 45.axb6 axb6 46.Re6 Kxb5 47.Rxe5+ Rc5 48.Re1 Rg5  0-1\\n\\n[Event \"Superbet Classic 2021\"]\\n[Site \"Bucharest ROU\"]\\n[Date \"2021.06.12\"]\\n[Round \"7.3\"]\\n[White \"Radjabov,T\"]\\n[Black \"So,W\"]\\n[Result \"1/2-1/2\"]\\n[WhiteElo \"2765\"]\\n[BlackElo \"2770\"]\\n[ECO \"D39\"]\\n\\n1.d4 Nf6 2.c4 e6 3.Nf3 d5 4.Nc3 Bb4 5.Bg5 dxc4 6.e4 h6 7.Bxf6 Qxf6 8.Bxc4 c5\\n9.e5 Qd8 10.O-O cxd4 11.Ne4 O-O 12.Qe2 Be7 13.Rad1 Qc7 14.Ng3 Bd7 15.Nh5 g6\\n16.Bd3 Bc6 17.Nxd4 Nd7 18.Rfe1 Nxe5 19.Qxe5 Qxe5 20.Rxe5 gxh5 21.Nxc6 bxc6\\n22.Rxh5 Kg7 23.Kf1 Rfd8 24.Ke2 Rd5 25.Rh3 Rad8 26.Rg3+ Kf8 27.Bc2 Re5+ 28.Re3 Rxe3+\\n29.fxe3 Rxd1 30.Kxd1 Bf6 31.Be4 Bxb2 32.Bxc6 a5 33.a4 Be5 34.g3 Ke7 35.Ke2 Kf8\\n36.Kd1 Ke7 37.Ke2 Kf8 38.Kd1  1/2-1/2\\n\\n[Event \"Superbet Classic 2021\"]\\n[Site \"Bucharest ROU\"]\\n[Date \"2021.06.13\"]\\n[Round \"8.4\"]\\n[White \"Deac,Bogdan-Daniel\"]\\n[Black \"Aronian,L\"]\\n[Result \"0-1\"]\\n[WhiteElo \"2627\"]\\n[BlackElo \"2781\"]\\n[ECO \"B51\"]\\n\\n1.e4 c5 2.Nf3 d6 3.Bb5+ Nd7 4.d4 cxd4 5.Qxd4 a6 6.Be2 Ngf6 7.O-O e6 8.Rd1 Be7\\n9.Nc3 Qc7 10.a4 O-O 11.a5 Rd8 12.Be3 Ng4 13.Bg5 Ngf6 14.Qc4 Qxc4 15.Bxc4 b5\\n16.axb6 Nxb6 17.Be2 Bb7 18.Nd2 Rd7 19.Bd3 Rc7 20.f3 d5 21.Be3 dxe4 22.Ndxe4 Nfd5\\n23.Bd4 f6 24.b3 Kf7 25.Nxd5 Nxd5 26.Bc4 a5 27.c3 g5 28.Ra4 f5 29.Ng3 Bc5\\n30.Bxc5 Rxc5 31.Bxd5 Bxd5 32.c4 Bc6 33.Ra3 a4 34.Rda1 Rg8 35.bxa4 g4 36.f4 Rxc4\\n37.Ne2 Rb8 38.R3a2 Bd5 39.a5 Rcb4 40.Rd2 Rb2 41.Rad1 Rxd2 42.Rxd2 Ra8 43.Nc3 Rxa5\\n44.Kf2 Bc6 45.Nd1 Ra4 46.g3 Ra1 47.Nb2 Rh1 48.Nd3 Rxh2+ 49.Ke3 Rxd2 50.Kxd2 Ke7\\n51.Ne5 Kd6 52.Ke3 Kd5 53.Kd3 Be8 54.Ke3 h5 55.Nd3 Kc4 56.Ne5+ Kc3 57.Nd3 h4\\n58.gxh4 g3 59.Ne5 Bh5 60.Nd7 e5 61.Nxe5 Kc2 62.Nd3 Kd1  0-1\\n\\n[Event \"Superbet Classic 2021\"]\\n[Site \"Bucharest ROU\"]\\n[Date \"2021.06.13\"]\\n[Round \"8.2\"]\\n[White \"Grischuk,A\"]\\n[Black \"Caruana,F\"]\\n[Result \"1/2-1/2\"]\\n[WhiteElo \"2776\"]\\n[BlackElo \"2820\"]\\n[ECO \"C78\"]\\n\\n1.e4 e5 2.Nf3 Nc6 3.Bb5 a6 4.Ba4 Nf6 5.O-O Bc5 6.c3 b5 7.Bb3 d6 8.d4 Bb6\\n9.a4 Bg4 10.axb5 axb5 11.Rxa8 Qxa8 12.h3 Bh5 13.Re1 h6 14.g4 Bg6 15.Be3 exd4\\n16.cxd4 O-O 17.d5 Bxe3 18.Rxe3 Na5 19.Bc2 Nc4 20.Re1 Nxb2 21.Qd4 Nc4 22.Bd3 Qa4\\n23.Bxc4 bxc4 24.Nc3 Qc2 25.Qd2 Qb3 26.Nd4 Qa3 27.Ndb5 Qa5 28.Nd4 Re8 29.f3 Nd7\\n30.Kg2 Ne5 31.Rb1 Ra8 32.Kg3 Nd3 33.Nde2 Qc5 34.Nf4 Ne5 35.Qf2 Qa5 36.Qd4 Kh7\\n37.Nfe2 f6 38.f4 c5 39.dxc6 Nxc6 40.Qxd6 Rc8 41.Rb7 Qd8 42.Rd7 Qf8 43.Qxf8 Rxf8\\n44.Rc7 Be8 45.Rc8 Kg8 46.Nd5 Bd7 47.Rc7 Rd8 48.Kf2 Be8 49.Ng3 Nd4 50.Rxc4 Nb5\\n51.Nf5 Kf8 52.h4 Bd7 53.Nfe3 Nd6 54.Rd4 Bc6 55.Rb4 h5 56.Nc3 hxg4 57.Nxg4 Bxe4\\n58.Nxe4 Nxe4+ 59.Rxe4 f5 60.Re5 fxg4 61.Kg3 Kf7 62.Kxg4 Rd1 63.Rf5+ Kg8 64.Re5 Kf7\\n65.Rf5+ Kg8 66.Re5 Kf7  1/2-1/2\\n\\n[Event \"Superbet Classic 2021\"]\\n[Site \"Bucharest ROU\"]\\n[Date \"2021.06.13\"]\\n[Round \"8.3\"]\\n[White \"So,W\"]\\n[Black \"Vachier Lagrave,M\"]\\n[Result \"1/2-1/2\"]\\n[WhiteElo \"2770\"]\\n[BlackElo \"2760\"]\\n[ECO \"A34\"]\\n\\n1.Nf3 Nf6 2.c4 c5 3.Nc3 d5 4.cxd5 Nxd5 5.e4 Nb4 6.Bc4 Nd3+ 7.Ke2 Nf4+ 8.Kf1 Ne6\\n9.h4 Nd4 10.Nb5 Ndc6 11.d4 a6 12.d5 axb5 13.Bxb5 e6 14.Qe2 Be7 15.dxc6 Nxc6\\n16.Rh3 O-O 17.Rg3 Bxh4 18.Nxh4 Qxh4 19.Rh3 Qf6 20.Qh5 h6 21.Rg3 Kh7 22.Bxc6 bxc6\\n23.Kg1 Ra4 24.e5 Qh4 25.Qxh4 Rxh4 26.Rc3 Re4 27.Rxc5 Re1+ 28.Kh2 Rd8 29.Bg5 Rxa1\\n30.Bxd8 Rxa2 31.Rxc6 Bb7 32.Rc7 Bd5 33.Rxf7 Rxb2 34.Bf6 Rb7 35.Rxb7 Bxb7\\n36.Bd8 Bd5 37.Bc7 Bb7 38.Bd8 Bd5 39.Bc7 Bb7 40.Bd8  1/2-1/2\\n\\n[Event \"Superbet Classic 2021\"]\\n[Site \"Bucharest ROU\"]\\n[Date \"2021.06.13\"]\\n[Round \"8.5\"]\\n[White \"Radjabov,T\"]\\n[Black \"Lupulescu,C\"]\\n[Result \"1/2-1/2\"]\\n[WhiteElo \"2765\"]\\n[BlackElo \"2656\"]\\n[ECO \"B67\"]\\n\\n1.e4 c5 2.Nf3 d6 3.d4 cxd4 4.Nxd4 Nf6 5.Nc3 Nc6 6.Bg5 Bd7 7.Qd2 a6 8.O-O-O e6\\n9.f4 b5 10.Bxf6 gxf6 11.Kb1 Qb6 12.Nce2 b4 13.f5 Nxd4 14.Nxd4 e5 15.Nf3 h5\\n16.Bc4 Rc8 17.Qd5 Rh7 18.Nd2 Bc6 19.Qd3 a5 20.Bd5 Bb5 21.Bc4 Bc6 22.Bd5 Bb5\\n23.Bc4 Bd7 24.Rhe1 a4 25.Nf1 Bh6 26.b3 Ke7 27.Qe2 h4 28.Rd3 axb3 29.cxb3 Bb5\\n30.Bxb5 Qxb5 31.Nd2 Bxd2 32.Qxd2 Qb6 33.Rd1 Rc6 34.g4 hxg3 35.hxg3 Rg7 36.Qe2 Rg8\\n37.g4 Qc5 38.Rd5 Qc3 39.R5d3 Qc5 40.Rd5 Qc3 41.R5d3 Qc5  1/2-1/2\\n\\n[Event \"Superbet Classic 2021\"]\\n[Site \"Bucharest ROU\"]\\n[Date \"2021.06.14\"]\\n[Round \"9.5\"]\\n[White \"Caruana,F\"]\\n[Black \"Deac,Bogdan-Daniel\"]\\n[Result \"1/2-1/2\"]\\n[WhiteElo \"2820\"]\\n[BlackElo \"2627\"]\\n[ECO \"A07\"]\\n\\n1.Nf3 d5 2.g3 Nf6 3.Bg2 e6 4.O-O Be7 5.d3 Nc6 6.Nbd2 e5 7.e4 d4 8.Nc4 Nd7\\n9.a4 O-O 10.b3 Re8 11.h4 Bb4 12.Bg5 f6 13.Bd2 Rb8 14.h5 a6 15.a5 Nf8 16.Nh4 b5\\n17.axb6 cxb6 18.Bxb4 Nxb4 19.Qd2 Nc6 20.Nf5 g6 21.Nh4 b5 22.Na5 Nxa5 23.Rxa5 Rb6\\n24.Raa1 Qe7 25.hxg6 hxg6 26.f4 Qh7 27.fxe5 fxe5 28.Rf2 Qg7 29.c3 dxc3 30.Qxc3 Ne6\\n31.Nf3 Rd6 32.Rc1 Bd7 33.Nxe5 Nd4 34.Nxd7 Qxd7 35.b4 Qg4 36.Re1 Rd7 37.Re3 Qg5\\n38.Qc1 Kg7 39.Bh3 Rde7 40.Kg2 Rh8 41.Re1 Qh5 42.Rh1 Qe5 43.Qb2 Nc6 44.Rc1 Qxb2\\n45.Rxb2 Ne5 46.Rd1 Rd8 47.d4 Nc6 48.d5 Rd6 49.Rf1 Ne5 50.Be6 Rc7 51.Ra1 Rc4\\n52.Rba2 Rxe4 53.Rxa6 Rxa6 54.Rxa6 Rxb4 55.Kf2 Ra4 56.Rb6 Ra2+ 57.Kf1 Nc4\\n58.Rxb5 Kf6 59.Ke1 Nd6 60.Rb3 Ke5 61.Kd1 Rg2 62.g4 Ne4 63.Ke1 Rh2 64.Ra3 Rb2\\n65.Bf7 g5 66.Be6 Nf6 67.Ra5 Rb4 68.Ke2 Nxg4 69.Bxg4 Rxg4 70.Kf3 Rd4 71.Kg3 Rxd5\\n72.Rxd5+ Kxd5 73.Kg4 Ke4 74.Kxg5  1/2-1/2\\n\\n[Event \"Superbet Classic 2021\"]\\n[Site \"Bucharest ROU\"]\\n[Date \"2021.06.14\"]\\n[Round \"9.1\"]\\n[White \"Vachier Lagrave,M\"]\\n[Black \"Mamedyarov,S\"]\\n[Result \"1/2-1/2\"]\\n[WhiteElo \"2760\"]\\n[BlackElo \"2770\"]\\n[ECO \"C47\"]\\n\\n1.e4 e5 2.Nf3 Nc6 3.Nc3 Nf6 4.d4 exd4 5.Nxd4 Bb4 6.Nxc6 bxc6 7.Bd3 d5 8.exd5 cxd5\\n9.O-O O-O 10.Bg5 c6 11.Qf3 Bd6 12.Bxf6 Qxf6 13.Qxf6 gxf6 14.Ne2 c5 15.Rad1 Bg4\\n16.h3 Bxe2 17.Bxe2 d4 18.Bc4 Rab8 19.b3 Bc7 20.Rd3 Ba5 21.Rf3 Kg7 22.Rg3+ Kh8\\n23.Rf3 Kg7 24.Rg3+ Kh8 25.Rf3 Kg7  1/2-1/2\\n\\n[Event \"Superbet Classic 2021\"]\\n[Site \"Bucharest ROU\"]\\n[Date \"2021.06.14\"]\\n[Round \"9.2\"]\\n[White \"Giri,A\"]\\n[Black \"Grischuk,A\"]\\n[Result \"1/2-1/2\"]\\n[WhiteElo \"2780\"]\\n[BlackElo \"2776\"]\\n[ECO \"C53\"]\\n\\n1.e4 e5 2.Nf3 Nc6 3.Bc4 Bc5 4.c3 Nf6 5.d3 d6 6.Bg5 h6 7.Bh4 a6 8.Nbd2 Ba7\\n9.O-O Qe7 10.b4 Be6 11.a4 O-O 12.b5 Nb8 13.d4 axb5 14.Bxe6 Qxe6 15.Bxf6 Qxf6\\n16.axb5 Nd7 17.Nc4 Qe6 18.Qd3 exd4 19.cxd4 Bb6 20.h3 Rae8 21.Rfe1 d5 22.exd5 Qxd5\\n23.Ne3 Qe4 24.Qc4 Nf6 25.Ng4 Qf5 26.Nxf6+ Qxf6 27.Qd5 Rb8 28.Re5 Rbd8 29.Qe4 Qg6\\n30.Qxb7 Rxd4 31.Nxd4 Bxd4 32.Ree1 Bxa1 33.Rxa1 Qd6 34.Rc1 Re8 35.Qc6 Qxc6\\n36.Rxc6 Re5 37.Rxc7 Rxb5 38.Rc8+ Kh7 39.Rc7 Kg8 40.Rc8+ Kh7 41.Rc7 Kg8 42.Rc8+  1/2-1/2\\n\\n[Event \"Superbet Classic 2021\"]\\n[Site \"Bucharest ROU\"]\\n[Date \"2021.06.14\"]\\n[Round \"9.4\"]\\n[White \"Lupulescu,C\"]\\n[Black \"So,W\"]\\n[Result \"1/2-1/2\"]\\n[WhiteElo \"2656\"]\\n[BlackElo \"2770\"]\\n[ECO \"E32\"]\\n\\n1.d4 Nf6 2.c4 e6 3.Nc3 Bb4 4.Qc2 O-O 5.a3 Bxc3+ 6.Qxc3 d5 7.Nf3 dxc4 8.Qxc4 b6\\n9.Bg5 Ba6 10.Qa4 h6 11.Bh4 c5 12.dxc5 bxc5 13.Rd1 Qb6 14.Bxf6 gxf6 15.e3 Bxf1\\n16.Kxf1 Nc6 17.g3 Qb7 18.Kg2 Ne5 19.Qf4 Kg7 20.e4 Nxf3 21.Qxf3 Qxb2 22.Rd7 Rfd8\\n23.Rhd1 Rxd7 24.Rxd7 Qe5 25.Qg4+ Kf8 26.Qe2 Rb8 27.Rxa7 f5 28.Qh5 Qxe4+ 29.f3 Rb2+\\n30.Kh3 Rxh2+ 31.Kxh2 Qe2+ 32.Kg1 Qe1+ 33.Kg2 Qe2+ 34.Kg1 Qe1+ 35.Kg2 Qe2+\\n36.Kg1  1/2-1/2\\n'"
      ]
     },
     "execution_count": 2,
     "metadata": {},
     "output_type": "execute_result"
    }
   ],
   "source": [
    "raw_data"
   ]
  },
  {
   "cell_type": "code",
   "execution_count": 3,
   "metadata": {},
   "outputs": [
    {
     "name": "stdout",
     "output_type": "stream",
     "text": [
      "[Event \"Superbet Classic 2021\"]\n",
      "[Site \"Bucharest ROU\"]\n",
      "[Date \"2021.06.05\"]\n",
      "[Round \"1.5\"]\n",
      "[White \"Deac,Bogdan-Daniel\"]\n",
      "[Black \"Giri,A\"]\n",
      "[Result \"1/2-1/2\"]\n",
      "[WhiteElo \"2627\"]\n",
      "[BlackElo \"2780\"]\n",
      "[ECO \"D43\"]\n",
      "\n",
      "1.d4 d5 2.c4 c6 3.Nc3 Nf6 4.Nf3 e6 5.Bg5 h6 6.Bh4 dxc4 7.e4 g5 8.Bg3 b5 9.Be2 Bb7\n",
      "10.Qc2 Nh5 11.Rd1 Nxg3 12.hxg3 Na6 13.a3 Bg7 14.e5 Qe7 15.Ne4 O-O-O 16.Nd6+ Rxd6\n",
      "17.exd6 Qxd6 18.O-O g4 19.Ne5 Bxe5 20.dxe5 Qxe5 21.Bxg4 h5 22.Rfe1 Qf6 23.Bf3 h4\n",
      "24.b3 cxb3 25.Qxb3 hxg3 26.fxg3 Qg7 27.Qd3 Nc7 28.Qd6 c5 29.Qd7+ Kb8 30.Bxb7 Kxb7\n",
      "31.Rxe6 Qxg3 32.Qc6+ Kb8 33.Qd6 Qxd6 34.Rexd6 Kb7 35.Rf6 Rh7 36.Rd7 b4 37.axb4 cxb4\n",
      "38.Kf2 a5 39.Ke2 Rg7 40.Rfxf7 Rxg2+ 41.Kd1 Rg1+ 42.Kc2 Rg2+ 43.Kb1 Rg1+ 44.Kb2 Rg2+\n",
      "45.Kb1 Rg1+ 46.Kb2 Rg2+ 47.Kb1 Rg1+  1/2-1/2\n"
     ]
    }
   ],
   "source": [
    "demo_raw_data = '\\n\\n'.join(raw_data.split('\\n\\n')[:2])\n",
    "print(demo_raw_data)"
   ]
  },
  {
   "cell_type": "code",
   "execution_count": 4,
   "metadata": {
    "deletable": false,
    "editable": false,
    "nbgrader": {
     "grade": false,
     "locked": true,
     "solution": false
    }
   },
   "outputs": [
    {
     "name": "stdout",
     "output_type": "stream",
     "text": [
      "[Event \"Superbet Classic 2021\"]\n",
      "[Site \"Bucharest ROU\"]\n",
      "[Date \"2021.06.05\"]\n",
      "[Round \"1.5\"]\n",
      "[White \"Deac,Bogdan-Daniel\"]\n",
      "[Black \"Giri,A\"]\n",
      "[Result \"1/2-1/2\"]\n",
      "[WhiteElo \"2627\"]\n",
      "[BlackElo \"2780\"]\n",
      "[ECO \"D43\"]\n",
      "\n",
      "1.d4 d5 2.c4 c6 3.Nc3 Nf6 4.Nf3 e6 5.Bg5 h6 6.Bh4 dxc4 7.e4 g5 8.Bg3 b5 9.Be2 Bb7\n",
      "10.Qc2 Nh5 11.Rd1 Nxg3 12.hxg3 Na6 13.a3 Bg7 14.e5 Qe7 15.Ne4 O-O-O 16.Nd6+ Rxd6\n",
      "17.exd6 Qxd6 18.O-O g4 19.Ne5 Bxe5 20.dxe5 Qxe5 21.Bxg4 h5 22.Rfe1 Qf6 23.Bf3 h4\n",
      "24.b3 cxb3 25.Qxb3 hxg3 26.fxg3 Qg7 27.Qd3 Nc7 28.Qd6 c5 29.Qd7+ Kb8 30.Bxb7 Kxb7\n",
      "31.Rxe6 Qxg3 32.Qc6+ Kb8 33.Qd6 Qxd6 34.Rexd6 Kb7 35.Rf6 Rh7 36.Rd7 b4 37.axb4 cxb4\n",
      "38.Kf2 a5 39.Ke2 Rg7 40.Rfxf7 Rxg2+ 41.Kd1 Rg1+ 42.Kc2 Rg2+ 43.Kb1 Rg1+ 44.Kb2 Rg2+\n",
      "45.Kb1 Rg1+ 46.Kb2 Rg2+ 47.Kb1 Rg1+  1/2-1/2\n",
      "\n",
      "[Event \"Superbet Classic 2021\"]\n",
      "[Site \"Bucharest ROU\"]\n",
      "[Date \"2021.06.05\"]\n",
      "[Round \"1.4\"]\n",
      "[White \"Lupulescu,C\"]\n",
      "[Black \"Aronian,L\"]\n",
      "[Result \"1/2-1/2\"]\n",
      "[WhiteElo \"2656\"]\n",
      "[BlackElo \"2781\"]\n",
      "[ECO \"E39\"]\n",
      "\n",
      "1.d4 Nf6 2.c4 e6 3.Nc3 Bb4 4.Qc2 c5 5.dxc5 O-O 6.Nf3 Na6 7.g3 Nxc5 8.Bg2 Nce4\n",
      "9.O-O Nxc3 10.bxc3 Be7 11.e4 d6 12.e5 dxe5 13.Nxe5 Qc7 14.Qe2 Nd7 15.Bf4 Nxe5\n",
      "16.Bxe5 Bd6 17.Bxd6 Qxd6 18.Qe3 Qc7 19.Rfb1 Qxc4 20.Bxb7 Bxb7 21.Rxb7 h6\n",
      "22.Rxa7 Rxa7 23.Qxa7 Qxc3 24.Rb1 Qc2 25.Rb8 Qd1+ 26.Kg2 Qd5+ 27.Kg1 Qd1+\n",
      "28.Kg2 Qd5+ 29.Kg1 Qd1+  1/2-1/2\n"
     ]
    }
   ],
   "source": [
    "demo_raw_data = '\\n\\n'.join(raw_data.split('\\n\\n')[:4])\n",
    "print(demo_raw_data)"
   ]
  },
  {
   "cell_type": "markdown",
   "metadata": {
    "deletable": false,
    "editable": false,
    "nbgrader": {
     "grade": false,
     "locked": true,
     "solution": false
    }
   },
   "source": [
    "The sections in the raw data alternate between **metadata** and **moves data**. The metadata is information about the game, such as who is playing with what pieces, the ratings of each player, and the results of the game. The moves data contains a record of each chess move executed in the game. Since players' Elo ratings are only affected by the outcomes of the games, we are primarily concerned with the metadata."
   ]
  },
  {
   "cell_type": "markdown",
   "metadata": {},
   "source": [
    "---"
   ]
  },
  {
   "cell_type": "markdown",
   "metadata": {
    "deletable": false,
    "editable": false,
    "nbgrader": {
     "grade": false,
     "locked": true,
     "solution": false
    }
   },
   "source": [
    "## Exercise 0 (3 points)\n",
    "\n",
    "The first thing we need to do in our analysis is get the data in a more structured form. \n",
    "\n",
    "Fill out the function `extract_games(raw_data)` in the code cell below with the following requirements:\n",
    "\n",
    "Given a string read from a text file `raw_data`, extract the following information about each game and store in a **list of dictionaries** `games`. Below are details for what one of these dictionaries should look like: \n",
    "* `games[i]['white_player']` - String - Name of the player assigned the white pieces.\n",
    "  * Example from `raw_data`: [White \"Deac,Bogdan-Daniel\"]\n",
    "  * Example value: `'Deac,Bogdan-Daniel'`  \n",
    "  * Value type: `str`  \n",
    "  \n",
    "  \n",
    "* `games[i]['black_player']` - String - Name of the player assigned the black pieces.\n",
    "  * Example from `raw_data`: [Black \"Giri,A\"]\n",
    "  * Example value: `'Giri,A'`  \n",
    "  * Value type: `str`\n",
    "    \n",
    "\n",
    "* `games[i]['white_rating']` - Integer - Pre-tournament rating of the white player.\n",
    "  * Example from `raw_data`: [WhiteElo \"2627\"]\n",
    "  * Example value: `2627`  \n",
    "  * Value type: `int`\n",
    "    \n",
    "    \n",
    "* `games[i]['black_rating']` - Integer - Pre-tournament rating of the black player.\n",
    "  * Example from `raw_data`: [BlackElo \"2780\"]\n",
    "  * Example value: `2780`  \n",
    "  * Value type: `int`\n",
    "    \n",
    "    \n",
    "* `games[i]['result']` - String - Result of the game.\n",
    "  * Example from `raw_data`: [Result \"1/2-1/2\"]\n",
    "  * Example value: `'1/2-1/2'`\n",
    "  * Value type: `str`\n",
    "\n",
    "You may assume that the required metadata is included, that sections are separated by blank lines, and that the sections alternate between metadata and moves data (starting with metadata). Additional metadata tags (beyond the 5 you are tasked with extracting) may be present, but they should be ignored. The ordering of the metadata **may be different** from the example above. Additionally, the moves data sections **may not be formatted** the same way as the example above.\n",
    "\n",
    "A demo of your function run on the `demo_raw_data` defined above is included in the solution cell. The result should be:\n",
    "```\n",
    "[{  'white_player': 'Deac,Bogdan-Daniel',\n",
    "    'black_player': 'Giri,A',\n",
    "    'result': '1/2-1/2',\n",
    "    'white_rating': 2627,\n",
    "    'black_rating': 2780},\n",
    "  { 'white_player': 'Lupulescu,C', \n",
    "    'black_player': 'Aronian,L', \n",
    "    'result': '1/2-1/2', \n",
    "    'white_rating': 2656, \n",
    "    'black_rating': 2781}]\n",
    "```"
   ]
  },
  {
   "cell_type": "markdown",
   "metadata": {
    "deletable": false,
    "editable": false,
    "nbgrader": {
     "grade": false,
     "locked": true,
     "solution": false
    }
   },
   "source": [
    "To help you get started, consider the following snippet, which converts `demo_raw_data` into a nested list of lists. A similar strategy may be helpful in processing the `raw_data` parameter in the exercise."
   ]
  },
  {
   "cell_type": "code",
   "execution_count": 5,
   "metadata": {
    "scrolled": false
   },
   "outputs": [
    {
     "name": "stdout",
     "output_type": "stream",
     "text": [
      "type(demo_metadata_list[0]): <class 'list'>\n",
      "type(demo_metadata_list[0][0]): <class 'str'>\n"
     ]
    },
    {
     "data": {
      "text/plain": [
       "[['[Event \"Superbet Classic 2021\"]',\n",
       "  '[Site \"Bucharest ROU\"]',\n",
       "  '[Date \"2021.06.05\"]',\n",
       "  '[Round \"1.5\"]',\n",
       "  '[White \"Deac,Bogdan-Daniel\"]',\n",
       "  '[Black \"Giri,A\"]',\n",
       "  '[Result \"1/2-1/2\"]',\n",
       "  '[WhiteElo \"2627\"]',\n",
       "  '[BlackElo \"2780\"]',\n",
       "  '[ECO \"D43\"]'],\n",
       " ['[Event \"Superbet Classic 2021\"]',\n",
       "  '[Site \"Bucharest ROU\"]',\n",
       "  '[Date \"2021.06.05\"]',\n",
       "  '[Round \"1.4\"]',\n",
       "  '[White \"Lupulescu,C\"]',\n",
       "  '[Black \"Aronian,L\"]',\n",
       "  '[Result \"1/2-1/2\"]',\n",
       "  '[WhiteElo \"2656\"]',\n",
       "  '[BlackElo \"2781\"]',\n",
       "  '[ECO \"E39\"]']]"
      ]
     },
     "execution_count": 5,
     "metadata": {},
     "output_type": "execute_result"
    }
   ],
   "source": [
    "demo_metadata_list = [metadata.splitlines() for metadata in demo_raw_data.split('\\n\\n')[::2]]\n",
    "print(f'type(demo_metadata_list[0]): {type(demo_metadata_list[0])}') # outer list items are lists\n",
    "print(f'type(demo_metadata_list[0][0]): {type(demo_metadata_list[0][0])}') # inner list items are strings\n",
    "demo_metadata_list"
   ]
  },
  {
   "cell_type": "markdown",
   "metadata": {},
   "source": [
    "---"
   ]
  },
  {
   "cell_type": "code",
   "execution_count": 6,
   "metadata": {},
   "outputs": [
    {
     "data": {
      "text/plain": [
       "[['[Event \"Superbet Classic 2021\"]',\n",
       "  '[Site \"Bucharest ROU\"]',\n",
       "  '[Date \"2021.06.05\"]',\n",
       "  '[Round \"1.5\"]',\n",
       "  '[White \"Deac,Bogdan-Daniel\"]',\n",
       "  '[Black \"Giri,A\"]',\n",
       "  '[Result \"1/2-1/2\"]',\n",
       "  '[WhiteElo \"2627\"]',\n",
       "  '[BlackElo \"2780\"]',\n",
       "  '[ECO \"D43\"]'],\n",
       " ['[Event \"Superbet Classic 2021\"]',\n",
       "  '[Site \"Bucharest ROU\"]',\n",
       "  '[Date \"2021.06.05\"]',\n",
       "  '[Round \"1.4\"]',\n",
       "  '[White \"Lupulescu,C\"]',\n",
       "  '[Black \"Aronian,L\"]',\n",
       "  '[Result \"1/2-1/2\"]',\n",
       "  '[WhiteElo \"2656\"]',\n",
       "  '[BlackElo \"2781\"]',\n",
       "  '[ECO \"E39\"]'],\n",
       " ['[Event \"Superbet Classic 2021\"]',\n",
       "  '[Site \"Bucharest ROU\"]',\n",
       "  '[Date \"2021.06.05\"]',\n",
       "  '[Round \"1.3\"]',\n",
       "  '[White \"Grischuk,A\"]',\n",
       "  '[Black \"Vachier Lagrave,M\"]',\n",
       "  '[Result \"1/2-1/2\"]',\n",
       "  '[WhiteElo \"2776\"]',\n",
       "  '[BlackElo \"2760\"]',\n",
       "  '[ECO \"D85\"]'],\n",
       " ['[Event \"Superbet Classic 2021\"]',\n",
       "  '[Site \"Bucharest ROU\"]',\n",
       "  '[Date \"2021.06.05\"]',\n",
       "  '[Round \"1.2\"]',\n",
       "  '[White \"Mamedyarov,S\"]',\n",
       "  '[Black \"So,W\"]',\n",
       "  '[Result \"1/2-1/2\"]',\n",
       "  '[WhiteElo \"2770\"]',\n",
       "  '[BlackElo \"2770\"]',\n",
       "  '[ECO \"D27\"]'],\n",
       " ['[Event \"Superbet Classic 2021\"]',\n",
       "  '[Site \"Bucharest ROU\"]',\n",
       "  '[Date \"2021.06.06\"]',\n",
       "  '[Round \"2.2\"]',\n",
       "  '[White \"So,W\"]',\n",
       "  '[Black \"Aronian,L\"]',\n",
       "  '[Result \"1/2-1/2\"]',\n",
       "  '[WhiteElo \"2770\"]',\n",
       "  '[BlackElo \"2781\"]',\n",
       "  '[ECO \"D38\"]'],\n",
       " ['[Event \"Superbet Classic 2021\"]',\n",
       "  '[Site \"Bucharest ROU\"]',\n",
       "  '[Date \"2021.06.06\"]',\n",
       "  '[Round \"2.4\"]',\n",
       "  '[White \"Mamedyarov,S\"]',\n",
       "  '[Black \"Grischuk,A\"]',\n",
       "  '[Result \"1/2-1/2\"]',\n",
       "  '[WhiteElo \"2770\"]',\n",
       "  '[BlackElo \"2776\"]',\n",
       "  '[ECO \"A33\"]'],\n",
       " ['[Event \"Superbet Classic 2021\"]',\n",
       "  '[Site \"Bucharest ROU\"]',\n",
       "  '[Date \"2021.06.06\"]',\n",
       "  '[Round \"2.5\"]',\n",
       "  '[White \"Vachier Lagrave,M\"]',\n",
       "  '[Black \"Deac,Bogdan-Daniel\"]',\n",
       "  '[Result \"0-1\"]',\n",
       "  '[WhiteElo \"2760\"]',\n",
       "  '[BlackElo \"2627\"]',\n",
       "  '[ECO \"C80\"]'],\n",
       " ['[Event \"Superbet Classic 2021\"]',\n",
       "  '[Site \"Bucharest ROU\"]',\n",
       "  '[Date \"2021.06.06\"]',\n",
       "  '[Round \"2.1\"]',\n",
       "  '[White \"Caruana,F\"]',\n",
       "  '[Black \"Lupulescu,C\"]',\n",
       "  '[Result \"1-0\"]',\n",
       "  '[WhiteElo \"2820\"]',\n",
       "  '[BlackElo \"2656\"]',\n",
       "  '[ECO \"C11\"]'],\n",
       " ['[Event \"Superbet Classic 2021\"]',\n",
       "  '[Site \"Bucharest ROU\"]',\n",
       "  '[Date \"2021.06.06\"]',\n",
       "  '[Round \"2.3\"]',\n",
       "  '[White \"Giri,A\"]',\n",
       "  '[Black \"Radjabov,T\"]',\n",
       "  '[Result \"1/2-1/2\"]',\n",
       "  '[WhiteElo \"2780\"]',\n",
       "  '[BlackElo \"2765\"]',\n",
       "  '[ECO \"E06\"]'],\n",
       " ['[Event \"Superbet Classic 2021\"]',\n",
       "  '[Site \"Bucharest ROU\"]',\n",
       "  '[Date \"2021.06.07\"]',\n",
       "  '[Round \"3.1\"]',\n",
       "  '[White \"Aronian,L\"]',\n",
       "  '[Black \"Caruana,F\"]',\n",
       "  '[Result \"1/2-1/2\"]',\n",
       "  '[WhiteElo \"2781\"]',\n",
       "  '[BlackElo \"2820\"]',\n",
       "  '[ECO \"D26\"]'],\n",
       " ['[Event \"Superbet Classic 2021\"]',\n",
       "  '[Site \"Bucharest ROU\"]',\n",
       "  '[Date \"2021.06.07\"]',\n",
       "  '[Round \"3.2\"]',\n",
       "  '[White \"Deac,Bogdan-Daniel\"]',\n",
       "  '[Black \"Mamedyarov,S\"]',\n",
       "  '[Result \"1/2-1/2\"]',\n",
       "  '[WhiteElo \"2627\"]',\n",
       "  '[BlackElo \"2770\"]',\n",
       "  '[ECO \"E04\"]'],\n",
       " ['[Event \"Superbet Classic 2021\"]',\n",
       "  '[Site \"Bucharest ROU\"]',\n",
       "  '[Date \"2021.06.07\"]',\n",
       "  '[Round \"3.3\"]',\n",
       "  '[White \"Grischuk,A\"]',\n",
       "  '[Black \"So,W\"]',\n",
       "  '[Result \"1/2-1/2\"]',\n",
       "  '[WhiteElo \"2776\"]',\n",
       "  '[BlackElo \"2770\"]',\n",
       "  '[ECO \"C67\"]'],\n",
       " ['[Event \"Superbet Classic 2021\"]',\n",
       "  '[Site \"Bucharest ROU\"]',\n",
       "  '[Date \"2021.06.07\"]',\n",
       "  '[Round \"3.5\"]',\n",
       "  '[White \"Lupulescu,C\"]',\n",
       "  '[Black \"Giri,A\"]',\n",
       "  '[Result \"1-0\"]',\n",
       "  '[WhiteElo \"2656\"]',\n",
       "  '[BlackElo \"2780\"]',\n",
       "  '[ECO \"A28\"]'],\n",
       " ['[Event \"Superbet Classic 2021\"]',\n",
       "  '[Site \"Bucharest ROU\"]',\n",
       "  '[Date \"2021.06.08\"]',\n",
       "  '[Round \"4.5\"]',\n",
       "  '[White \"Vachier Lagrave,M\"]',\n",
       "  '[Black \"Lupulescu,C\"]',\n",
       "  '[Result \"1/2-1/2\"]',\n",
       "  '[WhiteElo \"2760\"]',\n",
       "  '[BlackElo \"2656\"]',\n",
       "  '[ECO \"C11\"]'],\n",
       " ['[Event \"Superbet Classic 2021\"]',\n",
       "  '[Site \"Bucharest ROU\"]',\n",
       "  '[Date \"2021.06.08\"]',\n",
       "  '[Round \"4.3\"]',\n",
       "  '[White \"Giri,A\"]',\n",
       "  '[Black \"Aronian,L\"]',\n",
       "  '[Result \"1/2-1/2\"]',\n",
       "  '[WhiteElo \"2780\"]',\n",
       "  '[BlackElo \"2781\"]',\n",
       "  '[ECO \"E04\"]'],\n",
       " ['[Event \"Superbet Classic 2021\"]',\n",
       "  '[Site \"Bucharest ROU\"]',\n",
       "  '[Date \"2021.06.08\"]',\n",
       "  '[Round \"4.2\"]',\n",
       "  '[White \"Grischuk,A\"]',\n",
       "  '[Black \"Deac,Bogdan-Daniel\"]',\n",
       "  '[Result \"1-0\"]',\n",
       "  '[WhiteElo \"2776\"]',\n",
       "  '[BlackElo \"2627\"]',\n",
       "  '[ECO \"D41\"]'],\n",
       " ['[Event \"Superbet Classic 2021\"]',\n",
       "  '[Site \"Bucharest ROU\"]',\n",
       "  '[Date \"2021.06.08\"]',\n",
       "  '[Round \"4.4\"]',\n",
       "  '[White \"Mamedyarov,S\"]',\n",
       "  '[Black \"Radjabov,T\"]',\n",
       "  '[Result \"1/2-1/2\"]',\n",
       "  '[WhiteElo \"2770\"]',\n",
       "  '[BlackElo \"2765\"]',\n",
       "  '[ECO \"E60\"]'],\n",
       " ['[Event \"Superbet Classic 2021\"]',\n",
       "  '[Site \"Bucharest ROU\"]',\n",
       "  '[Date \"2021.06.08\"]',\n",
       "  '[Round \"4.1\"]',\n",
       "  '[White \"So,W\"]',\n",
       "  '[Black \"Caruana,F\"]',\n",
       "  '[Result \"1-0\"]',\n",
       "  '[WhiteElo \"2770\"]',\n",
       "  '[BlackElo \"2820\"]',\n",
       "  '[ECO \"A20\"]'],\n",
       " ['[Event \"Superbet Classic 2021\"]',\n",
       "  '[Site \"Bucharest ROU\"]',\n",
       "  '[Date \"2021.06.09\"]',\n",
       "  '[Round \"5.2\"]',\n",
       "  '[White \"Radjabov,T\"]',\n",
       "  '[Black \"Grischuk,A\"]',\n",
       "  '[Result \"1/2-1/2\"]',\n",
       "  '[WhiteElo \"2765\"]',\n",
       "  '[BlackElo \"2776\"]',\n",
       "  '[ECO \"D37\"]'],\n",
       " ['[Event \"Superbet Classic 2021\"]',\n",
       "  '[Site \"Bucharest ROU\"]',\n",
       "  '[Date \"2021.06.09\"]',\n",
       "  '[Round \"5.1\"]',\n",
       "  '[White \"Deac,Bogdan-Daniel\"]',\n",
       "  '[Black \"So,W\"]',\n",
       "  '[Result \"1/2-1/2\"]',\n",
       "  '[WhiteElo \"2627\"]',\n",
       "  '[BlackElo \"2770\"]',\n",
       "  '[ECO \"D37\"]'],\n",
       " ['[Event \"Superbet Classic 2021\"]',\n",
       "  '[Site \"Bucharest ROU\"]',\n",
       "  '[Date \"2021.06.09\"]',\n",
       "  '[Round \"5.4\"]',\n",
       "  '[White \"Caruana,F\"]',\n",
       "  '[Black \"Giri,A\"]',\n",
       "  '[Result \"1/2-1/2\"]',\n",
       "  '[WhiteElo \"2820\"]',\n",
       "  '[BlackElo \"2780\"]',\n",
       "  '[ECO \"C67\"]'],\n",
       " ['[Event \"Superbet Classic 2021\"]',\n",
       "  '[Site \"Bucharest ROU\"]',\n",
       "  '[Date \"2021.06.09\"]',\n",
       "  '[Round \"5.3\"]',\n",
       "  '[White \"Lupulescu,C\"]',\n",
       "  '[Black \"Mamedyarov,S\"]',\n",
       "  '[Result \"0-1\"]',\n",
       "  '[WhiteElo \"2656\"]',\n",
       "  '[BlackElo \"2770\"]',\n",
       "  '[ECO \"A06\"]'],\n",
       " ['[Event \"Superbet Classic 2021\"]',\n",
       "  '[Site \"Bucharest ROU\"]',\n",
       "  '[Date \"2021.06.09\"]',\n",
       "  '[Round \"5.5\"]',\n",
       "  '[White \"Aronian,L\"]',\n",
       "  '[Black \"Vachier Lagrave,M\"]',\n",
       "  '[Result \"1/2-1/2\"]',\n",
       "  '[WhiteElo \"2781\"]',\n",
       "  '[BlackElo \"2760\"]',\n",
       "  '[ECO \"A34\"]'],\n",
       " ['[Event \"Superbet Classic 2021\"]',\n",
       "  '[Site \"Bucharest ROU\"]',\n",
       "  '[Date \"2021.06.11\"]',\n",
       "  '[Round \"6.3\"]',\n",
       "  '[White \"Grischuk,A\"]',\n",
       "  '[Black \"Lupulescu,C\"]',\n",
       "  '[Result \"1-0\"]',\n",
       "  '[WhiteElo \"2776\"]',\n",
       "  '[BlackElo \"2656\"]',\n",
       "  '[ECO \"B67\"]'],\n",
       " ['[Event \"Superbet Classic 2021\"]',\n",
       "  '[Site \"Bucharest ROU\"]',\n",
       "  '[Date \"2021.06.11\"]',\n",
       "  '[Round \"6.4\"]',\n",
       "  '[White \"Vachier Lagrave,M\"]',\n",
       "  '[Black \"Caruana,F\"]',\n",
       "  '[Result \"1/2-1/2\"]',\n",
       "  '[WhiteElo \"2760\"]',\n",
       "  '[BlackElo \"2820\"]',\n",
       "  '[ECO \"C78\"]'],\n",
       " ['[Event \"Superbet Classic 2021\"]',\n",
       "  '[Site \"Bucharest ROU\"]',\n",
       "  '[Date \"2021.06.11\"]',\n",
       "  '[Round \"6.2\"]',\n",
       "  '[White \"So,W\"]',\n",
       "  '[Black \"Giri,A\"]',\n",
       "  '[Result \"1/2-1/2\"]',\n",
       "  '[WhiteElo \"2770\"]',\n",
       "  '[BlackElo \"2780\"]',\n",
       "  '[ECO \"E49\"]'],\n",
       " ['[Event \"Superbet Classic 2021\"]',\n",
       "  '[Site \"Bucharest ROU\"]',\n",
       "  '[Date \"2021.06.11\"]',\n",
       "  '[Round \"6.5\"]',\n",
       "  '[White \"Deac,Bogdan-Daniel\"]',\n",
       "  '[Black \"Radjabov,T\"]',\n",
       "  '[Result \"1/2-1/2\"]',\n",
       "  '[WhiteElo \"2627\"]',\n",
       "  '[BlackElo \"2765\"]',\n",
       "  '[ECO \"C67\"]'],\n",
       " ['[Event \"Superbet Classic 2021\"]',\n",
       "  '[Site \"Bucharest ROU\"]',\n",
       "  '[Date \"2021.06.11\"]',\n",
       "  '[Round \"6.1\"]',\n",
       "  '[White \"Mamedyarov,S\"]',\n",
       "  '[Black \"Aronian,L\"]',\n",
       "  '[Result \"1-0\"]',\n",
       "  '[WhiteElo \"2770\"]',\n",
       "  '[BlackElo \"2781\"]',\n",
       "  '[ECO \"D38\"]'],\n",
       " ['[Event \"Superbet Classic 2021\"]',\n",
       "  '[Site \"Bucharest ROU\"]',\n",
       "  '[Date \"2021.06.12\"]',\n",
       "  '[Round \"7.4\"]',\n",
       "  '[White \"Giri,A\"]',\n",
       "  '[Black \"Vachier Lagrave,M\"]',\n",
       "  '[Result \"1-0\"]',\n",
       "  '[WhiteElo \"2780\"]',\n",
       "  '[BlackElo \"2760\"]',\n",
       "  '[ECO \"A34\"]'],\n",
       " ['[Event \"Superbet Classic 2021\"]',\n",
       "  '[Site \"Bucharest ROU\"]',\n",
       "  '[Date \"2021.06.12\"]',\n",
       "  '[Round \"7.5\"]',\n",
       "  '[White \"Lupulescu,C\"]',\n",
       "  '[Black \"Deac,Bogdan-Daniel\"]',\n",
       "  '[Result \"1/2-1/2\"]',\n",
       "  '[WhiteElo \"2656\"]',\n",
       "  '[BlackElo \"2627\"]',\n",
       "  '[ECO \"A22\"]'],\n",
       " ['[Event \"Superbet Classic 2021\"]',\n",
       "  '[Site \"Bucharest ROU\"]',\n",
       "  '[Date \"2021.06.12\"]',\n",
       "  '[Round \"7.2\"]',\n",
       "  '[White \"Aronian,L\"]',\n",
       "  '[Black \"Grischuk,A\"]',\n",
       "  '[Result \"1-0\"]',\n",
       "  '[WhiteElo \"2781\"]',\n",
       "  '[BlackElo \"2776\"]',\n",
       "  '[ECO \"D40\"]'],\n",
       " ['[Event \"Superbet Classic 2021\"]',\n",
       "  '[Site \"Bucharest ROU\"]',\n",
       "  '[Date \"2021.06.12\"]',\n",
       "  '[Round \"7.1\"]',\n",
       "  '[White \"Caruana,F\"]',\n",
       "  '[Black \"Mamedyarov,S\"]',\n",
       "  '[Result \"0-1\"]',\n",
       "  '[WhiteElo \"2820\"]',\n",
       "  '[BlackElo \"2770\"]',\n",
       "  '[ECO \"C65\"]'],\n",
       " ['[Event \"Superbet Classic 2021\"]',\n",
       "  '[Site \"Bucharest ROU\"]',\n",
       "  '[Date \"2021.06.12\"]',\n",
       "  '[Round \"7.3\"]',\n",
       "  '[White \"Radjabov,T\"]',\n",
       "  '[Black \"So,W\"]',\n",
       "  '[Result \"1/2-1/2\"]',\n",
       "  '[WhiteElo \"2765\"]',\n",
       "  '[BlackElo \"2770\"]',\n",
       "  '[ECO \"D39\"]'],\n",
       " ['[Event \"Superbet Classic 2021\"]',\n",
       "  '[Site \"Bucharest ROU\"]',\n",
       "  '[Date \"2021.06.13\"]',\n",
       "  '[Round \"8.4\"]',\n",
       "  '[White \"Deac,Bogdan-Daniel\"]',\n",
       "  '[Black \"Aronian,L\"]',\n",
       "  '[Result \"0-1\"]',\n",
       "  '[WhiteElo \"2627\"]',\n",
       "  '[BlackElo \"2781\"]',\n",
       "  '[ECO \"B51\"]'],\n",
       " ['[Event \"Superbet Classic 2021\"]',\n",
       "  '[Site \"Bucharest ROU\"]',\n",
       "  '[Date \"2021.06.13\"]',\n",
       "  '[Round \"8.2\"]',\n",
       "  '[White \"Grischuk,A\"]',\n",
       "  '[Black \"Caruana,F\"]',\n",
       "  '[Result \"1/2-1/2\"]',\n",
       "  '[WhiteElo \"2776\"]',\n",
       "  '[BlackElo \"2820\"]',\n",
       "  '[ECO \"C78\"]'],\n",
       " ['[Event \"Superbet Classic 2021\"]',\n",
       "  '[Site \"Bucharest ROU\"]',\n",
       "  '[Date \"2021.06.13\"]',\n",
       "  '[Round \"8.3\"]',\n",
       "  '[White \"So,W\"]',\n",
       "  '[Black \"Vachier Lagrave,M\"]',\n",
       "  '[Result \"1/2-1/2\"]',\n",
       "  '[WhiteElo \"2770\"]',\n",
       "  '[BlackElo \"2760\"]',\n",
       "  '[ECO \"A34\"]'],\n",
       " ['[Event \"Superbet Classic 2021\"]',\n",
       "  '[Site \"Bucharest ROU\"]',\n",
       "  '[Date \"2021.06.13\"]',\n",
       "  '[Round \"8.5\"]',\n",
       "  '[White \"Radjabov,T\"]',\n",
       "  '[Black \"Lupulescu,C\"]',\n",
       "  '[Result \"1/2-1/2\"]',\n",
       "  '[WhiteElo \"2765\"]',\n",
       "  '[BlackElo \"2656\"]',\n",
       "  '[ECO \"B67\"]'],\n",
       " ['[Event \"Superbet Classic 2021\"]',\n",
       "  '[Site \"Bucharest ROU\"]',\n",
       "  '[Date \"2021.06.14\"]',\n",
       "  '[Round \"9.5\"]',\n",
       "  '[White \"Caruana,F\"]',\n",
       "  '[Black \"Deac,Bogdan-Daniel\"]',\n",
       "  '[Result \"1/2-1/2\"]',\n",
       "  '[WhiteElo \"2820\"]',\n",
       "  '[BlackElo \"2627\"]',\n",
       "  '[ECO \"A07\"]'],\n",
       " ['[Event \"Superbet Classic 2021\"]',\n",
       "  '[Site \"Bucharest ROU\"]',\n",
       "  '[Date \"2021.06.14\"]',\n",
       "  '[Round \"9.1\"]',\n",
       "  '[White \"Vachier Lagrave,M\"]',\n",
       "  '[Black \"Mamedyarov,S\"]',\n",
       "  '[Result \"1/2-1/2\"]',\n",
       "  '[WhiteElo \"2760\"]',\n",
       "  '[BlackElo \"2770\"]',\n",
       "  '[ECO \"C47\"]'],\n",
       " ['[Event \"Superbet Classic 2021\"]',\n",
       "  '[Site \"Bucharest ROU\"]',\n",
       "  '[Date \"2021.06.14\"]',\n",
       "  '[Round \"9.2\"]',\n",
       "  '[White \"Giri,A\"]',\n",
       "  '[Black \"Grischuk,A\"]',\n",
       "  '[Result \"1/2-1/2\"]',\n",
       "  '[WhiteElo \"2780\"]',\n",
       "  '[BlackElo \"2776\"]',\n",
       "  '[ECO \"C53\"]'],\n",
       " ['[Event \"Superbet Classic 2021\"]',\n",
       "  '[Site \"Bucharest ROU\"]',\n",
       "  '[Date \"2021.06.14\"]',\n",
       "  '[Round \"9.4\"]',\n",
       "  '[White \"Lupulescu,C\"]',\n",
       "  '[Black \"So,W\"]',\n",
       "  '[Result \"1/2-1/2\"]',\n",
       "  '[WhiteElo \"2656\"]',\n",
       "  '[BlackElo \"2770\"]',\n",
       "  '[ECO \"E32\"]']]"
      ]
     },
     "execution_count": 6,
     "metadata": {},
     "output_type": "execute_result"
    }
   ],
   "source": [
    "metadata_list = [metadata.splitlines() for metadata in raw_data.split('\\n\\n')[::2]]\n",
    "metadata_list"
   ]
  },
  {
   "cell_type": "code",
   "execution_count": 7,
   "metadata": {},
   "outputs": [
    {
     "data": {
      "text/plain": [
       "41"
      ]
     },
     "execution_count": 7,
     "metadata": {},
     "output_type": "execute_result"
    }
   ],
   "source": [
    "len(metadata_list)"
   ]
  },
  {
   "cell_type": "code",
   "execution_count": 8,
   "metadata": {},
   "outputs": [
    {
     "name": "stdout",
     "output_type": "stream",
     "text": [
      "0\n",
      "1\n",
      "2\n",
      "3\n",
      "4\n",
      "5\n",
      "6\n",
      "7\n",
      "8\n",
      "9\n",
      "10\n",
      "11\n",
      "12\n",
      "13\n",
      "14\n",
      "15\n",
      "16\n",
      "17\n",
      "18\n",
      "19\n",
      "20\n",
      "21\n",
      "22\n",
      "23\n",
      "24\n",
      "25\n",
      "26\n",
      "27\n",
      "28\n",
      "29\n",
      "30\n",
      "31\n",
      "32\n",
      "33\n",
      "34\n",
      "35\n",
      "36\n",
      "37\n",
      "38\n",
      "39\n",
      "40\n"
     ]
    }
   ],
   "source": [
    "for i in range(len(metadata_list)):\n",
    "    print(i)"
   ]
  },
  {
   "cell_type": "code",
   "execution_count": 9,
   "metadata": {},
   "outputs": [
    {
     "name": "stdout",
     "output_type": "stream",
     "text": [
      "10\n",
      "10\n",
      "10\n",
      "10\n",
      "10\n",
      "10\n",
      "10\n",
      "10\n",
      "10\n",
      "10\n",
      "10\n",
      "10\n",
      "10\n",
      "10\n",
      "10\n",
      "10\n",
      "10\n",
      "10\n",
      "10\n",
      "10\n",
      "10\n",
      "10\n",
      "10\n",
      "10\n",
      "10\n",
      "10\n",
      "10\n",
      "10\n",
      "10\n",
      "10\n",
      "10\n",
      "10\n",
      "10\n",
      "10\n",
      "10\n",
      "10\n",
      "10\n",
      "10\n",
      "10\n",
      "10\n",
      "10\n"
     ]
    }
   ],
   "source": [
    "for game in metadata_list:\n",
    "    print(len(game))"
   ]
  },
  {
   "cell_type": "code",
   "execution_count": 10,
   "metadata": {},
   "outputs": [
    {
     "data": {
      "text/plain": [
       "['[Event \"Superbet Classic 2021\"]',\n",
       " '[Site \"Bucharest ROU\"]',\n",
       " '[Date \"2021.06.14\"]',\n",
       " '[Round \"9.4\"]',\n",
       " '[White \"Lupulescu,C\"]',\n",
       " '[Black \"So,W\"]',\n",
       " '[Result \"1/2-1/2\"]',\n",
       " '[WhiteElo \"2656\"]',\n",
       " '[BlackElo \"2770\"]',\n",
       " '[ECO \"E32\"]']"
      ]
     },
     "execution_count": 10,
     "metadata": {},
     "output_type": "execute_result"
    }
   ],
   "source": [
    "metadata_list[40]"
   ]
  },
  {
   "cell_type": "code",
   "execution_count": 11,
   "metadata": {},
   "outputs": [
    {
     "data": {
      "text/plain": [
       "'[White \"Lupulescu,C\"]'"
      ]
     },
     "execution_count": 11,
     "metadata": {},
     "output_type": "execute_result"
    }
   ],
   "source": [
    "metadata_list[40][4]"
   ]
  },
  {
   "cell_type": "code",
   "execution_count": 12,
   "metadata": {},
   "outputs": [
    {
     "data": {
      "text/plain": [
       "'[Black \"So,W\"]'"
      ]
     },
     "execution_count": 12,
     "metadata": {},
     "output_type": "execute_result"
    }
   ],
   "source": [
    "metadata_list[40][5]"
   ]
  },
  {
   "cell_type": "code",
   "execution_count": 13,
   "metadata": {},
   "outputs": [
    {
     "data": {
      "text/plain": [
       "'[Result \"1/2-1/2\"]'"
      ]
     },
     "execution_count": 13,
     "metadata": {},
     "output_type": "execute_result"
    }
   ],
   "source": [
    "metadata_list[40][6]"
   ]
  },
  {
   "cell_type": "code",
   "execution_count": 14,
   "metadata": {},
   "outputs": [
    {
     "data": {
      "text/plain": [
       "'[WhiteElo \"2656\"]'"
      ]
     },
     "execution_count": 14,
     "metadata": {},
     "output_type": "execute_result"
    }
   ],
   "source": [
    "metadata_list[40][7]"
   ]
  },
  {
   "cell_type": "code",
   "execution_count": 15,
   "metadata": {},
   "outputs": [
    {
     "data": {
      "text/plain": [
       "'[BlackElo \"2770\"]'"
      ]
     },
     "execution_count": 15,
     "metadata": {},
     "output_type": "execute_result"
    }
   ],
   "source": [
    "metadata_list[40][8]"
   ]
  },
  {
   "cell_type": "code",
   "execution_count": 16,
   "metadata": {},
   "outputs": [
    {
     "name": "stdout",
     "output_type": "stream",
     "text": [
      "<class 'str'>\n"
     ]
    }
   ],
   "source": [
    "print(type(metadata_list[40][4]))"
   ]
  },
  {
   "cell_type": "code",
   "execution_count": 17,
   "metadata": {},
   "outputs": [
    {
     "name": "stdout",
     "output_type": "stream",
     "text": [
      "<class 'str'>\n"
     ]
    }
   ],
   "source": [
    "print(type(metadata_list[40][8]))"
   ]
  },
  {
   "cell_type": "code",
   "execution_count": 18,
   "metadata": {},
   "outputs": [
    {
     "data": {
      "text/plain": [
       "'Lupulescu,C'"
      ]
     },
     "execution_count": 18,
     "metadata": {},
     "output_type": "execute_result"
    }
   ],
   "source": [
    "metadata_list[40][4].split(\" \\\"\")[1][:-2]"
   ]
  },
  {
   "cell_type": "code",
   "execution_count": 19,
   "metadata": {
    "collapsed": true
   },
   "outputs": [],
   "source": [
    "game_list = []\n",
    "\n",
    "for game in metadata_list:\n",
    "    game_dict={}\n",
    "    game_dict['white_player']=game[4].split(\" \\\"\")[1][:-2]\n",
    "    game_dict['black_player']=game[5].split(\" \\\"\")[1][:-2]\n",
    "    game_dict['result']=game[6].split(\" \\\"\")[1][:-2]\n",
    "    game_dict['white_rating']=int(game[7].split(\" \\\"\")[1][:-2])\n",
    "    game_dict['black_rating']=int(game[8].split(\" \\\"\")[1][:-2])\n",
    "    game_list.append(game_dict)"
   ]
  },
  {
   "cell_type": "code",
   "execution_count": 20,
   "metadata": {},
   "outputs": [
    {
     "data": {
      "text/plain": [
       "{'white_player': 'Deac,Bogdan-Daniel',\n",
       " 'black_player': 'Giri,A',\n",
       " 'result': '1/2-1/2',\n",
       " 'white_rating': 2627,\n",
       " 'black_rating': 2780}"
      ]
     },
     "execution_count": 20,
     "metadata": {},
     "output_type": "execute_result"
    }
   ],
   "source": [
    "game_list[0]"
   ]
  },
  {
   "cell_type": "code",
   "execution_count": 21,
   "metadata": {},
   "outputs": [
    {
     "data": {
      "text/plain": [
       "{'white_player': 'Lupulescu,C',\n",
       " 'black_player': 'Aronian,L',\n",
       " 'result': '1/2-1/2',\n",
       " 'white_rating': 2656,\n",
       " 'black_rating': 2781}"
      ]
     },
     "execution_count": 21,
     "metadata": {},
     "output_type": "execute_result"
    }
   ],
   "source": [
    "game_list[1]"
   ]
  },
  {
   "cell_type": "code",
   "execution_count": 22,
   "metadata": {},
   "outputs": [
    {
     "data": {
      "text/plain": [
       "{'white_player': 'Lupulescu,C',\n",
       " 'black_player': 'So,W',\n",
       " 'result': '1/2-1/2',\n",
       " 'white_rating': 2656,\n",
       " 'black_rating': 2770}"
      ]
     },
     "execution_count": 22,
     "metadata": {},
     "output_type": "execute_result"
    }
   ],
   "source": [
    "game_list[40]"
   ]
  },
  {
   "cell_type": "code",
   "execution_count": 23,
   "metadata": {},
   "outputs": [
    {
     "data": {
      "text/plain": [
       "{'white_player': 'Grischuk,A',\n",
       " 'black_player': 'Deac,Bogdan-Daniel',\n",
       " 'result': '1-0',\n",
       " 'white_rating': 2776,\n",
       " 'black_rating': 2627}"
      ]
     },
     "execution_count": 23,
     "metadata": {},
     "output_type": "execute_result"
    }
   ],
   "source": [
    "game_list[15]"
   ]
  },
  {
   "cell_type": "markdown",
   "metadata": {},
   "source": [
    "[{  'white_player': 'Deac,Bogdan-Daniel',\n",
    "    'black_player': 'Giri,A',\n",
    "    'result': '1/2-1/2',\n",
    "    'white_rating': 2627,\n",
    "    'black_rating': 2780},\n",
    "  { 'white_player': 'Lupulescu,C', \n",
    "    'black_player': 'Aronian,L', \n",
    "    'result': '1/2-1/2', \n",
    "    'white_rating': 2656, \n",
    "    'black_rating': 2781}]"
   ]
  },
  {
   "cell_type": "markdown",
   "metadata": {},
   "source": [
    "---"
   ]
  },
  {
   "cell_type": "code",
   "execution_count": 24,
   "metadata": {
    "collapsed": true
   },
   "outputs": [],
   "source": [
    "def extract_games(raw_data):\n",
    "    import re\n",
    "    \n",
    "    metadata_list = [metadata.splitlines() for metadata in raw_data.split('\\n\\n')[::2]]\n",
    "\n",
    "    game_list = []\n",
    "\n",
    "    for game in metadata_list:\n",
    "        game_dict={}\n",
    "        game_dict['white_player']=game[4].split(\" \\\"\")[1][:-2]\n",
    "        game_dict['black_player']=game[5].split(\" \\\"\")[1][:-2]\n",
    "        game_dict['result']=game[6].split(\" \\\"\")[1][:-2]\n",
    "        game_dict['white_rating']=game[7].split(\" \\\"\")[1][:-2]\n",
    "        game_dict['black_rating']=game[8].split(\" \\\"\")[1][:-2]\n",
    "        game_list.append(game_dict)\n",
    "\n",
    "    return game_list"
   ]
  },
  {
   "cell_type": "code",
   "execution_count": 25,
   "metadata": {},
   "outputs": [
    {
     "name": "stdout",
     "output_type": "stream",
     "text": [
      "Event: Event\n",
      "Description: Superbet Classic 2021\n"
     ]
    }
   ],
   "source": [
    "import re\n",
    "\n",
    "text = '[Event \"Superbet Classic 2021\"]'\n",
    "pattern = r'\\[([a-zA-Z]+) \"([^\"]+)\"\\]'\n",
    "\n",
    "matches = re.search(pattern, text)\n",
    "\n",
    "if matches:\n",
    "    event = matches.group(1)\n",
    "    description = matches.group(2)\n",
    "\n",
    "    print(f'Event: {event}')\n",
    "    print(f'Description: {description}')\n"
   ]
  },
  {
   "cell_type": "code",
   "execution_count": 26,
   "metadata": {},
   "outputs": [
    {
     "data": {
      "text/plain": [
       "[('Event', 'Superbet Classic 2021')]"
      ]
     },
     "execution_count": 26,
     "metadata": {},
     "output_type": "execute_result"
    }
   ],
   "source": [
    "matches = re.findall(pattern, text)\n",
    "matches"
   ]
  },
  {
   "cell_type": "code",
   "execution_count": 27,
   "metadata": {},
   "outputs": [
    {
     "data": {
      "text/plain": [
       "('Event', 'Superbet Classic 2021')"
      ]
     },
     "execution_count": 27,
     "metadata": {},
     "output_type": "execute_result"
    }
   ],
   "source": [
    "matches[0]"
   ]
  },
  {
   "cell_type": "code",
   "execution_count": 28,
   "metadata": {
    "collapsed": true
   },
   "outputs": [],
   "source": [
    "def extract_games(raw_data):\n",
    "    import re\n",
    "\n",
    "    nested_data=[metadata.splitlines() for metadata in raw_data.split('\\n\\n')[::2]]\n",
    "    key_map = {'White': 'white_player', 'Black': 'black_player', 'Result': 'result', \n",
    "               'BlackElo': 'black_rating', 'WhiteElo': 'white_rating'}\n",
    "    games = []\n",
    "    for md in nested_data:\n",
    "        game={}\n",
    "        for row in md:\n",
    "            data_key, data_val = re.findall(r'([a-zA-Z]+) \"([^\"]+)', row)[0]\n",
    "            if data_key in key_map:\n",
    "                key=key_map[data_key]\n",
    "                if data_val.isdigit():\n",
    "                    val=int(data_val)\n",
    "                else:\n",
    "                    val=data_val\n",
    "                game[key]=val\n",
    "        games.append(game)\n",
    "    return games"
   ]
  },
  {
   "cell_type": "code",
   "execution_count": 29,
   "metadata": {},
   "outputs": [
    {
     "data": {
      "text/plain": [
       "[{'white_player': 'Deac,Bogdan-Daniel',\n",
       "  'black_player': 'Giri,A',\n",
       "  'result': '1/2-1/2',\n",
       "  'white_rating': 2627,\n",
       "  'black_rating': 2780},\n",
       " {'white_player': 'Lupulescu,C',\n",
       "  'black_player': 'Aronian,L',\n",
       "  'result': '1/2-1/2',\n",
       "  'white_rating': 2656,\n",
       "  'black_rating': 2781}]"
      ]
     },
     "execution_count": 29,
     "metadata": {},
     "output_type": "execute_result"
    }
   ],
   "source": [
    "# Demo\n",
    "extract_games(demo_raw_data)"
   ]
  },
  {
   "cell_type": "markdown",
   "metadata": {
    "deletable": false,
    "editable": false,
    "nbgrader": {
     "grade": false,
     "locked": true,
     "solution": false
    }
   },
   "source": [
    "The test cell below runs your function **many times**. Remove or comment out any `print` statements to avoid generating excessive output."
   ]
  },
  {
   "cell_type": "code",
   "execution_count": 30,
   "metadata": {
    "deletable": false,
    "editable": false,
    "nbgrader": {
     "grade": true,
     "grade_id": "ex0_test",
     "locked": true,
     "points": "3",
     "solution": false
    }
   },
   "outputs": [
    {
     "name": "stdout",
     "output_type": "stream",
     "text": [
      "Passed!\n"
     ]
    },
    {
     "data": {
      "text/plain": [
       "'49.7 MiB'"
      ]
     },
     "execution_count": 30,
     "metadata": {},
     "output_type": "execute_result"
    }
   ],
   "source": [
    "# `ex0_test`: Test cell\n",
    "from run_tests import ex0_test\n",
    "for _ in range(100):\n",
    "    ex0_test(10, 4, extract_games)\n",
    "print('Passed!')\n",
    "\n",
    "###\n",
    "### AUTOGRADER TEST - DO NOT REMOVE\n",
    "###\n",
    "test_utils.get_mem_usage_str()"
   ]
  },
  {
   "cell_type": "markdown",
   "metadata": {
    "deletable": false,
    "editable": false,
    "nbgrader": {
     "grade": false,
     "locked": true,
     "solution": false
    }
   },
   "source": [
    "**Run the following cell, even if you skipped Exercise 0.**\n",
    "\n",
    "We are loading a pre-computed solution that will be used in the following sections. The first two sections items in the list are displayed."
   ]
  },
  {
   "cell_type": "code",
   "execution_count": 31,
   "metadata": {
    "deletable": false,
    "editable": false,
    "nbgrader": {
     "grade": false,
     "locked": true,
     "solution": false
    }
   },
   "outputs": [
    {
     "name": "stdout",
     "output_type": "stream",
     "text": [
      "[{'white_player': 'Deac,Bogdan-Daniel', 'black_player': 'Giri,A', 'result': '1/2-1/2', 'white_rating': 2627, 'black_rating': 2780}, {'white_player': 'Lupulescu,C', 'black_player': 'Aronian,L', 'result': '1/2-1/2', 'white_rating': 2656, 'black_rating': 2781}]\n"
     ]
    },
    {
     "data": {
      "text/plain": [
       "'49.7 MiB'"
      ]
     },
     "execution_count": 31,
     "metadata": {},
     "output_type": "execute_result"
    }
   ],
   "source": [
    "# Sample result for ex0\n",
    "games_metadata = test_utils.read_pickle('games_metadata')\n",
    "print(games_metadata[:2])\n",
    "test_utils.get_mem_usage_str()"
   ]
  },
  {
   "cell_type": "markdown",
   "metadata": {},
   "source": [
    "---"
   ]
  },
  {
   "cell_type": "code",
   "execution_count": 32,
   "metadata": {},
   "outputs": [
    {
     "data": {
      "text/plain": [
       "[{'white_player': 'Deac,Bogdan-Daniel',\n",
       "  'black_player': 'Giri,A',\n",
       "  'result': '1/2-1/2',\n",
       "  'white_rating': 2627,\n",
       "  'black_rating': 2780},\n",
       " {'white_player': 'Lupulescu,C',\n",
       "  'black_player': 'Aronian,L',\n",
       "  'result': '1/2-1/2',\n",
       "  'white_rating': 2656,\n",
       "  'black_rating': 2781}]"
      ]
     },
     "execution_count": 32,
     "metadata": {},
     "output_type": "execute_result"
    }
   ],
   "source": [
    "extract_games(demo_raw_data)"
   ]
  },
  {
   "cell_type": "markdown",
   "metadata": {
    "deletable": false,
    "editable": false,
    "nbgrader": {
     "grade": false,
     "locked": true,
     "solution": false
    }
   },
   "source": [
    "## Exercise 1 (2 points)\n",
    "\n",
    "The next bit of information we will need in our analysis is the outcome of each player's games paired with their opponent.\n",
    "\n",
    "Fill out the function `extract_player_results(games)` in the code cell below with the following requirements:\n",
    "\n",
    "Given `games`, a list of dictionaries containing the metadata for each game, create dictionary `player_results` mapping each player's name to a list of the outcomes of that player's games. Each outcome should include the opponent's name (String) and the number of points that the player received (Float) as the outcome of the game as a Tuple. \n",
    "\n",
    "The order of tuples in the list associated with each player should be the **same as the order of the matchups in `games`**. \n",
    "\n",
    "You should interpret the value associated with `'result'` as `\"<white player points>-<black player points>\"` separated by a dash \"-\". There are three possible outcomes of a game of chess: White wins (`'1-0'`), black wins (`'0-1'`), or draw (`'1/2-1/2'`).\n",
    "\n",
    "For example, if the input is:\n",
    "\n",
    "`[{'white_player': 'Dwight Schrute', 'black_player: 'Jim Halpert', 'result': '1-0'}, {'white_player': 'Stanley Hudson', 'black_player': 'Dwight Schrute', 'result': '1/2-1/2'}]`\n",
    "\n",
    "Then the output should be:\n",
    "\n",
    "`{'Dwight Schrute': [('Jim Halpert', 1.0), ('Stanley Hudson', 0.5)], 'Jim Halpert': [('Dwight Schrute', 0.0)], 'Stanley Hudson': [('Dwight Schrute', 0.5)]}`\n",
    "\n",
    "You can assume that each dictionary in `games` will have the keys `'white_player'`, `'black_player'`, and `'result'` and that the values associated with each of those keys are Strings. There may be duplicated matchups where the same two players are paired in the tournament more than once. These cases should be handled the same as any other game and do not require any special treatment."
   ]
  },
  {
   "cell_type": "code",
   "execution_count": 33,
   "metadata": {
    "collapsed": true,
    "deletable": false,
    "editable": false,
    "nbgrader": {
     "grade": false,
     "locked": true,
     "solution": false
    }
   },
   "outputs": [],
   "source": [
    "demo_games_metadata = [{'white_player': 'Dwight Schrute', 'black_player': 'Jim Halpert', 'result': '1-0'}, {'white_player': 'Stanley Hudson', 'black_player': 'Dwight Schrute', 'result': '1/2-1/2'}]"
   ]
  },
  {
   "cell_type": "code",
   "execution_count": 34,
   "metadata": {},
   "outputs": [
    {
     "data": {
      "text/plain": [
       "{'Dwight Schrute': [('Jim Halpert', 1.0), ('Stanley Hudson', 0.5)],\n",
       " 'Jim Halpert': [('Dwight Schrute', 0.0)],\n",
       " 'Stanley Hudson': [('Dwight Schrute', 0.5)]}"
      ]
     },
     "execution_count": 34,
     "metadata": {},
     "output_type": "execute_result"
    }
   ],
   "source": [
    "player_results = {}\n",
    "\n",
    "for game in demo_games_metadata:\n",
    "    w_ = game['white_player']\n",
    "    b_ = game['black_player']\n",
    "    result = game['result']\n",
    "    \n",
    "    if result == '1-0':\n",
    "        w_score = 1.0 \n",
    "        b_score = 0.0\n",
    "        \n",
    "    elif result == '0-1':\n",
    "        w_score = 0.0 \n",
    "        b_score = 1.0\n",
    "        \n",
    "    else:\n",
    "        w_score = 0.5 \n",
    "        b_score = 0.5\n",
    "        \n",
    "    if w_ not in player_results.keys():\n",
    "        player_results[w_]=[]\n",
    "    \n",
    "    \n",
    "    if b_ not in player_results.keys():\n",
    "        player_results[b_]=[]\n",
    "        \n",
    "       \n",
    "    player_results[w_].append((b_, w_score))\n",
    "    \n",
    "    player_results[b_].append((w_, b_score))\n",
    "\n",
    "player_results"
   ]
  },
  {
   "cell_type": "code",
   "execution_count": 35,
   "metadata": {
    "collapsed": true
   },
   "outputs": [],
   "source": [
    "# CHAT GPT SOLUTION\n",
    "def extract_player_results(games):\n",
    "    # Initialize an empty dictionary to store player results\n",
    "    player_results = {}\n",
    "\n",
    "    # Iterate through each game\n",
    "    for game in games:\n",
    "        white_player = game['white_player']\n",
    "        black_player = game['black_player']\n",
    "        result = game['result']\n",
    "\n",
    "        # Extract the outcome as a tuple (opponent, points)\n",
    "        outcome = (black_player if result == '1-0' else white_player, 1.0 if result == '1-0' else 0.0 if result == '0-1' else 0.5)\n",
    "\n",
    "        # Update the results for the white player\n",
    "        if white_player in player_results:\n",
    "            player_results[white_player].append(outcome)\n",
    "        else:\n",
    "            player_results[white_player] = [outcome]\n",
    "\n",
    "        # Update the results for the black player\n",
    "        if black_player in player_results:\n",
    "            player_results[black_player].append(outcome)\n",
    "        else:\n",
    "            player_results[black_player] = [outcome]\n",
    "\n",
    "    return player_results\n"
   ]
  },
  {
   "cell_type": "code",
   "execution_count": 36,
   "metadata": {
    "collapsed": true
   },
   "outputs": [],
   "source": [
    "# TA SOLUTION\n",
    "def extract_player_results(games):\n",
    "    from collections import defaultdict\n",
    "    results = defaultdict(list)\n",
    "    for game in games:\n",
    "        w, b = game['white_player'], game['black_player']\n",
    "        w_pts = 1.0 if game['result'] == '1-0' else 0.0 if game['result'] == '0-1' else 0.5\n",
    "        b_pts = 1.0 - w_pts\n",
    "        results[w].append((b, w_pts))\n",
    "        results[b].append((w, b_pts))\n",
    "    return results\n",
    "        "
   ]
  },
  {
   "cell_type": "code",
   "execution_count": 37,
   "metadata": {},
   "outputs": [
    {
     "data": {
      "text/plain": [
       "defaultdict(list,\n",
       "            {'Dwight Schrute': [('Jim Halpert', 1.0), ('Stanley Hudson', 0.5)],\n",
       "             'Jim Halpert': [('Dwight Schrute', 0.0)],\n",
       "             'Stanley Hudson': [('Dwight Schrute', 0.5)]})"
      ]
     },
     "execution_count": 37,
     "metadata": {},
     "output_type": "execute_result"
    }
   ],
   "source": [
    "# Demo\n",
    "extract_player_results(demo_games_metadata)"
   ]
  },
  {
   "cell_type": "code",
   "execution_count": 38,
   "metadata": {
    "collapsed": true
   },
   "outputs": [],
   "source": [
    "# MY SOLUTION VERSION 2\n",
    "def extract_player_results(games):\n",
    "    from collections import defaultdict\n",
    "\n",
    "    player_results = defaultdict(list)\n",
    "\n",
    "    for game in games:\n",
    "        w = game['white_player']\n",
    "        b = game['black_player']\n",
    "        result = game['result']\n",
    "\n",
    "        if result == '1-0':\n",
    "            w_score = 1.0 \n",
    "            b_score = 0.0\n",
    "\n",
    "        elif result == '0-1':\n",
    "            w_score = 0.0 \n",
    "            b_score = 1.0\n",
    "\n",
    "        else:\n",
    "            w_score = 0.5 \n",
    "            b_score = 0.5\n",
    "\n",
    "        player_results[w].append((b, w_score))\n",
    "\n",
    "        player_results[b].append((w, b_score))\n",
    "\n",
    "    return(player_results)"
   ]
  },
  {
   "cell_type": "code",
   "execution_count": 39,
   "metadata": {
    "nbgrader": {
     "grade": false,
     "locked": false,
     "solution": false
    }
   },
   "outputs": [
    {
     "data": {
      "text/plain": [
       "defaultdict(list,\n",
       "            {'Dwight Schrute': [('Jim Halpert', 1.0), ('Stanley Hudson', 0.5)],\n",
       "             'Jim Halpert': [('Dwight Schrute', 0.0)],\n",
       "             'Stanley Hudson': [('Dwight Schrute', 0.5)]})"
      ]
     },
     "execution_count": 39,
     "metadata": {},
     "output_type": "execute_result"
    }
   ],
   "source": [
    "# Demo\n",
    "extract_player_results(demo_games_metadata)"
   ]
  },
  {
   "cell_type": "code",
   "execution_count": 40,
   "metadata": {
    "collapsed": true
   },
   "outputs": [],
   "source": [
    "# MY SOLUTION VERSION 1\n",
    "def extract_player_results(games):\n",
    "    player_results = {}\n",
    "\n",
    "    for game in games:\n",
    "        w = game['white_player']\n",
    "        b = game['black_player']\n",
    "        result = game['result']\n",
    "\n",
    "        if result == '1-0':\n",
    "            w_score = 1.0 \n",
    "            b_score = 0.0\n",
    "\n",
    "        elif result == '0-1':\n",
    "            w_score = 0.0 \n",
    "            b_score = 1.0\n",
    "\n",
    "        else:\n",
    "            w_score = 0.5 \n",
    "            b_score = 0.5\n",
    "\n",
    "        if w not in player_results.keys():\n",
    "            player_results[w]=[]\n",
    "\n",
    "\n",
    "        if b not in player_results.keys():\n",
    "            player_results[b]=[]\n",
    "\n",
    "\n",
    "        player_results[w].append((b, w_score))\n",
    "\n",
    "        player_results[b].append((w, b_score))\n",
    "\n",
    "    return(player_results)"
   ]
  },
  {
   "cell_type": "markdown",
   "metadata": {
    "deletable": false,
    "editable": false,
    "nbgrader": {
     "grade": false,
     "locked": true,
     "solution": false
    }
   },
   "source": [
    "The test cell below runs your function **many times**. Remove or comment out any `print` statements to avoid generating excessive output."
   ]
  },
  {
   "cell_type": "code",
   "execution_count": 41,
   "metadata": {
    "deletable": false,
    "editable": false,
    "nbgrader": {
     "grade": true,
     "grade_id": "ex1_test",
     "locked": true,
     "points": "2",
     "solution": false
    }
   },
   "outputs": [
    {
     "name": "stdout",
     "output_type": "stream",
     "text": [
      "Passed!\n"
     ]
    },
    {
     "data": {
      "text/plain": [
       "'49.9 MiB'"
      ]
     },
     "execution_count": 41,
     "metadata": {},
     "output_type": "execute_result"
    }
   ],
   "source": [
    "# `ex1_test`: Test cell\n",
    "from run_tests import ex1_test\n",
    "for _ in range(100):\n",
    "    ex1_test(10, 4, extract_player_results)\n",
    "print('Passed!')\n",
    "\n",
    "###\n",
    "### AUTOGRADER TEST - DO NOT REMOVE\n",
    "###\n",
    "test_utils.get_mem_usage_str()"
   ]
  },
  {
   "cell_type": "markdown",
   "metadata": {
    "deletable": false,
    "editable": false,
    "nbgrader": {
     "grade": false,
     "locked": true,
     "solution": false
    }
   },
   "source": [
    "**Run the following cell, even if you skipped Exercise 1.**\n",
    "\n",
    "We are loading a pre-computed solution that will be used in the following sections. The first two entries are displayed."
   ]
  },
  {
   "cell_type": "code",
   "execution_count": 42,
   "metadata": {
    "deletable": false,
    "editable": false,
    "nbgrader": {
     "grade": false,
     "locked": true,
     "solution": false
    }
   },
   "outputs": [
    {
     "data": {
      "text/plain": [
       "{'Deac,Bogdan-Daniel': [('Giri,A', 0.5),\n",
       "  ('Vachier', 1.0),\n",
       "  ('Mamedyarov,S', 0.5),\n",
       "  ('Grischuk,A', 0.0),\n",
       "  ('So,W', 0.5),\n",
       "  ('Radjabov,T', 0.5),\n",
       "  ('Lupulescu,C', 0.5),\n",
       "  ('Aronian,L', 0.0),\n",
       "  ('Caruana,F', 0.5)],\n",
       " 'Giri,A': [('Deac,Bogdan-Daniel', 0.5),\n",
       "  ('Radjabov,T', 0.5),\n",
       "  ('Lupulescu,C', 0.0),\n",
       "  ('Aronian,L', 0.5),\n",
       "  ('Caruana,F', 0.5),\n",
       "  ('So,W', 0.5),\n",
       "  ('Vachier', 1.0),\n",
       "  ('Grischuk,A', 0.5)]}"
      ]
     },
     "execution_count": 42,
     "metadata": {},
     "output_type": "execute_result"
    }
   ],
   "source": [
    "# Sample result for ex1\n",
    "player_results = test_utils.read_pickle('player_results')\n",
    "{k:v for k, v in list(player_results.items())[:2]}"
   ]
  },
  {
   "cell_type": "markdown",
   "metadata": {
    "deletable": false,
    "editable": false,
    "nbgrader": {
     "grade": false,
     "locked": true,
     "solution": false
    }
   },
   "source": [
    "## Exercise 2 (1 point)\n",
    "\n",
    "Our next task is to compute the total tournament score for each player.\n",
    "\n",
    "Fill in the function `calculate_score(player_results)` satisfying the following requirements:\n",
    "\n",
    "Given a dictionary `player_results` mapping player names to their tournament results (similar to the output of Excercise 1), create a **new** dictionary `player_scores` that maps each player (String) to their total score for the tournament (Float).\n",
    "\n",
    "For example, given the following input: \n",
    "\n",
    "`{'Angela Martin': [('Oscar Martinez', 1.0), ('Kevin Malone', 0.5), ('Andy Bernard', 0.0)], 'Michael Scott': [('Pam Halpert', 0.0), ('Toby Flenderson', 0.0), ('Todd Packer', 0.0)]}`\n",
    "\n",
    "Your function should output:\n",
    "\n",
    "`{'Angela Martin': 1.5, 'Michael Scott': 0.0}`\n",
    "\n",
    "(Michael isn't exactly a chess prodigy...)\n",
    "\n",
    "You can assume that the lists keyed to each String in the input will be of the form (String, Float). You do not need to worry about verifying that all of the games implied by the input are present. If you look closely at the example, you will see that this is **not** the case.\n"
   ]
  },
  {
   "cell_type": "code",
   "execution_count": 43,
   "metadata": {
    "collapsed": true,
    "deletable": false,
    "editable": false,
    "nbgrader": {
     "grade": false,
     "locked": true,
     "solution": false
    }
   },
   "outputs": [],
   "source": [
    "\n",
    "demo_player_results = {'Angela Martin': [('Oscar Martinez', 1.0), ('Kevin Malone', 0.5), ('Andy Bernard', 0.0)], 'Michael Scott': [('Pam Halpert', 0.0), ('Toby Flenderson', 0.0), ('Todd Packer', 0.0)]}"
   ]
  },
  {
   "cell_type": "code",
   "execution_count": 44,
   "metadata": {},
   "outputs": [
    {
     "data": {
      "text/plain": [
       "dict_keys(['Angela Martin', 'Michael Scott'])"
      ]
     },
     "execution_count": 44,
     "metadata": {},
     "output_type": "execute_result"
    }
   ],
   "source": [
    "demo_player_results.keys()"
   ]
  },
  {
   "cell_type": "code",
   "execution_count": 45,
   "metadata": {},
   "outputs": [
    {
     "name": "stdout",
     "output_type": "stream",
     "text": [
      "Angela Martin\n",
      "Michael Scott\n"
     ]
    }
   ],
   "source": [
    "for key_ in demo_player_results.keys():\n",
    "    print(key_)"
   ]
  },
  {
   "cell_type": "code",
   "execution_count": 46,
   "metadata": {},
   "outputs": [
    {
     "data": {
      "text/plain": [
       "dict_values([[('Oscar Martinez', 1.0), ('Kevin Malone', 0.5), ('Andy Bernard', 0.0)], [('Pam Halpert', 0.0), ('Toby Flenderson', 0.0), ('Todd Packer', 0.0)]])"
      ]
     },
     "execution_count": 46,
     "metadata": {},
     "output_type": "execute_result"
    }
   ],
   "source": [
    "demo_player_results.values()"
   ]
  },
  {
   "cell_type": "code",
   "execution_count": 47,
   "metadata": {},
   "outputs": [
    {
     "data": {
      "text/plain": [
       "[('Oscar Martinez', 1.0), ('Kevin Malone', 0.5), ('Andy Bernard', 0.0)]"
      ]
     },
     "execution_count": 47,
     "metadata": {},
     "output_type": "execute_result"
    }
   ],
   "source": [
    "demo_player_results['Angela Martin']"
   ]
  },
  {
   "cell_type": "code",
   "execution_count": 48,
   "metadata": {},
   "outputs": [
    {
     "data": {
      "text/plain": [
       "1.5"
      ]
     },
     "execution_count": 48,
     "metadata": {},
     "output_type": "execute_result"
    }
   ],
   "source": [
    "score = 0\n",
    "for i in demo_player_results['Angela Martin']:\n",
    "    score += i[1]\n",
    "score"
   ]
  },
  {
   "cell_type": "code",
   "execution_count": 49,
   "metadata": {
    "collapsed": true
   },
   "outputs": [],
   "source": [
    "def calculate_score(player_results):\n",
    "    \n",
    "    player_score = {}\n",
    "    \n",
    "    for key_ in player_results.keys():\n",
    "        score = 0\n",
    "        for game in player_results[key_]:\n",
    "            score += game[1]\n",
    "        \n",
    "        player_score[key_] = score\n",
    "    \n",
    "    return player_score\n",
    "        "
   ]
  },
  {
   "cell_type": "code",
   "execution_count": 50,
   "metadata": {},
   "outputs": [
    {
     "data": {
      "text/plain": [
       "{'Angela Martin': 1.5, 'Michael Scott': 0.0}"
      ]
     },
     "execution_count": 50,
     "metadata": {},
     "output_type": "execute_result"
    }
   ],
   "source": [
    "# Demo\n",
    "calculate_score(demo_player_results)"
   ]
  },
  {
   "cell_type": "markdown",
   "metadata": {
    "deletable": false,
    "editable": false,
    "nbgrader": {
     "grade": false,
     "locked": true,
     "solution": false
    }
   },
   "source": [
    "The test cell below runs your function **many times**. Remove or comment out any `print` statements to avoid generating excessive output."
   ]
  },
  {
   "cell_type": "code",
   "execution_count": 51,
   "metadata": {
    "deletable": false,
    "editable": false,
    "nbgrader": {
     "grade": true,
     "grade_id": "ex2_test",
     "locked": true,
     "points": "1",
     "solution": false
    }
   },
   "outputs": [
    {
     "name": "stdout",
     "output_type": "stream",
     "text": [
      "Passed!\n"
     ]
    },
    {
     "data": {
      "text/plain": [
       "'49.9 MiB'"
      ]
     },
     "execution_count": 51,
     "metadata": {},
     "output_type": "execute_result"
    }
   ],
   "source": [
    "# `ex2_test`: Test cell\n",
    "from run_tests import ex2_test\n",
    "for _ in range(200):\n",
    "    ex2_test(10, 4, calculate_score)\n",
    "print('Passed!')\n",
    "\n",
    "###\n",
    "### AUTOGRADER TEST - DO NOT REMOVE\n",
    "###\n",
    "test_utils.get_mem_usage_str()"
   ]
  },
  {
   "cell_type": "markdown",
   "metadata": {
    "deletable": false,
    "editable": false,
    "nbgrader": {
     "grade": false,
     "locked": true,
     "solution": false
    }
   },
   "source": [
    "**Run the following cell, even if you skipped Exercise 2.**\n",
    "\n",
    "We are loading a pre-computed solution that will be used in the following sections. The first two entries are displayed."
   ]
  },
  {
   "cell_type": "code",
   "execution_count": 52,
   "metadata": {
    "deletable": false,
    "editable": false,
    "nbgrader": {
     "grade": false,
     "locked": true,
     "solution": false
    }
   },
   "outputs": [
    {
     "data": {
      "text/plain": [
       "{'Deac,Bogdan-Daniel': 4.0, 'Giri,A': 4.0}"
      ]
     },
     "execution_count": 52,
     "metadata": {},
     "output_type": "execute_result"
    }
   ],
   "source": [
    "# Sample result for ex2\n",
    "player_scores = test_utils.read_pickle('player_scores')\n",
    "{k:v for k, v in list(player_scores.items())[:2]}"
   ]
  },
  {
   "cell_type": "markdown",
   "metadata": {
    "deletable": false,
    "editable": false,
    "nbgrader": {
     "grade": false,
     "locked": true,
     "solution": false
    }
   },
   "source": [
    "## Exercise 3 (2 points)\n",
    "\n",
    "Our next task is to extract the Elo rating of each player from the metadata.\n",
    "\n",
    "Fill in the function `extract_ratings(games)` to satisfy the following requirements:\n",
    "\n",
    "Given a list of dictionaries, `games`, create a dictionary `player_ratings` that maps each player to their Elo rating before the tournament. You can assume that each dictionary in `games` will have the following keys and value types: `'white_player'`: (String), `'black_player'`: (String), `'white_rating'`: (Integer), and `'black_rating'`: (Integer).\n",
    "\n",
    "Additionally, if the same player has different ratings in the input, your function should raise a `ValueError`.\n",
    "\n",
    "For example:\n",
    "\n",
    "Input : `[{'white_player': 'Jim Halpert', 'black_player': 'Darryl Philbin', 'white_rating': 1600, 'black_rating': 1800}, {'white_player': 'Darryl Philbin', 'black_player': 'Phyllis Vance', 'white_rating': 1800, 'black_rating': 1700}]`\n",
    "\n",
    "Output : `{'Darryl Philbin': 1800, 'Jim Halpert': 1600, 'Phyllis Vance': 1700}`\n",
    "\n",
    "Input : `[{'white_player': 'Jim Halpert', 'black_player': 'Darryl Philbin', 'white_rating': 1600, 'black_rating': 1800}, {'white_player': 'Darryl Philbin', 'black_player': 'Phyllis Vance', 'white_rating': 1850, 'black_rating': 1700}]`\n",
    "\n",
    "Here `'Darryl Philbin'` has two ratings: 1800 in his first game and 1850 in his second. Your function should raise a `ValueError`!"
   ]
  },
  {
   "cell_type": "code",
   "execution_count": 53,
   "metadata": {
    "collapsed": true,
    "deletable": false,
    "editable": false,
    "nbgrader": {
     "grade": false,
     "locked": true,
     "solution": false
    }
   },
   "outputs": [],
   "source": [
    "demo_metadata_good = [{'white_player': 'Jim Halpert', 'black_player': 'Darryl Philbin', 'white_rating': 1600, 'black_rating': 1800}, {'white_player': 'Darryl Philbin', 'black_player': 'Phyllis Vance', 'white_rating': 1800, 'black_rating': 1700}]\n",
    "demo_metadata_bad = [{'white_player': 'Jim Halpert', 'black_player': 'Darryl Philbin', 'white_rating': 1600, 'black_rating': 1800}, {'white_player': 'Darryl Philbin', 'black_player': 'Phyllis Vance', 'white_rating': 1850, 'black_rating': 1700}]"
   ]
  },
  {
   "cell_type": "code",
   "execution_count": 54,
   "metadata": {},
   "outputs": [
    {
     "data": {
      "text/plain": [
       "{'Jim Halpert': 1600, 'Darryl Philbin': 1800, 'Phyllis Vance': 1700}"
      ]
     },
     "execution_count": 54,
     "metadata": {},
     "output_type": "execute_result"
    }
   ],
   "source": [
    "rating = {}\n",
    "\n",
    "for game in demo_metadata_good:\n",
    "    rating[game['white_player']]=game['white_rating']\n",
    "    rating[game['black_player']]=game['black_rating']\n",
    "\n",
    "rating"
   ]
  },
  {
   "cell_type": "code",
   "execution_count": 55,
   "metadata": {},
   "outputs": [
    {
     "name": "stdout",
     "output_type": "stream",
     "text": [
      "{'white_player': 'Jim Halpert', 'black_player': 'Darryl Philbin', 'white_rating': 1600, 'black_rating': 1800}\n",
      "{'white_player': 'Darryl Philbin', 'black_player': 'Phyllis Vance', 'white_rating': 1800, 'black_rating': 1700}\n"
     ]
    }
   ],
   "source": [
    "for i in demo_metadata_good:\n",
    "    print(i)"
   ]
  },
  {
   "cell_type": "code",
   "execution_count": 56,
   "metadata": {},
   "outputs": [
    {
     "data": {
      "text/plain": [
       "{'Jim Halpert': 1600, 'Darryl Philbin': 1800, 'Phyllis Vance': 1700}"
      ]
     },
     "execution_count": 56,
     "metadata": {},
     "output_type": "execute_result"
    }
   ],
   "source": [
    "rating = {}\n",
    "\n",
    "for game in demo_metadata_good:\n",
    "    if game['white_player'] in rating.keys() and rating[game['white_player']] != game['white_rating']:\n",
    "        raise ValueError\n",
    "    else:\n",
    "        rating[game['white_player']]=game['white_rating']\n",
    "        \n",
    "    if game['black_player'] in rating.keys() and rating[game['black_player']] != game['black_rating']:\n",
    "        raise ValueError\n",
    "    else:\n",
    "        rating[game['black_player']]=game['black_rating']\n",
    "\n",
    "rating"
   ]
  },
  {
   "cell_type": "code",
   "execution_count": 57,
   "metadata": {},
   "outputs": [
    {
     "data": {
      "text/plain": [
       "'\\nrating = {}\\n\\nfor game in demo_metadata_bad:\\n    if game[\\'white_player\\'] in rating.keys() and rating[game[\\'white_player\\']] != game[\\'white_rating\\']:\\n        raise ValueError(\"MISMATCH!\")\\n    else:\\n        rating[game[\\'white_player\\']]=game[\\'white_rating\\']\\n        \\n    if game[\\'black_player\\'] in rating.keys() and rating[game[\\'black_player\\']] != game[\\'black_rating\\']:\\n        raise ValueError(\"MISMATCH!\")\\n    else:\\n        rating[game[\\'black_player\\']]=game[\\'black_rating\\']\\n\\nrating\\n'"
      ]
     },
     "execution_count": 57,
     "metadata": {},
     "output_type": "execute_result"
    }
   ],
   "source": [
    "'''\n",
    "rating = {}\n",
    "\n",
    "for game in demo_metadata_bad:\n",
    "    if game['white_player'] in rating.keys() and rating[game['white_player']] != game['white_rating']:\n",
    "        raise ValueError(\"MISMATCH!\")\n",
    "    else:\n",
    "        rating[game['white_player']]=game['white_rating']\n",
    "        \n",
    "    if game['black_player'] in rating.keys() and rating[game['black_player']] != game['black_rating']:\n",
    "        raise ValueError(\"MISMATCH!\")\n",
    "    else:\n",
    "        rating[game['black_player']]=game['black_rating']\n",
    "\n",
    "rating\n",
    "'''"
   ]
  },
  {
   "cell_type": "code",
   "execution_count": 58,
   "metadata": {
    "collapsed": true
   },
   "outputs": [],
   "source": [
    "test_cells = [{'black_player': 'Xdgdskhlkkexr,V',\n",
    "  'black_rating': 2207,\n",
    "  'white_player': 'Rwlmsdtafoj,Qxwkyx',\n",
    "  'white_rating': 1504},\n",
    " {'black_player': 'Gcbecw,Ftkgdgovw',\n",
    "  'black_rating': 1893,\n",
    "  'white_player': 'Rwlmsdtafoj,Qxwkyx',\n",
    "  'white_rating': 1504},\n",
    " {'black_player': 'Rqygovla,Eituxvm',\n",
    "  'black_rating': 1851,\n",
    "  'white_player': 'Rwlmsdtafoj,Qxwkyx',\n",
    "  'white_rating': 1504},\n",
    " {'black_player': 'Cjothxuvgqjy,Xz',\n",
    "  'black_rating': 1633,\n",
    "  'white_player': 'Rwlmsdtafoj,Qxwkyx',\n",
    "  'white_rating': 1504}]"
   ]
  },
  {
   "cell_type": "code",
   "execution_count": 59,
   "metadata": {
    "collapsed": true
   },
   "outputs": [],
   "source": [
    "def extract_ratings(games):\n",
    "    \n",
    "    rating = {}\n",
    "\n",
    "    for game in games:\n",
    "        if game['white_player'] in rating.keys() and rating[game['white_player']] != game['white_rating']:\n",
    "            raise ValueError(\"MISMATCH!\")\n",
    "        else:\n",
    "            rating[game['white_player']]=game['white_rating']\n",
    "\n",
    "        if game['black_player'] in rating.keys() and rating[game['black_player']] != game['black_rating']:\n",
    "            raise ValueError(\"MISMATCH!\")\n",
    "        else:\n",
    "            rating[game['black_player']]=game['black_rating']\n",
    "\n",
    "    return rating \n"
   ]
  },
  {
   "cell_type": "code",
   "execution_count": 60,
   "metadata": {},
   "outputs": [
    {
     "data": {
      "text/plain": [
       "{'Rwlmsdtafoj,Qxwkyx': 1504,\n",
       " 'Xdgdskhlkkexr,V': 2207,\n",
       " 'Gcbecw,Ftkgdgovw': 1893,\n",
       " 'Rqygovla,Eituxvm': 1851,\n",
       " 'Cjothxuvgqjy,Xz': 1633}"
      ]
     },
     "execution_count": 60,
     "metadata": {},
     "output_type": "execute_result"
    }
   ],
   "source": [
    "extract_ratings(test_cells)"
   ]
  },
  {
   "cell_type": "code",
   "execution_count": 61,
   "metadata": {},
   "outputs": [
    {
     "data": {
      "text/plain": [
       "{'Jim Halpert': 1600, 'Darryl Philbin': 1800, 'Phyllis Vance': 1700}"
      ]
     },
     "execution_count": 61,
     "metadata": {},
     "output_type": "execute_result"
    }
   ],
   "source": [
    "extract_ratings(demo_metadata_good)"
   ]
  },
  {
   "cell_type": "code",
   "execution_count": 62,
   "metadata": {},
   "outputs": [
    {
     "name": "stdout",
     "output_type": "stream",
     "text": [
      "Correctly raised ValueError\n"
     ]
    },
    {
     "data": {
      "text/plain": [
       "{'Jim Halpert': 1600, 'Darryl Philbin': 1800, 'Phyllis Vance': 1700}"
      ]
     },
     "execution_count": 62,
     "metadata": {},
     "output_type": "execute_result"
    }
   ],
   "source": [
    "try:\n",
    "    extract_ratings(demo_metadata_bad)\n",
    "    print('This should raise a ValueError')\n",
    "except ValueError:\n",
    "    print('Correctly raised ValueError')\n",
    "extract_ratings(demo_metadata_good)"
   ]
  },
  {
   "cell_type": "markdown",
   "metadata": {
    "deletable": false,
    "editable": false,
    "nbgrader": {
     "grade": false,
     "locked": true,
     "solution": false
    }
   },
   "source": [
    "The test cell below runs your function **many times**. Remove or comment out any `print` statements to avoid generating excessive output."
   ]
  },
  {
   "cell_type": "code",
   "execution_count": 63,
   "metadata": {
    "deletable": false,
    "editable": false,
    "nbgrader": {
     "grade": true,
     "grade_id": "ex3_test",
     "locked": true,
     "points": "2",
     "solution": false
    }
   },
   "outputs": [
    {
     "name": "stdout",
     "output_type": "stream",
     "text": [
      "Passed!\n"
     ]
    }
   ],
   "source": [
    "# `ex3_test`: Test cell\n",
    "from run_tests import ex3_test\n",
    "for _ in range(200):\n",
    "    ex3_test(10, 4, extract_ratings)\n",
    "print('Passed!')\n",
    "\n",
    "###\n",
    "### AUTOGRADER TEST - DO NOT REMOVE\n",
    "###\n"
   ]
  },
  {
   "cell_type": "markdown",
   "metadata": {},
   "source": [
    "---"
   ]
  },
  {
   "cell_type": "markdown",
   "metadata": {
    "deletable": false,
    "editable": false,
    "nbgrader": {
     "grade": false,
     "locked": true,
     "solution": false
    }
   },
   "source": [
    "**Run the following cell, even if you skipped Exercise 3.**\n",
    "\n",
    "We are loading a pre-computed solution that will be used in the following sections. The first two entries are displayed."
   ]
  },
  {
   "cell_type": "code",
   "execution_count": 64,
   "metadata": {
    "deletable": false,
    "editable": false,
    "nbgrader": {
     "grade": false,
     "locked": true,
     "solution": false
    }
   },
   "outputs": [
    {
     "data": {
      "text/plain": [
       "{'Deac,Bogdan-Daniel': 2627, 'Giri,A': 2780}"
      ]
     },
     "execution_count": 64,
     "metadata": {},
     "output_type": "execute_result"
    }
   ],
   "source": [
    "# Sample result for ex3\n",
    "player_ratings = test_utils.read_pickle('player_ratings')\n",
    "{k:v for k, v in list(player_ratings.items())[:2]}"
   ]
  },
  {
   "cell_type": "markdown",
   "metadata": {
    "deletable": false,
    "editable": false,
    "nbgrader": {
     "grade": false,
     "locked": true,
     "solution": false
    }
   },
   "source": [
    "## Exercise 4 (1 point)\n",
    "\n",
    "The last task before we begin analysis is to implement some functionality to calculate the expected result of a match based on the Elo ratings of each player.\n",
    "\n",
    "Fill out the function `expected_match_score(r_player, r_opponent)` to satisfy the following requirements:\n",
    "\n",
    "Given a player's rating (Integer) and their opponent's rating (Integer), compute the player's expected score in a game against that opponent. The formula for the expected score is:\n",
    "\n",
    "$$\\text{Expected Score} =  \\frac{1}{1 + 10^{d}}$$\n",
    "where \n",
    "$$d = \\frac{r_{\\text{opponent}} - r_{\\text{player}}}{400}$$\n",
    "\n",
    "Output the expected score as a Float. **Do not round**.\n",
    "\n",
    "For example:\n",
    "\n",
    "`expected_match_score(1900, 1500)` should return about `0.909`  \n",
    "`expected_match_score(1500, 1500)` should return about `0.5`  \n",
    "`expected_match_score(1900, 1700)` should return about `0.76`"
   ]
  },
  {
   "cell_type": "code",
   "execution_count": 65,
   "metadata": {
    "collapsed": true,
    "deletable": false,
    "editable": false,
    "nbgrader": {
     "grade": false,
     "locked": true,
     "solution": false
    }
   },
   "outputs": [],
   "source": [
    "demo_ratings = [(1900, 1500), (1500, 1500), (1900, 1700)]"
   ]
  },
  {
   "cell_type": "code",
   "execution_count": 66,
   "metadata": {
    "collapsed": true
   },
   "outputs": [],
   "source": [
    "def expected_match_score(r_player, r_opponent):\n",
    "   \n",
    "    d= (r_opponent-r_player)/400\n",
    "    \n",
    "    return 1/(1+10**(d))"
   ]
  },
  {
   "cell_type": "code",
   "execution_count": 67,
   "metadata": {},
   "outputs": [
    {
     "name": "stdout",
     "output_type": "stream",
     "text": [
      "expected_match_score(1900, 1500) = 0.9090909090909091\n",
      "expected_match_score(1500, 1500) = 0.5\n",
      "expected_match_score(1900, 1700) = 0.7597469266479578\n"
     ]
    }
   ],
   "source": [
    "# Demo\n",
    "for rp, ro in demo_ratings:\n",
    "    print(f'expected_match_score({rp}, {ro}) = {expected_match_score(rp, ro)}')"
   ]
  },
  {
   "cell_type": "markdown",
   "metadata": {
    "deletable": false,
    "editable": false,
    "nbgrader": {
     "grade": false,
     "locked": true,
     "solution": false
    }
   },
   "source": [
    "The test cell below runs your function **many times**. Remove or comment out any `print` statements to avoid generating excessive output."
   ]
  },
  {
   "cell_type": "code",
   "execution_count": 68,
   "metadata": {
    "deletable": false,
    "editable": false,
    "nbgrader": {
     "grade": true,
     "grade_id": "ex4_test",
     "locked": true,
     "points": "1",
     "solution": false
    },
    "scrolled": true
   },
   "outputs": [
    {
     "name": "stdout",
     "output_type": "stream",
     "text": [
      "Passed!\n"
     ]
    },
    {
     "data": {
      "text/plain": [
       "'49.9 MiB'"
      ]
     },
     "execution_count": 68,
     "metadata": {},
     "output_type": "execute_result"
    }
   ],
   "source": [
    "# `ex4_test`: Test cell\n",
    "###\n",
    "### AUTOGRADER TEST - DO NOT REMOVE\n",
    "###\n",
    "from run_tests import ex4_test\n",
    "for _ in range(200):\n",
    "    ex4_test(expected_match_score)\n",
    "print('Passed!')\n",
    "\n",
    "###\n",
    "### AUTOGRADER TEST - DO NOT REMOVE\n",
    "###\n",
    "test_utils.get_mem_usage_str()"
   ]
  },
  {
   "cell_type": "markdown",
   "metadata": {},
   "source": [
    "---"
   ]
  },
  {
   "cell_type": "markdown",
   "metadata": {
    "deletable": false,
    "editable": false,
    "nbgrader": {
     "grade": false,
     "locked": true,
     "solution": false
    }
   },
   "source": [
    "## Aside - Functional Programming\n",
    "\n",
    "It is often useful to write functions which take other functions as arguments. Inside of your function, the functional argument is called in a consistent way. This allows the caller of your function to customize it's behavior. \n",
    "\n",
    "Here is an over-engineered arithmetic calculator as an example. These functions define mathematical operations."
   ]
  },
  {
   "cell_type": "code",
   "execution_count": 69,
   "metadata": {
    "collapsed": true,
    "deletable": false,
    "editable": false,
    "nbgrader": {
     "grade": false,
     "locked": true,
     "solution": false
    }
   },
   "outputs": [],
   "source": [
    "# add\n",
    "def a(a, b):\n",
    "    return a+b\n",
    "# subtract\n",
    "def s(a, b):\n",
    "    return a-b\n",
    "# multiply\n",
    "def m(a, b):\n",
    "    return a*b\n",
    "# divide\n",
    "def d(a,b):\n",
    "    return a/b"
   ]
  },
  {
   "cell_type": "markdown",
   "metadata": {
    "deletable": false,
    "editable": false,
    "nbgrader": {
     "grade": false,
     "locked": true,
     "solution": false
    }
   },
   "source": [
    "This function, `calc`, takes the two numbers as an argument and a third argument which determines how they are combined."
   ]
  },
  {
   "cell_type": "code",
   "execution_count": 70,
   "metadata": {
    "collapsed": true,
    "deletable": false,
    "editable": false,
    "nbgrader": {
     "grade": false,
     "locked": true,
     "solution": false
    }
   },
   "outputs": [],
   "source": [
    "def calc(a, b, opp):\n",
    "    return opp(a,b)"
   ]
  },
  {
   "cell_type": "markdown",
   "metadata": {
    "deletable": false,
    "editable": false,
    "nbgrader": {
     "grade": false,
     "locked": true,
     "solution": false
    }
   },
   "source": [
    "Now we can use any function that takes two arguments, like the 4 defined above to determine the behavior of `calc`."
   ]
  },
  {
   "cell_type": "code",
   "execution_count": 71,
   "metadata": {
    "deletable": false,
    "editable": false,
    "nbgrader": {
     "grade": false,
     "locked": true,
     "solution": false
    }
   },
   "outputs": [
    {
     "data": {
      "text/plain": [
       "8"
      ]
     },
     "execution_count": 71,
     "metadata": {},
     "output_type": "execute_result"
    }
   ],
   "source": [
    "calc(3,5,a)"
   ]
  },
  {
   "cell_type": "code",
   "execution_count": 72,
   "metadata": {
    "deletable": false,
    "editable": false,
    "nbgrader": {
     "grade": false,
     "locked": true,
     "solution": false
    }
   },
   "outputs": [
    {
     "data": {
      "text/plain": [
       "0.6"
      ]
     },
     "execution_count": 72,
     "metadata": {},
     "output_type": "execute_result"
    }
   ],
   "source": [
    "calc(3,5,d)"
   ]
  },
  {
   "cell_type": "markdown",
   "metadata": {},
   "source": [
    "---"
   ]
  },
  {
   "cell_type": "markdown",
   "metadata": {
    "deletable": false,
    "editable": false,
    "nbgrader": {
     "grade": false,
     "locked": true,
     "solution": false
    }
   },
   "source": [
    "## Exercise 5 (3 points)\n",
    "\n",
    "Our next task is to write some functionality to determine each player's expected tournament score.\n",
    "\n",
    "Fill in the function `expected_tournament_score(player_results, player_ratings, es_func)` to satisfy the following requirements:\n",
    "\n",
    "Given a dictionary, `player_results`, mapping players to their tournament results as a list of tuples (similar to the output from Exercise 1) and a dictionary, `player_ratings`, mapping players to their Elo ratings, compute the **total** expected score for each player (you only need to compute total expected score for players that are keys in `player_results`). The total expected score is simply the sum of the expected scores for each of that players games. Output the results as a dictionary mapping players (String) to their expected tournament score (Float).\n",
    "\n",
    "The third argument `es_func` is a function that takes two arguments (the player's rating and opponent's rating respectively) and returns an \"expected score\". You should use it to compute the expected scores for this exercise. **It might not be the same as the solution to Exercise 4!**\n",
    "\n",
    "A call to `es_func(1450, 1575)` inside of your function would compute the \"expected score\" for the 1450-rated player against a 1575-rated player.\n",
    "\n",
    "For example given:\n",
    "\n",
    "`player_results = {'Angela Martin': [('Dwight Schrute', 1.0), ('Stanley Hudson', 0.5)], 'Dwight Schrute': [('Angela Martin', 0.0), ('Jim Halpert', 0.5)]}`\n",
    "\n",
    "`player_ratings = {'Angela Martin': 1600, 'Dwight Schrute': 1750, 'Stanley Hudson': 1800, 'Jim Halpert': 1700}`\n",
    "\n",
    "`es_func = lambda r_player, r_opponent: float(r_player - r_opponent)`\n",
    "\n",
    "The output would be:\n",
    "\n",
    "`{'Angela Martin': -350.0, 'Dwight Schrute': 200.0}`"
   ]
  },
  {
   "cell_type": "code",
   "execution_count": 73,
   "metadata": {
    "collapsed": true,
    "deletable": false,
    "editable": false,
    "nbgrader": {
     "grade": false,
     "locked": true,
     "solution": false
    }
   },
   "outputs": [],
   "source": [
    "demo_player_results = {'Angela Martin': [('Dwight Schrute', 1.0), ('Stanley Hudson', 0.5)], 'Dwight Schrute': [('Angela Martin', 0.0), ('Jim Halpert', 0.5)]}\n",
    "demo_player_ratings = {'Angela Martin': 1600, 'Dwight Schrute': 1750, 'Stanley Hudson': 1800, 'Jim Halpert': 1700}\n",
    "demo_es_func = lambda r_player, r_opponent: float(r_player - r_opponent)"
   ]
  },
  {
   "cell_type": "code",
   "execution_count": 74,
   "metadata": {},
   "outputs": [
    {
     "data": {
      "text/plain": [
       "[('Dwight Schrute', 1.0), ('Stanley Hudson', 0.5)]"
      ]
     },
     "execution_count": 74,
     "metadata": {},
     "output_type": "execute_result"
    }
   ],
   "source": [
    "demo_player_results ['Angela Martin']"
   ]
  },
  {
   "cell_type": "code",
   "execution_count": 75,
   "metadata": {},
   "outputs": [
    {
     "name": "stdout",
     "output_type": "stream",
     "text": [
      "Angela Martin\n",
      "Dwight Schrute\n"
     ]
    }
   ],
   "source": [
    "for key, value in demo_player_results.items():\n",
    "    print(key)"
   ]
  },
  {
   "cell_type": "code",
   "execution_count": 76,
   "metadata": {},
   "outputs": [
    {
     "name": "stdout",
     "output_type": "stream",
     "text": [
      "Dwight Schrute\n",
      "Stanley Hudson\n"
     ]
    }
   ],
   "source": [
    "for opponent, score in demo_player_results ['Angela Martin']:\n",
    "    print(opponent)"
   ]
  },
  {
   "cell_type": "code",
   "execution_count": 77,
   "metadata": {},
   "outputs": [
    {
     "data": {
      "text/plain": [
       "-350.0"
      ]
     },
     "execution_count": 77,
     "metadata": {},
     "output_type": "execute_result"
    }
   ],
   "source": [
    "count = 0\n",
    "\n",
    "for opponent, score in demo_player_results ['Angela Martin']:\n",
    "    r_player = demo_player_ratings ['Angela Martin']\n",
    "    r_opponent = demo_player_ratings[opponent]\n",
    "    count += demo_es_func(r_player,r_opponent)\n",
    "\n",
    "count\n",
    "    "
   ]
  },
  {
   "cell_type": "code",
   "execution_count": 78,
   "metadata": {},
   "outputs": [],
   "source": [
    "def expected_tournament_score(player_results, player_ratings, es_func):\n",
    "    \n",
    "    player_dict = {}\n",
    "    \n",
    "    for key, value in player_results.items():\n",
    "        \n",
    "        count = 0\n",
    "        \n",
    "        for opponent, score in player_results[key]:\n",
    "            \n",
    "            r_player = player_ratings[key]\n",
    "            r_opponent=player_ratings[opponent]\n",
    "            count += es_func(r_player,r_opponent)\n",
    "            \n",
    "        player_dict[key]=count\n",
    "        \n",
    "    return player_dict"
   ]
  },
  {
   "cell_type": "code",
   "execution_count": 79,
   "metadata": {},
   "outputs": [
    {
     "data": {
      "text/plain": [
       "{'Angela Martin': -350.0, 'Dwight Schrute': 200.0}"
      ]
     },
     "execution_count": 79,
     "metadata": {},
     "output_type": "execute_result"
    }
   ],
   "source": [
    "# Demo\n",
    "expected_tournament_score(demo_player_results, demo_player_ratings, demo_es_func)"
   ]
  },
  {
   "cell_type": "markdown",
   "metadata": {
    "deletable": false,
    "editable": false,
    "nbgrader": {
     "grade": false,
     "locked": true,
     "solution": false
    }
   },
   "source": [
    "The test cell below runs your function **many times**. Remove or comment out any `print` statements to avoid generating excessive output."
   ]
  },
  {
   "cell_type": "code",
   "execution_count": 80,
   "metadata": {
    "deletable": false,
    "editable": false,
    "nbgrader": {
     "grade": true,
     "grade_id": "ex5_test",
     "locked": true,
     "points": "3",
     "solution": false
    }
   },
   "outputs": [
    {
     "name": "stdout",
     "output_type": "stream",
     "text": [
      "Passed!\n"
     ]
    },
    {
     "data": {
      "text/plain": [
       "'50.1 MiB'"
      ]
     },
     "execution_count": 80,
     "metadata": {},
     "output_type": "execute_result"
    }
   ],
   "source": [
    "# `ex5_test`: Test cell\n",
    "from run_tests import ex5_test\n",
    "for _ in range(200):\n",
    "    ex5_test(10, 4, expected_tournament_score)\n",
    "print('Passed!')\n",
    "\n",
    "###\n",
    "### AUTOGRADER TEST - DO NOT REMOVE\n",
    "###\n",
    "test_utils.get_mem_usage_str()"
   ]
  },
  {
   "cell_type": "markdown",
   "metadata": {
    "deletable": false,
    "editable": false,
    "nbgrader": {
     "grade": false,
     "locked": true,
     "solution": false
    }
   },
   "source": [
    "**Run the following cell, even if you skipped Exercise 5.**\n",
    "\n",
    "We are loading a pre-computed solution that will be used in the following sections. The first two entries are displayed."
   ]
  },
  {
   "cell_type": "code",
   "execution_count": 81,
   "metadata": {
    "deletable": false,
    "editable": false,
    "nbgrader": {
     "grade": false,
     "locked": true,
     "solution": false
    }
   },
   "outputs": [
    {
     "data": {
      "text/plain": [
       "{'Deac,Bogdan-Daniel': 2.827559638896802, 'Giri,A': 4.389932419673484}"
      ]
     },
     "execution_count": 81,
     "metadata": {},
     "output_type": "execute_result"
    }
   ],
   "source": [
    "# Sample result for ex5\n",
    "player_expected_score = test_utils.read_pickle('player_expected_score')\n",
    "{k:v for k, v in list(player_expected_score.items())[:2]}"
   ]
  },
  {
   "cell_type": "markdown",
   "metadata": {
    "deletable": false,
    "editable": false,
    "nbgrader": {
     "grade": false,
     "locked": true,
     "solution": false
    }
   },
   "source": [
    "## Exercise 6 (2 points)\n",
    "\n",
    "Fill in the function `compute_final_ratings(player_scores, expected_player_scores, player_ratings)` to meet the following requirements:\n",
    "\n",
    "Given three dictionaries:\n",
    "\n",
    "* `player_scores`: mapping players (String) to their observed tournament scores (Float)  \n",
    "* `expected_player_scores`: mapping players (String) to their expected tournament scores (Float)  \n",
    "* `player_ratings`: mapping players (String) to their pre-tournament Elo ratings (Float)  \n",
    "\n",
    "calculate each player's post-tournament Elo ratings using this formula:\n",
    "\n",
    "$$\\text{Rating}_{\\text{post}} = \\text{Rating}_{\\text{pre}} + 10(\\text{Score}_{\\text{observed}} - \\text{Score}_{\\text{expected}})$$\n",
    "\n",
    "Return a dictionary mapping each player (String) to their post-tournament rating **rounded to the nearest integer**.\n",
    "\n",
    "You can assume that all keys are common between the three input dictionaries.\n",
    "\n",
    "For example:\n",
    "\n",
    "`player_scores = {'Jim Halpert': 3.0, 'Dwight Schrute': 4.0, 'Stanley Hudson': 3.0}`\n",
    "\n",
    "`expected_player_scores = {'Jim Halpert': 2.736, 'Dwight Schrute': 4.67, 'Stanley Hudson': 2.85}`\n",
    "\n",
    "`player_ratings = {'Jim Halpert': 1500, 'Dwight Schrute': 1575, 'Stanley Hudson': 1452}`\n",
    "\n",
    "Results:\n",
    "`{'Jim Halpert': 1503, 'Dwight Schrute': 1568, 'Stanley Hudson': 1454}`"
   ]
  },
  {
   "cell_type": "code",
   "execution_count": 82,
   "metadata": {
    "collapsed": true,
    "deletable": false,
    "editable": false,
    "nbgrader": {
     "grade": false,
     "locked": true,
     "solution": false
    }
   },
   "outputs": [],
   "source": [
    "demo_player_scores = {'Jim Halpert': 3.0, 'Dwight Schrute': 4.0, 'Stanley Hudson': 3.0}\n",
    "demo_expected_player_scores = {'Jim Halpert': 2.736, 'Dwight Schrute': 4.67, 'Stanley Hudson': 2.85}\n",
    "demo_player_ratings = {'Jim Halpert': 1500, 'Dwight Schrute': 1575, 'Stanley Hudson': 1452}"
   ]
  },
  {
   "cell_type": "code",
   "execution_count": 83,
   "metadata": {},
   "outputs": [
    {
     "name": "stdout",
     "output_type": "stream",
     "text": [
      "Jim Halpert\n",
      "Dwight Schrute\n",
      "Stanley Hudson\n"
     ]
    }
   ],
   "source": [
    "for player, rating_pre in demo_player_ratings.items():\n",
    "    print(player)"
   ]
  },
  {
   "cell_type": "code",
   "execution_count": 84,
   "metadata": {},
   "outputs": [
    {
     "data": {
      "text/plain": [
       "{'Jim Halpert': 1503, 'Dwight Schrute': 1568, 'Stanley Hudson': 1454}"
      ]
     },
     "execution_count": 84,
     "metadata": {},
     "output_type": "execute_result"
    }
   ],
   "source": [
    "new_ratings = {}\n",
    "\n",
    "for player, rating_pre in demo_player_ratings.items():\n",
    "    new_ratings[player] = round(rating_pre + 10*(demo_player_scores[player]-demo_expected_player_scores[player]))\n",
    "    \n",
    "new_ratings"
   ]
  },
  {
   "cell_type": "code",
   "execution_count": 85,
   "metadata": {
    "collapsed": true
   },
   "outputs": [],
   "source": [
    "def compute_final_ratings(player_scores, expected_player_scores, player_ratings):\n",
    "    \n",
    "    new_ratings = {}\n",
    "\n",
    "    for player, rating_pre in player_ratings.items():\n",
    "        new_ratings[player] = round(rating_pre + 10*(player_scores[player]-expected_player_scores[player]))\n",
    "\n",
    "    return new_ratings"
   ]
  },
  {
   "cell_type": "code",
   "execution_count": 86,
   "metadata": {},
   "outputs": [
    {
     "data": {
      "text/plain": [
       "{'Jim Halpert': 1503, 'Dwight Schrute': 1568, 'Stanley Hudson': 1454}"
      ]
     },
     "execution_count": 86,
     "metadata": {},
     "output_type": "execute_result"
    }
   ],
   "source": [
    "# Demo\n",
    "compute_final_ratings(demo_player_scores, demo_expected_player_scores, demo_player_ratings)"
   ]
  },
  {
   "cell_type": "markdown",
   "metadata": {
    "deletable": false,
    "editable": false,
    "nbgrader": {
     "grade": false,
     "locked": true,
     "solution": false
    }
   },
   "source": [
    "The test cell below runs your function **many times**. Remove or comment out any `print` statements to avoid generating excessive output."
   ]
  },
  {
   "cell_type": "code",
   "execution_count": 87,
   "metadata": {
    "deletable": false,
    "editable": false,
    "nbgrader": {
     "grade": true,
     "grade_id": "ex6_test",
     "locked": true,
     "points": "2",
     "solution": false
    }
   },
   "outputs": [
    {
     "name": "stdout",
     "output_type": "stream",
     "text": [
      "Passed!\n"
     ]
    },
    {
     "data": {
      "text/plain": [
       "'50.1 MiB'"
      ]
     },
     "execution_count": 87,
     "metadata": {},
     "output_type": "execute_result"
    }
   ],
   "source": [
    "# `ex6_test`: Test cell\n",
    "from run_tests import ex6_test\n",
    "for _ in range(200):\n",
    "    ex6_test(10, compute_final_ratings)\n",
    "print('Passed!')\n",
    "\n",
    "###\n",
    "### AUTOGRADER TEST - DO NOT REMOVE\n",
    "###\n",
    "test_utils.get_mem_usage_str()"
   ]
  },
  {
   "cell_type": "markdown",
   "metadata": {
    "deletable": false,
    "editable": false,
    "nbgrader": {
     "grade": false,
     "locked": true,
     "solution": false
    }
   },
   "source": [
    "**Run the following cell, even if you skipped Exercise 6.**\n",
    "\n",
    "We are loading a pre-computed solution that will be used in the following sections. The first two entries are displayed."
   ]
  },
  {
   "cell_type": "code",
   "execution_count": 88,
   "metadata": {
    "deletable": false,
    "editable": false,
    "nbgrader": {
     "grade": false,
     "locked": true,
     "solution": false
    }
   },
   "outputs": [
    {
     "data": {
      "text/plain": [
       "{'Deac,Bogdan-Daniel': 2639, 'Giri,A': 2776}"
      ]
     },
     "execution_count": 88,
     "metadata": {},
     "output_type": "execute_result"
    }
   ],
   "source": [
    "# Sample result for ex6\n",
    "player_final_ratings = test_utils.read_pickle('player_final_ratings')\n",
    "{k:v for k, v in list(player_final_ratings.items())[:2]}"
   ]
  },
  {
   "cell_type": "markdown",
   "metadata": {
    "deletable": false,
    "editable": false,
    "nbgrader": {
     "grade": false,
     "locked": true,
     "solution": false
    }
   },
   "source": [
    "## Exercise 7 (2 points)\n",
    "\n",
    "The last task we have is to compute the change in rating. This isn't just an intermediate step in Exercise 6, because we have to handle some special cases as well.\n",
    "\n",
    "Fill in the function `compute_deltas(old_ratings, new_ratings)` to meet the following requirements:\n",
    "\n",
    "Given dictionaries `old_ratings` mapping players (String) to their pre-tournament Elo ratings (Integer) and `new_ratings` mapping players (String) to their post-tournament Elo ratings, determine the change in each player's rating. Return your result as a dictionary mapping players (String) to their delta (Integer).\n",
    "\n",
    "Compute the delta as $$\\Delta = \\text{Rating}_{\\text{new}} - \\text{Rating}_{\\text{old}}$$\n",
    "\n",
    "If a player is not present as a key in the `old_ratings` input but is present as a key in the `new_ratings` input, then assume this is a new player with a starting rating of `1200`. Likewise, if a player is present as a key in `old_ratings` but is not present in `new_ratings`, assume that player did not play in the tournament and their rating is unchanged.\n",
    "\n",
    "For example:\n",
    "\n",
    "`old_ratings = {'Ryan Howard': 1755, 'Dwight Schrute': 1675}`\n",
    "\n",
    "`new_ratings = {'Michael Scott': 1250, 'Ryan Howard': 1750}`\n",
    "\n",
    "Should return:\n",
    "\n",
    "`{'Michael Scott': 50, 'Ryan Howard': -5, 'Dwight Schrute': 0}`"
   ]
  },
  {
   "cell_type": "code",
   "execution_count": 89,
   "metadata": {
    "collapsed": true,
    "deletable": false,
    "editable": false,
    "nbgrader": {
     "grade": false,
     "locked": true,
     "solution": false
    }
   },
   "outputs": [],
   "source": [
    "demo_old_ratings = {'Ryan Howard': 1755, 'Dwight Schrute': 1675}\n",
    "demo_new_ratings = {'Michael Scott': 1250, 'Ryan Howard': 1750}"
   ]
  },
  {
   "cell_type": "code",
   "execution_count": 90,
   "metadata": {},
   "outputs": [
    {
     "name": "stdout",
     "output_type": "stream",
     "text": [
      "['Ryan Howard', 'Dwight Schrute']\n"
     ]
    }
   ],
   "source": [
    "old_rating_players = []\n",
    "\n",
    "for player, score in demo_old_ratings.items():\n",
    "    old_rating_players.append(player)\n",
    "\n",
    "print (old_rating_players)"
   ]
  },
  {
   "cell_type": "code",
   "execution_count": 91,
   "metadata": {},
   "outputs": [
    {
     "name": "stdout",
     "output_type": "stream",
     "text": [
      "['Michael Scott', 'Ryan Howard']\n"
     ]
    }
   ],
   "source": [
    "new_rating_players = []\n",
    "\n",
    "for player, score in demo_new_ratings.items():\n",
    "    new_rating_players.append(player)\n",
    "\n",
    "print (new_rating_players)"
   ]
  },
  {
   "cell_type": "code",
   "execution_count": 92,
   "metadata": {
    "collapsed": true
   },
   "outputs": [],
   "source": [
    "delta = {}\n",
    "\n",
    "for player in old_rating_players:\n",
    "    if player in new_rating_players:\n",
    "        delta[player]=demo_new_ratings[player]-demo_old_ratings[player]"
   ]
  },
  {
   "cell_type": "code",
   "execution_count": 93,
   "metadata": {
    "collapsed": true
   },
   "outputs": [],
   "source": [
    "for player in demo_old_ratings:\n",
    "    if player not in demo_new_ratings:\n",
    "        delta[player]=0"
   ]
  },
  {
   "cell_type": "code",
   "execution_count": 94,
   "metadata": {
    "collapsed": true
   },
   "outputs": [],
   "source": [
    "for player in demo_new_ratings:\n",
    "    if player not in demo_old_ratings:\n",
    "        delta[player]=demo_new_ratings[player]-1200"
   ]
  },
  {
   "cell_type": "code",
   "execution_count": 95,
   "metadata": {},
   "outputs": [
    {
     "data": {
      "text/plain": [
       "{'Ryan Howard': -5, 'Dwight Schrute': 0, 'Michael Scott': 50}"
      ]
     },
     "execution_count": 95,
     "metadata": {},
     "output_type": "execute_result"
    }
   ],
   "source": [
    "delta"
   ]
  },
  {
   "cell_type": "code",
   "execution_count": 96,
   "metadata": {
    "collapsed": true
   },
   "outputs": [],
   "source": [
    "def compute_deltas(old_ratings, new_ratings):\n",
    "    \n",
    "    old_rating_players = []\n",
    "\n",
    "    for player, score in old_ratings.items():\n",
    "        old_rating_players.append(player)\n",
    "\n",
    "    new_rating_players = []\n",
    "\n",
    "    for player, score in new_ratings.items():\n",
    "        new_rating_players.append(player)\n",
    "\n",
    "    delta = {}\n",
    "\n",
    "    for player in old_rating_players:\n",
    "        if player in new_rating_players:\n",
    "            delta[player]=new_ratings[player]-old_ratings[player]\n",
    "        \n",
    "    for player in old_ratings:\n",
    "        if player not in new_ratings:\n",
    "            delta[player]=0\n",
    "        \n",
    "    for player in new_ratings:\n",
    "        if player not in old_ratings:\n",
    "            delta[player]=new_ratings[player]-1200\n",
    "        \n",
    "    return delta"
   ]
  },
  {
   "cell_type": "code",
   "execution_count": 97,
   "metadata": {},
   "outputs": [
    {
     "data": {
      "text/plain": [
       "{'Ryan Howard': -5, 'Dwight Schrute': 0, 'Michael Scott': 50}"
      ]
     },
     "execution_count": 97,
     "metadata": {},
     "output_type": "execute_result"
    }
   ],
   "source": [
    "# Demo\n",
    "compute_deltas(demo_old_ratings, demo_new_ratings)"
   ]
  },
  {
   "cell_type": "markdown",
   "metadata": {
    "deletable": false,
    "editable": false,
    "nbgrader": {
     "grade": false,
     "locked": true,
     "solution": false
    }
   },
   "source": [
    "The test cell below runs your function **many times**. Remove or comment out any `print` statements to avoid generating excessive output."
   ]
  },
  {
   "cell_type": "code",
   "execution_count": 98,
   "metadata": {
    "deletable": false,
    "editable": false,
    "nbgrader": {
     "grade": true,
     "grade_id": "ex7_test",
     "locked": true,
     "points": "2",
     "solution": false
    }
   },
   "outputs": [
    {
     "name": "stdout",
     "output_type": "stream",
     "text": [
      "Passed!\n"
     ]
    },
    {
     "data": {
      "text/plain": [
       "'50.1 MiB'"
      ]
     },
     "execution_count": 98,
     "metadata": {},
     "output_type": "execute_result"
    }
   ],
   "source": [
    "# `ex7_test`: Test cell\n",
    "from run_tests import ex7_test\n",
    "for _ in range(200):\n",
    "    ex7_test(10, compute_deltas)\n",
    "print('Passed!')\n",
    "\n",
    "###\n",
    "### AUTOGRADER TEST - DO NOT REMOVE\n",
    "###\n",
    "test_utils.get_mem_usage_str()"
   ]
  },
  {
   "cell_type": "markdown",
   "metadata": {
    "deletable": false,
    "editable": false,
    "nbgrader": {
     "grade": false,
     "locked": true,
     "solution": false
    }
   },
   "source": [
    "## Wrapping up\n",
    "After parsing all of the information from the text file, we can display a summary of the tournament results. "
   ]
  },
  {
   "cell_type": "code",
   "execution_count": 99,
   "metadata": {
    "deletable": false,
    "editable": false,
    "nbgrader": {
     "grade": false,
     "locked": true,
     "solution": false
    }
   },
   "outputs": [
    {
     "data": {
      "text/html": [
       "<div>\n",
       "<style scoped>\n",
       "    .dataframe tbody tr th:only-of-type {\n",
       "        vertical-align: middle;\n",
       "    }\n",
       "\n",
       "    .dataframe tbody tr th {\n",
       "        vertical-align: top;\n",
       "    }\n",
       "\n",
       "    .dataframe thead th {\n",
       "        text-align: right;\n",
       "    }\n",
       "</style>\n",
       "<table border=\"1\" class=\"dataframe\">\n",
       "  <thead>\n",
       "    <tr style=\"text-align: right;\">\n",
       "      <th></th>\n",
       "      <th>Initial Rating</th>\n",
       "      <th>Score</th>\n",
       "      <th>Expected Score</th>\n",
       "      <th>Final Rating</th>\n",
       "      <th>Delta</th>\n",
       "    </tr>\n",
       "  </thead>\n",
       "  <tbody>\n",
       "    <tr>\n",
       "      <th>Deac,Bogdan-Daniel</th>\n",
       "      <td>2627</td>\n",
       "      <td>4.0</td>\n",
       "      <td>2.827560</td>\n",
       "      <td>2639</td>\n",
       "      <td>12</td>\n",
       "    </tr>\n",
       "    <tr>\n",
       "      <th>Giri,A</th>\n",
       "      <td>2780</td>\n",
       "      <td>4.0</td>\n",
       "      <td>4.389932</td>\n",
       "      <td>2776</td>\n",
       "      <td>-4</td>\n",
       "    </tr>\n",
       "    <tr>\n",
       "      <th>Lupulescu,C</th>\n",
       "      <td>2656</td>\n",
       "      <td>3.5</td>\n",
       "      <td>3.197736</td>\n",
       "      <td>2659</td>\n",
       "      <td>3</td>\n",
       "    </tr>\n",
       "    <tr>\n",
       "      <th>Aronian,L</th>\n",
       "      <td>2781</td>\n",
       "      <td>4.5</td>\n",
       "      <td>4.395254</td>\n",
       "      <td>2782</td>\n",
       "      <td>1</td>\n",
       "    </tr>\n",
       "    <tr>\n",
       "      <th>Grischuk,A</th>\n",
       "      <td>2776</td>\n",
       "      <td>5.0</td>\n",
       "      <td>4.848488</td>\n",
       "      <td>2778</td>\n",
       "      <td>2</td>\n",
       "    </tr>\n",
       "    <tr>\n",
       "      <th>Vachier</th>\n",
       "      <td>2760</td>\n",
       "      <td>3.0</td>\n",
       "      <td>4.131705</td>\n",
       "      <td>2749</td>\n",
       "      <td>-11</td>\n",
       "    </tr>\n",
       "    <tr>\n",
       "      <th>Mamedyarov,S</th>\n",
       "      <td>2770</td>\n",
       "      <td>5.5</td>\n",
       "      <td>4.278985</td>\n",
       "      <td>2782</td>\n",
       "      <td>12</td>\n",
       "    </tr>\n",
       "    <tr>\n",
       "      <th>So,W</th>\n",
       "      <td>2770</td>\n",
       "      <td>5.0</td>\n",
       "      <td>4.764597</td>\n",
       "      <td>2772</td>\n",
       "      <td>2</td>\n",
       "    </tr>\n",
       "    <tr>\n",
       "      <th>Caruana,F</th>\n",
       "      <td>2820</td>\n",
       "      <td>3.5</td>\n",
       "      <td>4.876846</td>\n",
       "      <td>2806</td>\n",
       "      <td>-14</td>\n",
       "    </tr>\n",
       "    <tr>\n",
       "      <th>Radjabov,T</th>\n",
       "      <td>2765</td>\n",
       "      <td>3.0</td>\n",
       "      <td>3.288897</td>\n",
       "      <td>2762</td>\n",
       "      <td>-3</td>\n",
       "    </tr>\n",
       "  </tbody>\n",
       "</table>\n",
       "</div>"
      ],
      "text/plain": [
       "                    Initial Rating  Score  Expected Score  Final Rating  Delta\n",
       "Deac,Bogdan-Daniel            2627    4.0        2.827560          2639     12\n",
       "Giri,A                        2780    4.0        4.389932          2776     -4\n",
       "Lupulescu,C                   2656    3.5        3.197736          2659      3\n",
       "Aronian,L                     2781    4.5        4.395254          2782      1\n",
       "Grischuk,A                    2776    5.0        4.848488          2778      2\n",
       "Vachier                       2760    3.0        4.131705          2749    -11\n",
       "Mamedyarov,S                  2770    5.5        4.278985          2782     12\n",
       "So,W                          2770    5.0        4.764597          2772      2\n",
       "Caruana,F                     2820    3.5        4.876846          2806    -14\n",
       "Radjabov,T                    2765    3.0        3.288897          2762     -3"
      ]
     },
     "metadata": {},
     "output_type": "display_data"
    }
   ],
   "source": [
    "import pandas as pd\n",
    "df = pd.DataFrame(index=player_scores.keys())\n",
    "df['Initial Rating'] = pd.Series(player_ratings)\n",
    "df['Score'] = pd.Series(player_scores)\n",
    "df['Expected Score'] = pd.Series(player_expected_score)\n",
    "df['Final Rating'] = pd.Series(player_final_ratings)\n",
    "df['Delta'] = pd.Series(test_utils.read_pickle('player_deltas'))\n",
    "display(df)"
   ]
  },
  {
   "cell_type": "markdown",
   "metadata": {
    "deletable": false,
    "editable": false,
    "nbgrader": {
     "grade": false,
     "locked": true,
     "solution": false
    }
   },
   "source": [
    "**Fin!** You’ve reached the end of this part. Don’t forget to restart and run all cells again to make sure it’s all working when run in sequence; and make sure your work passes the submission process. Good luck!"
   ]
  }
 ],
 "metadata": {
  "interpreter": {
   "hash": "3fd46944e962958c55dea57c2958abafb59d97d99849a82f15f0d5b255610906"
  },
  "kernelspec": {
   "display_name": "Python 3.8",
   "language": "python",
   "name": "python38"
  },
  "language_info": {
   "codemirror_mode": {
    "name": "ipython",
    "version": 3
   },
   "file_extension": ".py",
   "mimetype": "text/x-python",
   "name": "python",
   "nbconvert_exporter": "python",
   "pygments_lexer": "ipython3",
   "version": "3.8.7"
  }
 },
 "nbformat": 4,
 "nbformat_minor": 2
}
