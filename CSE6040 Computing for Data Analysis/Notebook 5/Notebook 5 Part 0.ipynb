{
 "cells": [
  {
   "cell_type": "markdown",
   "metadata": {
    "deletable": false,
    "editable": false,
    "nbgrader": {
     "grade": false,
     "locked": true,
     "solution": false
    },
    "tags": [
     "notebook_header"
    ]
   },
   "source": [
    "# Part 0 of 2: Simple string processing review\n",
    "\n",
    "**Exercise ordering:** Each exercise builds logically on previous exercises, but you may solve them in any order. That is, if you can't solve an exercise, you can still move on and try the next one. Use this to your advantage, as the exercises are **not** necessarily ordered in terms of difficulty. Higher point values generally indicate more difficult exercises. \n",
    "\n",
    "**Demo cells:** Code cells starting with the comment `### define demo inputs` load results from prior exercises applied to the entire data set and use those to build demo inputs. These must be run for subsequent demos to work properly, but they do not affect the test cells. The data loaded in these cells may be rather large (at least in terms of human readability). You are free to print or otherwise use Python to explore them, but we did not print them in the starter code.\n",
    "\n",
    "**Debugging your code:** Right before each exercise test cell, there is a block of text explaining the variables available to you for debugging. You may use these to test your code and can print/display them as needed (careful when printing large objects, you may want to print the head or chunks of rows at a time).\n",
    "\n",
    "**Exercise point breakdown:**\n",
    "\n",
    "- Exercise 0: **1** point\n",
    "- Exercise 1: **2** points\n",
    "- Exercise 2: **2** points\n",
    "- Exercise 3: **3** points\n",
    "\n",
    "**Final reminders:** \n",
    "\n",
    "- Submit after **every exercise**\n",
    "- Review the generated grade report after you submit to see what errors were returned\n",
    "- Stay calm, skip problems as needed, and take short breaks at your leisure\n"
   ]
  },
  {
   "cell_type": "code",
   "execution_count": 1,
   "id": "59a3a30f",
   "metadata": {
    "collapsed": true,
    "scrolled": true
   },
   "outputs": [],
   "source": [
    "### Global Imports\n",
    "\n",
    "# Use this cell to import anything common, e.g. numpy, pandas, sqlite3\n",
    "import string\n",
    "\n",
    "# Use this cell to bring in the starter data"
   ]
  },
  {
   "cell_type": "code",
   "execution_count": 2,
   "metadata": {
    "collapsed": true
   },
   "outputs": [],
   "source": [
    "text = \"sgtEEEr2020.0\""
   ]
  },
  {
   "cell_type": "code",
   "execution_count": 3,
   "metadata": {},
   "outputs": [
    {
     "name": "stdout",
     "output_type": "stream",
     "text": [
      "1. False\n",
      "2. [True, True, True, True, True, True, True, False, False, False, False, False, False]\n"
     ]
    }
   ],
   "source": [
    "# Strings have methods for checking \"global\" string properties\n",
    "print(\"1.\", text.isalpha())\n",
    "\n",
    "# These can also be applied per character\n",
    "print(\"2.\", [c.isalpha() for c in text])"
   ]
  },
  {
   "cell_type": "code",
   "execution_count": 4,
   "metadata": {},
   "outputs": [
    {
     "name": "stdout",
     "output_type": "stream",
     "text": [
      "BELOW: (global) -> (per character)\n",
      "False --> [False, False, False, False, False, False, False, True, True, True, True, False, True]\n",
      "False --> [False, False, False, False, False, False, False, False, False, False, False, False, False]\n",
      "False --> [True, True, True, False, False, False, True, False, False, False, False, False, False]\n",
      "False --> [False, False, False, True, True, True, False, False, False, False, False, False, False]\n",
      "False --> [False, False, False, False, False, False, False, True, True, True, True, False, True]\n"
     ]
    }
   ],
   "source": [
    "# Here are a bunch of additional useful methods\n",
    "print(\"BELOW: (global) -> (per character)\")\n",
    "print(text.isdigit(), \"-->\", [c.isdigit() for c in text])\n",
    "print(text.isspace(), \"-->\", [c.isspace() for c in text])\n",
    "print(text.islower(), \"-->\", [c.islower() for c in text])\n",
    "print(text.isupper(), \"-->\", [c.isupper() for c in text])\n",
    "print(text.isnumeric(), \"-->\", [c.isnumeric() for c in text])"
   ]
  },
  {
   "cell_type": "markdown",
   "metadata": {},
   "source": [
    "---"
   ]
  },
  {
   "cell_type": "markdown",
   "metadata": {
    "deletable": false,
    "editable": false,
    "nbgrader": {
     "grade": false,
     "locked": true,
     "solution": false
    },
    "tags": [
     "exercise_text"
    ]
   },
   "source": [
    "**Exercise 0** (1 point). Create a new function that checks whether a given input string is a properly formatted social security number, i.e., has the pattern, `XXX-XX-XXXX`, _including_ the separator dashes, where each `X` is a digit. It should return `True` if so or `False` otherwise."
   ]
  },
  {
   "cell_type": "code",
   "execution_count": 5,
   "metadata": {
    "collapsed": true,
    "deletable": false,
    "editable": false,
    "nbgrader": {
     "grade": false,
     "locked": true,
     "solution": false
    },
    "tags": [
     "demo_data"
    ]
   },
   "outputs": [],
   "source": [
    "### Define demo inputs\n",
    "demo_str_ex0_0 = '832-38-1847'\n",
    "demo_str_ex0_1 = '832 -38 -  1847'\n",
    "demo_str_ex0_2 = '832-bc-3847'\n",
    "demo_str_ex0_3 = '832381847'"
   ]
  },
  {
   "cell_type": "markdown",
   "metadata": {
    "deletable": false,
    "editable": false,
    "nbgrader": {
     "grade": false,
     "locked": true,
     "solution": false
    },
    "tags": [
     "demo_output_md"
    ]
   },
   "source": [
    "<!-- Expected demo output text block -->\n",
    "The demos included in the solution cell below should display the following output:\n",
    "```\n",
    "is_ssn('832-38-1847') -> True\n",
    "is_ssn('832 -38 -  1847') -> False\n",
    "is_ssn('832-bc-3847') -> False\n",
    "is_ssn('832381847') -> False\n",
    "```\n",
    "<!-- Include any shout outs here -->"
   ]
  },
  {
   "cell_type": "code",
   "execution_count": 6,
   "metadata": {
    "collapsed": true,
    "tags": [
     "exercise_solution"
    ]
   },
   "outputs": [],
   "source": [
    "def is_ssn(s):\n",
    "    if len(s) != 11 or any(char.isspace() for char in s) or any(char.isalpha() for char in s):\n",
    "\n",
    "        return False\n",
    "\n",
    "    if s[3] != '-' or s[6] != '-':\n",
    "        \n",
    "        return False\n",
    "    \n",
    "    return True"
   ]
  },
  {
   "cell_type": "code",
   "execution_count": 7,
   "metadata": {
    "collapsed": true
   },
   "outputs": [],
   "source": [
    "import re\n",
    "\n",
    "def is_valid_ssn(ssn):\n",
    "    # Define the SSN pattern\n",
    "    pattern = r'\\d{3}-\\d{2}-\\d{4}'\n",
    "    \n",
    "    # Compile the regular expression pattern\n",
    "    regex = re.compile(pattern)\n",
    "    \n",
    "    # Use re.match to check if the SSN matches the pattern from the beginning of the string\n",
    "    match = regex.match(ssn)\n",
    "    \n",
    "    # If there is a match and the entire string is matched, it's a valid SSN\n",
    "    if match: \n",
    "        return True\n",
    "    else:\n",
    "        return False"
   ]
  },
  {
   "cell_type": "code",
   "execution_count": 8,
   "metadata": {
    "collapsed": true
   },
   "outputs": [],
   "source": [
    "demo_str_ex0_0 = '832-38-1847'"
   ]
  },
  {
   "cell_type": "code",
   "execution_count": 9,
   "metadata": {},
   "outputs": [
    {
     "name": "stdout",
     "output_type": "stream",
     "text": [
      "True\n",
      "False\n",
      "False\n",
      "False\n"
     ]
    }
   ],
   "source": [
    "### demo function call\n",
    "print(is_ssn(demo_str_ex0_0))\n",
    "print(is_ssn(demo_str_ex0_1))\n",
    "print(is_ssn(demo_str_ex0_2))\n",
    "print(is_ssn(demo_str_ex0_3))"
   ]
  },
  {
   "cell_type": "markdown",
   "metadata": {
    "deletable": false,
    "editable": false,
    "nbgrader": {
     "grade": false,
     "locked": true,
     "solution": false
    },
    "tags": [
     "test_data_boilerplate"
    ]
   },
   "source": [
    "<!-- Test Cell Boilerplate -->\n",
    "The cell below will test your solution for Exercise 0. The testing variables will be available for debugging under the following names in a dictionary format.\n",
    "- `input_vars` - Input variables for your solution. \n",
    "- `original_input_vars` - Copy of input variables from prior to running your solution. These _should_ be the same as `input_vars` - otherwise the inputs were modified by your solution.\n",
    "- `returned_output_vars` - Outputs returned by your solution.\n",
    "- `true_output_vars` - The expected output. This _should_ \"match\" `returned_output_vars` based on the question requirements - otherwise, your solution is not returning the correct output. "
   ]
  },
  {
   "cell_type": "code",
   "execution_count": 10,
   "metadata": {
    "deletable": false,
    "editable": false,
    "nbgrader": {
     "grade": true,
     "grade_id": "ex0",
     "locked": true,
     "points": "1",
     "solution": false
    },
    "scrolled": false,
    "tags": []
   },
   "outputs": [
    {
     "name": "stdout",
     "output_type": "stream",
     "text": [
      "Passed! Please submit.\n"
     ]
    }
   ],
   "source": [
    "### test_cell_ex0\n",
    "\n",
    "from tester_fw.testers import Tester\n",
    "\n",
    "conf = {\n",
    "    'case_file':'tc_0', \n",
    "    'func': is_ssn, # replace this with the function defined above\n",
    "    'inputs':{ # input config dict. keys are parameter names\n",
    "        's':{\n",
    "            'dtype':'str', # data type of param.\n",
    "            'check_modified':False,\n",
    "        }\n",
    "    },\n",
    "    'outputs':{\n",
    "        'output_0':{\n",
    "            'index':0,\n",
    "            'dtype':'bool',\n",
    "            'check_dtype': True,\n",
    "            'check_col_dtypes': True, # Ignored if dtype is not df\n",
    "            'check_col_order': True, # Ignored if dtype is not df\n",
    "            'check_row_order': True, # Ignored if dtype is not df\n",
    "            'check_column_type': True, # Ignored if dtype is not df\n",
    "            'float_tolerance': 10 ** (-6)\n",
    "        }\n",
    "    }\n",
    "}\n",
    "tester = Tester(conf, key=b'F24oYNyh8kq_wkZD_Oo0ZCPHLcoO-xNXHOYNiPnQmmY=', path='resource/asnlib/publicdata/')\n",
    "for _ in range(70):\n",
    "    try:\n",
    "        tester.run_test()\n",
    "        (input_vars, original_input_vars, returned_output_vars, true_output_vars) = tester.get_test_vars()\n",
    "    except:\n",
    "        (input_vars, original_input_vars, returned_output_vars, true_output_vars) = tester.get_test_vars()\n",
    "        raise\n",
    "\n",
    "\n",
    "print('Passed! Please submit.')"
   ]
  },
  {
   "cell_type": "markdown",
   "metadata": {},
   "source": [
    "---"
   ]
  },
  {
   "cell_type": "markdown",
   "metadata": {
    "deletable": false,
    "editable": false,
    "nbgrader": {
     "grade": false,
     "locked": true,
     "solution": false
    }
   },
   "source": [
    "# Regular expressions\n",
    "\n",
    "Exercise 0 hints at the general problem of finding patterns in text. A handy tool for this problem is Python's Regular Expression module, `re`.\n",
    "\n",
    "A _regular expression_ is a specially formatted pattern, written as a string. Matching patterns with regular expressions has 3 steps:\n",
    "\n",
    "1. You come up with a pattern to find.\n",
    "2. You compile it into a _pattern object_.\n",
    "3. You apply the pattern object to a string to find _matches_, i.e., instances of the pattern within the string.\n",
    "\n",
    "As you read through the examples below, refer also to the [regular expression HOWTO document](https://docs.python.org/3/howto/regex.html) for many more examples and details."
   ]
  },
  {
   "cell_type": "code",
   "execution_count": 11,
   "metadata": {
    "collapsed": true
   },
   "outputs": [],
   "source": [
    "import re"
   ]
  },
  {
   "cell_type": "markdown",
   "metadata": {
    "deletable": false,
    "editable": false,
    "nbgrader": {
     "grade": false,
     "locked": true,
     "solution": false
    }
   },
   "source": [
    "## Basics\n",
    "\n",
    "Let's see how this scheme works for the simplest case, in which the pattern is an *exact substring*. In the following example, suppose want to look for the substring `'fox'` within a larger input string."
   ]
  },
  {
   "cell_type": "code",
   "execution_count": 12,
   "metadata": {},
   "outputs": [
    {
     "name": "stdout",
     "output_type": "stream",
     "text": [
      "<re.Match object; span=(16, 19), match='fox'>\n"
     ]
    }
   ],
   "source": [
    "pattern = 'fox'\n",
    "pattern_matcher = re.compile(pattern)\n",
    "\n",
    "input_string = 'The quick brown fox jumps over the lazy dog'\n",
    "matches = pattern_matcher.search(input_string)\n",
    "print(matches)"
   ]
  },
  {
   "cell_type": "markdown",
   "metadata": {
    "deletable": false,
    "editable": false,
    "nbgrader": {
     "grade": false,
     "locked": true,
     "solution": false
    }
   },
   "source": [
    "Observe that the returned object, `matches`, is a special object. Inspecting the printed output, notice that the matching text, `'fox'`, was found and located at positions 16-18 of the `input_string`. Had there been no matches, then `.search()` would have returned `None`, as in this example:"
   ]
  },
  {
   "cell_type": "code",
   "execution_count": 13,
   "metadata": {},
   "outputs": [
    {
     "name": "stdout",
     "output_type": "stream",
     "text": [
      "None\n"
     ]
    }
   ],
   "source": [
    "print(pattern_matcher.search(\"This input has a FOX, but it's all uppercase and so won't match.\"))"
   ]
  },
  {
   "cell_type": "markdown",
   "metadata": {
    "deletable": false,
    "editable": false,
    "nbgrader": {
     "grade": false,
     "locked": true,
     "solution": false
    }
   },
   "source": [
    "You can also write code to query the `matches` object for more information."
   ]
  },
  {
   "cell_type": "code",
   "execution_count": 14,
   "metadata": {
    "scrolled": true
   },
   "outputs": [
    {
     "name": "stdout",
     "output_type": "stream",
     "text": [
      "fox\n",
      "16\n",
      "19\n",
      "(16, 19)\n"
     ]
    }
   ],
   "source": [
    "print(matches.group())\n",
    "print(matches.start())\n",
    "print(matches.end())\n",
    "print(matches.span())"
   ]
  },
  {
   "cell_type": "markdown",
   "metadata": {},
   "source": [
    "---"
   ]
  },
  {
   "cell_type": "markdown",
   "metadata": {
    "deletable": false,
    "editable": false,
    "nbgrader": {
     "grade": false,
     "locked": true,
     "solution": false
    }
   },
   "source": [
    "**Module-level searching.** For infrequently used patterns, you can also skip creating the pattern object and just call the module-level search function, `re.search()`."
   ]
  },
  {
   "cell_type": "code",
   "execution_count": 15,
   "metadata": {},
   "outputs": [
    {
     "name": "stdout",
     "output_type": "stream",
     "text": [
      "Found jump @ (20, 24)\n"
     ]
    }
   ],
   "source": [
    "matches_2 = re.search('jump', input_string)\n",
    "assert matches_2 is not None\n",
    "print (\"Found\", matches_2.group(), \"@\", matches_2.span())"
   ]
  },
  {
   "cell_type": "markdown",
   "metadata": {
    "deletable": false,
    "editable": false,
    "nbgrader": {
     "grade": false,
     "locked": true,
     "solution": false
    }
   },
   "source": [
    "**Other Search Methods.** Besides `search()`, there are several other pattern-matching procedures:\n",
    "\n",
    "1. `match()`    - Determine if the regular expression (RE) matches at the beginning of the string.\n",
    "2. `search()`   - Scan through a string, looking for any location where this RE matches.\n",
    "3. `findall()`  - Find all substrings where the RE matches, and returns them as a list.\n",
    "4. `finditer()` - Find all substrings where the RE matches, and returns them as an iterator.\n",
    "\n",
    "We'll use several of these below; again, refer to the [HOWTO](https://docs.python.org/3/howto/regex.html) for more details."
   ]
  },
  {
   "cell_type": "code",
   "execution_count": 16,
   "metadata": {},
   "outputs": [
    {
     "data": {
      "text/plain": [
       "['jump']"
      ]
     },
     "execution_count": 16,
     "metadata": {},
     "output_type": "execute_result"
    }
   ],
   "source": [
    "matches_2 = re.findall('jump', input_string)\n",
    "matches_2"
   ]
  },
  {
   "cell_type": "code",
   "execution_count": 17,
   "metadata": {},
   "outputs": [
    {
     "data": {
      "text/plain": [
       "['jump', 'jump']"
      ]
     },
     "execution_count": 17,
     "metadata": {},
     "output_type": "execute_result"
    }
   ],
   "source": [
    "shef = \"jump on the trampoline and then jump on the castle\"\n",
    "matches_3 = re.findall('jump', shef)\n",
    "matches_3"
   ]
  },
  {
   "cell_type": "code",
   "execution_count": 18,
   "metadata": {},
   "outputs": [
    {
     "data": {
      "text/plain": [
       "<callable_iterator at 0x7f91b1286610>"
      ]
     },
     "execution_count": 18,
     "metadata": {},
     "output_type": "execute_result"
    }
   ],
   "source": [
    "matches_2 = re.finditer('jump', input_string)\n",
    "matches_2"
   ]
  },
  {
   "cell_type": "code",
   "execution_count": 19,
   "metadata": {},
   "outputs": [
    {
     "name": "stdout",
     "output_type": "stream",
     "text": [
      "Match: The at position: 0\n",
      "Match: fox at position: 16\n",
      "Match: the at position: 31\n",
      "Match: dog at position: 40\n"
     ]
    }
   ],
   "source": [
    "text = \"The quick brown fox jumps over the lazy dog.\"\n",
    "pattern = r'\\b\\w{3}\\b'  # Match three-letter words\n",
    "\n",
    "matches = re.finditer(pattern, text)\n",
    "\n",
    "'''re.finditer() returns an iterator, and you can loop through it to access the match objects. \n",
    "Each match object contains information about the matched substring, \n",
    "including its start and end positions in the input string.'''\n",
    "\n",
    "for match in matches:\n",
    "    print(\"Match:\", match.group(), \"at position:\", match.start())"
   ]
  },
  {
   "cell_type": "markdown",
   "metadata": {},
   "source": [
    "The regular expression `r'\\b\\w{3}\\b'` is a pattern used to match three-letter words in a text. Here's a breakdown of its components:\n",
    "\n",
    "1. `\\b`: This is a word boundary anchor. It matches the position where a word starts or ends. It ensures that the matched word is not part of a longer word. For example, it would match \"dog\" in \"The dog barked,\" but not in \"The dogs barked.\"\n",
    "\n",
    "2. `\\w`: This is a shorthand character class that matches any word character, which includes letters (both uppercase and lowercase), digits, and underscores.\n",
    "\n",
    "3. `{3}`: This is a quantifier that specifies the exact number of times the preceding pattern (`\\w` in this case) should be matched. `{3}` means that it should match exactly three word characters.\n",
    "\n",
    "4. `\\b`: Another word boundary anchor, used at the end of the pattern to ensure that the matched word is not part of a longer word.\n",
    "\n",
    "So, when you put it all together, `r'\\b\\w{3}\\b'` matches any three-letter word in a text, surrounded by word boundaries. For example, in the sentence \"The cat is cute,\" this regular expression would match the word \"cat\" because it consists of three letters and is surrounded by word boundaries."
   ]
  },
  {
   "cell_type": "markdown",
   "metadata": {},
   "source": [
    "---"
   ]
  },
  {
   "cell_type": "markdown",
   "metadata": {
    "deletable": false,
    "editable": false,
    "nbgrader": {
     "grade": false,
     "locked": true,
     "solution": false
    }
   },
   "source": [
    "## A pattern language\n",
    "\n",
    "An exact substring is one kind of pattern, but the power of regular expressions is that it provides an entire \"_mini-language_\" for specifying more general patterns.\n",
    "\n",
    "To start, read the section of the HOWTO on [\"Simple Patterns\"](https://docs.python.org/3/howto/regex.html#simple-patterns). We highlight a few constructs below."
   ]
  },
  {
   "cell_type": "code",
   "execution_count": 20,
   "metadata": {},
   "outputs": [
    {
     "name": "stdout",
     "output_type": "stream",
     "text": [
      "Scanning `The quick brown fox jumps over the lazy dog` for vowels, `[aeiou]`:\n",
      "<re.Match object; span=(2, 3), match='e'>\n",
      "<re.Match object; span=(5, 6), match='u'>\n",
      "<re.Match object; span=(6, 7), match='i'>\n",
      "<re.Match object; span=(12, 13), match='o'>\n",
      "<re.Match object; span=(17, 18), match='o'>\n",
      "<re.Match object; span=(21, 22), match='u'>\n",
      "<re.Match object; span=(26, 27), match='o'>\n",
      "<re.Match object; span=(28, 29), match='e'>\n",
      "<re.Match object; span=(33, 34), match='e'>\n",
      "<re.Match object; span=(36, 37), match='a'>\n",
      "<re.Match object; span=(41, 42), match='o'>\n"
     ]
    }
   ],
   "source": [
    "# Metacharacter classes\n",
    "vowels = '[aeiou]'\n",
    "\n",
    "print(f\"Scanning `{input_string}` for vowels, `{vowels}`:\")\n",
    "for match_vowel in re.finditer(vowels, input_string):\n",
    "    print(match_vowel)"
   ]
  },
  {
   "cell_type": "markdown",
   "metadata": {},
   "source": [
    "The regular expression `[aeiou]` is a character class that matches any single character that is one of the lowercase vowels: 'a', 'e', 'i', 'o', or 'u'. \n",
    "\n",
    "Here's what each part of the regular expression does:\n",
    "\n",
    "- `[ ]`: Square brackets denote a character class, which is a set of characters. In this case, it's a character class containing the vowels.\n",
    "\n",
    "- `aeiou`: Inside the square brackets, the characters 'a', 'e', 'i', 'o', and 'u' are listed. This means the regular expression will match any single character that is one of these vowels.\n",
    "\n",
    "For example, if you apply the regular expression `[aeiou]` to the text \"Hello,\" it will match the 'e' in \"Hello\" because 'e' is one of the vowels listed in the character class."
   ]
  },
  {
   "cell_type": "code",
   "execution_count": 21,
   "metadata": {},
   "outputs": [
    {
     "name": "stdout",
     "output_type": "stream",
     "text": [
      "Pattern: [aeiou]{2,}\n",
      "['ui']\n"
     ]
    }
   ],
   "source": [
    "# Counts: For instance, two or more consecutive vowels:\n",
    "two_or_more_vowels = vowels + '{2,}'\n",
    "print(f\"Pattern: {two_or_more_vowels}\")\n",
    "print(re.findall(two_or_more_vowels, input_string))"
   ]
  },
  {
   "cell_type": "markdown",
   "metadata": {},
   "source": [
    "The regular expression `[aeiou]+{2,}` is a pattern used to match consecutive sequences of one or more lowercase vowels (i.e., 'a', 'e', 'i', 'o', or 'u') that are repeated two or more times in a row.\n",
    "\n",
    "Here's what each part of the regular expression does:\n",
    "\n",
    "- `[aeiou]`: This is a character class that matches any single lowercase vowel. It means that the regular expression will match a single vowel character.\n",
    "\n",
    "- `+`: The plus symbol is a quantifier that specifies \"one or more\" of the preceding pattern. In this case, it means one or more consecutive lowercase vowels.\n",
    "\n",
    "- `{2,}`: This is another quantifier. `{2,}` specifies \"two or more\" of the preceding pattern. It means that the regular expression will match sequences of consecutive lowercase vowels that are repeated at least two or more times.\n",
    "\n",
    "So, for example, in the text \"ooaaiiee,\" the regular expression `[aeiou]+{2,}` would match the sequences \"oo,\" \"aa,\" and \"ii,\" because they consist of two or more consecutive lowercase vowels."
   ]
  },
  {
   "cell_type": "markdown",
   "metadata": {},
   "source": [
    "---"
   ]
  },
  {
   "cell_type": "code",
   "execution_count": 22,
   "metadata": {},
   "outputs": [
    {
     "name": "stdout",
     "output_type": "stream",
     "text": [
      "None\n",
      "<re.Match object; span=(15, 18), match='cat'>\n",
      "<re.Match object; span=(14, 21), match='caaaaat'>\n"
     ]
    }
   ],
   "source": [
    "# Wildcards\n",
    "cats = \"ca+t\"\n",
    "print(re.search(cats, \"is this a ct?\"))\n",
    "print(re.search(cats, \"how about this cat?\"))\n",
    "print(re.search(cats, \"and this one: caaaaat, yes or no?\"))"
   ]
  },
  {
   "cell_type": "markdown",
   "metadata": {},
   "source": [
    "The regular expression `\"ca+t\"` is a pattern that matches strings in which:\n",
    "\n",
    "- `\"c\"` appears exactly once at the beginning of the string.\n",
    "- `\"a\"` appears one or more times immediately after the `\"c\"`.\n",
    "- There may be additional characters following the `\"a\"`.\n",
    "\n",
    "Here's how the components of the regular expression work:\n",
    "\n",
    "- `\"c\"`: This matches the character \"c\" literally.\n",
    "\n",
    "- `\"a+\"`: This part matches one or more occurrences of the character \"a.\" The `\"+\"` is a quantifier that means \"one or more.\" So, `\"a+\"` matches one or more consecutive \"a\" characters.\n",
    "\n",
    "Putting it all together, `\"ca+t\"` matches strings like \"cat,\" \"caat,\" \"caaat,\" and so on, where \"c\" appears once at the beginning, followed by one or more \"a\" characters. Examples of matches include:\n",
    "\n",
    "- \"cat\"\n",
    "- \"caat\"\n",
    "- \"caaat\"\n",
    "\n",
    "Examples of non-matches include:\n",
    "\n",
    "- \"ct\" (no \"a\" after \"c\")\n",
    "- \"cot\" (only one \"a\" after \"c\")\n",
    "- \"cazat\" (non-\"a\" characters in between)\n",
    "\n",
    "In summary, `\"ca+t\"` is a regular expression that matches words that start with \"cat\" followed by one or more \"a\" characters."
   ]
  },
  {
   "cell_type": "markdown",
   "metadata": {},
   "source": [
    "---"
   ]
  },
  {
   "cell_type": "code",
   "execution_count": 23,
   "metadata": {},
   "outputs": [
    {
     "name": "stdout",
     "output_type": "stream",
     "text": [
      "Scanning `The quick brown fox jumps over the lazy dog` for adjectives, `lazy|brown`:\n",
      "<re.Match object; span=(10, 15), match='brown'>\n",
      "<re.Match object; span=(35, 39), match='lazy'>\n"
     ]
    }
   ],
   "source": [
    "# Special operator: \"or\"\n",
    "adjectives = \"lazy|brown\"\n",
    "print(f\"Scanning `{input_string}` for adjectives, `{adjectives}`:\")\n",
    "for match_adjective in re.finditer(adjectives, input_string):\n",
    "    print(match_adjective)"
   ]
  },
  {
   "cell_type": "markdown",
   "metadata": {},
   "source": [
    "The regular expression `\"lazy|brown\"` is a pattern that matches either the word \"lazy\" or the word \"brown\" in a text. The `|` character is used as an OR operator within the regular expression, allowing it to match either of the specified words.\n",
    "\n",
    "Here's how it works:\n",
    "\n",
    "- `\"lazy\"`: This part of the regular expression matches the exact word \"lazy.\" If \"lazy\" appears in the text, it's considered a match.\n",
    "\n",
    "- `\"brown\"`: This part of the regular expression matches the exact word \"brown.\" If \"brown\" appears in the text, it's considered a match.\n",
    "\n",
    "When you use the `|` character between these two words, it means that the regular expression will match either \"lazy\" or \"brown\" if either of them appears in the text. \n",
    "\n",
    "For example, in the text \"The quick brown fox is lazy,\" the regular expression `\"lazy|brown\"` will match both \"brown\" and \"lazy\" because they both appear in the text."
   ]
  },
  {
   "cell_type": "markdown",
   "metadata": {},
   "source": [
    "---"
   ]
  },
  {
   "cell_type": "code",
   "execution_count": 24,
   "metadata": {},
   "outputs": [
    {
     "name": "stdout",
     "output_type": "stream",
     "text": [
      "['555', '123', '456']\n"
     ]
    }
   ],
   "source": [
    "# Predefined character classes\n",
    "three_digits = '\\d\\d\\d'\n",
    "print(re.findall(three_digits, \"My number is 555-123-4567\"))"
   ]
  },
  {
   "cell_type": "markdown",
   "metadata": {},
   "source": [
    "The regular expression `'\\d\\d\\d'` is a pattern that matches three consecutive digits (0-9) in a string. Here's what each part of the regular expression does:\n",
    "\n",
    "- `\\d`: This is a shorthand character class that matches any digit (0-9).\n",
    "\n",
    "- `\\d\\d\\d`: This pattern specifies three consecutive `\\d` expressions, which means it matches three digits in a row.\n",
    "\n",
    "So, `'\\d\\d\\d'` will match any substring in a text that consists of exactly three consecutive digits. For example, in the string \"The code is 12345,\" it will match the \"123\" portion of the string because it is a sequence of three digits."
   ]
  },
  {
   "cell_type": "markdown",
   "metadata": {
    "deletable": false,
    "editable": false,
    "nbgrader": {
     "grade": false,
     "locked": true,
     "solution": false
    }
   },
   "source": [
    "> In the previous example, notice that the pattern search proceeds from left-to-right and does not return overlaps: here, the matcher returns `456` but not `567`. In fact, this case is an instance of the default [_greedy behavior_](https://docs.python.org/3/howto/regex.html#greedy-versus-non-greedy) of the matcher."
   ]
  },
  {
   "cell_type": "markdown",
   "metadata": {},
   "source": [
    "---"
   ]
  },
  {
   "cell_type": "markdown",
   "metadata": {},
   "source": [
    "In regular expressions (regex), metacharacter classes are special character sequences that represent predefined sets of characters. They provide a convenient way to match commonly used character groups. Here are some of the most commonly used metacharacter classes in regex:\n",
    "\n",
    "1. `\\d`: Matches any digit (0-9).\n",
    "2. `\\D`: Matches any character that is not a digit.\n",
    "3. `\\w`: Matches any word character (alphanumeric character plus underscore `_`).\n",
    "4. `\\W`: Matches any character that is not a word character.\n",
    "5. `\\s`: Matches any whitespace character (including spaces, tabs, and line breaks).\n",
    "6. `\\S`: Matches any character that is not a whitespace character.\n",
    "7. `\\b`: Matches a word boundary, ensuring that a word is not part of a longer word.\n",
    "8. `\\B`: Matches a position that is not a word boundary.\n",
    "9. `.` (dot): Matches any character except a newline character.\n",
    "10. `[...]`: A character class that matches any single character from the specified set. For example, `[aeiou]` matches any vowel.\n",
    "11. `[^...]`: A negated character class that matches any single character not in the specified set. For example, `[^0-9]` matches any character that is not a digit.\n",
    "12. `|` (pipe): An OR operator that allows you to specify multiple alternatives. For example, `cat|dog` matches either \"cat\" or \"dog.\"\n",
    "\n",
    "These metacharacter classes can be combined and used with other regular expression elements to create more complex patterns for text matching. They provide a powerful way to search for and manipulate text based on patterns and character classes."
   ]
  },
  {
   "cell_type": "markdown",
   "metadata": {},
   "source": [
    "---"
   ]
  },
  {
   "cell_type": "markdown",
   "metadata": {
    "deletable": false,
    "editable": false,
    "nbgrader": {
     "grade": false,
     "locked": true,
     "solution": false
    }
   },
   "source": [
    "**The backslash plague.** In the \"three-digits\" example, we used the predefined metacharacter class, `'\\d'`, to match slashes. But what if you want to match a _literal_ slash? The HOWTO describes how things can get out of control in its subsection on [\"The Backslash Plague\"](https://docs.python.org/3/howto/regex.html#the-backslash-plague), which occurs because the Python interpreter processes backslashes in string literals (e.g., so that `\\t` expands to a tab character and `\\n` to a newline) while the regular expression processor also gives backslashes meaning (e.g., so that `\\d` is a digit metaclass).\n",
    "\n",
    "For example, suppose you want to look for the text string, `\\section`, in some input string. Which of the following will match it? Recall that `\\s` is a predefined metacharacter class that matches any whitespace character."
   ]
  },
  {
   "cell_type": "code",
   "execution_count": 25,
   "metadata": {},
   "outputs": [
    {
     "name": "stdout",
     "output_type": "stream",
     "text": [
      "Searching: This string contains `\\section`, which we would like to match.\n",
      "None\n",
      "None\n",
      "<re.Match object; span=(22, 30), match='\\\\section'>\n"
     ]
    }
   ],
   "source": [
    "input_with_slash_section = \"This string contains `\\section`, which we would like to match.\"\n",
    "\n",
    "print(f\"Searching: {input_with_slash_section}\")\n",
    "\n",
    "print(re.search(\"\\section\", input_with_slash_section))\n",
    "print(re.search(\"\\\\section\", input_with_slash_section))\n",
    "print(re.search(\"\\\\\\\\section\", input_with_slash_section))"
   ]
  },
  {
   "cell_type": "markdown",
   "metadata": {
    "deletable": false,
    "editable": false,
    "nbgrader": {
     "grade": false,
     "locked": true,
     "solution": false
    }
   },
   "source": [
    "To help mitigate this case, Python provides a special type of string called a _raw string_, which is a string literal prefixed by the letter `r`. For such strings, the Python interpreter will not process the backslash.\n",
    "\n",
    "> Although the interpreter won't process the backslash, the regular expression processor will do so. As such, the pattern string still needs _two_ slashes, as shown below."
   ]
  },
  {
   "cell_type": "code",
   "execution_count": 26,
   "metadata": {},
   "outputs": [
    {
     "name": "stdout",
     "output_type": "stream",
     "text": [
      "None\n",
      "<re.Match object; span=(22, 30), match='\\\\section'>\n",
      "None\n"
     ]
    }
   ],
   "source": [
    "print(re.search(r\"\\section\", input_with_slash_section))\n",
    "print(re.search(r\"\\\\section\", input_with_slash_section))\n",
    "print(re.search(r\"\\\\\\\\section\", input_with_slash_section))"
   ]
  },
  {
   "cell_type": "markdown",
   "metadata": {
    "deletable": false,
    "editable": false,
    "nbgrader": {
     "grade": false,
     "locked": true,
     "solution": false
    }
   },
   "source": [
    "Indeed, it is common style to always use raw strings for regular expression patterns, as we'll do in the examples that follow."
   ]
  },
  {
   "cell_type": "markdown",
   "metadata": {},
   "source": [
    "---"
   ]
  },
  {
   "cell_type": "markdown",
   "metadata": {
    "deletable": false,
    "editable": false,
    "nbgrader": {
     "grade": false,
     "locked": true,
     "solution": false
    }
   },
   "source": [
    "**Creating pattern groups.** Another handy construct are [_pattern groups_](https://docs.python.org/3/howto/regex.html#grouping), as we show in the next code cell.\n",
    "\n",
    "Suppose we have a string that we know contains a name of the form, \"(first) (middle) (last)\", where the middle name is _optional_. We can use pattern groups to isolate each component of the name and tag the middle name as optional using the \"zero-or-one\" metacharacter, `'?'`.\n",
    "\n",
    "The group itself is a subpattern enclosed within parentheses. When a match is found, we can extract the groups by calling `.groups()` on the match object, which returns a tuple of all matched groups.\n",
    "\n",
    "> To make this pattern more readable, we have also used Python's multiline string literal combined with the [`re.VERBOSE` option](https://docs.python.org/2/library/re.html#re.VERBOSE), which then allows us to include whitespace and comments as part of the pattern string."
   ]
  },
  {
   "cell_type": "code",
   "execution_count": 27,
   "metadata": {},
   "outputs": [
    {
     "name": "stdout",
     "output_type": "stream",
     "text": [
      "('Rich', None, 'Vuduc')\n",
      "('Rich', 'S ', 'Vuduc')\n",
      "('Rich', 'Salamander ', 'Vuduc')\n"
     ]
    }
   ],
   "source": [
    "# Make the expression more readable with a re.VERBOSE pattern\n",
    "re_names2 = re.compile(r'''^              # Beginning of string\n",
    "                           ([a-zA-Z]+)    # First name\n",
    "                           \\s+            # At least one space\n",
    "                           ([a-zA-Z]+\\s)? # Optional middle name\n",
    "                           ([a-zA-Z]+)    # Last name\n",
    "                           $              # End of string\n",
    "                        ''',\n",
    "                        re.VERBOSE)\n",
    "print(re_names2.match('Rich Vuduc').groups())\n",
    "print(re_names2.match('Rich S Vuduc').groups())\n",
    "print(re_names2.match('Rich Salamander Vuduc').groups())"
   ]
  },
  {
   "cell_type": "markdown",
   "metadata": {},
   "source": [
    "The regular expression `[a-zA-Z]+` is a pattern that matches one or more consecutive alphabetical characters (letters) in a string, regardless of whether they are uppercase or lowercase. Here's how it works:\n",
    "\n",
    "- `[a-zA-Z]`: This is a character class that matches any single alphabetical character. The range `a-z` represents lowercase letters, and the range `A-Z` represents uppercase letters.\n",
    "\n",
    "- `+`: This is a quantifier that specifies \"one or more\" of the preceding pattern. In this case, it means one or more consecutive alphabetical characters.\n",
    "\n",
    "So, `[a-zA-Z]+` will match any substring in a text that consists of one or more consecutive alphabetical characters (letters), and it's case-insensitive, meaning it will match both lowercase and uppercase letters.\n",
    "\n",
    "Examples of matches:\n",
    "- \"Hello\"\n",
    "- \"World\"\n",
    "- \"abc\"\n",
    "- \"XyZ\"\n",
    "- \"aBcD\"\n",
    "\n",
    "Examples of non-matches:\n",
    "- \"12345\" (no letters)\n",
    "- \"word123\" (letters and numbers combined)\n",
    "- \"!\" (no letters)\n",
    "- \"A B\" (spaces between letters)"
   ]
  },
  {
   "cell_type": "markdown",
   "metadata": {},
   "source": [
    "The regular expression `([a-zA-Z]+\\s)?` is a pattern that matches a sequence of one or more consecutive alphabetical characters (letters) followed by an optional whitespace character. Here's how it works:\n",
    "\n",
    "- `([a-zA-Z]+\\s)?`: This is an expression enclosed in parentheses and followed by a `?`. \n",
    "\n",
    "  - `[a-zA-Z]+`: This part matches one or more consecutive alphabetical characters (letters), as explained earlier.\n",
    "\n",
    "  - `\\s`: This matches a single whitespace character (e.g., space, tab, newline).\n",
    "\n",
    "  - `?`: The `?` is a quantifier that makes the preceding expression `([a-zA-Z]+\\s)` optional, meaning it can occur zero or one time.\n",
    "\n",
    "So, the entire pattern `([a-zA-Z]+\\s)?` will match:\n",
    "\n",
    "- A sequence of one or more letters followed by a whitespace character (e.g., \"Hello \").\n",
    "- Just a sequence of one or more letters without a space (e.g., \"World\").\n",
    "- Nothing at all (an empty string or a string without any matching sequence).\n",
    "\n",
    "This pattern is useful for capturing words with an optional space after them or for matching patterns with or without trailing spaces."
   ]
  },
  {
   "cell_type": "markdown",
   "metadata": {},
   "source": [
    "---"
   ]
  },
  {
   "cell_type": "markdown",
   "metadata": {
    "deletable": false,
    "editable": false,
    "nbgrader": {
     "grade": false,
     "locked": true,
     "solution": false
    }
   },
   "source": [
    "**Tagging pattern groups.** You can also name pattern groups, which helps make your extraction code a bit more readable."
   ]
  },
  {
   "cell_type": "code",
   "execution_count": 28,
   "metadata": {},
   "outputs": [
    {
     "name": "stdout",
     "output_type": "stream",
     "text": [
      "Rich\n",
      "S \n",
      "Vuduc\n"
     ]
    }
   ],
   "source": [
    "# Named groups\n",
    "re_names3 = re.compile(r'''^\n",
    "                           (?P<first>[a-zA-Z]+)\n",
    "                           \\s\n",
    "                           (?P<middle>[a-zA-Z]+\\s)?\n",
    "                           \\s*\n",
    "                           (?P<last>[a-zA-Z]+)\n",
    "                           $\n",
    "                        ''',\n",
    "                        re.VERBOSE)\n",
    "print(re_names3.match('Rich Vuduc').group('first'))\n",
    "print(re_names3.match('Rich S Vuduc').group('middle'))\n",
    "print(re_names3.match('Rich Salamander Vuduc').group('last'))"
   ]
  },
  {
   "cell_type": "markdown",
   "metadata": {
    "deletable": false,
    "editable": false,
    "nbgrader": {
     "grade": false,
     "locked": true,
     "solution": false
    }
   },
   "source": [
    "**A regular expression debugger.** Regular expressions can be tough to write and debug, but thankfully, there are several online tools to help! See, for instance, [regex101](https://regex101.com/), [pythex](https://pythex.org/), [regexr](https://regexr.com/), or [debuggex](https://www.debuggex.com/). These all allow you to supply some sample input text and test what your pattern does in real time."
   ]
  },
  {
   "cell_type": "markdown",
   "metadata": {},
   "source": [
    "---"
   ]
  },
  {
   "cell_type": "markdown",
   "metadata": {
    "deletable": false,
    "editable": false,
    "nbgrader": {
     "grade": false,
     "locked": true,
     "solution": false
    }
   },
   "source": [
    "## Email addresses\n",
    "\n",
    "In the next exercise, you'll apply what you've read and learned about regular expressions to build a pattern matcher for email addresses. Again, if you haven't looked through the HOWTO yet, take a moment to do that!\n",
    "\n",
    "Although there is a [formal specification of what constitutes a valid email address](https://tools.ietf.org/html/rfc5322#section-3.4.1), for this exercise, let's use the following simplified rules.\n",
    "\n",
    "* We will restrict our attention to ASCII addresses and ignore Unicode. If you don't know what that means, don't worry about it---you shouldn't need to do anything special given our code templates, below.\n",
    "* An email address has two parts, the username and the domain name. These are separated by an `@` character.\n",
    "* A username **must begin with an alphabetic** character. It may be followed by any number of additional _alphanumeric_ characters or any of the following special characters: `.` (period), `-` (hyphen), `_` (underscore), or `+` (plus).\n",
    "* A domain name **must end with an alphabetic** character. It may consist of any of the following characters: alphanumeric characters, `.` (period), `-` (hyphen), or `_` (underscore).\n",
    "* Alphabetic characters may be uppercase or lowercase.\n",
    "* No whitespace characters are allowed.\n",
    "\n",
    "Valid domain names usually have additional restrictions, e.g., there are a limited number of endings, such as `.com`, `.edu`, and so on. However, for this exercise you may ignore this fact."
   ]
  },
  {
   "cell_type": "markdown",
   "metadata": {},
   "source": [
    "---"
   ]
  },
  {
   "cell_type": "markdown",
   "metadata": {
    "deletable": false,
    "editable": false,
    "nbgrader": {
     "grade": false,
     "locked": true,
     "solution": false
    },
    "tags": [
     "exercise_text"
    ]
   },
   "source": [
    "**Exercise 1** (2 points). Write a function `parse_email` that, given an email address `s`, returns a tuple, `(user-id, domain)` corresponding to the user name and domain name.\n",
    "\n",
    "For instance, given `richie@cc.gatech.edu` it should return `('richie', 'cc.gatech.edu')`.\n",
    "\n",
    "Your function should parse the email only if it exactly matches the email specification. For example, if there are leading or trailing spaces, the function should *not* match those. See the test cases for examples.\n",
    "\n",
    "If the input is not a valid email address, the function should raise a `ValueError`.\n",
    "\n",
    "> The requirement, \"raise a `ValueError`\" refers to a technique for handling errors in a program known as _exception handling_. The Python documentation covers [exceptions](https://docs.python.org/3/tutorial/errors.html) in more detail, including [raising `ValueError` objects](https://docs.python.org/3/tutorial/errors.html#raising-exceptions)."
   ]
  },
  {
   "cell_type": "markdown",
   "metadata": {
    "deletable": false,
    "editable": false,
    "nbgrader": {
     "grade": false,
     "locked": true,
     "solution": false
    },
    "tags": [
     "exercise_text"
    ]
   },
   "source": [
    "We have provided wrapper function `eif_wrapper`. This wrapper will capture whether or not your function raised a `ValueError` and the returned value from the function. Additionally, any `ValueErrors` raised by your function will not halt execution of the notebook.\n",
    "\n",
    "`eif_wrapper` is provided for you in the cell below. The function inputs are `s`, the input to be evaluated, and `func` the function that can raise a `ValueError`."
   ]
  },
  {
   "cell_type": "code",
   "execution_count": 29,
   "metadata": {
    "collapsed": true
   },
   "outputs": [],
   "source": [
    "# ValueError wrapper\n",
    "def eif_wrapper(s, func):\n",
    "    \"\"\"\n",
    "    Returns a (bool, function return) pair where the first element is True when a ValueError is raised \n",
    "    and False if a Value Error is not raised. The second output is the return value from calling `func(s)`.\n",
    "    \"\"\"\n",
    "    raised_value_error = False\n",
    "    result = None\n",
    "    try:\n",
    "        result = func(s)\n",
    "    except ValueError:\n",
    "        raised_value_error = True\n",
    "    finally:\n",
    "        return (raised_value_error, result)"
   ]
  },
  {
   "cell_type": "code",
   "execution_count": 30,
   "metadata": {
    "collapsed": true,
    "deletable": false,
    "editable": false,
    "nbgrader": {
     "grade": false,
     "locked": true,
     "solution": false
    },
    "tags": [
     "demo_data"
    ]
   },
   "outputs": [],
   "source": [
    "### Define demo inputs\n",
    "demo_str_ex1_list = ['richie@cc.gatech.edu',\n",
    "                     'what-do-you-know+not-much@gmail.com',\n",
    "                     'x @hpcgarage.org',\n",
    "                     'richie@cc.gatech.edu7']"
   ]
  },
  {
   "cell_type": "markdown",
   "metadata": {
    "deletable": false,
    "editable": false,
    "nbgrader": {
     "grade": false,
     "locked": true,
     "solution": false
    },
    "tags": [
     "demo_output_md"
    ]
   },
   "source": [
    "<!-- Expected demo output text block -->\n",
    "The demo included in the solution cell below should display the following output:\n",
    "```\n",
    "eif_wrapper('richie@cc.gatech.edu', parse_email) -> (False, ('richie', 'cc.gatech.edu'))\n",
    "eif_wrapper('what-do-you-know+not-much@gmail.com', parse_email) -> (False, ('what-do-you-know+not-much', 'gmail.com'))\n",
    "eif_wrapper('x @hpcgarage.org', parse_email) -> (True, None)\n",
    "eif_wrapper('richie@cc.gatech.edu7', parse_email) -> (True, None)\n",
    "```\n",
    "<!-- Include any shout outs here -->"
   ]
  },
  {
   "cell_type": "code",
   "execution_count": 31,
   "metadata": {
    "collapsed": true
   },
   "outputs": [],
   "source": [
    "### Exercise 1 solution\n",
    "def parse_email(s):\n",
    "\n",
    "    valid_email = re.compile(r'''^                  # Beginning of string\n",
    "                                [a-zA-Z]            # the first letter    \n",
    "                                [a-zA-Z0-9.\\-_+]*    # followed by any number of alpha numeric and . - _ +\n",
    "                                @                 # the @\n",
    "                                [a-zA-Z0-9.\\-_]*     # alphanumeric with . _ -\n",
    "                                [a-zA-Z]            # the last letter\n",
    "                                $                   # end of string\n",
    "                             ''',\n",
    "                             re.VERBOSE)\n",
    "    \n",
    "    match = valid_email.match(s)\n",
    "    \n",
    "    if match:\n",
    "        return (match.group(0).split('@')[0], match.group(0).split('@')[1])\n",
    "    else:\n",
    "        raise ValueError(\"Invalid email address\")"
   ]
  },
  {
   "cell_type": "code",
   "execution_count": 32,
   "metadata": {
    "tags": [
     "exercise_solution"
    ]
   },
   "outputs": [
    {
     "name": "stdout",
     "output_type": "stream",
     "text": [
      "eif_wrapper(richie@cc.gatech.edu, parse_email) -> (False, ('richie', 'cc.gatech.edu'))\n",
      "eif_wrapper(what-do-you-know+not-much@gmail.com, parse_email) -> (False, ('what-do-you-know+not-much', 'gmail.com'))\n",
      "eif_wrapper(x @hpcgarage.org, parse_email) -> (True, None)\n",
      "eif_wrapper(richie@cc.gatech.edu7, parse_email) -> (True, None)\n"
     ]
    }
   ],
   "source": [
    "### demo function call\n",
    "for demo_str_ex1 in demo_str_ex1_list:\n",
    "    print(f\"eif_wrapper({demo_str_ex1}, parse_email) -> {eif_wrapper(demo_str_ex1, parse_email)}\")"
   ]
  },
  {
   "cell_type": "markdown",
   "metadata": {
    "deletable": false,
    "editable": false,
    "nbgrader": {
     "grade": false,
     "locked": true,
     "solution": false
    },
    "tags": [
     "test_data_boilerplate"
    ]
   },
   "source": [
    "<!-- Test Cell Boilerplate -->\n",
    "The cell below will test your solution for Exercise 1. The testing variables will be available for debugging under the following names in a dictionary format.\n",
    "- `input_vars` - Input variables for your solution. \n",
    "- `original_input_vars` - Copy of input variables from prior to running your solution. These _should_ be the same as `input_vars` - otherwise the inputs were modified by your solution.\n",
    "- `returned_output_vars` - Outputs returned by your solution.\n",
    "- `true_output_vars` - The expected output. This _should_ \"match\" `returned_output_vars` based on the question requirements - otherwise, your solution is not returning the correct output. "
   ]
  },
  {
   "cell_type": "code",
   "execution_count": 33,
   "metadata": {
    "deletable": false,
    "editable": false,
    "nbgrader": {
     "grade": true,
     "grade_id": "ex1",
     "locked": true,
     "points": "2",
     "solution": false
    },
    "tags": []
   },
   "outputs": [
    {
     "name": "stdout",
     "output_type": "stream",
     "text": [
      "Passed! Please submit.\n"
     ]
    }
   ],
   "source": [
    "### test_cell_ex1\n",
    "from tester_fw.testers import Tester\n",
    "\n",
    "conf = {\n",
    "    'case_file':'tc_1', \n",
    "    'func': lambda s: eif_wrapper(s, parse_email), # replace this with the function defined above\n",
    "    'inputs':{ # input config dict. keys are parameter names\n",
    "        's':{\n",
    "            'dtype':'str', # data type of param.\n",
    "            'check_modified':False,\n",
    "        }\n",
    "    },\n",
    "    'outputs':{\n",
    "        'output_0':{\n",
    "            'index':0,\n",
    "            'dtype':'bool',\n",
    "            'check_dtype': True,\n",
    "            'check_col_dtypes': True, # Ignored if dtype is not df\n",
    "            'check_col_order': True, # Ignored if dtype is not df\n",
    "            'check_row_order': True, # Ignored if dtype is not df\n",
    "            'check_column_type': True, # Ignored if dtype is not df\n",
    "            'float_tolerance': 10 ** (-6)\n",
    "        },\n",
    "        'output_1':{\n",
    "            'index':1,\n",
    "            'dtype':'NoneType',\n",
    "            'check_dtype': True,\n",
    "            'check_col_dtypes': True, # Ignored if dtype is not df\n",
    "            'check_col_order': True, # Ignored if dtype is not df\n",
    "            'check_row_order': True, # Ignored if dtype is not df\n",
    "            'check_column_type': True, # Ignored if dtype is not df\n",
    "            'float_tolerance': 10 ** (-6)\n",
    "        }\n",
    "    }\n",
    "}\n",
    "tester = Tester(conf, key=b'F24oYNyh8kq_wkZD_Oo0ZCPHLcoO-xNXHOYNiPnQmmY=', path='resource/asnlib/publicdata/')\n",
    "for _ in range(70):\n",
    "    try:\n",
    "        tester.run_test()\n",
    "        (input_vars, original_input_vars, returned_output_vars, true_output_vars) = tester.get_test_vars()\n",
    "    except:\n",
    "        (input_vars, original_input_vars, returned_output_vars, true_output_vars) = tester.get_test_vars()\n",
    "        raise\n",
    "\n",
    "print('Passed! Please submit.')"
   ]
  },
  {
   "cell_type": "markdown",
   "metadata": {},
   "source": [
    "---"
   ]
  },
  {
   "cell_type": "markdown",
   "metadata": {
    "deletable": false,
    "editable": false,
    "nbgrader": {
     "grade": false,
     "locked": true,
     "solution": false
    }
   },
   "source": [
    "## Phone numbers"
   ]
  },
  {
   "cell_type": "markdown",
   "metadata": {
    "deletable": false,
    "editable": false,
    "nbgrader": {
     "grade": false,
     "locked": true,
     "solution": false
    },
    "tags": [
     "exercise_text"
    ]
   },
   "source": [
    "**Exercise 2** (2 points). Write a function to parse US phone numbers written in the canonical \"(404) 555-1212\" format, i.e., a three-digit area code enclosed in parentheses followed by a seven-digit local number in three-hyphen-four digit format. It should also **ignore** all leading and trailing spaces, as well as any spaces that appear between the area code and local numbers. However, it should **not** accept any spaces in the area code (e.g., in '(404)') nor should it in the seven-digit local number.\n",
    "\n",
    "For example, these would be considered valid phone number strings:\n",
    "```python\n",
    "    '(404) 121-2121'\n",
    "    '(404)121-2121     '\n",
    "    '   (404)      121-2121'\n",
    "```\n",
    "\n",
    "By contrast, these should be rejected:\n",
    "```python\n",
    "    '404-121-2121'\n",
    "    '(404)555 -1212'\n",
    "    ' ( 404)121-2121'\n",
    "    '(abc) 555-12i2'\n",
    "```\n",
    "\n",
    "It should return a triple of strings, `(area_code, first_three, last_four)`. \n",
    "\n",
    "If the input is not a valid phone number, it should raise a `ValueError`.\n",
    "\n",
    "The same wrapper function `eif_wrapper` from Exercise 1 will be used for evaluation."
   ]
  },
  {
   "cell_type": "code",
   "execution_count": 34,
   "metadata": {
    "collapsed": true,
    "deletable": false,
    "editable": false,
    "nbgrader": {
     "grade": false,
     "locked": true,
     "solution": false
    },
    "tags": [
     "demo_data"
    ]
   },
   "outputs": [],
   "source": [
    "### Define demo inputs\n",
    "demo_str_ex2_list = ['(404) 121-2121',\n",
    "                     '404-121-2121']"
   ]
  },
  {
   "cell_type": "markdown",
   "metadata": {
    "deletable": false,
    "editable": false,
    "nbgrader": {
     "grade": false,
     "locked": true,
     "solution": false
    },
    "tags": [
     "demo_output_md"
    ]
   },
   "source": [
    "<!-- Expected demo output text block -->\n",
    "The demo included in the solution cell below should display the following output:\n",
    "```\n",
    "eif_wrapper('(404) 121-2121', parse_phone1) -> (False, ('404', '121', '2121'))\n",
    "eif_wrapper('404-121-2121', parse_phone1) -> (True, None)\n",
    "```\n",
    "<!-- Include any shout outs here -->\n",
    "**Recall that `eif_wrapper` returns two outputs**:\n",
    "- `bool` indicating whether or not your function raised a `ValueError`\n",
    "- `tuple` (the result of your parsing function) or `None` (when the parsing function raises an error)"
   ]
  },
  {
   "cell_type": "code",
   "execution_count": 35,
   "metadata": {
    "collapsed": true
   },
   "outputs": [],
   "source": [
    "valid_number = re.compile(r'^\\(\\d{3}\\)\\s*\\d{3}-\\d{4}$')"
   ]
  },
  {
   "cell_type": "code",
   "execution_count": 36,
   "metadata": {
    "collapsed": true
   },
   "outputs": [],
   "source": [
    "s= '(404) 121-2121'"
   ]
  },
  {
   "cell_type": "code",
   "execution_count": 37,
   "metadata": {
    "collapsed": true
   },
   "outputs": [],
   "source": [
    "match = valid_number.match(s)"
   ]
  },
  {
   "cell_type": "code",
   "execution_count": 38,
   "metadata": {},
   "outputs": [
    {
     "data": {
      "text/plain": [
       "'(404) 121-2121'"
      ]
     },
     "execution_count": 38,
     "metadata": {},
     "output_type": "execute_result"
    }
   ],
   "source": [
    "match.group(0)"
   ]
  },
  {
   "cell_type": "code",
   "execution_count": 39,
   "metadata": {},
   "outputs": [
    {
     "data": {
      "text/plain": [
       "['(404) 121', '2121']"
      ]
     },
     "execution_count": 39,
     "metadata": {},
     "output_type": "execute_result"
    }
   ],
   "source": [
    "match.group(0).split('-')"
   ]
  },
  {
   "cell_type": "code",
   "execution_count": 40,
   "metadata": {
    "collapsed": true
   },
   "outputs": [],
   "source": [
    "pattern = re.compile(r'\\((\\d{3})\\)\\s*(\\d{3})-(\\d{4})')"
   ]
  },
  {
   "cell_type": "code",
   "execution_count": 41,
   "metadata": {
    "collapsed": true
   },
   "outputs": [],
   "source": [
    "match = re.search(pattern, s)"
   ]
  },
  {
   "cell_type": "code",
   "execution_count": 42,
   "metadata": {},
   "outputs": [
    {
     "data": {
      "text/plain": [
       "'(404) 121-2121'"
      ]
     },
     "execution_count": 42,
     "metadata": {},
     "output_type": "execute_result"
    }
   ],
   "source": [
    "match.group(0)"
   ]
  },
  {
   "cell_type": "code",
   "execution_count": 43,
   "metadata": {},
   "outputs": [
    {
     "data": {
      "text/plain": [
       "'404'"
      ]
     },
     "execution_count": 43,
     "metadata": {},
     "output_type": "execute_result"
    }
   ],
   "source": [
    "match.group(1)"
   ]
  },
  {
   "cell_type": "code",
   "execution_count": 44,
   "metadata": {
    "collapsed": true,
    "tags": [
     "exercise_solution"
    ]
   },
   "outputs": [],
   "source": [
    "def parse_phone1(s):\n",
    "    \n",
    "    valid_number = re.compile('\\((\\d{3})\\)\\s*(\\d{3})-(\\d{4})')\n",
    "    \n",
    "    match = re.search(valid_number, s)\n",
    "    \n",
    "    if match:\n",
    "        return (match.group(1),match.group(2),match.group(3))\n",
    "    \n",
    "    else:\n",
    "        raise ValueError(\"Invalid number\")"
   ]
  },
  {
   "cell_type": "code",
   "execution_count": 45,
   "metadata": {},
   "outputs": [
    {
     "name": "stdout",
     "output_type": "stream",
     "text": [
      "eif_wrapper('(404) 121-2121', parse_phone1) -> (False, ('404', '121', '2121'))\n",
      "eif_wrapper('404-121-2121', parse_phone1) -> (True, None)\n"
     ]
    }
   ],
   "source": [
    "### demo function call\n",
    "for demo_str_ex2 in demo_str_ex2_list:\n",
    "    print(f\"eif_wrapper('{demo_str_ex2}', parse_phone1) -> {eif_wrapper(demo_str_ex2, parse_phone1)}\")"
   ]
  },
  {
   "cell_type": "markdown",
   "metadata": {
    "deletable": false,
    "editable": false,
    "nbgrader": {
     "grade": false,
     "locked": true,
     "solution": false
    },
    "tags": [
     "test_data_boilerplate"
    ]
   },
   "source": [
    "<!-- Test Cell Boilerplate -->\n",
    "The cell below will test your solution for Exercise 2. The testing variables will be available for debugging under the following names in a dictionary format.\n",
    "- `input_vars` - Input variables for your solution. \n",
    "- `original_input_vars` - Copy of input variables from prior to running your solution. These _should_ be the same as `input_vars` - otherwise the inputs were modified by your solution.\n",
    "- `returned_output_vars` - Outputs returned by your solution.\n",
    "- `true_output_vars` - The expected output. This _should_ \"match\" `returned_output_vars` based on the question requirements - otherwise, your solution is not returning the correct output. "
   ]
  },
  {
   "cell_type": "code",
   "execution_count": 46,
   "metadata": {
    "deletable": false,
    "editable": false,
    "nbgrader": {
     "grade": true,
     "grade_id": "ex2",
     "locked": true,
     "points": "2",
     "solution": false
    },
    "tags": []
   },
   "outputs": [
    {
     "name": "stdout",
     "output_type": "stream",
     "text": [
      "Passed! Please submit.\n"
     ]
    }
   ],
   "source": [
    "### test_cell_ex2\n",
    "from tester_fw.testers import Tester\n",
    "\n",
    "conf = {\n",
    "    'case_file':'tc_2', \n",
    "    'func': lambda s: eif_wrapper(s, parse_phone1), # replace this with the function defined above\n",
    "    'inputs':{ # input config dict. keys are parameter names\n",
    "        's':{\n",
    "            'dtype':'str', # data type of param.\n",
    "            'check_modified':False,\n",
    "        }\n",
    "    },\n",
    "    'outputs':{\n",
    "        'output_0':{\n",
    "            'index':0,\n",
    "            'dtype':'bool',\n",
    "            'check_dtype': True,\n",
    "            'check_col_dtypes': True, # Ignored if dtype is not df\n",
    "            'check_col_order': True, # Ignored if dtype is not df\n",
    "            'check_row_order': True, # Ignored if dtype is not df\n",
    "            'check_column_type': True, # Ignored if dtype is not df\n",
    "            'float_tolerance': 10 ** (-6)\n",
    "        },\n",
    "        'output_1':{\n",
    "            'index':0,\n",
    "            'dtype':'NoneType',\n",
    "            'check_dtype': True,\n",
    "            'check_col_dtypes': True, # Ignored if dtype is not df\n",
    "            'check_col_order': True, # Ignored if dtype is not df\n",
    "            'check_row_order': True, # Ignored if dtype is not df\n",
    "            'check_column_type': True, # Ignored if dtype is not df\n",
    "            'float_tolerance': 10 ** (-6)\n",
    "        }\n",
    "    }\n",
    "}\n",
    "tester = Tester(conf, key=b'F24oYNyh8kq_wkZD_Oo0ZCPHLcoO-xNXHOYNiPnQmmY=', path='resource/asnlib/publicdata/')\n",
    "for _ in range(70):\n",
    "    try:\n",
    "        tester.run_test()\n",
    "        (input_vars, original_input_vars, returned_output_vars, true_output_vars) = tester.get_test_vars()\n",
    "    except:\n",
    "        (input_vars, original_input_vars, returned_output_vars, true_output_vars) = tester.get_test_vars()\n",
    "        raise\n",
    "\n",
    "print('Passed! Please submit.')"
   ]
  },
  {
   "cell_type": "markdown",
   "metadata": {},
   "source": [
    "---"
   ]
  },
  {
   "cell_type": "markdown",
   "metadata": {
    "deletable": false,
    "editable": false,
    "nbgrader": {
     "grade": false,
     "locked": true,
     "solution": false
    },
    "tags": [
     "exercise_text"
    ]
   },
   "source": [
    "**Exercise 3** (3 points). Implement an enhanced phone number parser that can handle any of these patterns.\n",
    "\n",
    "* (404) 555-1212\n",
    "* (404) 5551212\n",
    "* 404-555-1212\n",
    "* 404-5551212\n",
    "* 404555-1212\n",
    "* 4045551212\n",
    "\n",
    "As seen in the examples above, this parser should also handle the cases in which area code is not enclosed in parentheses. As before, it should not be sensitive to leading or trailing spaces. Also, for the patterns in which the area code is enclosed in parentheses, it should not be sensitive to the number of spaces separating the area code from the remainder of the number.\n",
    "\n",
    "The same wrapper function `eif_wrapper` from Exercise 1 will be used for evaluation."
   ]
  },
  {
   "cell_type": "code",
   "execution_count": 47,
   "metadata": {
    "collapsed": true,
    "deletable": false,
    "editable": false,
    "nbgrader": {
     "grade": false,
     "locked": true,
     "solution": false
    },
    "tags": [
     "demo_data"
    ]
   },
   "outputs": [],
   "source": [
    "### Define demo inputs\n",
    "demo_str_ex3_list = ['404-5551212',\n",
    "                     '(404-555-1212']"
   ]
  },
  {
   "cell_type": "markdown",
   "metadata": {
    "deletable": false,
    "editable": false,
    "nbgrader": {
     "grade": false,
     "locked": true,
     "solution": false
    },
    "tags": [
     "demo_output_md"
    ]
   },
   "source": [
    "<!-- Expected demo output text block -->\n",
    "The demo included in the solution cell below should display the following output:\n",
    "```\n",
    "eif_wrapper('404-5551212', parse_phone2) -> (False, ('404', '555', '1212'))\n",
    "eif_wrapper('(404-555-1212', parse_phone2) -> (True, None)\n",
    "```\n",
    "<!-- Include any shout outs here -->\n",
    "**Recall that `eif_wrapper` returns two outputs**:\n",
    "- `bool` indicating whether or not your function raised a `ValueError`\n",
    "- `tuple` (the result of your parsing function) or `None` (when the parsing function raises an error)"
   ]
  },
  {
   "cell_type": "code",
   "execution_count": 48,
   "metadata": {},
   "outputs": [
    {
     "name": "stdout",
     "output_type": "stream",
     "text": [
      "<re.Match object; span=(0, 14), match='(404) 555-1212'>\n",
      "<re.Match object; span=(0, 12), match='404 555-1212'>\n",
      "None\n",
      "None\n"
     ]
    }
   ],
   "source": [
    "pattern = r'''\n",
    "            (\\(\\d{3}\\)|\\d{3})  # Match either (XXX) or XXX\n",
    "            \n",
    "            [\\s-]?                  # optional whitespace or hyphen\n",
    "            \n",
    "            (\\d{3})\n",
    "            \n",
    "            [\\s-]?                   # optional whitespace or hyphen\n",
    "            \n",
    "            (\\d{4})\n",
    "            \n",
    "           \n",
    "            '''\n",
    "\n",
    "valid_number = re.compile(pattern, re.VERBOSE)\n",
    "\n",
    "# Test the pattern\n",
    "phone1 = '(404) 555-1212'\n",
    "phone2 = '404 555-1212'\n",
    "phone3 = '(404-555-1212'\n",
    "phone4 = '404) 555-1212'\n",
    "\n",
    "print(valid_number.match(phone1))  # Should match\n",
    "print(valid_number.match(phone2))  # Should match\n",
    "print(valid_number.match(phone3))  # Should not match\n",
    "print(valid_number.match(phone4))  # Should not match\n"
   ]
  },
  {
   "cell_type": "markdown",
   "metadata": {},
   "source": [
    "---"
   ]
  },
  {
   "cell_type": "code",
   "execution_count": 156,
   "metadata": {
    "collapsed": true
   },
   "outputs": [],
   "source": [
    "pattern = r'''\n",
    "            ^\\s*               # Leading spaces\n",
    "\n",
    "            (    \n",
    "            \\(\\d{3}\\)\\s*       # \"(XXX) \"  \n",
    "            |                  # OR\n",
    "            \\d{3}-?            # \"xxx\" or \"xxx-\"\n",
    "            )  \n",
    "            \n",
    "\n",
    "\n",
    "            \n",
    "            (\\d{3})             # Match XXX\n",
    "            \n",
    "            [\\s-]?               # optional whitespace or hyphen\n",
    "            \n",
    "            (\\d{4})            # Match XXXX\n",
    "            \n",
    "            \\s*$       # Trailing spaces\n",
    "\n",
    "            \n",
    "            '''\n",
    "\n",
    "valid_number = re.compile(pattern, re.VERBOSE)"
   ]
  },
  {
   "cell_type": "markdown",
   "metadata": {},
   "source": [
    "---"
   ]
  },
  {
   "cell_type": "code",
   "execution_count": 142,
   "metadata": {
    "collapsed": true
   },
   "outputs": [],
   "source": [
    "phone1 = '4045551212'"
   ]
  },
  {
   "cell_type": "code",
   "execution_count": 143,
   "metadata": {
    "collapsed": true
   },
   "outputs": [],
   "source": [
    "match = re.search(valid_number, phone1)"
   ]
  },
  {
   "cell_type": "code",
   "execution_count": 144,
   "metadata": {},
   "outputs": [
    {
     "data": {
      "text/plain": [
       "'4045551212'"
      ]
     },
     "execution_count": 144,
     "metadata": {},
     "output_type": "execute_result"
    }
   ],
   "source": [
    "match.group(0)"
   ]
  },
  {
   "cell_type": "code",
   "execution_count": 145,
   "metadata": {},
   "outputs": [
    {
     "data": {
      "text/plain": [
       "'404'"
      ]
     },
     "execution_count": 145,
     "metadata": {},
     "output_type": "execute_result"
    }
   ],
   "source": [
    "match.group(1)"
   ]
  },
  {
   "cell_type": "code",
   "execution_count": 146,
   "metadata": {},
   "outputs": [
    {
     "data": {
      "text/plain": [
       "'555'"
      ]
     },
     "execution_count": 146,
     "metadata": {},
     "output_type": "execute_result"
    }
   ],
   "source": [
    "match.group(2)"
   ]
  },
  {
   "cell_type": "code",
   "execution_count": 147,
   "metadata": {},
   "outputs": [
    {
     "data": {
      "text/plain": [
       "'1212'"
      ]
     },
     "execution_count": 147,
     "metadata": {},
     "output_type": "execute_result"
    }
   ],
   "source": [
    "match.group(3)"
   ]
  },
  {
   "cell_type": "markdown",
   "metadata": {},
   "source": [
    "---"
   ]
  },
  {
   "cell_type": "code",
   "execution_count": 148,
   "metadata": {
    "collapsed": true
   },
   "outputs": [],
   "source": [
    "phone2 = '404-5551212'"
   ]
  },
  {
   "cell_type": "code",
   "execution_count": 149,
   "metadata": {
    "collapsed": true
   },
   "outputs": [],
   "source": [
    "match = re.search(valid_number, phone2)"
   ]
  },
  {
   "cell_type": "code",
   "execution_count": 150,
   "metadata": {},
   "outputs": [
    {
     "data": {
      "text/plain": [
       "'404-5551212'"
      ]
     },
     "execution_count": 150,
     "metadata": {},
     "output_type": "execute_result"
    }
   ],
   "source": [
    "match.group(0)"
   ]
  },
  {
   "cell_type": "code",
   "execution_count": 151,
   "metadata": {},
   "outputs": [
    {
     "data": {
      "text/plain": [
       "'404-'"
      ]
     },
     "execution_count": 151,
     "metadata": {},
     "output_type": "execute_result"
    }
   ],
   "source": [
    "match.group(1)"
   ]
  },
  {
   "cell_type": "code",
   "execution_count": 152,
   "metadata": {},
   "outputs": [
    {
     "data": {
      "text/plain": [
       "'555'"
      ]
     },
     "execution_count": 152,
     "metadata": {},
     "output_type": "execute_result"
    }
   ],
   "source": [
    "match.group(2)"
   ]
  },
  {
   "cell_type": "markdown",
   "metadata": {},
   "source": [
    "---"
   ]
  },
  {
   "cell_type": "code",
   "execution_count": 153,
   "metadata": {
    "collapsed": true
   },
   "outputs": [],
   "source": [
    "phone3 = '(404-555-1212'"
   ]
  },
  {
   "cell_type": "code",
   "execution_count": 154,
   "metadata": {
    "collapsed": true
   },
   "outputs": [],
   "source": [
    "match = re.search(valid_number, phone3)"
   ]
  },
  {
   "cell_type": "code",
   "execution_count": 155,
   "metadata": {},
   "outputs": [
    {
     "ename": "AttributeError",
     "evalue": "'NoneType' object has no attribute 'group'",
     "output_type": "error",
     "traceback": [
      "\u001b[0;31m---------------------------------------------------------------------------\u001b[0m",
      "\u001b[0;31mAttributeError\u001b[0m                            Traceback (most recent call last)",
      "\u001b[0;32m<ipython-input-155-4d972d6c40f1>\u001b[0m in \u001b[0;36m<module>\u001b[0;34m\u001b[0m\n\u001b[0;32m----> 1\u001b[0;31m \u001b[0mmatch\u001b[0m\u001b[0;34m.\u001b[0m\u001b[0mgroup\u001b[0m\u001b[0;34m(\u001b[0m\u001b[0;36m0\u001b[0m\u001b[0;34m)\u001b[0m\u001b[0;34m\u001b[0m\u001b[0;34m\u001b[0m\u001b[0m\n\u001b[0m",
      "\u001b[0;31mAttributeError\u001b[0m: 'NoneType' object has no attribute 'group'"
     ]
    }
   ],
   "source": [
    "match.group(0)"
   ]
  },
  {
   "cell_type": "code",
   "execution_count": 64,
   "metadata": {},
   "outputs": [
    {
     "data": {
      "text/plain": [
       "'404'"
      ]
     },
     "execution_count": 64,
     "metadata": {},
     "output_type": "execute_result"
    }
   ],
   "source": [
    "match.group(1)"
   ]
  },
  {
   "cell_type": "code",
   "execution_count": 65,
   "metadata": {},
   "outputs": [
    {
     "data": {
      "text/plain": [
       "'555'"
      ]
     },
     "execution_count": 65,
     "metadata": {},
     "output_type": "execute_result"
    }
   ],
   "source": [
    "match.group(2)"
   ]
  },
  {
   "cell_type": "markdown",
   "metadata": {},
   "source": [
    "---"
   ]
  },
  {
   "cell_type": "code",
   "execution_count": 157,
   "metadata": {
    "collapsed": true
   },
   "outputs": [],
   "source": [
    "phone4 = '(404)555-1212'"
   ]
  },
  {
   "cell_type": "code",
   "execution_count": 158,
   "metadata": {
    "collapsed": true
   },
   "outputs": [],
   "source": [
    "match = re.search(valid_number, phone4)"
   ]
  },
  {
   "cell_type": "code",
   "execution_count": 159,
   "metadata": {},
   "outputs": [
    {
     "data": {
      "text/plain": [
       "'(404)555-1212'"
      ]
     },
     "execution_count": 159,
     "metadata": {},
     "output_type": "execute_result"
    }
   ],
   "source": [
    "match.group(0)"
   ]
  },
  {
   "cell_type": "code",
   "execution_count": 160,
   "metadata": {},
   "outputs": [
    {
     "data": {
      "text/plain": [
       "'(404)'"
      ]
     },
     "execution_count": 160,
     "metadata": {},
     "output_type": "execute_result"
    }
   ],
   "source": [
    "match.group(1)"
   ]
  },
  {
   "cell_type": "code",
   "execution_count": 161,
   "metadata": {},
   "outputs": [
    {
     "data": {
      "text/plain": [
       "'555'"
      ]
     },
     "execution_count": 161,
     "metadata": {},
     "output_type": "execute_result"
    }
   ],
   "source": [
    "match.group(2)"
   ]
  },
  {
   "cell_type": "code",
   "execution_count": 162,
   "metadata": {},
   "outputs": [
    {
     "data": {
      "text/plain": [
       "'1212'"
      ]
     },
     "execution_count": 162,
     "metadata": {},
     "output_type": "execute_result"
    }
   ],
   "source": [
    "match.group(3)"
   ]
  },
  {
   "cell_type": "markdown",
   "metadata": {},
   "source": [
    "---"
   ]
  },
  {
   "cell_type": "markdown",
   "metadata": {},
   "source": [
    "**Exercise 3** (3 points). Implement an enhanced phone number parser that can handle any of these patterns.\n",
    "\n",
    "* (404) 555-1212\n",
    "* (404) 5551212\n",
    "* 404-555-1212\n",
    "* 404-5551212\n",
    "* 404555-1212\n",
    "* 4045551212\n",
    "\n",
    "As seen in the examples above, this parser should also handle the cases in which area code is not enclosed in parentheses. As before, it should not be sensitive to leading or trailing spaces. Also, for the patterns in which the area code is enclosed in parentheses, it should not be sensitive to the number of spaces separating the area code from the remainder of the number.\n",
    "\n",
    "The same wrapper function `eif_wrapper` from Exercise 1 will be used for evaluation."
   ]
  },
  {
   "cell_type": "code",
   "execution_count": 170,
   "metadata": {
    "collapsed": true
   },
   "outputs": [],
   "source": [
    "def parse_phone2(s):\n",
    "    \n",
    "    \n",
    "    pattern = r'''\n",
    "            ^\\s*               # Leading spaces\n",
    "\n",
    "            (    \n",
    "            \\(\\d{3}\\)\\s*       # \"(XXX) \"  \n",
    "            |                  # OR\n",
    "            \\d{3}-?            # \"xxx\" or \"xxx-\"\n",
    "            )  \n",
    "            \n",
    "\n",
    "\n",
    "            \n",
    "            (\\d{3})             # Match XXX\n",
    "            \n",
    "            -?               # optional  hyphen\n",
    "            \n",
    "            (\\d{4})            # Match XXXX\n",
    "            \n",
    "            \\s*$       # Trailing spaces\n",
    "\n",
    "            \n",
    "            '''\n",
    "\n",
    "    valid_number = re.compile(pattern, re.VERBOSE)\n",
    "    \n",
    "    match = valid_number.match(s)\n",
    "    \n",
    "    if AttributeError:\n",
    "        raise ValueError\n",
    "    \n",
    "    if match:\n",
    "        phone_number = re.search(valid_number, s)\n",
    "        \n",
    "        area_code = phone_number.group(1)\n",
    "\n",
    "        if \"(\" in area_code:\n",
    "            area_code=area_code.replace(\"(\",\"\")\n",
    "        if \")\" in area_code:\n",
    "            area_code=area_code.replace(\")\",\"\")\n",
    "        if \"-\" in area_code:\n",
    "            area_code=area_code.replace(\"-\",\"\")\n",
    "        \n",
    "        return(area_code, phone_number.group(2), phone_number.group(3))\n",
    "        \n",
    "    \n",
    "    "
   ]
  },
  {
   "cell_type": "code",
   "execution_count": 172,
   "metadata": {},
   "outputs": [],
   "source": [
    "def parse_phone2(s):\n",
    "        pattern = '''\n",
    "                ^\\s*               # Leading spaces\n",
    "                (?P<areacode>\n",
    "                \\d{3}-?         # \"xxx\" or \"xxx-\"\n",
    "                | \\(\\d{3}\\)\\s*  # OR \"(xxx) \"\n",
    "                )        \n",
    "                (?P<prefix>\\d{3})  # xxx        \n",
    "                -?                 # Dash (optional)        \n",
    "                (?P<suffix>\\d{4})  # xxxx        \n",
    "                \\s*$       # Trailing spaces\n",
    "            '''\n",
    "        matcher = re.compile(pattern, re.VERBOSE)\n",
    "        matches = matcher.match(s)\n",
    "        if matches is None:\n",
    "            raise ValueError(\"'{}' is not in the right format.\".format (s))\n",
    "        areacode = re.search('\\d{3}', matches.group ('areacode')).group()\n",
    "        prefix = matches.group ('prefix')\n",
    "        suffix = matches.group ('suffix')\n",
    "        return (areacode, prefix, suffix)"
   ]
  },
  {
   "cell_type": "code",
   "execution_count": 110,
   "metadata": {},
   "outputs": [
    {
     "name": "stdout",
     "output_type": "stream",
     "text": [
      "eif_wrapper('404-5551212', parse_phone2) -> (False, ('404', '555', '1212'))\n",
      "eif_wrapper('(404-555-1212', parse_phone2) -> (True, None)\n"
     ]
    }
   ],
   "source": [
    "### demo function call\n",
    "for demo_str_ex3 in demo_str_ex3_list:\n",
    "    print(f\"eif_wrapper('{demo_str_ex3}', parse_phone2) -> {eif_wrapper(demo_str_ex3, parse_phone2)}\")"
   ]
  },
  {
   "cell_type": "markdown",
   "metadata": {
    "deletable": false,
    "editable": false,
    "nbgrader": {
     "grade": false,
     "locked": true,
     "solution": false
    },
    "tags": [
     "test_data_boilerplate"
    ]
   },
   "source": [
    "<!-- Test Cell Boilerplate -->\n",
    "The cell below will test your solution for Exercise 3. The testing variables will be available for debugging under the following names in a dictionary format.\n",
    "- `input_vars` - Input variables for your solution. \n",
    "- `original_input_vars` - Copy of input variables from prior to running your solution. These _should_ be the same as `input_vars` - otherwise the inputs were modified by your solution.\n",
    "- `returned_output_vars` - Outputs returned by your solution.\n",
    "- `true_output_vars` - The expected output. This _should_ \"match\" `returned_output_vars` based on the question requirements - otherwise, your solution is not returning the correct output. "
   ]
  },
  {
   "cell_type": "code",
   "execution_count": 173,
   "metadata": {
    "deletable": false,
    "editable": false,
    "nbgrader": {
     "grade": true,
     "grade_id": "ex3",
     "locked": true,
     "points": "3",
     "solution": false
    },
    "tags": []
   },
   "outputs": [
    {
     "name": "stdout",
     "output_type": "stream",
     "text": [
      "Passed! Please submit.\n"
     ]
    }
   ],
   "source": [
    "### test_cell_ex3\n",
    "from tester_fw.testers import Tester\n",
    "\n",
    "conf = {\n",
    "    'case_file':'tc_3', \n",
    "    'func': lambda s: eif_wrapper(s, parse_phone2), # replace this with the function defined above\n",
    "    'inputs':{ # input config dict. keys are parameter names\n",
    "        's':{\n",
    "            'dtype':'str', # data type of param.\n",
    "            'check_modified':False,\n",
    "        }\n",
    "    },\n",
    "    'outputs':{\n",
    "        'output_0':{\n",
    "            'index':0,\n",
    "            'dtype':'bool',\n",
    "            'check_dtype': True,\n",
    "            'check_col_dtypes': True, # Ignored if dtype is not df\n",
    "            'check_col_order': True, # Ignored if dtype is not df\n",
    "            'check_row_order': True, # Ignored if dtype is not df\n",
    "            'check_column_type': True, # Ignored if dtype is not df\n",
    "            'float_tolerance': 10 ** (-6)\n",
    "        },\n",
    "        'output_1':{\n",
    "            'index':1,\n",
    "            'dtype':'NoneType',\n",
    "            'check_dtype': True,\n",
    "            'check_col_dtypes': True, # Ignored if dtype is not df\n",
    "            'check_col_order': True, # Ignored if dtype is not df\n",
    "            'check_row_order': True, # Ignored if dtype is not df\n",
    "            'check_column_type': True, # Ignored if dtype is not df\n",
    "            'float_tolerance': 10 ** (-6)\n",
    "        },\n",
    "        \n",
    "    }\n",
    "}\n",
    "tester = Tester(conf, key=b'F24oYNyh8kq_wkZD_Oo0ZCPHLcoO-xNXHOYNiPnQmmY=', path='resource/asnlib/publicdata/')\n",
    "for _ in range(70):\n",
    "    try:\n",
    "        tester.run_test()\n",
    "        (input_vars, original_input_vars, returned_output_vars, true_output_vars) = tester.get_test_vars()\n",
    "    except:\n",
    "        (input_vars, original_input_vars, returned_output_vars, true_output_vars) = tester.get_test_vars()\n",
    "        raise\n",
    "\n",
    "print('Passed! Please submit.')"
   ]
  },
  {
   "cell_type": "markdown",
   "metadata": {
    "deletable": false,
    "editable": false,
    "nbgrader": {
     "grade": false,
     "locked": true,
     "solution": false
    },
    "tags": [
     "fin"
    ]
   },
   "source": [
    "**Fin!** This cell marks the end of Part 0. Don't forget to save, restart and rerun all cells, and submit it. When you are done, proceed to Parts 1 and 2."
   ]
  }
 ],
 "metadata": {
  "kernelspec": {
   "display_name": "Python 3.8",
   "language": "python",
   "name": "python38"
  },
  "language_info": {
   "codemirror_mode": {
    "name": "ipython",
    "version": 3
   },
   "file_extension": ".py",
   "mimetype": "text/x-python",
   "name": "python",
   "nbconvert_exporter": "python",
   "pygments_lexer": "ipython3",
   "version": "3.8.7"
  }
 },
 "nbformat": 4,
 "nbformat_minor": 5
}
