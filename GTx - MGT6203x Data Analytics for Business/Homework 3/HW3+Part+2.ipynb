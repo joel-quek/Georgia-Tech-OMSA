{
 "cells": [
  {
   "cell_type": "markdown",
   "metadata": {
    "deletable": false,
    "editable": false,
    "nbgrader": {
     "grade": false,
     "locked": true,
     "solution": false
    }
   },
   "source": [
    "# HW3 Part 2 MGT 6203 "
   ]
  },
  {
   "cell_type": "markdown",
   "metadata": {
    "deletable": false,
    "editable": false,
    "nbgrader": {
     "grade": false,
     "locked": true,
     "solution": false
    }
   },
   "source": [
    "## Instructions:\n",
    "\n",
    "\n",
    "**For Homework 3 Part 2, please use this Jupyter notebook in Vocareum to submit your solutions. Vocareum is an educational cloud platform for programming in several languages; it is based on the Jupyter notebook environment. This platform allows us to move homework assignments to the cloud. The advantages are that all of you will be working in the same coding environment AND peer reviewers will be able to run your R code easily. This way we eliminate some issues we might encounter when working on an individual/local basis, such as library installations and Rstudio OS requirements; Jupyter notebooks work on mobile platforms and tablets.**\n",
    "\n",
    "**With Jupyter notebooks, you will be learning a new way of presenting data analysis reports, that is neat and flexible, where formatted (English) text and (R) code can easily coexist on the same page. Notebooks can be also collaborative when needed. For now, we are asking each of you to do your own work for homework. Think of Jupyter notebooks as interactive program-based Google docs or MS-Office 360 docs; these are gradually replacing local files on our computers. **\n",
    "\n",
    "**Many of you are new to the Jupyter notebooks and Vocareum platforms. We will provide TA help in Piazza with specific code if you have questions. Here we list some important things to get you started. Please read through them carefully.**\n",
    "\n",
    "\n",
    "<ol>\n",
    "<li>Even though we are moving from your local envrionment to the cloud, **our expectations from your homework will remain the same**. Same goes for the rubrics.</li>\n",
    "\n",
    "<li>Vocareum has its own cloud based file system, the data files you will be using for the assignments will be stored in the cloud with path **\"../resource/asnlib/publicdata/FILENAME.csv\"**. You will be able to import them with the same method as you do in RStudio, simply substitute the path name to the one specified in the instructions. You won't be able to modify these data files.</li>\n",
    "\n",
    "<li>You will be able to find the data files on Canvas/EdX if you would like to explore them offline.</li>\n",
    "\n",
    "<li>**For coding questions, you will be graded on the R code as well as the output** in your submission.</li>\n",
    "\n",
    "<li>**For interpretations or short response questions, please type the answers in the notebook's markdown cells**. To change a code cell to a markdown cell, click on the cell, and in the dropdown menu above, switch the type of the cell block from \"code\" to \"markdown\". **Adding print statements to code cells for short response/interpretation questions is also fine, as long as we can clearly see the output of your response**.</li>\n",
    "\n",
    "<li>You don't need to, but if you would like to learn more about how to format your markdown cells, visit the following site: https://www.earthdatascience.org/courses/intro-to-earth-data-science/file-formats/use-text-files/format-text-with-markdown-jupyter-notebook/. Jupyter notebook also support LaTeX.</li>\n",
    "\n",
    "<li>**Feel free to delete or add as many additional cells as you need**. But please try to keep your notebook clean and keep your solution to a question directly under that question to avoid confusions.</li>\n",
    "\n",
    "<li>You may delete the #SOLUTION BEGINS/ENDS HERE comments from the cell blocks, they are just pointers that indicates where to put you solutions.</li>\n",
    "\n",
    "<li>**When you have finished the assignment, remember to rerun your notebook to check if it runs correctly.** You can do so by going to **Kernel-> Restart & Run All**. You may lose points if your solutions does not run successfully.</li>\n",
    "\n",
    "<li>**Click the \"Submit\" button on the top right corner to turn in your assignment**. Your assignment will enter the next phase for peer review.</li>\n",
    "\n",
    "<li>**You are allowed a total of 2 submissions for this assignment.** So make sure that you submit your responses carefully. You will be able to come back and resubmit your assignment as long as it is before the start of the peer review period.</li>\n",
    "\n",
    "<li>**Please remember to finish the peer reviews after you have submitted your assignment.** You are responsible for grading the work of three of your peers thoroughly, and in addherence to the rubrics. And you will be held accountable for peer grading. **There will be a 30% penalty to your grade if you fail to complete one or more peer reviews in proper fashion.**</li>\n",
    "\n",
    "<li>Feel free to address your questions, concerns, and provide any feedback on Piazza. We will continuously try to improve going forward.</li>\n",
    "\n",
    "<li>Good Luck!</li>\n",
    "\n",
    "</ol>\n",
    "\n"
   ]
  },
  {
   "cell_type": "markdown",
   "metadata": {
    "deletable": false,
    "editable": false,
    "nbgrader": {
     "grade": false,
     "locked": true,
     "solution": false
    }
   },
   "source": [
    "# About Package Installation:\n",
    "\n",
    "Most of the packages (if not all) that you will need to complete this assignment are already installed in this environment. An easy way to check this is to run the command: library(PackageName). If this command runs successfully then the package was already installed and has been successfully attached to the code. If the command gave an error saying the Package was not found then follow the steps below to successfully install the package and attach it to the code: \n",
    "\n",
    "Use *installed.packages()* command to return a table of the packages that are preinstalled in the environment.\n",
    "\n",
    "To attach a preinstalled library in Vocareum, simply use *library(PackageName)*\n",
    "\n",
    "**To install a package that does not come with the provided environment, please use the following syntax:**\n",
    "\n",
    "*install.packages(\"PackageName\", lib=\"../work/\")*\n",
    "\n",
    "**To attach a library you just installed, use the following syntax:**\n",
    "\n",
    "*library(PackageName, lib.loc=\"../work/\")*\n",
    "\n",
    "Make sure the file location is the same as the above code snippets *(\"../work/\")*\n",
    "\n",
    "\n"
   ]
  },
  {
   "cell_type": "markdown",
   "metadata": {
    "deletable": false,
    "editable": false,
    "nbgrader": {
     "grade": false,
     "locked": true,
     "solution": false
    }
   },
   "source": [
    "## Instructions for Q1. \n",
    "\n",
    "### For these questions, you will evaluate the difference in metrics between several different classes of customers. For Questions A-C, you will NOT use the columns ‘CPC’, ‘CTR’ or ‘CostPerConv_Total’, you will have to calculate the metrics yourself using the data provided.\n",
    "\n",
    "The data is in the file titled ‘kag.csv’."
   ]
  },
  {
   "cell_type": "code",
   "execution_count": 1,
   "metadata": {
    "deletable": false,
    "editable": false,
    "nbgrader": {
     "grade": false,
     "locked": true,
     "solution": false
    }
   },
   "outputs": [
    {
     "name": "stderr",
     "output_type": "stream",
     "text": [
      "\n",
      "Attaching package: ‘dplyr’\n",
      "\n",
      "\n",
      "The following objects are masked from ‘package:stats’:\n",
      "\n",
      "    filter, lag\n",
      "\n",
      "\n",
      "The following objects are masked from ‘package:base’:\n",
      "\n",
      "    intersect, setdiff, setequal, union\n",
      "\n",
      "\n"
     ]
    }
   ],
   "source": [
    "## Load the data and necessary library\n",
    "library(dplyr)\n",
    "library(ggplot2)\n",
    "kagData <- read.csv(\"../resource/asnlib/publicdata/kag.csv\", stringsAsFactors = FALSE)\n"
   ]
  },
  {
   "cell_type": "markdown",
   "metadata": {
    "deletable": false,
    "editable": false,
    "nbgrader": {
     "grade": false,
     "locked": true,
     "solution": false
    }
   },
   "source": [
    "### A. Calculate the total CPC and CTR for interest groups 22 and 102. Use only the ‘interest’, ‘Spent’, ‘Clicks’ and ‘Impressions’ columns for these calculations. (4 points)\n",
    "\n",
    "$ CPC = \\frac{total\\: amount\\: spent}{total\\: number\\: of\\: clicks}$\n",
    "\n",
    "$ CTR = \\frac{total\\: number\\: of\\: clicks}{total\\: number\\: of\\: impressions}$\n",
    "\n",
    "### Present your calculations in a table."
   ]
  },
  {
   "cell_type": "code",
   "execution_count": 2,
   "metadata": {
    "scrolled": true
   },
   "outputs": [
    {
     "data": {
      "text/html": [
       "<table>\n",
       "<caption>A data.frame: 6 × 14</caption>\n",
       "<thead>\n",
       "\t<tr><th></th><th scope=col>ad_id</th><th scope=col>campaign_id</th><th scope=col>age</th><th scope=col>gender</th><th scope=col>interest</th><th scope=col>Impressions</th><th scope=col>Clicks</th><th scope=col>Spent</th><th scope=col>Total_Conversion</th><th scope=col>Approved_Conversion</th><th scope=col>CTR</th><th scope=col>CPC</th><th scope=col>CostPerConv_Total</th><th scope=col>CostPerConv_Approved</th></tr>\n",
       "\t<tr><th></th><th scope=col>&lt;int&gt;</th><th scope=col>&lt;int&gt;</th><th scope=col>&lt;int&gt;</th><th scope=col>&lt;int&gt;</th><th scope=col>&lt;int&gt;</th><th scope=col>&lt;int&gt;</th><th scope=col>&lt;int&gt;</th><th scope=col>&lt;dbl&gt;</th><th scope=col>&lt;int&gt;</th><th scope=col>&lt;int&gt;</th><th scope=col>&lt;dbl&gt;</th><th scope=col>&lt;dbl&gt;</th><th scope=col>&lt;dbl&gt;</th><th scope=col>&lt;dbl&gt;</th></tr>\n",
       "</thead>\n",
       "<tbody>\n",
       "\t<tr><th scope=row>1</th><td>800000</td><td>619</td><td>32</td><td>1</td><td>2</td><td> 9080</td><td>1</td><td>2.60</td><td>4</td><td>2</td><td>0.01336005</td><td>1.1059387</td><td>0.65</td><td>1.300</td></tr>\n",
       "\t<tr><th scope=row>2</th><td>800001</td><td>619</td><td>32</td><td>1</td><td>2</td><td>18296</td><td>2</td><td>2.49</td><td>3</td><td>0</td><td>0.01117006</td><td>0.9309157</td><td>1.12</td><td>0.000</td></tr>\n",
       "\t<tr><th scope=row>3</th><td>800002</td><td>619</td><td>32</td><td>1</td><td>2</td><td> 3771</td><td>0</td><td>0.06</td><td>2</td><td>0</td><td>0.00000000</td><td>0.0000000</td><td>0.00</td><td>0.000</td></tr>\n",
       "\t<tr><th scope=row>4</th><td>800003</td><td>619</td><td>32</td><td>1</td><td>2</td><td> 5271</td><td>1</td><td>2.07</td><td>2</td><td>0</td><td>0.02300437</td><td>2.3269997</td><td>1.85</td><td>0.000</td></tr>\n",
       "\t<tr><th scope=row>5</th><td>800004</td><td>619</td><td>32</td><td>1</td><td>2</td><td> 7537</td><td>1</td><td>2.48</td><td>2</td><td>2</td><td>0.02374169</td><td>1.1944825</td><td>1.85</td><td>1.240</td></tr>\n",
       "\t<tr><th scope=row>6</th><td>800005</td><td>619</td><td>32</td><td>0</td><td>2</td><td> 6748</td><td>0</td><td>0.69</td><td>2</td><td>2</td><td>0.00000000</td><td>0.0000000</td><td>0.00</td><td>0.345</td></tr>\n",
       "</tbody>\n",
       "</table>\n"
      ],
      "text/latex": [
       "A data.frame: 6 × 14\n",
       "\\begin{tabular}{r|llllllllllllll}\n",
       "  & ad\\_id & campaign\\_id & age & gender & interest & Impressions & Clicks & Spent & Total\\_Conversion & Approved\\_Conversion & CTR & CPC & CostPerConv\\_Total & CostPerConv\\_Approved\\\\\n",
       "  & <int> & <int> & <int> & <int> & <int> & <int> & <int> & <dbl> & <int> & <int> & <dbl> & <dbl> & <dbl> & <dbl>\\\\\n",
       "\\hline\n",
       "\t1 & 800000 & 619 & 32 & 1 & 2 &  9080 & 1 & 2.60 & 4 & 2 & 0.01336005 & 1.1059387 & 0.65 & 1.300\\\\\n",
       "\t2 & 800001 & 619 & 32 & 1 & 2 & 18296 & 2 & 2.49 & 3 & 0 & 0.01117006 & 0.9309157 & 1.12 & 0.000\\\\\n",
       "\t3 & 800002 & 619 & 32 & 1 & 2 &  3771 & 0 & 0.06 & 2 & 0 & 0.00000000 & 0.0000000 & 0.00 & 0.000\\\\\n",
       "\t4 & 800003 & 619 & 32 & 1 & 2 &  5271 & 1 & 2.07 & 2 & 0 & 0.02300437 & 2.3269997 & 1.85 & 0.000\\\\\n",
       "\t5 & 800004 & 619 & 32 & 1 & 2 &  7537 & 1 & 2.48 & 2 & 2 & 0.02374169 & 1.1944825 & 1.85 & 1.240\\\\\n",
       "\t6 & 800005 & 619 & 32 & 0 & 2 &  6748 & 0 & 0.69 & 2 & 2 & 0.00000000 & 0.0000000 & 0.00 & 0.345\\\\\n",
       "\\end{tabular}\n"
      ],
      "text/markdown": [
       "\n",
       "A data.frame: 6 × 14\n",
       "\n",
       "| <!--/--> | ad_id &lt;int&gt; | campaign_id &lt;int&gt; | age &lt;int&gt; | gender &lt;int&gt; | interest &lt;int&gt; | Impressions &lt;int&gt; | Clicks &lt;int&gt; | Spent &lt;dbl&gt; | Total_Conversion &lt;int&gt; | Approved_Conversion &lt;int&gt; | CTR &lt;dbl&gt; | CPC &lt;dbl&gt; | CostPerConv_Total &lt;dbl&gt; | CostPerConv_Approved &lt;dbl&gt; |\n",
       "|---|---|---|---|---|---|---|---|---|---|---|---|---|---|---|\n",
       "| 1 | 800000 | 619 | 32 | 1 | 2 |  9080 | 1 | 2.60 | 4 | 2 | 0.01336005 | 1.1059387 | 0.65 | 1.300 |\n",
       "| 2 | 800001 | 619 | 32 | 1 | 2 | 18296 | 2 | 2.49 | 3 | 0 | 0.01117006 | 0.9309157 | 1.12 | 0.000 |\n",
       "| 3 | 800002 | 619 | 32 | 1 | 2 |  3771 | 0 | 0.06 | 2 | 0 | 0.00000000 | 0.0000000 | 0.00 | 0.000 |\n",
       "| 4 | 800003 | 619 | 32 | 1 | 2 |  5271 | 1 | 2.07 | 2 | 0 | 0.02300437 | 2.3269997 | 1.85 | 0.000 |\n",
       "| 5 | 800004 | 619 | 32 | 1 | 2 |  7537 | 1 | 2.48 | 2 | 2 | 0.02374169 | 1.1944825 | 1.85 | 1.240 |\n",
       "| 6 | 800005 | 619 | 32 | 0 | 2 |  6748 | 0 | 0.69 | 2 | 2 | 0.00000000 | 0.0000000 | 0.00 | 0.345 |\n",
       "\n"
      ],
      "text/plain": [
       "  ad_id  campaign_id age gender interest Impressions Clicks Spent\n",
       "1 800000 619         32  1      2         9080       1      2.60 \n",
       "2 800001 619         32  1      2        18296       2      2.49 \n",
       "3 800002 619         32  1      2         3771       0      0.06 \n",
       "4 800003 619         32  1      2         5271       1      2.07 \n",
       "5 800004 619         32  1      2         7537       1      2.48 \n",
       "6 800005 619         32  0      2         6748       0      0.69 \n",
       "  Total_Conversion Approved_Conversion CTR        CPC       CostPerConv_Total\n",
       "1 4                2                   0.01336005 1.1059387 0.65             \n",
       "2 3                0                   0.01117006 0.9309157 1.12             \n",
       "3 2                0                   0.00000000 0.0000000 0.00             \n",
       "4 2                0                   0.02300437 2.3269997 1.85             \n",
       "5 2                2                   0.02374169 1.1944825 1.85             \n",
       "6 2                2                   0.00000000 0.0000000 0.00             \n",
       "  CostPerConv_Approved\n",
       "1 1.300               \n",
       "2 0.000               \n",
       "3 0.000               \n",
       "4 0.000               \n",
       "5 1.240               \n",
       "6 0.345               "
      ]
     },
     "metadata": {},
     "output_type": "display_data"
    }
   ],
   "source": [
    "head(kagData)"
   ]
  },
  {
   "cell_type": "code",
   "execution_count": 3,
   "metadata": {
    "scrolled": true
   },
   "outputs": [
    {
     "data": {
      "text/html": [
       "<style>\n",
       ".list-inline {list-style: none; margin:0; padding: 0}\n",
       ".list-inline>li {display: inline-block}\n",
       ".list-inline>li:not(:last-child)::after {content: \"\\00b7\"; padding: 0 .5ex}\n",
       "</style>\n",
       "<ol class=list-inline><li>2</li><li>7</li><li>10</li><li>15</li><li>16</li><li>18</li><li>19</li><li>20</li><li>21</li><li>22</li><li>23</li><li>24</li><li>25</li><li>26</li><li>27</li><li>28</li><li>29</li><li>30</li><li>31</li><li>32</li><li>36</li><li>63</li><li>64</li><li>65</li><li>66</li><li>100</li><li>101</li><li>102</li><li>103</li><li>104</li><li>105</li><li>106</li><li>107</li><li>108</li><li>109</li><li>110</li><li>111</li><li>112</li><li>113</li><li>114</li></ol>\n"
      ],
      "text/latex": [
       "\\begin{enumerate*}\n",
       "\\item 2\n",
       "\\item 7\n",
       "\\item 10\n",
       "\\item 15\n",
       "\\item 16\n",
       "\\item 18\n",
       "\\item 19\n",
       "\\item 20\n",
       "\\item 21\n",
       "\\item 22\n",
       "\\item 23\n",
       "\\item 24\n",
       "\\item 25\n",
       "\\item 26\n",
       "\\item 27\n",
       "\\item 28\n",
       "\\item 29\n",
       "\\item 30\n",
       "\\item 31\n",
       "\\item 32\n",
       "\\item 36\n",
       "\\item 63\n",
       "\\item 64\n",
       "\\item 65\n",
       "\\item 66\n",
       "\\item 100\n",
       "\\item 101\n",
       "\\item 102\n",
       "\\item 103\n",
       "\\item 104\n",
       "\\item 105\n",
       "\\item 106\n",
       "\\item 107\n",
       "\\item 108\n",
       "\\item 109\n",
       "\\item 110\n",
       "\\item 111\n",
       "\\item 112\n",
       "\\item 113\n",
       "\\item 114\n",
       "\\end{enumerate*}\n"
      ],
      "text/markdown": [
       "1. 2\n",
       "2. 7\n",
       "3. 10\n",
       "4. 15\n",
       "5. 16\n",
       "6. 18\n",
       "7. 19\n",
       "8. 20\n",
       "9. 21\n",
       "10. 22\n",
       "11. 23\n",
       "12. 24\n",
       "13. 25\n",
       "14. 26\n",
       "15. 27\n",
       "16. 28\n",
       "17. 29\n",
       "18. 30\n",
       "19. 31\n",
       "20. 32\n",
       "21. 36\n",
       "22. 63\n",
       "23. 64\n",
       "24. 65\n",
       "25. 66\n",
       "26. 100\n",
       "27. 101\n",
       "28. 102\n",
       "29. 103\n",
       "30. 104\n",
       "31. 105\n",
       "32. 106\n",
       "33. 107\n",
       "34. 108\n",
       "35. 109\n",
       "36. 110\n",
       "37. 111\n",
       "38. 112\n",
       "39. 113\n",
       "40. 114\n",
       "\n",
       "\n"
      ],
      "text/plain": [
       " [1]   2   7  10  15  16  18  19  20  21  22  23  24  25  26  27  28  29  30  31\n",
       "[20]  32  36  63  64  65  66 100 101 102 103 104 105 106 107 108 109 110 111 112\n",
       "[39] 113 114"
      ]
     },
     "metadata": {},
     "output_type": "display_data"
    }
   ],
   "source": [
    "unique(kagData$interest)"
   ]
  },
  {
   "cell_type": "code",
   "execution_count": 4,
   "metadata": {
    "scrolled": true
   },
   "outputs": [
    {
     "data": {
      "text/html": [
       "<table>\n",
       "<caption>A data.frame: 6 × 4</caption>\n",
       "<thead>\n",
       "\t<tr><th></th><th scope=col>interest</th><th scope=col>Spent</th><th scope=col>Clicks</th><th scope=col>Impressions</th></tr>\n",
       "\t<tr><th></th><th scope=col>&lt;int&gt;</th><th scope=col>&lt;dbl&gt;</th><th scope=col>&lt;int&gt;</th><th scope=col>&lt;int&gt;</th></tr>\n",
       "</thead>\n",
       "<tbody>\n",
       "\t<tr><th scope=row>486</th><td>22</td><td> 2.31</td><td>1</td><td> 5399</td></tr>\n",
       "\t<tr><th scope=row>487</th><td>22</td><td>13.92</td><td>9</td><td>26138</td></tr>\n",
       "\t<tr><th scope=row>488</th><td>22</td><td> 0.01</td><td>0</td><td> 2290</td></tr>\n",
       "\t<tr><th scope=row>489</th><td>22</td><td> 0.56</td><td>0</td><td> 2609</td></tr>\n",
       "\t<tr><th scope=row>490</th><td>22</td><td> 0.81</td><td>0</td><td> 2763</td></tr>\n",
       "\t<tr><th scope=row>491</th><td>22</td><td> 1.86</td><td>1</td><td> 3812</td></tr>\n",
       "</tbody>\n",
       "</table>\n"
      ],
      "text/latex": [
       "A data.frame: 6 × 4\n",
       "\\begin{tabular}{r|llll}\n",
       "  & interest & Spent & Clicks & Impressions\\\\\n",
       "  & <int> & <dbl> & <int> & <int>\\\\\n",
       "\\hline\n",
       "\t486 & 22 &  2.31 & 1 &  5399\\\\\n",
       "\t487 & 22 & 13.92 & 9 & 26138\\\\\n",
       "\t488 & 22 &  0.01 & 0 &  2290\\\\\n",
       "\t489 & 22 &  0.56 & 0 &  2609\\\\\n",
       "\t490 & 22 &  0.81 & 0 &  2763\\\\\n",
       "\t491 & 22 &  1.86 & 1 &  3812\\\\\n",
       "\\end{tabular}\n"
      ],
      "text/markdown": [
       "\n",
       "A data.frame: 6 × 4\n",
       "\n",
       "| <!--/--> | interest &lt;int&gt; | Spent &lt;dbl&gt; | Clicks &lt;int&gt; | Impressions &lt;int&gt; |\n",
       "|---|---|---|---|---|\n",
       "| 486 | 22 |  2.31 | 1 |  5399 |\n",
       "| 487 | 22 | 13.92 | 9 | 26138 |\n",
       "| 488 | 22 |  0.01 | 0 |  2290 |\n",
       "| 489 | 22 |  0.56 | 0 |  2609 |\n",
       "| 490 | 22 |  0.81 | 0 |  2763 |\n",
       "| 491 | 22 |  1.86 | 1 |  3812 |\n",
       "\n"
      ],
      "text/plain": [
       "    interest Spent Clicks Impressions\n",
       "486 22        2.31 1       5399      \n",
       "487 22       13.92 9      26138      \n",
       "488 22        0.01 0       2290      \n",
       "489 22        0.56 0       2609      \n",
       "490 22        0.81 0       2763      \n",
       "491 22        1.86 1       3812      "
      ]
     },
     "metadata": {},
     "output_type": "display_data"
    }
   ],
   "source": [
    "# Selecting specific columns from the kagData dataframe\n",
    "newData <- kagData[kagData$interest %in% c(22, 102), c(\"interest\", \"Spent\", \"Clicks\", \"Impressions\")]\n",
    "\n",
    "head(newData)"
   ]
  },
  {
   "cell_type": "code",
   "execution_count": 5,
   "metadata": {},
   "outputs": [
    {
     "data": {
      "text/html": [
       "<style>\n",
       ".list-inline {list-style: none; margin:0; padding: 0}\n",
       ".list-inline>li {display: inline-block}\n",
       ".list-inline>li:not(:last-child)::after {content: \"\\00b7\"; padding: 0 .5ex}\n",
       "</style>\n",
       "<ol class=list-inline><li>22</li><li>102</li></ol>\n"
      ],
      "text/latex": [
       "\\begin{enumerate*}\n",
       "\\item 22\n",
       "\\item 102\n",
       "\\end{enumerate*}\n"
      ],
      "text/markdown": [
       "1. 22\n",
       "2. 102\n",
       "\n",
       "\n"
      ],
      "text/plain": [
       "[1]  22 102"
      ]
     },
     "metadata": {},
     "output_type": "display_data"
    }
   ],
   "source": [
    "unique(newData$interest)"
   ]
  },
  {
   "cell_type": "code",
   "execution_count": 6,
   "metadata": {
    "collapsed": true
   },
   "outputs": [],
   "source": [
    "# Filter rows with interest value of 22\n",
    "newData22 <- kagData[kagData$interest == 22, ]\n",
    "newData102 <- kagData[kagData$interest == 102, ]\n",
    "\n",
    "# CPC\n",
    "CPC22 <- sum(newData22$Spent)/sum(newData22$Clicks)\n",
    "CPC102 <- sum(newData102$Spent)/sum(newData102$Clicks)\n",
    "\n",
    "#CTR\n",
    "CTR22 <- sum(newData22$Clicks)/sum(newData22$Impressions)\n",
    "CTR102 <- sum(newData102$Clicks)/sum(newData102$Impressions) "
   ]
  },
  {
   "cell_type": "code",
   "execution_count": 7,
   "metadata": {
    "scrolled": true
   },
   "outputs": [
    {
     "name": "stdout",
     "output_type": "stream",
     "text": [
      "[1] \"CPC for Interest 22 1.83519230769231\"\n",
      "[1] \"CPC for Interest 102 1.48144\"\n",
      "[1] \"CTR for Interest 22 0.000218355280838484\"\n",
      "[1] \"CTR for Interest 102 0.000115959453153772\"\n"
     ]
    }
   ],
   "source": [
    "print(paste(\"CPC for Interest 22\", CPC22))\n",
    "\n",
    "print(paste(\"CPC for Interest 102\",CPC102))\n",
    "\n",
    "print(paste(\"CTR for Interest 22\",CTR22))\n",
    "\n",
    "print(paste(\"CTR for Interest 102\",CTR102))"
   ]
  },
  {
   "cell_type": "markdown",
   "metadata": {
    "deletable": false,
    "editable": false,
    "nbgrader": {
     "grade": false,
     "locked": true,
     "solution": false
    }
   },
   "source": [
    "### B. Four age groups are represented in the data [32-37), [37-42), [42-47) and [47-52). These groups are represented in the data by the first age in the range under the ‘age’ column. Group the data by age and calculate the total CPC and CPConv (using the ‘Total_Coversion’ column) for each group.\n",
    "\n",
    "### Present your calculations in a table. (4 points)"
   ]
  },
  {
   "cell_type": "code",
   "execution_count": 8,
   "metadata": {
    "collapsed": true
   },
   "outputs": [],
   "source": [
    "kagdata3237 <- kagData[kagData$age >= 32 & kagData$age < 37, ]\n",
    "\n",
    "kagdata3742 <- kagData[kagData$age >= 37 & kagData$age < 42, ]\n",
    "\n",
    "kagdata4247 <- kagData[kagData$age >= 42 & kagData$age < 47, ]\n",
    "\n",
    "kagdata4752 <- kagData[kagData$age >= 47 & kagData$age < 52, ]"
   ]
  },
  {
   "cell_type": "code",
   "execution_count": 12,
   "metadata": {
    "scrolled": true
   },
   "outputs": [
    {
     "name": "stdout",
     "output_type": "stream",
     "text": [
      "[1] \"CPC for 32 to 37 Y.O. 501.794104804\"\n",
      "[1] \"CPC for 37 to 42 Y.O. 347.977154809\"\n",
      "[1] \"CPC for 42 to 47 Y.O. 299.674611128\"\n",
      "[1] \"CPC for 47 to 52 Y.O. 362.773700338\"\n"
     ]
    }
   ],
   "source": [
    "print(paste(\"CPC for 32 to 37 Y.O.\", sum(kagdata3237$CPC)))\n",
    "\n",
    "print(paste(\"CPC for 37 to 42 Y.O.\", sum(kagdata3742$CPC)))\n",
    "\n",
    "print(paste(\"CPC for 42 to 47 Y.O.\", sum(kagdata4247$CPC)))\n",
    "\n",
    "print(paste(\"CPC for 47 to 52 Y.O.\", sum(kagdata4752$CPC)))"
   ]
  },
  {
   "cell_type": "code",
   "execution_count": 13,
   "metadata": {},
   "outputs": [
    {
     "name": "stdout",
     "output_type": "stream",
     "text": [
      "[1] \"CPConv for 32 to 37 Y.O. 2332\"\n",
      "[1] \"CPConv for 37 to 42 Y.O. 1069\"\n",
      "[1] \"CPConv for 42 to 47 Y.O. 895\"\n",
      "[1] \"CPConv for 47 to 52 Y.O. 1165\"\n"
     ]
    }
   ],
   "source": [
    "print(paste(\"CPConv for 32 to 37 Y.O.\", sum(kagdata3237$Total_Conversion)))\n",
    "\n",
    "print(paste(\"CPConv for 37 to 42 Y.O.\", sum(kagdata3742$Total_Conversion)))\n",
    "\n",
    "print(paste(\"CPConv for 42 to 47 Y.O.\", sum(kagdata4247$Total_Conversion)))\n",
    "\n",
    "print(paste(\"CPConv for 47 to 52 Y.O.\", sum(kagdata4752$Total_Conversion)))"
   ]
  },
  {
   "cell_type": "markdown",
   "metadata": {
    "deletable": false,
    "editable": false,
    "nbgrader": {
     "grade": false,
     "locked": true,
     "solution": false
    }
   },
   "source": [
    "### C. For this question, use the ‘CPC’ and ‘CTR’ data provided in the original data set. Create a box and whiskers plot for CPC and CTR values sorted by age group. You may do this on one or two graphs, but data must be presented clearly. (4 points)"
   ]
  },
  {
   "cell_type": "code",
   "execution_count": 17,
   "metadata": {},
   "outputs": [
    {
     "data": {
      "image/png": "[encoded data removed]",
      "text/plain": [
       "Plot with title “Box and Whisker Plot for 47 to 52 CPC”"
      ]
     },
     "metadata": {
      "image/png": {
       "height": 420,
       "width": 420
      }
     },
     "output_type": "display_data"
    }
   ],
   "source": [
    "par(mfrow = c(2, 2))\n",
    "\n",
    "boxplot(kagdata3237$CPC, main = \"Box and Whisker Plot for 32 to 37 CPC\", ylab = \"CPC Values\")\n",
    "\n",
    "boxplot(kagdata3742$CPC, main = \"Box and Whisker Plot for 37 to 42 CPC\", ylab = \"CPC Values\")\n",
    "\n",
    "boxplot(kagdata4247$CPC, main = \"Box and Whisker Plot for 42 to 47 CPC\", ylab = \"CPC Values\")\n",
    "\n",
    "boxplot(kagdata4752$CPC, main = \"Box and Whisker Plot for 47 to 52 CPC\", ylab = \"CPC Values\")"
   ]
  },
  {
   "cell_type": "code",
   "execution_count": 36,
   "metadata": {},
   "outputs": [
    {
     "data": {
      "image/png": "[encoded data removed]",
      "text/plain": [
       "Plot with title “Box and Whisker Plot for 47 to 52 CTR”"
      ]
     },
     "metadata": {
      "image/png": {
       "height": 420,
       "width": 420
      }
     },
     "output_type": "display_data"
    }
   ],
   "source": [
    "par(mfrow = c(2, 2))\n",
    "\n",
    "boxplot(kagdata3237$CTR, main = \"Box and Whisker Plot for 32 to 37 CTR\", ylab = \"CTR Values\")\n",
    "\n",
    "boxplot(kagdata3742$CTR, main = \"Box and Whisker Plot for 37 to 42 CTR\", ylab = \"CTR Values\")\n",
    "\n",
    "boxplot(kagdata4247$CTR, main = \"Box and Whisker Plot for 42 to 47 CTR\", ylab = \"CTR Values\")\n",
    "\n",
    "boxplot(kagdata4752$CTR, main = \"Box and Whisker Plot for 47 to 52 CTR\", ylab = \"CTR Values\")"
   ]
  },
  {
   "cell_type": "markdown",
   "metadata": {
    "deletable": false,
    "editable": false,
    "nbgrader": {
     "grade": false,
     "locked": true,
     "solution": false
    }
   },
   "source": [
    "### D. Based on the data calculated in Q2 and the variance and outliers displayed in the graphs created above, what recommendations could be made based on this data. (Short answer only, no more than 3-4 sentences.) (2 points)"
   ]
  },
  {
   "cell_type": "markdown",
   "metadata": {
    "collapsed": true
   },
   "source": [
    "**Recommendations**\n",
    "\n",
    "Optimal CPC is 1.5 - set advertising budget based on this value\n",
    "\n",
    "CTR is around 0.01 to 0.02"
   ]
  },
  {
   "cell_type": "markdown",
   "metadata": {},
   "source": [
    "---"
   ]
  },
  {
   "cell_type": "markdown",
   "metadata": {
    "deletable": false,
    "editable": false,
    "nbgrader": {
     "grade": false,
     "locked": true,
     "solution": false
    }
   },
   "source": [
    "## Instructions for Q2:\n",
    "\n",
    "### Use the advertising.csv dataset and the following setup instructions to solve the questions.  "
   ]
  },
  {
   "cell_type": "code",
   "execution_count": 19,
   "metadata": {
    "deletable": false,
    "editable": false,
    "nbgrader": {
     "grade": false,
     "locked": true,
     "solution": false
    }
   },
   "outputs": [
    {
     "name": "stderr",
     "output_type": "stream",
     "text": [
      "Type 'citation(\"pROC\")' for a citation.\n",
      "\n",
      "\n",
      "Attaching package: ‘pROC’\n",
      "\n",
      "\n",
      "The following objects are masked from ‘package:stats’:\n",
      "\n",
      "    cov, smooth, var\n",
      "\n",
      "\n",
      "Loading required package: lattice\n",
      "\n"
     ]
    },
    {
     "data": {
      "text/html": [
       "<table>\n",
       "<caption>A data.frame: 6 × 10</caption>\n",
       "<thead>\n",
       "\t<tr><th></th><th scope=col>Daily.Time.Spent.on.Site</th><th scope=col>Age</th><th scope=col>Area.Income</th><th scope=col>Daily.Internet.Usage</th><th scope=col>Ad.Topic.Line</th><th scope=col>City</th><th scope=col>Male</th><th scope=col>Country</th><th scope=col>Timestamp</th><th scope=col>Clicked.on.Ad</th></tr>\n",
       "\t<tr><th></th><th scope=col>&lt;dbl&gt;</th><th scope=col>&lt;int&gt;</th><th scope=col>&lt;dbl&gt;</th><th scope=col>&lt;dbl&gt;</th><th scope=col>&lt;chr&gt;</th><th scope=col>&lt;chr&gt;</th><th scope=col>&lt;int&gt;</th><th scope=col>&lt;chr&gt;</th><th scope=col>&lt;chr&gt;</th><th scope=col>&lt;fct&gt;</th></tr>\n",
       "</thead>\n",
       "<tbody>\n",
       "\t<tr><th scope=row>1</th><td>69.78980</td><td>29</td><td>58500.71</td><td>260.9635</td><td>Cloned 5thgeneration orchestration   </td><td>Wrightburgh   </td><td>1</td><td>Tunisia   </td><td>3/27/2016 0:53 </td><td>1</td></tr>\n",
       "\t<tr><th scope=row>2</th><td>81.70262</td><td>57</td><td>65138.24</td><td>203.8350</td><td>Monitored national standardization   </td><td>West Jodi     </td><td>1</td><td>Nauru     </td><td>4/4/2016 1:39  </td><td>1</td></tr>\n",
       "\t<tr><th scope=row>3</th><td>69.69346</td><td>57</td><td>59403.66</td><td>248.9641</td><td>Organic bottom-line service-desk     </td><td>Davidton      </td><td>1</td><td>San Marino</td><td>3/13/2016 20:35</td><td>1</td></tr>\n",
       "\t<tr><th scope=row>4</th><td>75.53727</td><td>33</td><td>54308.89</td><td>251.0028</td><td>Triple-buffered reciprocal time-frame</td><td>West Terrifurt</td><td>1</td><td>Italy     </td><td>1/10/2016 2:31 </td><td>1</td></tr>\n",
       "\t<tr><th scope=row>5</th><td>69.26679</td><td>30</td><td>72738.54</td><td>234.0430</td><td>Robust logistical utilization        </td><td>South Manuel  </td><td>1</td><td>Iceland   </td><td>6/3/2016 3:36  </td><td>1</td></tr>\n",
       "\t<tr><th scope=row>6</th><td>61.87441</td><td>28</td><td>59741.26</td><td>231.7855</td><td>Sharable client-driven software      </td><td>Jamieberg     </td><td>1</td><td>Norway    </td><td>5/19/2016 14:30</td><td>1</td></tr>\n",
       "</tbody>\n",
       "</table>\n"
      ],
      "text/latex": [
       "A data.frame: 6 × 10\n",
       "\\begin{tabular}{r|llllllllll}\n",
       "  & Daily.Time.Spent.on.Site & Age & Area.Income & Daily.Internet.Usage & Ad.Topic.Line & City & Male & Country & Timestamp & Clicked.on.Ad\\\\\n",
       "  & <dbl> & <int> & <dbl> & <dbl> & <chr> & <chr> & <int> & <chr> & <chr> & <fct>\\\\\n",
       "\\hline\n",
       "\t1 & 69.78980 & 29 & 58500.71 & 260.9635 & Cloned 5thgeneration orchestration    & Wrightburgh    & 1 & Tunisia    & 3/27/2016 0:53  & 1\\\\\n",
       "\t2 & 81.70262 & 57 & 65138.24 & 203.8350 & Monitored national standardization    & West Jodi      & 1 & Nauru      & 4/4/2016 1:39   & 1\\\\\n",
       "\t3 & 69.69346 & 57 & 59403.66 & 248.9641 & Organic bottom-line service-desk      & Davidton       & 1 & San Marino & 3/13/2016 20:35 & 1\\\\\n",
       "\t4 & 75.53727 & 33 & 54308.89 & 251.0028 & Triple-buffered reciprocal time-frame & West Terrifurt & 1 & Italy      & 1/10/2016 2:31  & 1\\\\\n",
       "\t5 & 69.26679 & 30 & 72738.54 & 234.0430 & Robust logistical utilization         & South Manuel   & 1 & Iceland    & 6/3/2016 3:36   & 1\\\\\n",
       "\t6 & 61.87441 & 28 & 59741.26 & 231.7855 & Sharable client-driven software       & Jamieberg      & 1 & Norway     & 5/19/2016 14:30 & 1\\\\\n",
       "\\end{tabular}\n"
      ],
      "text/markdown": [
       "\n",
       "A data.frame: 6 × 10\n",
       "\n",
       "| <!--/--> | Daily.Time.Spent.on.Site &lt;dbl&gt; | Age &lt;int&gt; | Area.Income &lt;dbl&gt; | Daily.Internet.Usage &lt;dbl&gt; | Ad.Topic.Line &lt;chr&gt; | City &lt;chr&gt; | Male &lt;int&gt; | Country &lt;chr&gt; | Timestamp &lt;chr&gt; | Clicked.on.Ad &lt;fct&gt; |\n",
       "|---|---|---|---|---|---|---|---|---|---|---|\n",
       "| 1 | 69.78980 | 29 | 58500.71 | 260.9635 | Cloned 5thgeneration orchestration    | Wrightburgh    | 1 | Tunisia    | 3/27/2016 0:53  | 1 |\n",
       "| 2 | 81.70262 | 57 | 65138.24 | 203.8350 | Monitored national standardization    | West Jodi      | 1 | Nauru      | 4/4/2016 1:39   | 1 |\n",
       "| 3 | 69.69346 | 57 | 59403.66 | 248.9641 | Organic bottom-line service-desk      | Davidton       | 1 | San Marino | 3/13/2016 20:35 | 1 |\n",
       "| 4 | 75.53727 | 33 | 54308.89 | 251.0028 | Triple-buffered reciprocal time-frame | West Terrifurt | 1 | Italy      | 1/10/2016 2:31  | 1 |\n",
       "| 5 | 69.26679 | 30 | 72738.54 | 234.0430 | Robust logistical utilization         | South Manuel   | 1 | Iceland    | 6/3/2016 3:36   | 1 |\n",
       "| 6 | 61.87441 | 28 | 59741.26 | 231.7855 | Sharable client-driven software       | Jamieberg      | 1 | Norway     | 5/19/2016 14:30 | 1 |\n",
       "\n"
      ],
      "text/plain": [
       "  Daily.Time.Spent.on.Site Age Area.Income Daily.Internet.Usage\n",
       "1 69.78980                 29  58500.71    260.9635            \n",
       "2 81.70262                 57  65138.24    203.8350            \n",
       "3 69.69346                 57  59403.66    248.9641            \n",
       "4 75.53727                 33  54308.89    251.0028            \n",
       "5 69.26679                 30  72738.54    234.0430            \n",
       "6 61.87441                 28  59741.26    231.7855            \n",
       "  Ad.Topic.Line                         City           Male Country   \n",
       "1 Cloned 5thgeneration orchestration    Wrightburgh    1    Tunisia   \n",
       "2 Monitored national standardization    West Jodi      1    Nauru     \n",
       "3 Organic bottom-line service-desk      Davidton       1    San Marino\n",
       "4 Triple-buffered reciprocal time-frame West Terrifurt 1    Italy     \n",
       "5 Robust logistical utilization         South Manuel   1    Iceland   \n",
       "6 Sharable client-driven software       Jamieberg      1    Norway    \n",
       "  Timestamp       Clicked.on.Ad\n",
       "1 3/27/2016 0:53  1            \n",
       "2 4/4/2016 1:39   1            \n",
       "3 3/13/2016 20:35 1            \n",
       "4 1/10/2016 2:31  1            \n",
       "5 6/3/2016 3:36   1            \n",
       "6 5/19/2016 14:30 1            "
      ]
     },
     "metadata": {},
     "output_type": "display_data"
    }
   ],
   "source": [
    "# Load necessary library and data\n",
    "\n",
    "library(pROC) \n",
    "library(caret)\n",
    "\n",
    "advertising <- read.csv(\"../resource/asnlib/publicdata/advertising.csv\", header = TRUE, stringsAsFactors = FALSE)\n",
    "\n",
    "# Transform the \"Clicked_on_ad\" column into a factor variable\n",
    "advertising$Clicked.on.Ad <- as.factor(advertising$Clicked.on.Ad)\n",
    "\n",
    "# show the top rows of the dataframe\n",
    "head(advertising)"
   ]
  },
  {
   "cell_type": "markdown",
   "metadata": {
    "deletable": false,
    "editable": false,
    "nbgrader": {
     "grade": false,
     "locked": true,
     "solution": false
    }
   },
   "source": [
    "### A. Make a scatter plot for 'Daily.Internet.Usage' against 'Age'. Separate the datapoints by different shapes and/or color based on if the datapoint has clicked on the ad or not. (Clicked.on.Ad=0 means no, and Clicked.on.Ad=1 means yes). Based off the general trends in the scatter plot you created, consider a new data point where an individual has a 'Daily.Internet.Usage' less than or equal to 150, and an age of 40. Would this new individual be likely to click the ad or not click the ad? (6 Points)"
   ]
  },
  {
   "cell_type": "code",
   "execution_count": 20,
   "metadata": {},
   "outputs": [
    {
     "data": {
      "text/html": [
       "<style>\n",
       ".list-inline {list-style: none; margin:0; padding: 0}\n",
       ".list-inline>li {display: inline-block}\n",
       ".list-inline>li:not(:last-child)::after {content: \"\\00b7\"; padding: 0 .5ex}\n",
       "</style>\n",
       "<ol class=list-inline><li>1</li><li>0</li></ol>\n",
       "\n",
       "<details>\n",
       "\t<summary style=display:list-item;cursor:pointer>\n",
       "\t\t<strong>Levels</strong>:\n",
       "\t</summary>\n",
       "\t<style>\n",
       "\t.list-inline {list-style: none; margin:0; padding: 0}\n",
       "\t.list-inline>li {display: inline-block}\n",
       "\t.list-inline>li:not(:last-child)::after {content: \"\\00b7\"; padding: 0 .5ex}\n",
       "\t</style>\n",
       "\t<ol class=list-inline><li>'0'</li><li>'1'</li></ol>\n",
       "</details>"
      ],
      "text/latex": [
       "\\begin{enumerate*}\n",
       "\\item 1\n",
       "\\item 0\n",
       "\\end{enumerate*}\n",
       "\n",
       "\\emph{Levels}: \\begin{enumerate*}\n",
       "\\item '0'\n",
       "\\item '1'\n",
       "\\end{enumerate*}\n"
      ],
      "text/markdown": [
       "1. 1\n",
       "2. 0\n",
       "\n",
       "\n",
       "\n",
       "**Levels**: 1. '0'\n",
       "2. '1'\n",
       "\n",
       "\n"
      ],
      "text/plain": [
       "[1] 1 0\n",
       "Levels: 0 1"
      ]
     },
     "metadata": {},
     "output_type": "display_data"
    }
   ],
   "source": [
    "unique(advertising$Clicked.on.Ad)"
   ]
  },
  {
   "cell_type": "code",
   "execution_count": 22,
   "metadata": {},
   "outputs": [
    {
     "data": {
      "image/png": "[encoded data removed]",
      "text/plain": [
       "Plot with title “Scatter Plot”"
      ]
     },
     "metadata": {
      "image/png": {
       "height": 420,
       "width": 420
      }
     },
     "output_type": "display_data"
    }
   ],
   "source": [
    "plot(advertising$Age, advertising$Daily.Internet.Usage, \n",
    "     pch = ifelse(advertising$Clicked.on.Ad == 1, 19, 4),\n",
    "     main = \"Scatter Plot\", xlab = \"Age\", ylab = \"Daily Internet Usage\")\n",
    "\n",
    "legend(\"topright\", legend = c(\"Clicked\", \"Not Clicked\"),\n",
    "       pch = c(19, 4), col = c(\"black\", \"black\"),\n",
    "       title = \"Clicked on Ad?\")"
   ]
  },
  {
   "cell_type": "markdown",
   "metadata": {},
   "source": [
    "The scatterplot shows that there seems to be a clear pattern in the data. It seems like if a person's Daily Internet Usage is less than 175 that it is likely that the ad will not be clicked.\n",
    "\n",
    "So if we consider a new data point where an individual has a 'Daily.Internet.Usage' less than or equal to 150, and an age of 40, it is likely that the ad **will not be clicked**."
   ]
  },
  {
   "cell_type": "markdown",
   "metadata": {
    "deletable": false,
    "editable": false,
    "nbgrader": {
     "grade": false,
     "locked": true,
     "solution": false
    }
   },
   "source": [
    "### B. Create a logistic regression model using the variables 'Daily.Time.Spent.on.Site', 'Age', and 'Area.Income' to predict the variable 'Clicked.on.Ad'. Display the summary output of this logistic regression model. \n",
    "\n",
    "### Now, test the model on the full original dataset. \n",
    "\n",
    "- Use type = ”response” to insure we get the predicted probabilities of clicking the advert \n",
    "\n",
    "- Append the predicted probabilities to a new column in the original dataset or simply to a new data frame. The choice is up to you, but ensure you know how to reference this column of probabilities. \n",
    "\n",
    "### Using a threshold of 80% (0.8), create a new column in the original dataset that represents if the model predicts a click or not for that person. Note this means probabilities greater than or equal to 80% should be treated as a click prediction. Using the caret package, create a confusion matrix for the model predictions and actual clicks. Make sure the positive case in your confusion matrix is set to 1, to get the correct answer and full credit. Print and/or plot this output.\n",
    "\n",
    "### Also, idenify how many false negative occurrences are in the dataset. Recall false negative means the instances where the model predicts the case to be false when in reality it is true. For this example, this refers to cases where the ad is clicked but the model predicts that it isn’t. (7 Points)"
   ]
  },
  {
   "cell_type": "markdown",
   "metadata": {},
   "source": [
    "## Logistic Regression Model"
   ]
  },
  {
   "cell_type": "code",
   "execution_count": 23,
   "metadata": {},
   "outputs": [
    {
     "data": {
      "text/plain": [
       "\n",
       "Call:\n",
       "glm(formula = Clicked.on.Ad ~ Daily.Time.Spent.on.Site + Age + \n",
       "    Area.Income, family = binomial, data = advertising)\n",
       "\n",
       "Deviance Residuals: \n",
       "    Min       1Q   Median       3Q      Max  \n",
       "-2.2053  -0.7763   0.4862   0.6723   2.4423  \n",
       "\n",
       "Coefficients:\n",
       "                           Estimate Std. Error z value Pr(>|z|)    \n",
       "(Intercept)              -6.832e+00  5.387e-01 -12.681  < 2e-16 ***\n",
       "Daily.Time.Spent.on.Site  7.591e-02  5.622e-03  13.501  < 2e-16 ***\n",
       "Age                      -8.349e-04  6.919e-03  -0.121    0.904    \n",
       "Area.Income               4.177e-05  6.101e-06   6.846 7.62e-12 ***\n",
       "---\n",
       "Signif. codes:  0 ‘***’ 0.001 ‘**’ 0.01 ‘*’ 0.05 ‘.’ 0.1 ‘ ’ 1\n",
       "\n",
       "(Dispersion parameter for binomial family taken to be 1)\n",
       "\n",
       "    Null deviance: 1366.1  on 999  degrees of freedom\n",
       "Residual deviance:  991.3  on 996  degrees of freedom\n",
       "AIC: 999.3\n",
       "\n",
       "Number of Fisher Scoring iterations: 4\n"
      ]
     },
     "metadata": {},
     "output_type": "display_data"
    }
   ],
   "source": [
    "# Create a logistic regression model\n",
    "model <- glm(Clicked.on.Ad ~ Daily.Time.Spent.on.Site + Age + Area.Income, data = advertising, family = binomial)\n",
    "\n",
    "# Display the summary output\n",
    "summary(model)"
   ]
  },
  {
   "cell_type": "markdown",
   "metadata": {},
   "source": [
    "### Model Test"
   ]
  },
  {
   "cell_type": "code",
   "execution_count": 25,
   "metadata": {
    "collapsed": true
   },
   "outputs": [],
   "source": [
    "# Test the model on the full original dataset\n",
    "predicted_probs <- predict(model, newdata = advertising, type = \"response\")\n",
    "\n",
    "# Append the predicted probabilities to a new column in the original dataset\n",
    "advertising$Predicted_Probabilities <- predicted_probs"
   ]
  },
  {
   "cell_type": "code",
   "execution_count": 26,
   "metadata": {},
   "outputs": [
    {
     "data": {
      "text/html": [
       "<table>\n",
       "<caption>A data.frame: 6 × 11</caption>\n",
       "<thead>\n",
       "\t<tr><th></th><th scope=col>Daily.Time.Spent.on.Site</th><th scope=col>Age</th><th scope=col>Area.Income</th><th scope=col>Daily.Internet.Usage</th><th scope=col>Ad.Topic.Line</th><th scope=col>City</th><th scope=col>Male</th><th scope=col>Country</th><th scope=col>Timestamp</th><th scope=col>Clicked.on.Ad</th><th scope=col>Predicted_Probabilities</th></tr>\n",
       "\t<tr><th></th><th scope=col>&lt;dbl&gt;</th><th scope=col>&lt;int&gt;</th><th scope=col>&lt;dbl&gt;</th><th scope=col>&lt;dbl&gt;</th><th scope=col>&lt;chr&gt;</th><th scope=col>&lt;chr&gt;</th><th scope=col>&lt;int&gt;</th><th scope=col>&lt;chr&gt;</th><th scope=col>&lt;chr&gt;</th><th scope=col>&lt;fct&gt;</th><th scope=col>&lt;dbl&gt;</th></tr>\n",
       "</thead>\n",
       "<tbody>\n",
       "\t<tr><th scope=row>1</th><td>69.78980</td><td>29</td><td>58500.71</td><td>260.9635</td><td>Cloned 5thgeneration orchestration   </td><td>Wrightburgh   </td><td>1</td><td>Tunisia   </td><td>3/27/2016 0:53 </td><td>1</td><td>0.7079076</td></tr>\n",
       "\t<tr><th scope=row>2</th><td>81.70262</td><td>57</td><td>65138.24</td><td>203.8350</td><td>Monitored national standardization   </td><td>West Jodi     </td><td>1</td><td>Nauru     </td><td>4/4/2016 1:39  </td><td>1</td><td>0.8852758</td></tr>\n",
       "\t<tr><th scope=row>3</th><td>69.69346</td><td>57</td><td>59403.66</td><td>248.9641</td><td>Organic bottom-line service-desk     </td><td>Davidton      </td><td>1</td><td>San Marino</td><td>3/13/2016 20:35</td><td>1</td><td>0.7093578</td></tr>\n",
       "\t<tr><th scope=row>4</th><td>75.53727</td><td>33</td><td>54308.89</td><td>251.0028</td><td>Triple-buffered reciprocal time-frame</td><td>West Terrifurt</td><td>1</td><td>Italy     </td><td>1/10/2016 2:31 </td><td>1</td><td>0.7582471</td></tr>\n",
       "\t<tr><th scope=row>5</th><td>69.26679</td><td>30</td><td>72738.54</td><td>234.0430</td><td>Robust logistical utilization        </td><td>South Manuel  </td><td>1</td><td>Iceland   </td><td>6/3/2016 3:36  </td><td>1</td><td>0.8083605</td></tr>\n",
       "\t<tr><th scope=row>6</th><td>61.87441</td><td>28</td><td>59741.26</td><td>231.7855</td><td>Sharable client-driven software      </td><td>Jamieberg     </td><td>1</td><td>Norway    </td><td>5/19/2016 14:30</td><td>1</td><td>0.5834762</td></tr>\n",
       "</tbody>\n",
       "</table>\n"
      ],
      "text/latex": [
       "A data.frame: 6 × 11\n",
       "\\begin{tabular}{r|lllllllllll}\n",
       "  & Daily.Time.Spent.on.Site & Age & Area.Income & Daily.Internet.Usage & Ad.Topic.Line & City & Male & Country & Timestamp & Clicked.on.Ad & Predicted\\_Probabilities\\\\\n",
       "  & <dbl> & <int> & <dbl> & <dbl> & <chr> & <chr> & <int> & <chr> & <chr> & <fct> & <dbl>\\\\\n",
       "\\hline\n",
       "\t1 & 69.78980 & 29 & 58500.71 & 260.9635 & Cloned 5thgeneration orchestration    & Wrightburgh    & 1 & Tunisia    & 3/27/2016 0:53  & 1 & 0.7079076\\\\\n",
       "\t2 & 81.70262 & 57 & 65138.24 & 203.8350 & Monitored national standardization    & West Jodi      & 1 & Nauru      & 4/4/2016 1:39   & 1 & 0.8852758\\\\\n",
       "\t3 & 69.69346 & 57 & 59403.66 & 248.9641 & Organic bottom-line service-desk      & Davidton       & 1 & San Marino & 3/13/2016 20:35 & 1 & 0.7093578\\\\\n",
       "\t4 & 75.53727 & 33 & 54308.89 & 251.0028 & Triple-buffered reciprocal time-frame & West Terrifurt & 1 & Italy      & 1/10/2016 2:31  & 1 & 0.7582471\\\\\n",
       "\t5 & 69.26679 & 30 & 72738.54 & 234.0430 & Robust logistical utilization         & South Manuel   & 1 & Iceland    & 6/3/2016 3:36   & 1 & 0.8083605\\\\\n",
       "\t6 & 61.87441 & 28 & 59741.26 & 231.7855 & Sharable client-driven software       & Jamieberg      & 1 & Norway     & 5/19/2016 14:30 & 1 & 0.5834762\\\\\n",
       "\\end{tabular}\n"
      ],
      "text/markdown": [
       "\n",
       "A data.frame: 6 × 11\n",
       "\n",
       "| <!--/--> | Daily.Time.Spent.on.Site &lt;dbl&gt; | Age &lt;int&gt; | Area.Income &lt;dbl&gt; | Daily.Internet.Usage &lt;dbl&gt; | Ad.Topic.Line &lt;chr&gt; | City &lt;chr&gt; | Male &lt;int&gt; | Country &lt;chr&gt; | Timestamp &lt;chr&gt; | Clicked.on.Ad &lt;fct&gt; | Predicted_Probabilities &lt;dbl&gt; |\n",
       "|---|---|---|---|---|---|---|---|---|---|---|---|\n",
       "| 1 | 69.78980 | 29 | 58500.71 | 260.9635 | Cloned 5thgeneration orchestration    | Wrightburgh    | 1 | Tunisia    | 3/27/2016 0:53  | 1 | 0.7079076 |\n",
       "| 2 | 81.70262 | 57 | 65138.24 | 203.8350 | Monitored national standardization    | West Jodi      | 1 | Nauru      | 4/4/2016 1:39   | 1 | 0.8852758 |\n",
       "| 3 | 69.69346 | 57 | 59403.66 | 248.9641 | Organic bottom-line service-desk      | Davidton       | 1 | San Marino | 3/13/2016 20:35 | 1 | 0.7093578 |\n",
       "| 4 | 75.53727 | 33 | 54308.89 | 251.0028 | Triple-buffered reciprocal time-frame | West Terrifurt | 1 | Italy      | 1/10/2016 2:31  | 1 | 0.7582471 |\n",
       "| 5 | 69.26679 | 30 | 72738.54 | 234.0430 | Robust logistical utilization         | South Manuel   | 1 | Iceland    | 6/3/2016 3:36   | 1 | 0.8083605 |\n",
       "| 6 | 61.87441 | 28 | 59741.26 | 231.7855 | Sharable client-driven software       | Jamieberg      | 1 | Norway     | 5/19/2016 14:30 | 1 | 0.5834762 |\n",
       "\n"
      ],
      "text/plain": [
       "  Daily.Time.Spent.on.Site Age Area.Income Daily.Internet.Usage\n",
       "1 69.78980                 29  58500.71    260.9635            \n",
       "2 81.70262                 57  65138.24    203.8350            \n",
       "3 69.69346                 57  59403.66    248.9641            \n",
       "4 75.53727                 33  54308.89    251.0028            \n",
       "5 69.26679                 30  72738.54    234.0430            \n",
       "6 61.87441                 28  59741.26    231.7855            \n",
       "  Ad.Topic.Line                         City           Male Country   \n",
       "1 Cloned 5thgeneration orchestration    Wrightburgh    1    Tunisia   \n",
       "2 Monitored national standardization    West Jodi      1    Nauru     \n",
       "3 Organic bottom-line service-desk      Davidton       1    San Marino\n",
       "4 Triple-buffered reciprocal time-frame West Terrifurt 1    Italy     \n",
       "5 Robust logistical utilization         South Manuel   1    Iceland   \n",
       "6 Sharable client-driven software       Jamieberg      1    Norway    \n",
       "  Timestamp       Clicked.on.Ad Predicted_Probabilities\n",
       "1 3/27/2016 0:53  1             0.7079076              \n",
       "2 4/4/2016 1:39   1             0.8852758              \n",
       "3 3/13/2016 20:35 1             0.7093578              \n",
       "4 1/10/2016 2:31  1             0.7582471              \n",
       "5 6/3/2016 3:36   1             0.8083605              \n",
       "6 5/19/2016 14:30 1             0.5834762              "
      ]
     },
     "metadata": {},
     "output_type": "display_data"
    }
   ],
   "source": [
    "head(advertising)"
   ]
  },
  {
   "cell_type": "markdown",
   "metadata": {},
   "source": [
    "### Threshold 80%"
   ]
  },
  {
   "cell_type": "code",
   "execution_count": 27,
   "metadata": {
    "collapsed": true
   },
   "outputs": [],
   "source": [
    "# Create a new column for click prediction based on the threshold\n",
    "advertising$Click_Prediction <- ifelse(advertising$Predicted_Probabilities >= 0.8, 1, 0)"
   ]
  },
  {
   "cell_type": "code",
   "execution_count": 28,
   "metadata": {
    "scrolled": false
   },
   "outputs": [
    {
     "data": {
      "text/html": [
       "<table>\n",
       "<caption>A data.frame: 6 × 12</caption>\n",
       "<thead>\n",
       "\t<tr><th></th><th scope=col>Daily.Time.Spent.on.Site</th><th scope=col>Age</th><th scope=col>Area.Income</th><th scope=col>Daily.Internet.Usage</th><th scope=col>Ad.Topic.Line</th><th scope=col>City</th><th scope=col>Male</th><th scope=col>Country</th><th scope=col>Timestamp</th><th scope=col>Clicked.on.Ad</th><th scope=col>Predicted_Probabilities</th><th scope=col>Click_Prediction</th></tr>\n",
       "\t<tr><th></th><th scope=col>&lt;dbl&gt;</th><th scope=col>&lt;int&gt;</th><th scope=col>&lt;dbl&gt;</th><th scope=col>&lt;dbl&gt;</th><th scope=col>&lt;chr&gt;</th><th scope=col>&lt;chr&gt;</th><th scope=col>&lt;int&gt;</th><th scope=col>&lt;chr&gt;</th><th scope=col>&lt;chr&gt;</th><th scope=col>&lt;fct&gt;</th><th scope=col>&lt;dbl&gt;</th><th scope=col>&lt;dbl&gt;</th></tr>\n",
       "</thead>\n",
       "<tbody>\n",
       "\t<tr><th scope=row>1</th><td>69.78980</td><td>29</td><td>58500.71</td><td>260.9635</td><td>Cloned 5thgeneration orchestration   </td><td>Wrightburgh   </td><td>1</td><td>Tunisia   </td><td>3/27/2016 0:53 </td><td>1</td><td>0.7079076</td><td>0</td></tr>\n",
       "\t<tr><th scope=row>2</th><td>81.70262</td><td>57</td><td>65138.24</td><td>203.8350</td><td>Monitored national standardization   </td><td>West Jodi     </td><td>1</td><td>Nauru     </td><td>4/4/2016 1:39  </td><td>1</td><td>0.8852758</td><td>1</td></tr>\n",
       "\t<tr><th scope=row>3</th><td>69.69346</td><td>57</td><td>59403.66</td><td>248.9641</td><td>Organic bottom-line service-desk     </td><td>Davidton      </td><td>1</td><td>San Marino</td><td>3/13/2016 20:35</td><td>1</td><td>0.7093578</td><td>0</td></tr>\n",
       "\t<tr><th scope=row>4</th><td>75.53727</td><td>33</td><td>54308.89</td><td>251.0028</td><td>Triple-buffered reciprocal time-frame</td><td>West Terrifurt</td><td>1</td><td>Italy     </td><td>1/10/2016 2:31 </td><td>1</td><td>0.7582471</td><td>0</td></tr>\n",
       "\t<tr><th scope=row>5</th><td>69.26679</td><td>30</td><td>72738.54</td><td>234.0430</td><td>Robust logistical utilization        </td><td>South Manuel  </td><td>1</td><td>Iceland   </td><td>6/3/2016 3:36  </td><td>1</td><td>0.8083605</td><td>1</td></tr>\n",
       "\t<tr><th scope=row>6</th><td>61.87441</td><td>28</td><td>59741.26</td><td>231.7855</td><td>Sharable client-driven software      </td><td>Jamieberg     </td><td>1</td><td>Norway    </td><td>5/19/2016 14:30</td><td>1</td><td>0.5834762</td><td>0</td></tr>\n",
       "</tbody>\n",
       "</table>\n"
      ],
      "text/latex": [
       "A data.frame: 6 × 12\n",
       "\\begin{tabular}{r|llllllllllll}\n",
       "  & Daily.Time.Spent.on.Site & Age & Area.Income & Daily.Internet.Usage & Ad.Topic.Line & City & Male & Country & Timestamp & Clicked.on.Ad & Predicted\\_Probabilities & Click\\_Prediction\\\\\n",
       "  & <dbl> & <int> & <dbl> & <dbl> & <chr> & <chr> & <int> & <chr> & <chr> & <fct> & <dbl> & <dbl>\\\\\n",
       "\\hline\n",
       "\t1 & 69.78980 & 29 & 58500.71 & 260.9635 & Cloned 5thgeneration orchestration    & Wrightburgh    & 1 & Tunisia    & 3/27/2016 0:53  & 1 & 0.7079076 & 0\\\\\n",
       "\t2 & 81.70262 & 57 & 65138.24 & 203.8350 & Monitored national standardization    & West Jodi      & 1 & Nauru      & 4/4/2016 1:39   & 1 & 0.8852758 & 1\\\\\n",
       "\t3 & 69.69346 & 57 & 59403.66 & 248.9641 & Organic bottom-line service-desk      & Davidton       & 1 & San Marino & 3/13/2016 20:35 & 1 & 0.7093578 & 0\\\\\n",
       "\t4 & 75.53727 & 33 & 54308.89 & 251.0028 & Triple-buffered reciprocal time-frame & West Terrifurt & 1 & Italy      & 1/10/2016 2:31  & 1 & 0.7582471 & 0\\\\\n",
       "\t5 & 69.26679 & 30 & 72738.54 & 234.0430 & Robust logistical utilization         & South Manuel   & 1 & Iceland    & 6/3/2016 3:36   & 1 & 0.8083605 & 1\\\\\n",
       "\t6 & 61.87441 & 28 & 59741.26 & 231.7855 & Sharable client-driven software       & Jamieberg      & 1 & Norway     & 5/19/2016 14:30 & 1 & 0.5834762 & 0\\\\\n",
       "\\end{tabular}\n"
      ],
      "text/markdown": [
       "\n",
       "A data.frame: 6 × 12\n",
       "\n",
       "| <!--/--> | Daily.Time.Spent.on.Site &lt;dbl&gt; | Age &lt;int&gt; | Area.Income &lt;dbl&gt; | Daily.Internet.Usage &lt;dbl&gt; | Ad.Topic.Line &lt;chr&gt; | City &lt;chr&gt; | Male &lt;int&gt; | Country &lt;chr&gt; | Timestamp &lt;chr&gt; | Clicked.on.Ad &lt;fct&gt; | Predicted_Probabilities &lt;dbl&gt; | Click_Prediction &lt;dbl&gt; |\n",
       "|---|---|---|---|---|---|---|---|---|---|---|---|---|\n",
       "| 1 | 69.78980 | 29 | 58500.71 | 260.9635 | Cloned 5thgeneration orchestration    | Wrightburgh    | 1 | Tunisia    | 3/27/2016 0:53  | 1 | 0.7079076 | 0 |\n",
       "| 2 | 81.70262 | 57 | 65138.24 | 203.8350 | Monitored national standardization    | West Jodi      | 1 | Nauru      | 4/4/2016 1:39   | 1 | 0.8852758 | 1 |\n",
       "| 3 | 69.69346 | 57 | 59403.66 | 248.9641 | Organic bottom-line service-desk      | Davidton       | 1 | San Marino | 3/13/2016 20:35 | 1 | 0.7093578 | 0 |\n",
       "| 4 | 75.53727 | 33 | 54308.89 | 251.0028 | Triple-buffered reciprocal time-frame | West Terrifurt | 1 | Italy      | 1/10/2016 2:31  | 1 | 0.7582471 | 0 |\n",
       "| 5 | 69.26679 | 30 | 72738.54 | 234.0430 | Robust logistical utilization         | South Manuel   | 1 | Iceland    | 6/3/2016 3:36   | 1 | 0.8083605 | 1 |\n",
       "| 6 | 61.87441 | 28 | 59741.26 | 231.7855 | Sharable client-driven software       | Jamieberg      | 1 | Norway     | 5/19/2016 14:30 | 1 | 0.5834762 | 0 |\n",
       "\n"
      ],
      "text/plain": [
       "  Daily.Time.Spent.on.Site Age Area.Income Daily.Internet.Usage\n",
       "1 69.78980                 29  58500.71    260.9635            \n",
       "2 81.70262                 57  65138.24    203.8350            \n",
       "3 69.69346                 57  59403.66    248.9641            \n",
       "4 75.53727                 33  54308.89    251.0028            \n",
       "5 69.26679                 30  72738.54    234.0430            \n",
       "6 61.87441                 28  59741.26    231.7855            \n",
       "  Ad.Topic.Line                         City           Male Country   \n",
       "1 Cloned 5thgeneration orchestration    Wrightburgh    1    Tunisia   \n",
       "2 Monitored national standardization    West Jodi      1    Nauru     \n",
       "3 Organic bottom-line service-desk      Davidton       1    San Marino\n",
       "4 Triple-buffered reciprocal time-frame West Terrifurt 1    Italy     \n",
       "5 Robust logistical utilization         South Manuel   1    Iceland   \n",
       "6 Sharable client-driven software       Jamieberg      1    Norway    \n",
       "  Timestamp       Clicked.on.Ad Predicted_Probabilities Click_Prediction\n",
       "1 3/27/2016 0:53  1             0.7079076               0               \n",
       "2 4/4/2016 1:39   1             0.8852758               1               \n",
       "3 3/13/2016 20:35 1             0.7093578               0               \n",
       "4 1/10/2016 2:31  1             0.7582471               0               \n",
       "5 6/3/2016 3:36   1             0.8083605               1               \n",
       "6 5/19/2016 14:30 1             0.5834762               0               "
      ]
     },
     "metadata": {},
     "output_type": "display_data"
    }
   ],
   "source": [
    "head(advertising)"
   ]
  },
  {
   "cell_type": "markdown",
   "metadata": {},
   "source": [
    "### Confusion Matrix"
   ]
  },
  {
   "cell_type": "code",
   "execution_count": 30,
   "metadata": {
    "collapsed": true
   },
   "outputs": [],
   "source": [
    "advertising$Click_Prediction <- as.factor(advertising$Click_Prediction)"
   ]
  },
  {
   "cell_type": "code",
   "execution_count": 31,
   "metadata": {},
   "outputs": [
    {
     "name": "stdout",
     "output_type": "stream",
     "text": [
      "Confusion Matrix and Statistics\n",
      "\n",
      "          Reference\n",
      "Prediction   0   1\n",
      "         0 404 253\n",
      "         1  25 318\n",
      "                                          \n",
      "               Accuracy : 0.722           \n",
      "                 95% CI : (0.6931, 0.7496)\n",
      "    No Information Rate : 0.571           \n",
      "    P-Value [Acc > NIR] : < 2.2e-16       \n",
      "                                          \n",
      "                  Kappa : 0.4677          \n",
      "                                          \n",
      " Mcnemar's Test P-Value : < 2.2e-16       \n",
      "                                          \n",
      "            Sensitivity : 0.9417          \n",
      "            Specificity : 0.5569          \n",
      "         Pos Pred Value : 0.6149          \n",
      "         Neg Pred Value : 0.9271          \n",
      "             Prevalence : 0.4290          \n",
      "         Detection Rate : 0.4040          \n",
      "   Detection Prevalence : 0.6570          \n",
      "      Balanced Accuracy : 0.7493          \n",
      "                                          \n",
      "       'Positive' Class : 0               \n",
      "                                          \n"
     ]
    }
   ],
   "source": [
    "library(caret)\n",
    "\n",
    "# Create a confusion matrix\n",
    "confusion_matrix <- confusionMatrix(advertising$Click_Prediction, advertising$Clicked.on.Ad)\n",
    "\n",
    "# Print the confusion matrix\n",
    "print(confusion_matrix)"
   ]
  },
  {
   "cell_type": "markdown",
   "metadata": {},
   "source": [
    "Recall false negative means the instances where the model predicts the case to be false when in reality it is true. For this example, this refers to cases where the ad is clicked but the model predicts that it isn’t. \n",
    "\n",
    "**False Negatives: 253**"
   ]
  },
  {
   "cell_type": "markdown",
   "metadata": {
    "deletable": false,
    "editable": false,
    "nbgrader": {
     "grade": false,
     "locked": true,
     "solution": false
    }
   },
   "source": [
    "### C. Create and plot the ROC curve (you can use ROCR library or pROC library) of the predictions and true labels. Also, calculate the AUC of the curve. When creating your ROC curve and calculating the AUC, do not apply the 80% threshold to your model predictions - doing so may lead to incorrect answers and point deductions. (7 Points)"
   ]
  },
  {
   "cell_type": "code",
   "execution_count": 32,
   "metadata": {
    "collapsed": true
   },
   "outputs": [],
   "source": [
    "library(pROC)"
   ]
  },
  {
   "cell_type": "code",
   "execution_count": 35,
   "metadata": {},
   "outputs": [
    {
     "name": "stderr",
     "output_type": "stream",
     "text": [
      "Setting levels: control = 0, case = 1\n",
      "\n",
      "Setting direction: controls < cases\n",
      "\n"
     ]
    },
    {
     "data": {
      "image/png": "[encoded data removed]",
      "text/plain": [
       "Plot with title “ROC Curve”"
      ]
     },
     "metadata": {
      "image/png": {
       "height": 420,
       "width": 420
      }
     },
     "output_type": "display_data"
    }
   ],
   "source": [
    "# Calculate ROC curve and AUC\n",
    "roc_obj <- roc(advertising$Clicked.on.Ad, advertising$Predicted_Probabilities)\n",
    "\n",
    "# Plot ROC curve\n",
    "plot(roc_obj, main = \"ROC Curve\", xlab = \"False Positive Rate\", ylab = \"True Positive Rate\")\n",
    "\n",
    "# Add AUC to the plot\n",
    "text(0.6, 0.2, paste0(\"AUC = \", round(auc(roc_obj), 2)), col = \"blue\", cex = 1.2)"
   ]
  },
  {
   "cell_type": "markdown",
   "metadata": {},
   "source": [
    "**AUC = 0.85**"
   ]
  },
  {
   "cell_type": "markdown",
   "metadata": {},
   "source": [
    "---"
   ]
  },
  {
   "cell_type": "markdown",
   "metadata": {
    "deletable": false,
    "editable": false,
    "nbgrader": {
     "grade": false,
     "locked": true,
     "solution": false
    }
   },
   "source": [
    "### Q3. Company ABC is spending on Facebook, Pinterst, Twitter, and Online Display for marketing in order to drive increase in sales. In order to see how well their marketing budget is performing, we are task with creating a simple Media Mix Model using linear regression. Please create the following 2 models and explain which model does the best job in explaining the data. (6 points)\n",
    "\n",
    "**Model 1-** Regress Sales on Company ABC’s Facebook, Pinterest, Twitter, and Online Display spending.\n",
    "\n",
    "**Model 2-** Regress sales on the adstock terms listed below. DO NOT make any changes to the adstock variables. ONLY include the adstock variables listed below in your analysis.\n"
   ]
  },
  {
   "cell_type": "code",
   "execution_count": 39,
   "metadata": {
    "collapsed": true,
    "deletable": false,
    "editable": false,
    "nbgrader": {
     "grade": false,
     "locked": true,
     "solution": false
    }
   },
   "outputs": [],
   "source": [
    "## Load dataset \n",
    "data_Q3 = read.csv(\"../resource/asnlib/publicdata/mmmdata.csv\", stringsAsFactors = FALSE)\n",
    "\n",
    "## AdStock Terms\n",
    "data_Q3$Facebook.adstock <- as.numeric(stats::filter(x= data_Q3$Facebook , filter =0.3 , method =\"recursive\"))\n",
    "data_Q3$Pinterst.adstock <- as.numeric(stats::filter(x= data_Q3$Pinterst , filter =0.2 , method =\"recursive\"))\n",
    "data_Q3$Twitter.adstock <- as.numeric(stats::filter(x= data_Q3$Twitter , filter =0.7 , method =\"recursive\"))\n",
    "data_Q3$Online_Display.adstock <- as.numeric(stats::filter(x= data_Q3$Online_Display , filter =0.5 , method =\"recursive\"))\n"
   ]
  },
  {
   "cell_type": "code",
   "execution_count": 40,
   "metadata": {},
   "outputs": [
    {
     "data": {
      "text/html": [
       "<table>\n",
       "<caption>A data.frame: 6 × 10</caption>\n",
       "<thead>\n",
       "\t<tr><th></th><th scope=col>Date</th><th scope=col>Sales</th><th scope=col>Facebook</th><th scope=col>Pinterst</th><th scope=col>Twitter</th><th scope=col>Online_Display</th><th scope=col>Facebook.adstock</th><th scope=col>Pinterst.adstock</th><th scope=col>Twitter.adstock</th><th scope=col>Online_Display.adstock</th></tr>\n",
       "\t<tr><th></th><th scope=col>&lt;chr&gt;</th><th scope=col>&lt;int&gt;</th><th scope=col>&lt;int&gt;</th><th scope=col>&lt;int&gt;</th><th scope=col>&lt;int&gt;</th><th scope=col>&lt;int&gt;</th><th scope=col>&lt;dbl&gt;</th><th scope=col>&lt;dbl&gt;</th><th scope=col>&lt;dbl&gt;</th><th scope=col>&lt;dbl&gt;</th></tr>\n",
       "</thead>\n",
       "<tbody>\n",
       "\t<tr><th scope=row>1</th><td>5/23/2032</td><td>570606</td><td>107019</td><td> 69188</td><td>0</td><td>5468</td><td>107019.00</td><td> 69188.00</td><td>0</td><td> 5468.00</td></tr>\n",
       "\t<tr><th scope=row>2</th><td>5/24/2032</td><td>660011</td><td>118857</td><td> 69661</td><td>0</td><td>5373</td><td>150962.70</td><td> 83498.60</td><td>0</td><td> 8107.00</td></tr>\n",
       "\t<tr><th scope=row>3</th><td>5/25/2032</td><td>416314</td><td>122417</td><td> 13884</td><td>0</td><td>5524</td><td>167705.81</td><td> 30583.72</td><td>0</td><td> 9577.50</td></tr>\n",
       "\t<tr><th scope=row>4</th><td>5/26/2032</td><td>443993</td><td>115249</td><td> 41626</td><td>0</td><td>5380</td><td>165560.74</td><td> 47742.74</td><td>0</td><td>10168.75</td></tr>\n",
       "\t<tr><th scope=row>5</th><td>5/27/2032</td><td>757152</td><td> 72823</td><td>119381</td><td>0</td><td>5229</td><td>122491.22</td><td>128929.55</td><td>0</td><td>10313.38</td></tr>\n",
       "\t<tr><th scope=row>6</th><td>5/28/2032</td><td>641014</td><td> 35275</td><td>109026</td><td>0</td><td>5189</td><td> 72022.37</td><td>134811.91</td><td>0</td><td>10345.69</td></tr>\n",
       "</tbody>\n",
       "</table>\n"
      ],
      "text/latex": [
       "A data.frame: 6 × 10\n",
       "\\begin{tabular}{r|llllllllll}\n",
       "  & Date & Sales & Facebook & Pinterst & Twitter & Online\\_Display & Facebook.adstock & Pinterst.adstock & Twitter.adstock & Online\\_Display.adstock\\\\\n",
       "  & <chr> & <int> & <int> & <int> & <int> & <int> & <dbl> & <dbl> & <dbl> & <dbl>\\\\\n",
       "\\hline\n",
       "\t1 & 5/23/2032 & 570606 & 107019 &  69188 & 0 & 5468 & 107019.00 &  69188.00 & 0 &  5468.00\\\\\n",
       "\t2 & 5/24/2032 & 660011 & 118857 &  69661 & 0 & 5373 & 150962.70 &  83498.60 & 0 &  8107.00\\\\\n",
       "\t3 & 5/25/2032 & 416314 & 122417 &  13884 & 0 & 5524 & 167705.81 &  30583.72 & 0 &  9577.50\\\\\n",
       "\t4 & 5/26/2032 & 443993 & 115249 &  41626 & 0 & 5380 & 165560.74 &  47742.74 & 0 & 10168.75\\\\\n",
       "\t5 & 5/27/2032 & 757152 &  72823 & 119381 & 0 & 5229 & 122491.22 & 128929.55 & 0 & 10313.38\\\\\n",
       "\t6 & 5/28/2032 & 641014 &  35275 & 109026 & 0 & 5189 &  72022.37 & 134811.91 & 0 & 10345.69\\\\\n",
       "\\end{tabular}\n"
      ],
      "text/markdown": [
       "\n",
       "A data.frame: 6 × 10\n",
       "\n",
       "| <!--/--> | Date &lt;chr&gt; | Sales &lt;int&gt; | Facebook &lt;int&gt; | Pinterst &lt;int&gt; | Twitter &lt;int&gt; | Online_Display &lt;int&gt; | Facebook.adstock &lt;dbl&gt; | Pinterst.adstock &lt;dbl&gt; | Twitter.adstock &lt;dbl&gt; | Online_Display.adstock &lt;dbl&gt; |\n",
       "|---|---|---|---|---|---|---|---|---|---|---|\n",
       "| 1 | 5/23/2032 | 570606 | 107019 |  69188 | 0 | 5468 | 107019.00 |  69188.00 | 0 |  5468.00 |\n",
       "| 2 | 5/24/2032 | 660011 | 118857 |  69661 | 0 | 5373 | 150962.70 |  83498.60 | 0 |  8107.00 |\n",
       "| 3 | 5/25/2032 | 416314 | 122417 |  13884 | 0 | 5524 | 167705.81 |  30583.72 | 0 |  9577.50 |\n",
       "| 4 | 5/26/2032 | 443993 | 115249 |  41626 | 0 | 5380 | 165560.74 |  47742.74 | 0 | 10168.75 |\n",
       "| 5 | 5/27/2032 | 757152 |  72823 | 119381 | 0 | 5229 | 122491.22 | 128929.55 | 0 | 10313.38 |\n",
       "| 6 | 5/28/2032 | 641014 |  35275 | 109026 | 0 | 5189 |  72022.37 | 134811.91 | 0 | 10345.69 |\n",
       "\n"
      ],
      "text/plain": [
       "  Date      Sales  Facebook Pinterst Twitter Online_Display Facebook.adstock\n",
       "1 5/23/2032 570606 107019    69188   0       5468           107019.00       \n",
       "2 5/24/2032 660011 118857    69661   0       5373           150962.70       \n",
       "3 5/25/2032 416314 122417    13884   0       5524           167705.81       \n",
       "4 5/26/2032 443993 115249    41626   0       5380           165560.74       \n",
       "5 5/27/2032 757152  72823   119381   0       5229           122491.22       \n",
       "6 5/28/2032 641014  35275   109026   0       5189            72022.37       \n",
       "  Pinterst.adstock Twitter.adstock Online_Display.adstock\n",
       "1  69188.00        0                5468.00              \n",
       "2  83498.60        0                8107.00              \n",
       "3  30583.72        0                9577.50              \n",
       "4  47742.74        0               10168.75              \n",
       "5 128929.55        0               10313.38              \n",
       "6 134811.91        0               10345.69              "
      ]
     },
     "metadata": {},
     "output_type": "display_data"
    }
   ],
   "source": [
    "head(data_Q3)"
   ]
  },
  {
   "cell_type": "markdown",
   "metadata": {},
   "source": [
    "### Model 1"
   ]
  },
  {
   "cell_type": "code",
   "execution_count": 42,
   "metadata": {},
   "outputs": [
    {
     "data": {
      "text/plain": [
       "\n",
       "Call:\n",
       "lm(formula = Sales ~ Facebook + Pinterst + Twitter + Online_Display, \n",
       "    data = data_Q3)\n",
       "\n",
       "Residuals:\n",
       "    Min      1Q  Median      3Q     Max \n",
       "-254616 -110484   -5757  111865  301767 \n",
       "\n",
       "Coefficients:\n",
       "                 Estimate Std. Error t value Pr(>|t|)    \n",
       "(Intercept)     6.006e+05  3.822e+05   1.571  0.11854    \n",
       "Facebook        1.875e-02  2.151e-01   0.087  0.93069    \n",
       "Pinterst       -8.678e-01  2.955e-01  -2.937  0.00392 ** \n",
       "Twitter         8.447e+00  1.698e+00   4.973 2.02e-06 ***\n",
       "Online_Display  4.234e+00  7.135e+01   0.059  0.95276    \n",
       "---\n",
       "Signif. codes:  0 ‘***’ 0.001 ‘**’ 0.01 ‘*’ 0.05 ‘.’ 0.1 ‘ ’ 1\n",
       "\n",
       "Residual standard error: 139200 on 131 degrees of freedom\n",
       "Multiple R-squared:  0.1867,\tAdjusted R-squared:  0.1619 \n",
       "F-statistic: 7.518 on 4 and 131 DF,  p-value: 1.75e-05\n"
      ]
     },
     "metadata": {},
     "output_type": "display_data"
    }
   ],
   "source": [
    "# Generate the linear regression model\n",
    "model1 <- lm(Sales ~ Facebook + Pinterst + Twitter + Online_Display, data = data_Q3)\n",
    "\n",
    "summary(model1)"
   ]
  },
  {
   "cell_type": "markdown",
   "metadata": {},
   "source": [
    "### Model 2"
   ]
  },
  {
   "cell_type": "code",
   "execution_count": 43,
   "metadata": {},
   "outputs": [
    {
     "data": {
      "text/plain": [
       "\n",
       "Call:\n",
       "lm(formula = Sales ~ Facebook.adstock + Pinterst.adstock + Twitter.adstock + \n",
       "    Online_Display.adstock, data = data_Q3)\n",
       "\n",
       "Residuals:\n",
       "    Min      1Q  Median      3Q     Max \n",
       "-242004 -110880  -14999  107700  287927 \n",
       "\n",
       "Coefficients:\n",
       "                         Estimate Std. Error t value Pr(>|t|)    \n",
       "(Intercept)             6.772e+05  2.329e+05   2.907  0.00428 ** \n",
       "Facebook.adstock        6.679e-02  2.019e-01   0.331  0.74127    \n",
       "Pinterst.adstock       -6.626e-01  2.470e-01  -2.682  0.00826 ** \n",
       "Twitter.adstock         3.175e+00  5.756e-01   5.516 1.78e-07 ***\n",
       "Online_Display.adstock -7.068e+00  2.184e+01  -0.324  0.74676    \n",
       "---\n",
       "Signif. codes:  0 ‘***’ 0.001 ‘**’ 0.01 ‘*’ 0.05 ‘.’ 0.1 ‘ ’ 1\n",
       "\n",
       "Residual standard error: 136400 on 131 degrees of freedom\n",
       "Multiple R-squared:  0.219,\tAdjusted R-squared:  0.1951 \n",
       "F-statistic: 9.182 on 4 and 131 DF,  p-value: 1.43e-06\n"
      ]
     },
     "metadata": {},
     "output_type": "display_data"
    }
   ],
   "source": [
    "model2 <- lm(Sales ~ Facebook.adstock + Pinterst.adstock + Twitter.adstock + Online_Display.adstock, data = data_Q3)\n",
    "\n",
    "summary(model2)"
   ]
  },
  {
   "cell_type": "markdown",
   "metadata": {},
   "source": [
    "**Model 2 explains the data better as the coeficients are more statistically significant.**"
   ]
  },
  {
   "cell_type": "markdown",
   "metadata": {},
   "source": [
    "---"
   ]
  },
  {
   "cell_type": "markdown",
   "metadata": {
    "deletable": false,
    "editable": false,
    "nbgrader": {
     "grade": false,
     "locked": true,
     "solution": false
    }
   },
   "source": [
    "## Instructions for Questions Q4:\n",
    "\n",
    "Top Tier Consulting is a maketing firm that helps small to medium sized companies develop their marketing strategies. To better serve their clients, they have hired you to help them understand their client turnover.\n",
    "Note: For more information on how to use business analytics to analyze churn, refer to the Advanced Topics in the Marketing Modules."
   ]
  },
  {
   "cell_type": "markdown",
   "metadata": {
    "deletable": false,
    "editable": false,
    "nbgrader": {
     "grade": false,
     "locked": true,
     "solution": false
    }
   },
   "source": [
    "### A. Top Tier Consulting wants to identifty the factors that are statistically significant (95% confidence interval) at determining which clients are more likely to churn. They want to focus on the following factors: Company_Age, Total_Project_Value, Has_Account_Manager, Num_of_Years_as_Client, Number_of_Projects. Using these factors and a logistic regression model, create a churn model to identify which factors are statistically significant at a 95% confidence interval. (6 Points)\n"
   ]
  },
  {
   "cell_type": "code",
   "execution_count": 44,
   "metadata": {
    "deletable": false,
    "editable": false,
    "nbgrader": {
     "grade": false,
     "locked": true,
     "solution": false
    }
   },
   "outputs": [
    {
     "data": {
      "text/html": [
       "<table>\n",
       "<caption>A data.frame: 6 × 6</caption>\n",
       "<thead>\n",
       "\t<tr><th></th><th scope=col>Company_Age</th><th scope=col>Total_Project_Value</th><th scope=col>Has_Account_Manager</th><th scope=col>Num_of_Years_as_Client</th><th scope=col>Number_of_Projects</th><th scope=col>Churn</th></tr>\n",
       "\t<tr><th></th><th scope=col>&lt;int&gt;</th><th scope=col>&lt;dbl&gt;</th><th scope=col>&lt;lgl&gt;</th><th scope=col>&lt;dbl&gt;</th><th scope=col>&lt;int&gt;</th><th scope=col>&lt;int&gt;</th></tr>\n",
       "</thead>\n",
       "<tbody>\n",
       "\t<tr><th scope=row>1</th><td>42</td><td>11066.80</td><td>FALSE</td><td>7.22</td><td> 8</td><td>0</td></tr>\n",
       "\t<tr><th scope=row>2</th><td>41</td><td>11916.22</td><td>FALSE</td><td>6.50</td><td>11</td><td>0</td></tr>\n",
       "\t<tr><th scope=row>3</th><td>38</td><td>12884.75</td><td>FALSE</td><td>6.67</td><td>12</td><td>0</td></tr>\n",
       "\t<tr><th scope=row>4</th><td>42</td><td> 8010.76</td><td>FALSE</td><td>6.71</td><td>10</td><td>0</td></tr>\n",
       "\t<tr><th scope=row>5</th><td>37</td><td> 9191.58</td><td>FALSE</td><td>5.56</td><td> 9</td><td>0</td></tr>\n",
       "\t<tr><th scope=row>6</th><td>48</td><td>10356.02</td><td>FALSE</td><td>5.12</td><td> 8</td><td>0</td></tr>\n",
       "</tbody>\n",
       "</table>\n"
      ],
      "text/latex": [
       "A data.frame: 6 × 6\n",
       "\\begin{tabular}{r|llllll}\n",
       "  & Company\\_Age & Total\\_Project\\_Value & Has\\_Account\\_Manager & Num\\_of\\_Years\\_as\\_Client & Number\\_of\\_Projects & Churn\\\\\n",
       "  & <int> & <dbl> & <lgl> & <dbl> & <int> & <int>\\\\\n",
       "\\hline\n",
       "\t1 & 42 & 11066.80 & FALSE & 7.22 &  8 & 0\\\\\n",
       "\t2 & 41 & 11916.22 & FALSE & 6.50 & 11 & 0\\\\\n",
       "\t3 & 38 & 12884.75 & FALSE & 6.67 & 12 & 0\\\\\n",
       "\t4 & 42 &  8010.76 & FALSE & 6.71 & 10 & 0\\\\\n",
       "\t5 & 37 &  9191.58 & FALSE & 5.56 &  9 & 0\\\\\n",
       "\t6 & 48 & 10356.02 & FALSE & 5.12 &  8 & 0\\\\\n",
       "\\end{tabular}\n"
      ],
      "text/markdown": [
       "\n",
       "A data.frame: 6 × 6\n",
       "\n",
       "| <!--/--> | Company_Age &lt;int&gt; | Total_Project_Value &lt;dbl&gt; | Has_Account_Manager &lt;lgl&gt; | Num_of_Years_as_Client &lt;dbl&gt; | Number_of_Projects &lt;int&gt; | Churn &lt;int&gt; |\n",
       "|---|---|---|---|---|---|---|\n",
       "| 1 | 42 | 11066.80 | FALSE | 7.22 |  8 | 0 |\n",
       "| 2 | 41 | 11916.22 | FALSE | 6.50 | 11 | 0 |\n",
       "| 3 | 38 | 12884.75 | FALSE | 6.67 | 12 | 0 |\n",
       "| 4 | 42 |  8010.76 | FALSE | 6.71 | 10 | 0 |\n",
       "| 5 | 37 |  9191.58 | FALSE | 5.56 |  9 | 0 |\n",
       "| 6 | 48 | 10356.02 | FALSE | 5.12 |  8 | 0 |\n",
       "\n"
      ],
      "text/plain": [
       "  Company_Age Total_Project_Value Has_Account_Manager Num_of_Years_as_Client\n",
       "1 42          11066.80            FALSE               7.22                  \n",
       "2 41          11916.22            FALSE               6.50                  \n",
       "3 38          12884.75            FALSE               6.67                  \n",
       "4 42           8010.76            FALSE               6.71                  \n",
       "5 37           9191.58            FALSE               5.56                  \n",
       "6 48          10356.02            FALSE               5.12                  \n",
       "  Number_of_Projects Churn\n",
       "1  8                 0    \n",
       "2 11                 0    \n",
       "3 12                 0    \n",
       "4 10                 0    \n",
       "5  9                 0    \n",
       "6  8                 0    "
      ]
     },
     "metadata": {},
     "output_type": "display_data"
    }
   ],
   "source": [
    "#Load the dataset\n",
    "data_Q4 <- read.csv(\"../resource/asnlib/publicdata/client_churn.csv\")\n",
    "head(data_Q4)"
   ]
  },
  {
   "cell_type": "code",
   "execution_count": 45,
   "metadata": {},
   "outputs": [
    {
     "data": {
      "text/plain": [
       "\n",
       "Call:\n",
       "glm(formula = Churn ~ Company_Age + Total_Project_Value + Has_Account_Manager + \n",
       "    Num_of_Years_as_Client + Number_of_Projects, family = binomial, \n",
       "    data = data_Q4)\n",
       "\n",
       "Deviance Residuals: \n",
       "    Min       1Q   Median       3Q      Max  \n",
       "-3.5182   0.0739   0.1968   0.4112   2.5655  \n",
       "\n",
       "Coefficients:\n",
       "                          Estimate Std. Error z value Pr(>|z|)    \n",
       "(Intercept)              1.934e+01  1.707e+00  11.328  < 2e-16 ***\n",
       "Company_Age             -5.981e-02  2.037e-02  -2.936  0.00333 ** \n",
       "Total_Project_Value     -3.731e-05  5.019e-05  -0.743  0.45726    \n",
       "Has_Account_ManagerTRUE -4.810e-01  2.383e-01  -2.018  0.04360 *  \n",
       "Num_of_Years_as_Client  -5.660e-01  9.440e-02  -5.996 2.03e-09 ***\n",
       "Number_of_Projects      -1.212e+00  9.948e-02 -12.179  < 2e-16 ***\n",
       "---\n",
       "Signif. codes:  0 ‘***’ 0.001 ‘**’ 0.01 ‘*’ 0.05 ‘.’ 0.1 ‘ ’ 1\n",
       "\n",
       "(Dispersion parameter for binomial family taken to be 1)\n",
       "\n",
       "    Null deviance: 811.01  on 899  degrees of freedom\n",
       "Residual deviance: 470.92  on 894  degrees of freedom\n",
       "AIC: 482.92\n",
       "\n",
       "Number of Fisher Scoring iterations: 6\n"
      ]
     },
     "metadata": {},
     "output_type": "display_data"
    }
   ],
   "source": [
    "# Create the logistic regression model\n",
    "model <- glm(Churn ~ Company_Age + Total_Project_Value + Has_Account_Manager + Num_of_Years_as_Client + Number_of_Projects, data = data_Q4, family = binomial)\n",
    "\n",
    "# Display the summary output\n",
    "summary(model)"
   ]
  },
  {
   "cell_type": "markdown",
   "metadata": {},
   "source": [
    "If a p-value is less than 0.05, it indicates that the corresponding coefficient is statistically significant at a 95% confidence interval.\n",
    "\n",
    "The factors that are statistically significant at a 95% confidence interval are\n",
    "\n",
    "- Company_Age\n",
    "\n",
    "- Has_Account_ManagerTRUE \n",
    "\n",
    "- Num_of_Years_as_Client  \n",
    "\n",
    "- Number_of_Projects      "
   ]
  },
  {
   "attachments": {
    "Screen%20Shot%202023-03-11%20at%2010.38.28%20PM.png": {
     "image/png": "[encoded data removed]"
    }
   },
   "cell_type": "markdown",
   "metadata": {
    "deletable": false,
    "editable": false,
    "nbgrader": {
     "grade": false,
     "locked": true,
     "solution": false
    }
   },
   "source": [
    "### B.Top Tier Consulting has a list of 3 clients, and want to identify which cleint is the most likely to churn. Please use the model you created for the last question to predict the client with the highest probability of churning. (6 Points)\n",
    "\n",
    "![Screen%20Shot%202023-03-11%20at%2010.38.28%20PM.png](attachment:Screen%20Shot%202023-03-11%20at%2010.38.28%20PM.png) "
   ]
  },
  {
   "cell_type": "code",
   "execution_count": 47,
   "metadata": {},
   "outputs": [
    {
     "data": {
      "text/html": [
       "<strong>1:</strong> 0.316544340013919"
      ],
      "text/latex": [
       "\\textbf{1:} 0.316544340013919"
      ],
      "text/markdown": [
       "**1:** 0.316544340013919"
      ],
      "text/plain": [
       "        1 \n",
       "0.3165443 "
      ]
     },
     "metadata": {},
     "output_type": "display_data"
    }
   ],
   "source": [
    "tasty_vegan <- data.frame(\n",
    "  Company_Age = 32,\n",
    "  Total_Project_Value = 20011.31,\n",
    "  Has_Account_Manager = TRUE,\n",
    "  Num_of_Years_as_Client = 15,\n",
    "  Number_of_Projects = 7\n",
    ")\n",
    "\n",
    "tasty_vegan_prediction <- predict(model, newdata = tasty_vegan, type = \"response\")\n",
    "\n",
    "tasty_vegan_prediction"
   ]
  },
  {
   "cell_type": "code",
   "execution_count": 48,
   "metadata": {},
   "outputs": [
    {
     "data": {
      "text/html": [
       "<strong>1:</strong> 0.578524500346327"
      ],
      "text/latex": [
       "\\textbf{1:} 0.578524500346327"
      ],
      "text/markdown": [
       "**1:** 0.578524500346327"
      ],
      "text/plain": [
       "        1 \n",
       "0.5785245 "
      ]
     },
     "metadata": {},
     "output_type": "display_data"
    }
   ],
   "source": [
    "shoe_barn <- data.frame(\n",
    "  Company_Age = 20,\n",
    "  Total_Project_Value = 18752.12,\n",
    "  Has_Account_Manager = FALSE,\n",
    "  Num_of_Years_as_Client = 11,\n",
    "  Number_of_Projects = 9\n",
    ")\n",
    "\n",
    "shoe_barn_prediction <- predict(model, newdata = shoe_barn, type = \"response\")\n",
    "\n",
    "shoe_barn_prediction"
   ]
  },
  {
   "cell_type": "code",
   "execution_count": 49,
   "metadata": {},
   "outputs": [
    {
     "data": {
      "text/html": [
       "<strong>1:</strong> 0.999999939257855"
      ],
      "text/latex": [
       "\\textbf{1:} 0.999999939257855"
      ],
      "text/markdown": [
       "**1:** 0.999999939257855"
      ],
      "text/plain": [
       "        1 \n",
       "0.9999999 "
      ]
     },
     "metadata": {},
     "output_type": "display_data"
    }
   ],
   "source": [
    "toy_mart <- data.frame(\n",
    "  Company_Age = 5,\n",
    "  Total_Project_Value = 2233.75,\n",
    "  Has_Account_Manager = FALSE,\n",
    "  Num_of_Years_as_Client = 2,\n",
    "  Number_of_Projects = 1\n",
    ")\n",
    "\n",
    "toy_mart_prediction <- predict(model, newdata = toy_mart, type = \"response\")\n",
    "\n",
    "toy_mart_prediction"
   ]
  },
  {
   "cell_type": "markdown",
   "metadata": {},
   "source": [
    "**Toy Mart has the highest probability of churning**"
   ]
  },
  {
   "cell_type": "markdown",
   "metadata": {},
   "source": [
    "---"
   ]
  },
  {
   "cell_type": "markdown",
   "metadata": {
    "deletable": false,
    "editable": false,
    "nbgrader": {
     "grade": false,
     "locked": true,
     "solution": false
    }
   },
   "source": [
    "## Instructions for Question Q5:\n",
    "\n",
    "### You have been tasked to evaluate an email marketing campaign for an online wine retailer. Two emails were sent to existing customers and data was gathered for multiple customer factors and marketing metrics. Existing customers were separated into 3 groups: Email A, Email B and control.\n",
    "\n",
    "The data contains the following variables:\n",
    "<br /> *user_id: unique customer identifier*\n",
    "<br /> *cpgn_id: campaign label(all the same for this question)* \n",
    "<br /> *group: customer can belong to “email_A”, “email_B” or “ctrl”*\n",
    "<br /> *email: logical variable if the customer received either email*\n",
    "<br /> *open: binary variable of whether the customer opened email (1=open, 0=not open)*\n",
    "<br /> *click: binary variable of whether the customer clicked through to website (1=clicked to website, 0= not clicked)*\n",
    "<br /> *purch: amount customer purchased within 30 days of email campaign*\n",
    "<br /> *chard: lifetime purchases of chardonnay*\n",
    "<br /> *sav_blanc: lifetime purchases of sauvignon blanc*\n",
    "<br /> *syrah: lifetime purchases of syrah*\n",
    "<br /> *cab: lifetime purchases of cabernet sauvignon*\n",
    "<br /> *past_purch: lifetime sum of customer’s past purchases*\n",
    "<br /> *days_since: days since last purchase*\n",
    "<br /> *visits: lifetime visits to site*\n",
    "\n",
    "Note: this material was adapted from the AB testing advanced module found in the Marketing Modules."
   ]
  },
  {
   "cell_type": "code",
   "execution_count": 50,
   "metadata": {
    "collapsed": true,
    "deletable": false,
    "editable": false,
    "nbgrader": {
     "grade": false,
     "locked": true,
     "solution": false
    }
   },
   "outputs": [],
   "source": [
    "## Create the data frame using the \"ab_wine_data.csv\" file.\n",
    "data_Q5 <- read.csv(file=\"../resource/asnlib/publicdata/ab_wine_data.csv\")"
   ]
  },
  {
   "cell_type": "code",
   "execution_count": 64,
   "metadata": {},
   "outputs": [
    {
     "data": {
      "text/html": [
       "<table>\n",
       "<caption>A data.frame: 6 × 14</caption>\n",
       "<thead>\n",
       "\t<tr><th></th><th scope=col>user_id</th><th scope=col>cpgn_id</th><th scope=col>group</th><th scope=col>email</th><th scope=col>open</th><th scope=col>click</th><th scope=col>purch</th><th scope=col>chard</th><th scope=col>sav_blanc</th><th scope=col>syrah</th><th scope=col>cab</th><th scope=col>past_purch</th><th scope=col>days_since</th><th scope=col>visits</th></tr>\n",
       "\t<tr><th></th><th scope=col>&lt;int&gt;</th><th scope=col>&lt;chr&gt;</th><th scope=col>&lt;chr&gt;</th><th scope=col>&lt;lgl&gt;</th><th scope=col>&lt;int&gt;</th><th scope=col>&lt;int&gt;</th><th scope=col>&lt;dbl&gt;</th><th scope=col>&lt;dbl&gt;</th><th scope=col>&lt;dbl&gt;</th><th scope=col>&lt;dbl&gt;</th><th scope=col>&lt;dbl&gt;</th><th scope=col>&lt;dbl&gt;</th><th scope=col>&lt;int&gt;</th><th scope=col>&lt;int&gt;</th></tr>\n",
       "</thead>\n",
       "<tbody>\n",
       "\t<tr><th scope=row>1</th><td>1000001</td><td>1901Email</td><td>email_A</td><td> TRUE</td><td>1</td><td>0</td><td> 0.00</td><td> 18.52</td><td> 41.58</td><td>  0.00</td><td> 0.00</td><td> 60.10</td><td> 32</td><td>9</td></tr>\n",
       "\t<tr><th scope=row>2</th><td>1000002</td><td>1901Email</td><td>email_B</td><td> TRUE</td><td>1</td><td>1</td><td>24.71</td><td>  0.00</td><td>  0.00</td><td>108.36</td><td> 0.00</td><td>108.36</td><td>  3</td><td>4</td></tr>\n",
       "\t<tr><th scope=row>3</th><td>1000003</td><td>1901Email</td><td>email_A</td><td> TRUE</td><td>1</td><td>1</td><td> 0.00</td><td>  0.00</td><td> 65.92</td><td>  0.00</td><td> 0.00</td><td> 65.92</td><td>120</td><td>6</td></tr>\n",
       "\t<tr><th scope=row>4</th><td>1000004</td><td>1901Email</td><td>ctrl   </td><td>FALSE</td><td>0</td><td>0</td><td> 0.00</td><td>  0.00</td><td>  0.00</td><td>  0.00</td><td> 0.00</td><td>  0.00</td><td>148</td><td>4</td></tr>\n",
       "\t<tr><th scope=row>5</th><td>1000005</td><td>1901Email</td><td>ctrl   </td><td>FALSE</td><td>0</td><td>0</td><td>22.76</td><td>  0.00</td><td> 53.62</td><td>  0.00</td><td>16.53</td><td> 70.15</td><td> 40</td><td>5</td></tr>\n",
       "\t<tr><th scope=row>6</th><td>1000006</td><td>1901Email</td><td>email_A</td><td> TRUE</td><td>1</td><td>0</td><td>32.90</td><td>247.39</td><td>323.57</td><td>  0.00</td><td>37.32</td><td>608.28</td><td> 92</td><td>9</td></tr>\n",
       "</tbody>\n",
       "</table>\n"
      ],
      "text/latex": [
       "A data.frame: 6 × 14\n",
       "\\begin{tabular}{r|llllllllllllll}\n",
       "  & user\\_id & cpgn\\_id & group & email & open & click & purch & chard & sav\\_blanc & syrah & cab & past\\_purch & days\\_since & visits\\\\\n",
       "  & <int> & <chr> & <chr> & <lgl> & <int> & <int> & <dbl> & <dbl> & <dbl> & <dbl> & <dbl> & <dbl> & <int> & <int>\\\\\n",
       "\\hline\n",
       "\t1 & 1000001 & 1901Email & email\\_A &  TRUE & 1 & 0 &  0.00 &  18.52 &  41.58 &   0.00 &  0.00 &  60.10 &  32 & 9\\\\\n",
       "\t2 & 1000002 & 1901Email & email\\_B &  TRUE & 1 & 1 & 24.71 &   0.00 &   0.00 & 108.36 &  0.00 & 108.36 &   3 & 4\\\\\n",
       "\t3 & 1000003 & 1901Email & email\\_A &  TRUE & 1 & 1 &  0.00 &   0.00 &  65.92 &   0.00 &  0.00 &  65.92 & 120 & 6\\\\\n",
       "\t4 & 1000004 & 1901Email & ctrl    & FALSE & 0 & 0 &  0.00 &   0.00 &   0.00 &   0.00 &  0.00 &   0.00 & 148 & 4\\\\\n",
       "\t5 & 1000005 & 1901Email & ctrl    & FALSE & 0 & 0 & 22.76 &   0.00 &  53.62 &   0.00 & 16.53 &  70.15 &  40 & 5\\\\\n",
       "\t6 & 1000006 & 1901Email & email\\_A &  TRUE & 1 & 0 & 32.90 & 247.39 & 323.57 &   0.00 & 37.32 & 608.28 &  92 & 9\\\\\n",
       "\\end{tabular}\n"
      ],
      "text/markdown": [
       "\n",
       "A data.frame: 6 × 14\n",
       "\n",
       "| <!--/--> | user_id &lt;int&gt; | cpgn_id &lt;chr&gt; | group &lt;chr&gt; | email &lt;lgl&gt; | open &lt;int&gt; | click &lt;int&gt; | purch &lt;dbl&gt; | chard &lt;dbl&gt; | sav_blanc &lt;dbl&gt; | syrah &lt;dbl&gt; | cab &lt;dbl&gt; | past_purch &lt;dbl&gt; | days_since &lt;int&gt; | visits &lt;int&gt; |\n",
       "|---|---|---|---|---|---|---|---|---|---|---|---|---|---|---|\n",
       "| 1 | 1000001 | 1901Email | email_A |  TRUE | 1 | 0 |  0.00 |  18.52 |  41.58 |   0.00 |  0.00 |  60.10 |  32 | 9 |\n",
       "| 2 | 1000002 | 1901Email | email_B |  TRUE | 1 | 1 | 24.71 |   0.00 |   0.00 | 108.36 |  0.00 | 108.36 |   3 | 4 |\n",
       "| 3 | 1000003 | 1901Email | email_A |  TRUE | 1 | 1 |  0.00 |   0.00 |  65.92 |   0.00 |  0.00 |  65.92 | 120 | 6 |\n",
       "| 4 | 1000004 | 1901Email | ctrl    | FALSE | 0 | 0 |  0.00 |   0.00 |   0.00 |   0.00 |  0.00 |   0.00 | 148 | 4 |\n",
       "| 5 | 1000005 | 1901Email | ctrl    | FALSE | 0 | 0 | 22.76 |   0.00 |  53.62 |   0.00 | 16.53 |  70.15 |  40 | 5 |\n",
       "| 6 | 1000006 | 1901Email | email_A |  TRUE | 1 | 0 | 32.90 | 247.39 | 323.57 |   0.00 | 37.32 | 608.28 |  92 | 9 |\n",
       "\n"
      ],
      "text/plain": [
       "  user_id cpgn_id   group   email open click purch chard  sav_blanc syrah \n",
       "1 1000001 1901Email email_A  TRUE 1    0      0.00  18.52  41.58      0.00\n",
       "2 1000002 1901Email email_B  TRUE 1    1     24.71   0.00   0.00    108.36\n",
       "3 1000003 1901Email email_A  TRUE 1    1      0.00   0.00  65.92      0.00\n",
       "4 1000004 1901Email ctrl    FALSE 0    0      0.00   0.00   0.00      0.00\n",
       "5 1000005 1901Email ctrl    FALSE 0    0     22.76   0.00  53.62      0.00\n",
       "6 1000006 1901Email email_A  TRUE 1    0     32.90 247.39 323.57      0.00\n",
       "  cab   past_purch days_since visits\n",
       "1  0.00  60.10      32        9     \n",
       "2  0.00 108.36       3        4     \n",
       "3  0.00  65.92     120        6     \n",
       "4  0.00   0.00     148        4     \n",
       "5 16.53  70.15      40        5     \n",
       "6 37.32 608.28      92        9     "
      ]
     },
     "metadata": {},
     "output_type": "display_data"
    }
   ],
   "source": [
    "head(data_Q5)"
   ]
  },
  {
   "cell_type": "markdown",
   "metadata": {
    "deletable": false,
    "editable": false,
    "nbgrader": {
     "grade": false,
     "locked": true,
     "solution": false
    }
   },
   "source": [
    "### A. The first step is to evaluate whether groups were properly randomized. One way to do this is to group the data by their group type (email_A, email_B and ctrl) and compare baseline variables that are not part of the experiment.\n",
    "\n",
    "### Group the data by ‘group’ variables and compare the means of lifetime purchases of the four types of wine tracked (chard, sav_blanc, syrah, cab).\n",
    "\n",
    "### Does it appear that the data was properly randomized? (2 points)"
   ]
  },
  {
   "cell_type": "code",
   "execution_count": 51,
   "metadata": {
    "collapsed": true
   },
   "outputs": [],
   "source": [
    "# Split the dataframe into separate dataframes based on the \"group\" column\n",
    "split_data <- split(data_Q5, data_Q5$group)\n",
    "\n",
    "# Access each separate dataframe\n",
    "email_A_data <- split_data$email_A\n",
    "email_B_data <- split_data$email_B\n",
    "ctrl_data <- split_data$ctrl"
   ]
  },
  {
   "cell_type": "code",
   "execution_count": 53,
   "metadata": {},
   "outputs": [
    {
     "data": {
      "text/html": [
       "74.1205567519175"
      ],
      "text/latex": [
       "74.1205567519175"
      ],
      "text/markdown": [
       "74.1205567519175"
      ],
      "text/plain": [
       "[1] 74.12056"
      ]
     },
     "metadata": {},
     "output_type": "display_data"
    },
    {
     "data": {
      "text/html": [
       "74.6937956398655"
      ],
      "text/latex": [
       "74.6937956398655"
      ],
      "text/markdown": [
       "74.6937956398655"
      ],
      "text/plain": [
       "[1] 74.6938"
      ]
     },
     "metadata": {},
     "output_type": "display_data"
    },
    {
     "data": {
      "text/html": [
       "27.5069723438748"
      ],
      "text/latex": [
       "27.5069723438748"
      ],
      "text/markdown": [
       "27.5069723438748"
      ],
      "text/plain": [
       "[1] 27.50697"
      ]
     },
     "metadata": {},
     "output_type": "display_data"
    },
    {
     "data": {
      "text/html": [
       "16.2027389968303"
      ],
      "text/latex": [
       "16.2027389968303"
      ],
      "text/markdown": [
       "16.2027389968303"
      ],
      "text/plain": [
       "[1] 16.20274"
      ]
     },
     "metadata": {},
     "output_type": "display_data"
    }
   ],
   "source": [
    "mean(email_A_data$chard)\n",
    "mean(email_A_data$sav_blanc)\n",
    "mean(email_A_data$syrah)\n",
    "mean(email_A_data$cab)"
   ]
  },
  {
   "cell_type": "code",
   "execution_count": 54,
   "metadata": {},
   "outputs": [
    {
     "data": {
      "text/html": [
       "73.9248939001669"
      ],
      "text/latex": [
       "73.9248939001669"
      ],
      "text/markdown": [
       "73.9248939001669"
      ],
      "text/plain": [
       "[1] 73.92489"
      ]
     },
     "metadata": {},
     "output_type": "display_data"
    },
    {
     "data": {
      "text/html": [
       "73.7182002951922"
      ],
      "text/latex": [
       "73.7182002951922"
      ],
      "text/markdown": [
       "73.7182002951922"
      ],
      "text/plain": [
       "[1] 73.7182"
      ]
     },
     "metadata": {},
     "output_type": "display_data"
    },
    {
     "data": {
      "text/html": [
       "27.3058544847444"
      ],
      "text/latex": [
       "27.3058544847444"
      ],
      "text/markdown": [
       "27.3058544847444"
      ],
      "text/plain": [
       "[1] 27.30585"
      ]
     },
     "metadata": {},
     "output_type": "display_data"
    },
    {
     "data": {
      "text/html": [
       "15.8789697306976"
      ],
      "text/latex": [
       "15.8789697306976"
      ],
      "text/markdown": [
       "15.8789697306976"
      ],
      "text/plain": [
       "[1] 15.87897"
      ]
     },
     "metadata": {},
     "output_type": "display_data"
    }
   ],
   "source": [
    "mean(email_B_data$chard)\n",
    "mean(email_B_data$sav_blanc)\n",
    "mean(email_B_data$syrah)\n",
    "mean(email_B_data$cab)"
   ]
  },
  {
   "cell_type": "code",
   "execution_count": 55,
   "metadata": {},
   "outputs": [
    {
     "data": {
      "text/html": [
       "75.3027679651585"
      ],
      "text/latex": [
       "75.3027679651585"
      ],
      "text/markdown": [
       "75.3027679651585"
      ],
      "text/plain": [
       "[1] 75.30277"
      ]
     },
     "metadata": {},
     "output_type": "display_data"
    },
    {
     "data": {
      "text/html": [
       "74.0809598354706"
      ],
      "text/latex": [
       "74.0809598354706"
      ],
      "text/markdown": [
       "74.0809598354706"
      ],
      "text/plain": [
       "[1] 74.08096"
      ]
     },
     "metadata": {},
     "output_type": "display_data"
    },
    {
     "data": {
      "text/html": [
       "27.4928533752722"
      ],
      "text/latex": [
       "27.4928533752722"
      ],
      "text/markdown": [
       "27.4928533752722"
      ],
      "text/plain": [
       "[1] 27.49285"
      ]
     },
     "metadata": {},
     "output_type": "display_data"
    },
    {
     "data": {
      "text/html": [
       "16.2788245826276"
      ],
      "text/latex": [
       "16.2788245826276"
      ],
      "text/markdown": [
       "16.2788245826276"
      ],
      "text/plain": [
       "[1] 16.27882"
      ]
     },
     "metadata": {},
     "output_type": "display_data"
    }
   ],
   "source": [
    "mean(ctrl_data$chard)\n",
    "mean(ctrl_data$sav_blanc)\n",
    "mean(ctrl_data$syrah)\n",
    "mean(ctrl_data$cab)"
   ]
  },
  {
   "cell_type": "markdown",
   "metadata": {},
   "source": [
    "**The averages of each type of wine are close to each other, which suggests that the data is properly randomised.**"
   ]
  },
  {
   "cell_type": "markdown",
   "metadata": {
    "deletable": false,
    "editable": false,
    "nbgrader": {
     "grade": false,
     "locked": true,
     "solution": false
    }
   },
   "source": [
    "\n",
    "### B. We now need to confirm that we have an appropriate sample size. We will confirm that we have enough data to compare proportions of open rate. What is the n for our groups (email_A, email_B) (1 point)?"
   ]
  },
  {
   "cell_type": "code",
   "execution_count": 56,
   "metadata": {},
   "outputs": [
    {
     "data": {
      "text/html": [
       "41329"
      ],
      "text/latex": [
       "41329"
      ],
      "text/markdown": [
       "41329"
      ],
      "text/plain": [
       "[1] 41329"
      ]
     },
     "metadata": {},
     "output_type": "display_data"
    }
   ],
   "source": [
    "nrow(email_A_data)"
   ]
  },
  {
   "cell_type": "code",
   "execution_count": 57,
   "metadata": {},
   "outputs": [
    {
     "data": {
      "text/html": [
       "41329"
      ],
      "text/latex": [
       "41329"
      ],
      "text/markdown": [
       "41329"
      ],
      "text/plain": [
       "[1] 41329"
      ]
     },
     "metadata": {},
     "output_type": "display_data"
    }
   ],
   "source": [
    "nrow(email_B_data)"
   ]
  },
  {
   "cell_type": "markdown",
   "metadata": {},
   "source": [
    "**There is more than enough data in each sub group.**"
   ]
  },
  {
   "cell_type": "markdown",
   "metadata": {
    "deletable": false,
    "editable": false,
    "nbgrader": {
     "grade": false,
     "locked": true,
     "solution": false
    }
   },
   "source": [
    "### C. We want to confirm our sample size is sufficient using a power calculation for proportions. The function for this is:\n",
    "*power.prop.test(n = NULL, p1 = NULL, p2 = NULL, sig.level = 0.05, power = 0.80)*\n",
    "### We want to calculate n, so leave that parameter as NULL. Use the open rate of email_A and email_B as the estimated proportions p1 and p2. Round proportions to 4 digits to match solution. What is the minimum sample size to detect this expected proportion difference? Is our sample size sufficient to detect the expected difference in open rates of our two emails? (2 points)"
   ]
  },
  {
   "cell_type": "code",
   "execution_count": 59,
   "metadata": {},
   "outputs": [],
   "source": [
    "p1 = sum(email_A_data$open)/nrow(email_A_data)\n",
    "\n",
    "p2 = sum(email_B_data$open)/nrow(email_B_data)"
   ]
  },
  {
   "cell_type": "code",
   "execution_count": 61,
   "metadata": {},
   "outputs": [
    {
     "data": {
      "text/plain": [
       "\n",
       "     Two-sample comparison of proportions power calculation \n",
       "\n",
       "              n = 784.7733\n",
       "             p1 = 0.7183092\n",
       "             p2 = 0.6526894\n",
       "      sig.level = 0.05\n",
       "          power = 0.8\n",
       "    alternative = two.sided\n",
       "\n",
       "NOTE: n is number in *each* group\n"
      ]
     },
     "metadata": {},
     "output_type": "display_data"
    }
   ],
   "source": [
    "power_result <- power.prop.test(n = NULL, p1 = p1, p2 = p2, sig.level = 0.05, power = 0.80)\n",
    "\n",
    "power_result"
   ]
  },
  {
   "cell_type": "markdown",
   "metadata": {},
   "source": [
    "**Minimum sample size is 785**"
   ]
  },
  {
   "cell_type": "markdown",
   "metadata": {
    "deletable": false,
    "editable": false,
    "nbgrader": {
     "grade": false,
     "locked": true,
     "solution": false
    }
   },
   "source": [
    "### D. We now know that the data we have collected is sufficient to answer the question whether there is a difference between the open rate of email A and email B. Use the following function to evaluate whether there is a statistical difference between the open rates of email A and email B:\n",
    "*prop.test()*\n",
    "\n",
    "*Hint: If using the method shown in the advanced module, xtabs() objects must be put into a variable before being used in the prop.test function.*\n",
    "<br \\>*Hint: Confirm the proportion estimates obtained in the prop.test() function match the proportions you calculated manually.*\n",
    "\n",
    "If the confidence interval does not include 0, then the open rate of the two emails is statistically significant.\n",
    "### Is there a significant difference between the open rates of the two tested emails ? (1 point)"
   ]
  },
  {
   "cell_type": "code",
   "execution_count": 68,
   "metadata": {},
   "outputs": [
    {
     "name": "stdout",
     "output_type": "stream",
     "text": [
      "\n",
      "\t2-sample test for equality of proportions with continuity correction\n",
      "\n",
      "data:  c(sum(email_A_data$open == 1), sum(email_B_data$open == 1)) out of c(nrow(data_Q5), nrow(data_Q5))\n",
      "X-squared = 168.12, df = 1, p-value < 2.2e-16\n",
      "alternative hypothesis: two.sided\n",
      "95 percent confidence interval:\n",
      " 0.01856105 0.02518512\n",
      "sample estimates:\n",
      "   prop 1    prop 2 \n",
      "0.2394345 0.2175614 \n",
      "\n"
     ]
    }
   ],
   "source": [
    "# Perform the hypothesis test using prop.test()\n",
    "test_result <- prop.test(x = c(sum(email_A_data$open == 1), sum(email_B_data$open == 1)), \n",
    "                         n = c(nrow(data_Q5), nrow(data_Q5)), \n",
    "                         alternative = \"two.sided\")\n",
    "\n",
    "# Print the test result\n",
    "print(test_result)"
   ]
  },
  {
   "cell_type": "markdown",
   "metadata": {},
   "source": [
    "**Conclusion**\n",
    "\n",
    "Based on the output, the p-value < 2.2e-16, which is less than the significance level of 0.05. Therefore, we have sufficient evidence to reject the null hypothesis that the proportions of open rates for \"email_A\" and \"email_B\" are equal. \n",
    "\n",
    "This suggests that there is a statistical difference between the open rates of email A and email B."
   ]
  },
  {
   "cell_type": "markdown",
   "metadata": {
    "deletable": false,
    "editable": false,
    "nbgrader": {
     "grade": false,
     "locked": true,
     "solution": false
    }
   },
   "source": [
    "### E. Complete steps in c) and d) for the click through rate data. Is there sufficient data to evaluate the click through rate of email A and B? (1 point)"
   ]
  },
  {
   "cell_type": "markdown",
   "metadata": {},
   "source": [
    "### Click Through Rate"
   ]
  },
  {
   "cell_type": "code",
   "execution_count": 65,
   "metadata": {
    "collapsed": true
   },
   "outputs": [],
   "source": [
    "p1 = sum(email_A_data$click)/nrow(email_A_data)\n",
    "\n",
    "p2 = sum(email_B_data$click)/nrow(email_B_data)"
   ]
  },
  {
   "cell_type": "code",
   "execution_count": 66,
   "metadata": {},
   "outputs": [
    {
     "data": {
      "text/plain": [
       "\n",
       "     Two-sample comparison of proportions power calculation \n",
       "\n",
       "              n = 1115.349\n",
       "             p1 = 0.1293765\n",
       "             p2 = 0.09216289\n",
       "      sig.level = 0.05\n",
       "          power = 0.8\n",
       "    alternative = two.sided\n",
       "\n",
       "NOTE: n is number in *each* group\n"
      ]
     },
     "metadata": {},
     "output_type": "display_data"
    }
   ],
   "source": [
    "power_result <- power.prop.test(n = NULL, p1 = p1, p2 = p2, sig.level = 0.05, power = 0.80)\n",
    "\n",
    "power_result"
   ]
  },
  {
   "cell_type": "markdown",
   "metadata": {},
   "source": [
    "**Yes there is sufficient data**"
   ]
  },
  {
   "cell_type": "markdown",
   "metadata": {
    "deletable": false,
    "editable": false,
    "nbgrader": {
     "grade": false,
     "locked": true,
     "solution": false
    }
   },
   "source": [
    "### F. Is there a statistical difference between the click through rates of email A and B? (1 point)"
   ]
  },
  {
   "cell_type": "code",
   "execution_count": 69,
   "metadata": {},
   "outputs": [
    {
     "name": "stdout",
     "output_type": "stream",
     "text": [
      "\n",
      "\t2-sample test for equality of proportions with continuity correction\n",
      "\n",
      "data:  c(sum(email_A_data$click == 1), sum(email_B_data$click == 1)) out of c(nrow(data_Q5), nrow(data_Q5))\n",
      "X-squared = 267.91, df = 1, p-value < 2.2e-16\n",
      "alternative hypothesis: two.sided\n",
      "95 percent confidence interval:\n",
      " 0.01091276 0.01389609\n",
      "sample estimates:\n",
      "    prop 1     prop 2 \n",
      "0.04312514 0.03072071 \n",
      "\n"
     ]
    }
   ],
   "source": [
    "# Perform the hypothesis test using prop.test()\n",
    "test_result <- prop.test(x = c(sum(email_A_data$click == 1), sum(email_B_data$click == 1)), \n",
    "                         n = c(nrow(data_Q5), nrow(data_Q5)), \n",
    "                         alternative = \"two.sided\")\n",
    "\n",
    "# Print the test result\n",
    "print(test_result)"
   ]
  },
  {
   "cell_type": "markdown",
   "metadata": {},
   "source": [
    "**Conclusion**\n",
    "\n",
    "Based on the output, the p-value < 2.2e-16, which is less than the significance level of 0.05. Therefore, we have sufficient evidence to reject the null hypothesis that the proportions of click through rates for \"email_A\" and \"email_B\" are equal. \n",
    "\n",
    "This suggests that there is a statistical difference between the click through rates of email A and email B."
   ]
  },
  {
   "cell_type": "markdown",
   "metadata": {
    "collapsed": true
   },
   "source": [
    "---"
   ]
  },
  {
   "cell_type": "markdown",
   "metadata": {},
   "source": [
    "---"
   ]
  }
 ],
 "metadata": {
  "kernelspec": {
   "display_name": "R 4.0.2",
   "language": "R",
   "name": "ir-4.0.2"
  },
  "language_info": {
   "codemirror_mode": "r",
   "file_extension": ".r",
   "mimetype": "text/x-r-source",
   "name": "R",
   "pygments_lexer": "r",
   "version": "4.0.2"
  }
 },
 "nbformat": 4,
 "nbformat_minor": 2
}
