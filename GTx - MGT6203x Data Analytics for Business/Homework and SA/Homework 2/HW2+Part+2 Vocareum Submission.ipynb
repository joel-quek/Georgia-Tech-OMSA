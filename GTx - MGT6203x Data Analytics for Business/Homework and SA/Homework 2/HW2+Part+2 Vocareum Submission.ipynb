{
 "cells": [
  {
   "cell_type": "markdown",
   "metadata": {
    "deletable": false,
    "editable": false,
    "nbgrader": {
     "grade": false,
     "locked": true,
     "solution": false
    }
   },
   "source": [
    "# MGT6203 HW2 Part 2"
   ]
  },
  {
   "cell_type": "markdown",
   "metadata": {
    "deletable": false,
    "editable": false,
    "nbgrader": {
     "grade": false,
     "locked": true,
     "solution": false
    }
   },
   "source": [
    "## Instructions:\n",
    "\n",
    "\n",
    "**For Homework 2 Part 2, please use this R notebook in Vocareum to submit your solutions. Vocareum is an educational cloud platform for programming in several languages; it is based on the Jupyter notebook environment. This platform allows us to move homework assignments to the cloud. The advantages are that all of you will be working in the same coding environment AND peer reviewers will be able to run your R code easily. This way we eliminate some issues we might encounter when working on an individual/local basis, such as library installations and Rstudio OS requirements; R notebooks work on mobile platforms and tablets.**\n",
    "\n",
    "**With R notebooks, you will be learning a new way of presenting data analysis reports, that is neat and flexible, where formatted (English) text and (R) code can easily coexist on the same page. Notebooks can be also collaborative when needed. For now, we are asking each of you to do your own work for homework. Think of R notebooks as interactive program-based Google docs or MS-Office 360 docs; these are gradually replacing local files on our computers. **\n",
    "\n",
    "**Many of you are new to the R notebooks and Vocareum platforms. We will provide TA help in Piazza with specific code if you have questions. Here we list some important things to get you started. Please read through them carefully.**\n",
    "\n",
    "\n",
    "<ol>\n",
    "<li>Even though we are moving from your local envrionment to the cloud, **our expectations from your homework will remain the same**. Same goes for the rubrics.</li>\n",
    "\n",
    "<li>Vocareum has its own cloud based file system, the data files you will be using for the assignments will be stored in the cloud with path **\"../resource/asnlib/publicdata/FILENAME.csv\"**. You will be able to import them with the same method as you do in RStudio, simply substitute the path name to the one specified in the instructions. You won't be able to modify these data files.</li>\n",
    "\n",
    "<li>You will be able to find the data files on Canvas/EdX if you would like to explore them offline.</li>\n",
    "\n",
    "<li>**For coding questions, you will be graded on the R code as well as the output** in your submission.</li>\n",
    "\n",
    "<li>**For interpretations or short response questions, please type the answers in the notebook's markdown cells**. To change a code cell to a markdown cell, click on the cell, and in the dropdown menu above, switch the type of the cell block from \"code\" to \"markdown\". **Adding print statements to code cells for short response/interpretation questions is also fine, as long as we can clearly see the output of your response**.</li>\n",
    "\n",
    "<li>You don't need to, but if you would like to learn more about how to format your markdown cells, visit the following site: https://www.earthdatascience.org/courses/intro-to-earth-data-science/file-formats/use-text-files/format-text-with-markdown-jupyter-notebook/. Jupyter notebook also support LaTeX.</li>\n",
    "\n",
    "<li>**Feel free to delete or add as many additional cells as you need**. But please try to keep your notebook clean and keep your solution to a question directly under that question to avoid confusions.</li>\n",
    "\n",
    "<li>You may delete the #SOLUTION BEGINS/ENDS HERE comments from the cell blocks, they are just pointers that indicates where to put you solutions.</li>\n",
    "\n",
    "<li>**When you have finished the assignment, remember to rerun your notebook to check if it runs correctly.** You can do so by going to **Kernel-> Restart & Run All**. You may lose points if your solutions does not run successfully.</li>\n",
    "\n",
    "<li>**Click the \"Submit\" button on the top right corner to turn in your assignment**. Your assignment will enter the next phase for peer review.</li>\n",
    "\n",
    "<li>**You are allowed a total of 2 submissions for this assignment. So make sure that you submit your responses carefully. You will be able to come back and resubmit your assignment as long as it is before the start of the peer review period.</li>\n",
    "\n",
    "<li>**Please remember to finish the peer reviews after you have submitted your assignment.** You are responsible for grading the work of three of your peers thoroughly, and in addherence to the rubrics. And you will be held accountable for peer grading. **There will be a 30% penalty to your grade if you fail to complete one or more peer reviews in proper fashion.**</li>\n",
    "\n",
    "<li>This is the first time we implement this homework system in the MGT6203, feel free to address your questions, concerns, and provide any feedback on Piazza. We will continuously try to improve going forward.</li>\n",
    "\n",
    "<li>Good Luck!</li>\n",
    "\n",
    "</ol>\n",
    "\n"
   ]
  },
  {
   "cell_type": "markdown",
   "metadata": {
    "deletable": false,
    "editable": false,
    "nbgrader": {
     "grade": false,
     "locked": true,
     "solution": false
    }
   },
   "source": [
    "# About Package Installation:\n",
    "\n",
    "Most of the packages (if not all) that you will need to complete this assignment are already installed in this environment. An easy way to check this is to run the command: library(PackageName). If this command runs successfully then the package was already installed and has been successfully attached to the code. If the command gave an error saying the Package was not found then follow the steps below to successfully install the package and attach it to the code: \n",
    "\n",
    "Use *installed.packages()* command to return a table of the packages that are preinstalled in the environment.\n",
    "\n",
    "To attach a preinstalled library in Vocareum, simply use *library(PackageName)*\n",
    "\n",
    "**To install a package that does not come with the provided environment, please use the following syntax:**\n",
    "\n",
    "*install.packages(\"PackageName\", lib=\"../work/\")*\n",
    "\n",
    "**To attach a library you just installed, use the following syntax:**\n",
    "\n",
    "*library(PackageName, lib.loc=\"../work/\")*\n",
    "\n",
    "Make sure the file location is the same as the above code snippets *(\"../work/\")*\n",
    "\n",
    "\n"
   ]
  },
  {
   "cell_type": "markdown",
   "metadata": {
    "deletable": false,
    "editable": false,
    "nbgrader": {
     "grade": false,
     "locked": true,
     "solution": false
    }
   },
   "source": [
    "## Q1. (15 Points Total)\n",
    "\n",
    "\n",
    "** ‘mtcars’ is a dataset within R that includes vehicle properties and data across 32 automobiles. In this analysis, we will take a look at the relationship between a vehicle’s fuel eﬀiciency and its number of cylinders. We will consider cars with 4 cylinders as the “control” group, and cars with 6 and 8 cylinders as “treatment” groups.**   \n"
   ]
  },
  {
   "cell_type": "code",
   "execution_count": 146,
   "metadata": {},
   "outputs": [
    {
     "data": {
      "text/plain": [
       "      mpg        cyl         disp             hp             drat      \n",
       " Min.   :10.40   4:11   Min.   : 71.1   Min.   : 52.0   Min.   :2.760  \n",
       " 1st Qu.:15.43   6: 7   1st Qu.:120.8   1st Qu.: 96.5   1st Qu.:3.080  \n",
       " Median :19.20   8:14   Median :196.3   Median :123.0   Median :3.695  \n",
       " Mean   :20.09          Mean   :230.7   Mean   :146.7   Mean   :3.597  \n",
       " 3rd Qu.:22.80          3rd Qu.:326.0   3rd Qu.:180.0   3rd Qu.:3.920  \n",
       " Max.   :33.90          Max.   :472.0   Max.   :335.0   Max.   :4.930  \n",
       "       wt             qsec             vs               am        \n",
       " Min.   :1.513   Min.   :14.50   Min.   :0.0000   Min.   :0.0000  \n",
       " 1st Qu.:2.581   1st Qu.:16.89   1st Qu.:0.0000   1st Qu.:0.0000  \n",
       " Median :3.325   Median :17.71   Median :0.0000   Median :0.0000  \n",
       " Mean   :3.217   Mean   :17.85   Mean   :0.4375   Mean   :0.4062  \n",
       " 3rd Qu.:3.610   3rd Qu.:18.90   3rd Qu.:1.0000   3rd Qu.:1.0000  \n",
       " Max.   :5.424   Max.   :22.90   Max.   :1.0000   Max.   :1.0000  \n",
       "      gear            carb      \n",
       " Min.   :3.000   Min.   :1.000  \n",
       " 1st Qu.:3.000   1st Qu.:2.000  \n",
       " Median :4.000   Median :2.000  \n",
       " Mean   :3.688   Mean   :2.812  \n",
       " 3rd Qu.:4.000   3rd Qu.:4.000  \n",
       " Max.   :5.000   Max.   :8.000  "
      ]
     },
     "metadata": {},
     "output_type": "display_data"
    }
   ],
   "source": [
    "# Load libraries needed\n",
    "library(dplyr)\n",
    "library(datasets)\n",
    "\n",
    "# Load the mtcars dataset\n",
    "summary(mtcars)"
   ]
  },
  {
   "cell_type": "code",
   "execution_count": 147,
   "metadata": {
    "collapsed": true
   },
   "outputs": [],
   "source": [
    "mtcars$cyl<-factor(mtcars$cyl)"
   ]
  },
  {
   "cell_type": "markdown",
   "metadata": {
    "deletable": false,
    "editable": false,
    "nbgrader": {
     "grade": false,
     "locked": true,
     "solution": false
    }
   },
   "source": [
    "### A. Create two separate datasets:  dataset1 containing cars with 4 cylinders and 6 cylinders, and dataset2 containing cars with 4 cylinders and 8 cylinders.Then, compute the difference estimator for each of the datasets that you just created. (6-cylinders vs. 4-cylinders for dataset1, and 8-cylinders vs. 4-cylinders for dataset2). (7 points)\n",
    "\n",
    "*Note: You may need to convert values in 'cyl' to be categorical*"
   ]
  },
  {
   "cell_type": "markdown",
   "metadata": {},
   "source": [
    "### Difference Estimator 1 - Difference in Means"
   ]
  },
  {
   "cell_type": "code",
   "execution_count": 148,
   "metadata": {
    "collapsed": true
   },
   "outputs": [],
   "source": [
    "# Subset with 4 and 6 cylinders\n",
    "mtcars_4_6 <- subset(mtcars, cyl %in% c(4, 6))\n",
    "\n",
    "# Subset with 8 cylinders\n",
    "mtcars_4_8 <- subset(mtcars, cyl %in% c(4, 8))"
   ]
  },
  {
   "cell_type": "code",
   "execution_count": 149,
   "metadata": {
    "collapsed": true
   },
   "outputs": [],
   "source": [
    "# Compute the difference estimator for mpg\n",
    "mean_4cyl <- mean(mtcars_4_6$mpg[mtcars_4_6$cyl == 4])\n",
    "mean_6cyl <- mean(mtcars_4_6$mpg[mtcars_4_6$cyl == 6])\n",
    "mean_8cyl <- mean(mtcars_4_8$mpg[mtcars_4_8$cyl == 8])\n",
    "\n",
    "diff_estimator_4_6 <- mean_4cyl - mean_6cyl\n",
    "\n",
    "diff_estimator_4_8 <- mean_4cyl - mean_8cyl"
   ]
  },
  {
   "cell_type": "code",
   "execution_count": 150,
   "metadata": {},
   "outputs": [
    {
     "data": {
      "text/html": [
       "6.92077922077922"
      ],
      "text/latex": [
       "6.92077922077922"
      ],
      "text/markdown": [
       "6.92077922077922"
      ],
      "text/plain": [
       "[1] 6.920779"
      ]
     },
     "metadata": {},
     "output_type": "display_data"
    }
   ],
   "source": [
    "diff_estimator_4_6"
   ]
  },
  {
   "cell_type": "code",
   "execution_count": 151,
   "metadata": {},
   "outputs": [
    {
     "data": {
      "text/html": [
       "11.5636363636364"
      ],
      "text/latex": [
       "11.5636363636364"
      ],
      "text/markdown": [
       "11.5636363636364"
      ],
      "text/plain": [
       "[1] 11.56364"
      ]
     },
     "metadata": {},
     "output_type": "display_data"
    }
   ],
   "source": [
    "diff_estimator_4_8"
   ]
  },
  {
   "cell_type": "markdown",
   "metadata": {},
   "source": [
    "Difference between cars with 4 cylinders and 6 cylinders is 6.92077 mpg\n",
    "\n",
    "Difference between cars with 4 cylinders and 8 cylinders is 11.5636 mpg"
   ]
  },
  {
   "cell_type": "markdown",
   "metadata": {},
   "source": [
    "### Difference Estimator 2 - Linear Regression"
   ]
  },
  {
   "cell_type": "code",
   "execution_count": 8,
   "metadata": {
    "collapsed": true
   },
   "outputs": [],
   "source": [
    "model_4_6 <- lm(mpg ~ cyl, data = mtcars_4_6)\n",
    "model_4_8 <- lm(mpg ~ cyl, data = mtcars_4_8)"
   ]
  },
  {
   "cell_type": "code",
   "execution_count": 9,
   "metadata": {},
   "outputs": [
    {
     "data": {
      "text/plain": [
       "\n",
       "Call:\n",
       "lm(formula = mpg ~ cyl, data = mtcars_4_6)\n",
       "\n",
       "Residuals:\n",
       "    Min      1Q  Median      3Q     Max \n",
       "-5.2636 -2.1834 -0.2929  1.5571  7.2364 \n",
       "\n",
       "Coefficients:\n",
       "            Estimate Std. Error t value Pr(>|t|)    \n",
       "(Intercept)   26.664      1.108  24.065 5.43e-14 ***\n",
       "cyl6          -6.921      1.777  -3.895  0.00129 ** \n",
       "---\n",
       "Signif. codes:  0 ‘***’ 0.001 ‘**’ 0.01 ‘*’ 0.05 ‘.’ 0.1 ‘ ’ 1\n",
       "\n",
       "Residual standard error: 3.675 on 16 degrees of freedom\n",
       "Multiple R-squared:  0.4867,\tAdjusted R-squared:  0.4547 \n",
       "F-statistic: 15.17 on 1 and 16 DF,  p-value: 0.001287\n"
      ]
     },
     "metadata": {},
     "output_type": "display_data"
    }
   ],
   "source": [
    "summary(model_4_6)"
   ]
  },
  {
   "cell_type": "code",
   "execution_count": 10,
   "metadata": {
    "collapsed": true
   },
   "outputs": [],
   "source": [
    "coef_estimates_4_6 <- coef(model_4_6)"
   ]
  },
  {
   "cell_type": "code",
   "execution_count": 11,
   "metadata": {},
   "outputs": [
    {
     "data": {
      "text/html": [
       "<style>\n",
       ".dl-inline {width: auto; margin:0; padding: 0}\n",
       ".dl-inline>dt, .dl-inline>dd {float: none; width: auto; display: inline-block}\n",
       ".dl-inline>dt::after {content: \":\\0020\"; padding-right: .5ex}\n",
       ".dl-inline>dt:not(:first-of-type) {padding-left: .5ex}\n",
       "</style><dl class=dl-inline><dt>(Intercept)</dt><dd>26.6636363636364</dd><dt>cyl6</dt><dd>-6.92077922077922</dd></dl>\n"
      ],
      "text/latex": [
       "\\begin{description*}\n",
       "\\item[(Intercept)] 26.6636363636364\n",
       "\\item[cyl6] -6.92077922077922\n",
       "\\end{description*}\n"
      ],
      "text/markdown": [
       "(Intercept)\n",
       ":   26.6636363636364cyl6\n",
       ":   -6.92077922077922\n",
       "\n"
      ],
      "text/plain": [
       "(Intercept)        cyl6 \n",
       "  26.663636   -6.920779 "
      ]
     },
     "metadata": {},
     "output_type": "display_data"
    }
   ],
   "source": [
    "coef_estimates_4_6"
   ]
  },
  {
   "cell_type": "code",
   "execution_count": 12,
   "metadata": {},
   "outputs": [
    {
     "data": {
      "text/html": [
       "<strong>cyl6:</strong> -33.5844155844156"
      ],
      "text/latex": [
       "\\textbf{cyl6:} -33.5844155844156"
      ],
      "text/markdown": [
       "**cyl6:** -33.5844155844156"
      ],
      "text/plain": [
       "     cyl6 \n",
       "-33.58442 "
      ]
     },
     "metadata": {},
     "output_type": "display_data"
    }
   ],
   "source": [
    "diff_estimator_4_6 <- coef_estimates_4_6[2] - coef_estimates_4_6[1]\n",
    "diff_estimator_4_6"
   ]
  },
  {
   "cell_type": "code",
   "execution_count": 13,
   "metadata": {},
   "outputs": [
    {
     "data": {
      "text/plain": [
       "\n",
       "Call:\n",
       "lm(formula = mpg ~ cyl, data = mtcars_4_8)\n",
       "\n",
       "Residuals:\n",
       "   Min     1Q Median     3Q    Max \n",
       "-5.264 -2.264  0.100  2.200  7.236 \n",
       "\n",
       "Coefficients:\n",
       "            Estimate Std. Error t value Pr(>|t|)    \n",
       "(Intercept)   26.664      1.068  24.966  < 2e-16 ***\n",
       "cyl8         -11.564      1.427  -8.102 3.45e-08 ***\n",
       "---\n",
       "Signif. codes:  0 ‘***’ 0.001 ‘**’ 0.01 ‘*’ 0.05 ‘.’ 0.1 ‘ ’ 1\n",
       "\n",
       "Residual standard error: 3.542 on 23 degrees of freedom\n",
       "Multiple R-squared:  0.7405,\tAdjusted R-squared:  0.7293 \n",
       "F-statistic: 65.65 on 1 and 23 DF,  p-value: 3.446e-08\n"
      ]
     },
     "metadata": {},
     "output_type": "display_data"
    }
   ],
   "source": [
    "summary(model_4_8)"
   ]
  },
  {
   "cell_type": "code",
   "execution_count": 15,
   "metadata": {
    "collapsed": true
   },
   "outputs": [],
   "source": [
    "coef_estimates_4_8 <- coef(model_4_8)"
   ]
  },
  {
   "cell_type": "code",
   "execution_count": 16,
   "metadata": {},
   "outputs": [
    {
     "data": {
      "text/html": [
       "<style>\n",
       ".dl-inline {width: auto; margin:0; padding: 0}\n",
       ".dl-inline>dt, .dl-inline>dd {float: none; width: auto; display: inline-block}\n",
       ".dl-inline>dt::after {content: \":\\0020\"; padding-right: .5ex}\n",
       ".dl-inline>dt:not(:first-of-type) {padding-left: .5ex}\n",
       "</style><dl class=dl-inline><dt>(Intercept)</dt><dd>26.6636363636364</dd><dt>cyl8</dt><dd>-11.5636363636364</dd></dl>\n"
      ],
      "text/latex": [
       "\\begin{description*}\n",
       "\\item[(Intercept)] 26.6636363636364\n",
       "\\item[cyl8] -11.5636363636364\n",
       "\\end{description*}\n"
      ],
      "text/markdown": [
       "(Intercept)\n",
       ":   26.6636363636364cyl8\n",
       ":   -11.5636363636364\n",
       "\n"
      ],
      "text/plain": [
       "(Intercept)        cyl8 \n",
       "   26.66364   -11.56364 "
      ]
     },
     "metadata": {},
     "output_type": "display_data"
    }
   ],
   "source": [
    "coef_estimates_4_8"
   ]
  },
  {
   "cell_type": "code",
   "execution_count": 17,
   "metadata": {},
   "outputs": [
    {
     "data": {
      "text/html": [
       "<strong>cyl8:</strong> -38.2272727272727"
      ],
      "text/latex": [
       "\\textbf{cyl8:} -38.2272727272727"
      ],
      "text/markdown": [
       "**cyl8:** -38.2272727272727"
      ],
      "text/plain": [
       "     cyl8 \n",
       "-38.22727 "
      ]
     },
     "metadata": {},
     "output_type": "display_data"
    }
   ],
   "source": [
    "diff_estimator_4_8 <- coef_estimates_4_8[2] - coef_estimates_4_8[1]\n",
    "diff_estimator_4_8"
   ]
  },
  {
   "cell_type": "code",
   "execution_count": 18,
   "metadata": {},
   "outputs": [
    {
     "data": {
      "text/html": [
       "<strong>cyl6:</strong> -33.5844155844156"
      ],
      "text/latex": [
       "\\textbf{cyl6:} -33.5844155844156"
      ],
      "text/markdown": [
       "**cyl6:** -33.5844155844156"
      ],
      "text/plain": [
       "     cyl6 \n",
       "-33.58442 "
      ]
     },
     "metadata": {},
     "output_type": "display_data"
    },
    {
     "data": {
      "text/html": [
       "<strong>cyl8:</strong> -38.2272727272727"
      ],
      "text/latex": [
       "\\textbf{cyl8:} -38.2272727272727"
      ],
      "text/markdown": [
       "**cyl8:** -38.2272727272727"
      ],
      "text/plain": [
       "     cyl8 \n",
       "-38.22727 "
      ]
     },
     "metadata": {},
     "output_type": "display_data"
    }
   ],
   "source": [
    "diff_estimator_4_6\n",
    "diff_estimator_4_8"
   ]
  },
  {
   "cell_type": "markdown",
   "metadata": {
    "deletable": false,
    "editable": false,
    "nbgrader": {
     "grade": false,
     "locked": true,
     "solution": false
    }
   },
   "source": [
    "### B. From the ‘mtcars’ dataset, compute the average mpg (miles per gallon) for cars with 4 cylinders, cars with 6 cylinders, and cars with 8 cylinders. Comment on which group has the lowest average mpg. Please round your answer to two decimal points. (8 points)"
   ]
  },
  {
   "cell_type": "code",
   "execution_count": 19,
   "metadata": {
    "collapsed": true
   },
   "outputs": [],
   "source": [
    "mean_4cyl <- mean(mtcars$mpg[mtcars$cyl == 4])\n",
    "mean_6cyl <- mean(mtcars$mpg[mtcars$cyl == 6])\n",
    "mean_8cyl <- mean(mtcars$mpg[mtcars$cyl == 8])"
   ]
  },
  {
   "cell_type": "code",
   "execution_count": 20,
   "metadata": {},
   "outputs": [
    {
     "data": {
      "text/html": [
       "26.6636363636364"
      ],
      "text/latex": [
       "26.6636363636364"
      ],
      "text/markdown": [
       "26.6636363636364"
      ],
      "text/plain": [
       "[1] 26.66364"
      ]
     },
     "metadata": {},
     "output_type": "display_data"
    }
   ],
   "source": [
    "mean_4cyl"
   ]
  },
  {
   "cell_type": "code",
   "execution_count": 21,
   "metadata": {},
   "outputs": [
    {
     "data": {
      "text/html": [
       "19.7428571428571"
      ],
      "text/latex": [
       "19.7428571428571"
      ],
      "text/markdown": [
       "19.7428571428571"
      ],
      "text/plain": [
       "[1] 19.74286"
      ]
     },
     "metadata": {},
     "output_type": "display_data"
    }
   ],
   "source": [
    "mean_6cyl"
   ]
  },
  {
   "cell_type": "code",
   "execution_count": 22,
   "metadata": {},
   "outputs": [
    {
     "data": {
      "text/html": [
       "15.1"
      ],
      "text/latex": [
       "15.1"
      ],
      "text/markdown": [
       "15.1"
      ],
      "text/plain": [
       "[1] 15.1"
      ]
     },
     "metadata": {},
     "output_type": "display_data"
    }
   ],
   "source": [
    "mean_8cyl"
   ]
  },
  {
   "cell_type": "markdown",
   "metadata": {},
   "source": [
    "Cars with 8 cylinders has the lowest miles per gallon at 15.1"
   ]
  },
  {
   "cell_type": "markdown",
   "metadata": {
    "deletable": false,
    "editable": false,
    "nbgrader": {
     "grade": false,
     "locked": true,
     "solution": false
    }
   },
   "source": [
    "## Q2. (20 Points Total)\n",
    "\n",
    "**Use the Dataset “min_wage.csv” and the information below to answer the questions.**\n",
    "\n",
    "The Minimum Wage Law protects the right of workers to get a minimum wage. Consider a scenario where the law of minimum wage was changed just in the state of New Jersey (i.e., law has not been changed in other states).  We want to use the data from company XYZ to observe the difference in hours worked by full time employees in New Jersey before and after the law was changed.  \n",
    "\n",
    "Note: The variable 'State’ indicates the citizenship of the worker, i.e., State = New Jersey ,the worker is from NJ, else worker is not from NJ (is from Philadelphia).    \n",
    "\n",
    "Note: The variable 'fte' contains the number of hours worked by full-time employee.   \n",
    "\n",
    "Note: The variable 'd' indicates whether or not the data was collected before or after the law changed, i.e. d = 1 indicates the data was collected after the law was changed, and d = 0 indicates the data was collected before the law was changed.\n"
   ]
  },
  {
   "cell_type": "markdown",
   "metadata": {
    "deletable": false,
    "editable": false,
    "nbgrader": {
     "grade": false,
     "locked": true,
     "solution": false
    }
   },
   "source": [
    "### A. In the above problem, classify the workers into four groups and assign the corresponding group with the group title (A,B,C, and D) where the group titles are as follows:   (4 Points)\n",
    "\n",
    "| |Before|After|\n",
    "|------|------|------|\n",
    "|Control|A|C|\n",
    "|Treated|B|D|\n",
    "\n",
    "**Note: This is a theoretical question, you just need to identify each group with a short description of what the group is. You don’t need to create a column categorizing the datapoints into groups.**"
   ]
  },
  {
   "cell_type": "code",
   "execution_count": 24,
   "metadata": {},
   "outputs": [],
   "source": [
    "wage <- read.csv('../resource/asnlib/publicdata/min_wage.csv')"
   ]
  },
  {
   "cell_type": "code",
   "execution_count": 25,
   "metadata": {},
   "outputs": [
    {
     "data": {
      "text/html": [
       "<table>\n",
       "<caption>A data.frame: 6 × 14</caption>\n",
       "<thead>\n",
       "\t<tr><th></th><th scope=col>d</th><th scope=col>d_nj</th><th scope=col>fte</th><th scope=col>bk</th><th scope=col>kfc</th><th scope=col>roys</th><th scope=col>wendys</th><th scope=col>co_owned</th><th scope=col>centralj</th><th scope=col>southj</th><th scope=col>pa1</th><th scope=col>pa2</th><th scope=col>demp</th><th scope=col>State</th></tr>\n",
       "\t<tr><th></th><th scope=col>&lt;int&gt;</th><th scope=col>&lt;int&gt;</th><th scope=col>&lt;dbl&gt;</th><th scope=col>&lt;int&gt;</th><th scope=col>&lt;int&gt;</th><th scope=col>&lt;int&gt;</th><th scope=col>&lt;int&gt;</th><th scope=col>&lt;int&gt;</th><th scope=col>&lt;int&gt;</th><th scope=col>&lt;int&gt;</th><th scope=col>&lt;int&gt;</th><th scope=col>&lt;int&gt;</th><th scope=col>&lt;dbl&gt;</th><th scope=col>&lt;chr&gt;</th></tr>\n",
       "</thead>\n",
       "<tbody>\n",
       "\t<tr><th scope=row>1</th><td>1</td><td>1</td><td>13.1</td><td>0</td><td>1</td><td>1</td><td>1</td><td>1</td><td>0</td><td>1</td><td>1</td><td>1</td><td>12.50</td><td>New Jersey</td></tr>\n",
       "\t<tr><th scope=row>2</th><td>1</td><td>1</td><td>19.3</td><td>0</td><td>1</td><td>1</td><td>1</td><td>1</td><td>0</td><td>1</td><td>1</td><td>1</td><td> 7.00</td><td>New Jersey</td></tr>\n",
       "\t<tr><th scope=row>3</th><td>1</td><td>1</td><td>18.8</td><td>1</td><td>1</td><td>0</td><td>1</td><td>1</td><td>0</td><td>1</td><td>1</td><td>1</td><td>-0.50</td><td>New Jersey</td></tr>\n",
       "\t<tr><th scope=row>4</th><td>1</td><td>1</td><td>22.3</td><td>1</td><td>1</td><td>0</td><td>1</td><td>0</td><td>1</td><td>1</td><td>1</td><td>1</td><td> 2.75</td><td>New Jersey</td></tr>\n",
       "\t<tr><th scope=row>5</th><td>1</td><td>1</td><td>31.1</td><td>0</td><td>1</td><td>1</td><td>1</td><td>1</td><td>1</td><td>1</td><td>1</td><td>1</td><td>13.50</td><td>New Jersey</td></tr>\n",
       "\t<tr><th scope=row>6</th><td>1</td><td>1</td><td> 8.1</td><td>1</td><td>0</td><td>1</td><td>1</td><td>1</td><td>1</td><td>1</td><td>1</td><td>1</td><td> 1.50</td><td>New Jersey</td></tr>\n",
       "</tbody>\n",
       "</table>\n"
      ],
      "text/latex": [
       "A data.frame: 6 × 14\n",
       "\\begin{tabular}{r|llllllllllllll}\n",
       "  & d & d\\_nj & fte & bk & kfc & roys & wendys & co\\_owned & centralj & southj & pa1 & pa2 & demp & State\\\\\n",
       "  & <int> & <int> & <dbl> & <int> & <int> & <int> & <int> & <int> & <int> & <int> & <int> & <int> & <dbl> & <chr>\\\\\n",
       "\\hline\n",
       "\t1 & 1 & 1 & 13.1 & 0 & 1 & 1 & 1 & 1 & 0 & 1 & 1 & 1 & 12.50 & New Jersey\\\\\n",
       "\t2 & 1 & 1 & 19.3 & 0 & 1 & 1 & 1 & 1 & 0 & 1 & 1 & 1 &  7.00 & New Jersey\\\\\n",
       "\t3 & 1 & 1 & 18.8 & 1 & 1 & 0 & 1 & 1 & 0 & 1 & 1 & 1 & -0.50 & New Jersey\\\\\n",
       "\t4 & 1 & 1 & 22.3 & 1 & 1 & 0 & 1 & 0 & 1 & 1 & 1 & 1 &  2.75 & New Jersey\\\\\n",
       "\t5 & 1 & 1 & 31.1 & 0 & 1 & 1 & 1 & 1 & 1 & 1 & 1 & 1 & 13.50 & New Jersey\\\\\n",
       "\t6 & 1 & 1 &  8.1 & 1 & 0 & 1 & 1 & 1 & 1 & 1 & 1 & 1 &  1.50 & New Jersey\\\\\n",
       "\\end{tabular}\n"
      ],
      "text/markdown": [
       "\n",
       "A data.frame: 6 × 14\n",
       "\n",
       "| <!--/--> | d &lt;int&gt; | d_nj &lt;int&gt; | fte &lt;dbl&gt; | bk &lt;int&gt; | kfc &lt;int&gt; | roys &lt;int&gt; | wendys &lt;int&gt; | co_owned &lt;int&gt; | centralj &lt;int&gt; | southj &lt;int&gt; | pa1 &lt;int&gt; | pa2 &lt;int&gt; | demp &lt;dbl&gt; | State &lt;chr&gt; |\n",
       "|---|---|---|---|---|---|---|---|---|---|---|---|---|---|---|\n",
       "| 1 | 1 | 1 | 13.1 | 0 | 1 | 1 | 1 | 1 | 0 | 1 | 1 | 1 | 12.50 | New Jersey |\n",
       "| 2 | 1 | 1 | 19.3 | 0 | 1 | 1 | 1 | 1 | 0 | 1 | 1 | 1 |  7.00 | New Jersey |\n",
       "| 3 | 1 | 1 | 18.8 | 1 | 1 | 0 | 1 | 1 | 0 | 1 | 1 | 1 | -0.50 | New Jersey |\n",
       "| 4 | 1 | 1 | 22.3 | 1 | 1 | 0 | 1 | 0 | 1 | 1 | 1 | 1 |  2.75 | New Jersey |\n",
       "| 5 | 1 | 1 | 31.1 | 0 | 1 | 1 | 1 | 1 | 1 | 1 | 1 | 1 | 13.50 | New Jersey |\n",
       "| 6 | 1 | 1 |  8.1 | 1 | 0 | 1 | 1 | 1 | 1 | 1 | 1 | 1 |  1.50 | New Jersey |\n",
       "\n"
      ],
      "text/plain": [
       "  d d_nj fte  bk kfc roys wendys co_owned centralj southj pa1 pa2 demp \n",
       "1 1 1    13.1 0  1   1    1      1        0        1      1   1   12.50\n",
       "2 1 1    19.3 0  1   1    1      1        0        1      1   1    7.00\n",
       "3 1 1    18.8 1  1   0    1      1        0        1      1   1   -0.50\n",
       "4 1 1    22.3 1  1   0    1      0        1        1      1   1    2.75\n",
       "5 1 1    31.1 0  1   1    1      1        1        1      1   1   13.50\n",
       "6 1 1     8.1 1  0   1    1      1        1        1      1   1    1.50\n",
       "  State     \n",
       "1 New Jersey\n",
       "2 New Jersey\n",
       "3 New Jersey\n",
       "4 New Jersey\n",
       "5 New Jersey\n",
       "6 New Jersey"
      ]
     },
     "metadata": {},
     "output_type": "display_data"
    }
   ],
   "source": [
    "head(wage)"
   ]
  },
  {
   "cell_type": "code",
   "execution_count": 26,
   "metadata": {},
   "outputs": [
    {
     "data": {
      "text/html": [
       "<style>\n",
       ".list-inline {list-style: none; margin:0; padding: 0}\n",
       ".list-inline>li {display: inline-block}\n",
       ".list-inline>li:not(:last-child)::after {content: \"\\00b7\"; padding: 0 .5ex}\n",
       "</style>\n",
       "<ol class=list-inline><li>'New Jersey'</li><li>'Philadelphia'</li></ol>\n"
      ],
      "text/latex": [
       "\\begin{enumerate*}\n",
       "\\item 'New Jersey'\n",
       "\\item 'Philadelphia'\n",
       "\\end{enumerate*}\n"
      ],
      "text/markdown": [
       "1. 'New Jersey'\n",
       "2. 'Philadelphia'\n",
       "\n",
       "\n"
      ],
      "text/plain": [
       "[1] \"New Jersey\"   \"Philadelphia\""
      ]
     },
     "metadata": {},
     "output_type": "display_data"
    }
   ],
   "source": [
    "unique(wage$State)"
   ]
  },
  {
   "cell_type": "code",
   "execution_count": 27,
   "metadata": {},
   "outputs": [
    {
     "data": {
      "text/html": [
       "<style>\n",
       ".list-inline {list-style: none; margin:0; padding: 0}\n",
       ".list-inline>li {display: inline-block}\n",
       ".list-inline>li:not(:last-child)::after {content: \"\\00b7\"; padding: 0 .5ex}\n",
       "</style>\n",
       "<ol class=list-inline><li>1</li><li>0</li></ol>\n"
      ],
      "text/latex": [
       "\\begin{enumerate*}\n",
       "\\item 1\n",
       "\\item 0\n",
       "\\end{enumerate*}\n"
      ],
      "text/markdown": [
       "1. 1\n",
       "2. 0\n",
       "\n",
       "\n"
      ],
      "text/plain": [
       "[1] 1 0"
      ]
     },
     "metadata": {},
     "output_type": "display_data"
    }
   ],
   "source": [
    "unique(wage$d)"
   ]
  },
  {
   "cell_type": "code",
   "execution_count": 28,
   "metadata": {},
   "outputs": [
    {
     "data": {
      "text/plain": [
       "       d            d_nj            fte               bk             kfc       \n",
       " Min.   :0.0   Min.   :0.000   Min.   :  0.40   Min.   :0.000   Min.   :0.000  \n",
       " 1st Qu.:0.0   1st Qu.:0.000   1st Qu.: 15.80   1st Qu.:0.000   1st Qu.:1.000  \n",
       " Median :0.5   Median :1.000   Median : 23.25   Median :1.000   Median :1.000  \n",
       " Mean   :0.5   Mean   :0.609   Mean   : 25.69   Mean   :0.587   Mean   :0.799  \n",
       " 3rd Qu.:1.0   3rd Qu.:1.000   3rd Qu.: 32.40   3rd Qu.:1.000   3rd Qu.:1.000  \n",
       " Max.   :1.0   Max.   :1.000   Max.   :114.70   Max.   :1.000   Max.   :1.000  \n",
       "      roys           wendys         co_owned        centralj        southj     \n",
       " Min.   :0.000   Min.   :0.000   Min.   :0.000   Min.   :0.00   Min.   :0.000  \n",
       " 1st Qu.:1.000   1st Qu.:1.000   1st Qu.:0.000   1st Qu.:1.00   1st Qu.:1.000  \n",
       " Median :1.000   Median :1.000   Median :1.000   Median :1.00   Median :1.000  \n",
       " Mean   :0.752   Mean   :0.862   Mean   :0.638   Mean   :0.88   Mean   :0.784  \n",
       " 3rd Qu.:1.000   3rd Qu.:1.000   3rd Qu.:1.000   3rd Qu.:1.00   3rd Qu.:1.000  \n",
       " Max.   :1.000   Max.   :1.000   Max.   :1.000   Max.   :1.00   Max.   :1.000  \n",
       "      pa1             pa2             demp             State          \n",
       " Min.   :0.000   Min.   :0.000   Min.   :-41.0000   Length:1000       \n",
       " 1st Qu.:1.000   1st Qu.:1.000   1st Qu.: -3.5000   Class :character  \n",
       " Median :1.000   Median :1.000   Median :  0.5000   Mode  :character  \n",
       " Mean   :0.864   Mean   :0.836   Mean   :  0.1658                     \n",
       " 3rd Qu.:1.000   3rd Qu.:1.000   3rd Qu.:  4.5000                     \n",
       " Max.   :1.000   Max.   :1.000   Max.   : 34.5000                     "
      ]
     },
     "metadata": {},
     "output_type": "display_data"
    }
   ],
   "source": [
    "summary(wage)"
   ]
  },
  {
   "cell_type": "markdown",
   "metadata": {},
   "source": [
    "New Jersey is Treatment\n",
    "\n",
    "Philadelphia is Control\n",
    "\n",
    "1 is after\n",
    "\n",
    "0 is before\n",
    "\n",
    "Group A - Philadelphia Before\n",
    "\n",
    "Group B - New Jersey Before\n",
    "\n",
    "Group C - Philadelphia After\n",
    "\n",
    "Groups D - New Jersey After"
   ]
  },
  {
   "cell_type": "markdown",
   "metadata": {
    "deletable": false,
    "editable": false,
    "nbgrader": {
     "grade": false,
     "locked": true,
     "solution": false
    }
   },
   "source": [
    "### B. To estimate the difference in difference we need four averages for the above categorized groups i.e., control group before change, control group after change, treatment group before change and treatment group after change.\n",
    "\n",
    "### Calculate the mean of the 'fte' variable for each of the four groups in R and print them. Round your answers to two decimal places. (6 Points)"
   ]
  },
  {
   "cell_type": "code",
   "execution_count": 29,
   "metadata": {
    "collapsed": true
   },
   "outputs": [],
   "source": [
    "wage$Classification <- ifelse(wage$State == \"Philadelphia\" & wage$d == \"0\", \"A\",\n",
    "                              ifelse(wage$State == \"Philadelphia\" & wage$d == \"1\", \"C\",\n",
    "                                ifelse(wage$State == \"New Jersey\" & wage$d == \"0\", \"B\",\n",
    "                                  ifelse(wage$State == \"New Jersey\" & wage$d == \"1\", \"D\", \"\"))))"
   ]
  },
  {
   "cell_type": "code",
   "execution_count": 30,
   "metadata": {
    "scrolled": true
   },
   "outputs": [
    {
     "data": {
      "text/html": [
       "<style>\n",
       ".list-inline {list-style: none; margin:0; padding: 0}\n",
       ".list-inline>li {display: inline-block}\n",
       ".list-inline>li:not(:last-child)::after {content: \"\\00b7\"; padding: 0 .5ex}\n",
       "</style>\n",
       "<ol class=list-inline><li>'D'</li><li>'B'</li><li>'A'</li><li>'C'</li></ol>\n"
      ],
      "text/latex": [
       "\\begin{enumerate*}\n",
       "\\item 'D'\n",
       "\\item 'B'\n",
       "\\item 'A'\n",
       "\\item 'C'\n",
       "\\end{enumerate*}\n"
      ],
      "text/markdown": [
       "1. 'D'\n",
       "2. 'B'\n",
       "3. 'A'\n",
       "4. 'C'\n",
       "\n",
       "\n"
      ],
      "text/plain": [
       "[1] \"D\" \"B\" \"A\" \"C\""
      ]
     },
     "metadata": {},
     "output_type": "display_data"
    }
   ],
   "source": [
    "unique(wage$Classification)"
   ]
  },
  {
   "cell_type": "code",
   "execution_count": 31,
   "metadata": {},
   "outputs": [
    {
     "data": {
      "text/html": [
       "'character'"
      ],
      "text/latex": [
       "'character'"
      ],
      "text/markdown": [
       "'character'"
      ],
      "text/plain": [
       "[1] \"character\""
      ]
     },
     "metadata": {},
     "output_type": "display_data"
    }
   ],
   "source": [
    "class(wage$Classification)"
   ]
  },
  {
   "cell_type": "code",
   "execution_count": 32,
   "metadata": {
    "collapsed": true
   },
   "outputs": [],
   "source": [
    "mean_A <- mean(wage$fte[wage$Classification == 'A'])\n",
    "\n",
    "mean_B <- mean(wage$fte[wage$Classification == 'B'])\n",
    "\n",
    "mean_C <- mean(wage$fte[wage$Classification == 'C'])\n",
    "\n",
    "mean_D <- mean(wage$fte[wage$Classification == 'D'])"
   ]
  },
  {
   "cell_type": "code",
   "execution_count": 33,
   "metadata": {},
   "outputs": [
    {
     "data": {
      "text/html": [
       "25.2788"
      ],
      "text/latex": [
       "25.2788"
      ],
      "text/markdown": [
       "25.2788"
      ],
      "text/plain": [
       "[1] 25.2788"
      ]
     },
     "metadata": {},
     "output_type": "display_data"
    },
    {
     "data": {
      "text/html": [
       "26.2928"
      ],
      "text/latex": [
       "26.2928"
      ],
      "text/markdown": [
       "26.2928"
      ],
      "text/plain": [
       "[1] 26.2928"
      ]
     },
     "metadata": {},
     "output_type": "display_data"
    },
    {
     "data": {
      "text/html": [
       "26.2456"
      ],
      "text/latex": [
       "26.2456"
      ],
      "text/markdown": [
       "26.2456"
      ],
      "text/plain": [
       "[1] 26.2456"
      ]
     },
     "metadata": {},
     "output_type": "display_data"
    },
    {
     "data": {
      "text/html": [
       "24.9456"
      ],
      "text/latex": [
       "24.9456"
      ],
      "text/markdown": [
       "24.9456"
      ],
      "text/plain": [
       "[1] 24.9456"
      ]
     },
     "metadata": {},
     "output_type": "display_data"
    }
   ],
   "source": [
    "mean_A\n",
    "mean_B\n",
    "mean_C\n",
    "mean_D"
   ]
  },
  {
   "cell_type": "markdown",
   "metadata": {
    "deletable": false,
    "editable": false,
    "nbgrader": {
     "grade": false,
     "locked": true,
     "solution": false
    }
   },
   "source": [
    "### C. Using these averages, estimate the value of the difference in difference. Round your answer to two decimal places. (4 Points)"
   ]
  },
  {
   "cell_type": "code",
   "execution_count": 34,
   "metadata": {
    "collapsed": true
   },
   "outputs": [],
   "source": [
    "treatment_group_before = mean_B\n",
    "\n",
    "treatment_group_after = mean_D\n",
    "\n",
    "control_group_before = mean_A\n",
    "\n",
    "control_group_after = mean_C"
   ]
  },
  {
   "cell_type": "code",
   "execution_count": 35,
   "metadata": {
    "collapsed": true
   },
   "outputs": [],
   "source": [
    "diff_in_diff <- (treatment_group_after - treatment_group_before) - (control_group_after - control_group_before)"
   ]
  },
  {
   "cell_type": "code",
   "execution_count": 36,
   "metadata": {},
   "outputs": [
    {
     "data": {
      "text/html": [
       "-2.314"
      ],
      "text/latex": [
       "-2.314"
      ],
      "text/markdown": [
       "-2.314"
      ],
      "text/plain": [
       "[1] -2.314"
      ]
     },
     "metadata": {},
     "output_type": "display_data"
    }
   ],
   "source": [
    "diff_in_diff"
   ]
  },
  {
   "cell_type": "markdown",
   "metadata": {},
   "source": [
    "**Difference in difference is -2.31**"
   ]
  },
  {
   "cell_type": "markdown",
   "metadata": {
    "deletable": false,
    "editable": false,
    "nbgrader": {
     "grade": false,
     "locked": true,
     "solution": false
    }
   },
   "source": [
    "### D.  Estimate the DID (Difference in Difference) using regression model.  Round your answer to two decimal places. (6 Points)\n",
    "\n",
    "hint: check with your answer from Part C, the two methods should reach the same DID."
   ]
  },
  {
   "cell_type": "markdown",
   "metadata": {},
   "source": [
    "I need to model\n",
    "fte ~ d + State + d*State"
   ]
  },
  {
   "cell_type": "code",
   "execution_count": 37,
   "metadata": {
    "collapsed": true
   },
   "outputs": [],
   "source": [
    "wage$State <- ifelse(wage$State == \"New Jersey\", 1, 0)"
   ]
  },
  {
   "cell_type": "code",
   "execution_count": 38,
   "metadata": {},
   "outputs": [
    {
     "data": {
      "text/html": [
       "<table>\n",
       "<caption>A data.frame: 6 × 15</caption>\n",
       "<thead>\n",
       "\t<tr><th></th><th scope=col>d</th><th scope=col>d_nj</th><th scope=col>fte</th><th scope=col>bk</th><th scope=col>kfc</th><th scope=col>roys</th><th scope=col>wendys</th><th scope=col>co_owned</th><th scope=col>centralj</th><th scope=col>southj</th><th scope=col>pa1</th><th scope=col>pa2</th><th scope=col>demp</th><th scope=col>State</th><th scope=col>Classification</th></tr>\n",
       "\t<tr><th></th><th scope=col>&lt;int&gt;</th><th scope=col>&lt;int&gt;</th><th scope=col>&lt;dbl&gt;</th><th scope=col>&lt;int&gt;</th><th scope=col>&lt;int&gt;</th><th scope=col>&lt;int&gt;</th><th scope=col>&lt;int&gt;</th><th scope=col>&lt;int&gt;</th><th scope=col>&lt;int&gt;</th><th scope=col>&lt;int&gt;</th><th scope=col>&lt;int&gt;</th><th scope=col>&lt;int&gt;</th><th scope=col>&lt;dbl&gt;</th><th scope=col>&lt;dbl&gt;</th><th scope=col>&lt;chr&gt;</th></tr>\n",
       "</thead>\n",
       "<tbody>\n",
       "\t<tr><th scope=row>1</th><td>1</td><td>1</td><td>13.1</td><td>0</td><td>1</td><td>1</td><td>1</td><td>1</td><td>0</td><td>1</td><td>1</td><td>1</td><td>12.50</td><td>1</td><td>D</td></tr>\n",
       "\t<tr><th scope=row>2</th><td>1</td><td>1</td><td>19.3</td><td>0</td><td>1</td><td>1</td><td>1</td><td>1</td><td>0</td><td>1</td><td>1</td><td>1</td><td> 7.00</td><td>1</td><td>D</td></tr>\n",
       "\t<tr><th scope=row>3</th><td>1</td><td>1</td><td>18.8</td><td>1</td><td>1</td><td>0</td><td>1</td><td>1</td><td>0</td><td>1</td><td>1</td><td>1</td><td>-0.50</td><td>1</td><td>D</td></tr>\n",
       "\t<tr><th scope=row>4</th><td>1</td><td>1</td><td>22.3</td><td>1</td><td>1</td><td>0</td><td>1</td><td>0</td><td>1</td><td>1</td><td>1</td><td>1</td><td> 2.75</td><td>1</td><td>D</td></tr>\n",
       "\t<tr><th scope=row>5</th><td>1</td><td>1</td><td>31.1</td><td>0</td><td>1</td><td>1</td><td>1</td><td>1</td><td>1</td><td>1</td><td>1</td><td>1</td><td>13.50</td><td>1</td><td>D</td></tr>\n",
       "\t<tr><th scope=row>6</th><td>1</td><td>1</td><td> 8.1</td><td>1</td><td>0</td><td>1</td><td>1</td><td>1</td><td>1</td><td>1</td><td>1</td><td>1</td><td> 1.50</td><td>1</td><td>D</td></tr>\n",
       "</tbody>\n",
       "</table>\n"
      ],
      "text/latex": [
       "A data.frame: 6 × 15\n",
       "\\begin{tabular}{r|lllllllllllllll}\n",
       "  & d & d\\_nj & fte & bk & kfc & roys & wendys & co\\_owned & centralj & southj & pa1 & pa2 & demp & State & Classification\\\\\n",
       "  & <int> & <int> & <dbl> & <int> & <int> & <int> & <int> & <int> & <int> & <int> & <int> & <int> & <dbl> & <dbl> & <chr>\\\\\n",
       "\\hline\n",
       "\t1 & 1 & 1 & 13.1 & 0 & 1 & 1 & 1 & 1 & 0 & 1 & 1 & 1 & 12.50 & 1 & D\\\\\n",
       "\t2 & 1 & 1 & 19.3 & 0 & 1 & 1 & 1 & 1 & 0 & 1 & 1 & 1 &  7.00 & 1 & D\\\\\n",
       "\t3 & 1 & 1 & 18.8 & 1 & 1 & 0 & 1 & 1 & 0 & 1 & 1 & 1 & -0.50 & 1 & D\\\\\n",
       "\t4 & 1 & 1 & 22.3 & 1 & 1 & 0 & 1 & 0 & 1 & 1 & 1 & 1 &  2.75 & 1 & D\\\\\n",
       "\t5 & 1 & 1 & 31.1 & 0 & 1 & 1 & 1 & 1 & 1 & 1 & 1 & 1 & 13.50 & 1 & D\\\\\n",
       "\t6 & 1 & 1 &  8.1 & 1 & 0 & 1 & 1 & 1 & 1 & 1 & 1 & 1 &  1.50 & 1 & D\\\\\n",
       "\\end{tabular}\n"
      ],
      "text/markdown": [
       "\n",
       "A data.frame: 6 × 15\n",
       "\n",
       "| <!--/--> | d &lt;int&gt; | d_nj &lt;int&gt; | fte &lt;dbl&gt; | bk &lt;int&gt; | kfc &lt;int&gt; | roys &lt;int&gt; | wendys &lt;int&gt; | co_owned &lt;int&gt; | centralj &lt;int&gt; | southj &lt;int&gt; | pa1 &lt;int&gt; | pa2 &lt;int&gt; | demp &lt;dbl&gt; | State &lt;dbl&gt; | Classification &lt;chr&gt; |\n",
       "|---|---|---|---|---|---|---|---|---|---|---|---|---|---|---|---|\n",
       "| 1 | 1 | 1 | 13.1 | 0 | 1 | 1 | 1 | 1 | 0 | 1 | 1 | 1 | 12.50 | 1 | D |\n",
       "| 2 | 1 | 1 | 19.3 | 0 | 1 | 1 | 1 | 1 | 0 | 1 | 1 | 1 |  7.00 | 1 | D |\n",
       "| 3 | 1 | 1 | 18.8 | 1 | 1 | 0 | 1 | 1 | 0 | 1 | 1 | 1 | -0.50 | 1 | D |\n",
       "| 4 | 1 | 1 | 22.3 | 1 | 1 | 0 | 1 | 0 | 1 | 1 | 1 | 1 |  2.75 | 1 | D |\n",
       "| 5 | 1 | 1 | 31.1 | 0 | 1 | 1 | 1 | 1 | 1 | 1 | 1 | 1 | 13.50 | 1 | D |\n",
       "| 6 | 1 | 1 |  8.1 | 1 | 0 | 1 | 1 | 1 | 1 | 1 | 1 | 1 |  1.50 | 1 | D |\n",
       "\n"
      ],
      "text/plain": [
       "  d d_nj fte  bk kfc roys wendys co_owned centralj southj pa1 pa2 demp  State\n",
       "1 1 1    13.1 0  1   1    1      1        0        1      1   1   12.50 1    \n",
       "2 1 1    19.3 0  1   1    1      1        0        1      1   1    7.00 1    \n",
       "3 1 1    18.8 1  1   0    1      1        0        1      1   1   -0.50 1    \n",
       "4 1 1    22.3 1  1   0    1      0        1        1      1   1    2.75 1    \n",
       "5 1 1    31.1 0  1   1    1      1        1        1      1   1   13.50 1    \n",
       "6 1 1     8.1 1  0   1    1      1        1        1      1   1    1.50 1    \n",
       "  Classification\n",
       "1 D             \n",
       "2 D             \n",
       "3 D             \n",
       "4 D             \n",
       "5 D             \n",
       "6 D             "
      ]
     },
     "metadata": {},
     "output_type": "display_data"
    }
   ],
   "source": [
    "head(wage)"
   ]
  },
  {
   "cell_type": "code",
   "execution_count": 39,
   "metadata": {
    "collapsed": true
   },
   "outputs": [],
   "source": [
    "wage$interaction <- wage$State*wage$d"
   ]
  },
  {
   "cell_type": "code",
   "execution_count": 40,
   "metadata": {},
   "outputs": [
    {
     "data": {
      "text/plain": [
       "\n",
       "Call:\n",
       "lm(formula = fte ~ d + State + interaction, data = wage)\n",
       "\n",
       "Residuals:\n",
       "    Min      1Q  Median      3Q     Max \n",
       "-25.746  -9.806  -2.546   6.879  89.754 \n",
       "\n",
       "Coefficients:\n",
       "            Estimate Std. Error t value Pr(>|t|)    \n",
       "(Intercept)  25.2788     0.8864  28.517   <2e-16 ***\n",
       "d             0.9668     1.2536   0.771    0.441    \n",
       "State         1.0140     1.2536   0.809    0.419    \n",
       "interaction  -2.3140     1.7729  -1.305    0.192    \n",
       "---\n",
       "Signif. codes:  0 ‘***’ 0.001 ‘**’ 0.01 ‘*’ 0.05 ‘.’ 0.1 ‘ ’ 1\n",
       "\n",
       "Residual standard error: 14.02 on 996 degrees of freedom\n",
       "Multiple R-squared:  0.00178,\tAdjusted R-squared:  -0.001227 \n",
       "F-statistic: 0.5919 on 3 and 996 DF,  p-value: 0.6204\n"
      ]
     },
     "metadata": {},
     "output_type": "display_data"
    }
   ],
   "source": [
    "model <- lm(fte ~ d + State + interaction, data=wage)\n",
    "summary(model)"
   ]
  },
  {
   "cell_type": "markdown",
   "metadata": {},
   "source": [
    "**The coefficient of the interaction term is -2.314 which is exactly the same as \n",
    "the answer in part C.**"
   ]
  },
  {
   "cell_type": "markdown",
   "metadata": {
    "deletable": false,
    "editable": false,
    "nbgrader": {
     "grade": false,
     "locked": true,
     "solution": false
    }
   },
   "source": [
    "## Q3.  (25 Points Total)\n",
    "\n",
    "**For the following questions, use the stock datasets below.**"
   ]
  },
  {
   "cell_type": "code",
   "execution_count": null,
   "metadata": {
    "collapsed": true
   },
   "outputs": [],
   "source": [
    "# Install and load necessary libraries\n",
    "install.packages(\"PerformanceAnalytics\", lib=\"../work/\")\n",
    "install.packages(\"xts\", lib=\"../work/\")\n",
    "install.packages(\"lubridate\", lib=\"../work/\")\n",
    "install.packages(\"tidyverse\", lib=\"../work/\")\n",
    "install.packages(\"data.table\", lib=\"../work/\")"
   ]
  },
  {
   "cell_type": "code",
   "execution_count": 97,
   "metadata": {
    "collapsed": true
   },
   "outputs": [],
   "source": [
    "library(PerformanceAnalytics, lib.loc=\"../work/\")\n",
    "library(xts, lib.loc=\"../work/\")\n",
    "library(lubridate, lib.loc=\"../work/\")\n",
    "library(tidyverse, lib.loc=\"../work/\")\n",
    "library(data.table, lib.loc=\"../work/\")"
   ]
  },
  {
   "cell_type": "code",
   "execution_count": 98,
   "metadata": {
    "collapsed": true
   },
   "outputs": [],
   "source": [
    "# Read data files\n",
    "ticker_aapl <- read.csv(\"../resource/asnlib/publicdata/aapl.csv\", header = TRUE)\n",
    "ticker_googl <- read.csv(\"../resource/asnlib/publicdata/googl.csv\", header = TRUE)\n",
    "ticker_amzn <- read.csv(\"../resource/asnlib/publicdata/amzn.csv\", header = TRUE)\n",
    "ticker_meta <- read.csv(\"../resource/asnlib/publicdata/meta.csv\", header = TRUE)\n",
    "ticker_nflx <- read.csv(\"../resource/asnlib/publicdata/nflx.csv\", header = TRUE)\n",
    "ticker_gspc <- read.csv(\"../resource/asnlib/publicdata/market.csv\", header = TRUE)"
   ]
  },
  {
   "cell_type": "markdown",
   "metadata": {
    "deletable": false,
    "editable": false,
    "nbgrader": {
     "grade": false,
     "locked": true,
     "solution": false
    }
   },
   "source": [
    "**use aapl.csv & googl.csv for the following question. These two datasets have the following columns:**   \n",
    "\n",
    "*Date: Month end date*\n",
    "\n",
    "*Close: closing price*\n",
    "\n",
    "*Dividends: dividend in $ to share holders. Keep in mind not every company gave dividends in sample period.* \n",
    "\n",
    "*Stock.Splits: if no stock split happened, value is 0, if a stock split happened then one stock was split into the value provided in this column. You may not have to use this column as closing price has already been adjusted for stock split. Keep in mind not every company split it’s stock in sample period.*"
   ]
  },
  {
   "cell_type": "markdown",
   "metadata": {
    "deletable": false,
    "editable": false,
    "nbgrader": {
     "grade": false,
     "locked": true,
     "solution": false
    }
   },
   "source": [
    "### A. Please calculate simple returns for AAPL and GOOGL stocks for all months for 2020, 2021 and 2022.  Report the month and year for each stock in which they gave maximum simple return. In case of a tie, report earliest month. (6 points)\n",
    "\n",
    "**Do not forget to remove NA values as necessary. shift function may help in calculating simple return but you are free to use your method/function in R. Here is a quick reference: (https://www.rdocumentation.org/packages/data.table/versions/1.11.4/topics/shift).**  \n"
   ]
  },
  {
   "cell_type": "code",
   "execution_count": 99,
   "metadata": {},
   "outputs": [
    {
     "data": {
      "text/html": [
       "<table>\n",
       "<caption>A data.frame: 6 × 4</caption>\n",
       "<thead>\n",
       "\t<tr><th></th><th scope=col>Date</th><th scope=col>Close</th><th scope=col>Dividends</th><th scope=col>Stock.Splits</th></tr>\n",
       "\t<tr><th></th><th scope=col>&lt;chr&gt;</th><th scope=col>&lt;dbl&gt;</th><th scope=col>&lt;dbl&gt;</th><th scope=col>&lt;int&gt;</th></tr>\n",
       "</thead>\n",
       "<tbody>\n",
       "\t<tr><th scope=row>1</th><td>2019-12-31</td><td>71.92057</td><td>0.0000</td><td>0</td></tr>\n",
       "\t<tr><th scope=row>2</th><td>2020-01-31</td><td>75.80502</td><td>0.0000</td><td>0</td></tr>\n",
       "\t<tr><th scope=row>3</th><td>2020-02-28</td><td>67.11005</td><td>0.1925</td><td>0</td></tr>\n",
       "\t<tr><th scope=row>4</th><td>2020-03-31</td><td>62.42836</td><td>0.0000</td><td>0</td></tr>\n",
       "\t<tr><th scope=row>5</th><td>2020-04-30</td><td>72.12809</td><td>0.0000</td><td>0</td></tr>\n",
       "\t<tr><th scope=row>6</th><td>2020-05-29</td><td>78.26578</td><td>0.2050</td><td>0</td></tr>\n",
       "</tbody>\n",
       "</table>\n"
      ],
      "text/latex": [
       "A data.frame: 6 × 4\n",
       "\\begin{tabular}{r|llll}\n",
       "  & Date & Close & Dividends & Stock.Splits\\\\\n",
       "  & <chr> & <dbl> & <dbl> & <int>\\\\\n",
       "\\hline\n",
       "\t1 & 2019-12-31 & 71.92057 & 0.0000 & 0\\\\\n",
       "\t2 & 2020-01-31 & 75.80502 & 0.0000 & 0\\\\\n",
       "\t3 & 2020-02-28 & 67.11005 & 0.1925 & 0\\\\\n",
       "\t4 & 2020-03-31 & 62.42836 & 0.0000 & 0\\\\\n",
       "\t5 & 2020-04-30 & 72.12809 & 0.0000 & 0\\\\\n",
       "\t6 & 2020-05-29 & 78.26578 & 0.2050 & 0\\\\\n",
       "\\end{tabular}\n"
      ],
      "text/markdown": [
       "\n",
       "A data.frame: 6 × 4\n",
       "\n",
       "| <!--/--> | Date &lt;chr&gt; | Close &lt;dbl&gt; | Dividends &lt;dbl&gt; | Stock.Splits &lt;int&gt; |\n",
       "|---|---|---|---|---|\n",
       "| 1 | 2019-12-31 | 71.92057 | 0.0000 | 0 |\n",
       "| 2 | 2020-01-31 | 75.80502 | 0.0000 | 0 |\n",
       "| 3 | 2020-02-28 | 67.11005 | 0.1925 | 0 |\n",
       "| 4 | 2020-03-31 | 62.42836 | 0.0000 | 0 |\n",
       "| 5 | 2020-04-30 | 72.12809 | 0.0000 | 0 |\n",
       "| 6 | 2020-05-29 | 78.26578 | 0.2050 | 0 |\n",
       "\n"
      ],
      "text/plain": [
       "  Date       Close    Dividends Stock.Splits\n",
       "1 2019-12-31 71.92057 0.0000    0           \n",
       "2 2020-01-31 75.80502 0.0000    0           \n",
       "3 2020-02-28 67.11005 0.1925    0           \n",
       "4 2020-03-31 62.42836 0.0000    0           \n",
       "5 2020-04-30 72.12809 0.0000    0           \n",
       "6 2020-05-29 78.26578 0.2050    0           "
      ]
     },
     "metadata": {},
     "output_type": "display_data"
    }
   ],
   "source": [
    "head(ticker_aapl)"
   ]
  },
  {
   "cell_type": "code",
   "execution_count": 100,
   "metadata": {},
   "outputs": [
    {
     "data": {
      "text/html": [
       "<style>\n",
       ".list-inline {list-style: none; margin:0; padding: 0}\n",
       ".list-inline>li {display: inline-block}\n",
       ".list-inline>li:not(:last-child)::after {content: \"\\00b7\"; padding: 0 .5ex}\n",
       "</style>\n",
       "<ol class=list-inline><li>0</li><li>0.1925</li><li>0.205</li><li>0.22</li><li>0.23</li></ol>\n"
      ],
      "text/latex": [
       "\\begin{enumerate*}\n",
       "\\item 0\n",
       "\\item 0.1925\n",
       "\\item 0.205\n",
       "\\item 0.22\n",
       "\\item 0.23\n",
       "\\end{enumerate*}\n"
      ],
      "text/markdown": [
       "1. 0\n",
       "2. 0.1925\n",
       "3. 0.205\n",
       "4. 0.22\n",
       "5. 0.23\n",
       "\n",
       "\n"
      ],
      "text/plain": [
       "[1] 0.0000 0.1925 0.2050 0.2200 0.2300"
      ]
     },
     "metadata": {},
     "output_type": "display_data"
    }
   ],
   "source": [
    "unique(ticker_aapl$Dividends)"
   ]
  },
  {
   "cell_type": "code",
   "execution_count": 101,
   "metadata": {},
   "outputs": [
    {
     "data": {
      "text/html": [
       "<style>\n",
       ".list-inline {list-style: none; margin:0; padding: 0}\n",
       ".list-inline>li {display: inline-block}\n",
       ".list-inline>li:not(:last-child)::after {content: \"\\00b7\"; padding: 0 .5ex}\n",
       "</style>\n",
       "<ol class=list-inline><li>0</li><li>4</li></ol>\n"
      ],
      "text/latex": [
       "\\begin{enumerate*}\n",
       "\\item 0\n",
       "\\item 4\n",
       "\\end{enumerate*}\n"
      ],
      "text/markdown": [
       "1. 0\n",
       "2. 4\n",
       "\n",
       "\n"
      ],
      "text/plain": [
       "[1] 0 4"
      ]
     },
     "metadata": {},
     "output_type": "display_data"
    }
   ],
   "source": [
    "unique(ticker_aapl$Stock.Splits)"
   ]
  },
  {
   "cell_type": "code",
   "execution_count": 79,
   "metadata": {},
   "outputs": [
    {
     "data": {
      "text/html": [
       "<table>\n",
       "<caption>A data.frame: 1 × 4</caption>\n",
       "<thead>\n",
       "\t<tr><th></th><th scope=col>Date</th><th scope=col>Close</th><th scope=col>Dividends</th><th scope=col>Stock.Splits</th></tr>\n",
       "\t<tr><th></th><th scope=col>&lt;chr&gt;</th><th scope=col>&lt;dbl&gt;</th><th scope=col>&lt;dbl&gt;</th><th scope=col>&lt;int&gt;</th></tr>\n",
       "</thead>\n",
       "<tbody>\n",
       "\t<tr><th scope=row>9</th><td>2020-08-31</td><td>127.2897</td><td>0.205</td><td>4</td></tr>\n",
       "</tbody>\n",
       "</table>\n"
      ],
      "text/latex": [
       "A data.frame: 1 × 4\n",
       "\\begin{tabular}{r|llll}\n",
       "  & Date & Close & Dividends & Stock.Splits\\\\\n",
       "  & <chr> & <dbl> & <dbl> & <int>\\\\\n",
       "\\hline\n",
       "\t9 & 2020-08-31 & 127.2897 & 0.205 & 4\\\\\n",
       "\\end{tabular}\n"
      ],
      "text/markdown": [
       "\n",
       "A data.frame: 1 × 4\n",
       "\n",
       "| <!--/--> | Date &lt;chr&gt; | Close &lt;dbl&gt; | Dividends &lt;dbl&gt; | Stock.Splits &lt;int&gt; |\n",
       "|---|---|---|---|---|\n",
       "| 9 | 2020-08-31 | 127.2897 | 0.205 | 4 |\n",
       "\n"
      ],
      "text/plain": [
       "  Date       Close    Dividends Stock.Splits\n",
       "9 2020-08-31 127.2897 0.205     4           "
      ]
     },
     "metadata": {},
     "output_type": "display_data"
    }
   ],
   "source": [
    "split_aapl <- ticker_aapl[ticker_aapl$Stock.Splits == 4, ]\n",
    "split_aapl"
   ]
  },
  {
   "cell_type": "code",
   "execution_count": 80,
   "metadata": {
    "collapsed": true
   },
   "outputs": [],
   "source": [
    "ticker_googl$Dividends <- as.double(ticker_googl$Dividends)"
   ]
  },
  {
   "cell_type": "code",
   "execution_count": 102,
   "metadata": {},
   "outputs": [
    {
     "data": {
      "text/html": [
       "<table>\n",
       "<caption>A data.frame: 6 × 4</caption>\n",
       "<thead>\n",
       "\t<tr><th></th><th scope=col>Date</th><th scope=col>Close</th><th scope=col>Dividends</th><th scope=col>Stock.Splits</th></tr>\n",
       "\t<tr><th></th><th scope=col>&lt;chr&gt;</th><th scope=col>&lt;dbl&gt;</th><th scope=col>&lt;int&gt;</th><th scope=col>&lt;int&gt;</th></tr>\n",
       "</thead>\n",
       "<tbody>\n",
       "\t<tr><th scope=row>1</th><td>2019-12-31</td><td>66.9695</td><td>0</td><td>0</td></tr>\n",
       "\t<tr><th scope=row>2</th><td>2020-01-31</td><td>71.6390</td><td>0</td><td>0</td></tr>\n",
       "\t<tr><th scope=row>3</th><td>2020-02-28</td><td>66.9625</td><td>0</td><td>0</td></tr>\n",
       "\t<tr><th scope=row>4</th><td>2020-03-31</td><td>58.0975</td><td>0</td><td>0</td></tr>\n",
       "\t<tr><th scope=row>5</th><td>2020-04-30</td><td>67.3350</td><td>0</td><td>0</td></tr>\n",
       "\t<tr><th scope=row>6</th><td>2020-05-29</td><td>71.6760</td><td>0</td><td>0</td></tr>\n",
       "</tbody>\n",
       "</table>\n"
      ],
      "text/latex": [
       "A data.frame: 6 × 4\n",
       "\\begin{tabular}{r|llll}\n",
       "  & Date & Close & Dividends & Stock.Splits\\\\\n",
       "  & <chr> & <dbl> & <int> & <int>\\\\\n",
       "\\hline\n",
       "\t1 & 2019-12-31 & 66.9695 & 0 & 0\\\\\n",
       "\t2 & 2020-01-31 & 71.6390 & 0 & 0\\\\\n",
       "\t3 & 2020-02-28 & 66.9625 & 0 & 0\\\\\n",
       "\t4 & 2020-03-31 & 58.0975 & 0 & 0\\\\\n",
       "\t5 & 2020-04-30 & 67.3350 & 0 & 0\\\\\n",
       "\t6 & 2020-05-29 & 71.6760 & 0 & 0\\\\\n",
       "\\end{tabular}\n"
      ],
      "text/markdown": [
       "\n",
       "A data.frame: 6 × 4\n",
       "\n",
       "| <!--/--> | Date &lt;chr&gt; | Close &lt;dbl&gt; | Dividends &lt;int&gt; | Stock.Splits &lt;int&gt; |\n",
       "|---|---|---|---|---|\n",
       "| 1 | 2019-12-31 | 66.9695 | 0 | 0 |\n",
       "| 2 | 2020-01-31 | 71.6390 | 0 | 0 |\n",
       "| 3 | 2020-02-28 | 66.9625 | 0 | 0 |\n",
       "| 4 | 2020-03-31 | 58.0975 | 0 | 0 |\n",
       "| 5 | 2020-04-30 | 67.3350 | 0 | 0 |\n",
       "| 6 | 2020-05-29 | 71.6760 | 0 | 0 |\n",
       "\n"
      ],
      "text/plain": [
       "  Date       Close   Dividends Stock.Splits\n",
       "1 2019-12-31 66.9695 0         0           \n",
       "2 2020-01-31 71.6390 0         0           \n",
       "3 2020-02-28 66.9625 0         0           \n",
       "4 2020-03-31 58.0975 0         0           \n",
       "5 2020-04-30 67.3350 0         0           \n",
       "6 2020-05-29 71.6760 0         0           "
      ]
     },
     "metadata": {},
     "output_type": "display_data"
    }
   ],
   "source": [
    "head(ticker_googl)"
   ]
  },
  {
   "cell_type": "code",
   "execution_count": 82,
   "metadata": {},
   "outputs": [
    {
     "data": {
      "text/html": [
       "<style>\n",
       ".list-inline {list-style: none; margin:0; padding: 0}\n",
       ".list-inline>li {display: inline-block}\n",
       ".list-inline>li:not(:last-child)::after {content: \"\\00b7\"; padding: 0 .5ex}\n",
       "</style>\n",
       "<ol class=list-inline><li>0</li><li>20</li></ol>\n"
      ],
      "text/latex": [
       "\\begin{enumerate*}\n",
       "\\item 0\n",
       "\\item 20\n",
       "\\end{enumerate*}\n"
      ],
      "text/markdown": [
       "1. 0\n",
       "2. 20\n",
       "\n",
       "\n"
      ],
      "text/plain": [
       "[1]  0 20"
      ]
     },
     "metadata": {},
     "output_type": "display_data"
    }
   ],
   "source": [
    "unique(ticker_googl$Stock.Splits)"
   ]
  },
  {
   "cell_type": "code",
   "execution_count": 83,
   "metadata": {},
   "outputs": [
    {
     "data": {
      "text/html": [
       "0"
      ],
      "text/latex": [
       "0"
      ],
      "text/markdown": [
       "0"
      ],
      "text/plain": [
       "[1] 0"
      ]
     },
     "metadata": {},
     "output_type": "display_data"
    }
   ],
   "source": [
    "unique(ticker_googl$Dividends)"
   ]
  },
  {
   "cell_type": "markdown",
   "metadata": {},
   "source": [
    "Google did not pay dividends."
   ]
  },
  {
   "cell_type": "code",
   "execution_count": 84,
   "metadata": {},
   "outputs": [
    {
     "data": {
      "text/html": [
       "<table>\n",
       "<caption>A data.frame: 1 × 4</caption>\n",
       "<thead>\n",
       "\t<tr><th></th><th scope=col>Date</th><th scope=col>Close</th><th scope=col>Dividends</th><th scope=col>Stock.Splits</th></tr>\n",
       "\t<tr><th></th><th scope=col>&lt;chr&gt;</th><th scope=col>&lt;dbl&gt;</th><th scope=col>&lt;dbl&gt;</th><th scope=col>&lt;int&gt;</th></tr>\n",
       "</thead>\n",
       "<tbody>\n",
       "\t<tr><th scope=row>32</th><td>2022-07-29</td><td>116.32</td><td>0</td><td>20</td></tr>\n",
       "</tbody>\n",
       "</table>\n"
      ],
      "text/latex": [
       "A data.frame: 1 × 4\n",
       "\\begin{tabular}{r|llll}\n",
       "  & Date & Close & Dividends & Stock.Splits\\\\\n",
       "  & <chr> & <dbl> & <dbl> & <int>\\\\\n",
       "\\hline\n",
       "\t32 & 2022-07-29 & 116.32 & 0 & 20\\\\\n",
       "\\end{tabular}\n"
      ],
      "text/markdown": [
       "\n",
       "A data.frame: 1 × 4\n",
       "\n",
       "| <!--/--> | Date &lt;chr&gt; | Close &lt;dbl&gt; | Dividends &lt;dbl&gt; | Stock.Splits &lt;int&gt; |\n",
       "|---|---|---|---|---|\n",
       "| 32 | 2022-07-29 | 116.32 | 0 | 20 |\n",
       "\n"
      ],
      "text/plain": [
       "   Date       Close  Dividends Stock.Splits\n",
       "32 2022-07-29 116.32 0         20          "
      ]
     },
     "metadata": {},
     "output_type": "display_data"
    }
   ],
   "source": [
    "split_googl <- ticker_googl[ticker_googl$Stock.Splits == 20, ]\n",
    "split_googl"
   ]
  },
  {
   "cell_type": "code",
   "execution_count": 103,
   "metadata": {
    "collapsed": true
   },
   "outputs": [],
   "source": [
    "# Change all 0 stock split values to 1 for easier computation\n",
    "ticker_googl$Stock.Splits[ticker_googl$Stock.Splits == 0] <- 1\n",
    "ticker_aapl$Stock.Splits[ticker_aapl$Stock.Splits == 0] <- 1"
   ]
  },
  {
   "cell_type": "code",
   "execution_count": 104,
   "metadata": {},
   "outputs": [
    {
     "data": {
      "text/html": [
       "<style>\n",
       ".list-inline {list-style: none; margin:0; padding: 0}\n",
       ".list-inline>li {display: inline-block}\n",
       ".list-inline>li:not(:last-child)::after {content: \"\\00b7\"; padding: 0 .5ex}\n",
       "</style>\n",
       "<ol class=list-inline><li>1</li><li>4</li></ol>\n"
      ],
      "text/latex": [
       "\\begin{enumerate*}\n",
       "\\item 1\n",
       "\\item 4\n",
       "\\end{enumerate*}\n"
      ],
      "text/markdown": [
       "1. 1\n",
       "2. 4\n",
       "\n",
       "\n"
      ],
      "text/plain": [
       "[1] 1 4"
      ]
     },
     "metadata": {},
     "output_type": "display_data"
    },
    {
     "data": {
      "text/html": [
       "<style>\n",
       ".list-inline {list-style: none; margin:0; padding: 0}\n",
       ".list-inline>li {display: inline-block}\n",
       ".list-inline>li:not(:last-child)::after {content: \"\\00b7\"; padding: 0 .5ex}\n",
       "</style>\n",
       "<ol class=list-inline><li>1</li><li>20</li></ol>\n"
      ],
      "text/latex": [
       "\\begin{enumerate*}\n",
       "\\item 1\n",
       "\\item 20\n",
       "\\end{enumerate*}\n"
      ],
      "text/markdown": [
       "1. 1\n",
       "2. 20\n",
       "\n",
       "\n"
      ],
      "text/plain": [
       "[1]  1 20"
      ]
     },
     "metadata": {},
     "output_type": "display_data"
    }
   ],
   "source": [
    "unique(ticker_aapl$Stock.Splits)\n",
    "unique(ticker_googl$Stock.Splits)"
   ]
  },
  {
   "cell_type": "markdown",
   "metadata": {},
   "source": [
    "Create 'Returns' Column for GOOGL and AAPL"
   ]
  },
  {
   "cell_type": "code",
   "execution_count": 105,
   "metadata": {},
   "outputs": [
    {
     "data": {
      "text/html": [
       "37"
      ],
      "text/latex": [
       "37"
      ],
      "text/markdown": [
       "37"
      ],
      "text/plain": [
       "[1] 37"
      ]
     },
     "metadata": {},
     "output_type": "display_data"
    },
    {
     "data": {
      "text/html": [
       "37"
      ],
      "text/latex": [
       "37"
      ],
      "text/markdown": [
       "37"
      ],
      "text/plain": [
       "[1] 37"
      ]
     },
     "metadata": {},
     "output_type": "display_data"
    }
   ],
   "source": [
    "length(ticker_googl$Close)\n",
    "length(ticker_aapl$Close)"
   ]
  },
  {
   "cell_type": "code",
   "execution_count": 106,
   "metadata": {},
   "outputs": [
    {
     "data": {
      "text/html": [
       "75.80501556"
      ],
      "text/latex": [
       "75.80501556"
      ],
      "text/markdown": [
       "75.80501556"
      ],
      "text/plain": [
       "[1] 75.80502"
      ]
     },
     "metadata": {},
     "output_type": "display_data"
    }
   ],
   "source": [
    "ticker_aapl$Close[2]"
   ]
  },
  {
   "cell_type": "code",
   "execution_count": 107,
   "metadata": {
    "collapsed": true
   },
   "outputs": [],
   "source": [
    "ticker_googl$Simple_Return <- 0\n",
    "ticker_aapl$Simple_Return <- 0"
   ]
  },
  {
   "cell_type": "code",
   "execution_count": 92,
   "metadata": {
    "collapsed": true
   },
   "outputs": [],
   "source": [
    "library(dplyr)"
   ]
  },
  {
   "cell_type": "code",
   "execution_count": 108,
   "metadata": {},
   "outputs": [],
   "source": [
    "# Googl\n",
    "for(i in 2:length(ticker_googl$Close)) {\n",
    "    ticker_googl$Simple_Return[i] = (((ticker_googl$Close[i]*ticker_googl$Stock.Splits[i])+ticker_googl$Dividends[i]) / (ticker_googl$Close[i-1])-1)*100\n",
    "}"
   ]
  },
  {
   "cell_type": "code",
   "execution_count": 109,
   "metadata": {
    "collapsed": true
   },
   "outputs": [],
   "source": [
    "# AAPL\n",
    "for(i in 2:length(ticker_aapl$Close)) {\n",
    "    ticker_aapl$Simple_Return[i] = (((ticker_aapl$Close[i]*ticker_aapl$Stock.Splits[i])+ticker_aapl$Dividends[i]) / (ticker_aapl$Close[i-1])-1)*100\n",
    "}"
   ]
  },
  {
   "cell_type": "code",
   "execution_count": 110,
   "metadata": {},
   "outputs": [
    {
     "data": {
      "text/html": [
       "<table>\n",
       "<caption>A data.frame: 6 × 5</caption>\n",
       "<thead>\n",
       "\t<tr><th></th><th scope=col>Date</th><th scope=col>Close</th><th scope=col>Dividends</th><th scope=col>Stock.Splits</th><th scope=col>Simple_Return</th></tr>\n",
       "\t<tr><th></th><th scope=col>&lt;chr&gt;</th><th scope=col>&lt;dbl&gt;</th><th scope=col>&lt;dbl&gt;</th><th scope=col>&lt;dbl&gt;</th><th scope=col>&lt;dbl&gt;</th></tr>\n",
       "</thead>\n",
       "<tbody>\n",
       "\t<tr><th scope=row>1</th><td>2019-12-31</td><td>71.92057</td><td>0.0000</td><td>1</td><td>  0.000000</td></tr>\n",
       "\t<tr><th scope=row>2</th><td>2020-01-31</td><td>75.80502</td><td>0.0000</td><td>1</td><td>  5.401021</td></tr>\n",
       "\t<tr><th scope=row>3</th><td>2020-02-28</td><td>67.11005</td><td>0.1925</td><td>1</td><td>-11.216226</td></tr>\n",
       "\t<tr><th scope=row>4</th><td>2020-03-31</td><td>62.42836</td><td>0.0000</td><td>1</td><td> -6.976144</td></tr>\n",
       "\t<tr><th scope=row>5</th><td>2020-04-30</td><td>72.12809</td><td>0.0000</td><td>1</td><td> 15.537377</td></tr>\n",
       "\t<tr><th scope=row>6</th><td>2020-05-29</td><td>78.26578</td><td>0.2050</td><td>1</td><td>  8.793644</td></tr>\n",
       "</tbody>\n",
       "</table>\n"
      ],
      "text/latex": [
       "A data.frame: 6 × 5\n",
       "\\begin{tabular}{r|lllll}\n",
       "  & Date & Close & Dividends & Stock.Splits & Simple\\_Return\\\\\n",
       "  & <chr> & <dbl> & <dbl> & <dbl> & <dbl>\\\\\n",
       "\\hline\n",
       "\t1 & 2019-12-31 & 71.92057 & 0.0000 & 1 &   0.000000\\\\\n",
       "\t2 & 2020-01-31 & 75.80502 & 0.0000 & 1 &   5.401021\\\\\n",
       "\t3 & 2020-02-28 & 67.11005 & 0.1925 & 1 & -11.216226\\\\\n",
       "\t4 & 2020-03-31 & 62.42836 & 0.0000 & 1 &  -6.976144\\\\\n",
       "\t5 & 2020-04-30 & 72.12809 & 0.0000 & 1 &  15.537377\\\\\n",
       "\t6 & 2020-05-29 & 78.26578 & 0.2050 & 1 &   8.793644\\\\\n",
       "\\end{tabular}\n"
      ],
      "text/markdown": [
       "\n",
       "A data.frame: 6 × 5\n",
       "\n",
       "| <!--/--> | Date &lt;chr&gt; | Close &lt;dbl&gt; | Dividends &lt;dbl&gt; | Stock.Splits &lt;dbl&gt; | Simple_Return &lt;dbl&gt; |\n",
       "|---|---|---|---|---|---|\n",
       "| 1 | 2019-12-31 | 71.92057 | 0.0000 | 1 |   0.000000 |\n",
       "| 2 | 2020-01-31 | 75.80502 | 0.0000 | 1 |   5.401021 |\n",
       "| 3 | 2020-02-28 | 67.11005 | 0.1925 | 1 | -11.216226 |\n",
       "| 4 | 2020-03-31 | 62.42836 | 0.0000 | 1 |  -6.976144 |\n",
       "| 5 | 2020-04-30 | 72.12809 | 0.0000 | 1 |  15.537377 |\n",
       "| 6 | 2020-05-29 | 78.26578 | 0.2050 | 1 |   8.793644 |\n",
       "\n"
      ],
      "text/plain": [
       "  Date       Close    Dividends Stock.Splits Simple_Return\n",
       "1 2019-12-31 71.92057 0.0000    1              0.000000   \n",
       "2 2020-01-31 75.80502 0.0000    1              5.401021   \n",
       "3 2020-02-28 67.11005 0.1925    1            -11.216226   \n",
       "4 2020-03-31 62.42836 0.0000    1             -6.976144   \n",
       "5 2020-04-30 72.12809 0.0000    1             15.537377   \n",
       "6 2020-05-29 78.26578 0.2050    1              8.793644   "
      ]
     },
     "metadata": {},
     "output_type": "display_data"
    }
   ],
   "source": [
    "head(ticker_aapl)"
   ]
  },
  {
   "cell_type": "code",
   "execution_count": 111,
   "metadata": {},
   "outputs": [
    {
     "data": {
      "text/html": [
       "<table>\n",
       "<caption>A data.frame: 6 × 5</caption>\n",
       "<thead>\n",
       "\t<tr><th></th><th scope=col>Date</th><th scope=col>Close</th><th scope=col>Dividends</th><th scope=col>Stock.Splits</th><th scope=col>Simple_Return</th></tr>\n",
       "\t<tr><th></th><th scope=col>&lt;chr&gt;</th><th scope=col>&lt;dbl&gt;</th><th scope=col>&lt;int&gt;</th><th scope=col>&lt;dbl&gt;</th><th scope=col>&lt;dbl&gt;</th></tr>\n",
       "</thead>\n",
       "<tbody>\n",
       "\t<tr><th scope=row>1</th><td>2019-12-31</td><td>66.9695</td><td>0</td><td>1</td><td>  0.000000</td></tr>\n",
       "\t<tr><th scope=row>2</th><td>2020-01-31</td><td>71.6390</td><td>0</td><td>1</td><td>  6.972581</td></tr>\n",
       "\t<tr><th scope=row>3</th><td>2020-02-28</td><td>66.9625</td><td>0</td><td>1</td><td> -6.527867</td></tr>\n",
       "\t<tr><th scope=row>4</th><td>2020-03-31</td><td>58.0975</td><td>0</td><td>1</td><td>-13.238755</td></tr>\n",
       "\t<tr><th scope=row>5</th><td>2020-04-30</td><td>67.3350</td><td>0</td><td>1</td><td> 15.899994</td></tr>\n",
       "\t<tr><th scope=row>6</th><td>2020-05-29</td><td>71.6760</td><td>0</td><td>1</td><td>  6.446875</td></tr>\n",
       "</tbody>\n",
       "</table>\n"
      ],
      "text/latex": [
       "A data.frame: 6 × 5\n",
       "\\begin{tabular}{r|lllll}\n",
       "  & Date & Close & Dividends & Stock.Splits & Simple\\_Return\\\\\n",
       "  & <chr> & <dbl> & <int> & <dbl> & <dbl>\\\\\n",
       "\\hline\n",
       "\t1 & 2019-12-31 & 66.9695 & 0 & 1 &   0.000000\\\\\n",
       "\t2 & 2020-01-31 & 71.6390 & 0 & 1 &   6.972581\\\\\n",
       "\t3 & 2020-02-28 & 66.9625 & 0 & 1 &  -6.527867\\\\\n",
       "\t4 & 2020-03-31 & 58.0975 & 0 & 1 & -13.238755\\\\\n",
       "\t5 & 2020-04-30 & 67.3350 & 0 & 1 &  15.899994\\\\\n",
       "\t6 & 2020-05-29 & 71.6760 & 0 & 1 &   6.446875\\\\\n",
       "\\end{tabular}\n"
      ],
      "text/markdown": [
       "\n",
       "A data.frame: 6 × 5\n",
       "\n",
       "| <!--/--> | Date &lt;chr&gt; | Close &lt;dbl&gt; | Dividends &lt;int&gt; | Stock.Splits &lt;dbl&gt; | Simple_Return &lt;dbl&gt; |\n",
       "|---|---|---|---|---|---|\n",
       "| 1 | 2019-12-31 | 66.9695 | 0 | 1 |   0.000000 |\n",
       "| 2 | 2020-01-31 | 71.6390 | 0 | 1 |   6.972581 |\n",
       "| 3 | 2020-02-28 | 66.9625 | 0 | 1 |  -6.527867 |\n",
       "| 4 | 2020-03-31 | 58.0975 | 0 | 1 | -13.238755 |\n",
       "| 5 | 2020-04-30 | 67.3350 | 0 | 1 |  15.899994 |\n",
       "| 6 | 2020-05-29 | 71.6760 | 0 | 1 |   6.446875 |\n",
       "\n"
      ],
      "text/plain": [
       "  Date       Close   Dividends Stock.Splits Simple_Return\n",
       "1 2019-12-31 66.9695 0         1              0.000000   \n",
       "2 2020-01-31 71.6390 0         1              6.972581   \n",
       "3 2020-02-28 66.9625 0         1             -6.527867   \n",
       "4 2020-03-31 58.0975 0         1            -13.238755   \n",
       "5 2020-04-30 67.3350 0         1             15.899994   \n",
       "6 2020-05-29 71.6760 0         1              6.446875   "
      ]
     },
     "metadata": {},
     "output_type": "display_data"
    }
   ],
   "source": [
    "head(ticker_googl)"
   ]
  },
  {
   "cell_type": "code",
   "execution_count": 112,
   "metadata": {
    "collapsed": true
   },
   "outputs": [],
   "source": [
    "max_value_aapl <- max(ticker_aapl$Simple_Return)\n",
    "max_value_googl <- max(ticker_googl$Simple_Return)"
   ]
  },
  {
   "cell_type": "code",
   "execution_count": 113,
   "metadata": {},
   "outputs": [
    {
     "data": {
      "text/html": [
       "386.823678470033"
      ],
      "text/latex": [
       "386.823678470033"
      ],
      "text/markdown": [
       "386.823678470033"
      ],
      "text/plain": [
       "[1] 386.8237"
      ]
     },
     "metadata": {},
     "output_type": "display_data"
    },
    {
     "data": {
      "text/html": [
       "2035.03670925998"
      ],
      "text/latex": [
       "2035.03670925998"
      ],
      "text/markdown": [
       "2035.03670925998"
      ],
      "text/plain": [
       "[1] 2035.037"
      ]
     },
     "metadata": {},
     "output_type": "display_data"
    }
   ],
   "source": [
    "max_value_aapl\n",
    "max_value_googl"
   ]
  },
  {
   "cell_type": "markdown",
   "metadata": {},
   "source": [
    "The months with the highest Simple Returns for GOOGL and AAPL are given below"
   ]
  },
  {
   "cell_type": "code",
   "execution_count": 114,
   "metadata": {},
   "outputs": [
    {
     "data": {
      "text/html": [
       "<table>\n",
       "<caption>A data.frame: 1 × 5</caption>\n",
       "<thead>\n",
       "\t<tr><th></th><th scope=col>Date</th><th scope=col>Close</th><th scope=col>Dividends</th><th scope=col>Stock.Splits</th><th scope=col>Simple_Return</th></tr>\n",
       "\t<tr><th></th><th scope=col>&lt;chr&gt;</th><th scope=col>&lt;dbl&gt;</th><th scope=col>&lt;int&gt;</th><th scope=col>&lt;dbl&gt;</th><th scope=col>&lt;dbl&gt;</th></tr>\n",
       "</thead>\n",
       "<tbody>\n",
       "\t<tr><th scope=row>32</th><td>2022-07-29</td><td>116.32</td><td>0</td><td>20</td><td>2035.037</td></tr>\n",
       "</tbody>\n",
       "</table>\n"
      ],
      "text/latex": [
       "A data.frame: 1 × 5\n",
       "\\begin{tabular}{r|lllll}\n",
       "  & Date & Close & Dividends & Stock.Splits & Simple\\_Return\\\\\n",
       "  & <chr> & <dbl> & <int> & <dbl> & <dbl>\\\\\n",
       "\\hline\n",
       "\t32 & 2022-07-29 & 116.32 & 0 & 20 & 2035.037\\\\\n",
       "\\end{tabular}\n"
      ],
      "text/markdown": [
       "\n",
       "A data.frame: 1 × 5\n",
       "\n",
       "| <!--/--> | Date &lt;chr&gt; | Close &lt;dbl&gt; | Dividends &lt;int&gt; | Stock.Splits &lt;dbl&gt; | Simple_Return &lt;dbl&gt; |\n",
       "|---|---|---|---|---|---|\n",
       "| 32 | 2022-07-29 | 116.32 | 0 | 20 | 2035.037 |\n",
       "\n"
      ],
      "text/plain": [
       "   Date       Close  Dividends Stock.Splits Simple_Return\n",
       "32 2022-07-29 116.32 0         20           2035.037     "
      ]
     },
     "metadata": {},
     "output_type": "display_data"
    },
    {
     "data": {
      "text/html": [
       "<table>\n",
       "<caption>A data.frame: 1 × 5</caption>\n",
       "<thead>\n",
       "\t<tr><th></th><th scope=col>Date</th><th scope=col>Close</th><th scope=col>Dividends</th><th scope=col>Stock.Splits</th><th scope=col>Simple_Return</th></tr>\n",
       "\t<tr><th></th><th scope=col>&lt;chr&gt;</th><th scope=col>&lt;dbl&gt;</th><th scope=col>&lt;dbl&gt;</th><th scope=col>&lt;dbl&gt;</th><th scope=col>&lt;dbl&gt;</th></tr>\n",
       "</thead>\n",
       "<tbody>\n",
       "\t<tr><th scope=row>9</th><td>2020-08-31</td><td>127.2897</td><td>0.205</td><td>4</td><td>386.8237</td></tr>\n",
       "</tbody>\n",
       "</table>\n"
      ],
      "text/latex": [
       "A data.frame: 1 × 5\n",
       "\\begin{tabular}{r|lllll}\n",
       "  & Date & Close & Dividends & Stock.Splits & Simple\\_Return\\\\\n",
       "  & <chr> & <dbl> & <dbl> & <dbl> & <dbl>\\\\\n",
       "\\hline\n",
       "\t9 & 2020-08-31 & 127.2897 & 0.205 & 4 & 386.8237\\\\\n",
       "\\end{tabular}\n"
      ],
      "text/markdown": [
       "\n",
       "A data.frame: 1 × 5\n",
       "\n",
       "| <!--/--> | Date &lt;chr&gt; | Close &lt;dbl&gt; | Dividends &lt;dbl&gt; | Stock.Splits &lt;dbl&gt; | Simple_Return &lt;dbl&gt; |\n",
       "|---|---|---|---|---|---|\n",
       "| 9 | 2020-08-31 | 127.2897 | 0.205 | 4 | 386.8237 |\n",
       "\n"
      ],
      "text/plain": [
       "  Date       Close    Dividends Stock.Splits Simple_Return\n",
       "9 2020-08-31 127.2897 0.205     4            386.8237     "
      ]
     },
     "metadata": {},
     "output_type": "display_data"
    }
   ],
   "source": [
    "ticker_googl[ticker_googl$Simple_Return == max_value_googl, ]\n",
    "ticker_aapl[ticker_aapl$Simple_Return == max_value_aapl, ]"
   ]
  },
  {
   "cell_type": "markdown",
   "metadata": {
    "deletable": false,
    "editable": false,
    "nbgrader": {
     "grade": false,
     "locked": true,
     "solution": false
    }
   },
   "source": [
    "** For the following parts of the question, you will need to use your monthly simple return results from Part A for AAPL and GOOGL. Also include amzn.csv, meta.csv, nflx.csv, market.csv in your analysis. Refer to the read_csv code provided at the beginning of the question. Notice that for AMZN, META and NFLX, the monthly simple return is already calculated, the files include following columns:**\n",
    "\n",
    "*Date: Month end date*\n",
    "\n",
    "*XXXX_return: simple return for the month*"
   ]
  },
  {
   "cell_type": "markdown",
   "metadata": {
    "deletable": false,
    "editable": false,
    "nbgrader": {
     "grade": false,
     "locked": true,
     "solution": false
    }
   },
   "source": [
    "### B. Based on std deviation, which stock among the five is least/most risky. (3 points)\n",
    "    \n",
    "    "
   ]
  },
  {
   "cell_type": "code",
   "execution_count": 115,
   "metadata": {},
   "outputs": [
    {
     "data": {
      "text/html": [
       "<table>\n",
       "<caption>A data.frame: 6 × 2</caption>\n",
       "<thead>\n",
       "\t<tr><th></th><th scope=col>Date</th><th scope=col>return_amzn</th></tr>\n",
       "\t<tr><th></th><th scope=col>&lt;chr&gt;</th><th scope=col>&lt;dbl&gt;</th></tr>\n",
       "</thead>\n",
       "<tbody>\n",
       "\t<tr><th scope=row>1</th><td>2020-01-31</td><td>-0.06221372</td></tr>\n",
       "\t<tr><th scope=row>2</th><td>2020-02-28</td><td> 0.03502057</td></tr>\n",
       "\t<tr><th scope=row>3</th><td>2020-03-31</td><td> 0.26890012</td></tr>\n",
       "\t<tr><th scope=row>4</th><td>2020-04-30</td><td>-0.01278494</td></tr>\n",
       "\t<tr><th scope=row>5</th><td>2020-05-29</td><td> 0.12956672</td></tr>\n",
       "\t<tr><th scope=row>6</th><td>2020-06-30</td><td> 0.14711363</td></tr>\n",
       "</tbody>\n",
       "</table>\n"
      ],
      "text/latex": [
       "A data.frame: 6 × 2\n",
       "\\begin{tabular}{r|ll}\n",
       "  & Date & return\\_amzn\\\\\n",
       "  & <chr> & <dbl>\\\\\n",
       "\\hline\n",
       "\t1 & 2020-01-31 & -0.06221372\\\\\n",
       "\t2 & 2020-02-28 &  0.03502057\\\\\n",
       "\t3 & 2020-03-31 &  0.26890012\\\\\n",
       "\t4 & 2020-04-30 & -0.01278494\\\\\n",
       "\t5 & 2020-05-29 &  0.12956672\\\\\n",
       "\t6 & 2020-06-30 &  0.14711363\\\\\n",
       "\\end{tabular}\n"
      ],
      "text/markdown": [
       "\n",
       "A data.frame: 6 × 2\n",
       "\n",
       "| <!--/--> | Date &lt;chr&gt; | return_amzn &lt;dbl&gt; |\n",
       "|---|---|---|\n",
       "| 1 | 2020-01-31 | -0.06221372 |\n",
       "| 2 | 2020-02-28 |  0.03502057 |\n",
       "| 3 | 2020-03-31 |  0.26890012 |\n",
       "| 4 | 2020-04-30 | -0.01278494 |\n",
       "| 5 | 2020-05-29 |  0.12956672 |\n",
       "| 6 | 2020-06-30 |  0.14711363 |\n",
       "\n"
      ],
      "text/plain": [
       "  Date       return_amzn\n",
       "1 2020-01-31 -0.06221372\n",
       "2 2020-02-28  0.03502057\n",
       "3 2020-03-31  0.26890012\n",
       "4 2020-04-30 -0.01278494\n",
       "5 2020-05-29  0.12956672\n",
       "6 2020-06-30  0.14711363"
      ]
     },
     "metadata": {},
     "output_type": "display_data"
    },
    {
     "data": {
      "text/html": [
       "<table>\n",
       "<caption>A data.frame: 6 × 2</caption>\n",
       "<thead>\n",
       "\t<tr><th></th><th scope=col>Date</th><th scope=col>return_meta</th></tr>\n",
       "\t<tr><th></th><th scope=col>&lt;chr&gt;</th><th scope=col>&lt;dbl&gt;</th></tr>\n",
       "</thead>\n",
       "<tbody>\n",
       "\t<tr><th scope=row>1</th><td>2020-01-31</td><td>-0.016542005</td></tr>\n",
       "\t<tr><th scope=row>2</th><td>2020-02-28</td><td>-0.049046617</td></tr>\n",
       "\t<tr><th scope=row>3</th><td>2020-03-31</td><td>-0.153896869</td></tr>\n",
       "\t<tr><th scope=row>4</th><td>2020-04-30</td><td> 0.185188815</td></tr>\n",
       "\t<tr><th scope=row>5</th><td>2020-05-29</td><td> 0.090541517</td></tr>\n",
       "\t<tr><th scope=row>6</th><td>2020-06-30</td><td> 0.008719826</td></tr>\n",
       "</tbody>\n",
       "</table>\n"
      ],
      "text/latex": [
       "A data.frame: 6 × 2\n",
       "\\begin{tabular}{r|ll}\n",
       "  & Date & return\\_meta\\\\\n",
       "  & <chr> & <dbl>\\\\\n",
       "\\hline\n",
       "\t1 & 2020-01-31 & -0.016542005\\\\\n",
       "\t2 & 2020-02-28 & -0.049046617\\\\\n",
       "\t3 & 2020-03-31 & -0.153896869\\\\\n",
       "\t4 & 2020-04-30 &  0.185188815\\\\\n",
       "\t5 & 2020-05-29 &  0.090541517\\\\\n",
       "\t6 & 2020-06-30 &  0.008719826\\\\\n",
       "\\end{tabular}\n"
      ],
      "text/markdown": [
       "\n",
       "A data.frame: 6 × 2\n",
       "\n",
       "| <!--/--> | Date &lt;chr&gt; | return_meta &lt;dbl&gt; |\n",
       "|---|---|---|\n",
       "| 1 | 2020-01-31 | -0.016542005 |\n",
       "| 2 | 2020-02-28 | -0.049046617 |\n",
       "| 3 | 2020-03-31 | -0.153896869 |\n",
       "| 4 | 2020-04-30 |  0.185188815 |\n",
       "| 5 | 2020-05-29 |  0.090541517 |\n",
       "| 6 | 2020-06-30 |  0.008719826 |\n",
       "\n"
      ],
      "text/plain": [
       "  Date       return_meta \n",
       "1 2020-01-31 -0.016542005\n",
       "2 2020-02-28 -0.049046617\n",
       "3 2020-03-31 -0.153896869\n",
       "4 2020-04-30  0.185188815\n",
       "5 2020-05-29  0.090541517\n",
       "6 2020-06-30  0.008719826"
      ]
     },
     "metadata": {},
     "output_type": "display_data"
    },
    {
     "data": {
      "text/html": [
       "<table>\n",
       "<caption>A data.frame: 6 × 2</caption>\n",
       "<thead>\n",
       "\t<tr><th></th><th scope=col>Date</th><th scope=col>return_nflx</th></tr>\n",
       "\t<tr><th></th><th scope=col>&lt;chr&gt;</th><th scope=col>&lt;dbl&gt;</th></tr>\n",
       "</thead>\n",
       "<tbody>\n",
       "\t<tr><th scope=row>1</th><td>2020-01-31</td><td> 0.066507984</td></tr>\n",
       "\t<tr><th scope=row>2</th><td>2020-02-28</td><td> 0.069373215</td></tr>\n",
       "\t<tr><th scope=row>3</th><td>2020-03-31</td><td> 0.017532453</td></tr>\n",
       "\t<tr><th scope=row>4</th><td>2020-04-30</td><td> 0.118109204</td></tr>\n",
       "\t<tr><th scope=row>5</th><td>2020-05-29</td><td>-0.000285805</td></tr>\n",
       "\t<tr><th scope=row>6</th><td>2020-06-30</td><td> 0.084125501</td></tr>\n",
       "</tbody>\n",
       "</table>\n"
      ],
      "text/latex": [
       "A data.frame: 6 × 2\n",
       "\\begin{tabular}{r|ll}\n",
       "  & Date & return\\_nflx\\\\\n",
       "  & <chr> & <dbl>\\\\\n",
       "\\hline\n",
       "\t1 & 2020-01-31 &  0.066507984\\\\\n",
       "\t2 & 2020-02-28 &  0.069373215\\\\\n",
       "\t3 & 2020-03-31 &  0.017532453\\\\\n",
       "\t4 & 2020-04-30 &  0.118109204\\\\\n",
       "\t5 & 2020-05-29 & -0.000285805\\\\\n",
       "\t6 & 2020-06-30 &  0.084125501\\\\\n",
       "\\end{tabular}\n"
      ],
      "text/markdown": [
       "\n",
       "A data.frame: 6 × 2\n",
       "\n",
       "| <!--/--> | Date &lt;chr&gt; | return_nflx &lt;dbl&gt; |\n",
       "|---|---|---|\n",
       "| 1 | 2020-01-31 |  0.066507984 |\n",
       "| 2 | 2020-02-28 |  0.069373215 |\n",
       "| 3 | 2020-03-31 |  0.017532453 |\n",
       "| 4 | 2020-04-30 |  0.118109204 |\n",
       "| 5 | 2020-05-29 | -0.000285805 |\n",
       "| 6 | 2020-06-30 |  0.084125501 |\n",
       "\n"
      ],
      "text/plain": [
       "  Date       return_nflx \n",
       "1 2020-01-31  0.066507984\n",
       "2 2020-02-28  0.069373215\n",
       "3 2020-03-31  0.017532453\n",
       "4 2020-04-30  0.118109204\n",
       "5 2020-05-29 -0.000285805\n",
       "6 2020-06-30  0.084125501"
      ]
     },
     "metadata": {},
     "output_type": "display_data"
    }
   ],
   "source": [
    "head(ticker_amzn)\n",
    "head(ticker_meta)\n",
    "head(ticker_nflx)"
   ]
  },
  {
   "cell_type": "code",
   "execution_count": 116,
   "metadata": {},
   "outputs": [
    {
     "data": {
      "text/html": [
       "<table>\n",
       "<caption>A data.frame: 6 × 5</caption>\n",
       "<thead>\n",
       "\t<tr><th></th><th scope=col>Date</th><th scope=col>Close</th><th scope=col>Dividends</th><th scope=col>Stock.Splits</th><th scope=col>Simple_Return</th></tr>\n",
       "\t<tr><th></th><th scope=col>&lt;chr&gt;</th><th scope=col>&lt;dbl&gt;</th><th scope=col>&lt;int&gt;</th><th scope=col>&lt;dbl&gt;</th><th scope=col>&lt;dbl&gt;</th></tr>\n",
       "</thead>\n",
       "<tbody>\n",
       "\t<tr><th scope=row>1</th><td>2019-12-31</td><td>66.9695</td><td>0</td><td>1</td><td>  0.000000</td></tr>\n",
       "\t<tr><th scope=row>2</th><td>2020-01-31</td><td>71.6390</td><td>0</td><td>1</td><td>  6.972581</td></tr>\n",
       "\t<tr><th scope=row>3</th><td>2020-02-28</td><td>66.9625</td><td>0</td><td>1</td><td> -6.527867</td></tr>\n",
       "\t<tr><th scope=row>4</th><td>2020-03-31</td><td>58.0975</td><td>0</td><td>1</td><td>-13.238755</td></tr>\n",
       "\t<tr><th scope=row>5</th><td>2020-04-30</td><td>67.3350</td><td>0</td><td>1</td><td> 15.899994</td></tr>\n",
       "\t<tr><th scope=row>6</th><td>2020-05-29</td><td>71.6760</td><td>0</td><td>1</td><td>  6.446875</td></tr>\n",
       "</tbody>\n",
       "</table>\n"
      ],
      "text/latex": [
       "A data.frame: 6 × 5\n",
       "\\begin{tabular}{r|lllll}\n",
       "  & Date & Close & Dividends & Stock.Splits & Simple\\_Return\\\\\n",
       "  & <chr> & <dbl> & <int> & <dbl> & <dbl>\\\\\n",
       "\\hline\n",
       "\t1 & 2019-12-31 & 66.9695 & 0 & 1 &   0.000000\\\\\n",
       "\t2 & 2020-01-31 & 71.6390 & 0 & 1 &   6.972581\\\\\n",
       "\t3 & 2020-02-28 & 66.9625 & 0 & 1 &  -6.527867\\\\\n",
       "\t4 & 2020-03-31 & 58.0975 & 0 & 1 & -13.238755\\\\\n",
       "\t5 & 2020-04-30 & 67.3350 & 0 & 1 &  15.899994\\\\\n",
       "\t6 & 2020-05-29 & 71.6760 & 0 & 1 &   6.446875\\\\\n",
       "\\end{tabular}\n"
      ],
      "text/markdown": [
       "\n",
       "A data.frame: 6 × 5\n",
       "\n",
       "| <!--/--> | Date &lt;chr&gt; | Close &lt;dbl&gt; | Dividends &lt;int&gt; | Stock.Splits &lt;dbl&gt; | Simple_Return &lt;dbl&gt; |\n",
       "|---|---|---|---|---|---|\n",
       "| 1 | 2019-12-31 | 66.9695 | 0 | 1 |   0.000000 |\n",
       "| 2 | 2020-01-31 | 71.6390 | 0 | 1 |   6.972581 |\n",
       "| 3 | 2020-02-28 | 66.9625 | 0 | 1 |  -6.527867 |\n",
       "| 4 | 2020-03-31 | 58.0975 | 0 | 1 | -13.238755 |\n",
       "| 5 | 2020-04-30 | 67.3350 | 0 | 1 |  15.899994 |\n",
       "| 6 | 2020-05-29 | 71.6760 | 0 | 1 |   6.446875 |\n",
       "\n"
      ],
      "text/plain": [
       "  Date       Close   Dividends Stock.Splits Simple_Return\n",
       "1 2019-12-31 66.9695 0         1              0.000000   \n",
       "2 2020-01-31 71.6390 0         1              6.972581   \n",
       "3 2020-02-28 66.9625 0         1             -6.527867   \n",
       "4 2020-03-31 58.0975 0         1            -13.238755   \n",
       "5 2020-04-30 67.3350 0         1             15.899994   \n",
       "6 2020-05-29 71.6760 0         1              6.446875   "
      ]
     },
     "metadata": {},
     "output_type": "display_data"
    },
    {
     "data": {
      "text/html": [
       "<table>\n",
       "<caption>A data.frame: 6 × 5</caption>\n",
       "<thead>\n",
       "\t<tr><th></th><th scope=col>Date</th><th scope=col>Close</th><th scope=col>Dividends</th><th scope=col>Stock.Splits</th><th scope=col>Simple_Return</th></tr>\n",
       "\t<tr><th></th><th scope=col>&lt;chr&gt;</th><th scope=col>&lt;dbl&gt;</th><th scope=col>&lt;dbl&gt;</th><th scope=col>&lt;dbl&gt;</th><th scope=col>&lt;dbl&gt;</th></tr>\n",
       "</thead>\n",
       "<tbody>\n",
       "\t<tr><th scope=row>1</th><td>2019-12-31</td><td>71.92057</td><td>0.0000</td><td>1</td><td>  0.000000</td></tr>\n",
       "\t<tr><th scope=row>2</th><td>2020-01-31</td><td>75.80502</td><td>0.0000</td><td>1</td><td>  5.401021</td></tr>\n",
       "\t<tr><th scope=row>3</th><td>2020-02-28</td><td>67.11005</td><td>0.1925</td><td>1</td><td>-11.216226</td></tr>\n",
       "\t<tr><th scope=row>4</th><td>2020-03-31</td><td>62.42836</td><td>0.0000</td><td>1</td><td> -6.976144</td></tr>\n",
       "\t<tr><th scope=row>5</th><td>2020-04-30</td><td>72.12809</td><td>0.0000</td><td>1</td><td> 15.537377</td></tr>\n",
       "\t<tr><th scope=row>6</th><td>2020-05-29</td><td>78.26578</td><td>0.2050</td><td>1</td><td>  8.793644</td></tr>\n",
       "</tbody>\n",
       "</table>\n"
      ],
      "text/latex": [
       "A data.frame: 6 × 5\n",
       "\\begin{tabular}{r|lllll}\n",
       "  & Date & Close & Dividends & Stock.Splits & Simple\\_Return\\\\\n",
       "  & <chr> & <dbl> & <dbl> & <dbl> & <dbl>\\\\\n",
       "\\hline\n",
       "\t1 & 2019-12-31 & 71.92057 & 0.0000 & 1 &   0.000000\\\\\n",
       "\t2 & 2020-01-31 & 75.80502 & 0.0000 & 1 &   5.401021\\\\\n",
       "\t3 & 2020-02-28 & 67.11005 & 0.1925 & 1 & -11.216226\\\\\n",
       "\t4 & 2020-03-31 & 62.42836 & 0.0000 & 1 &  -6.976144\\\\\n",
       "\t5 & 2020-04-30 & 72.12809 & 0.0000 & 1 &  15.537377\\\\\n",
       "\t6 & 2020-05-29 & 78.26578 & 0.2050 & 1 &   8.793644\\\\\n",
       "\\end{tabular}\n"
      ],
      "text/markdown": [
       "\n",
       "A data.frame: 6 × 5\n",
       "\n",
       "| <!--/--> | Date &lt;chr&gt; | Close &lt;dbl&gt; | Dividends &lt;dbl&gt; | Stock.Splits &lt;dbl&gt; | Simple_Return &lt;dbl&gt; |\n",
       "|---|---|---|---|---|---|\n",
       "| 1 | 2019-12-31 | 71.92057 | 0.0000 | 1 |   0.000000 |\n",
       "| 2 | 2020-01-31 | 75.80502 | 0.0000 | 1 |   5.401021 |\n",
       "| 3 | 2020-02-28 | 67.11005 | 0.1925 | 1 | -11.216226 |\n",
       "| 4 | 2020-03-31 | 62.42836 | 0.0000 | 1 |  -6.976144 |\n",
       "| 5 | 2020-04-30 | 72.12809 | 0.0000 | 1 |  15.537377 |\n",
       "| 6 | 2020-05-29 | 78.26578 | 0.2050 | 1 |   8.793644 |\n",
       "\n"
      ],
      "text/plain": [
       "  Date       Close    Dividends Stock.Splits Simple_Return\n",
       "1 2019-12-31 71.92057 0.0000    1              0.000000   \n",
       "2 2020-01-31 75.80502 0.0000    1              5.401021   \n",
       "3 2020-02-28 67.11005 0.1925    1            -11.216226   \n",
       "4 2020-03-31 62.42836 0.0000    1             -6.976144   \n",
       "5 2020-04-30 72.12809 0.0000    1             15.537377   \n",
       "6 2020-05-29 78.26578 0.2050    1              8.793644   "
      ]
     },
     "metadata": {},
     "output_type": "display_data"
    }
   ],
   "source": [
    "head(ticker_googl)\n",
    "head(ticker_aapl)"
   ]
  },
  {
   "cell_type": "code",
   "execution_count": 117,
   "metadata": {
    "collapsed": true
   },
   "outputs": [],
   "source": [
    "sd_amzn = sd(ticker_amzn$return_amzn)\n",
    "sd_meta = sd(ticker_meta$return_meta)\n",
    "sd_nflx = sd(ticker_nflx$return_nflx)\n",
    "sd_googl = sd(ticker_googl$Simple_Return)\n",
    "sd_aapl = sd(ticker_aapl$Simple_Return)"
   ]
  },
  {
   "cell_type": "code",
   "execution_count": 118,
   "metadata": {},
   "outputs": [
    {
     "data": {
      "text/html": [
       "0.110320656686318"
      ],
      "text/latex": [
       "0.110320656686318"
      ],
      "text/markdown": [
       "0.110320656686318"
      ],
      "text/plain": [
       "[1] 0.1103207"
      ]
     },
     "metadata": {},
     "output_type": "display_data"
    },
    {
     "data": {
      "text/html": [
       "0.145290940293351"
      ],
      "text/latex": [
       "0.145290940293351"
      ],
      "text/markdown": [
       "0.145290940293351"
      ],
      "text/plain": [
       "[1] 0.1452909"
      ]
     },
     "metadata": {},
     "output_type": "display_data"
    },
    {
     "data": {
      "text/html": [
       "0.130575962761452"
      ],
      "text/latex": [
       "0.130575962761452"
      ],
      "text/markdown": [
       "0.130575962761452"
      ],
      "text/plain": [
       "[1] 0.130576"
      ]
     },
     "metadata": {},
     "output_type": "display_data"
    },
    {
     "data": {
      "text/html": [
       "3.34505969059768"
      ],
      "text/latex": [
       "3.34505969059768"
      ],
      "text/markdown": [
       "3.34505969059768"
      ],
      "text/plain": [
       "[1] 3.34506"
      ]
     },
     "metadata": {},
     "output_type": "display_data"
    },
    {
     "data": {
      "text/html": [
       "0.639489557557034"
      ],
      "text/latex": [
       "0.639489557557034"
      ],
      "text/markdown": [
       "0.639489557557034"
      ],
      "text/plain": [
       "[1] 0.6394896"
      ]
     },
     "metadata": {},
     "output_type": "display_data"
    }
   ],
   "source": [
    "sd_amzn\n",
    "sd_meta\n",
    "sd_nflx\n",
    "sd_googl/100\n",
    "sd_aapl/100 # The values for googl and aapl have already been multiplied by 100"
   ]
  },
  {
   "cell_type": "markdown",
   "metadata": {},
   "source": [
    "Most Risky: GOOGL\n",
    "\n",
    "Least Risky: AMZN"
   ]
  },
  {
   "cell_type": "markdown",
   "metadata": {
    "deletable": false,
    "editable": false,
    "nbgrader": {
     "grade": false,
     "locked": true,
     "solution": false
    }
   },
   "source": [
    "### C. Find the monthly arithmetic average return for each stock as a percentage. Round your answer to two decimal points. (2 points)"
   ]
  },
  {
   "cell_type": "code",
   "execution_count": 119,
   "metadata": {
    "collapsed": true
   },
   "outputs": [],
   "source": [
    "mean_amzn = mean(ticker_amzn$return_amzn)\n",
    "mean_meta = mean(ticker_meta$return_meta)\n",
    "mean_nflx = mean(ticker_nflx$return_nflx)\n",
    "mean_googl = mean(ticker_googl$Simple_Return)\n",
    "mean_aapl = mean(ticker_aapl$Simple_Return)"
   ]
  },
  {
   "cell_type": "code",
   "execution_count": 120,
   "metadata": {},
   "outputs": [
    {
     "data": {
      "text/html": [
       "0.64"
      ],
      "text/latex": [
       "0.64"
      ],
      "text/markdown": [
       "0.64"
      ],
      "text/plain": [
       "[1] 0.64"
      ]
     },
     "metadata": {},
     "output_type": "display_data"
    },
    {
     "data": {
      "text/html": [
       "-2.4"
      ],
      "text/latex": [
       "-2.4"
      ],
      "text/markdown": [
       "-2.4"
      ],
      "text/plain": [
       "[1] -2.4"
      ]
     },
     "metadata": {},
     "output_type": "display_data"
    },
    {
     "data": {
      "text/html": [
       "0.75"
      ],
      "text/latex": [
       "0.75"
      ],
      "text/markdown": [
       "0.75"
      ],
      "text/plain": [
       "[1] 0.75"
      ]
     },
     "metadata": {},
     "output_type": "display_data"
    },
    {
     "data": {
      "text/html": [
       "55.9"
      ],
      "text/latex": [
       "55.9"
      ],
      "text/markdown": [
       "55.9"
      ],
      "text/plain": [
       "[1] 55.9"
      ]
     },
     "metadata": {},
     "output_type": "display_data"
    },
    {
     "data": {
      "text/html": [
       "11.95"
      ],
      "text/latex": [
       "11.95"
      ],
      "text/markdown": [
       "11.95"
      ],
      "text/plain": [
       "[1] 11.95"
      ]
     },
     "metadata": {},
     "output_type": "display_data"
    }
   ],
   "source": [
    "round(mean_amzn*100, 2)\n",
    "round(mean_meta*100 , 2)\n",
    "round(mean_nflx*100 , 2)\n",
    "round(mean_googl , 2)\n",
    "round(mean_aapl , 2)"
   ]
  },
  {
   "cell_type": "markdown",
   "metadata": {
    "deletable": false,
    "editable": false,
    "nbgrader": {
     "grade": false,
     "locked": true,
     "solution": false
    }
   },
   "source": [
    "### D. Has AMZN stock underperformed/overperformed the market based on the monthly arithmetic average return? And by what percentage? Round your answer to two decimal points. (3 points)"
   ]
  },
  {
   "cell_type": "code",
   "execution_count": 121,
   "metadata": {},
   "outputs": [
    {
     "data": {
      "text/html": [
       "0.663"
      ],
      "text/latex": [
       "0.663"
      ],
      "text/markdown": [
       "0.663"
      ],
      "text/plain": [
       "[1] 0.663"
      ]
     },
     "metadata": {},
     "output_type": "display_data"
    }
   ],
   "source": [
    "mean_market = mean(ticker_gspc$return_market)\n",
    "round(mean_market*100,3)"
   ]
  },
  {
   "cell_type": "code",
   "execution_count": 122,
   "metadata": {},
   "outputs": [
    {
     "data": {
      "text/html": [
       "-0.0186117027777779"
      ],
      "text/latex": [
       "-0.0186117027777779"
      ],
      "text/markdown": [
       "-0.0186117027777779"
      ],
      "text/plain": [
       "[1] -0.0186117"
      ]
     },
     "metadata": {},
     "output_type": "display_data"
    }
   ],
   "source": [
    "(mean_amzn-mean_market)*100"
   ]
  },
  {
   "cell_type": "markdown",
   "metadata": {},
   "source": [
    "Amazon has underperformed the market by 0.0186%"
   ]
  },
  {
   "cell_type": "markdown",
   "metadata": {
    "deletable": false,
    "editable": false,
    "nbgrader": {
     "grade": false,
     "locked": true,
     "solution": false
    }
   },
   "source": [
    "### E. What is cumulative return of AAPL and GOOGL in percentage? Round your answer to two decimal points. (2 points)"
   ]
  },
  {
   "cell_type": "code",
   "execution_count": 123,
   "metadata": {
    "collapsed": true
   },
   "outputs": [],
   "source": [
    "ticker_aapl$Simple_Return = ticker_aapl$Simple_Return/100\n",
    "\n",
    "ticker_googl$Simple_Return = ticker_googl$Simple_Return/100"
   ]
  },
  {
   "cell_type": "code",
   "execution_count": 124,
   "metadata": {},
   "outputs": [
    {
     "data": {
      "text/html": [
       "25.3493101834477"
      ],
      "text/latex": [
       "25.3493101834477"
      ],
      "text/markdown": [
       "25.3493101834477"
      ],
      "text/plain": [
       "[1] 25.34931"
      ]
     },
     "metadata": {},
     "output_type": "display_data"
    }
   ],
   "source": [
    "# Googl\n",
    "googl_compound = 1\n",
    "for(i in 2:length(ticker_googl$Simple_Return)) {\n",
    "    googl_compound = (ticker_googl$Simple_Return[i]+1)*googl_compound\n",
    "}\n",
    "googl_compound = googl_compound - 1\n",
    "googl_compound"
   ]
  },
  {
   "cell_type": "code",
   "execution_count": 125,
   "metadata": {},
   "outputs": [
    {
     "data": {
      "text/html": [
       "6.36969952898536"
      ],
      "text/latex": [
       "6.36969952898536"
      ],
      "text/markdown": [
       "6.36969952898536"
      ],
      "text/plain": [
       "[1] 6.3697"
      ]
     },
     "metadata": {},
     "output_type": "display_data"
    }
   ],
   "source": [
    "# AAPL\n",
    "aapl_compound = 1\n",
    "for(i in 2:length(ticker_aapl$Simple_Return)) {\n",
    "    aapl_compound = (ticker_aapl$Simple_Return[i]+1)*aapl_compound\n",
    "}\n",
    "aapl_compound = aapl_compound - 1\n",
    "aapl_compound"
   ]
  },
  {
   "cell_type": "code",
   "execution_count": 126,
   "metadata": {},
   "outputs": [
    {
     "data": {
      "text/html": [
       "2535"
      ],
      "text/latex": [
       "2535"
      ],
      "text/markdown": [
       "2535"
      ],
      "text/plain": [
       "[1] 2535"
      ]
     },
     "metadata": {},
     "output_type": "display_data"
    },
    {
     "data": {
      "text/html": [
       "637"
      ],
      "text/latex": [
       "637"
      ],
      "text/markdown": [
       "637"
      ],
      "text/plain": [
       "[1] 637"
      ]
     },
     "metadata": {},
     "output_type": "display_data"
    }
   ],
   "source": [
    "round(googl_compound,2)*100\n",
    "round(aapl_compound, 2)*100"
   ]
  },
  {
   "cell_type": "markdown",
   "metadata": {
    "deletable": false,
    "editable": false,
    "nbgrader": {
     "grade": false,
     "locked": true,
     "solution": false
    }
   },
   "source": [
    "### F.  Based on beta, which stock is more risky, AAPL or META? (4 points)."
   ]
  },
  {
   "cell_type": "code",
   "execution_count": 127,
   "metadata": {},
   "outputs": [
    {
     "data": {
      "text/html": [
       "<table>\n",
       "<caption>A data.frame: 6 × 5</caption>\n",
       "<thead>\n",
       "\t<tr><th></th><th scope=col>Date</th><th scope=col>Close</th><th scope=col>Dividends</th><th scope=col>Stock.Splits</th><th scope=col>Simple_Return</th></tr>\n",
       "\t<tr><th></th><th scope=col>&lt;chr&gt;</th><th scope=col>&lt;dbl&gt;</th><th scope=col>&lt;dbl&gt;</th><th scope=col>&lt;dbl&gt;</th><th scope=col>&lt;dbl&gt;</th></tr>\n",
       "</thead>\n",
       "<tbody>\n",
       "\t<tr><th scope=row>1</th><td>2019-12-31</td><td>71.92057</td><td>0.0000</td><td>1</td><td> 0.00000000</td></tr>\n",
       "\t<tr><th scope=row>2</th><td>2020-01-31</td><td>75.80502</td><td>0.0000</td><td>1</td><td> 0.05401021</td></tr>\n",
       "\t<tr><th scope=row>3</th><td>2020-02-28</td><td>67.11005</td><td>0.1925</td><td>1</td><td>-0.11216226</td></tr>\n",
       "\t<tr><th scope=row>4</th><td>2020-03-31</td><td>62.42836</td><td>0.0000</td><td>1</td><td>-0.06976144</td></tr>\n",
       "\t<tr><th scope=row>5</th><td>2020-04-30</td><td>72.12809</td><td>0.0000</td><td>1</td><td> 0.15537377</td></tr>\n",
       "\t<tr><th scope=row>6</th><td>2020-05-29</td><td>78.26578</td><td>0.2050</td><td>1</td><td> 0.08793644</td></tr>\n",
       "</tbody>\n",
       "</table>\n"
      ],
      "text/latex": [
       "A data.frame: 6 × 5\n",
       "\\begin{tabular}{r|lllll}\n",
       "  & Date & Close & Dividends & Stock.Splits & Simple\\_Return\\\\\n",
       "  & <chr> & <dbl> & <dbl> & <dbl> & <dbl>\\\\\n",
       "\\hline\n",
       "\t1 & 2019-12-31 & 71.92057 & 0.0000 & 1 &  0.00000000\\\\\n",
       "\t2 & 2020-01-31 & 75.80502 & 0.0000 & 1 &  0.05401021\\\\\n",
       "\t3 & 2020-02-28 & 67.11005 & 0.1925 & 1 & -0.11216226\\\\\n",
       "\t4 & 2020-03-31 & 62.42836 & 0.0000 & 1 & -0.06976144\\\\\n",
       "\t5 & 2020-04-30 & 72.12809 & 0.0000 & 1 &  0.15537377\\\\\n",
       "\t6 & 2020-05-29 & 78.26578 & 0.2050 & 1 &  0.08793644\\\\\n",
       "\\end{tabular}\n"
      ],
      "text/markdown": [
       "\n",
       "A data.frame: 6 × 5\n",
       "\n",
       "| <!--/--> | Date &lt;chr&gt; | Close &lt;dbl&gt; | Dividends &lt;dbl&gt; | Stock.Splits &lt;dbl&gt; | Simple_Return &lt;dbl&gt; |\n",
       "|---|---|---|---|---|---|\n",
       "| 1 | 2019-12-31 | 71.92057 | 0.0000 | 1 |  0.00000000 |\n",
       "| 2 | 2020-01-31 | 75.80502 | 0.0000 | 1 |  0.05401021 |\n",
       "| 3 | 2020-02-28 | 67.11005 | 0.1925 | 1 | -0.11216226 |\n",
       "| 4 | 2020-03-31 | 62.42836 | 0.0000 | 1 | -0.06976144 |\n",
       "| 5 | 2020-04-30 | 72.12809 | 0.0000 | 1 |  0.15537377 |\n",
       "| 6 | 2020-05-29 | 78.26578 | 0.2050 | 1 |  0.08793644 |\n",
       "\n"
      ],
      "text/plain": [
       "  Date       Close    Dividends Stock.Splits Simple_Return\n",
       "1 2019-12-31 71.92057 0.0000    1             0.00000000  \n",
       "2 2020-01-31 75.80502 0.0000    1             0.05401021  \n",
       "3 2020-02-28 67.11005 0.1925    1            -0.11216226  \n",
       "4 2020-03-31 62.42836 0.0000    1            -0.06976144  \n",
       "5 2020-04-30 72.12809 0.0000    1             0.15537377  \n",
       "6 2020-05-29 78.26578 0.2050    1             0.08793644  "
      ]
     },
     "metadata": {},
     "output_type": "display_data"
    }
   ],
   "source": [
    "head(ticker_aapl)"
   ]
  },
  {
   "cell_type": "code",
   "execution_count": 128,
   "metadata": {
    "collapsed": true
   },
   "outputs": [],
   "source": [
    "ticker_aapl <- ticker_aapl[-1,]\n",
    "ticker_googl <- ticker_googl[-1,]"
   ]
  },
  {
   "cell_type": "code",
   "execution_count": 129,
   "metadata": {},
   "outputs": [
    {
     "data": {
      "text/html": [
       "<style>\n",
       ".list-inline {list-style: none; margin:0; padding: 0}\n",
       ".list-inline>li {display: inline-block}\n",
       ".list-inline>li:not(:last-child)::after {content: \"\\00b7\"; padding: 0 .5ex}\n",
       "</style>\n",
       "<ol class=list-inline><li>36</li><li>5</li></ol>\n"
      ],
      "text/latex": [
       "\\begin{enumerate*}\n",
       "\\item 36\n",
       "\\item 5\n",
       "\\end{enumerate*}\n"
      ],
      "text/markdown": [
       "1. 36\n",
       "2. 5\n",
       "\n",
       "\n"
      ],
      "text/plain": [
       "[1] 36  5"
      ]
     },
     "metadata": {},
     "output_type": "display_data"
    }
   ],
   "source": [
    "dim(ticker_aapl)"
   ]
  },
  {
   "cell_type": "code",
   "execution_count": 130,
   "metadata": {},
   "outputs": [
    {
     "data": {
      "text/html": [
       "<table>\n",
       "<caption>A data.frame: 6 × 2</caption>\n",
       "<thead>\n",
       "\t<tr><th></th><th scope=col>Date</th><th scope=col>return_market</th></tr>\n",
       "\t<tr><th></th><th scope=col>&lt;chr&gt;</th><th scope=col>&lt;dbl&gt;</th></tr>\n",
       "</thead>\n",
       "<tbody>\n",
       "\t<tr><th scope=row>1</th><td>2020-01-31</td><td>-0.0016</td></tr>\n",
       "\t<tr><th scope=row>2</th><td>2020-02-28</td><td>-0.0841</td></tr>\n",
       "\t<tr><th scope=row>3</th><td>2020-03-31</td><td>-0.1251</td></tr>\n",
       "\t<tr><th scope=row>4</th><td>2020-04-30</td><td> 0.1268</td></tr>\n",
       "\t<tr><th scope=row>5</th><td>2020-05-29</td><td> 0.0453</td></tr>\n",
       "\t<tr><th scope=row>6</th><td>2020-06-30</td><td> 0.0184</td></tr>\n",
       "</tbody>\n",
       "</table>\n"
      ],
      "text/latex": [
       "A data.frame: 6 × 2\n",
       "\\begin{tabular}{r|ll}\n",
       "  & Date & return\\_market\\\\\n",
       "  & <chr> & <dbl>\\\\\n",
       "\\hline\n",
       "\t1 & 2020-01-31 & -0.0016\\\\\n",
       "\t2 & 2020-02-28 & -0.0841\\\\\n",
       "\t3 & 2020-03-31 & -0.1251\\\\\n",
       "\t4 & 2020-04-30 &  0.1268\\\\\n",
       "\t5 & 2020-05-29 &  0.0453\\\\\n",
       "\t6 & 2020-06-30 &  0.0184\\\\\n",
       "\\end{tabular}\n"
      ],
      "text/markdown": [
       "\n",
       "A data.frame: 6 × 2\n",
       "\n",
       "| <!--/--> | Date &lt;chr&gt; | return_market &lt;dbl&gt; |\n",
       "|---|---|---|\n",
       "| 1 | 2020-01-31 | -0.0016 |\n",
       "| 2 | 2020-02-28 | -0.0841 |\n",
       "| 3 | 2020-03-31 | -0.1251 |\n",
       "| 4 | 2020-04-30 |  0.1268 |\n",
       "| 5 | 2020-05-29 |  0.0453 |\n",
       "| 6 | 2020-06-30 |  0.0184 |\n",
       "\n"
      ],
      "text/plain": [
       "  Date       return_market\n",
       "1 2020-01-31 -0.0016      \n",
       "2 2020-02-28 -0.0841      \n",
       "3 2020-03-31 -0.1251      \n",
       "4 2020-04-30  0.1268      \n",
       "5 2020-05-29  0.0453      \n",
       "6 2020-06-30  0.0184      "
      ]
     },
     "metadata": {},
     "output_type": "display_data"
    }
   ],
   "source": [
    "head(ticker_gspc)"
   ]
  },
  {
   "cell_type": "code",
   "execution_count": 131,
   "metadata": {},
   "outputs": [
    {
     "data": {
      "text/html": [
       "<style>\n",
       ".list-inline {list-style: none; margin:0; padding: 0}\n",
       ".list-inline>li {display: inline-block}\n",
       ".list-inline>li:not(:last-child)::after {content: \"\\00b7\"; padding: 0 .5ex}\n",
       "</style>\n",
       "<ol class=list-inline><li>36</li><li>2</li></ol>\n"
      ],
      "text/latex": [
       "\\begin{enumerate*}\n",
       "\\item 36\n",
       "\\item 2\n",
       "\\end{enumerate*}\n"
      ],
      "text/markdown": [
       "1. 36\n",
       "2. 2\n",
       "\n",
       "\n"
      ],
      "text/plain": [
       "[1] 36  2"
      ]
     },
     "metadata": {},
     "output_type": "display_data"
    }
   ],
   "source": [
    "dim(ticker_gspc)"
   ]
  },
  {
   "cell_type": "code",
   "execution_count": 132,
   "metadata": {},
   "outputs": [
    {
     "data": {
      "text/html": [
       "<table>\n",
       "<caption>A data.frame: 6 × 2</caption>\n",
       "<thead>\n",
       "\t<tr><th></th><th scope=col>Date</th><th scope=col>return_meta</th></tr>\n",
       "\t<tr><th></th><th scope=col>&lt;chr&gt;</th><th scope=col>&lt;dbl&gt;</th></tr>\n",
       "</thead>\n",
       "<tbody>\n",
       "\t<tr><th scope=row>1</th><td>2020-01-31</td><td>-0.016542005</td></tr>\n",
       "\t<tr><th scope=row>2</th><td>2020-02-28</td><td>-0.049046617</td></tr>\n",
       "\t<tr><th scope=row>3</th><td>2020-03-31</td><td>-0.153896869</td></tr>\n",
       "\t<tr><th scope=row>4</th><td>2020-04-30</td><td> 0.185188815</td></tr>\n",
       "\t<tr><th scope=row>5</th><td>2020-05-29</td><td> 0.090541517</td></tr>\n",
       "\t<tr><th scope=row>6</th><td>2020-06-30</td><td> 0.008719826</td></tr>\n",
       "</tbody>\n",
       "</table>\n"
      ],
      "text/latex": [
       "A data.frame: 6 × 2\n",
       "\\begin{tabular}{r|ll}\n",
       "  & Date & return\\_meta\\\\\n",
       "  & <chr> & <dbl>\\\\\n",
       "\\hline\n",
       "\t1 & 2020-01-31 & -0.016542005\\\\\n",
       "\t2 & 2020-02-28 & -0.049046617\\\\\n",
       "\t3 & 2020-03-31 & -0.153896869\\\\\n",
       "\t4 & 2020-04-30 &  0.185188815\\\\\n",
       "\t5 & 2020-05-29 &  0.090541517\\\\\n",
       "\t6 & 2020-06-30 &  0.008719826\\\\\n",
       "\\end{tabular}\n"
      ],
      "text/markdown": [
       "\n",
       "A data.frame: 6 × 2\n",
       "\n",
       "| <!--/--> | Date &lt;chr&gt; | return_meta &lt;dbl&gt; |\n",
       "|---|---|---|\n",
       "| 1 | 2020-01-31 | -0.016542005 |\n",
       "| 2 | 2020-02-28 | -0.049046617 |\n",
       "| 3 | 2020-03-31 | -0.153896869 |\n",
       "| 4 | 2020-04-30 |  0.185188815 |\n",
       "| 5 | 2020-05-29 |  0.090541517 |\n",
       "| 6 | 2020-06-30 |  0.008719826 |\n",
       "\n"
      ],
      "text/plain": [
       "  Date       return_meta \n",
       "1 2020-01-31 -0.016542005\n",
       "2 2020-02-28 -0.049046617\n",
       "3 2020-03-31 -0.153896869\n",
       "4 2020-04-30  0.185188815\n",
       "5 2020-05-29  0.090541517\n",
       "6 2020-06-30  0.008719826"
      ]
     },
     "metadata": {},
     "output_type": "display_data"
    }
   ],
   "source": [
    "head(ticker_meta)"
   ]
  },
  {
   "cell_type": "code",
   "execution_count": 133,
   "metadata": {},
   "outputs": [
    {
     "data": {
      "text/html": [
       "<style>\n",
       ".list-inline {list-style: none; margin:0; padding: 0}\n",
       ".list-inline>li {display: inline-block}\n",
       ".list-inline>li:not(:last-child)::after {content: \"\\00b7\"; padding: 0 .5ex}\n",
       "</style>\n",
       "<ol class=list-inline><li>36</li><li>2</li></ol>\n"
      ],
      "text/latex": [
       "\\begin{enumerate*}\n",
       "\\item 36\n",
       "\\item 2\n",
       "\\end{enumerate*}\n"
      ],
      "text/markdown": [
       "1. 36\n",
       "2. 2\n",
       "\n",
       "\n"
      ],
      "text/plain": [
       "[1] 36  2"
      ]
     },
     "metadata": {},
     "output_type": "display_data"
    }
   ],
   "source": [
    "dim(ticker_meta)"
   ]
  },
  {
   "cell_type": "code",
   "execution_count": 134,
   "metadata": {
    "collapsed": true
   },
   "outputs": [],
   "source": [
    "model_aapl <- lm(ticker_aapl$Simple_Return ~ ticker_gspc$return_market)\n",
    "\n",
    "model_meta <- lm(ticker_meta$return_meta ~ ticker_gspc$return_market)"
   ]
  },
  {
   "cell_type": "code",
   "execution_count": 135,
   "metadata": {},
   "outputs": [
    {
     "data": {
      "text/plain": [
       "\n",
       "Call:\n",
       "lm(formula = ticker_aapl$Simple_Return ~ ticker_gspc$return_market)\n",
       "\n",
       "Residuals:\n",
       "    Min      1Q  Median      3Q     Max \n",
       "-0.3314 -0.1667 -0.1016 -0.0094  3.5532 \n",
       "\n",
       "Coefficients:\n",
       "                          Estimate Std. Error t value Pr(>|t|)  \n",
       "(Intercept)                 0.1028     0.1057   0.972   0.3378  \n",
       "ticker_gspc$return_market   3.0282     1.7437   1.737   0.0915 .\n",
       "---\n",
       "Signif. codes:  0 ‘***’ 0.001 ‘**’ 0.01 ‘*’ 0.05 ‘.’ 0.1 ‘ ’ 1\n",
       "\n",
       "Residual standard error: 0.6303 on 34 degrees of freedom\n",
       "Multiple R-squared:  0.08148,\tAdjusted R-squared:  0.05446 \n",
       "F-statistic: 3.016 on 1 and 34 DF,  p-value: 0.0915\n"
      ]
     },
     "metadata": {},
     "output_type": "display_data"
    }
   ],
   "source": [
    "summary(model_aapl)"
   ]
  },
  {
   "cell_type": "code",
   "execution_count": 136,
   "metadata": {},
   "outputs": [
    {
     "data": {
      "text/plain": [
       "\n",
       "Call:\n",
       "lm(formula = ticker_meta$return_meta ~ ticker_gspc$return_market)\n",
       "\n",
       "Residuals:\n",
       "     Min       1Q   Median       3Q      Max \n",
       "-0.50974 -0.02468  0.02031  0.06992  0.18540 \n",
       "\n",
       "Coefficients:\n",
       "                          Estimate Std. Error t value Pr(>|t|)   \n",
       "(Intercept)               -0.03099    0.02215  -1.399  0.17089   \n",
       "ticker_gspc$return_market  1.05516    0.36543   2.887  0.00671 **\n",
       "---\n",
       "Signif. codes:  0 ‘***’ 0.001 ‘**’ 0.01 ‘*’ 0.05 ‘.’ 0.1 ‘ ’ 1\n",
       "\n",
       "Residual standard error: 0.1321 on 34 degrees of freedom\n",
       "Multiple R-squared:  0.1969,\tAdjusted R-squared:  0.1733 \n",
       "F-statistic: 8.338 on 1 and 34 DF,  p-value: 0.006707\n"
      ]
     },
     "metadata": {},
     "output_type": "display_data"
    }
   ],
   "source": [
    "summary(model_meta)"
   ]
  },
  {
   "cell_type": "markdown",
   "metadata": {},
   "source": [
    "**Betas**\n",
    "\n",
    "AAPL: 3.0282\n",
    "\n",
    "Meta: 1.055\n",
    "\n",
    "Apple has higher beta and hence higher market risk"
   ]
  },
  {
   "cell_type": "markdown",
   "metadata": {
    "deletable": false,
    "editable": false,
    "nbgrader": {
     "grade": false,
     "locked": true,
     "solution": false
    }
   },
   "source": [
    "### G.  Plot cumulative returns of all stocks in one graph. (3 points)"
   ]
  },
  {
   "cell_type": "code",
   "execution_count": 137,
   "metadata": {
    "collapsed": true
   },
   "outputs": [],
   "source": [
    "ticker_aapl$cum_ret <- cumsum(ticker_aapl$Simple_Return)\n",
    "ticker_googl$cum_ret <- cumsum(ticker_googl$Simple_Return)\n",
    "ticker_amzn$cum_ret <- cumsum(ticker_amzn$return_amzn)\n",
    "ticker_meta$cum_ret <- cumsum(ticker_meta$return_meta)\n",
    "ticker_nflx$cum_ret <- cumsum(ticker_nflx$return_nflx)\n",
    "ticker_gspc$cum_ret <- cumsum(ticker_gspc$return_market)"
   ]
  },
  {
   "cell_type": "code",
   "execution_count": 138,
   "metadata": {
    "collapsed": true
   },
   "outputs": [],
   "source": [
    "ticker_aapl$Date <- as.Date(ticker_aapl$Date)\n",
    "ticker_googl$Date <- as.Date(ticker_googl$Date)\n",
    "ticker_amzn$Date <- as.Date(ticker_amzn$Date)\n",
    "ticker_meta$Date <- as.Date(ticker_meta$Date)\n",
    "ticker_nflx$Date <- as.Date(ticker_nflx$Date)\n",
    "ticker_gspc$Date <- as.Date(ticker_gspc$Date)"
   ]
  },
  {
   "cell_type": "code",
   "execution_count": 139,
   "metadata": {},
   "outputs": [
    {
     "data": {
      "image/png": "[encoded data removed]",
      "text/plain": [
       "Plot with title “Overlayed Charts”"
      ]
     },
     "metadata": {
      "image/png": {
       "height": 420,
       "width": 420
      }
     },
     "output_type": "display_data"
    }
   ],
   "source": [
    "plot(ticker_aapl$Date, ticker_aapl$cum_ret, type = \"l\",col = \"blue\", xlab = \"Dates\", ylab = \"Cumulative Returns\", main = \"Overlayed Charts\")\n",
    "lines(ticker_googl$Date, ticker_googl$cum_ret, col=\"red\")\n",
    "lines(ticker_amzn$Date, ticker_amzn$cum_ret, col=\"green\")\n",
    "lines(ticker_meta$Date, ticker_meta$cum_ret, col=\"yellow\")\n",
    "lines(ticker_nflx$Date, ticker_nflx$cum_ret, col=\"orange\")\n",
    "lines(ticker_gspc$Date, ticker_gspc$cum_ret, col=\"black\")"
   ]
  },
  {
   "cell_type": "markdown",
   "metadata": {
    "deletable": false,
    "editable": false,
    "nbgrader": {
     "grade": false,
     "locked": true,
     "solution": false
    }
   },
   "source": [
    "### H. Based on the top 5 drawdowns of AMZN, dentify the start date of the most recent drawdown. (2 points)\n",
    "**use table.Drawdown( ) function to find drawdowns for stocks. Refer to the documentation here. (https://www.rdocumentation.org/packages/PerformanceAnalytics/versions/2.0.4/topics/table.Drawdowns)**"
   ]
  },
  {
   "cell_type": "code",
   "execution_count": 140,
   "metadata": {},
   "outputs": [
    {
     "data": {
      "text/html": [
       "<table>\n",
       "<caption>A data.frame: 6 × 3</caption>\n",
       "<thead>\n",
       "\t<tr><th></th><th scope=col>Date</th><th scope=col>return_amzn</th><th scope=col>cum_ret</th></tr>\n",
       "\t<tr><th></th><th scope=col>&lt;date&gt;</th><th scope=col>&lt;dbl&gt;</th><th scope=col>&lt;dbl&gt;</th></tr>\n",
       "</thead>\n",
       "<tbody>\n",
       "\t<tr><th scope=row>1</th><td>2020-01-31</td><td>-0.06221372</td><td>-0.06221372</td></tr>\n",
       "\t<tr><th scope=row>2</th><td>2020-02-28</td><td> 0.03502057</td><td>-0.02719315</td></tr>\n",
       "\t<tr><th scope=row>3</th><td>2020-03-31</td><td> 0.26890012</td><td> 0.24170697</td></tr>\n",
       "\t<tr><th scope=row>4</th><td>2020-04-30</td><td>-0.01278494</td><td> 0.22892203</td></tr>\n",
       "\t<tr><th scope=row>5</th><td>2020-05-29</td><td> 0.12956672</td><td> 0.35848875</td></tr>\n",
       "\t<tr><th scope=row>6</th><td>2020-06-30</td><td> 0.14711363</td><td> 0.50560238</td></tr>\n",
       "</tbody>\n",
       "</table>\n"
      ],
      "text/latex": [
       "A data.frame: 6 × 3\n",
       "\\begin{tabular}{r|lll}\n",
       "  & Date & return\\_amzn & cum\\_ret\\\\\n",
       "  & <date> & <dbl> & <dbl>\\\\\n",
       "\\hline\n",
       "\t1 & 2020-01-31 & -0.06221372 & -0.06221372\\\\\n",
       "\t2 & 2020-02-28 &  0.03502057 & -0.02719315\\\\\n",
       "\t3 & 2020-03-31 &  0.26890012 &  0.24170697\\\\\n",
       "\t4 & 2020-04-30 & -0.01278494 &  0.22892203\\\\\n",
       "\t5 & 2020-05-29 &  0.12956672 &  0.35848875\\\\\n",
       "\t6 & 2020-06-30 &  0.14711363 &  0.50560238\\\\\n",
       "\\end{tabular}\n"
      ],
      "text/markdown": [
       "\n",
       "A data.frame: 6 × 3\n",
       "\n",
       "| <!--/--> | Date &lt;date&gt; | return_amzn &lt;dbl&gt; | cum_ret &lt;dbl&gt; |\n",
       "|---|---|---|---|\n",
       "| 1 | 2020-01-31 | -0.06221372 | -0.06221372 |\n",
       "| 2 | 2020-02-28 |  0.03502057 | -0.02719315 |\n",
       "| 3 | 2020-03-31 |  0.26890012 |  0.24170697 |\n",
       "| 4 | 2020-04-30 | -0.01278494 |  0.22892203 |\n",
       "| 5 | 2020-05-29 |  0.12956672 |  0.35848875 |\n",
       "| 6 | 2020-06-30 |  0.14711363 |  0.50560238 |\n",
       "\n"
      ],
      "text/plain": [
       "  Date       return_amzn cum_ret    \n",
       "1 2020-01-31 -0.06221372 -0.06221372\n",
       "2 2020-02-28  0.03502057 -0.02719315\n",
       "3 2020-03-31  0.26890012  0.24170697\n",
       "4 2020-04-30 -0.01278494  0.22892203\n",
       "5 2020-05-29  0.12956672  0.35848875\n",
       "6 2020-06-30  0.14711363  0.50560238"
      ]
     },
     "metadata": {},
     "output_type": "display_data"
    }
   ],
   "source": [
    "head(ticker_amzn)"
   ]
  },
  {
   "cell_type": "code",
   "execution_count": 141,
   "metadata": {
    "collapsed": true
   },
   "outputs": [],
   "source": [
    "#install.packages(\"PerformanceAnalytics\")\n",
    "library(PerformanceAnalytics)"
   ]
  },
  {
   "cell_type": "code",
   "execution_count": 142,
   "metadata": {
    "collapsed": true
   },
   "outputs": [],
   "source": [
    "returns_xts <- xts(ticker_amzn$return_amzn, order.by = ticker_amzn$Date)"
   ]
  },
  {
   "cell_type": "code",
   "execution_count": 143,
   "metadata": {
    "collapsed": true
   },
   "outputs": [],
   "source": [
    "amzn_drawdowns <- table.Drawdowns(returns_xts)"
   ]
  },
  {
   "cell_type": "code",
   "execution_count": 144,
   "metadata": {},
   "outputs": [
    {
     "data": {
      "text/html": [
       "<table>\n",
       "<caption>A data.frame: 5 × 7</caption>\n",
       "<thead>\n",
       "\t<tr><th scope=col>From</th><th scope=col>Trough</th><th scope=col>To</th><th scope=col>Depth</th><th scope=col>Length</th><th scope=col>To Trough</th><th scope=col>Recovery</th></tr>\n",
       "\t<tr><th scope=col>&lt;date&gt;</th><th scope=col>&lt;date&gt;</th><th scope=col>&lt;date&gt;</th><th scope=col>&lt;dbl&gt;</th><th scope=col>&lt;dbl&gt;</th><th scope=col>&lt;dbl&gt;</th><th scope=col>&lt;dbl&gt;</th></tr>\n",
       "</thead>\n",
       "<tbody>\n",
       "\t<tr><td>2021-11-30</td><td>2022-11-30</td><td>NA</td><td>-0.5210</td><td>15</td><td>13</td><td>NA</td></tr>\n",
       "\t<tr><td>2020-08-31</td><td>2020-09-30</td><td>2021-03-31</td><td>-0.1202</td><td> 8</td><td> 2</td><td> 6</td></tr>\n",
       "\t<tr><td>2021-04-30</td><td>2021-04-30</td><td>2021-07-30</td><td>-0.0705</td><td> 4</td><td> 1</td><td> 3</td></tr>\n",
       "\t<tr><td>2020-01-31</td><td>2020-01-31</td><td>2020-03-31</td><td>-0.0622</td><td> 3</td><td> 1</td><td> 2</td></tr>\n",
       "\t<tr><td>2021-08-31</td><td>2021-08-31</td><td>2021-10-29</td><td>-0.0535</td><td> 3</td><td> 1</td><td> 2</td></tr>\n",
       "</tbody>\n",
       "</table>\n"
      ],
      "text/latex": [
       "A data.frame: 5 × 7\n",
       "\\begin{tabular}{lllllll}\n",
       " From & Trough & To & Depth & Length & To Trough & Recovery\\\\\n",
       " <date> & <date> & <date> & <dbl> & <dbl> & <dbl> & <dbl>\\\\\n",
       "\\hline\n",
       "\t 2021-11-30 & 2022-11-30 & NA & -0.5210 & 15 & 13 & NA\\\\\n",
       "\t 2020-08-31 & 2020-09-30 & 2021-03-31 & -0.1202 &  8 &  2 &  6\\\\\n",
       "\t 2021-04-30 & 2021-04-30 & 2021-07-30 & -0.0705 &  4 &  1 &  3\\\\\n",
       "\t 2020-01-31 & 2020-01-31 & 2020-03-31 & -0.0622 &  3 &  1 &  2\\\\\n",
       "\t 2021-08-31 & 2021-08-31 & 2021-10-29 & -0.0535 &  3 &  1 &  2\\\\\n",
       "\\end{tabular}\n"
      ],
      "text/markdown": [
       "\n",
       "A data.frame: 5 × 7\n",
       "\n",
       "| From &lt;date&gt; | Trough &lt;date&gt; | To &lt;date&gt; | Depth &lt;dbl&gt; | Length &lt;dbl&gt; | To Trough &lt;dbl&gt; | Recovery &lt;dbl&gt; |\n",
       "|---|---|---|---|---|---|---|\n",
       "| 2021-11-30 | 2022-11-30 | NA | -0.5210 | 15 | 13 | NA |\n",
       "| 2020-08-31 | 2020-09-30 | 2021-03-31 | -0.1202 |  8 |  2 |  6 |\n",
       "| 2021-04-30 | 2021-04-30 | 2021-07-30 | -0.0705 |  4 |  1 |  3 |\n",
       "| 2020-01-31 | 2020-01-31 | 2020-03-31 | -0.0622 |  3 |  1 |  2 |\n",
       "| 2021-08-31 | 2021-08-31 | 2021-10-29 | -0.0535 |  3 |  1 |  2 |\n",
       "\n"
      ],
      "text/plain": [
       "  From       Trough     To         Depth   Length To Trough Recovery\n",
       "1 2021-11-30 2022-11-30 <NA>       -0.5210 15     13        NA      \n",
       "2 2020-08-31 2020-09-30 2021-03-31 -0.1202  8      2         6      \n",
       "3 2021-04-30 2021-04-30 2021-07-30 -0.0705  4      1         3      \n",
       "4 2020-01-31 2020-01-31 2020-03-31 -0.0622  3      1         2      \n",
       "5 2021-08-31 2021-08-31 2021-10-29 -0.0535  3      1         2      "
      ]
     },
     "metadata": {},
     "output_type": "display_data"
    }
   ],
   "source": [
    "amzn_drawdowns"
   ]
  },
  {
   "cell_type": "markdown",
   "metadata": {},
   "source": [
    "Most recent drawdown was from 30 November 2021 to 30 Nov 2022"
   ]
  },
  {
   "cell_type": "markdown",
   "metadata": {},
   "source": [
    "---"
   ]
  }
 ],
 "metadata": {
  "kernelspec": {
   "display_name": "R 4.0.2",
   "language": "R",
   "name": "ir-4.0.2"
  },
  "language_info": {
   "codemirror_mode": "r",
   "file_extension": ".r",
   "mimetype": "text/x-r-source",
   "name": "R",
   "pygments_lexer": "r",
   "version": "4.0.2"
  }
 },
 "nbformat": 4,
 "nbformat_minor": 2
}
