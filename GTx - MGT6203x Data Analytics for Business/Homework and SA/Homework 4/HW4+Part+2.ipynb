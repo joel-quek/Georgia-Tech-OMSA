{
 "cells": [
  {
   "cell_type": "markdown",
   "metadata": {
    "deletable": false,
    "editable": false,
    "nbgrader": {
     "grade": false,
     "locked": true,
     "solution": false
    }
   },
   "source": [
    "# HW4 Part 2 MGT 6203 "
   ]
  },
  {
   "cell_type": "markdown",
   "metadata": {
    "deletable": false,
    "editable": false,
    "nbgrader": {
     "grade": false,
     "locked": true,
     "solution": false
    }
   },
   "source": [
    "## Instructions:\n",
    "\n",
    "\n",
    "**For Homework 4 Part 2, please use this R notebook in Vocareum to submit your solutions. Vocareum is an educational cloud platform for programming in several languages; it is based on the Jupyter notebook environment. This platform allows us to move homework assignments to the cloud. The advantages are that all of you will be working in the same coding environment AND peer reviewers will be able to run your R code easily. This way we eliminate some issues we might encounter when working on an individual/local basis, such as library installations and Rstudio OS requirements; R notebooks work on mobile platforms and tablets.**\n",
    "\n",
    "**With R notebooks, you will be learning a new way of presenting data analysis reports, that is neat and flexible, where formatted (English) text and (R) code can easily coexist on the same page. Notebooks can be also collaborative when needed. For now, we are asking each of you to do your own work for homework. Think of R notebooks as interactive program-based Google docs or MS-Office 360 docs; these are gradually replacing local files on our computers. **\n",
    "\n",
    "**Many of you are new to the R notebooks and Vocareum platforms. We will provide TA help in Piazza with specific code if you have questions. Here we list some important things to get you started. Please read through them carefully.**\n",
    "\n",
    "\n",
    "<ol>\n",
    "<li>Even though we are moving from your local envrionment to the cloud, **our expectations from your homework will remain the same**. Same goes for the rubrics.</li>\n",
    "\n",
    "<li>Vocareum has its own cloud based file system, the data files you will be using for the assignments will be stored in the cloud with path **\"../resource/asnlib/publicdata/FILENAME.csv\"**. You will be able to import them with the same method as you do in RStudio, simply substitute the path name to the one specified in the instructions. You won't be able to modify these data files.</li>\n",
    "\n",
    "<li>You will be able to find the data files on Canvas/EdX if you would like to explore them offline.</li>\n",
    "\n",
    "<li>**For coding questions, you will be graded on the R code as well as the output** in your submission.</li>\n",
    "\n",
    "<li>**For interpretations or short response questions, please type the answers in the notebook's markdown cells**. To change a code cell to a markdown cell, click on the cell, and in the dropdown menu above, switch the type of the cell block from \"code\" to \"markdown\". **Adding print statements to code cells for short response/interpretation questions is also fine, as long as we can clearly see the output of your response**.</li>\n",
    "\n",
    "<li>You don't need to, but if you would like to learn more about how to format your markdown cells, visit the following site: https://www.earthdatascience.org/courses/intro-to-earth-data-science/file-formats/use-text-files/format-text-with-markdown-jupyter-notebook/. Jupyter notebook also support LaTeX.</li>\n",
    "\n",
    "<li>**Feel free to delete or add as many additional cells as you need**. But please try to keep your notebook clean and keep your solution to a question directly under that question to avoid confusions.</li>\n",
    "\n",
    "<li>You may delete the #SOLUTION BEGINS/ENDS HERE comments from the cell blocks, they are just pointers that indicates where to put you solutions.</li>\n",
    "\n",
    "<li>**When you have finished the assignment, remember to rerun your notebook to check if it runs correctly.** You can do so by going to **Kernel-> Restart & Run All**. You may lose points if your solutions does not run successfully.</li>\n",
    "\n",
    "<li>**Click the \"Submit\" button on the top right corner to turn in your assignment**. Your assignment will enter the next phase for peer review.</li>\n",
    "\n",
    "<li>**You are allowed a total of 2 submissions for this assignment.** So make sure that you submit your responses carefully. You will be able to come back and resubmit your assignment as long as it is before the start of the peer review period.</li>\n",
    "\n",
    "<li>**Please remember to finish the peer reviews after you have submitted your assignment.** You are responsible for grading the work of three of your peers thoroughly, and in addherence to the rubrics. And you will be held accountable for peer grading. **There will be a 30% penalty to your grade if you fail to complete one or more peer reviews in proper fashion.**</li>\n",
    "\n",
    "<li>Feel free to address your questions, concerns, and provide any feedback on Piazza. We will continuously try to improve going forward.</li>\n",
    "\n",
    "<li>Good Luck!</li>\n",
    "\n",
    "</ol>\n",
    "\n"
   ]
  },
  {
   "cell_type": "markdown",
   "metadata": {
    "deletable": false,
    "editable": false,
    "nbgrader": {
     "grade": false,
     "locked": true,
     "solution": false
    }
   },
   "source": [
    "# About Package Installation:\n",
    "\n",
    "Most of the packages (if not all) that you will need to complete this assignment are already installed in this environment. An easy way to check this is to run the command: library(PackageName). If this command runs successfully then the package was already installed and has been successfully attached to the code. If the command gave an error saying the Package was not found then follow the steps below to successfully install the package and attach it to the code: \n",
    "\n",
    "Use *installed.packages()* command to return a table of the packages that are preinstalled in the environment.\n",
    "\n",
    "To attach a preinstalled library in Vocareum, simply use *library(PackageName)*\n",
    "\n",
    "**To install a package that does not come with the provided environment, please use the following syntax:**\n",
    "\n",
    "*install.packages(\"PackageName\", lib=\"../work/\")*\n",
    "\n",
    "**To attach a library you just installed, use the following syntax:**\n",
    "\n",
    "*library(PackageName, lib.loc=\"../work/\")*\n",
    "\n",
    "Make sure the file location is the same as the above code snippets *(\"../work/\")*"
   ]
  },
  {
   "cell_type": "markdown",
   "metadata": {
    "deletable": false,
    "editable": false,
    "nbgrader": {
     "grade": false,
     "locked": true,
     "solution": false
    }
   },
   "source": [
    "## Question 1\n",
    "\n",
    "### ABC Lab is a cement manufactory lab and they are working on a new process to make cement. They make multiple cement samples and test the strength of them. In the dataset, you will find the strength of 8 randomly selected samples (MPa) from the production line everyday for 59 days.  They want to use statistical control chart to test if the process is in control. \n"
   ]
  },
  {
   "cell_type": "code",
   "execution_count": 1,
   "metadata": {
    "collapsed": true,
    "deletable": false,
    "editable": false,
    "nbgrader": {
     "grade": false,
     "locked": true,
     "solution": false
    }
   },
   "outputs": [],
   "source": [
    "## read dataset\n",
    "data_q1 = read.csv(\"../resource/asnlib/publicdata/concrete.csv\", stringsAsFactors = FALSE) "
   ]
  },
  {
   "cell_type": "markdown",
   "metadata": {
    "deletable": false,
    "editable": false,
    "nbgrader": {
     "grade": false,
     "locked": true,
     "solution": false
    }
   },
   "source": [
    "### A) Calculate UCLx, LCLx, UCLr, LCLr (8 points) \n",
    "\n",
    "**Note:** Use the following values -> A2 = 0.373, D3 = 0.136, D4 = 1.864."
   ]
  },
  {
   "cell_type": "code",
   "execution_count": 2,
   "metadata": {},
   "outputs": [
    {
     "data": {
      "text/html": [
       "<table>\n",
       "<caption>A data.frame: 6 × 9</caption>\n",
       "<thead>\n",
       "\t<tr><th></th><th scope=col>Date</th><th scope=col>Obs1</th><th scope=col>Obs2</th><th scope=col>Obs3</th><th scope=col>Obs4</th><th scope=col>Obs5</th><th scope=col>Obs6</th><th scope=col>Obs7</th><th scope=col>Obs8</th></tr>\n",
       "\t<tr><th></th><th scope=col>&lt;int&gt;</th><th scope=col>&lt;dbl&gt;</th><th scope=col>&lt;dbl&gt;</th><th scope=col>&lt;dbl&gt;</th><th scope=col>&lt;dbl&gt;</th><th scope=col>&lt;dbl&gt;</th><th scope=col>&lt;dbl&gt;</th><th scope=col>&lt;dbl&gt;</th><th scope=col>&lt;dbl&gt;</th></tr>\n",
       "</thead>\n",
       "<tbody>\n",
       "\t<tr><th scope=row>1</th><td>1</td><td> 6.905</td><td> 3.676</td><td>36.132</td><td>25.386</td><td>10.082</td><td>11.903</td><td> 3.471</td><td>12.727</td></tr>\n",
       "\t<tr><th scope=row>2</th><td>2</td><td> 1.155</td><td> 4.421</td><td> 2.714</td><td>12.364</td><td> 1.881</td><td>40.546</td><td>66.841</td><td> 6.353</td></tr>\n",
       "\t<tr><th scope=row>3</th><td>3</td><td>23.243</td><td>11.339</td><td>10.081</td><td> 4.105</td><td>28.779</td><td> 2.376</td><td>13.646</td><td>15.021</td></tr>\n",
       "\t<tr><th scope=row>4</th><td>4</td><td>34.162</td><td>37.484</td><td> 1.918</td><td> 5.094</td><td>15.780</td><td>13.620</td><td> 0.028</td><td>18.124</td></tr>\n",
       "\t<tr><th scope=row>5</th><td>5</td><td> 1.412</td><td> 3.266</td><td>32.367</td><td> 5.234</td><td>24.197</td><td> 5.345</td><td>13.656</td><td> 0.163</td></tr>\n",
       "\t<tr><th scope=row>6</th><td>6</td><td>12.420</td><td> 4.269</td><td>47.195</td><td>20.140</td><td> 9.398</td><td> 6.985</td><td>27.100</td><td>19.542</td></tr>\n",
       "</tbody>\n",
       "</table>\n"
      ],
      "text/latex": [
       "A data.frame: 6 × 9\n",
       "\\begin{tabular}{r|lllllllll}\n",
       "  & Date & Obs1 & Obs2 & Obs3 & Obs4 & Obs5 & Obs6 & Obs7 & Obs8\\\\\n",
       "  & <int> & <dbl> & <dbl> & <dbl> & <dbl> & <dbl> & <dbl> & <dbl> & <dbl>\\\\\n",
       "\\hline\n",
       "\t1 & 1 &  6.905 &  3.676 & 36.132 & 25.386 & 10.082 & 11.903 &  3.471 & 12.727\\\\\n",
       "\t2 & 2 &  1.155 &  4.421 &  2.714 & 12.364 &  1.881 & 40.546 & 66.841 &  6.353\\\\\n",
       "\t3 & 3 & 23.243 & 11.339 & 10.081 &  4.105 & 28.779 &  2.376 & 13.646 & 15.021\\\\\n",
       "\t4 & 4 & 34.162 & 37.484 &  1.918 &  5.094 & 15.780 & 13.620 &  0.028 & 18.124\\\\\n",
       "\t5 & 5 &  1.412 &  3.266 & 32.367 &  5.234 & 24.197 &  5.345 & 13.656 &  0.163\\\\\n",
       "\t6 & 6 & 12.420 &  4.269 & 47.195 & 20.140 &  9.398 &  6.985 & 27.100 & 19.542\\\\\n",
       "\\end{tabular}\n"
      ],
      "text/markdown": [
       "\n",
       "A data.frame: 6 × 9\n",
       "\n",
       "| <!--/--> | Date &lt;int&gt; | Obs1 &lt;dbl&gt; | Obs2 &lt;dbl&gt; | Obs3 &lt;dbl&gt; | Obs4 &lt;dbl&gt; | Obs5 &lt;dbl&gt; | Obs6 &lt;dbl&gt; | Obs7 &lt;dbl&gt; | Obs8 &lt;dbl&gt; |\n",
       "|---|---|---|---|---|---|---|---|---|---|\n",
       "| 1 | 1 |  6.905 |  3.676 | 36.132 | 25.386 | 10.082 | 11.903 |  3.471 | 12.727 |\n",
       "| 2 | 2 |  1.155 |  4.421 |  2.714 | 12.364 |  1.881 | 40.546 | 66.841 |  6.353 |\n",
       "| 3 | 3 | 23.243 | 11.339 | 10.081 |  4.105 | 28.779 |  2.376 | 13.646 | 15.021 |\n",
       "| 4 | 4 | 34.162 | 37.484 |  1.918 |  5.094 | 15.780 | 13.620 |  0.028 | 18.124 |\n",
       "| 5 | 5 |  1.412 |  3.266 | 32.367 |  5.234 | 24.197 |  5.345 | 13.656 |  0.163 |\n",
       "| 6 | 6 | 12.420 |  4.269 | 47.195 | 20.140 |  9.398 |  6.985 | 27.100 | 19.542 |\n",
       "\n"
      ],
      "text/plain": [
       "  Date Obs1   Obs2   Obs3   Obs4   Obs5   Obs6   Obs7   Obs8  \n",
       "1 1     6.905  3.676 36.132 25.386 10.082 11.903  3.471 12.727\n",
       "2 2     1.155  4.421  2.714 12.364  1.881 40.546 66.841  6.353\n",
       "3 3    23.243 11.339 10.081  4.105 28.779  2.376 13.646 15.021\n",
       "4 4    34.162 37.484  1.918  5.094 15.780 13.620  0.028 18.124\n",
       "5 5     1.412  3.266 32.367  5.234 24.197  5.345 13.656  0.163\n",
       "6 6    12.420  4.269 47.195 20.140  9.398  6.985 27.100 19.542"
      ]
     },
     "metadata": {},
     "output_type": "display_data"
    }
   ],
   "source": [
    "head(data_q1)"
   ]
  },
  {
   "cell_type": "code",
   "execution_count": 3,
   "metadata": {},
   "outputs": [
    {
     "data": {
      "text/html": [
       "<style>\n",
       ".list-inline {list-style: none; margin:0; padding: 0}\n",
       ".list-inline>li {display: inline-block}\n",
       ".list-inline>li:not(:last-child)::after {content: \"\\00b7\"; padding: 0 .5ex}\n",
       "</style>\n",
       "<ol class=list-inline><li>59</li><li>9</li></ol>\n"
      ],
      "text/latex": [
       "\\begin{enumerate*}\n",
       "\\item 59\n",
       "\\item 9\n",
       "\\end{enumerate*}\n"
      ],
      "text/markdown": [
       "1. 59\n",
       "2. 9\n",
       "\n",
       "\n"
      ],
      "text/plain": [
       "[1] 59  9"
      ]
     },
     "metadata": {},
     "output_type": "display_data"
    }
   ],
   "source": [
    "dim(data_q1)"
   ]
  },
  {
   "cell_type": "code",
   "execution_count": 4,
   "metadata": {
    "collapsed": true
   },
   "outputs": [],
   "source": [
    "data_q1$x_bar <- apply(data_q1, 1, mean)"
   ]
  },
  {
   "cell_type": "code",
   "execution_count": 7,
   "metadata": {
    "collapsed": true
   },
   "outputs": [],
   "source": [
    "data_q1$range <- apply(data_q1[, -c(1, ncol(df))], 1, function(row) max(row) - min(row))"
   ]
  },
  {
   "cell_type": "code",
   "execution_count": 8,
   "metadata": {},
   "outputs": [
    {
     "data": {
      "text/html": [
       "<table>\n",
       "<caption>A data.frame: 6 × 11</caption>\n",
       "<thead>\n",
       "\t<tr><th></th><th scope=col>Date</th><th scope=col>Obs1</th><th scope=col>Obs2</th><th scope=col>Obs3</th><th scope=col>Obs4</th><th scope=col>Obs5</th><th scope=col>Obs6</th><th scope=col>Obs7</th><th scope=col>Obs8</th><th scope=col>x_bar</th><th scope=col>range</th></tr>\n",
       "\t<tr><th></th><th scope=col>&lt;int&gt;</th><th scope=col>&lt;dbl&gt;</th><th scope=col>&lt;dbl&gt;</th><th scope=col>&lt;dbl&gt;</th><th scope=col>&lt;dbl&gt;</th><th scope=col>&lt;dbl&gt;</th><th scope=col>&lt;dbl&gt;</th><th scope=col>&lt;dbl&gt;</th><th scope=col>&lt;dbl&gt;</th><th scope=col>&lt;dbl&gt;</th><th scope=col>&lt;dbl&gt;</th></tr>\n",
       "</thead>\n",
       "<tbody>\n",
       "\t<tr><th scope=row>1</th><td>1</td><td> 6.905</td><td> 3.676</td><td>36.132</td><td>25.386</td><td>10.082</td><td>11.903</td><td> 3.471</td><td>12.727</td><td>12.36467</td><td>32.661</td></tr>\n",
       "\t<tr><th scope=row>2</th><td>2</td><td> 1.155</td><td> 4.421</td><td> 2.714</td><td>12.364</td><td> 1.881</td><td>40.546</td><td>66.841</td><td> 6.353</td><td>15.36389</td><td>65.686</td></tr>\n",
       "\t<tr><th scope=row>3</th><td>3</td><td>23.243</td><td>11.339</td><td>10.081</td><td> 4.105</td><td>28.779</td><td> 2.376</td><td>13.646</td><td>15.021</td><td>12.39889</td><td>26.403</td></tr>\n",
       "\t<tr><th scope=row>4</th><td>4</td><td>34.162</td><td>37.484</td><td> 1.918</td><td> 5.094</td><td>15.780</td><td>13.620</td><td> 0.028</td><td>18.124</td><td>14.46778</td><td>37.456</td></tr>\n",
       "\t<tr><th scope=row>5</th><td>5</td><td> 1.412</td><td> 3.266</td><td>32.367</td><td> 5.234</td><td>24.197</td><td> 5.345</td><td>13.656</td><td> 0.163</td><td>10.07111</td><td>32.204</td></tr>\n",
       "\t<tr><th scope=row>6</th><td>6</td><td>12.420</td><td> 4.269</td><td>47.195</td><td>20.140</td><td> 9.398</td><td> 6.985</td><td>27.100</td><td>19.542</td><td>17.00544</td><td>42.926</td></tr>\n",
       "</tbody>\n",
       "</table>\n"
      ],
      "text/latex": [
       "A data.frame: 6 × 11\n",
       "\\begin{tabular}{r|lllllllllll}\n",
       "  & Date & Obs1 & Obs2 & Obs3 & Obs4 & Obs5 & Obs6 & Obs7 & Obs8 & x\\_bar & range\\\\\n",
       "  & <int> & <dbl> & <dbl> & <dbl> & <dbl> & <dbl> & <dbl> & <dbl> & <dbl> & <dbl> & <dbl>\\\\\n",
       "\\hline\n",
       "\t1 & 1 &  6.905 &  3.676 & 36.132 & 25.386 & 10.082 & 11.903 &  3.471 & 12.727 & 12.36467 & 32.661\\\\\n",
       "\t2 & 2 &  1.155 &  4.421 &  2.714 & 12.364 &  1.881 & 40.546 & 66.841 &  6.353 & 15.36389 & 65.686\\\\\n",
       "\t3 & 3 & 23.243 & 11.339 & 10.081 &  4.105 & 28.779 &  2.376 & 13.646 & 15.021 & 12.39889 & 26.403\\\\\n",
       "\t4 & 4 & 34.162 & 37.484 &  1.918 &  5.094 & 15.780 & 13.620 &  0.028 & 18.124 & 14.46778 & 37.456\\\\\n",
       "\t5 & 5 &  1.412 &  3.266 & 32.367 &  5.234 & 24.197 &  5.345 & 13.656 &  0.163 & 10.07111 & 32.204\\\\\n",
       "\t6 & 6 & 12.420 &  4.269 & 47.195 & 20.140 &  9.398 &  6.985 & 27.100 & 19.542 & 17.00544 & 42.926\\\\\n",
       "\\end{tabular}\n"
      ],
      "text/markdown": [
       "\n",
       "A data.frame: 6 × 11\n",
       "\n",
       "| <!--/--> | Date &lt;int&gt; | Obs1 &lt;dbl&gt; | Obs2 &lt;dbl&gt; | Obs3 &lt;dbl&gt; | Obs4 &lt;dbl&gt; | Obs5 &lt;dbl&gt; | Obs6 &lt;dbl&gt; | Obs7 &lt;dbl&gt; | Obs8 &lt;dbl&gt; | x_bar &lt;dbl&gt; | range &lt;dbl&gt; |\n",
       "|---|---|---|---|---|---|---|---|---|---|---|---|\n",
       "| 1 | 1 |  6.905 |  3.676 | 36.132 | 25.386 | 10.082 | 11.903 |  3.471 | 12.727 | 12.36467 | 32.661 |\n",
       "| 2 | 2 |  1.155 |  4.421 |  2.714 | 12.364 |  1.881 | 40.546 | 66.841 |  6.353 | 15.36389 | 65.686 |\n",
       "| 3 | 3 | 23.243 | 11.339 | 10.081 |  4.105 | 28.779 |  2.376 | 13.646 | 15.021 | 12.39889 | 26.403 |\n",
       "| 4 | 4 | 34.162 | 37.484 |  1.918 |  5.094 | 15.780 | 13.620 |  0.028 | 18.124 | 14.46778 | 37.456 |\n",
       "| 5 | 5 |  1.412 |  3.266 | 32.367 |  5.234 | 24.197 |  5.345 | 13.656 |  0.163 | 10.07111 | 32.204 |\n",
       "| 6 | 6 | 12.420 |  4.269 | 47.195 | 20.140 |  9.398 |  6.985 | 27.100 | 19.542 | 17.00544 | 42.926 |\n",
       "\n"
      ],
      "text/plain": [
       "  Date Obs1   Obs2   Obs3   Obs4   Obs5   Obs6   Obs7   Obs8   x_bar    range \n",
       "1 1     6.905  3.676 36.132 25.386 10.082 11.903  3.471 12.727 12.36467 32.661\n",
       "2 2     1.155  4.421  2.714 12.364  1.881 40.546 66.841  6.353 15.36389 65.686\n",
       "3 3    23.243 11.339 10.081  4.105 28.779  2.376 13.646 15.021 12.39889 26.403\n",
       "4 4    34.162 37.484  1.918  5.094 15.780 13.620  0.028 18.124 14.46778 37.456\n",
       "5 5     1.412  3.266 32.367  5.234 24.197  5.345 13.656  0.163 10.07111 32.204\n",
       "6 6    12.420  4.269 47.195 20.140  9.398  6.985 27.100 19.542 17.00544 42.926"
      ]
     },
     "metadata": {},
     "output_type": "display_data"
    }
   ],
   "source": [
    "head(data_q1)"
   ]
  },
  {
   "cell_type": "code",
   "execution_count": 12,
   "metadata": {},
   "outputs": [
    {
     "data": {
      "text/html": [
       "22.6579039548023"
      ],
      "text/latex": [
       "22.6579039548023"
      ],
      "text/markdown": [
       "22.6579039548023"
      ],
      "text/plain": [
       "[1] 22.6579"
      ]
     },
     "metadata": {},
     "output_type": "display_data"
    }
   ],
   "source": [
    "x_bar_bar <- mean(data_q1$x_bar)\n",
    "x_bar_bar"
   ]
  },
  {
   "cell_type": "code",
   "execution_count": 13,
   "metadata": {},
   "outputs": [
    {
     "data": {
      "text/html": [
       "47.3930508474576"
      ],
      "text/latex": [
       "47.3930508474576"
      ],
      "text/markdown": [
       "47.3930508474576"
      ],
      "text/plain": [
       "[1] 47.39305"
      ]
     },
     "metadata": {},
     "output_type": "display_data"
    }
   ],
   "source": [
    "r_bar <- mean(data_q1$range)\n",
    "r_bar"
   ]
  },
  {
   "cell_type": "code",
   "execution_count": 14,
   "metadata": {},
   "outputs": [],
   "source": [
    "A2 = 0.373 \n",
    "D3 = 0.136 \n",
    "D4 = 1.864"
   ]
  },
  {
   "cell_type": "code",
   "execution_count": 15,
   "metadata": {
    "collapsed": true
   },
   "outputs": [],
   "source": [
    "UCLr <- D4*r_bar\n",
    "LCLr <- D3*r_bar\n",
    "\n",
    "UCLx <- x_bar_bar + A2*r_bar\n",
    "LCLx <- x_bar_bar - A2*r_bar"
   ]
  },
  {
   "cell_type": "code",
   "execution_count": 16,
   "metadata": {},
   "outputs": [
    {
     "data": {
      "text/html": [
       "88.340646779661"
      ],
      "text/latex": [
       "88.340646779661"
      ],
      "text/markdown": [
       "88.340646779661"
      ],
      "text/plain": [
       "[1] 88.34065"
      ]
     },
     "metadata": {},
     "output_type": "display_data"
    }
   ],
   "source": [
    "UCLr"
   ]
  },
  {
   "cell_type": "code",
   "execution_count": 17,
   "metadata": {},
   "outputs": [
    {
     "data": {
      "text/html": [
       "6.44545491525424"
      ],
      "text/latex": [
       "6.44545491525424"
      ],
      "text/markdown": [
       "6.44545491525424"
      ],
      "text/plain": [
       "[1] 6.445455"
      ]
     },
     "metadata": {},
     "output_type": "display_data"
    }
   ],
   "source": [
    "LCLr"
   ]
  },
  {
   "cell_type": "code",
   "execution_count": 18,
   "metadata": {},
   "outputs": [
    {
     "data": {
      "text/html": [
       "40.335511920904"
      ],
      "text/latex": [
       "40.335511920904"
      ],
      "text/markdown": [
       "40.335511920904"
      ],
      "text/plain": [
       "[1] 40.33551"
      ]
     },
     "metadata": {},
     "output_type": "display_data"
    }
   ],
   "source": [
    "UCLx"
   ]
  },
  {
   "cell_type": "code",
   "execution_count": 19,
   "metadata": {},
   "outputs": [
    {
     "data": {
      "text/html": [
       "4.98029598870056"
      ],
      "text/latex": [
       "4.98029598870056"
      ],
      "text/markdown": [
       "4.98029598870056"
      ],
      "text/plain": [
       "[1] 4.980296"
      ]
     },
     "metadata": {},
     "output_type": "display_data"
    }
   ],
   "source": [
    "LCLx"
   ]
  },
  {
   "cell_type": "markdown",
   "metadata": {},
   "source": [
    "### UCLr: 88.340646779661\n",
    "\n",
    "### LCLr: 6.44545491525424\n",
    "\n",
    "### UCLx: 40.335511920904\n",
    "\n",
    "### LCLx: 4.98029598870056"
   ]
  },
  {
   "cell_type": "markdown",
   "metadata": {},
   "source": [
    "---"
   ]
  },
  {
   "cell_type": "markdown",
   "metadata": {
    "deletable": false,
    "editable": false,
    "nbgrader": {
     "grade": false,
     "locked": true,
     "solution": false
    }
   },
   "source": [
    "### B) Plot X-Bar and R-Bar, make sure to include UCL and LCL in the charts. Observe the two charts, comment if you see any points beyond control limits, or any trends and patterns.  Do you think there is any assignable cause of variation? (8 points) "
   ]
  },
  {
   "cell_type": "markdown",
   "metadata": {},
   "source": [
    "#### X-Bar"
   ]
  },
  {
   "cell_type": "code",
   "execution_count": 20,
   "metadata": {
    "collapsed": true
   },
   "outputs": [],
   "source": [
    "library(ggplot2)"
   ]
  },
  {
   "cell_type": "code",
   "execution_count": 44,
   "metadata": {},
   "outputs": [
    {
     "data": {
      "image/png": "[encoded data removed]",
      "text/plain": [
       "plot without title"
      ]
     },
     "metadata": {
      "image/png": {
       "height": 420,
       "width": 420
      }
     },
     "output_type": "display_data"
    }
   ],
   "source": [
    "# Plot the line graph\n",
    "ggplot(data_q1, aes(x = Date, y = x_bar)) +\n",
    "  geom_line() +\n",
    "  geom_hline(yintercept = 40.335511920904, linetype = \"dashed\", color = \"red\") +\n",
    "  annotate(geom = \"text\", x = 1, y = 40.335511920904, label = \"UCLx\", color = \"red\", vjust = -0.5) +\n",
    "\n",
    "  geom_hline(yintercept = 22.6579039548023, linetype = \"dashed\", color = \"blue\") +\n",
    "  annotate(geom = \"text\", x = 1, y = 22.6579039548023, label = \"X_bar_bar\", color = \"red\", vjust = 0) +\n",
    "\n",
    "  geom_hline(yintercept = 4.98029598870056, linetype = \"dashed\", color = \"red\") +\n",
    "  annotate(geom = \"text\", x = 1, y = 4.98029598870056, label = \"LCLx\", color = \"red\", vjust = -0.5) +\n",
    "\n",
    "  labs(x = \"Date\", y = \"x-bar (Mean)\") +\n",
    "  ggtitle(\"Line Graph of Date against x-bar\") +\n",
    "  theme_minimal()\n"
   ]
  },
  {
   "cell_type": "code",
   "execution_count": 32,
   "metadata": {},
   "outputs": [
    {
     "data": {
      "text/html": [
       "<table>\n",
       "<caption>A data.frame: 1 × 11</caption>\n",
       "<thead>\n",
       "\t<tr><th></th><th scope=col>Date</th><th scope=col>Obs1</th><th scope=col>Obs2</th><th scope=col>Obs3</th><th scope=col>Obs4</th><th scope=col>Obs5</th><th scope=col>Obs6</th><th scope=col>Obs7</th><th scope=col>Obs8</th><th scope=col>x_bar</th><th scope=col>range</th></tr>\n",
       "\t<tr><th></th><th scope=col>&lt;int&gt;</th><th scope=col>&lt;dbl&gt;</th><th scope=col>&lt;dbl&gt;</th><th scope=col>&lt;dbl&gt;</th><th scope=col>&lt;dbl&gt;</th><th scope=col>&lt;dbl&gt;</th><th scope=col>&lt;dbl&gt;</th><th scope=col>&lt;dbl&gt;</th><th scope=col>&lt;dbl&gt;</th><th scope=col>&lt;dbl&gt;</th><th scope=col>&lt;dbl&gt;</th></tr>\n",
       "</thead>\n",
       "<tbody>\n",
       "\t<tr><th scope=row>40</th><td>40</td><td>60.184</td><td>38.915</td><td>27.938</td><td>20.134</td><td>60.326</td><td>13.54</td><td>66.198</td><td>70.898</td><td>44.237</td><td>57.358</td></tr>\n",
       "</tbody>\n",
       "</table>\n"
      ],
      "text/latex": [
       "A data.frame: 1 × 11\n",
       "\\begin{tabular}{r|lllllllllll}\n",
       "  & Date & Obs1 & Obs2 & Obs3 & Obs4 & Obs5 & Obs6 & Obs7 & Obs8 & x\\_bar & range\\\\\n",
       "  & <int> & <dbl> & <dbl> & <dbl> & <dbl> & <dbl> & <dbl> & <dbl> & <dbl> & <dbl> & <dbl>\\\\\n",
       "\\hline\n",
       "\t40 & 40 & 60.184 & 38.915 & 27.938 & 20.134 & 60.326 & 13.54 & 66.198 & 70.898 & 44.237 & 57.358\\\\\n",
       "\\end{tabular}\n"
      ],
      "text/markdown": [
       "\n",
       "A data.frame: 1 × 11\n",
       "\n",
       "| <!--/--> | Date &lt;int&gt; | Obs1 &lt;dbl&gt; | Obs2 &lt;dbl&gt; | Obs3 &lt;dbl&gt; | Obs4 &lt;dbl&gt; | Obs5 &lt;dbl&gt; | Obs6 &lt;dbl&gt; | Obs7 &lt;dbl&gt; | Obs8 &lt;dbl&gt; | x_bar &lt;dbl&gt; | range &lt;dbl&gt; |\n",
       "|---|---|---|---|---|---|---|---|---|---|---|---|\n",
       "| 40 | 40 | 60.184 | 38.915 | 27.938 | 20.134 | 60.326 | 13.54 | 66.198 | 70.898 | 44.237 | 57.358 |\n",
       "\n"
      ],
      "text/plain": [
       "   Date Obs1   Obs2   Obs3   Obs4   Obs5   Obs6  Obs7   Obs8   x_bar  range \n",
       "40 40   60.184 38.915 27.938 20.134 60.326 13.54 66.198 70.898 44.237 57.358"
      ]
     },
     "metadata": {},
     "output_type": "display_data"
    }
   ],
   "source": [
    "points_above_UCLx <- data_q1[data_q1$x_bar > UCLx, ]\n",
    "points_above_UCLx"
   ]
  },
  {
   "cell_type": "markdown",
   "metadata": {},
   "source": [
    "### There is one point above the x_bar_bar value, and that is the observation from Date 40. The value of x_bar for that date is 57.358."
   ]
  },
  {
   "cell_type": "markdown",
   "metadata": {},
   "source": [
    "#### R-Bar"
   ]
  },
  {
   "cell_type": "code",
   "execution_count": 33,
   "metadata": {},
   "outputs": [
    {
     "data": {
      "text/html": [
       "<table>\n",
       "<caption>A data.frame: 6 × 11</caption>\n",
       "<thead>\n",
       "\t<tr><th></th><th scope=col>Date</th><th scope=col>Obs1</th><th scope=col>Obs2</th><th scope=col>Obs3</th><th scope=col>Obs4</th><th scope=col>Obs5</th><th scope=col>Obs6</th><th scope=col>Obs7</th><th scope=col>Obs8</th><th scope=col>x_bar</th><th scope=col>range</th></tr>\n",
       "\t<tr><th></th><th scope=col>&lt;int&gt;</th><th scope=col>&lt;dbl&gt;</th><th scope=col>&lt;dbl&gt;</th><th scope=col>&lt;dbl&gt;</th><th scope=col>&lt;dbl&gt;</th><th scope=col>&lt;dbl&gt;</th><th scope=col>&lt;dbl&gt;</th><th scope=col>&lt;dbl&gt;</th><th scope=col>&lt;dbl&gt;</th><th scope=col>&lt;dbl&gt;</th><th scope=col>&lt;dbl&gt;</th></tr>\n",
       "</thead>\n",
       "<tbody>\n",
       "\t<tr><th scope=row>1</th><td>1</td><td> 6.905</td><td> 3.676</td><td>36.132</td><td>25.386</td><td>10.082</td><td>11.903</td><td> 3.471</td><td>12.727</td><td>12.36467</td><td>32.661</td></tr>\n",
       "\t<tr><th scope=row>2</th><td>2</td><td> 1.155</td><td> 4.421</td><td> 2.714</td><td>12.364</td><td> 1.881</td><td>40.546</td><td>66.841</td><td> 6.353</td><td>15.36389</td><td>65.686</td></tr>\n",
       "\t<tr><th scope=row>3</th><td>3</td><td>23.243</td><td>11.339</td><td>10.081</td><td> 4.105</td><td>28.779</td><td> 2.376</td><td>13.646</td><td>15.021</td><td>12.39889</td><td>26.403</td></tr>\n",
       "\t<tr><th scope=row>4</th><td>4</td><td>34.162</td><td>37.484</td><td> 1.918</td><td> 5.094</td><td>15.780</td><td>13.620</td><td> 0.028</td><td>18.124</td><td>14.46778</td><td>37.456</td></tr>\n",
       "\t<tr><th scope=row>5</th><td>5</td><td> 1.412</td><td> 3.266</td><td>32.367</td><td> 5.234</td><td>24.197</td><td> 5.345</td><td>13.656</td><td> 0.163</td><td>10.07111</td><td>32.204</td></tr>\n",
       "\t<tr><th scope=row>6</th><td>6</td><td>12.420</td><td> 4.269</td><td>47.195</td><td>20.140</td><td> 9.398</td><td> 6.985</td><td>27.100</td><td>19.542</td><td>17.00544</td><td>42.926</td></tr>\n",
       "</tbody>\n",
       "</table>\n"
      ],
      "text/latex": [
       "A data.frame: 6 × 11\n",
       "\\begin{tabular}{r|lllllllllll}\n",
       "  & Date & Obs1 & Obs2 & Obs3 & Obs4 & Obs5 & Obs6 & Obs7 & Obs8 & x\\_bar & range\\\\\n",
       "  & <int> & <dbl> & <dbl> & <dbl> & <dbl> & <dbl> & <dbl> & <dbl> & <dbl> & <dbl> & <dbl>\\\\\n",
       "\\hline\n",
       "\t1 & 1 &  6.905 &  3.676 & 36.132 & 25.386 & 10.082 & 11.903 &  3.471 & 12.727 & 12.36467 & 32.661\\\\\n",
       "\t2 & 2 &  1.155 &  4.421 &  2.714 & 12.364 &  1.881 & 40.546 & 66.841 &  6.353 & 15.36389 & 65.686\\\\\n",
       "\t3 & 3 & 23.243 & 11.339 & 10.081 &  4.105 & 28.779 &  2.376 & 13.646 & 15.021 & 12.39889 & 26.403\\\\\n",
       "\t4 & 4 & 34.162 & 37.484 &  1.918 &  5.094 & 15.780 & 13.620 &  0.028 & 18.124 & 14.46778 & 37.456\\\\\n",
       "\t5 & 5 &  1.412 &  3.266 & 32.367 &  5.234 & 24.197 &  5.345 & 13.656 &  0.163 & 10.07111 & 32.204\\\\\n",
       "\t6 & 6 & 12.420 &  4.269 & 47.195 & 20.140 &  9.398 &  6.985 & 27.100 & 19.542 & 17.00544 & 42.926\\\\\n",
       "\\end{tabular}\n"
      ],
      "text/markdown": [
       "\n",
       "A data.frame: 6 × 11\n",
       "\n",
       "| <!--/--> | Date &lt;int&gt; | Obs1 &lt;dbl&gt; | Obs2 &lt;dbl&gt; | Obs3 &lt;dbl&gt; | Obs4 &lt;dbl&gt; | Obs5 &lt;dbl&gt; | Obs6 &lt;dbl&gt; | Obs7 &lt;dbl&gt; | Obs8 &lt;dbl&gt; | x_bar &lt;dbl&gt; | range &lt;dbl&gt; |\n",
       "|---|---|---|---|---|---|---|---|---|---|---|---|\n",
       "| 1 | 1 |  6.905 |  3.676 | 36.132 | 25.386 | 10.082 | 11.903 |  3.471 | 12.727 | 12.36467 | 32.661 |\n",
       "| 2 | 2 |  1.155 |  4.421 |  2.714 | 12.364 |  1.881 | 40.546 | 66.841 |  6.353 | 15.36389 | 65.686 |\n",
       "| 3 | 3 | 23.243 | 11.339 | 10.081 |  4.105 | 28.779 |  2.376 | 13.646 | 15.021 | 12.39889 | 26.403 |\n",
       "| 4 | 4 | 34.162 | 37.484 |  1.918 |  5.094 | 15.780 | 13.620 |  0.028 | 18.124 | 14.46778 | 37.456 |\n",
       "| 5 | 5 |  1.412 |  3.266 | 32.367 |  5.234 | 24.197 |  5.345 | 13.656 |  0.163 | 10.07111 | 32.204 |\n",
       "| 6 | 6 | 12.420 |  4.269 | 47.195 | 20.140 |  9.398 |  6.985 | 27.100 | 19.542 | 17.00544 | 42.926 |\n",
       "\n"
      ],
      "text/plain": [
       "  Date Obs1   Obs2   Obs3   Obs4   Obs5   Obs6   Obs7   Obs8   x_bar    range \n",
       "1 1     6.905  3.676 36.132 25.386 10.082 11.903  3.471 12.727 12.36467 32.661\n",
       "2 2     1.155  4.421  2.714 12.364  1.881 40.546 66.841  6.353 15.36389 65.686\n",
       "3 3    23.243 11.339 10.081  4.105 28.779  2.376 13.646 15.021 12.39889 26.403\n",
       "4 4    34.162 37.484  1.918  5.094 15.780 13.620  0.028 18.124 14.46778 37.456\n",
       "5 5     1.412  3.266 32.367  5.234 24.197  5.345 13.656  0.163 10.07111 32.204\n",
       "6 6    12.420  4.269 47.195 20.140  9.398  6.985 27.100 19.542 17.00544 42.926"
      ]
     },
     "metadata": {},
     "output_type": "display_data"
    }
   ],
   "source": [
    "head(data_q1)"
   ]
  },
  {
   "cell_type": "code",
   "execution_count": 34,
   "metadata": {},
   "outputs": [
    {
     "data": {
      "text/html": [
       "47.3930508474576"
      ],
      "text/latex": [
       "47.3930508474576"
      ],
      "text/markdown": [
       "47.3930508474576"
      ],
      "text/plain": [
       "[1] 47.39305"
      ]
     },
     "metadata": {},
     "output_type": "display_data"
    }
   ],
   "source": [
    "r_bar"
   ]
  },
  {
   "cell_type": "code",
   "execution_count": 35,
   "metadata": {},
   "outputs": [
    {
     "data": {
      "text/html": [
       "88.340646779661"
      ],
      "text/latex": [
       "88.340646779661"
      ],
      "text/markdown": [
       "88.340646779661"
      ],
      "text/plain": [
       "[1] 88.34065"
      ]
     },
     "metadata": {},
     "output_type": "display_data"
    }
   ],
   "source": [
    "UCLr"
   ]
  },
  {
   "cell_type": "code",
   "execution_count": 36,
   "metadata": {},
   "outputs": [
    {
     "data": {
      "text/html": [
       "6.44545491525424"
      ],
      "text/latex": [
       "6.44545491525424"
      ],
      "text/markdown": [
       "6.44545491525424"
      ],
      "text/plain": [
       "[1] 6.445455"
      ]
     },
     "metadata": {},
     "output_type": "display_data"
    }
   ],
   "source": [
    "LCLr"
   ]
  },
  {
   "cell_type": "code",
   "execution_count": 41,
   "metadata": {},
   "outputs": [
    {
     "data": {
      "image/png": "[encoded data removed]",
      "text/plain": [
       "plot without title"
      ]
     },
     "metadata": {
      "image/png": {
       "height": 420,
       "width": 420
      }
     },
     "output_type": "display_data"
    }
   ],
   "source": [
    "# Plot the line graph\n",
    "ggplot(data_q1, aes(x = Date, y = range)) +\n",
    "  geom_line() +\n",
    "  geom_hline(yintercept = UCLr, linetype = \"dashed\", color = \"red\") +\n",
    "  annotate(geom = \"text\", x = 1, y = UCLr, label = \"UCLr\", color = \"red\", vjust = -0.5) +\n",
    "\n",
    "  geom_hline(yintercept = r_bar, linetype = \"dashed\", color = \"blue\") +\n",
    "  annotate(geom = \"text\", x = 1, y = r_bar, label = \"r_bar\", color = \"red\", vjust = -0.5) +\n",
    "\n",
    "  geom_hline(yintercept = LCLr, linetype = \"dashed\", color = \"red\") +\n",
    "  annotate(geom = \"text\", x = 1, y = LCLr, label = \"LCLr\", color = \"red\", vjust = -0.5) +\n",
    "\n",
    "  labs(x = \"Date\", y = \"Range\") +\n",
    "  ggtitle(\"Line Graph of Date against x-bar\") +\n",
    "  theme_minimal()"
   ]
  },
  {
   "cell_type": "markdown",
   "metadata": {},
   "source": [
    "### All Range (r) values are within control limits."
   ]
  },
  {
   "cell_type": "markdown",
   "metadata": {},
   "source": [
    "---"
   ]
  },
  {
   "cell_type": "markdown",
   "metadata": {
    "deletable": false,
    "editable": false,
    "nbgrader": {
     "grade": false,
     "locked": true,
     "solution": false
    }
   },
   "source": [
    "### C) If the required specification of the strength of the cement is between 30 and 50 MPa, calculate process capability ratio (Cp), and process capability index (Cpk).  According to Cp and Cpk, is the process capable of meeting the required specifications? (4 points) \n",
    "\n",
    "**NOte**: use all data points to calculate standard deviation."
   ]
  },
  {
   "cell_type": "code",
   "execution_count": 38,
   "metadata": {},
   "outputs": [
    {
     "data": {
      "text/html": [
       "<table>\n",
       "<caption>A data.frame: 6 × 11</caption>\n",
       "<thead>\n",
       "\t<tr><th></th><th scope=col>Date</th><th scope=col>Obs1</th><th scope=col>Obs2</th><th scope=col>Obs3</th><th scope=col>Obs4</th><th scope=col>Obs5</th><th scope=col>Obs6</th><th scope=col>Obs7</th><th scope=col>Obs8</th><th scope=col>x_bar</th><th scope=col>range</th></tr>\n",
       "\t<tr><th></th><th scope=col>&lt;int&gt;</th><th scope=col>&lt;dbl&gt;</th><th scope=col>&lt;dbl&gt;</th><th scope=col>&lt;dbl&gt;</th><th scope=col>&lt;dbl&gt;</th><th scope=col>&lt;dbl&gt;</th><th scope=col>&lt;dbl&gt;</th><th scope=col>&lt;dbl&gt;</th><th scope=col>&lt;dbl&gt;</th><th scope=col>&lt;dbl&gt;</th><th scope=col>&lt;dbl&gt;</th></tr>\n",
       "</thead>\n",
       "<tbody>\n",
       "\t<tr><th scope=row>1</th><td>1</td><td> 6.905</td><td> 3.676</td><td>36.132</td><td>25.386</td><td>10.082</td><td>11.903</td><td> 3.471</td><td>12.727</td><td>12.36467</td><td>32.661</td></tr>\n",
       "\t<tr><th scope=row>2</th><td>2</td><td> 1.155</td><td> 4.421</td><td> 2.714</td><td>12.364</td><td> 1.881</td><td>40.546</td><td>66.841</td><td> 6.353</td><td>15.36389</td><td>65.686</td></tr>\n",
       "\t<tr><th scope=row>3</th><td>3</td><td>23.243</td><td>11.339</td><td>10.081</td><td> 4.105</td><td>28.779</td><td> 2.376</td><td>13.646</td><td>15.021</td><td>12.39889</td><td>26.403</td></tr>\n",
       "\t<tr><th scope=row>4</th><td>4</td><td>34.162</td><td>37.484</td><td> 1.918</td><td> 5.094</td><td>15.780</td><td>13.620</td><td> 0.028</td><td>18.124</td><td>14.46778</td><td>37.456</td></tr>\n",
       "\t<tr><th scope=row>5</th><td>5</td><td> 1.412</td><td> 3.266</td><td>32.367</td><td> 5.234</td><td>24.197</td><td> 5.345</td><td>13.656</td><td> 0.163</td><td>10.07111</td><td>32.204</td></tr>\n",
       "\t<tr><th scope=row>6</th><td>6</td><td>12.420</td><td> 4.269</td><td>47.195</td><td>20.140</td><td> 9.398</td><td> 6.985</td><td>27.100</td><td>19.542</td><td>17.00544</td><td>42.926</td></tr>\n",
       "</tbody>\n",
       "</table>\n"
      ],
      "text/latex": [
       "A data.frame: 6 × 11\n",
       "\\begin{tabular}{r|lllllllllll}\n",
       "  & Date & Obs1 & Obs2 & Obs3 & Obs4 & Obs5 & Obs6 & Obs7 & Obs8 & x\\_bar & range\\\\\n",
       "  & <int> & <dbl> & <dbl> & <dbl> & <dbl> & <dbl> & <dbl> & <dbl> & <dbl> & <dbl> & <dbl>\\\\\n",
       "\\hline\n",
       "\t1 & 1 &  6.905 &  3.676 & 36.132 & 25.386 & 10.082 & 11.903 &  3.471 & 12.727 & 12.36467 & 32.661\\\\\n",
       "\t2 & 2 &  1.155 &  4.421 &  2.714 & 12.364 &  1.881 & 40.546 & 66.841 &  6.353 & 15.36389 & 65.686\\\\\n",
       "\t3 & 3 & 23.243 & 11.339 & 10.081 &  4.105 & 28.779 &  2.376 & 13.646 & 15.021 & 12.39889 & 26.403\\\\\n",
       "\t4 & 4 & 34.162 & 37.484 &  1.918 &  5.094 & 15.780 & 13.620 &  0.028 & 18.124 & 14.46778 & 37.456\\\\\n",
       "\t5 & 5 &  1.412 &  3.266 & 32.367 &  5.234 & 24.197 &  5.345 & 13.656 &  0.163 & 10.07111 & 32.204\\\\\n",
       "\t6 & 6 & 12.420 &  4.269 & 47.195 & 20.140 &  9.398 &  6.985 & 27.100 & 19.542 & 17.00544 & 42.926\\\\\n",
       "\\end{tabular}\n"
      ],
      "text/markdown": [
       "\n",
       "A data.frame: 6 × 11\n",
       "\n",
       "| <!--/--> | Date &lt;int&gt; | Obs1 &lt;dbl&gt; | Obs2 &lt;dbl&gt; | Obs3 &lt;dbl&gt; | Obs4 &lt;dbl&gt; | Obs5 &lt;dbl&gt; | Obs6 &lt;dbl&gt; | Obs7 &lt;dbl&gt; | Obs8 &lt;dbl&gt; | x_bar &lt;dbl&gt; | range &lt;dbl&gt; |\n",
       "|---|---|---|---|---|---|---|---|---|---|---|---|\n",
       "| 1 | 1 |  6.905 |  3.676 | 36.132 | 25.386 | 10.082 | 11.903 |  3.471 | 12.727 | 12.36467 | 32.661 |\n",
       "| 2 | 2 |  1.155 |  4.421 |  2.714 | 12.364 |  1.881 | 40.546 | 66.841 |  6.353 | 15.36389 | 65.686 |\n",
       "| 3 | 3 | 23.243 | 11.339 | 10.081 |  4.105 | 28.779 |  2.376 | 13.646 | 15.021 | 12.39889 | 26.403 |\n",
       "| 4 | 4 | 34.162 | 37.484 |  1.918 |  5.094 | 15.780 | 13.620 |  0.028 | 18.124 | 14.46778 | 37.456 |\n",
       "| 5 | 5 |  1.412 |  3.266 | 32.367 |  5.234 | 24.197 |  5.345 | 13.656 |  0.163 | 10.07111 | 32.204 |\n",
       "| 6 | 6 | 12.420 |  4.269 | 47.195 | 20.140 |  9.398 |  6.985 | 27.100 | 19.542 | 17.00544 | 42.926 |\n",
       "\n"
      ],
      "text/plain": [
       "  Date Obs1   Obs2   Obs3   Obs4   Obs5   Obs6   Obs7   Obs8   x_bar    range \n",
       "1 1     6.905  3.676 36.132 25.386 10.082 11.903  3.471 12.727 12.36467 32.661\n",
       "2 2     1.155  4.421  2.714 12.364  1.881 40.546 66.841  6.353 15.36389 65.686\n",
       "3 3    23.243 11.339 10.081  4.105 28.779  2.376 13.646 15.021 12.39889 26.403\n",
       "4 4    34.162 37.484  1.918  5.094 15.780 13.620  0.028 18.124 14.46778 37.456\n",
       "5 5     1.412  3.266 32.367  5.234 24.197  5.345 13.656  0.163 10.07111 32.204\n",
       "6 6    12.420  4.269 47.195 20.140  9.398  6.985 27.100 19.542 17.00544 42.926"
      ]
     },
     "metadata": {},
     "output_type": "display_data"
    }
   ],
   "source": [
    "head(data_q1)"
   ]
  },
  {
   "cell_type": "code",
   "execution_count": 45,
   "metadata": {
    "collapsed": true
   },
   "outputs": [],
   "source": [
    "Upper_Specification = 50\n",
    "\n",
    "Lower_Specification = 30"
   ]
  },
  {
   "cell_type": "code",
   "execution_count": 47,
   "metadata": {},
   "outputs": [
    {
     "data": {
      "text/html": [
       "17.9984327965708"
      ],
      "text/latex": [
       "17.9984327965708"
      ],
      "text/markdown": [
       "17.9984327965708"
      ],
      "text/plain": [
       "[1] 17.99843"
      ]
     },
     "metadata": {},
     "output_type": "display_data"
    }
   ],
   "source": [
    "std_dev <- sd(unlist(data_q1[, 2:9]))\n",
    "std_dev"
   ]
  },
  {
   "cell_type": "markdown",
   "metadata": {},
   "source": [
    "#### Process Capability Ratio (CP)"
   ]
  },
  {
   "cell_type": "code",
   "execution_count": 49,
   "metadata": {},
   "outputs": [
    {
     "data": {
      "text/html": [
       "0.1852013100812"
      ],
      "text/latex": [
       "0.1852013100812"
      ],
      "text/markdown": [
       "0.1852013100812"
      ],
      "text/plain": [
       "[1] 0.1852013"
      ]
     },
     "metadata": {},
     "output_type": "display_data"
    }
   ],
   "source": [
    "Cp = (Upper_Specification - Lower_Specification)/(6*std_dev)\n",
    "Cp"
   ]
  },
  {
   "cell_type": "markdown",
   "metadata": {},
   "source": [
    "#### Process Capability Index (Cpk)"
   ]
  },
  {
   "cell_type": "code",
   "execution_count": 50,
   "metadata": {
    "collapsed": true
   },
   "outputs": [],
   "source": [
    "Cpk_1 <- Upper_Specification-(x_bar_bar/(3*std_dev))"
   ]
  },
  {
   "cell_type": "code",
   "execution_count": 51,
   "metadata": {
    "collapsed": true
   },
   "outputs": [],
   "source": [
    "Cpk_2 <- x_bar_bar - (Lower_Specification/(3*std_dev))"
   ]
  },
  {
   "cell_type": "code",
   "execution_count": 52,
   "metadata": {},
   "outputs": [
    {
     "data": {
      "text/html": [
       "22.1023000245587"
      ],
      "text/latex": [
       "22.1023000245587"
      ],
      "text/markdown": [
       "22.1023000245587"
      ],
      "text/plain": [
       "[1] 22.1023"
      ]
     },
     "metadata": {},
     "output_type": "display_data"
    }
   ],
   "source": [
    "min(Cpk_1,Cpk_2)"
   ]
  },
  {
   "cell_type": "markdown",
   "metadata": {},
   "source": [
    "### Cp being 0.18 which is less than 1 does not say anything about its capability. \n",
    "\n",
    "### But Cpk being 22.1 which is greater than 1 suggests that the process is better than specification requires."
   ]
  },
  {
   "cell_type": "markdown",
   "metadata": {},
   "source": [
    "---"
   ]
  },
  {
   "cell_type": "markdown",
   "metadata": {
    "deletable": false,
    "editable": false,
    "nbgrader": {
     "grade": false,
     "locked": true,
     "solution": false
    }
   },
   "source": [
    "## Question 2"
   ]
  },
  {
   "cell_type": "markdown",
   "metadata": {
    "deletable": false,
    "editable": false,
    "nbgrader": {
     "grade": false,
     "locked": true,
     "solution": false
    }
   },
   "source": [
    "### A) You have started your position as transportation director in a small town called Mountainside Village. There is only one road in and out of town. Today you can expect at peak traffic to see 35 cars per hour and the drive along the road with no traffic is 1 minute. Assuming Poisson arrival and exponential drive times, what is the current utilization of the road? (4 points) "
   ]
  },
  {
   "cell_type": "markdown",
   "metadata": {},
   "source": [
    "In this case, the arrival rate (λ) is given by 35 cars per hour, and the service rate (μ) is the reciprocal of the average service time (which is the exponential drive time). Since the drive time is given as 1 minute, the service rate is 1 / (1 minute) = 1 car per minute.\n",
    "\n",
    "Now, we convert the service rate to cars per hour to have a consistent unit with the arrival rate:\n",
    "Service rate (μ) = 1 car per minute * 60 minutes per hour = 60 cars per hour."
   ]
  },
  {
   "cell_type": "code",
   "execution_count": 56,
   "metadata": {
    "collapsed": true
   },
   "outputs": [],
   "source": [
    "arrival_rate = 35\n",
    "\n",
    "service_rate = 60"
   ]
  },
  {
   "cell_type": "code",
   "execution_count": 57,
   "metadata": {
    "collapsed": true
   },
   "outputs": [],
   "source": [
    "utilization <- arrival_rate / service_rate"
   ]
  },
  {
   "cell_type": "code",
   "execution_count": 58,
   "metadata": {},
   "outputs": [
    {
     "data": {
      "text/html": [
       "0.583333333333333"
      ],
      "text/latex": [
       "0.583333333333333"
      ],
      "text/markdown": [
       "0.583333333333333"
      ],
      "text/plain": [
       "[1] 0.5833333"
      ]
     },
     "metadata": {},
     "output_type": "display_data"
    }
   ],
   "source": [
    "utilization"
   ]
  },
  {
   "cell_type": "markdown",
   "metadata": {},
   "source": [
    "### The current utilisation is 0.583"
   ]
  },
  {
   "cell_type": "markdown",
   "metadata": {},
   "source": [
    "---"
   ]
  },
  {
   "cell_type": "markdown",
   "metadata": {
    "deletable": false,
    "editable": false,
    "nbgrader": {
     "grade": false,
     "locked": true,
     "solution": false
    }
   },
   "source": [
    "### B) How long will a person spend on the road? (4 points) \n",
    "\n",
    "**Hint:** Average time in system."
   ]
  },
  {
   "cell_type": "code",
   "execution_count": 59,
   "metadata": {
    "collapsed": true
   },
   "outputs": [],
   "source": [
    "W_s = 1/(service_rate-arrival_rate)"
   ]
  },
  {
   "cell_type": "code",
   "execution_count": 60,
   "metadata": {},
   "outputs": [
    {
     "data": {
      "text/html": [
       "0.04"
      ],
      "text/latex": [
       "0.04"
      ],
      "text/markdown": [
       "0.04"
      ],
      "text/plain": [
       "[1] 0.04"
      ]
     },
     "metadata": {},
     "output_type": "display_data"
    }
   ],
   "source": [
    "W_s"
   ]
  },
  {
   "cell_type": "code",
   "execution_count": 61,
   "metadata": {},
   "outputs": [
    {
     "data": {
      "text/html": [
       "2.4"
      ],
      "text/latex": [
       "2.4"
      ],
      "text/markdown": [
       "2.4"
      ],
      "text/plain": [
       "[1] 2.4"
      ]
     },
     "metadata": {},
     "output_type": "display_data"
    }
   ],
   "source": [
    "W_s*60"
   ]
  },
  {
   "cell_type": "markdown",
   "metadata": {},
   "source": [
    "### Average time a person spends on the road is 2.4 minutes"
   ]
  },
  {
   "cell_type": "markdown",
   "metadata": {},
   "source": [
    "---"
   ]
  },
  {
   "cell_type": "markdown",
   "metadata": {
    "deletable": false,
    "editable": false,
    "nbgrader": {
     "grade": false,
     "locked": true,
     "solution": false
    }
   },
   "source": [
    "### C) With the arrival of a new company traffic is expected to increase to 45 cars per hour. What happens to the utilization and how long does an average driver spend on the road now? (4 points) "
   ]
  },
  {
   "cell_type": "code",
   "execution_count": 62,
   "metadata": {
    "collapsed": true
   },
   "outputs": [],
   "source": [
    "new_arrival_rate = 45"
   ]
  },
  {
   "cell_type": "code",
   "execution_count": 64,
   "metadata": {},
   "outputs": [
    {
     "data": {
      "text/html": [
       "0.75"
      ],
      "text/latex": [
       "0.75"
      ],
      "text/markdown": [
       "0.75"
      ],
      "text/plain": [
       "[1] 0.75"
      ]
     },
     "metadata": {},
     "output_type": "display_data"
    }
   ],
   "source": [
    "new_utilisation = new_arrival_rate/service_rate\n",
    "new_utilisation"
   ]
  },
  {
   "cell_type": "code",
   "execution_count": 66,
   "metadata": {},
   "outputs": [
    {
     "data": {
      "text/html": [
       "0.0666666666666667"
      ],
      "text/latex": [
       "0.0666666666666667"
      ],
      "text/markdown": [
       "0.0666666666666667"
      ],
      "text/plain": [
       "[1] 0.06666667"
      ]
     },
     "metadata": {},
     "output_type": "display_data"
    }
   ],
   "source": [
    "New_W_s = 1/(service_rate-new_arrival_rate)\n",
    "New_W_s"
   ]
  },
  {
   "cell_type": "code",
   "execution_count": 67,
   "metadata": {},
   "outputs": [
    {
     "data": {
      "text/html": [
       "4"
      ],
      "text/latex": [
       "4"
      ],
      "text/markdown": [
       "4"
      ],
      "text/plain": [
       "[1] 4"
      ]
     },
     "metadata": {},
     "output_type": "display_data"
    }
   ],
   "source": [
    "New_W_s*60"
   ]
  },
  {
   "cell_type": "markdown",
   "metadata": {},
   "source": [
    "### New utilisation will be 0.75. And the average time a customer spends on the road is 4 minutes."
   ]
  },
  {
   "cell_type": "markdown",
   "metadata": {},
   "source": [
    "---"
   ]
  },
  {
   "cell_type": "markdown",
   "metadata": {
    "deletable": false,
    "editable": false,
    "nbgrader": {
     "grade": false,
     "locked": true,
     "solution": false
    }
   },
   "source": [
    "### D) Graph how time spent on road have increased with each additional car. (4 points) \n",
    "\n",
    "**Hint:** Your plot should consist of number of cars per hour vs. time spent on road startting with 35 cars/hour and ending with 45 cars/hour."
   ]
  },
  {
   "cell_type": "code",
   "execution_count": 68,
   "metadata": {},
   "outputs": [
    {
     "data": {
      "text/html": [
       "60"
      ],
      "text/latex": [
       "60"
      ],
      "text/markdown": [
       "60"
      ],
      "text/plain": [
       "[1] 60"
      ]
     },
     "metadata": {},
     "output_type": "display_data"
    }
   ],
   "source": [
    "service_rate"
   ]
  },
  {
   "cell_type": "code",
   "execution_count": 69,
   "metadata": {},
   "outputs": [
    {
     "name": "stdout",
     "output_type": "stream",
     "text": [
      "   Cars_Per_Hour Time_On_Road\n",
      "1             35   0.04000000\n",
      "2             36   0.04166667\n",
      "3             37   0.04347826\n",
      "4             38   0.04545455\n",
      "5             39   0.04761905\n",
      "6             40   0.05000000\n",
      "7             41   0.05263158\n",
      "8             42   0.05555556\n",
      "9             43   0.05882353\n",
      "10            44   0.06250000\n",
      "11            45   0.06666667\n"
     ]
    }
   ],
   "source": [
    "# Create the dataframe\n",
    "Cars_Per_Hour <- 35:45\n",
    "Time_On_Road <- 1 / (service_rate - Cars_Per_Hour)\n",
    "df <- data.frame(Cars_Per_Hour, Time_On_Road)\n",
    "\n",
    "# Print the dataframe\n",
    "print(df)"
   ]
  },
  {
   "cell_type": "code",
   "execution_count": 70,
   "metadata": {},
   "outputs": [
    {
     "data": {
      "image/png": "[encoded data removed]",
      "text/plain": [
       "plot without title"
      ]
     },
     "metadata": {
      "image/png": {
       "height": 420,
       "width": 420
      }
     },
     "output_type": "display_data"
    }
   ],
   "source": [
    "# Plot the line graph\n",
    "ggplot(df, aes(x = Cars_Per_Hour, y = Time_On_Road)) +\n",
    "  geom_line() +\n",
    "  labs(x = \"Cars Per Hour\", y = \"Time On Road\") +\n",
    "  ggtitle(\"Line Graph of Time On Road against Cars Per Hour\") +\n",
    "  theme_minimal()"
   ]
  },
  {
   "cell_type": "markdown",
   "metadata": {},
   "source": [
    "---"
   ]
  },
  {
   "cell_type": "markdown",
   "metadata": {
    "deletable": false,
    "editable": false,
    "nbgrader": {
     "grade": false,
     "locked": true,
     "solution": false
    }
   },
   "source": [
    "### E) The cost to build a new road is expensive, so the mayor wants to ensure that there is at least a 40% probability that there are more than 4 cars waiting in traffic before they approve funding for a new road. Prove to the mayor if the budget is justified. (4 points) \n",
    "\n",
    "**Note:** Use the new scenario from question 2C."
   ]
  },
  {
   "cell_type": "code",
   "execution_count": 71,
   "metadata": {},
   "outputs": [
    {
     "data": {
      "text/html": [
       "60"
      ],
      "text/latex": [
       "60"
      ],
      "text/markdown": [
       "60"
      ],
      "text/plain": [
       "[1] 60"
      ]
     },
     "metadata": {},
     "output_type": "display_data"
    }
   ],
   "source": [
    "service_rate"
   ]
  },
  {
   "cell_type": "code",
   "execution_count": 72,
   "metadata": {},
   "outputs": [
    {
     "data": {
      "text/html": [
       "45"
      ],
      "text/latex": [
       "45"
      ],
      "text/markdown": [
       "45"
      ],
      "text/plain": [
       "[1] 45"
      ]
     },
     "metadata": {},
     "output_type": "display_data"
    }
   ],
   "source": [
    "new_arrival_rate"
   ]
  },
  {
   "cell_type": "code",
   "execution_count": 73,
   "metadata": {},
   "outputs": [
    {
     "data": {
      "text/html": [
       "0.75"
      ],
      "text/latex": [
       "0.75"
      ],
      "text/markdown": [
       "0.75"
      ],
      "text/plain": [
       "[1] 0.75"
      ]
     },
     "metadata": {},
     "output_type": "display_data"
    }
   ],
   "source": [
    "new_utilisation"
   ]
  },
  {
   "cell_type": "code",
   "execution_count": 74,
   "metadata": {},
   "outputs": [
    {
     "name": "stdout",
     "output_type": "stream",
     "text": [
      "[1] 0.7626953\n"
     ]
    }
   ],
   "source": [
    "# Geometric Series\n",
    "first_term <- 1/4\n",
    "common_ratio <- 3/4\n",
    "number_of_terms <- 5\n",
    "\n",
    "sum_of_series <- first_term * (1 - common_ratio^number_of_terms) / (1 - common_ratio)\n",
    "\n",
    "print(sum_of_series)"
   ]
  },
  {
   "cell_type": "markdown",
   "metadata": {},
   "source": [
    "0.7626953 is the probability that there are 4 or less cars on the road."
   ]
  },
  {
   "cell_type": "code",
   "execution_count": 75,
   "metadata": {},
   "outputs": [
    {
     "data": {
      "text/html": [
       "0.2373046875"
      ],
      "text/latex": [
       "0.2373046875"
      ],
      "text/markdown": [
       "0.2373046875"
      ],
      "text/plain": [
       "[1] 0.2373047"
      ]
     },
     "metadata": {},
     "output_type": "display_data"
    }
   ],
   "source": [
    "1- sum_of_series"
   ]
  },
  {
   "cell_type": "markdown",
   "metadata": {},
   "source": [
    "### The probability that there are more than 4 cars on the road is 0.2373046875. This is less than 0.4.\n",
    "\n",
    "### The budget is not justified."
   ]
  },
  {
   "cell_type": "markdown",
   "metadata": {},
   "source": [
    "---"
   ]
  },
  {
   "cell_type": "markdown",
   "metadata": {
    "deletable": false,
    "editable": false,
    "nbgrader": {
     "grade": false,
     "locked": true,
     "solution": false
    }
   },
   "source": [
    "## Question 3\n",
    "### The dataset store_sales.csv is a subset of data from 2010 to 2012 from a US based retailer. It represents weekly sales (each row is a different week of data for a give store and department) for the included time frame. This dataset will be used for question 3.\n",
    "\n",
    "**Notes:** The dataset includes periods from 2010 to 2012, but it does not include every week. Do NOT extrapolate to fill in these missing pieces unless specifically instructed as it will change the answer. We will assume we are using a full dataset for most of the questions.\n",
    "\n",
    "store = store location id <br>\n",
    "dept = store department id <br>\n",
    "date = first day of given week <br>\n",
    "weekly_sales = sales for that week, dept, store <br>\n",
    "isholiday = true is holiday week <br>\n"
   ]
  },
  {
   "cell_type": "code",
   "execution_count": 76,
   "metadata": {
    "collapsed": true,
    "deletable": false,
    "editable": false,
    "nbgrader": {
     "grade": false,
     "locked": true,
     "solution": false
    }
   },
   "outputs": [
    {
     "name": "stderr",
     "output_type": "stream",
     "text": [
      "\n",
      "Attaching package: ‘dplyr’\n",
      "\n",
      "\n",
      "The following objects are masked from ‘package:stats’:\n",
      "\n",
      "    filter, lag\n",
      "\n",
      "\n",
      "The following objects are masked from ‘package:base’:\n",
      "\n",
      "    intersect, setdiff, setequal, union\n",
      "\n",
      "\n",
      "Loading required package: zoo\n",
      "\n",
      "\n",
      "Attaching package: ‘zoo’\n",
      "\n",
      "\n",
      "The following objects are masked from ‘package:base’:\n",
      "\n",
      "    as.Date, as.Date.numeric\n",
      "\n",
      "\n",
      "\n",
      "Attaching package: ‘xts’\n",
      "\n",
      "\n",
      "The following objects are masked from ‘package:dplyr’:\n",
      "\n",
      "    first, last\n",
      "\n",
      "\n",
      "Registered S3 method overwritten by 'quantmod':\n",
      "  method            from\n",
      "  as.zoo.data.frame zoo \n",
      "\n",
      "\n",
      "Attaching package: ‘lubridate’\n",
      "\n",
      "\n",
      "The following objects are masked from ‘package:base’:\n",
      "\n",
      "    date, intersect, setdiff, union\n",
      "\n",
      "\n"
     ]
    }
   ],
   "source": [
    "## Load necessary library and dataset\n",
    "library(dplyr)\n",
    "library(xts) \n",
    "library(forecast) \n",
    "library(lubridate) \n",
    "\n",
    "\n",
    "data <-read.csv(\"../resource/asnlib/publicdata/store_sales.csv\", stringsAsFactors = FALSE) \n",
    "names(data) <- tolower(names(data))\n"
   ]
  },
  {
   "cell_type": "markdown",
   "metadata": {
    "deletable": false,
    "editable": false,
    "nbgrader": {
     "grade": false,
     "locked": true,
     "solution": false
    }
   },
   "source": [
    "### A) What is the average value of weekly_sales for dept 1 when there is no holiday? Round to the nearest dollar. (2 points)\n",
    "\n"
   ]
  },
  {
   "cell_type": "code",
   "execution_count": 83,
   "metadata": {},
   "outputs": [
    {
     "data": {
      "text/html": [
       "<table>\n",
       "<caption>A data.frame: 6 × 5</caption>\n",
       "<thead>\n",
       "\t<tr><th></th><th scope=col>store</th><th scope=col>dept</th><th scope=col>date</th><th scope=col>weekly_sales</th><th scope=col>isholiday</th></tr>\n",
       "\t<tr><th></th><th scope=col>&lt;int&gt;</th><th scope=col>&lt;int&gt;</th><th scope=col>&lt;chr&gt;</th><th scope=col>&lt;dbl&gt;</th><th scope=col>&lt;lgl&gt;</th></tr>\n",
       "</thead>\n",
       "<tbody>\n",
       "\t<tr><th scope=row>1</th><td>1</td><td>1</td><td>2/5/10</td><td>24924.50</td><td>FALSE</td></tr>\n",
       "\t<tr><th scope=row>2</th><td>1</td><td>2</td><td>2/5/10</td><td>50605.27</td><td>FALSE</td></tr>\n",
       "\t<tr><th scope=row>3</th><td>1</td><td>3</td><td>2/5/10</td><td>13740.12</td><td>FALSE</td></tr>\n",
       "\t<tr><th scope=row>4</th><td>1</td><td>4</td><td>2/5/10</td><td>39954.04</td><td>FALSE</td></tr>\n",
       "\t<tr><th scope=row>5</th><td>1</td><td>5</td><td>2/5/10</td><td>32229.38</td><td>FALSE</td></tr>\n",
       "\t<tr><th scope=row>6</th><td>1</td><td>6</td><td>2/5/10</td><td> 5749.03</td><td>FALSE</td></tr>\n",
       "</tbody>\n",
       "</table>\n"
      ],
      "text/latex": [
       "A data.frame: 6 × 5\n",
       "\\begin{tabular}{r|lllll}\n",
       "  & store & dept & date & weekly\\_sales & isholiday\\\\\n",
       "  & <int> & <int> & <chr> & <dbl> & <lgl>\\\\\n",
       "\\hline\n",
       "\t1 & 1 & 1 & 2/5/10 & 24924.50 & FALSE\\\\\n",
       "\t2 & 1 & 2 & 2/5/10 & 50605.27 & FALSE\\\\\n",
       "\t3 & 1 & 3 & 2/5/10 & 13740.12 & FALSE\\\\\n",
       "\t4 & 1 & 4 & 2/5/10 & 39954.04 & FALSE\\\\\n",
       "\t5 & 1 & 5 & 2/5/10 & 32229.38 & FALSE\\\\\n",
       "\t6 & 1 & 6 & 2/5/10 &  5749.03 & FALSE\\\\\n",
       "\\end{tabular}\n"
      ],
      "text/markdown": [
       "\n",
       "A data.frame: 6 × 5\n",
       "\n",
       "| <!--/--> | store &lt;int&gt; | dept &lt;int&gt; | date &lt;chr&gt; | weekly_sales &lt;dbl&gt; | isholiday &lt;lgl&gt; |\n",
       "|---|---|---|---|---|---|\n",
       "| 1 | 1 | 1 | 2/5/10 | 24924.50 | FALSE |\n",
       "| 2 | 1 | 2 | 2/5/10 | 50605.27 | FALSE |\n",
       "| 3 | 1 | 3 | 2/5/10 | 13740.12 | FALSE |\n",
       "| 4 | 1 | 4 | 2/5/10 | 39954.04 | FALSE |\n",
       "| 5 | 1 | 5 | 2/5/10 | 32229.38 | FALSE |\n",
       "| 6 | 1 | 6 | 2/5/10 |  5749.03 | FALSE |\n",
       "\n"
      ],
      "text/plain": [
       "  store dept date   weekly_sales isholiday\n",
       "1 1     1    2/5/10 24924.50     FALSE    \n",
       "2 1     2    2/5/10 50605.27     FALSE    \n",
       "3 1     3    2/5/10 13740.12     FALSE    \n",
       "4 1     4    2/5/10 39954.04     FALSE    \n",
       "5 1     5    2/5/10 32229.38     FALSE    \n",
       "6 1     6    2/5/10  5749.03     FALSE    "
      ]
     },
     "metadata": {},
     "output_type": "display_data"
    }
   ],
   "source": [
    "head(data)"
   ]
  },
  {
   "cell_type": "code",
   "execution_count": 78,
   "metadata": {},
   "outputs": [
    {
     "data": {
      "text/plain": [
       "     store            dept           date            weekly_sales   \n",
       " Min.   : 1.00   Min.   : 1.00   Length:344667      Min.   : -4989  \n",
       " 1st Qu.:11.00   1st Qu.:18.00   Class :character   1st Qu.:  2100  \n",
       " Median :22.00   Median :37.00   Mode  :character   Median :  7639  \n",
       " Mean   :22.19   Mean   :44.21                      Mean   : 16011  \n",
       " 3rd Qu.:33.00   3rd Qu.:72.00                      3rd Qu.: 20180  \n",
       " Max.   :45.00   Max.   :99.00                      Max.   :693099  \n",
       " isholiday      \n",
       " Mode :logical  \n",
       " FALSE:317972   \n",
       " TRUE :26695    \n",
       "                \n",
       "                \n",
       "                "
      ]
     },
     "metadata": {},
     "output_type": "display_data"
    }
   ],
   "source": [
    "summary(data)"
   ]
  },
  {
   "cell_type": "code",
   "execution_count": 84,
   "metadata": {
    "collapsed": true
   },
   "outputs": [],
   "source": [
    "dept_1_noholiday <- filter(data, dept == 1, isholiday==FALSE)"
   ]
  },
  {
   "cell_type": "code",
   "execution_count": 85,
   "metadata": {},
   "outputs": [
    {
     "data": {
      "text/html": [
       "<table>\n",
       "<caption>A data.frame: 6 × 5</caption>\n",
       "<thead>\n",
       "\t<tr><th></th><th scope=col>store</th><th scope=col>dept</th><th scope=col>date</th><th scope=col>weekly_sales</th><th scope=col>isholiday</th></tr>\n",
       "\t<tr><th></th><th scope=col>&lt;int&gt;</th><th scope=col>&lt;int&gt;</th><th scope=col>&lt;chr&gt;</th><th scope=col>&lt;dbl&gt;</th><th scope=col>&lt;lgl&gt;</th></tr>\n",
       "</thead>\n",
       "<tbody>\n",
       "\t<tr><th scope=row>1</th><td>1</td><td>1</td><td>2/5/10</td><td>24924.50</td><td>FALSE</td></tr>\n",
       "\t<tr><th scope=row>2</th><td>2</td><td>1</td><td>2/5/10</td><td>35034.06</td><td>FALSE</td></tr>\n",
       "\t<tr><th scope=row>3</th><td>3</td><td>1</td><td>2/5/10</td><td> 6453.58</td><td>FALSE</td></tr>\n",
       "\t<tr><th scope=row>4</th><td>4</td><td>1</td><td>2/5/10</td><td>38724.42</td><td>FALSE</td></tr>\n",
       "\t<tr><th scope=row>5</th><td>5</td><td>1</td><td>2/5/10</td><td> 9323.89</td><td>FALSE</td></tr>\n",
       "\t<tr><th scope=row>6</th><td>6</td><td>1</td><td>2/5/10</td><td>25619.00</td><td>FALSE</td></tr>\n",
       "</tbody>\n",
       "</table>\n"
      ],
      "text/latex": [
       "A data.frame: 6 × 5\n",
       "\\begin{tabular}{r|lllll}\n",
       "  & store & dept & date & weekly\\_sales & isholiday\\\\\n",
       "  & <int> & <int> & <chr> & <dbl> & <lgl>\\\\\n",
       "\\hline\n",
       "\t1 & 1 & 1 & 2/5/10 & 24924.50 & FALSE\\\\\n",
       "\t2 & 2 & 1 & 2/5/10 & 35034.06 & FALSE\\\\\n",
       "\t3 & 3 & 1 & 2/5/10 &  6453.58 & FALSE\\\\\n",
       "\t4 & 4 & 1 & 2/5/10 & 38724.42 & FALSE\\\\\n",
       "\t5 & 5 & 1 & 2/5/10 &  9323.89 & FALSE\\\\\n",
       "\t6 & 6 & 1 & 2/5/10 & 25619.00 & FALSE\\\\\n",
       "\\end{tabular}\n"
      ],
      "text/markdown": [
       "\n",
       "A data.frame: 6 × 5\n",
       "\n",
       "| <!--/--> | store &lt;int&gt; | dept &lt;int&gt; | date &lt;chr&gt; | weekly_sales &lt;dbl&gt; | isholiday &lt;lgl&gt; |\n",
       "|---|---|---|---|---|---|\n",
       "| 1 | 1 | 1 | 2/5/10 | 24924.50 | FALSE |\n",
       "| 2 | 2 | 1 | 2/5/10 | 35034.06 | FALSE |\n",
       "| 3 | 3 | 1 | 2/5/10 |  6453.58 | FALSE |\n",
       "| 4 | 4 | 1 | 2/5/10 | 38724.42 | FALSE |\n",
       "| 5 | 5 | 1 | 2/5/10 |  9323.89 | FALSE |\n",
       "| 6 | 6 | 1 | 2/5/10 | 25619.00 | FALSE |\n",
       "\n"
      ],
      "text/plain": [
       "  store dept date   weekly_sales isholiday\n",
       "1 1     1    2/5/10 24924.50     FALSE    \n",
       "2 2     1    2/5/10 35034.06     FALSE    \n",
       "3 3     1    2/5/10  6453.58     FALSE    \n",
       "4 4     1    2/5/10 38724.42     FALSE    \n",
       "5 5     1    2/5/10  9323.89     FALSE    \n",
       "6 6     1    2/5/10 25619.00     FALSE    "
      ]
     },
     "metadata": {},
     "output_type": "display_data"
    }
   ],
   "source": [
    "head(dept_1_noholiday)"
   ]
  },
  {
   "cell_type": "code",
   "execution_count": 86,
   "metadata": {},
   "outputs": [
    {
     "data": {
      "text/html": [
       "19902.5457921811"
      ],
      "text/latex": [
       "19902.5457921811"
      ],
      "text/markdown": [
       "19902.5457921811"
      ],
      "text/plain": [
       "[1] 19902.55"
      ]
     },
     "metadata": {},
     "output_type": "display_data"
    }
   ],
   "source": [
    "mean(dept_1_noholiday$weekly_sales)"
   ]
  },
  {
   "cell_type": "markdown",
   "metadata": {},
   "source": [
    "### Average weekly sales for department 1 when there is no holiday is $19902.5457921811"
   ]
  },
  {
   "cell_type": "markdown",
   "metadata": {},
   "source": [
    "---"
   ]
  },
  {
   "cell_type": "markdown",
   "metadata": {
    "deletable": false,
    "editable": false,
    "nbgrader": {
     "grade": false,
     "locked": true,
     "solution": false
    }
   },
   "source": [
    "### B) Compute the total weekly_sales (sum all departments) per week for store 1, use an alpha of 0.5 and h = 100, and the ses() function from the 'forecast' package to fit the data, and plot the model, make sure you don't exclude holidays. What do you observe in the graph? (4 points)\n",
    "\n",
    "**You will need to convert the dataframe to an xts objet**\n",
    "\n",
    "To do so please do the following:\n",
    "\n",
    "1. Make all dates the same format. Hint - use this format : parse_date_time(data_columns, c(datetype1, datetype2)) \n",
    "2. Convert to xts\n",
    "3. Fit ses() model\n",
    "\n"
   ]
  },
  {
   "cell_type": "code",
   "execution_count": 87,
   "metadata": {
    "collapsed": true
   },
   "outputs": [],
   "source": [
    "library(forecast)"
   ]
  },
  {
   "cell_type": "code",
   "execution_count": 89,
   "metadata": {},
   "outputs": [
    {
     "data": {
      "text/html": [
       "<table>\n",
       "<caption>A data.frame: 6 × 5</caption>\n",
       "<thead>\n",
       "\t<tr><th></th><th scope=col>store</th><th scope=col>dept</th><th scope=col>date</th><th scope=col>weekly_sales</th><th scope=col>isholiday</th></tr>\n",
       "\t<tr><th></th><th scope=col>&lt;int&gt;</th><th scope=col>&lt;int&gt;</th><th scope=col>&lt;chr&gt;</th><th scope=col>&lt;dbl&gt;</th><th scope=col>&lt;lgl&gt;</th></tr>\n",
       "</thead>\n",
       "<tbody>\n",
       "\t<tr><th scope=row>1</th><td>1</td><td>1</td><td>2/5/10</td><td>24924.50</td><td>FALSE</td></tr>\n",
       "\t<tr><th scope=row>2</th><td>1</td><td>2</td><td>2/5/10</td><td>50605.27</td><td>FALSE</td></tr>\n",
       "\t<tr><th scope=row>3</th><td>1</td><td>3</td><td>2/5/10</td><td>13740.12</td><td>FALSE</td></tr>\n",
       "\t<tr><th scope=row>4</th><td>1</td><td>4</td><td>2/5/10</td><td>39954.04</td><td>FALSE</td></tr>\n",
       "\t<tr><th scope=row>5</th><td>1</td><td>5</td><td>2/5/10</td><td>32229.38</td><td>FALSE</td></tr>\n",
       "\t<tr><th scope=row>6</th><td>1</td><td>6</td><td>2/5/10</td><td> 5749.03</td><td>FALSE</td></tr>\n",
       "</tbody>\n",
       "</table>\n"
      ],
      "text/latex": [
       "A data.frame: 6 × 5\n",
       "\\begin{tabular}{r|lllll}\n",
       "  & store & dept & date & weekly\\_sales & isholiday\\\\\n",
       "  & <int> & <int> & <chr> & <dbl> & <lgl>\\\\\n",
       "\\hline\n",
       "\t1 & 1 & 1 & 2/5/10 & 24924.50 & FALSE\\\\\n",
       "\t2 & 1 & 2 & 2/5/10 & 50605.27 & FALSE\\\\\n",
       "\t3 & 1 & 3 & 2/5/10 & 13740.12 & FALSE\\\\\n",
       "\t4 & 1 & 4 & 2/5/10 & 39954.04 & FALSE\\\\\n",
       "\t5 & 1 & 5 & 2/5/10 & 32229.38 & FALSE\\\\\n",
       "\t6 & 1 & 6 & 2/5/10 &  5749.03 & FALSE\\\\\n",
       "\\end{tabular}\n"
      ],
      "text/markdown": [
       "\n",
       "A data.frame: 6 × 5\n",
       "\n",
       "| <!--/--> | store &lt;int&gt; | dept &lt;int&gt; | date &lt;chr&gt; | weekly_sales &lt;dbl&gt; | isholiday &lt;lgl&gt; |\n",
       "|---|---|---|---|---|---|\n",
       "| 1 | 1 | 1 | 2/5/10 | 24924.50 | FALSE |\n",
       "| 2 | 1 | 2 | 2/5/10 | 50605.27 | FALSE |\n",
       "| 3 | 1 | 3 | 2/5/10 | 13740.12 | FALSE |\n",
       "| 4 | 1 | 4 | 2/5/10 | 39954.04 | FALSE |\n",
       "| 5 | 1 | 5 | 2/5/10 | 32229.38 | FALSE |\n",
       "| 6 | 1 | 6 | 2/5/10 |  5749.03 | FALSE |\n",
       "\n"
      ],
      "text/plain": [
       "  store dept date   weekly_sales isholiday\n",
       "1 1     1    2/5/10 24924.50     FALSE    \n",
       "2 1     2    2/5/10 50605.27     FALSE    \n",
       "3 1     3    2/5/10 13740.12     FALSE    \n",
       "4 1     4    2/5/10 39954.04     FALSE    \n",
       "5 1     5    2/5/10 32229.38     FALSE    \n",
       "6 1     6    2/5/10  5749.03     FALSE    "
      ]
     },
     "metadata": {},
     "output_type": "display_data"
    }
   ],
   "source": [
    "store_1 <- filter(data, store == 1)\n",
    "head(store_1)"
   ]
  },
  {
   "cell_type": "code",
   "execution_count": 93,
   "metadata": {},
   "outputs": [],
   "source": [
    "total_sales_per_week <- store_1 %>%\n",
    "  group_by(date) %>%\n",
    "  summarize(total_weekly_sales = sum(weekly_sales))"
   ]
  },
  {
   "cell_type": "code",
   "execution_count": 94,
   "metadata": {},
   "outputs": [
    {
     "data": {
      "text/html": [
       "<style>\n",
       ".list-inline {list-style: none; margin:0; padding: 0}\n",
       ".list-inline>li {display: inline-block}\n",
       ".list-inline>li:not(:last-child)::after {content: \"\\00b7\"; padding: 0 .5ex}\n",
       "</style>\n",
       "<ol class=list-inline><li>117</li><li>2</li></ol>\n"
      ],
      "text/latex": [
       "\\begin{enumerate*}\n",
       "\\item 117\n",
       "\\item 2\n",
       "\\end{enumerate*}\n"
      ],
      "text/markdown": [
       "1. 117\n",
       "2. 2\n",
       "\n",
       "\n"
      ],
      "text/plain": [
       "[1] 117   2"
      ]
     },
     "metadata": {},
     "output_type": "display_data"
    }
   ],
   "source": [
    "dim(total_sales_per_week)"
   ]
  },
  {
   "cell_type": "code",
   "execution_count": 95,
   "metadata": {},
   "outputs": [
    {
     "data": {
      "text/html": [
       "<table>\n",
       "<caption>A tibble: 6 × 2</caption>\n",
       "<thead>\n",
       "\t<tr><th scope=col>date</th><th scope=col>total_weekly_sales</th></tr>\n",
       "\t<tr><th scope=col>&lt;chr&gt;</th><th scope=col>&lt;dbl&gt;</th></tr>\n",
       "</thead>\n",
       "<tbody>\n",
       "\t<tr><td>1/13/12</td><td>1459601</td></tr>\n",
       "\t<tr><td>1/14/11</td><td>1391014</td></tr>\n",
       "\t<tr><td>1/20/12</td><td>1394394</td></tr>\n",
       "\t<tr><td>1/21/11</td><td>1327405</td></tr>\n",
       "\t<tr><td>1/27/12</td><td>1319326</td></tr>\n",
       "\t<tr><td>1/28/11</td><td>1316899</td></tr>\n",
       "</tbody>\n",
       "</table>\n"
      ],
      "text/latex": [
       "A tibble: 6 × 2\n",
       "\\begin{tabular}{ll}\n",
       " date & total\\_weekly\\_sales\\\\\n",
       " <chr> & <dbl>\\\\\n",
       "\\hline\n",
       "\t 1/13/12 & 1459601\\\\\n",
       "\t 1/14/11 & 1391014\\\\\n",
       "\t 1/20/12 & 1394394\\\\\n",
       "\t 1/21/11 & 1327405\\\\\n",
       "\t 1/27/12 & 1319326\\\\\n",
       "\t 1/28/11 & 1316899\\\\\n",
       "\\end{tabular}\n"
      ],
      "text/markdown": [
       "\n",
       "A tibble: 6 × 2\n",
       "\n",
       "| date &lt;chr&gt; | total_weekly_sales &lt;dbl&gt; |\n",
       "|---|---|\n",
       "| 1/13/12 | 1459601 |\n",
       "| 1/14/11 | 1391014 |\n",
       "| 1/20/12 | 1394394 |\n",
       "| 1/21/11 | 1327405 |\n",
       "| 1/27/12 | 1319326 |\n",
       "| 1/28/11 | 1316899 |\n",
       "\n"
      ],
      "text/plain": [
       "  date    total_weekly_sales\n",
       "1 1/13/12 1459601           \n",
       "2 1/14/11 1391014           \n",
       "3 1/20/12 1394394           \n",
       "4 1/21/11 1327405           \n",
       "5 1/27/12 1319326           \n",
       "6 1/28/11 1316899           "
      ]
     },
     "metadata": {},
     "output_type": "display_data"
    }
   ],
   "source": [
    "head(total_sales_per_week)"
   ]
  },
  {
   "cell_type": "code",
   "execution_count": 98,
   "metadata": {},
   "outputs": [
    {
     "name": "stdout",
     "output_type": "stream",
     "text": [
      "         Point Forecast   Lo 80   Hi 80   Lo 95   Hi 95\n",
      "70761601        1622071 1408025 1836117 1294715 1949426\n",
      "71366401        1622071 1407069 1837073 1293254 1950888\n",
      "71971201        1622071 1406117 1838024 1291798 1952343\n",
      "72576001        1622071 1405170 1838972 1290350 1953792\n",
      "73180801        1622071 1404227 1839915 1288907 1955235\n",
      "73785601        1622071 1403288 1840854 1287471 1956671\n",
      "74390401        1622071 1402352 1841789 1286040 1958101\n",
      "74995201        1622071 1401421 1842721 1284616 1959526\n",
      "75600001        1622071 1400494 1843648 1283198 1960944\n",
      "76204801        1622071 1399571 1844571 1281786 1962356\n"
     ]
    }
   ],
   "source": [
    "total_sales_per_week$week <- parse_date_time(total_sales_per_week$date, c(\"mdy\"))  # Change \"ymd\" or \"mdy\" based on your date format\n",
    "\n",
    "# Convert dataframe to xts object\n",
    "total_sales_per_week_xts <- xts(total_sales_per_week$total_weekly_sales, order.by = total_sales_per_week$week)\n",
    "\n",
    "# Fit ses() model\n",
    "ses_model <- ses(total_sales_per_week_xts)\n",
    "\n",
    "# Print the summary of the ses model\n",
    "print(ses_model)"
   ]
  },
  {
   "cell_type": "code",
   "execution_count": 109,
   "metadata": {},
   "outputs": [],
   "source": [
    "# Load libraries\n",
    "library(dplyr)\n",
    "library(lubridate)\n",
    "library(xts)\n",
    "library(forecast)\n",
    "\n",
    "total_sales_per_week$date <- as.character(total_sales_per_week$date)"
   ]
  },
  {
   "cell_type": "code",
   "execution_count": 110,
   "metadata": {
    "collapsed": true
   },
   "outputs": [],
   "source": [
    "total_sales_per_week$date <- parse_date_time(total_sales_per_week$date, orders = \"mdy\")"
   ]
  },
  {
   "cell_type": "code",
   "execution_count": 111,
   "metadata": {
    "collapsed": true
   },
   "outputs": [],
   "source": [
    "# Convert the dataframe to an xts object\n",
    "ts_data <- xts(total_sales_per_week$total_weekly_sales, order.by = total_sales_per_week$date)"
   ]
  },
  {
   "cell_type": "code",
   "execution_count": 115,
   "metadata": {
    "collapsed": true
   },
   "outputs": [],
   "source": [
    "# Fit a Simple Exponential Smoothing (SES) model\n",
    "ses_model <- ses(ts_data, alpha = 0.5, h = 100)"
   ]
  },
  {
   "cell_type": "code",
   "execution_count": 116,
   "metadata": {},
   "outputs": [
    {
     "data": {
      "image/png": "[encoded data removed]",
      "text/plain": [
       "plot without title"
      ]
     },
     "metadata": {
      "image/png": {
       "height": 420,
       "width": 420
      }
     },
     "output_type": "display_data"
    }
   ],
   "source": [
    "# Plot the time series graph with x-axis in month and year format\n",
    "plot(ts_data, main = \"Time Series Plot of Total Weekly Sales\", xlab = \"Date\", ylab = \"Total Weekly Sales\", col = \"blue\")"
   ]
  },
  {
   "cell_type": "code",
   "execution_count": 117,
   "metadata": {},
   "outputs": [
    {
     "data": {
      "image/png": "[encoded data removed]",
      "text/plain": [
       "plot without title"
      ]
     },
     "metadata": {
      "image/png": {
       "height": 420,
       "width": 420
      }
     },
     "output_type": "display_data"
    }
   ],
   "source": [
    "plot(ts_data, main = \"Time Series Plot of Total Weekly Sales\", xlab = \"Date\", ylab = \"Total Weekly Sales\", col = \"blue\")\n",
    "lines(fitted(ses_model), col = \"red\")\n",
    "legend(\"topleft\", legend = c(\"Original Data\", \"SES Model\"), col = c(\"blue\", \"red\"), lty = 1)"
   ]
  },
  {
   "cell_type": "markdown",
   "metadata": {},
   "source": [
    "### It is observed that every year between November to December, there is a huge spike in sales. Which is likely due to the holiday season."
   ]
  },
  {
   "cell_type": "markdown",
   "metadata": {},
   "source": [
    "---"
   ]
  },
  {
   "cell_type": "markdown",
   "metadata": {
    "deletable": false,
    "editable": false,
    "nbgrader": {
     "grade": false,
     "locked": true,
     "solution": false
    }
   },
   "source": [
    "### C) Using the same time series dataset from Q3(b), for the values of alpha 0.25 and 0.75, and h of 100, calculate and report the tracking signal. (4 points)\n",
    "\n",
    "**Note:** Use you model's fitted values (e.g., model[['fitted']]) as your forecasted values."
   ]
  },
  {
   "cell_type": "code",
   "execution_count": 125,
   "metadata": {
    "collapsed": true
   },
   "outputs": [],
   "source": [
    "# Fit SES model with alpha = 0.25 and h = 100\n",
    "ses_model_025 <- ses(ts_data, alpha = 0.25, h = 100)\n",
    "\n",
    "# Fit SES model with alpha = 0.75 and h = 100\n",
    "ses_model_075 <- ses(ts_data, alpha = 0.75, h = 100)"
   ]
  },
  {
   "cell_type": "code",
   "execution_count": 126,
   "metadata": {},
   "outputs": [],
   "source": [
    "# Convert xts objects to ts for subtraction\n",
    "ts_data_ts <- as.ts(ts_data)\n",
    "fitted_025_ts <- as.ts(fitted(ses_model_025))\n",
    "fitted_075_ts <- as.ts(fitted(ses_model_075))\n",
    "\n",
    "# Compute RSFE for alpha = 0.25\n",
    "rsfe_025 <- sum(ts_data_ts - fitted_025_ts)\n",
    "\n",
    "# Compute RSFE for alpha = 0.75\n",
    "rsfe_075 <- sum(ts_data_ts - fitted_075_ts)\n",
    "\n",
    "# Compute MAD for alpha = 0.25\n",
    "mad_025 <- sum(abs(ts_data_ts - fitted_025_ts)) / length(ts_data_ts)\n",
    "\n",
    "# Compute MAD for alpha = 0.75\n",
    "mad_075 <- sum(abs(ts_data_ts - fitted_075_ts)) / length(ts_data_ts)\n",
    "\n",
    "# Compute Tracking Signal for alpha = 0.25\n",
    "tracking_signal_025 <- rsfe_025 / mad_025\n",
    "\n",
    "# Compute Tracking Signal for alpha = 0.75\n",
    "tracking_signal_075 <- rsfe_075 / mad_075\n"
   ]
  },
  {
   "cell_type": "code",
   "execution_count": 127,
   "metadata": {},
   "outputs": [
    {
     "data": {
      "text/html": [
       "1.04413369145075"
      ],
      "text/latex": [
       "1.04413369145075"
      ],
      "text/markdown": [
       "1.04413369145075"
      ],
      "text/plain": [
       "[1] 1.044134"
      ]
     },
     "metadata": {},
     "output_type": "display_data"
    }
   ],
   "source": [
    "tracking_signal_025"
   ]
  },
  {
   "cell_type": "code",
   "execution_count": 128,
   "metadata": {},
   "outputs": [
    {
     "data": {
      "text/html": [
       "-1.65205269689455"
      ],
      "text/latex": [
       "-1.65205269689455"
      ],
      "text/markdown": [
       "-1.65205269689455"
      ],
      "text/plain": [
       "[1] -1.652053"
      ]
     },
     "metadata": {},
     "output_type": "display_data"
    }
   ],
   "source": [
    "tracking_signal_075"
   ]
  },
  {
   "cell_type": "markdown",
   "metadata": {},
   "source": [
    "### Tracking signal when Alpha is 0.25 is 1.04413369145075\n",
    "\n",
    "### Tracking signal when Alpha is 0.75 is -1.65205269689455"
   ]
  },
  {
   "cell_type": "markdown",
   "metadata": {},
   "source": [
    "---"
   ]
  },
  {
   "cell_type": "markdown",
   "metadata": {
    "deletable": false,
    "editable": false,
    "nbgrader": {
     "grade": false,
     "locked": true,
     "solution": false
    }
   },
   "source": [
    "### D) Using the same time series dataset from Q3(b),  for the values of alpha 0.25 and 0.75, calculate and report the MAD and MFE of the model. (4 points)\n",
    "\n",
    "**Note:** Use you model's fitted values (e.g., model[['fitted']]) as your forecasted values."
   ]
  },
  {
   "cell_type": "code",
   "execution_count": 129,
   "metadata": {},
   "outputs": [
    {
     "data": {
      "text/html": [
       "115457.064172921"
      ],
      "text/latex": [
       "115457.064172921"
      ],
      "text/markdown": [
       "115457.064172921"
      ],
      "text/plain": [
       "[1] 115457.1"
      ]
     },
     "metadata": {},
     "output_type": "display_data"
    }
   ],
   "source": [
    "mad_025"
   ]
  },
  {
   "cell_type": "code",
   "execution_count": 130,
   "metadata": {},
   "outputs": [
    {
     "data": {
      "text/html": [
       "118502.190577602"
      ],
      "text/latex": [
       "118502.190577602"
      ],
      "text/markdown": [
       "118502.190577602"
      ],
      "text/plain": [
       "[1] 118502.2"
      ]
     },
     "metadata": {},
     "output_type": "display_data"
    }
   ],
   "source": [
    "mad_075"
   ]
  },
  {
   "cell_type": "markdown",
   "metadata": {},
   "source": [
    "### MAD when Alpha is 0.25 is 115457.064172921\n",
    "\n",
    "### MAD when Alpha is 0.75 is 118502.190577602"
   ]
  },
  {
   "cell_type": "code",
   "execution_count": 132,
   "metadata": {},
   "outputs": [
    {
     "data": {
      "text/html": [
       "1030.36419332426"
      ],
      "text/latex": [
       "1030.36419332426"
      ],
      "text/markdown": [
       "1030.36419332426"
      ],
      "text/plain": [
       "[1] 1030.364"
      ]
     },
     "metadata": {},
     "output_type": "display_data"
    }
   ],
   "source": [
    "mfe_025 = rsfe_025/117\n",
    "mfe_025"
   ]
  },
  {
   "cell_type": "code",
   "execution_count": 133,
   "metadata": {},
   "outputs": [
    {
     "data": {
      "text/html": [
       "-1673.2637908687"
      ],
      "text/latex": [
       "-1673.2637908687"
      ],
      "text/markdown": [
       "-1673.2637908687"
      ],
      "text/plain": [
       "[1] -1673.264"
      ]
     },
     "metadata": {},
     "output_type": "display_data"
    }
   ],
   "source": [
    "mfe_075 = rsfe_075/117\n",
    "mfe_075"
   ]
  },
  {
   "cell_type": "markdown",
   "metadata": {},
   "source": [
    "### MFE when Alpha is 0.25 is 1030.36419332426\n",
    "\n",
    "### MFE when Alpha is 0.75 is -1673.2637908687"
   ]
  },
  {
   "cell_type": "markdown",
   "metadata": {},
   "source": [
    "---"
   ]
  },
  {
   "cell_type": "markdown",
   "metadata": {
    "deletable": false,
    "editable": false,
    "nbgrader": {
     "grade": false,
     "locked": true,
     "solution": false
    }
   },
   "source": [
    "### E) Using the calculated values for the Tracking Signal, MAD, and MFE for the alpha values of 0.25 and 0.75, which of the two models is a better model, and why? (2 points)"
   ]
  },
  {
   "cell_type": "markdown",
   "metadata": {},
   "source": [
    "#### When Alpha is 0.25 the Tracking Signal and MAD is smaller than when Alpha is 0.75. Though MFE is higher when Alpha is 0.25, 2 out of 3 of the metrics are smaller. Hence Alpha = 0.25 is the better model."
   ]
  },
  {
   "cell_type": "markdown",
   "metadata": {},
   "source": [
    "---"
   ]
  },
  {
   "cell_type": "markdown",
   "metadata": {
    "deletable": false,
    "editable": false,
    "nbgrader": {
     "grade": false,
     "locked": true,
     "solution": false
    }
   },
   "source": [
    "### F) Using the same time series dataset from Q3(b),  calculate and plot the root mean squared error (RMSE) for Alpha values ranging from 0.01 to 0.99, using h=100. Determine the optimal Alpha value that results in the lowest RMSE.?  (4 points)\n",
    "\n",
    "**Note**: <br>You can use **seq()** function to generate a regular sequences for Alpha values and loop through it to calculate RMSE.<br> The MSE value can be obtained by calling the SES model that you built using **yourmodelname\\$model\\$mse**."
   ]
  },
  {
   "cell_type": "code",
   "execution_count": 134,
   "metadata": {},
   "outputs": [
    {
     "data": {
      "image/png": "[encoded data removed]",
      "text/plain": [
       "Plot with title “Root Mean Squared Error (RMSE) vs. Alpha”"
      ]
     },
     "metadata": {
      "image/png": {
       "height": 420,
       "width": 420
      }
     },
     "output_type": "display_data"
    }
   ],
   "source": [
    "# Initialize variables to store the RMSE values\n",
    "alpha_values <- seq(0.01, 0.99, by = 0.01)\n",
    "rmse_values <- numeric(length(alpha_values))\n",
    "\n",
    "# Loop through each Alpha value and calculate RMSE\n",
    "for (i in seq_along(alpha_values)) {\n",
    "  # Fit the SES model for the current Alpha value\n",
    "  ses_model <- ses(ts_data, alpha = alpha_values[i], h = 100)\n",
    "  \n",
    "  # Calculate the Mean Squared Error (MSE) from the model\n",
    "  mse <- ses_model$model$mse\n",
    "  \n",
    "  # Calculate the Root Mean Squared Error (RMSE)\n",
    "  rmse_values[i] <- sqrt(mse)\n",
    "}\n",
    "\n",
    "# Find the optimal Alpha value that results in the lowest RMSE\n",
    "optimal_alpha <- alpha_values[which.min(rmse_values)]\n",
    "\n",
    "# Plot the RMSE values against the Alpha values\n",
    "plot(alpha_values, rmse_values, type = \"l\", col = \"blue\", xlab = \"Alpha\", ylab = \"RMSE\",\n",
    "     main = \"Root Mean Squared Error (RMSE) vs. Alpha\")\n",
    "\n",
    "# Add a red point to indicate the optimal Alpha value with the lowest RMSE\n",
    "points(optimal_alpha, min(rmse_values), col = \"red\", pch = 16)\n",
    "\n",
    "# Add a text label to show the optimal Alpha value\n",
    "text(optimal_alpha, min(rmse_values), paste0(\" Optimal Alpha = \", round(optimal_alpha, 2)), pos = 3)"
   ]
  },
  {
   "cell_type": "markdown",
   "metadata": {},
   "source": [
    "### Optimal Alpha value is 0.08"
   ]
  },
  {
   "cell_type": "markdown",
   "metadata": {},
   "source": [
    "---"
   ]
  }
 ],
 "metadata": {
  "kernelspec": {
   "display_name": "R 4.0.2",
   "language": "R",
   "name": "ir-4.0.2"
  },
  "language_info": {
   "codemirror_mode": "r",
   "file_extension": ".r",
   "mimetype": "text/x-r-source",
   "name": "R",
   "pygments_lexer": "r",
   "version": "4.0.2"
  }
 },
 "nbformat": 4,
 "nbformat_minor": 2
}
