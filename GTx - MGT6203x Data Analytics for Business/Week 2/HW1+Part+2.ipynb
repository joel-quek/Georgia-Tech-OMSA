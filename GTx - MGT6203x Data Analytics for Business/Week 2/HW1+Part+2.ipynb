{
 "cells": [
  {
   "cell_type": "markdown",
   "metadata": {
    "deletable": false,
    "editable": false,
    "nbgrader": {
     "grade": false,
     "locked": true,
     "solution": false
    }
   },
   "source": [
    "# HW1 Part 2 - MGT 6203"
   ]
  },
  {
   "cell_type": "markdown",
   "metadata": {
    "deletable": false,
    "editable": false,
    "nbgrader": {
     "grade": false,
     "locked": true,
     "solution": false
    }
   },
   "source": [
    "## Instructions:\n",
    "\n",
    "\n",
    "**For Homework 1 Part 2, please use this R notebook in Vocareum to submit your solutions. Vocareum is an educational cloud platform for programming in several languages; it is based on the Jupyter notebook environment. This platform allows us to move homework assignments to the cloud. The advantages are that all of you will be working in the same coding environment AND peer reviewers will be able to run your R code easily. This way we eliminate some issues we might encounter when working on an individual/local basis, such as library installations and Rstudio OS requirements; R notebooks work on mobile platforms and tablets.**\n",
    "\n",
    "**With R notebooks, you will be learning a new way of presenting data analysis reports, that is neat and flexible, where formatted (English) text and (R) code can easily coexist on the same page. Notebooks can be also collaborative when needed. For now, we are asking each of you to do your own work for homework. Think of R notebooks as interactive program-based Google docs or MS-Office 360 docs; these are gradually replacing local files on our computers. **\n",
    "\n",
    "**Many of you are new to the R notebooks and Vocareum platforms. We will provide TA help in Piazza with specific code if you have questions. Here we list some important things to get you started. Please read through them carefully.**\n",
    "\n",
    "\n",
    "<ol>\n",
    "<li>Even though we are moving from your local envrionment to the cloud, **our expectations from your homework will remain the same**. Same goes for the rubrics.</li>\n",
    "\n",
    "<li>Vocareum has its own cloud based file system, the data files you will be using for the assignments will be stored in the cloud with path **\"../resource/asnlib/publicdata/FILENAME.csv\"**. You will be able to import them with the same method as you do in RStudio, simply substitute the path name to the one specified in the instructions. You won't be able to modify these data files.</li>\n",
    "\n",
    "<li>You will be able to find the data files on Canvas/EdX if you would like to explore them offline.</li>\n",
    "\n",
    "<li>**For coding questions, you will be graded on the R code as well as the output** in your submission.</li>\n",
    "\n",
    "<li>**For interpretations or short response questions, please type the answers in the notebook's markdown cells**. To change a code cell to a markdown cell, click on the cell, and in the dropdown menu above, switch the type of the cell block from \"code\" to \"markdown\". **Adding print statements to code cells for short response/interpretation questions is also fine, as long as we can clearly see the output of your response**.</li>\n",
    "\n",
    "<li>You don't need to, but if you would like to learn more about how to format your markdown cells, visit the following site: https://www.earthdatascience.org/courses/intro-to-earth-data-science/file-formats/use-text-files/format-text-with-markdown-jupyter-notebook/. Jupyter notebook also support LaTeX.</li>\n",
    "\n",
    "<li>**Feel free to delete or add as many additional cells as you need**. But please try to keep your notebook clean and keep your solution to a question directly under that question to avoid confusions.</li>\n",
    "\n",
    "<li>You may delete the #SOLUTION BEGINS/ENDS HERE comments from the cell blocks, they are just pointers that indicates where to put you solutions.</li>\n",
    "\n",
    "<li>**When you have finished the assignment, remember to rerun your notebook to check if it runs correctly.** You can do so by going to **Kernel-> Restart & Run All**. You may lose points if your solutions does not run successfully.</li>\n",
    "\n",
    "<li>**Click the \"Submit\" button on the top right corner to turn in your assignment**. Your assignment will enter the next phase for peer review.</li>\n",
    "\n",
    "<li>**You are allowed a total of 2 submissions for this assignment.** So make sure that you submit your responses carefully. You will be able to come back and resubmit your assignment as long as it is before the start of the peer review period.</li>\n",
    "\n",
    "<li>**Please remember to finish the peer reviews after you have submitted your assignment.** You are responsible for grading the work of three of your peers thoroughly, and in addherence to the rubrics. And you will be held accountable for peer grading. **There will be a 30% penalty to your grade if you fail to complete one or more peer reviews in proper fashion.**</li>\n",
    "\n",
    "<li>Feel free to address your questions, concerns, and provide any feedback on Piazza. We will continuously try to improve going forward.</li>\n",
    "\n",
    "<li>Good Luck!</li>\n",
    "\n",
    "</ol>"
   ]
  },
  {
   "cell_type": "markdown",
   "metadata": {
    "deletable": false,
    "editable": false,
    "nbgrader": {
     "grade": false,
     "locked": true,
     "solution": false
    }
   },
   "source": [
    "# About Package Installation:\n",
    "\n",
    "Most of the packages (if not all) that you will need to complete this assignment are already installed in this environment. An easy way to check this is to run the command: library(PackageName). If this command runs successfully then the package was already installed and has been successfully attached to the code. If the command gave an error saying the Package was not found then follow the steps below to successfully install the package and attach it to the code: \n",
    "\n",
    "Use *installed.packages()* command to return a table of the packages that are preinstalled in the environment.\n",
    "\n",
    "To attach a preinstalled library in Vocareum, simply use *library(PackageName)*\n",
    "\n",
    "**To install a package that does not come with the provided environment, please use the following syntax:**\n",
    "\n",
    "*install.packages(\"PackageName\", lib=\"../work/\")*\n",
    "\n",
    "**To attach a library you just installed, use the following syntax:**\n",
    "\n",
    "*library(PackageName, lib.loc=\"../work/\")*\n",
    "\n",
    "Make sure the file location is the same as the above code snippets *(\"../work/\")*"
   ]
  },
  {
   "cell_type": "markdown",
   "metadata": {
    "deletable": false,
    "editable": false,
    "nbgrader": {
     "grade": false,
     "locked": true,
     "solution": false
    }
   },
   "source": [
    "## Q1. Use the *\"airbnb_data.csv\"* provided and answer the following questions on Linear Regression:\n",
    "\n",
    "**Instruction: The file \"airbnb_data.csv\" can be accessed at the path: (\"../resource/asnlib/publicdata/airbnb_data.csv\")**"
   ]
  },
  {
   "cell_type": "markdown",
   "metadata": {
    "deletable": false,
    "editable": false,
    "nbgrader": {
     "grade": false,
     "locked": true,
     "solution": false
    }
   },
   "source": [
    "a) Remove ‘id’columns (‘room_id’, ‘survey_id’, ‘host_id’) and ‘city’ from your dataset, and fit a multiple linear regression model using price as the response variable and all others as predictor variables.  (Note: Do not fit a model using id columns and city as predictors). Which variables are statistically significant at a 95% confidence interval.  (6 point)"
   ]
  },
  {
   "cell_type": "code",
   "execution_count": 21,
   "metadata": {},
   "outputs": [
    {
     "data": {
      "text/html": [
       "<table>\n",
       "<caption>A data.frame: 6 × 10</caption>\n",
       "<thead>\n",
       "\t<tr><th scope=col>room_id</th><th scope=col>survey_id</th><th scope=col>host_id</th><th scope=col>room_type</th><th scope=col>city</th><th scope=col>reviews</th><th scope=col>overall_satisfaction</th><th scope=col>accommodates</th><th scope=col>bedrooms</th><th scope=col>price</th></tr>\n",
       "\t<tr><th scope=col>&lt;int&gt;</th><th scope=col>&lt;int&gt;</th><th scope=col>&lt;int&gt;</th><th scope=col>&lt;fct&gt;</th><th scope=col>&lt;fct&gt;</th><th scope=col>&lt;int&gt;</th><th scope=col>&lt;dbl&gt;</th><th scope=col>&lt;int&gt;</th><th scope=col>&lt;int&gt;</th><th scope=col>&lt;int&gt;</th></tr>\n",
       "</thead>\n",
       "<tbody>\n",
       "\t<tr><td>15771735</td><td>1498</td><td>101992409</td><td>Shared room</td><td>Asheville</td><td>  0</td><td>0.0</td><td>4</td><td>1</td><td>91</td></tr>\n",
       "\t<tr><td>18284194</td><td>1498</td><td>126414164</td><td>Shared room</td><td>Asheville</td><td> 32</td><td>5.0</td><td>4</td><td>1</td><td>77</td></tr>\n",
       "\t<tr><td>18091012</td><td>1498</td><td>122380971</td><td>Shared room</td><td>Asheville</td><td>  4</td><td>4.5</td><td>2</td><td>1</td><td>35</td></tr>\n",
       "\t<tr><td>12286328</td><td>1498</td><td>   746673</td><td>Shared room</td><td>Asheville</td><td> 24</td><td>4.5</td><td>6</td><td>1</td><td>31</td></tr>\n",
       "\t<tr><td>  156926</td><td>1498</td><td>   746673</td><td>Shared room</td><td>Asheville</td><td>152</td><td>4.5</td><td>6</td><td>1</td><td>36</td></tr>\n",
       "\t<tr><td>12989718</td><td>1498</td><td>   746673</td><td>Shared room</td><td>Asheville</td><td> 20</td><td>4.5</td><td>4</td><td>1</td><td>29</td></tr>\n",
       "</tbody>\n",
       "</table>\n"
      ],
      "text/latex": [
       "A data.frame: 6 × 10\n",
       "\\begin{tabular}{r|llllllllll}\n",
       " room\\_id & survey\\_id & host\\_id & room\\_type & city & reviews & overall\\_satisfaction & accommodates & bedrooms & price\\\\\n",
       " <int> & <int> & <int> & <fct> & <fct> & <int> & <dbl> & <int> & <int> & <int>\\\\\n",
       "\\hline\n",
       "\t 15771735 & 1498 & 101992409 & Shared room & Asheville &   0 & 0.0 & 4 & 1 & 91\\\\\n",
       "\t 18284194 & 1498 & 126414164 & Shared room & Asheville &  32 & 5.0 & 4 & 1 & 77\\\\\n",
       "\t 18091012 & 1498 & 122380971 & Shared room & Asheville &   4 & 4.5 & 2 & 1 & 35\\\\\n",
       "\t 12286328 & 1498 &    746673 & Shared room & Asheville &  24 & 4.5 & 6 & 1 & 31\\\\\n",
       "\t   156926 & 1498 &    746673 & Shared room & Asheville & 152 & 4.5 & 6 & 1 & 36\\\\\n",
       "\t 12989718 & 1498 &    746673 & Shared room & Asheville &  20 & 4.5 & 4 & 1 & 29\\\\\n",
       "\\end{tabular}\n"
      ],
      "text/markdown": [
       "\n",
       "A data.frame: 6 × 10\n",
       "\n",
       "| room_id &lt;int&gt; | survey_id &lt;int&gt; | host_id &lt;int&gt; | room_type &lt;fct&gt; | city &lt;fct&gt; | reviews &lt;int&gt; | overall_satisfaction &lt;dbl&gt; | accommodates &lt;int&gt; | bedrooms &lt;int&gt; | price &lt;int&gt; |\n",
       "|---|---|---|---|---|---|---|---|---|---|\n",
       "| 15771735 | 1498 | 101992409 | Shared room | Asheville |   0 | 0.0 | 4 | 1 | 91 |\n",
       "| 18284194 | 1498 | 126414164 | Shared room | Asheville |  32 | 5.0 | 4 | 1 | 77 |\n",
       "| 18091012 | 1498 | 122380971 | Shared room | Asheville |   4 | 4.5 | 2 | 1 | 35 |\n",
       "| 12286328 | 1498 |    746673 | Shared room | Asheville |  24 | 4.5 | 6 | 1 | 31 |\n",
       "|   156926 | 1498 |    746673 | Shared room | Asheville | 152 | 4.5 | 6 | 1 | 36 |\n",
       "| 12989718 | 1498 |    746673 | Shared room | Asheville |  20 | 4.5 | 4 | 1 | 29 |\n",
       "\n"
      ],
      "text/plain": [
       "  room_id  survey_id host_id   room_type   city      reviews\n",
       "1 15771735 1498      101992409 Shared room Asheville   0    \n",
       "2 18284194 1498      126414164 Shared room Asheville  32    \n",
       "3 18091012 1498      122380971 Shared room Asheville   4    \n",
       "4 12286328 1498         746673 Shared room Asheville  24    \n",
       "5   156926 1498         746673 Shared room Asheville 152    \n",
       "6 12989718 1498         746673 Shared room Asheville  20    \n",
       "  overall_satisfaction accommodates bedrooms price\n",
       "1 0.0                  4            1        91   \n",
       "2 5.0                  4            1        77   \n",
       "3 4.5                  2            1        35   \n",
       "4 4.5                  6            1        31   \n",
       "5 4.5                  6            1        36   \n",
       "6 4.5                  4            1        29   "
      ]
     },
     "metadata": {},
     "output_type": "display_data"
    }
   ],
   "source": [
    "air <- read.csv(\"../resource/asnlib/publicdata/airbnb_data.csv\")\n",
    "head(air)"
   ]
  },
  {
   "cell_type": "code",
   "execution_count": 22,
   "metadata": {
    "scrolled": true
   },
   "outputs": [
    {
     "data": {
      "text/html": [
       "<table>\n",
       "<caption>A data.frame: 6 × 6</caption>\n",
       "<thead>\n",
       "\t<tr><th scope=col>room_type</th><th scope=col>reviews</th><th scope=col>overall_satisfaction</th><th scope=col>accommodates</th><th scope=col>bedrooms</th><th scope=col>price</th></tr>\n",
       "\t<tr><th scope=col>&lt;fct&gt;</th><th scope=col>&lt;int&gt;</th><th scope=col>&lt;dbl&gt;</th><th scope=col>&lt;int&gt;</th><th scope=col>&lt;int&gt;</th><th scope=col>&lt;int&gt;</th></tr>\n",
       "</thead>\n",
       "<tbody>\n",
       "\t<tr><td>Shared room</td><td>  0</td><td>0.0</td><td>4</td><td>1</td><td>91</td></tr>\n",
       "\t<tr><td>Shared room</td><td> 32</td><td>5.0</td><td>4</td><td>1</td><td>77</td></tr>\n",
       "\t<tr><td>Shared room</td><td>  4</td><td>4.5</td><td>2</td><td>1</td><td>35</td></tr>\n",
       "\t<tr><td>Shared room</td><td> 24</td><td>4.5</td><td>6</td><td>1</td><td>31</td></tr>\n",
       "\t<tr><td>Shared room</td><td>152</td><td>4.5</td><td>6</td><td>1</td><td>36</td></tr>\n",
       "\t<tr><td>Shared room</td><td> 20</td><td>4.5</td><td>4</td><td>1</td><td>29</td></tr>\n",
       "</tbody>\n",
       "</table>\n"
      ],
      "text/latex": [
       "A data.frame: 6 × 6\n",
       "\\begin{tabular}{r|llllll}\n",
       " room\\_type & reviews & overall\\_satisfaction & accommodates & bedrooms & price\\\\\n",
       " <fct> & <int> & <dbl> & <int> & <int> & <int>\\\\\n",
       "\\hline\n",
       "\t Shared room &   0 & 0.0 & 4 & 1 & 91\\\\\n",
       "\t Shared room &  32 & 5.0 & 4 & 1 & 77\\\\\n",
       "\t Shared room &   4 & 4.5 & 2 & 1 & 35\\\\\n",
       "\t Shared room &  24 & 4.5 & 6 & 1 & 31\\\\\n",
       "\t Shared room & 152 & 4.5 & 6 & 1 & 36\\\\\n",
       "\t Shared room &  20 & 4.5 & 4 & 1 & 29\\\\\n",
       "\\end{tabular}\n"
      ],
      "text/markdown": [
       "\n",
       "A data.frame: 6 × 6\n",
       "\n",
       "| room_type &lt;fct&gt; | reviews &lt;int&gt; | overall_satisfaction &lt;dbl&gt; | accommodates &lt;int&gt; | bedrooms &lt;int&gt; | price &lt;int&gt; |\n",
       "|---|---|---|---|---|---|\n",
       "| Shared room |   0 | 0.0 | 4 | 1 | 91 |\n",
       "| Shared room |  32 | 5.0 | 4 | 1 | 77 |\n",
       "| Shared room |   4 | 4.5 | 2 | 1 | 35 |\n",
       "| Shared room |  24 | 4.5 | 6 | 1 | 31 |\n",
       "| Shared room | 152 | 4.5 | 6 | 1 | 36 |\n",
       "| Shared room |  20 | 4.5 | 4 | 1 | 29 |\n",
       "\n"
      ],
      "text/plain": [
       "  room_type   reviews overall_satisfaction accommodates bedrooms price\n",
       "1 Shared room   0     0.0                  4            1        91   \n",
       "2 Shared room  32     5.0                  4            1        77   \n",
       "3 Shared room   4     4.5                  2            1        35   \n",
       "4 Shared room  24     4.5                  6            1        31   \n",
       "5 Shared room 152     4.5                  6            1        36   \n",
       "6 Shared room  20     4.5                  4            1        29   "
      ]
     },
     "metadata": {},
     "output_type": "display_data"
    }
   ],
   "source": [
    "air <- air[,-1:-3]\n",
    "air <- air[,-2]\n",
    "head(air)"
   ]
  },
  {
   "cell_type": "code",
   "execution_count": 23,
   "metadata": {
    "scrolled": false
   },
   "outputs": [
    {
     "data": {
      "text/plain": [
       "\n",
       "Call:\n",
       "lm(formula = price ~ ., data = air)\n",
       "\n",
       "Residuals:\n",
       "   Min     1Q Median     3Q    Max \n",
       "-464.6  -52.6    1.9   43.8 3517.8 \n",
       "\n",
       "Coefficients:\n",
       "                        Estimate Std. Error t value Pr(>|t|)    \n",
       "(Intercept)           -44.257931  23.687105  -1.868 0.062046 .  \n",
       "room_typePrivate room  -2.176746  14.305944  -0.152 0.879100    \n",
       "room_typeShared room  -74.315397  64.839082  -1.146 0.252056    \n",
       "reviews                -0.007459   0.108031  -0.069 0.944967    \n",
       "overall_satisfaction   -9.081773   3.759000  -2.416 0.015902 *  \n",
       "accommodates           20.301341   5.670654   3.580 0.000363 ***\n",
       "bedrooms              115.185249  12.402808   9.287  < 2e-16 ***\n",
       "---\n",
       "Signif. codes:  0 ‘***’ 0.001 ‘**’ 0.01 ‘*’ 0.05 ‘.’ 0.1 ‘ ’ 1\n",
       "\n",
       "Residual standard error: 180.9 on 847 degrees of freedom\n",
       "Multiple R-squared:  0.3561,\tAdjusted R-squared:  0.3516 \n",
       "F-statistic: 78.08 on 6 and 847 DF,  p-value: < 2.2e-16\n"
      ]
     },
     "metadata": {},
     "output_type": "display_data"
    }
   ],
   "source": [
    "model1 <- lm(price~., data=air)\n",
    "summary(model1)"
   ]
  },
  {
   "cell_type": "markdown",
   "metadata": {},
   "source": [
    "A p-value less than the significance level (0.05 for a 95% confidence interval) indicates statistical significance. Variables with p-values less than 0.05 are considered statistically significant at the 95% confidence level.\n",
    "\n",
    "Hence the following variables are statistically significant at a 95% confidence interval.\n",
    "- overall_satisfaction \n",
    "- accommodates           \n",
    "- bedrooms              "
   ]
  },
  {
   "cell_type": "markdown",
   "metadata": {
    "deletable": false,
    "editable": false,
    "nbgrader": {
     "grade": false,
     "locked": true,
     "solution": false
    }
   },
   "source": [
    "b) Interpret the coefficients for predictors: 'room_type', 'bedrooms'. (3points)\n",
    "\n",
    "**Note:** In the event that a coefficient is not significant in your analysis, please interpret both coefficients as if they were significant. "
   ]
  },
  {
   "cell_type": "code",
   "execution_count": 25,
   "metadata": {},
   "outputs": [
    {
     "data": {
      "text/html": [
       "<ol class=list-inline>\n",
       "\t<li>Shared room</li>\n",
       "\t<li>Entire home/apt</li>\n",
       "\t<li>Private room</li>\n",
       "</ol>\n",
       "\n",
       "<details>\n",
       "\t<summary style=display:list-item;cursor:pointer>\n",
       "\t\t<strong>Levels</strong>:\n",
       "\t</summary>\n",
       "\t<ol class=list-inline>\n",
       "\t\t<li>'Entire home/apt'</li>\n",
       "\t\t<li>'Private room'</li>\n",
       "\t\t<li>'Shared room'</li>\n",
       "\t</ol>\n",
       "</details>"
      ],
      "text/latex": [
       "\\begin{enumerate*}\n",
       "\\item Shared room\n",
       "\\item Entire home/apt\n",
       "\\item Private room\n",
       "\\end{enumerate*}\n",
       "\n",
       "\\emph{Levels}: \\begin{enumerate*}\n",
       "\\item 'Entire home/apt'\n",
       "\\item 'Private room'\n",
       "\\item 'Shared room'\n",
       "\\end{enumerate*}\n"
      ],
      "text/markdown": [
       "1. Shared room\n",
       "2. Entire home/apt\n",
       "3. Private room\n",
       "\n",
       "\n",
       "\n",
       "**Levels**: 1. 'Entire home/apt'\n",
       "2. 'Private room'\n",
       "3. 'Shared room'\n",
       "\n",
       "\n"
      ],
      "text/plain": [
       "[1] Shared room     Entire home/apt Private room   \n",
       "Levels: Entire home/apt Private room Shared room"
      ]
     },
     "metadata": {},
     "output_type": "display_data"
    }
   ],
   "source": [
    "room_type_unique <- unique(air$room_type)\n",
    "room_type_unique"
   ]
  },
  {
   "cell_type": "markdown",
   "metadata": {
    "collapsed": true
   },
   "source": [
    "Room Type\n",
    "There are three room types - Shared room, Entire home/apt and Private room\n",
    "A Private Room will be priced -2.176746 less than an Entire Home/apt keeping all else constant.\n",
    "A Shared Room will be priced -74.315397 less than an Entire Home/apt keeping all else constant.\n",
    "\n",
    "Bedrooms\n",
    "For every increase by 1 bedroom, the price will increase by 115.185249 keeping all else constant."
   ]
  },
  {
   "cell_type": "markdown",
   "metadata": {
    "deletable": false,
    "editable": false,
    "nbgrader": {
     "grade": false,
     "locked": true,
     "solution": false
    }
   },
   "source": [
    "c) Predict the price (nearest dollar) for a listing with the following factors: 'bedrooms' = 1, 'accommodates' = 2, 'reviews' = 70, 'overall_satisfaction' = 4, and 'room_type' = 'Private room'. (6 points)\n",
    "\n",
    "\n",
    "\n",
    "|bedrooms|accomodates|reviews|overall_satisfaction|room_type|\n",
    "|------|------|------|-------|------|------|\n",
    "|1|2|70|4|Private room|\n"
   ]
  },
  {
   "cell_type": "code",
   "execution_count": 28,
   "metadata": {
    "collapsed": true
   },
   "outputs": [],
   "source": [
    "new_data <- data.frame(\n",
    "    room_type=\"Private room\",\n",
    "    reviews=70,\n",
    "    overall_satisfaction=4,\n",
    "    accommodates=2,\n",
    "    bedrooms=1)"
   ]
  },
  {
   "cell_type": "code",
   "execution_count": 29,
   "metadata": {},
   "outputs": [
    {
     "data": {
      "text/html": [
       "<strong>1:</strong> 72.5040082355064"
      ],
      "text/latex": [
       "\\textbf{1:} 72.5040082355064"
      ],
      "text/markdown": [
       "**1:** 72.5040082355064"
      ],
      "text/plain": [
       "       1 \n",
       "72.50401 "
      ]
     },
     "metadata": {},
     "output_type": "display_data"
    }
   ],
   "source": [
    "prediction <- predict(model1, newdata=new_data)\n",
    "prediction"
   ]
  },
  {
   "cell_type": "markdown",
   "metadata": {},
   "source": [
    "The predicted price is $73 rounded off to the nearest dollar."
   ]
  },
  {
   "cell_type": "markdown",
   "metadata": {
    "deletable": false,
    "editable": false,
    "nbgrader": {
     "grade": false,
     "locked": true,
     "solution": false
    }
   },
   "source": [
    "d) Identify outliers using Cook's distance approach. Remove points having Cook's distance > 1. Rerun the model after the removal of these points and print the summary. (6 points)\n",
    "\n",
    "**Note:** Please build the same model structure as used on parts 1a-1b, but using the new dataset with outliers removed."
   ]
  },
  {
   "cell_type": "code",
   "execution_count": 42,
   "metadata": {
    "scrolled": false
   },
   "outputs": [
    {
     "data": {
      "image/png": "[encoded data removed]",
      "text/plain": [
       "Plot with title “Influential Obs by Cooks distance”"
      ]
     },
     "metadata": {},
     "output_type": "display_data"
    }
   ],
   "source": [
    "cooksd <- cooks.distance(model1)\n",
    "\n",
    "# Plot the Cook's Distance using the traditional 4/n criterion\n",
    "sample_size <- nrow(air)\n",
    "plot(cooksd, pch=\"*\", cex=2, main=\"Influential Obs by Cooks distance\")  # plot cook's distance\n",
    "abline(h = 4/sample_size, col=\"red\")  # add cutoff line\n",
    "text(x=1:length(cooksd)+1, y=cooksd, labels=ifelse(cooksd>4/sample_size, names(cooksd),\"\"), col=\"red\")  # add labels"
   ]
  },
  {
   "cell_type": "code",
   "execution_count": 46,
   "metadata": {},
   "outputs": [
    {
     "data": {
      "text/html": [
       "<dl class=dl-horizontal>\n",
       "\t<dt>94</dt>\n",
       "\t\t<dd>4.40906242898414</dd>\n",
       "\t<dt>95</dt>\n",
       "\t\t<dd>4.44749028137596</dd>\n",
       "\t<dt>96</dt>\n",
       "\t\t<dd>0.0984649072209859</dd>\n",
       "</dl>\n"
      ],
      "text/latex": [
       "\\begin{description*}\n",
       "\\item[94] 4.40906242898414\n",
       "\\item[95] 4.44749028137596\n",
       "\\item[96] 0.0984649072209859\n",
       "\\end{description*}\n"
      ],
      "text/markdown": [
       "94\n",
       ":   4.4090624289841495\n",
       ":   4.4474902813759696\n",
       ":   0.0984649072209859\n",
       "\n"
      ],
      "text/plain": [
       "        94         95         96 \n",
       "4.40906243 4.44749028 0.09846491 "
      ]
     },
     "metadata": {},
     "output_type": "display_data"
    }
   ],
   "source": [
    "cooksD <- cooks.distance(model1)\n",
    "influential <- cooksD[(cooksD > (3 * mean(cooksD, na.rm = TRUE)))]\n",
    "influential"
   ]
  },
  {
   "cell_type": "code",
   "execution_count": 54,
   "metadata": {},
   "outputs": [
    {
     "data": {
      "text/html": [
       "<ol class=list-inline>\n",
       "\t<li>'94'</li>\n",
       "\t<li>'95'</li>\n",
       "\t<li>'96'</li>\n",
       "</ol>\n"
      ],
      "text/latex": [
       "\\begin{enumerate*}\n",
       "\\item '94'\n",
       "\\item '95'\n",
       "\\item '96'\n",
       "\\end{enumerate*}\n"
      ],
      "text/markdown": [
       "1. '94'\n",
       "2. '95'\n",
       "3. '96'\n",
       "\n",
       "\n"
      ],
      "text/plain": [
       "[1] \"94\" \"95\" \"96\""
      ]
     },
     "metadata": {},
     "output_type": "display_data"
    },
    {
     "data": {
      "text/html": [
       "<table>\n",
       "<caption>A data.frame: 3 × 6</caption>\n",
       "<thead>\n",
       "\t<tr><th></th><th scope=col>room_type</th><th scope=col>reviews</th><th scope=col>overall_satisfaction</th><th scope=col>accommodates</th><th scope=col>bedrooms</th><th scope=col>price</th></tr>\n",
       "\t<tr><th></th><th scope=col>&lt;fct&gt;</th><th scope=col>&lt;int&gt;</th><th scope=col>&lt;dbl&gt;</th><th scope=col>&lt;int&gt;</th><th scope=col>&lt;int&gt;</th><th scope=col>&lt;int&gt;</th></tr>\n",
       "</thead>\n",
       "<tbody>\n",
       "\t<tr><th scope=row>94</th><td>Entire home/apt</td><td>26</td><td>5</td><td>16</td><td>10</td><td>3693</td></tr>\n",
       "\t<tr><th scope=row>95</th><td>Entire home/apt</td><td> 0</td><td>0</td><td>17</td><td> 7</td><td>4625</td></tr>\n",
       "\t<tr><th scope=row>96</th><td>Entire home/apt</td><td> 0</td><td>0</td><td>10</td><td> 5</td><td>1604</td></tr>\n",
       "</tbody>\n",
       "</table>\n"
      ],
      "text/latex": [
       "A data.frame: 3 × 6\n",
       "\\begin{tabular}{r|llllll}\n",
       "  & room\\_type & reviews & overall\\_satisfaction & accommodates & bedrooms & price\\\\\n",
       "  & <fct> & <int> & <dbl> & <int> & <int> & <int>\\\\\n",
       "\\hline\n",
       "\t94 & Entire home/apt & 26 & 5 & 16 & 10 & 3693\\\\\n",
       "\t95 & Entire home/apt &  0 & 0 & 17 &  7 & 4625\\\\\n",
       "\t96 & Entire home/apt &  0 & 0 & 10 &  5 & 1604\\\\\n",
       "\\end{tabular}\n"
      ],
      "text/markdown": [
       "\n",
       "A data.frame: 3 × 6\n",
       "\n",
       "| <!--/--> | room_type &lt;fct&gt; | reviews &lt;int&gt; | overall_satisfaction &lt;dbl&gt; | accommodates &lt;int&gt; | bedrooms &lt;int&gt; | price &lt;int&gt; |\n",
       "|---|---|---|---|---|---|---|\n",
       "| 94 | Entire home/apt | 26 | 5 | 16 | 10 | 3693 |\n",
       "| 95 | Entire home/apt |  0 | 0 | 17 |  7 | 4625 |\n",
       "| 96 | Entire home/apt |  0 | 0 | 10 |  5 | 1604 |\n",
       "\n"
      ],
      "text/plain": [
       "   room_type       reviews overall_satisfaction accommodates bedrooms price\n",
       "94 Entire home/apt 26      5                    16           10       3693 \n",
       "95 Entire home/apt  0      0                    17            7       4625 \n",
       "96 Entire home/apt  0      0                    10            5       1604 "
      ]
     },
     "metadata": {},
     "output_type": "display_data"
    }
   ],
   "source": [
    "names_of_influential <- names(influential)\n",
    "names_of_influential\n",
    "outliers <- air[names_of_influential,]\n",
    "outliers"
   ]
  },
  {
   "cell_type": "code",
   "execution_count": 48,
   "metadata": {
    "collapsed": true
   },
   "outputs": [
    {
     "name": "stderr",
     "output_type": "stream",
     "text": [
      "\n",
      "Attaching package: ‘dplyr’\n",
      "\n",
      "The following objects are masked from ‘package:stats’:\n",
      "\n",
      "    filter, lag\n",
      "\n",
      "The following objects are masked from ‘package:base’:\n",
      "\n",
      "    intersect, setdiff, setequal, union\n",
      "\n"
     ]
    }
   ],
   "source": [
    "library(dplyr) "
   ]
  },
  {
   "cell_type": "code",
   "execution_count": 51,
   "metadata": {},
   "outputs": [
    {
     "data": {
      "text/html": [
       "<table>\n",
       "<caption>A data.frame: 6 × 6</caption>\n",
       "<thead>\n",
       "\t<tr><th scope=col>room_type</th><th scope=col>reviews</th><th scope=col>overall_satisfaction</th><th scope=col>accommodates</th><th scope=col>bedrooms</th><th scope=col>price</th></tr>\n",
       "\t<tr><th scope=col>&lt;fct&gt;</th><th scope=col>&lt;int&gt;</th><th scope=col>&lt;dbl&gt;</th><th scope=col>&lt;int&gt;</th><th scope=col>&lt;int&gt;</th><th scope=col>&lt;int&gt;</th></tr>\n",
       "</thead>\n",
       "<tbody>\n",
       "\t<tr><td>Shared room</td><td>  0</td><td>0.0</td><td>4</td><td>1</td><td>91</td></tr>\n",
       "\t<tr><td>Shared room</td><td> 32</td><td>5.0</td><td>4</td><td>1</td><td>77</td></tr>\n",
       "\t<tr><td>Shared room</td><td>  4</td><td>4.5</td><td>2</td><td>1</td><td>35</td></tr>\n",
       "\t<tr><td>Shared room</td><td> 24</td><td>4.5</td><td>6</td><td>1</td><td>31</td></tr>\n",
       "\t<tr><td>Shared room</td><td>152</td><td>4.5</td><td>6</td><td>1</td><td>36</td></tr>\n",
       "\t<tr><td>Shared room</td><td> 20</td><td>4.5</td><td>4</td><td>1</td><td>29</td></tr>\n",
       "</tbody>\n",
       "</table>\n"
      ],
      "text/latex": [
       "A data.frame: 6 × 6\n",
       "\\begin{tabular}{r|llllll}\n",
       " room\\_type & reviews & overall\\_satisfaction & accommodates & bedrooms & price\\\\\n",
       " <fct> & <int> & <dbl> & <int> & <int> & <int>\\\\\n",
       "\\hline\n",
       "\t Shared room &   0 & 0.0 & 4 & 1 & 91\\\\\n",
       "\t Shared room &  32 & 5.0 & 4 & 1 & 77\\\\\n",
       "\t Shared room &   4 & 4.5 & 2 & 1 & 35\\\\\n",
       "\t Shared room &  24 & 4.5 & 6 & 1 & 31\\\\\n",
       "\t Shared room & 152 & 4.5 & 6 & 1 & 36\\\\\n",
       "\t Shared room &  20 & 4.5 & 4 & 1 & 29\\\\\n",
       "\\end{tabular}\n"
      ],
      "text/markdown": [
       "\n",
       "A data.frame: 6 × 6\n",
       "\n",
       "| room_type &lt;fct&gt; | reviews &lt;int&gt; | overall_satisfaction &lt;dbl&gt; | accommodates &lt;int&gt; | bedrooms &lt;int&gt; | price &lt;int&gt; |\n",
       "|---|---|---|---|---|---|\n",
       "| Shared room |   0 | 0.0 | 4 | 1 | 91 |\n",
       "| Shared room |  32 | 5.0 | 4 | 1 | 77 |\n",
       "| Shared room |   4 | 4.5 | 2 | 1 | 35 |\n",
       "| Shared room |  24 | 4.5 | 6 | 1 | 31 |\n",
       "| Shared room | 152 | 4.5 | 6 | 1 | 36 |\n",
       "| Shared room |  20 | 4.5 | 4 | 1 | 29 |\n",
       "\n"
      ],
      "text/plain": [
       "  room_type   reviews overall_satisfaction accommodates bedrooms price\n",
       "1 Shared room   0     0.0                  4            1        91   \n",
       "2 Shared room  32     5.0                  4            1        77   \n",
       "3 Shared room   4     4.5                  2            1        35   \n",
       "4 Shared room  24     4.5                  6            1        31   \n",
       "5 Shared room 152     4.5                  6            1        36   \n",
       "6 Shared room  20     4.5                  4            1        29   "
      ]
     },
     "metadata": {},
     "output_type": "display_data"
    }
   ],
   "source": [
    "head(air)"
   ]
  },
  {
   "cell_type": "code",
   "execution_count": 56,
   "metadata": {},
   "outputs": [
    {
     "name": "stderr",
     "output_type": "stream",
     "text": [
      "Joining, by = c(\"room_type\", \"reviews\", \"overall_satisfaction\", \"accommodates\", \"bedrooms\", \"price\")\n"
     ]
    },
    {
     "data": {
      "text/plain": [
       "\n",
       "Call:\n",
       "lm(formula = price ~ ., data = air_without_outliers)\n",
       "\n",
       "Residuals:\n",
       "    Min      1Q  Median      3Q     Max \n",
       "-216.58  -39.02  -11.70   21.53  728.50 \n",
       "\n",
       "Coefficients:\n",
       "                        Estimate Std. Error t value Pr(>|t|)    \n",
       "(Intercept)             84.17590   10.44241   8.061 2.58e-15 ***\n",
       "room_typePrivate room  -37.44775    6.17814  -6.061 2.03e-09 ***\n",
       "room_typeShared room  -104.53306   27.88889  -3.748 0.000190 ***\n",
       "reviews                 -0.08971    0.04647  -1.930 0.053883 .  \n",
       "overall_satisfaction    -5.42968    1.62409  -3.343 0.000865 ***\n",
       "accommodates            14.29884    2.46017   5.812 8.74e-09 ***\n",
       "bedrooms                30.18474    5.63556   5.356 1.10e-07 ***\n",
       "---\n",
       "Signif. codes:  0 ‘***’ 0.001 ‘**’ 0.01 ‘*’ 0.05 ‘.’ 0.1 ‘ ’ 1\n",
       "\n",
       "Residual standard error: 77.77 on 844 degrees of freedom\n",
       "Multiple R-squared:  0.3674,\tAdjusted R-squared:  0.3629 \n",
       "F-statistic: 81.71 on 6 and 844 DF,  p-value: < 2.2e-16\n"
      ]
     },
     "metadata": {},
     "output_type": "display_data"
    }
   ],
   "source": [
    "names_of_influential <- names(influential)\n",
    "outliers <- air[names_of_influential,]\n",
    "air_without_outliers <- air %>% anti_join(outliers)\n",
    "model2 <- lm(price ~ ., data = air_without_outliers)\n",
    "summary(model2)"
   ]
  },
  {
   "cell_type": "markdown",
   "metadata": {
    "deletable": false,
    "editable": false,
    "nbgrader": {
     "grade": false,
     "locked": true,
     "solution": false
    }
   },
   "source": [
    "e) Using the original dataset (not the one created in 1D) create another multiple linear regression model by removing the 'id' columns ('room_id', survery_id', 'host_id'), 'city', and 'room_type' from the Airbnb_data.csv dataset, run the vif function and calculate the vif value of the variable 'bedrooms' (3 points)"
   ]
  },
  {
   "cell_type": "code",
   "execution_count": 58,
   "metadata": {},
   "outputs": [
    {
     "data": {
      "text/html": [
       "<table>\n",
       "<caption>A data.frame: 6 × 5</caption>\n",
       "<thead>\n",
       "\t<tr><th scope=col>reviews</th><th scope=col>overall_satisfaction</th><th scope=col>accommodates</th><th scope=col>bedrooms</th><th scope=col>price</th></tr>\n",
       "\t<tr><th scope=col>&lt;int&gt;</th><th scope=col>&lt;dbl&gt;</th><th scope=col>&lt;int&gt;</th><th scope=col>&lt;int&gt;</th><th scope=col>&lt;int&gt;</th></tr>\n",
       "</thead>\n",
       "<tbody>\n",
       "\t<tr><td>  0</td><td>0.0</td><td>4</td><td>1</td><td>91</td></tr>\n",
       "\t<tr><td> 32</td><td>5.0</td><td>4</td><td>1</td><td>77</td></tr>\n",
       "\t<tr><td>  4</td><td>4.5</td><td>2</td><td>1</td><td>35</td></tr>\n",
       "\t<tr><td> 24</td><td>4.5</td><td>6</td><td>1</td><td>31</td></tr>\n",
       "\t<tr><td>152</td><td>4.5</td><td>6</td><td>1</td><td>36</td></tr>\n",
       "\t<tr><td> 20</td><td>4.5</td><td>4</td><td>1</td><td>29</td></tr>\n",
       "</tbody>\n",
       "</table>\n"
      ],
      "text/latex": [
       "A data.frame: 6 × 5\n",
       "\\begin{tabular}{r|lllll}\n",
       " reviews & overall\\_satisfaction & accommodates & bedrooms & price\\\\\n",
       " <int> & <dbl> & <int> & <int> & <int>\\\\\n",
       "\\hline\n",
       "\t   0 & 0.0 & 4 & 1 & 91\\\\\n",
       "\t  32 & 5.0 & 4 & 1 & 77\\\\\n",
       "\t   4 & 4.5 & 2 & 1 & 35\\\\\n",
       "\t  24 & 4.5 & 6 & 1 & 31\\\\\n",
       "\t 152 & 4.5 & 6 & 1 & 36\\\\\n",
       "\t  20 & 4.5 & 4 & 1 & 29\\\\\n",
       "\\end{tabular}\n"
      ],
      "text/markdown": [
       "\n",
       "A data.frame: 6 × 5\n",
       "\n",
       "| reviews &lt;int&gt; | overall_satisfaction &lt;dbl&gt; | accommodates &lt;int&gt; | bedrooms &lt;int&gt; | price &lt;int&gt; |\n",
       "|---|---|---|---|---|\n",
       "|   0 | 0.0 | 4 | 1 | 91 |\n",
       "|  32 | 5.0 | 4 | 1 | 77 |\n",
       "|   4 | 4.5 | 2 | 1 | 35 |\n",
       "|  24 | 4.5 | 6 | 1 | 31 |\n",
       "| 152 | 4.5 | 6 | 1 | 36 |\n",
       "|  20 | 4.5 | 4 | 1 | 29 |\n",
       "\n"
      ],
      "text/plain": [
       "  reviews overall_satisfaction accommodates bedrooms price\n",
       "1   0     0.0                  4            1        91   \n",
       "2  32     5.0                  4            1        77   \n",
       "3   4     4.5                  2            1        35   \n",
       "4  24     4.5                  6            1        31   \n",
       "5 152     4.5                  6            1        36   \n",
       "6  20     4.5                  4            1        29   "
      ]
     },
     "metadata": {},
     "output_type": "display_data"
    }
   ],
   "source": [
    "air<-air[,-1]\n",
    "head(air)"
   ]
  },
  {
   "cell_type": "code",
   "execution_count": 71,
   "metadata": {
    "collapsed": true
   },
   "outputs": [
    {
     "name": "stderr",
     "output_type": "stream",
     "text": [
      "Loading required package: carData\n",
      "\n",
      "Attaching package: ‘car’\n",
      "\n",
      "The following object is masked from ‘package:dplyr’:\n",
      "\n",
      "    recode\n",
      "\n"
     ]
    }
   ],
   "source": [
    "library(car)  "
   ]
  },
  {
   "cell_type": "code",
   "execution_count": 74,
   "metadata": {
    "scrolled": true
   },
   "outputs": [
    {
     "data": {
      "text/html": [
       "<strong>bedrooms:</strong> 2.7597457287341"
      ],
      "text/latex": [
       "\\textbf{bedrooms:} 2.7597457287341"
      ],
      "text/markdown": [
       "**bedrooms:** 2.7597457287341"
      ],
      "text/plain": [
       "bedrooms \n",
       "2.759746 "
      ]
     },
     "metadata": {},
     "output_type": "display_data"
    }
   ],
   "source": [
    "model3 <- lm(price~., data=air)\n",
    "vif_value <- vif(model3)[\"bedrooms\"]\n",
    "vif_value"
   ]
  },
  {
   "cell_type": "markdown",
   "metadata": {},
   "source": [
    "---"
   ]
  },
  {
   "cell_type": "markdown",
   "metadata": {
    "deletable": false,
    "editable": false,
    "nbgrader": {
     "grade": false,
     "locked": true,
     "solution": false
    }
   },
   "source": [
    "## Q2. Use the *\"direct_marketing.csv\"* provided and answer the following questions on Linear Regression:\n",
    "\n",
    "**Create indicator variables for the 'History' column. Considering the base case as None (i.e., create Low, Medium and High variables with 1 denoting the positive case and 0 the negative) and few additional variables LowSalary, MediumSalary and HighSalary based on the customer history type i.e., MediumSalary = Medium*Salary etc.**\n",
    "\n",
    "**Instruction: The dataset \"direct_marketing.csv\" can be accessed at the path: (\"../resource/asnlib/publicdata/direct_marketing.csv\")**\n"
   ]
  },
  {
   "cell_type": "markdown",
   "metadata": {
    "deletable": false,
    "editable": false,
    "nbgrader": {
     "grade": false,
     "locked": true,
     "solution": false
    }
   },
   "source": [
    "a) Fit a multiple linear regression model using 'AmountSpent' as the response variable and the indicator variables along with their salary variables as the predictors: (6 points)\n",
    "\n",
    "$$AmountSpent = \\beta_0 + \\beta_1Salary + \\beta_2Low + \\beta_3Medium + \\beta_4High + \\beta_5LowSalary + \\beta_6MediumSalary + \\beta_7HighSalary$$"
   ]
  },
  {
   "cell_type": "code",
   "execution_count": 48,
   "metadata": {},
   "outputs": [
    {
     "data": {
      "text/html": [
       "<table>\n",
       "<caption>A data.frame: 6 × 10</caption>\n",
       "<thead>\n",
       "\t<tr><th scope=col>Age</th><th scope=col>Gender</th><th scope=col>OwnHome</th><th scope=col>Married</th><th scope=col>Location</th><th scope=col>Salary</th><th scope=col>Children</th><th scope=col>History</th><th scope=col>Catalogs</th><th scope=col>AmountSpent</th></tr>\n",
       "\t<tr><th scope=col>&lt;fct&gt;</th><th scope=col>&lt;fct&gt;</th><th scope=col>&lt;fct&gt;</th><th scope=col>&lt;fct&gt;</th><th scope=col>&lt;fct&gt;</th><th scope=col>&lt;int&gt;</th><th scope=col>&lt;int&gt;</th><th scope=col>&lt;fct&gt;</th><th scope=col>&lt;int&gt;</th><th scope=col>&lt;dbl&gt;</th></tr>\n",
       "</thead>\n",
       "<tbody>\n",
       "\t<tr><td>Old   </td><td>Female</td><td>Own </td><td>Single </td><td>Far  </td><td> 59734</td><td>0</td><td>High</td><td> 6</td><td> 88.6</td></tr>\n",
       "\t<tr><td>Middle</td><td>Male  </td><td>Rent</td><td>Single </td><td>Close</td><td> 96798</td><td>0</td><td>High</td><td> 6</td><td>137.0</td></tr>\n",
       "\t<tr><td>Young </td><td>Female</td><td>Rent</td><td>Single </td><td>Close</td><td> 32380</td><td>0</td><td>Low </td><td>18</td><td> 91.1</td></tr>\n",
       "\t<tr><td>Middle</td><td>Male  </td><td>Own </td><td>Married</td><td>Close</td><td> 91406</td><td>1</td><td>High</td><td>18</td><td>249.9</td></tr>\n",
       "\t<tr><td>Middle</td><td>Female</td><td>Own </td><td>Single </td><td>Close</td><td>190178</td><td>0</td><td>High</td><td>12</td><td>168.8</td></tr>\n",
       "\t<tr><td>Young </td><td>Male  </td><td>Own </td><td>Married</td><td>Close</td><td> 37726</td><td>0</td><td>Low </td><td> 6</td><td> 57.4</td></tr>\n",
       "</tbody>\n",
       "</table>\n"
      ],
      "text/latex": [
       "A data.frame: 6 × 10\n",
       "\\begin{tabular}{r|llllllllll}\n",
       " Age & Gender & OwnHome & Married & Location & Salary & Children & History & Catalogs & AmountSpent\\\\\n",
       " <fct> & <fct> & <fct> & <fct> & <fct> & <int> & <int> & <fct> & <int> & <dbl>\\\\\n",
       "\\hline\n",
       "\t Old    & Female & Own  & Single  & Far   &  59734 & 0 & High &  6 &  88.6\\\\\n",
       "\t Middle & Male   & Rent & Single  & Close &  96798 & 0 & High &  6 & 137.0\\\\\n",
       "\t Young  & Female & Rent & Single  & Close &  32380 & 0 & Low  & 18 &  91.1\\\\\n",
       "\t Middle & Male   & Own  & Married & Close &  91406 & 1 & High & 18 & 249.9\\\\\n",
       "\t Middle & Female & Own  & Single  & Close & 190178 & 0 & High & 12 & 168.8\\\\\n",
       "\t Young  & Male   & Own  & Married & Close &  37726 & 0 & Low  &  6 &  57.4\\\\\n",
       "\\end{tabular}\n"
      ],
      "text/markdown": [
       "\n",
       "A data.frame: 6 × 10\n",
       "\n",
       "| Age &lt;fct&gt; | Gender &lt;fct&gt; | OwnHome &lt;fct&gt; | Married &lt;fct&gt; | Location &lt;fct&gt; | Salary &lt;int&gt; | Children &lt;int&gt; | History &lt;fct&gt; | Catalogs &lt;int&gt; | AmountSpent &lt;dbl&gt; |\n",
       "|---|---|---|---|---|---|---|---|---|---|\n",
       "| Old    | Female | Own  | Single  | Far   |  59734 | 0 | High |  6 |  88.6 |\n",
       "| Middle | Male   | Rent | Single  | Close |  96798 | 0 | High |  6 | 137.0 |\n",
       "| Young  | Female | Rent | Single  | Close |  32380 | 0 | Low  | 18 |  91.1 |\n",
       "| Middle | Male   | Own  | Married | Close |  91406 | 1 | High | 18 | 249.9 |\n",
       "| Middle | Female | Own  | Single  | Close | 190178 | 0 | High | 12 | 168.8 |\n",
       "| Young  | Male   | Own  | Married | Close |  37726 | 0 | Low  |  6 |  57.4 |\n",
       "\n"
      ],
      "text/plain": [
       "  Age    Gender OwnHome Married Location Salary Children History Catalogs\n",
       "1 Old    Female Own     Single  Far       59734 0        High     6      \n",
       "2 Middle Male   Rent    Single  Close     96798 0        High     6      \n",
       "3 Young  Female Rent    Single  Close     32380 0        Low     18      \n",
       "4 Middle Male   Own     Married Close     91406 1        High    18      \n",
       "5 Middle Female Own     Single  Close    190178 0        High    12      \n",
       "6 Young  Male   Own     Married Close     37726 0        Low      6      \n",
       "  AmountSpent\n",
       "1  88.6      \n",
       "2 137.0      \n",
       "3  91.1      \n",
       "4 249.9      \n",
       "5 168.8      \n",
       "6  57.4      "
      ]
     },
     "metadata": {},
     "output_type": "display_data"
    }
   ],
   "source": [
    "marketing <- read.csv(\"../resource/asnlib/publicdata/direct_marketing.csv\")\n",
    "head(marketing)"
   ]
  },
  {
   "cell_type": "code",
   "execution_count": 89,
   "metadata": {},
   "outputs": [
    {
     "data": {
      "text/html": [
       "<ol class=list-inline>\n",
       "\t<li>High</li>\n",
       "\t<li>Low</li>\n",
       "\t<li>Medium</li>\n",
       "\t<li>None</li>\n",
       "</ol>\n",
       "\n",
       "<details>\n",
       "\t<summary style=display:list-item;cursor:pointer>\n",
       "\t\t<strong>Levels</strong>:\n",
       "\t</summary>\n",
       "\t<ol class=list-inline>\n",
       "\t\t<li>'High'</li>\n",
       "\t\t<li>'Low'</li>\n",
       "\t\t<li>'Medium'</li>\n",
       "\t\t<li>'None'</li>\n",
       "\t</ol>\n",
       "</details>"
      ],
      "text/latex": [
       "\\begin{enumerate*}\n",
       "\\item High\n",
       "\\item Low\n",
       "\\item Medium\n",
       "\\item None\n",
       "\\end{enumerate*}\n",
       "\n",
       "\\emph{Levels}: \\begin{enumerate*}\n",
       "\\item 'High'\n",
       "\\item 'Low'\n",
       "\\item 'Medium'\n",
       "\\item 'None'\n",
       "\\end{enumerate*}\n"
      ],
      "text/markdown": [
       "1. High\n",
       "2. Low\n",
       "3. Medium\n",
       "4. None\n",
       "\n",
       "\n",
       "\n",
       "**Levels**: 1. 'High'\n",
       "2. 'Low'\n",
       "3. 'Medium'\n",
       "4. 'None'\n",
       "\n",
       "\n"
      ],
      "text/plain": [
       "[1] High   Low    Medium None  \n",
       "Levels: High Low Medium None"
      ]
     },
     "metadata": {},
     "output_type": "display_data"
    }
   ],
   "source": [
    "unique(marketing$History)"
   ]
  },
  {
   "cell_type": "code",
   "execution_count": 90,
   "metadata": {},
   "outputs": [
    {
     "data": {
      "text/html": [
       "<table>\n",
       "<caption>A data.frame: 6 × 14</caption>\n",
       "<thead>\n",
       "\t<tr><th scope=col>Age</th><th scope=col>Gender</th><th scope=col>OwnHome</th><th scope=col>Married</th><th scope=col>Location</th><th scope=col>Salary</th><th scope=col>Children</th><th scope=col>History</th><th scope=col>Catalogs</th><th scope=col>AmountSpent</th><th scope=col>column_valuesHigh</th><th scope=col>column_valuesLow</th><th scope=col>column_valuesMedium</th><th scope=col>column_valuesNone</th></tr>\n",
       "\t<tr><th scope=col>&lt;fct&gt;</th><th scope=col>&lt;fct&gt;</th><th scope=col>&lt;fct&gt;</th><th scope=col>&lt;fct&gt;</th><th scope=col>&lt;fct&gt;</th><th scope=col>&lt;int&gt;</th><th scope=col>&lt;int&gt;</th><th scope=col>&lt;fct&gt;</th><th scope=col>&lt;int&gt;</th><th scope=col>&lt;dbl&gt;</th><th scope=col>&lt;dbl&gt;</th><th scope=col>&lt;dbl&gt;</th><th scope=col>&lt;dbl&gt;</th><th scope=col>&lt;dbl&gt;</th></tr>\n",
       "</thead>\n",
       "<tbody>\n",
       "\t<tr><td>Old   </td><td>Female</td><td>Own </td><td>Single </td><td>Far  </td><td> 59734</td><td>0</td><td>High</td><td> 6</td><td> 88.6</td><td>1</td><td>0</td><td>0</td><td>0</td></tr>\n",
       "\t<tr><td>Middle</td><td>Male  </td><td>Rent</td><td>Single </td><td>Close</td><td> 96798</td><td>0</td><td>High</td><td> 6</td><td>137.0</td><td>1</td><td>0</td><td>0</td><td>0</td></tr>\n",
       "\t<tr><td>Young </td><td>Female</td><td>Rent</td><td>Single </td><td>Close</td><td> 32380</td><td>0</td><td>Low </td><td>18</td><td> 91.1</td><td>0</td><td>1</td><td>0</td><td>0</td></tr>\n",
       "\t<tr><td>Middle</td><td>Male  </td><td>Own </td><td>Married</td><td>Close</td><td> 91406</td><td>1</td><td>High</td><td>18</td><td>249.9</td><td>1</td><td>0</td><td>0</td><td>0</td></tr>\n",
       "\t<tr><td>Middle</td><td>Female</td><td>Own </td><td>Single </td><td>Close</td><td>190178</td><td>0</td><td>High</td><td>12</td><td>168.8</td><td>1</td><td>0</td><td>0</td><td>0</td></tr>\n",
       "\t<tr><td>Young </td><td>Male  </td><td>Own </td><td>Married</td><td>Close</td><td> 37726</td><td>0</td><td>Low </td><td> 6</td><td> 57.4</td><td>0</td><td>1</td><td>0</td><td>0</td></tr>\n",
       "</tbody>\n",
       "</table>\n"
      ],
      "text/latex": [
       "A data.frame: 6 × 14\n",
       "\\begin{tabular}{r|llllllllllllll}\n",
       " Age & Gender & OwnHome & Married & Location & Salary & Children & History & Catalogs & AmountSpent & column\\_valuesHigh & column\\_valuesLow & column\\_valuesMedium & column\\_valuesNone\\\\\n",
       " <fct> & <fct> & <fct> & <fct> & <fct> & <int> & <int> & <fct> & <int> & <dbl> & <dbl> & <dbl> & <dbl> & <dbl>\\\\\n",
       "\\hline\n",
       "\t Old    & Female & Own  & Single  & Far   &  59734 & 0 & High &  6 &  88.6 & 1 & 0 & 0 & 0\\\\\n",
       "\t Middle & Male   & Rent & Single  & Close &  96798 & 0 & High &  6 & 137.0 & 1 & 0 & 0 & 0\\\\\n",
       "\t Young  & Female & Rent & Single  & Close &  32380 & 0 & Low  & 18 &  91.1 & 0 & 1 & 0 & 0\\\\\n",
       "\t Middle & Male   & Own  & Married & Close &  91406 & 1 & High & 18 & 249.9 & 1 & 0 & 0 & 0\\\\\n",
       "\t Middle & Female & Own  & Single  & Close & 190178 & 0 & High & 12 & 168.8 & 1 & 0 & 0 & 0\\\\\n",
       "\t Young  & Male   & Own  & Married & Close &  37726 & 0 & Low  &  6 &  57.4 & 0 & 1 & 0 & 0\\\\\n",
       "\\end{tabular}\n"
      ],
      "text/markdown": [
       "\n",
       "A data.frame: 6 × 14\n",
       "\n",
       "| Age &lt;fct&gt; | Gender &lt;fct&gt; | OwnHome &lt;fct&gt; | Married &lt;fct&gt; | Location &lt;fct&gt; | Salary &lt;int&gt; | Children &lt;int&gt; | History &lt;fct&gt; | Catalogs &lt;int&gt; | AmountSpent &lt;dbl&gt; | column_valuesHigh &lt;dbl&gt; | column_valuesLow &lt;dbl&gt; | column_valuesMedium &lt;dbl&gt; | column_valuesNone &lt;dbl&gt; |\n",
       "|---|---|---|---|---|---|---|---|---|---|---|---|---|---|\n",
       "| Old    | Female | Own  | Single  | Far   |  59734 | 0 | High |  6 |  88.6 | 1 | 0 | 0 | 0 |\n",
       "| Middle | Male   | Rent | Single  | Close |  96798 | 0 | High |  6 | 137.0 | 1 | 0 | 0 | 0 |\n",
       "| Young  | Female | Rent | Single  | Close |  32380 | 0 | Low  | 18 |  91.1 | 0 | 1 | 0 | 0 |\n",
       "| Middle | Male   | Own  | Married | Close |  91406 | 1 | High | 18 | 249.9 | 1 | 0 | 0 | 0 |\n",
       "| Middle | Female | Own  | Single  | Close | 190178 | 0 | High | 12 | 168.8 | 1 | 0 | 0 | 0 |\n",
       "| Young  | Male   | Own  | Married | Close |  37726 | 0 | Low  |  6 |  57.4 | 0 | 1 | 0 | 0 |\n",
       "\n"
      ],
      "text/plain": [
       "  Age    Gender OwnHome Married Location Salary Children History Catalogs\n",
       "1 Old    Female Own     Single  Far       59734 0        High     6      \n",
       "2 Middle Male   Rent    Single  Close     96798 0        High     6      \n",
       "3 Young  Female Rent    Single  Close     32380 0        Low     18      \n",
       "4 Middle Male   Own     Married Close     91406 1        High    18      \n",
       "5 Middle Female Own     Single  Close    190178 0        High    12      \n",
       "6 Young  Male   Own     Married Close     37726 0        Low      6      \n",
       "  AmountSpent column_valuesHigh column_valuesLow column_valuesMedium\n",
       "1  88.6       1                 0                0                  \n",
       "2 137.0       1                 0                0                  \n",
       "3  91.1       0                 1                0                  \n",
       "4 249.9       1                 0                0                  \n",
       "5 168.8       1                 0                0                  \n",
       "6  57.4       0                 1                0                  \n",
       "  column_valuesNone\n",
       "1 0                \n",
       "2 0                \n",
       "3 0                \n",
       "4 0                \n",
       "5 0                \n",
       "6 0                "
      ]
     },
     "metadata": {},
     "output_type": "display_data"
    }
   ],
   "source": [
    "# Create indicator variable columns for the History column\n",
    "column_values <- marketing$History\n",
    "indicator_variables <- model.matrix(~ column_values - 1)\n",
    "df_with_indicators <- cbind(marketing, indicator_variables)\n",
    "head(df_with_indicators)"
   ]
  },
  {
   "cell_type": "code",
   "execution_count": 91,
   "metadata": {
    "collapsed": true
   },
   "outputs": [],
   "source": [
    "df_with_indicators$LowSalary=df_with_indicators$column_valuesLow*df_with_indicators$Salary\n",
    "df_with_indicators$MediumSalary=df_with_indicators$column_valuesMedium*df_with_indicators$Salary\n",
    "df_with_indicators$HighSalary=df_with_indicators$column_valuesHigh*df_with_indicators$Salary"
   ]
  },
  {
   "cell_type": "code",
   "execution_count": 92,
   "metadata": {},
   "outputs": [
    {
     "data": {
      "text/html": [
       "<table>\n",
       "<caption>A data.frame: 6 × 17</caption>\n",
       "<thead>\n",
       "\t<tr><th scope=col>Age</th><th scope=col>Gender</th><th scope=col>OwnHome</th><th scope=col>Married</th><th scope=col>Location</th><th scope=col>Salary</th><th scope=col>Children</th><th scope=col>History</th><th scope=col>Catalogs</th><th scope=col>AmountSpent</th><th scope=col>column_valuesHigh</th><th scope=col>column_valuesLow</th><th scope=col>column_valuesMedium</th><th scope=col>column_valuesNone</th><th scope=col>LowSalary</th><th scope=col>MediumSalary</th><th scope=col>HighSalary</th></tr>\n",
       "\t<tr><th scope=col>&lt;fct&gt;</th><th scope=col>&lt;fct&gt;</th><th scope=col>&lt;fct&gt;</th><th scope=col>&lt;fct&gt;</th><th scope=col>&lt;fct&gt;</th><th scope=col>&lt;int&gt;</th><th scope=col>&lt;int&gt;</th><th scope=col>&lt;fct&gt;</th><th scope=col>&lt;int&gt;</th><th scope=col>&lt;dbl&gt;</th><th scope=col>&lt;dbl&gt;</th><th scope=col>&lt;dbl&gt;</th><th scope=col>&lt;dbl&gt;</th><th scope=col>&lt;dbl&gt;</th><th scope=col>&lt;dbl&gt;</th><th scope=col>&lt;dbl&gt;</th><th scope=col>&lt;dbl&gt;</th></tr>\n",
       "</thead>\n",
       "<tbody>\n",
       "\t<tr><td>Old   </td><td>Female</td><td>Own </td><td>Single </td><td>Far  </td><td> 59734</td><td>0</td><td>High</td><td> 6</td><td> 88.6</td><td>1</td><td>0</td><td>0</td><td>0</td><td>    0</td><td>0</td><td> 59734</td></tr>\n",
       "\t<tr><td>Middle</td><td>Male  </td><td>Rent</td><td>Single </td><td>Close</td><td> 96798</td><td>0</td><td>High</td><td> 6</td><td>137.0</td><td>1</td><td>0</td><td>0</td><td>0</td><td>    0</td><td>0</td><td> 96798</td></tr>\n",
       "\t<tr><td>Young </td><td>Female</td><td>Rent</td><td>Single </td><td>Close</td><td> 32380</td><td>0</td><td>Low </td><td>18</td><td> 91.1</td><td>0</td><td>1</td><td>0</td><td>0</td><td>32380</td><td>0</td><td>     0</td></tr>\n",
       "\t<tr><td>Middle</td><td>Male  </td><td>Own </td><td>Married</td><td>Close</td><td> 91406</td><td>1</td><td>High</td><td>18</td><td>249.9</td><td>1</td><td>0</td><td>0</td><td>0</td><td>    0</td><td>0</td><td> 91406</td></tr>\n",
       "\t<tr><td>Middle</td><td>Female</td><td>Own </td><td>Single </td><td>Close</td><td>190178</td><td>0</td><td>High</td><td>12</td><td>168.8</td><td>1</td><td>0</td><td>0</td><td>0</td><td>    0</td><td>0</td><td>190178</td></tr>\n",
       "\t<tr><td>Young </td><td>Male  </td><td>Own </td><td>Married</td><td>Close</td><td> 37726</td><td>0</td><td>Low </td><td> 6</td><td> 57.4</td><td>0</td><td>1</td><td>0</td><td>0</td><td>37726</td><td>0</td><td>     0</td></tr>\n",
       "</tbody>\n",
       "</table>\n"
      ],
      "text/latex": [
       "A data.frame: 6 × 17\n",
       "\\begin{tabular}{r|lllllllllllllllll}\n",
       " Age & Gender & OwnHome & Married & Location & Salary & Children & History & Catalogs & AmountSpent & column\\_valuesHigh & column\\_valuesLow & column\\_valuesMedium & column\\_valuesNone & LowSalary & MediumSalary & HighSalary\\\\\n",
       " <fct> & <fct> & <fct> & <fct> & <fct> & <int> & <int> & <fct> & <int> & <dbl> & <dbl> & <dbl> & <dbl> & <dbl> & <dbl> & <dbl> & <dbl>\\\\\n",
       "\\hline\n",
       "\t Old    & Female & Own  & Single  & Far   &  59734 & 0 & High &  6 &  88.6 & 1 & 0 & 0 & 0 &     0 & 0 &  59734\\\\\n",
       "\t Middle & Male   & Rent & Single  & Close &  96798 & 0 & High &  6 & 137.0 & 1 & 0 & 0 & 0 &     0 & 0 &  96798\\\\\n",
       "\t Young  & Female & Rent & Single  & Close &  32380 & 0 & Low  & 18 &  91.1 & 0 & 1 & 0 & 0 & 32380 & 0 &      0\\\\\n",
       "\t Middle & Male   & Own  & Married & Close &  91406 & 1 & High & 18 & 249.9 & 1 & 0 & 0 & 0 &     0 & 0 &  91406\\\\\n",
       "\t Middle & Female & Own  & Single  & Close & 190178 & 0 & High & 12 & 168.8 & 1 & 0 & 0 & 0 &     0 & 0 & 190178\\\\\n",
       "\t Young  & Male   & Own  & Married & Close &  37726 & 0 & Low  &  6 &  57.4 & 0 & 1 & 0 & 0 & 37726 & 0 &      0\\\\\n",
       "\\end{tabular}\n"
      ],
      "text/markdown": [
       "\n",
       "A data.frame: 6 × 17\n",
       "\n",
       "| Age &lt;fct&gt; | Gender &lt;fct&gt; | OwnHome &lt;fct&gt; | Married &lt;fct&gt; | Location &lt;fct&gt; | Salary &lt;int&gt; | Children &lt;int&gt; | History &lt;fct&gt; | Catalogs &lt;int&gt; | AmountSpent &lt;dbl&gt; | column_valuesHigh &lt;dbl&gt; | column_valuesLow &lt;dbl&gt; | column_valuesMedium &lt;dbl&gt; | column_valuesNone &lt;dbl&gt; | LowSalary &lt;dbl&gt; | MediumSalary &lt;dbl&gt; | HighSalary &lt;dbl&gt; |\n",
       "|---|---|---|---|---|---|---|---|---|---|---|---|---|---|---|---|---|\n",
       "| Old    | Female | Own  | Single  | Far   |  59734 | 0 | High |  6 |  88.6 | 1 | 0 | 0 | 0 |     0 | 0 |  59734 |\n",
       "| Middle | Male   | Rent | Single  | Close |  96798 | 0 | High |  6 | 137.0 | 1 | 0 | 0 | 0 |     0 | 0 |  96798 |\n",
       "| Young  | Female | Rent | Single  | Close |  32380 | 0 | Low  | 18 |  91.1 | 0 | 1 | 0 | 0 | 32380 | 0 |      0 |\n",
       "| Middle | Male   | Own  | Married | Close |  91406 | 1 | High | 18 | 249.9 | 1 | 0 | 0 | 0 |     0 | 0 |  91406 |\n",
       "| Middle | Female | Own  | Single  | Close | 190178 | 0 | High | 12 | 168.8 | 1 | 0 | 0 | 0 |     0 | 0 | 190178 |\n",
       "| Young  | Male   | Own  | Married | Close |  37726 | 0 | Low  |  6 |  57.4 | 0 | 1 | 0 | 0 | 37726 | 0 |      0 |\n",
       "\n"
      ],
      "text/plain": [
       "  Age    Gender OwnHome Married Location Salary Children History Catalogs\n",
       "1 Old    Female Own     Single  Far       59734 0        High     6      \n",
       "2 Middle Male   Rent    Single  Close     96798 0        High     6      \n",
       "3 Young  Female Rent    Single  Close     32380 0        Low     18      \n",
       "4 Middle Male   Own     Married Close     91406 1        High    18      \n",
       "5 Middle Female Own     Single  Close    190178 0        High    12      \n",
       "6 Young  Male   Own     Married Close     37726 0        Low      6      \n",
       "  AmountSpent column_valuesHigh column_valuesLow column_valuesMedium\n",
       "1  88.6       1                 0                0                  \n",
       "2 137.0       1                 0                0                  \n",
       "3  91.1       0                 1                0                  \n",
       "4 249.9       1                 0                0                  \n",
       "5 168.8       1                 0                0                  \n",
       "6  57.4       0                 1                0                  \n",
       "  column_valuesNone LowSalary MediumSalary HighSalary\n",
       "1 0                     0     0             59734    \n",
       "2 0                     0     0             96798    \n",
       "3 0                 32380     0                 0    \n",
       "4 0                     0     0             91406    \n",
       "5 0                     0     0            190178    \n",
       "6 0                 37726     0                 0    "
      ]
     },
     "metadata": {},
     "output_type": "display_data"
    }
   ],
   "source": [
    "head(df_with_indicators)"
   ]
  },
  {
   "cell_type": "code",
   "execution_count": 94,
   "metadata": {},
   "outputs": [
    {
     "data": {
      "text/plain": [
       "\n",
       "Call:\n",
       "lm(formula = AmountSpent ~ Salary + column_valuesLow + column_valuesMedium + \n",
       "    column_valuesHigh + LowSalary + MediumSalary + HighSalary, \n",
       "    data = df_with_indicators)\n",
       "\n",
       "Residuals:\n",
       "   Min     1Q Median     3Q    Max \n",
       "-176.7  -63.0  -33.7    9.1 6715.3 \n",
       "\n",
       "Coefficients:\n",
       "                      Estimate Std. Error t value Pr(>|t|)    \n",
       "(Intercept)          1.816e+02  1.474e+01  12.315  < 2e-16 ***\n",
       "Salary               4.899e-06  8.050e-06   0.608 0.542997    \n",
       "column_valuesLow    -1.060e+02  2.247e+01  -4.720  2.7e-06 ***\n",
       "column_valuesMedium -4.157e+01  2.638e+01  -1.576 0.115405    \n",
       "column_valuesHigh    7.315e+01  2.210e+01   3.311 0.000964 ***\n",
       "LowSalary            4.327e-05  1.563e-05   2.769 0.005727 ** \n",
       "MediumSalary        -2.547e-05  1.429e-04  -0.178 0.858532    \n",
       "HighSalary          -5.916e-06  2.170e-05  -0.273 0.785201    \n",
       "---\n",
       "Signif. codes:  0 ‘***’ 0.001 ‘**’ 0.01 ‘*’ 0.05 ‘.’ 0.1 ‘ ’ 1\n",
       "\n",
       "Residual standard error: 255.3 on 992 degrees of freedom\n",
       "Multiple R-squared:  0.06774,\tAdjusted R-squared:  0.06117 \n",
       "F-statistic:  10.3 on 7 and 992 DF,  p-value: 1.651e-12\n"
      ]
     },
     "metadata": {},
     "output_type": "display_data"
    }
   ],
   "source": [
    "model <- lm(AmountSpent~Salary+column_valuesLow+column_valuesMedium+column_valuesHigh+LowSalary+MediumSalary+HighSalary, data = df_with_indicators)\n",
    "summary(model)"
   ]
  },
  {
   "cell_type": "code",
   "execution_count": null,
   "metadata": {
    "collapsed": true
   },
   "outputs": [],
   "source": [
    "# Specify the base level (e.g., 'Category1') using the 'relevel()' function\n",
    "marketing$History <- relevel(marketing$History, ref = \"None\")\n",
    "\n",
    "# Fit the logistic regression model\n",
    "model <- glm(Survived ~ PClass, data = titanic, family = binomial)\n",
    "\n",
    "# Print the model summary\n",
    "summary(model)"
   ]
  },
  {
   "cell_type": "markdown",
   "metadata": {
    "deletable": false,
    "editable": false,
    "nbgrader": {
     "grade": false,
     "locked": true,
     "solution": false
    }
   },
   "source": [
    "b) What is the amount spent by a customer for each historic type (None, Low, Medium, and High) provided their salary is $15,000 based on the model constructed in part a? (6 points)\n",
    "    \n",
    "    \n",
    "    \n",
    "    \n",
    "    "
   ]
  },
  {
   "cell_type": "code",
   "execution_count": 7,
   "metadata": {
    "collapsed": true
   },
   "outputs": [],
   "source": [
    "None: 181.67\n",
    "Low:\n",
    "Medium:\n",
    "High:"
   ]
  },
  {
   "cell_type": "markdown",
   "metadata": {},
   "source": [
    "---"
   ]
  },
  {
   "cell_type": "markdown",
   "metadata": {
    "deletable": false,
    "editable": false,
    "nbgrader": {
     "grade": false,
     "locked": true,
     "solution": false
    }
   },
   "source": [
    "## Question 3 Use the *\"airbnb_data.csv\"* provided and answer the following questions on Linear Regression.  DO NOT remove outliers from the dataset:  Perform Log transformation for the variables price and overall_satisfaction, make necessary transformations suggested in the class.\n",
    "\n",
    "**Instruction: The dataset \"airbnb_data.csv\" can be accessed at the path: (\"../resource/asnlib/publicdata/airbnb_data.csv\")**"
   ]
  },
  {
   "cell_type": "markdown",
   "metadata": {
    "deletable": false,
    "editable": false,
    "nbgrader": {
     "grade": false,
     "locked": true,
     "solution": false
    }
   },
   "source": [
    "a) Fit all four models i.e., linear-linear, linear-log, log-linear and log-log regression models using price as the response variable and overall_satisfaction as the predictor.  (Note: Because overall_satisfaction contains ‘0’ values, you will need to use log(x+1) transformations instead of log(x) transformations) (6 points)"
   ]
  },
  {
   "cell_type": "code",
   "execution_count": 18,
   "metadata": {},
   "outputs": [
    {
     "data": {
      "text/html": [
       "<table>\n",
       "<caption>A data.frame: 6 × 10</caption>\n",
       "<thead>\n",
       "\t<tr><th scope=col>room_id</th><th scope=col>survey_id</th><th scope=col>host_id</th><th scope=col>room_type</th><th scope=col>city</th><th scope=col>reviews</th><th scope=col>overall_satisfaction</th><th scope=col>accommodates</th><th scope=col>bedrooms</th><th scope=col>price</th></tr>\n",
       "\t<tr><th scope=col>&lt;int&gt;</th><th scope=col>&lt;int&gt;</th><th scope=col>&lt;int&gt;</th><th scope=col>&lt;fct&gt;</th><th scope=col>&lt;fct&gt;</th><th scope=col>&lt;int&gt;</th><th scope=col>&lt;dbl&gt;</th><th scope=col>&lt;int&gt;</th><th scope=col>&lt;int&gt;</th><th scope=col>&lt;int&gt;</th></tr>\n",
       "</thead>\n",
       "<tbody>\n",
       "\t<tr><td>15771735</td><td>1498</td><td>101992409</td><td>Shared room</td><td>Asheville</td><td>  0</td><td>0.0</td><td>4</td><td>1</td><td>91</td></tr>\n",
       "\t<tr><td>18284194</td><td>1498</td><td>126414164</td><td>Shared room</td><td>Asheville</td><td> 32</td><td>5.0</td><td>4</td><td>1</td><td>77</td></tr>\n",
       "\t<tr><td>18091012</td><td>1498</td><td>122380971</td><td>Shared room</td><td>Asheville</td><td>  4</td><td>4.5</td><td>2</td><td>1</td><td>35</td></tr>\n",
       "\t<tr><td>12286328</td><td>1498</td><td>   746673</td><td>Shared room</td><td>Asheville</td><td> 24</td><td>4.5</td><td>6</td><td>1</td><td>31</td></tr>\n",
       "\t<tr><td>  156926</td><td>1498</td><td>   746673</td><td>Shared room</td><td>Asheville</td><td>152</td><td>4.5</td><td>6</td><td>1</td><td>36</td></tr>\n",
       "\t<tr><td>12989718</td><td>1498</td><td>   746673</td><td>Shared room</td><td>Asheville</td><td> 20</td><td>4.5</td><td>4</td><td>1</td><td>29</td></tr>\n",
       "</tbody>\n",
       "</table>\n"
      ],
      "text/latex": [
       "A data.frame: 6 × 10\n",
       "\\begin{tabular}{r|llllllllll}\n",
       " room\\_id & survey\\_id & host\\_id & room\\_type & city & reviews & overall\\_satisfaction & accommodates & bedrooms & price\\\\\n",
       " <int> & <int> & <int> & <fct> & <fct> & <int> & <dbl> & <int> & <int> & <int>\\\\\n",
       "\\hline\n",
       "\t 15771735 & 1498 & 101992409 & Shared room & Asheville &   0 & 0.0 & 4 & 1 & 91\\\\\n",
       "\t 18284194 & 1498 & 126414164 & Shared room & Asheville &  32 & 5.0 & 4 & 1 & 77\\\\\n",
       "\t 18091012 & 1498 & 122380971 & Shared room & Asheville &   4 & 4.5 & 2 & 1 & 35\\\\\n",
       "\t 12286328 & 1498 &    746673 & Shared room & Asheville &  24 & 4.5 & 6 & 1 & 31\\\\\n",
       "\t   156926 & 1498 &    746673 & Shared room & Asheville & 152 & 4.5 & 6 & 1 & 36\\\\\n",
       "\t 12989718 & 1498 &    746673 & Shared room & Asheville &  20 & 4.5 & 4 & 1 & 29\\\\\n",
       "\\end{tabular}\n"
      ],
      "text/markdown": [
       "\n",
       "A data.frame: 6 × 10\n",
       "\n",
       "| room_id &lt;int&gt; | survey_id &lt;int&gt; | host_id &lt;int&gt; | room_type &lt;fct&gt; | city &lt;fct&gt; | reviews &lt;int&gt; | overall_satisfaction &lt;dbl&gt; | accommodates &lt;int&gt; | bedrooms &lt;int&gt; | price &lt;int&gt; |\n",
       "|---|---|---|---|---|---|---|---|---|---|\n",
       "| 15771735 | 1498 | 101992409 | Shared room | Asheville |   0 | 0.0 | 4 | 1 | 91 |\n",
       "| 18284194 | 1498 | 126414164 | Shared room | Asheville |  32 | 5.0 | 4 | 1 | 77 |\n",
       "| 18091012 | 1498 | 122380971 | Shared room | Asheville |   4 | 4.5 | 2 | 1 | 35 |\n",
       "| 12286328 | 1498 |    746673 | Shared room | Asheville |  24 | 4.5 | 6 | 1 | 31 |\n",
       "|   156926 | 1498 |    746673 | Shared room | Asheville | 152 | 4.5 | 6 | 1 | 36 |\n",
       "| 12989718 | 1498 |    746673 | Shared room | Asheville |  20 | 4.5 | 4 | 1 | 29 |\n",
       "\n"
      ],
      "text/plain": [
       "  room_id  survey_id host_id   room_type   city      reviews\n",
       "1 15771735 1498      101992409 Shared room Asheville   0    \n",
       "2 18284194 1498      126414164 Shared room Asheville  32    \n",
       "3 18091012 1498      122380971 Shared room Asheville   4    \n",
       "4 12286328 1498         746673 Shared room Asheville  24    \n",
       "5   156926 1498         746673 Shared room Asheville 152    \n",
       "6 12989718 1498         746673 Shared room Asheville  20    \n",
       "  overall_satisfaction accommodates bedrooms price\n",
       "1 0.0                  4            1        91   \n",
       "2 5.0                  4            1        77   \n",
       "3 4.5                  2            1        35   \n",
       "4 4.5                  6            1        31   \n",
       "5 4.5                  6            1        36   \n",
       "6 4.5                  4            1        29   "
      ]
     },
     "metadata": {},
     "output_type": "display_data"
    }
   ],
   "source": [
    "air <- read.csv(\"../resource/asnlib/publicdata/airbnb_data.csv\")\n",
    "head(air)"
   ]
  },
  {
   "cell_type": "markdown",
   "metadata": {},
   "source": [
    "Using price as the response variable and overall_satisfaction as the predictor."
   ]
  },
  {
   "cell_type": "code",
   "execution_count": 19,
   "metadata": {},
   "outputs": [],
   "source": [
    "df <- air\n",
    "y <- air$price\n",
    "x <- air$overall_satisfaction"
   ]
  },
  {
   "cell_type": "code",
   "execution_count": 24,
   "metadata": {
    "collapsed": true
   },
   "outputs": [],
   "source": [
    "# Convert variables to numeric\n",
    "df$overall_satisfaction <- as.numeric(df$overall_satisfaction)"
   ]
  },
  {
   "cell_type": "code",
   "execution_count": 27,
   "metadata": {},
   "outputs": [
    {
     "data": {
      "text/html": [
       "<ol class=list-inline>\n",
       "\t<li>1</li>\n",
       "\t<li>16</li>\n",
       "\t<li>21</li>\n",
       "\t<li>25</li>\n",
       "\t<li>26</li>\n",
       "\t<li>27</li>\n",
       "\t<li>30</li>\n",
       "\t<li>35</li>\n",
       "\t<li>39</li>\n",
       "\t<li>43</li>\n",
       "\t<li>49</li>\n",
       "\t<li>54</li>\n",
       "\t<li>73</li>\n",
       "\t<li>77</li>\n",
       "\t<li>95</li>\n",
       "\t<li>96</li>\n",
       "\t<li>97</li>\n",
       "\t<li>98</li>\n",
       "\t<li>99</li>\n",
       "\t<li>101</li>\n",
       "\t<li>102</li>\n",
       "\t<li>103</li>\n",
       "\t<li>107</li>\n",
       "\t<li>113</li>\n",
       "\t<li>119</li>\n",
       "\t<li>121</li>\n",
       "\t<li>122</li>\n",
       "\t<li>124</li>\n",
       "\t<li>125</li>\n",
       "\t<li>126</li>\n",
       "\t<li>128</li>\n",
       "\t<li>137</li>\n",
       "\t<li>147</li>\n",
       "\t<li>164</li>\n",
       "\t<li>173</li>\n",
       "\t<li>175</li>\n",
       "\t<li>186</li>\n",
       "\t<li>194</li>\n",
       "\t<li>207</li>\n",
       "\t<li>225</li>\n",
       "\t<li>228</li>\n",
       "\t<li>239</li>\n",
       "\t<li>240</li>\n",
       "\t<li>257</li>\n",
       "\t<li>258</li>\n",
       "\t<li>261</li>\n",
       "\t<li>270</li>\n",
       "\t<li>281</li>\n",
       "\t<li>282</li>\n",
       "\t<li>283</li>\n",
       "\t<li>296</li>\n",
       "\t<li>298</li>\n",
       "\t<li>329</li>\n",
       "\t<li>345</li>\n",
       "\t<li>374</li>\n",
       "\t<li>393</li>\n",
       "\t<li>398</li>\n",
       "\t<li>403</li>\n",
       "\t<li>405</li>\n",
       "\t<li>421</li>\n",
       "\t<li>428</li>\n",
       "\t<li>470</li>\n",
       "\t<li>473</li>\n",
       "\t<li>477</li>\n",
       "\t<li>478</li>\n",
       "\t<li>482</li>\n",
       "\t<li>487</li>\n",
       "\t<li>499</li>\n",
       "\t<li>503</li>\n",
       "\t<li>512</li>\n",
       "\t<li>513</li>\n",
       "\t<li>524</li>\n",
       "\t<li>529</li>\n",
       "\t<li>530</li>\n",
       "\t<li>531</li>\n",
       "\t<li>532</li>\n",
       "\t<li>533</li>\n",
       "\t<li>534</li>\n",
       "\t<li>535</li>\n",
       "\t<li>536</li>\n",
       "\t<li>539</li>\n",
       "\t<li>541</li>\n",
       "\t<li>543</li>\n",
       "\t<li>544</li>\n",
       "\t<li>564</li>\n",
       "\t<li>567</li>\n",
       "\t<li>568</li>\n",
       "\t<li>569</li>\n",
       "\t<li>570</li>\n",
       "\t<li>587</li>\n",
       "\t<li>588</li>\n",
       "\t<li>593</li>\n",
       "\t<li>602</li>\n",
       "\t<li>605</li>\n",
       "\t<li>611</li>\n",
       "\t<li>612</li>\n",
       "\t<li>614</li>\n",
       "\t<li>626</li>\n",
       "\t<li>636</li>\n",
       "\t<li>669</li>\n",
       "\t<li>672</li>\n",
       "\t<li>681</li>\n",
       "\t<li>682</li>\n",
       "\t<li>683</li>\n",
       "\t<li>687</li>\n",
       "\t<li>690</li>\n",
       "\t<li>695</li>\n",
       "\t<li>700</li>\n",
       "\t<li>704</li>\n",
       "\t<li>707</li>\n",
       "\t<li>710</li>\n",
       "\t<li>715</li>\n",
       "\t<li>722</li>\n",
       "\t<li>727</li>\n",
       "\t<li>730</li>\n",
       "\t<li>739</li>\n",
       "\t<li>740</li>\n",
       "\t<li>744</li>\n",
       "\t<li>785</li>\n",
       "\t<li>798</li>\n",
       "\t<li>801</li>\n",
       "\t<li>825</li>\n",
       "\t<li>826</li>\n",
       "\t<li>829</li>\n",
       "\t<li>835</li>\n",
       "\t<li>838</li>\n",
       "\t<li>841</li>\n",
       "</ol>\n"
      ],
      "text/latex": [
       "\\begin{enumerate*}\n",
       "\\item 1\n",
       "\\item 16\n",
       "\\item 21\n",
       "\\item 25\n",
       "\\item 26\n",
       "\\item 27\n",
       "\\item 30\n",
       "\\item 35\n",
       "\\item 39\n",
       "\\item 43\n",
       "\\item 49\n",
       "\\item 54\n",
       "\\item 73\n",
       "\\item 77\n",
       "\\item 95\n",
       "\\item 96\n",
       "\\item 97\n",
       "\\item 98\n",
       "\\item 99\n",
       "\\item 101\n",
       "\\item 102\n",
       "\\item 103\n",
       "\\item 107\n",
       "\\item 113\n",
       "\\item 119\n",
       "\\item 121\n",
       "\\item 122\n",
       "\\item 124\n",
       "\\item 125\n",
       "\\item 126\n",
       "\\item 128\n",
       "\\item 137\n",
       "\\item 147\n",
       "\\item 164\n",
       "\\item 173\n",
       "\\item 175\n",
       "\\item 186\n",
       "\\item 194\n",
       "\\item 207\n",
       "\\item 225\n",
       "\\item 228\n",
       "\\item 239\n",
       "\\item 240\n",
       "\\item 257\n",
       "\\item 258\n",
       "\\item 261\n",
       "\\item 270\n",
       "\\item 281\n",
       "\\item 282\n",
       "\\item 283\n",
       "\\item 296\n",
       "\\item 298\n",
       "\\item 329\n",
       "\\item 345\n",
       "\\item 374\n",
       "\\item 393\n",
       "\\item 398\n",
       "\\item 403\n",
       "\\item 405\n",
       "\\item 421\n",
       "\\item 428\n",
       "\\item 470\n",
       "\\item 473\n",
       "\\item 477\n",
       "\\item 478\n",
       "\\item 482\n",
       "\\item 487\n",
       "\\item 499\n",
       "\\item 503\n",
       "\\item 512\n",
       "\\item 513\n",
       "\\item 524\n",
       "\\item 529\n",
       "\\item 530\n",
       "\\item 531\n",
       "\\item 532\n",
       "\\item 533\n",
       "\\item 534\n",
       "\\item 535\n",
       "\\item 536\n",
       "\\item 539\n",
       "\\item 541\n",
       "\\item 543\n",
       "\\item 544\n",
       "\\item 564\n",
       "\\item 567\n",
       "\\item 568\n",
       "\\item 569\n",
       "\\item 570\n",
       "\\item 587\n",
       "\\item 588\n",
       "\\item 593\n",
       "\\item 602\n",
       "\\item 605\n",
       "\\item 611\n",
       "\\item 612\n",
       "\\item 614\n",
       "\\item 626\n",
       "\\item 636\n",
       "\\item 669\n",
       "\\item 672\n",
       "\\item 681\n",
       "\\item 682\n",
       "\\item 683\n",
       "\\item 687\n",
       "\\item 690\n",
       "\\item 695\n",
       "\\item 700\n",
       "\\item 704\n",
       "\\item 707\n",
       "\\item 710\n",
       "\\item 715\n",
       "\\item 722\n",
       "\\item 727\n",
       "\\item 730\n",
       "\\item 739\n",
       "\\item 740\n",
       "\\item 744\n",
       "\\item 785\n",
       "\\item 798\n",
       "\\item 801\n",
       "\\item 825\n",
       "\\item 826\n",
       "\\item 829\n",
       "\\item 835\n",
       "\\item 838\n",
       "\\item 841\n",
       "\\end{enumerate*}\n"
      ],
      "text/markdown": [
       "1. 1\n",
       "2. 16\n",
       "3. 21\n",
       "4. 25\n",
       "5. 26\n",
       "6. 27\n",
       "7. 30\n",
       "8. 35\n",
       "9. 39\n",
       "10. 43\n",
       "11. 49\n",
       "12. 54\n",
       "13. 73\n",
       "14. 77\n",
       "15. 95\n",
       "16. 96\n",
       "17. 97\n",
       "18. 98\n",
       "19. 99\n",
       "20. 101\n",
       "21. 102\n",
       "22. 103\n",
       "23. 107\n",
       "24. 113\n",
       "25. 119\n",
       "26. 121\n",
       "27. 122\n",
       "28. 124\n",
       "29. 125\n",
       "30. 126\n",
       "31. 128\n",
       "32. 137\n",
       "33. 147\n",
       "34. 164\n",
       "35. 173\n",
       "36. 175\n",
       "37. 186\n",
       "38. 194\n",
       "39. 207\n",
       "40. 225\n",
       "41. 228\n",
       "42. 239\n",
       "43. 240\n",
       "44. 257\n",
       "45. 258\n",
       "46. 261\n",
       "47. 270\n",
       "48. 281\n",
       "49. 282\n",
       "50. 283\n",
       "51. 296\n",
       "52. 298\n",
       "53. 329\n",
       "54. 345\n",
       "55. 374\n",
       "56. 393\n",
       "57. 398\n",
       "58. 403\n",
       "59. 405\n",
       "60. 421\n",
       "61. 428\n",
       "62. 470\n",
       "63. 473\n",
       "64. 477\n",
       "65. 478\n",
       "66. 482\n",
       "67. 487\n",
       "68. 499\n",
       "69. 503\n",
       "70. 512\n",
       "71. 513\n",
       "72. 524\n",
       "73. 529\n",
       "74. 530\n",
       "75. 531\n",
       "76. 532\n",
       "77. 533\n",
       "78. 534\n",
       "79. 535\n",
       "80. 536\n",
       "81. 539\n",
       "82. 541\n",
       "83. 543\n",
       "84. 544\n",
       "85. 564\n",
       "86. 567\n",
       "87. 568\n",
       "88. 569\n",
       "89. 570\n",
       "90. 587\n",
       "91. 588\n",
       "92. 593\n",
       "93. 602\n",
       "94. 605\n",
       "95. 611\n",
       "96. 612\n",
       "97. 614\n",
       "98. 626\n",
       "99. 636\n",
       "100. 669\n",
       "101. 672\n",
       "102. 681\n",
       "103. 682\n",
       "104. 683\n",
       "105. 687\n",
       "106. 690\n",
       "107. 695\n",
       "108. 700\n",
       "109. 704\n",
       "110. 707\n",
       "111. 710\n",
       "112. 715\n",
       "113. 722\n",
       "114. 727\n",
       "115. 730\n",
       "116. 739\n",
       "117. 740\n",
       "118. 744\n",
       "119. 785\n",
       "120. 798\n",
       "121. 801\n",
       "122. 825\n",
       "123. 826\n",
       "124. 829\n",
       "125. 835\n",
       "126. 838\n",
       "127. 841\n",
       "\n",
       "\n"
      ],
      "text/plain": [
       "  [1]   1  16  21  25  26  27  30  35  39  43  49  54  73  77  95  96  97  98\n",
       " [19]  99 101 102 103 107 113 119 121 122 124 125 126 128 137 147 164 173 175\n",
       " [37] 186 194 207 225 228 239 240 257 258 261 270 281 282 283 296 298 329 345\n",
       " [55] 374 393 398 403 405 421 428 470 473 477 478 482 487 499 503 512 513 524\n",
       " [73] 529 530 531 532 533 534 535 536 539 541 543 544 564 567 568 569 570 587\n",
       " [91] 588 593 602 605 611 612 614 626 636 669 672 681 682 683 687 690 695 700\n",
       "[109] 704 707 710 715 722 727 730 739 740 744 785 798 801 825 826 829 835 838\n",
       "[127] 841"
      ]
     },
     "metadata": {},
     "output_type": "display_data"
    }
   ],
   "source": [
    "zero_or_negative_indices <- which(df$overall_satisfaction <= 0)\n",
    "zero_or_negative_indices"
   ]
  },
  {
   "cell_type": "code",
   "execution_count": 28,
   "metadata": {},
   "outputs": [
    {
     "data": {
      "text/html": [
       "<ol class=list-inline>\n",
       "\t<li>0</li>\n",
       "\t<li>0</li>\n",
       "\t<li>0</li>\n",
       "\t<li>0</li>\n",
       "\t<li>0</li>\n",
       "\t<li>0</li>\n",
       "\t<li>0</li>\n",
       "\t<li>0</li>\n",
       "\t<li>0</li>\n",
       "\t<li>0</li>\n",
       "\t<li>0</li>\n",
       "\t<li>0</li>\n",
       "\t<li>0</li>\n",
       "\t<li>0</li>\n",
       "\t<li>0</li>\n",
       "\t<li>0</li>\n",
       "\t<li>0</li>\n",
       "\t<li>0</li>\n",
       "\t<li>0</li>\n",
       "\t<li>0</li>\n",
       "\t<li>0</li>\n",
       "\t<li>0</li>\n",
       "\t<li>0</li>\n",
       "\t<li>0</li>\n",
       "\t<li>0</li>\n",
       "\t<li>0</li>\n",
       "\t<li>0</li>\n",
       "\t<li>0</li>\n",
       "\t<li>0</li>\n",
       "\t<li>0</li>\n",
       "\t<li>0</li>\n",
       "\t<li>0</li>\n",
       "\t<li>0</li>\n",
       "\t<li>0</li>\n",
       "\t<li>0</li>\n",
       "\t<li>0</li>\n",
       "\t<li>0</li>\n",
       "\t<li>0</li>\n",
       "\t<li>0</li>\n",
       "\t<li>0</li>\n",
       "\t<li>0</li>\n",
       "\t<li>0</li>\n",
       "\t<li>0</li>\n",
       "\t<li>0</li>\n",
       "\t<li>0</li>\n",
       "\t<li>0</li>\n",
       "\t<li>0</li>\n",
       "\t<li>0</li>\n",
       "\t<li>0</li>\n",
       "\t<li>0</li>\n",
       "\t<li>0</li>\n",
       "\t<li>0</li>\n",
       "\t<li>0</li>\n",
       "\t<li>0</li>\n",
       "\t<li>0</li>\n",
       "\t<li>0</li>\n",
       "\t<li>0</li>\n",
       "\t<li>0</li>\n",
       "\t<li>0</li>\n",
       "\t<li>0</li>\n",
       "\t<li>0</li>\n",
       "\t<li>0</li>\n",
       "\t<li>0</li>\n",
       "\t<li>0</li>\n",
       "\t<li>0</li>\n",
       "\t<li>0</li>\n",
       "\t<li>0</li>\n",
       "\t<li>0</li>\n",
       "\t<li>0</li>\n",
       "\t<li>0</li>\n",
       "\t<li>0</li>\n",
       "\t<li>0</li>\n",
       "\t<li>0</li>\n",
       "\t<li>0</li>\n",
       "\t<li>0</li>\n",
       "\t<li>0</li>\n",
       "\t<li>0</li>\n",
       "\t<li>0</li>\n",
       "\t<li>0</li>\n",
       "\t<li>0</li>\n",
       "\t<li>0</li>\n",
       "\t<li>0</li>\n",
       "\t<li>0</li>\n",
       "\t<li>0</li>\n",
       "\t<li>0</li>\n",
       "\t<li>0</li>\n",
       "\t<li>0</li>\n",
       "\t<li>0</li>\n",
       "\t<li>0</li>\n",
       "\t<li>0</li>\n",
       "\t<li>0</li>\n",
       "\t<li>0</li>\n",
       "\t<li>0</li>\n",
       "\t<li>0</li>\n",
       "\t<li>0</li>\n",
       "\t<li>0</li>\n",
       "\t<li>0</li>\n",
       "\t<li>0</li>\n",
       "\t<li>0</li>\n",
       "\t<li>0</li>\n",
       "\t<li>0</li>\n",
       "\t<li>0</li>\n",
       "\t<li>0</li>\n",
       "\t<li>0</li>\n",
       "\t<li>0</li>\n",
       "\t<li>0</li>\n",
       "\t<li>0</li>\n",
       "\t<li>0</li>\n",
       "\t<li>0</li>\n",
       "\t<li>0</li>\n",
       "\t<li>0</li>\n",
       "\t<li>0</li>\n",
       "\t<li>0</li>\n",
       "\t<li>0</li>\n",
       "\t<li>0</li>\n",
       "\t<li>0</li>\n",
       "\t<li>0</li>\n",
       "\t<li>0</li>\n",
       "\t<li>0</li>\n",
       "\t<li>0</li>\n",
       "\t<li>0</li>\n",
       "\t<li>0</li>\n",
       "\t<li>0</li>\n",
       "\t<li>0</li>\n",
       "\t<li>0</li>\n",
       "\t<li>0</li>\n",
       "\t<li>0</li>\n",
       "</ol>\n"
      ],
      "text/latex": [
       "\\begin{enumerate*}\n",
       "\\item 0\n",
       "\\item 0\n",
       "\\item 0\n",
       "\\item 0\n",
       "\\item 0\n",
       "\\item 0\n",
       "\\item 0\n",
       "\\item 0\n",
       "\\item 0\n",
       "\\item 0\n",
       "\\item 0\n",
       "\\item 0\n",
       "\\item 0\n",
       "\\item 0\n",
       "\\item 0\n",
       "\\item 0\n",
       "\\item 0\n",
       "\\item 0\n",
       "\\item 0\n",
       "\\item 0\n",
       "\\item 0\n",
       "\\item 0\n",
       "\\item 0\n",
       "\\item 0\n",
       "\\item 0\n",
       "\\item 0\n",
       "\\item 0\n",
       "\\item 0\n",
       "\\item 0\n",
       "\\item 0\n",
       "\\item 0\n",
       "\\item 0\n",
       "\\item 0\n",
       "\\item 0\n",
       "\\item 0\n",
       "\\item 0\n",
       "\\item 0\n",
       "\\item 0\n",
       "\\item 0\n",
       "\\item 0\n",
       "\\item 0\n",
       "\\item 0\n",
       "\\item 0\n",
       "\\item 0\n",
       "\\item 0\n",
       "\\item 0\n",
       "\\item 0\n",
       "\\item 0\n",
       "\\item 0\n",
       "\\item 0\n",
       "\\item 0\n",
       "\\item 0\n",
       "\\item 0\n",
       "\\item 0\n",
       "\\item 0\n",
       "\\item 0\n",
       "\\item 0\n",
       "\\item 0\n",
       "\\item 0\n",
       "\\item 0\n",
       "\\item 0\n",
       "\\item 0\n",
       "\\item 0\n",
       "\\item 0\n",
       "\\item 0\n",
       "\\item 0\n",
       "\\item 0\n",
       "\\item 0\n",
       "\\item 0\n",
       "\\item 0\n",
       "\\item 0\n",
       "\\item 0\n",
       "\\item 0\n",
       "\\item 0\n",
       "\\item 0\n",
       "\\item 0\n",
       "\\item 0\n",
       "\\item 0\n",
       "\\item 0\n",
       "\\item 0\n",
       "\\item 0\n",
       "\\item 0\n",
       "\\item 0\n",
       "\\item 0\n",
       "\\item 0\n",
       "\\item 0\n",
       "\\item 0\n",
       "\\item 0\n",
       "\\item 0\n",
       "\\item 0\n",
       "\\item 0\n",
       "\\item 0\n",
       "\\item 0\n",
       "\\item 0\n",
       "\\item 0\n",
       "\\item 0\n",
       "\\item 0\n",
       "\\item 0\n",
       "\\item 0\n",
       "\\item 0\n",
       "\\item 0\n",
       "\\item 0\n",
       "\\item 0\n",
       "\\item 0\n",
       "\\item 0\n",
       "\\item 0\n",
       "\\item 0\n",
       "\\item 0\n",
       "\\item 0\n",
       "\\item 0\n",
       "\\item 0\n",
       "\\item 0\n",
       "\\item 0\n",
       "\\item 0\n",
       "\\item 0\n",
       "\\item 0\n",
       "\\item 0\n",
       "\\item 0\n",
       "\\item 0\n",
       "\\item 0\n",
       "\\item 0\n",
       "\\item 0\n",
       "\\item 0\n",
       "\\item 0\n",
       "\\item 0\n",
       "\\item 0\n",
       "\\item 0\n",
       "\\end{enumerate*}\n"
      ],
      "text/markdown": [
       "1. 0\n",
       "2. 0\n",
       "3. 0\n",
       "4. 0\n",
       "5. 0\n",
       "6. 0\n",
       "7. 0\n",
       "8. 0\n",
       "9. 0\n",
       "10. 0\n",
       "11. 0\n",
       "12. 0\n",
       "13. 0\n",
       "14. 0\n",
       "15. 0\n",
       "16. 0\n",
       "17. 0\n",
       "18. 0\n",
       "19. 0\n",
       "20. 0\n",
       "21. 0\n",
       "22. 0\n",
       "23. 0\n",
       "24. 0\n",
       "25. 0\n",
       "26. 0\n",
       "27. 0\n",
       "28. 0\n",
       "29. 0\n",
       "30. 0\n",
       "31. 0\n",
       "32. 0\n",
       "33. 0\n",
       "34. 0\n",
       "35. 0\n",
       "36. 0\n",
       "37. 0\n",
       "38. 0\n",
       "39. 0\n",
       "40. 0\n",
       "41. 0\n",
       "42. 0\n",
       "43. 0\n",
       "44. 0\n",
       "45. 0\n",
       "46. 0\n",
       "47. 0\n",
       "48. 0\n",
       "49. 0\n",
       "50. 0\n",
       "51. 0\n",
       "52. 0\n",
       "53. 0\n",
       "54. 0\n",
       "55. 0\n",
       "56. 0\n",
       "57. 0\n",
       "58. 0\n",
       "59. 0\n",
       "60. 0\n",
       "61. 0\n",
       "62. 0\n",
       "63. 0\n",
       "64. 0\n",
       "65. 0\n",
       "66. 0\n",
       "67. 0\n",
       "68. 0\n",
       "69. 0\n",
       "70. 0\n",
       "71. 0\n",
       "72. 0\n",
       "73. 0\n",
       "74. 0\n",
       "75. 0\n",
       "76. 0\n",
       "77. 0\n",
       "78. 0\n",
       "79. 0\n",
       "80. 0\n",
       "81. 0\n",
       "82. 0\n",
       "83. 0\n",
       "84. 0\n",
       "85. 0\n",
       "86. 0\n",
       "87. 0\n",
       "88. 0\n",
       "89. 0\n",
       "90. 0\n",
       "91. 0\n",
       "92. 0\n",
       "93. 0\n",
       "94. 0\n",
       "95. 0\n",
       "96. 0\n",
       "97. 0\n",
       "98. 0\n",
       "99. 0\n",
       "100. 0\n",
       "101. 0\n",
       "102. 0\n",
       "103. 0\n",
       "104. 0\n",
       "105. 0\n",
       "106. 0\n",
       "107. 0\n",
       "108. 0\n",
       "109. 0\n",
       "110. 0\n",
       "111. 0\n",
       "112. 0\n",
       "113. 0\n",
       "114. 0\n",
       "115. 0\n",
       "116. 0\n",
       "117. 0\n",
       "118. 0\n",
       "119. 0\n",
       "120. 0\n",
       "121. 0\n",
       "122. 0\n",
       "123. 0\n",
       "124. 0\n",
       "125. 0\n",
       "126. 0\n",
       "127. 0\n",
       "\n",
       "\n"
      ],
      "text/plain": [
       "  [1] 0 0 0 0 0 0 0 0 0 0 0 0 0 0 0 0 0 0 0 0 0 0 0 0 0 0 0 0 0 0 0 0 0 0 0 0 0\n",
       " [38] 0 0 0 0 0 0 0 0 0 0 0 0 0 0 0 0 0 0 0 0 0 0 0 0 0 0 0 0 0 0 0 0 0 0 0 0 0\n",
       " [75] 0 0 0 0 0 0 0 0 0 0 0 0 0 0 0 0 0 0 0 0 0 0 0 0 0 0 0 0 0 0 0 0 0 0 0 0 0\n",
       "[112] 0 0 0 0 0 0 0 0 0 0 0 0 0 0 0 0"
      ]
     },
     "metadata": {},
     "output_type": "display_data"
    }
   ],
   "source": [
    "# Print the indices and corresponding values\n",
    "df$overall_satisfaction[zero_or_negative_indices]"
   ]
  },
  {
   "cell_type": "markdown",
   "metadata": {},
   "source": [
    "Because overall_satisfaction has zero values, our linear-log and log-log models have to take values of overall_satisfaction+1."
   ]
  },
  {
   "cell_type": "markdown",
   "metadata": {},
   "source": [
    "### Linear-Linear Regression"
   ]
  },
  {
   "cell_type": "code",
   "execution_count": 5,
   "metadata": {},
   "outputs": [
    {
     "data": {
      "text/plain": [
       "\n",
       "Call:\n",
       "lm(formula = y ~ x, data = df)\n",
       "\n",
       "Residuals:\n",
       "   Min     1Q Median     3Q    Max \n",
       "-179.4  -61.7  -31.7   16.3 4416.6 \n",
       "\n",
       "Coefficients:\n",
       "            Estimate Std. Error t value Pr(>|t|)    \n",
       "(Intercept)  208.409     19.686  10.587  < 2e-16 ***\n",
       "x            -16.146      4.342  -3.719 0.000213 ***\n",
       "---\n",
       "Signif. codes:  0 ‘***’ 0.001 ‘**’ 0.01 ‘*’ 0.05 ‘.’ 0.1 ‘ ’ 1\n",
       "\n",
       "Residual standard error: 223 on 852 degrees of freedom\n",
       "Multiple R-squared:  0.01597,\tAdjusted R-squared:  0.01482 \n",
       "F-statistic: 13.83 on 1 and 852 DF,  p-value: 0.0002133\n"
      ]
     },
     "metadata": {},
     "output_type": "display_data"
    }
   ],
   "source": [
    "# Fit the linear-linear regression model\n",
    "lm_linear_linear <- lm(y ~ x, data = df)\n",
    "\n",
    "# Print the summary of the regression model\n",
    "summary(lm_linear_linear)"
   ]
  },
  {
   "cell_type": "markdown",
   "metadata": {},
   "source": [
    "### Linear-Log Regression"
   ]
  },
  {
   "cell_type": "code",
   "execution_count": 25,
   "metadata": {},
   "outputs": [
    {
     "data": {
      "text/html": [
       "<table>\n",
       "<caption>A data.frame: 6 × 10</caption>\n",
       "<thead>\n",
       "\t<tr><th scope=col>room_id</th><th scope=col>survey_id</th><th scope=col>host_id</th><th scope=col>room_type</th><th scope=col>city</th><th scope=col>reviews</th><th scope=col>overall_satisfaction</th><th scope=col>accommodates</th><th scope=col>bedrooms</th><th scope=col>price</th></tr>\n",
       "\t<tr><th scope=col>&lt;int&gt;</th><th scope=col>&lt;int&gt;</th><th scope=col>&lt;int&gt;</th><th scope=col>&lt;fct&gt;</th><th scope=col>&lt;fct&gt;</th><th scope=col>&lt;int&gt;</th><th scope=col>&lt;dbl&gt;</th><th scope=col>&lt;int&gt;</th><th scope=col>&lt;int&gt;</th><th scope=col>&lt;int&gt;</th></tr>\n",
       "</thead>\n",
       "<tbody>\n",
       "\t<tr><td>15771735</td><td>1498</td><td>101992409</td><td>Shared room</td><td>Asheville</td><td>  0</td><td>0.0</td><td>4</td><td>1</td><td>91</td></tr>\n",
       "\t<tr><td>18284194</td><td>1498</td><td>126414164</td><td>Shared room</td><td>Asheville</td><td> 32</td><td>5.0</td><td>4</td><td>1</td><td>77</td></tr>\n",
       "\t<tr><td>18091012</td><td>1498</td><td>122380971</td><td>Shared room</td><td>Asheville</td><td>  4</td><td>4.5</td><td>2</td><td>1</td><td>35</td></tr>\n",
       "\t<tr><td>12286328</td><td>1498</td><td>   746673</td><td>Shared room</td><td>Asheville</td><td> 24</td><td>4.5</td><td>6</td><td>1</td><td>31</td></tr>\n",
       "\t<tr><td>  156926</td><td>1498</td><td>   746673</td><td>Shared room</td><td>Asheville</td><td>152</td><td>4.5</td><td>6</td><td>1</td><td>36</td></tr>\n",
       "\t<tr><td>12989718</td><td>1498</td><td>   746673</td><td>Shared room</td><td>Asheville</td><td> 20</td><td>4.5</td><td>4</td><td>1</td><td>29</td></tr>\n",
       "</tbody>\n",
       "</table>\n"
      ],
      "text/latex": [
       "A data.frame: 6 × 10\n",
       "\\begin{tabular}{r|llllllllll}\n",
       " room\\_id & survey\\_id & host\\_id & room\\_type & city & reviews & overall\\_satisfaction & accommodates & bedrooms & price\\\\\n",
       " <int> & <int> & <int> & <fct> & <fct> & <int> & <dbl> & <int> & <int> & <int>\\\\\n",
       "\\hline\n",
       "\t 15771735 & 1498 & 101992409 & Shared room & Asheville &   0 & 0.0 & 4 & 1 & 91\\\\\n",
       "\t 18284194 & 1498 & 126414164 & Shared room & Asheville &  32 & 5.0 & 4 & 1 & 77\\\\\n",
       "\t 18091012 & 1498 & 122380971 & Shared room & Asheville &   4 & 4.5 & 2 & 1 & 35\\\\\n",
       "\t 12286328 & 1498 &    746673 & Shared room & Asheville &  24 & 4.5 & 6 & 1 & 31\\\\\n",
       "\t   156926 & 1498 &    746673 & Shared room & Asheville & 152 & 4.5 & 6 & 1 & 36\\\\\n",
       "\t 12989718 & 1498 &    746673 & Shared room & Asheville &  20 & 4.5 & 4 & 1 & 29\\\\\n",
       "\\end{tabular}\n"
      ],
      "text/markdown": [
       "\n",
       "A data.frame: 6 × 10\n",
       "\n",
       "| room_id &lt;int&gt; | survey_id &lt;int&gt; | host_id &lt;int&gt; | room_type &lt;fct&gt; | city &lt;fct&gt; | reviews &lt;int&gt; | overall_satisfaction &lt;dbl&gt; | accommodates &lt;int&gt; | bedrooms &lt;int&gt; | price &lt;int&gt; |\n",
       "|---|---|---|---|---|---|---|---|---|---|\n",
       "| 15771735 | 1498 | 101992409 | Shared room | Asheville |   0 | 0.0 | 4 | 1 | 91 |\n",
       "| 18284194 | 1498 | 126414164 | Shared room | Asheville |  32 | 5.0 | 4 | 1 | 77 |\n",
       "| 18091012 | 1498 | 122380971 | Shared room | Asheville |   4 | 4.5 | 2 | 1 | 35 |\n",
       "| 12286328 | 1498 |    746673 | Shared room | Asheville |  24 | 4.5 | 6 | 1 | 31 |\n",
       "|   156926 | 1498 |    746673 | Shared room | Asheville | 152 | 4.5 | 6 | 1 | 36 |\n",
       "| 12989718 | 1498 |    746673 | Shared room | Asheville |  20 | 4.5 | 4 | 1 | 29 |\n",
       "\n"
      ],
      "text/plain": [
       "  room_id  survey_id host_id   room_type   city      reviews\n",
       "1 15771735 1498      101992409 Shared room Asheville   0    \n",
       "2 18284194 1498      126414164 Shared room Asheville  32    \n",
       "3 18091012 1498      122380971 Shared room Asheville   4    \n",
       "4 12286328 1498         746673 Shared room Asheville  24    \n",
       "5   156926 1498         746673 Shared room Asheville 152    \n",
       "6 12989718 1498         746673 Shared room Asheville  20    \n",
       "  overall_satisfaction accommodates bedrooms price\n",
       "1 0.0                  4            1        91   \n",
       "2 5.0                  4            1        77   \n",
       "3 4.5                  2            1        35   \n",
       "4 4.5                  6            1        31   \n",
       "5 4.5                  6            1        36   \n",
       "6 4.5                  4            1        29   "
      ]
     },
     "metadata": {},
     "output_type": "display_data"
    }
   ],
   "source": [
    "head(df)"
   ]
  },
  {
   "cell_type": "code",
   "execution_count": 29,
   "metadata": {},
   "outputs": [
    {
     "data": {
      "text/plain": [
       "\n",
       "Call:\n",
       "lm(formula = price ~ log(overall_satisfaction + 1), data = df)\n",
       "\n",
       "Residuals:\n",
       "   Min     1Q Median     3Q    Max \n",
       "-181.3  -61.1  -31.1   15.9 4414.7 \n",
       "\n",
       "Coefficients:\n",
       "                              Estimate Std. Error t value Pr(>|t|)    \n",
       "(Intercept)                     210.29      19.75  10.646  < 2e-16 ***\n",
       "log(overall_satisfaction + 1)   -45.88      12.05  -3.807 0.000151 ***\n",
       "---\n",
       "Signif. codes:  0 ‘***’ 0.001 ‘**’ 0.01 ‘*’ 0.05 ‘.’ 0.1 ‘ ’ 1\n",
       "\n",
       "Residual standard error: 222.9 on 852 degrees of freedom\n",
       "Multiple R-squared:  0.01672,\tAdjusted R-squared:  0.01557 \n",
       "F-statistic: 14.49 on 1 and 852 DF,  p-value: 0.000151\n"
      ]
     },
     "metadata": {},
     "output_type": "display_data"
    }
   ],
   "source": [
    "# Fit the linear-log regression model\n",
    "lm_linear_log <- lm(price ~ log(overall_satisfaction+1), data = df)\n",
    "\n",
    "# Print the summary of the regression model\n",
    "summary(lm_linear_log)"
   ]
  },
  {
   "cell_type": "markdown",
   "metadata": {},
   "source": [
    "### Log-Linear Regression"
   ]
  },
  {
   "cell_type": "code",
   "execution_count": 7,
   "metadata": {},
   "outputs": [
    {
     "data": {
      "text/plain": [
       "\n",
       "Call:\n",
       "lm(formula = log(y) ~ x, data = df)\n",
       "\n",
       "Residuals:\n",
       "    Min      1Q  Median      3Q     Max \n",
       "-1.6825 -0.3800 -0.0515  0.3606  3.5672 \n",
       "\n",
       "Coefficients:\n",
       "            Estimate Std. Error t value Pr(>|t|)    \n",
       "(Intercept)  4.87202    0.05390  90.391  < 2e-16 ***\n",
       "x           -0.04307    0.01189  -3.623 0.000308 ***\n",
       "---\n",
       "Signif. codes:  0 ‘***’ 0.001 ‘**’ 0.01 ‘*’ 0.05 ‘.’ 0.1 ‘ ’ 1\n",
       "\n",
       "Residual standard error: 0.6105 on 852 degrees of freedom\n",
       "Multiple R-squared:  0.01518,\tAdjusted R-squared:  0.01402 \n",
       "F-statistic: 13.13 on 1 and 852 DF,  p-value: 0.000308\n"
      ]
     },
     "metadata": {},
     "output_type": "display_data"
    }
   ],
   "source": [
    "# Fit the log-linear regression model\n",
    "lm_log_linear <- lm(log(y) ~ x, data = df)\n",
    "\n",
    "# Print the summary of the regression model\n",
    "summary(lm_log_linear)"
   ]
  },
  {
   "cell_type": "markdown",
   "metadata": {},
   "source": [
    "### Log-Log Regression"
   ]
  },
  {
   "cell_type": "code",
   "execution_count": 30,
   "metadata": {},
   "outputs": [
    {
     "data": {
      "text/plain": [
       "\n",
       "Call:\n",
       "lm(formula = log(price) ~ log(overall_satisfaction + 1), data = df)\n",
       "\n",
       "Residuals:\n",
       "    Min      1Q  Median      3Q     Max \n",
       "-1.6721 -0.3803 -0.0518  0.3604  3.5579 \n",
       "\n",
       "Coefficients:\n",
       "                              Estimate Std. Error t value Pr(>|t|)    \n",
       "(Intercept)                    4.88136    0.05407  90.287  < 2e-16 ***\n",
       "log(overall_satisfaction + 1) -0.12526    0.03299  -3.797 0.000157 ***\n",
       "---\n",
       "Signif. codes:  0 ‘***’ 0.001 ‘**’ 0.01 ‘*’ 0.05 ‘.’ 0.1 ‘ ’ 1\n",
       "\n",
       "Residual standard error: 0.61 on 852 degrees of freedom\n",
       "Multiple R-squared:  0.01664,\tAdjusted R-squared:  0.01549 \n",
       "F-statistic: 14.42 on 1 and 852 DF,  p-value: 0.0001568\n"
      ]
     },
     "metadata": {},
     "output_type": "display_data"
    }
   ],
   "source": [
    "# Fit the log-log regression model\n",
    "lm_log_log <- lm(log(price) ~ log(overall_satisfaction+1), data = df)\n",
    "\n",
    "# Print the summary of the regression model\n",
    "summary(lm_log_log)"
   ]
  },
  {
   "cell_type": "markdown",
   "metadata": {
    "deletable": false,
    "editable": false,
    "nbgrader": {
     "grade": false,
     "locked": true,
     "solution": false
    }
   },
   "source": [
    "b) Which of the four models has the best $R^2$? \n",
    "\n",
    "Discuss how these transformations impact model fit. Does log transforming the variable improve, degrade, or have an uncertain impact on model performance? \n",
    "\n",
    "Compare the models and their performance with respect to R squared. Are these R squared values generally good, bad, or uncertain across the four models as a general measure of fit? (2 points)"
   ]
  },
  {
   "cell_type": "code",
   "execution_count": 33,
   "metadata": {},
   "outputs": [
    {
     "name": "stdout",
     "output_type": "stream",
     "text": [
      "        Column1 Column2\n",
      "1         Model     R^2\n",
      "2 Linear-Linear 0.01597\n",
      "3    Linear-Log 0.01672\n",
      "4    Log-Linear 0.01518\n",
      "5       Log-Log 0.01664\n"
     ]
    }
   ],
   "source": [
    "# Create a table with two columns and five rows\n",
    "my_table <- data.frame(\n",
    "  Column1 = c(\"Model\", \"Linear-Linear\", \"Linear-Log\", \"Log-Linear\", \"Log-Log\"),\n",
    "  Column2 = c(\"R^2\", 0.01597, 0.01672, 0.01518, 0.01664)\n",
    ")\n",
    "\n",
    "# Print the table\n",
    "print(my_table)"
   ]
  },
  {
   "cell_type": "markdown",
   "metadata": {
    "collapsed": true
   },
   "source": [
    "The linear-log model has the best $R^2$ value of 0.01672\n",
    "\n",
    "The transformations show marginal improvement in $R^2$ value when the log of predictor is taken.\n",
    "\n",
    "But between the linear-log and log-log models, the linear-log has a better $R^2$, thus taking log of the response variable showed marginal degradation in the model performance.\n",
    "\n",
    "I would say it is uncertain if the $R^2$ is a good measure of model performance as the difference between each model is marginal."
   ]
  },
  {
   "cell_type": "markdown",
   "metadata": {},
   "source": [
    "---"
   ]
  },
  {
   "cell_type": "markdown",
   "metadata": {
    "deletable": false,
    "editable": false,
    "nbgrader": {
     "grade": false,
     "locked": true,
     "solution": false
    }
   },
   "source": [
    "## Q4. The attached \"*titanic_data.csv\"* file was obtained from the following source: http://math.ucdenver.edu/RTutorial/\n",
    "\n",
    "**It has been cleaned to remove all rows which contain missing values. We will perform a logistic regression on this cleaned dataset.**\n",
    "\n",
    "**The dataset contains the following columns:**\n",
    "\n",
    "\n",
    "|Column Name|Description|Data Type|\n",
    "|------|------|------|\n",
    "|Name |Passenger Name|factor|\n",
    "|PClass|Passenger Class (1st, 2nd, 3rd)|factor|\n",
    "|Age|Passenger Age|number|\n",
    "|Sex|Passenger Sex - female, male|factor|\n",
    "|Survived|1 if passenger survived, 0 if not|number|\n",
    "\n",
    "**After converting the survived variable to be a factor with two levels, 0 and 1, perform a logistic regression on the dataset using 'survived' as the response and 'Sex' as the explanatory variable.**\n",
    "\n",
    "**Instruction: The file \"titanic_data.csv\" can be accessed at the path: (\"../resource/asnlib/publicdata/titanic_data.csv\")**"
   ]
  },
  {
   "cell_type": "markdown",
   "metadata": {
    "deletable": false,
    "editable": false,
    "nbgrader": {
     "grade": false,
     "locked": true,
     "solution": false
    }
   },
   "source": [
    "a) Display the model summary. What does the value of the intercept coefficient represent in this model? (3 points)\n"
   ]
  },
  {
   "cell_type": "code",
   "execution_count": 34,
   "metadata": {
    "scrolled": true
   },
   "outputs": [
    {
     "data": {
      "text/html": [
       "<table>\n",
       "<caption>A data.frame: 6 × 5</caption>\n",
       "<thead>\n",
       "\t<tr><th scope=col>Name</th><th scope=col>PClass</th><th scope=col>Age</th><th scope=col>Sex</th><th scope=col>Survived</th></tr>\n",
       "\t<tr><th scope=col>&lt;fct&gt;</th><th scope=col>&lt;fct&gt;</th><th scope=col>&lt;dbl&gt;</th><th scope=col>&lt;fct&gt;</th><th scope=col>&lt;int&gt;</th></tr>\n",
       "</thead>\n",
       "<tbody>\n",
       "\t<tr><td>Allen, Miss Elisabeth Walton                 </td><td>1st</td><td>29.00</td><td>female</td><td>1</td></tr>\n",
       "\t<tr><td>Allison, Miss Helen Loraine                  </td><td>1st</td><td> 2.00</td><td>female</td><td>0</td></tr>\n",
       "\t<tr><td>Allison, Mr Hudson Joshua Creighton          </td><td>1st</td><td>30.00</td><td>male  </td><td>0</td></tr>\n",
       "\t<tr><td>Allison, Mrs Hudson JC (Bessie Waldo Daniels)</td><td>1st</td><td>25.00</td><td>female</td><td>0</td></tr>\n",
       "\t<tr><td>Allison, Master Hudson Trevor                </td><td>1st</td><td> 0.92</td><td>male  </td><td>1</td></tr>\n",
       "\t<tr><td>Anderson, Mr Harry                           </td><td>1st</td><td>47.00</td><td>male  </td><td>1</td></tr>\n",
       "</tbody>\n",
       "</table>\n"
      ],
      "text/latex": [
       "A data.frame: 6 × 5\n",
       "\\begin{tabular}{r|lllll}\n",
       " Name & PClass & Age & Sex & Survived\\\\\n",
       " <fct> & <fct> & <dbl> & <fct> & <int>\\\\\n",
       "\\hline\n",
       "\t Allen, Miss Elisabeth Walton                  & 1st & 29.00 & female & 1\\\\\n",
       "\t Allison, Miss Helen Loraine                   & 1st &  2.00 & female & 0\\\\\n",
       "\t Allison, Mr Hudson Joshua Creighton           & 1st & 30.00 & male   & 0\\\\\n",
       "\t Allison, Mrs Hudson JC (Bessie Waldo Daniels) & 1st & 25.00 & female & 0\\\\\n",
       "\t Allison, Master Hudson Trevor                 & 1st &  0.92 & male   & 1\\\\\n",
       "\t Anderson, Mr Harry                            & 1st & 47.00 & male   & 1\\\\\n",
       "\\end{tabular}\n"
      ],
      "text/markdown": [
       "\n",
       "A data.frame: 6 × 5\n",
       "\n",
       "| Name &lt;fct&gt; | PClass &lt;fct&gt; | Age &lt;dbl&gt; | Sex &lt;fct&gt; | Survived &lt;int&gt; |\n",
       "|---|---|---|---|---|\n",
       "| Allen, Miss Elisabeth Walton                  | 1st | 29.00 | female | 1 |\n",
       "| Allison, Miss Helen Loraine                   | 1st |  2.00 | female | 0 |\n",
       "| Allison, Mr Hudson Joshua Creighton           | 1st | 30.00 | male   | 0 |\n",
       "| Allison, Mrs Hudson JC (Bessie Waldo Daniels) | 1st | 25.00 | female | 0 |\n",
       "| Allison, Master Hudson Trevor                 | 1st |  0.92 | male   | 1 |\n",
       "| Anderson, Mr Harry                            | 1st | 47.00 | male   | 1 |\n",
       "\n"
      ],
      "text/plain": [
       "  Name                                          PClass Age   Sex    Survived\n",
       "1 Allen, Miss Elisabeth Walton                  1st    29.00 female 1       \n",
       "2 Allison, Miss Helen Loraine                   1st     2.00 female 0       \n",
       "3 Allison, Mr Hudson Joshua Creighton           1st    30.00 male   0       \n",
       "4 Allison, Mrs Hudson JC (Bessie Waldo Daniels) 1st    25.00 female 0       \n",
       "5 Allison, Master Hudson Trevor                 1st     0.92 male   1       \n",
       "6 Anderson, Mr Harry                            1st    47.00 male   1       "
      ]
     },
     "metadata": {},
     "output_type": "display_data"
    }
   ],
   "source": [
    "titanic <- read.csv(\"../resource/asnlib/publicdata/titanic_data.csv\")\n",
    "head(titanic)"
   ]
  },
  {
   "cell_type": "code",
   "execution_count": 36,
   "metadata": {},
   "outputs": [
    {
     "data": {
      "text/plain": [
       "\n",
       "Call:\n",
       "glm(formula = Survived ~ Sex, family = binomial, data = titanic)\n",
       "\n",
       "Deviance Residuals: \n",
       "    Min       1Q   Median       3Q      Max  \n",
       "-1.6735  -0.6776  -0.6776   0.7524   1.7800  \n",
       "\n",
       "Coefficients:\n",
       "            Estimate Std. Error z value Pr(>|z|)    \n",
       "(Intercept)   1.1172     0.1367   8.171 3.05e-16 ***\n",
       "Sexmale      -2.4718     0.1783 -13.861  < 2e-16 ***\n",
       "---\n",
       "Signif. codes:  0 ‘***’ 0.001 ‘**’ 0.01 ‘*’ 0.05 ‘.’ 0.1 ‘ ’ 1\n",
       "\n",
       "(Dispersion parameter for binomial family taken to be 1)\n",
       "\n",
       "    Null deviance: 1025.57  on 755  degrees of freedom\n",
       "Residual deviance:  796.64  on 754  degrees of freedom\n",
       "AIC: 800.64\n",
       "\n",
       "Number of Fisher Scoring iterations: 4\n"
      ]
     },
     "metadata": {},
     "output_type": "display_data"
    }
   ],
   "source": [
    "# Fit the logistic regression model\n",
    "model <- glm(Survived ~ Sex, data = titanic, family = binomial)\n",
    "summary(model)"
   ]
  },
  {
   "cell_type": "markdown",
   "metadata": {},
   "source": [
    "The base case is female, for the base case, the log-odds of survival is 1.1172.\n",
    "\n",
    "For males, the log-odds of survival decreases by 2.4718, which means males have a lower chance of survival than females."
   ]
  },
  {
   "cell_type": "markdown",
   "metadata": {
    "deletable": false,
    "editable": false,
    "nbgrader": {
     "grade": false,
     "locked": true,
     "solution": false
    }
   },
   "source": [
    "b) Determine the probability of survival for females. (3 points)\n",
    "\n"
   ]
  },
  {
   "cell_type": "code",
   "execution_count": 39,
   "metadata": {},
   "outputs": [],
   "source": [
    "# Use Logistic/Sigmoid Function\n",
    "# P(Survived = 1) = 1 / (1 + exp(-(Intercept + Sexmale * Sex)))\n",
    "\n",
    "# Define the logistic function\n",
    "logistic <- function(intercept, coef, x) {\n",
    "  1 / (1 + exp(-(intercept + coef * x)))\n",
    "}\n",
    "\n",
    "# Set the values for the intercept and coefficient\n",
    "intercept <- 1.1172\n",
    "coef <- -2.4718\n",
    "\n",
    "# Calculate the probability of survival for females and males\n",
    "probability_female <- logistic(intercept, coef, 0)  # Female (Sex = 0)\n",
    "probability_male <- logistic(intercept, coef, 1)    # Male (Sex = 1)"
   ]
  },
  {
   "cell_type": "code",
   "execution_count": 40,
   "metadata": {},
   "outputs": [
    {
     "name": "stdout",
     "output_type": "stream",
     "text": [
      "[1] 0.753469\n"
     ]
    }
   ],
   "source": [
    "# Probability of Survival for Females\n",
    "print(probability_female)"
   ]
  },
  {
   "cell_type": "markdown",
   "metadata": {
    "deletable": false,
    "editable": false,
    "nbgrader": {
     "grade": false,
     "locked": true,
     "solution": false
    }
   },
   "source": [
    "c) Determine the probability of survival for males. (3 points)\n"
   ]
  },
  {
   "cell_type": "code",
   "execution_count": 38,
   "metadata": {},
   "outputs": [
    {
     "name": "stdout",
     "output_type": "stream",
     "text": [
      "[1] 0.2051193\n"
     ]
    }
   ],
   "source": [
    "# Probability of Survival for Males\n",
    "print(probability_male)"
   ]
  },
  {
   "cell_type": "markdown",
   "metadata": {
    "deletable": false,
    "editable": false,
    "nbgrader": {
     "grade": false,
     "locked": true,
     "solution": false
    }
   },
   "source": [
    "d) Create indicator variables for the variable 'PClass'. Consider PClass='3rd' as the base case (first_class = 1 if PClass is 1st or else 0; second_class = 1 if PClass is 2nd or else 0). \n",
    "\n",
    "Create a logistic regression model with the variable 'Survived' as the response variable and the indicator variables created for 'PClass' as the independent model variables. \n",
    "\n",
    "Using this model, calculate the probability of survival for the passengers in all 3 classes. (7 points)\n"
   ]
  },
  {
   "cell_type": "code",
   "execution_count": 46,
   "metadata": {},
   "outputs": [
    {
     "data": {
      "text/html": [
       "<table>\n",
       "<caption>A data.frame: 6 × 6</caption>\n",
       "<thead>\n",
       "\t<tr><th scope=col>Name</th><th scope=col>PClass</th><th scope=col>Age</th><th scope=col>Sex</th><th scope=col>Survived</th><th scope=col>CategoryIndicator</th></tr>\n",
       "\t<tr><th scope=col>&lt;fct&gt;</th><th scope=col>&lt;fct&gt;</th><th scope=col>&lt;dbl&gt;</th><th scope=col>&lt;fct&gt;</th><th scope=col>&lt;int&gt;</th><th scope=col>&lt;fct&gt;</th></tr>\n",
       "</thead>\n",
       "<tbody>\n",
       "\t<tr><td>Allen, Miss Elisabeth Walton                 </td><td>1st</td><td>29.00</td><td>female</td><td>1</td><td>1st</td></tr>\n",
       "\t<tr><td>Allison, Miss Helen Loraine                  </td><td>1st</td><td> 2.00</td><td>female</td><td>0</td><td>1st</td></tr>\n",
       "\t<tr><td>Allison, Mr Hudson Joshua Creighton          </td><td>1st</td><td>30.00</td><td>male  </td><td>0</td><td>1st</td></tr>\n",
       "\t<tr><td>Allison, Mrs Hudson JC (Bessie Waldo Daniels)</td><td>1st</td><td>25.00</td><td>female</td><td>0</td><td>1st</td></tr>\n",
       "\t<tr><td>Allison, Master Hudson Trevor                </td><td>1st</td><td> 0.92</td><td>male  </td><td>1</td><td>1st</td></tr>\n",
       "\t<tr><td>Anderson, Mr Harry                           </td><td>1st</td><td>47.00</td><td>male  </td><td>1</td><td>1st</td></tr>\n",
       "</tbody>\n",
       "</table>\n"
      ],
      "text/latex": [
       "A data.frame: 6 × 6\n",
       "\\begin{tabular}{r|llllll}\n",
       " Name & PClass & Age & Sex & Survived & CategoryIndicator\\\\\n",
       " <fct> & <fct> & <dbl> & <fct> & <int> & <fct>\\\\\n",
       "\\hline\n",
       "\t Allen, Miss Elisabeth Walton                  & 1st & 29.00 & female & 1 & 1st\\\\\n",
       "\t Allison, Miss Helen Loraine                   & 1st &  2.00 & female & 0 & 1st\\\\\n",
       "\t Allison, Mr Hudson Joshua Creighton           & 1st & 30.00 & male   & 0 & 1st\\\\\n",
       "\t Allison, Mrs Hudson JC (Bessie Waldo Daniels) & 1st & 25.00 & female & 0 & 1st\\\\\n",
       "\t Allison, Master Hudson Trevor                 & 1st &  0.92 & male   & 1 & 1st\\\\\n",
       "\t Anderson, Mr Harry                            & 1st & 47.00 & male   & 1 & 1st\\\\\n",
       "\\end{tabular}\n"
      ],
      "text/markdown": [
       "\n",
       "A data.frame: 6 × 6\n",
       "\n",
       "| Name &lt;fct&gt; | PClass &lt;fct&gt; | Age &lt;dbl&gt; | Sex &lt;fct&gt; | Survived &lt;int&gt; | CategoryIndicator &lt;fct&gt; |\n",
       "|---|---|---|---|---|---|\n",
       "| Allen, Miss Elisabeth Walton                  | 1st | 29.00 | female | 1 | 1st |\n",
       "| Allison, Miss Helen Loraine                   | 1st |  2.00 | female | 0 | 1st |\n",
       "| Allison, Mr Hudson Joshua Creighton           | 1st | 30.00 | male   | 0 | 1st |\n",
       "| Allison, Mrs Hudson JC (Bessie Waldo Daniels) | 1st | 25.00 | female | 0 | 1st |\n",
       "| Allison, Master Hudson Trevor                 | 1st |  0.92 | male   | 1 | 1st |\n",
       "| Anderson, Mr Harry                            | 1st | 47.00 | male   | 1 | 1st |\n",
       "\n"
      ],
      "text/plain": [
       "  Name                                          PClass Age   Sex    Survived\n",
       "1 Allen, Miss Elisabeth Walton                  1st    29.00 female 1       \n",
       "2 Allison, Miss Helen Loraine                   1st     2.00 female 0       \n",
       "3 Allison, Mr Hudson Joshua Creighton           1st    30.00 male   0       \n",
       "4 Allison, Mrs Hudson JC (Bessie Waldo Daniels) 1st    25.00 female 0       \n",
       "5 Allison, Master Hudson Trevor                 1st     0.92 male   1       \n",
       "6 Anderson, Mr Harry                            1st    47.00 male   1       \n",
       "  CategoryIndicator\n",
       "1 1st              \n",
       "2 1st              \n",
       "3 1st              \n",
       "4 1st              \n",
       "5 1st              \n",
       "6 1st              "
      ]
     },
     "metadata": {},
     "output_type": "display_data"
    }
   ],
   "source": [
    "head(titanic)"
   ]
  },
  {
   "cell_type": "code",
   "execution_count": 47,
   "metadata": {},
   "outputs": [
    {
     "data": {
      "text/plain": [
       "\n",
       "Call:\n",
       "glm(formula = Survived ~ PClass, family = binomial, data = titanic)\n",
       "\n",
       "Deviance Residuals: \n",
       "    Min       1Q   Median       3Q      Max  \n",
       "-1.3818  -1.0982  -0.7502   0.9860   1.6765  \n",
       "\n",
       "Coefficients:\n",
       "            Estimate Std. Error z value Pr(>|z|)    \n",
       "(Intercept)  -1.1239     0.1303  -8.623  < 2e-16 ***\n",
       "PClass1st     1.5925     0.1889   8.431  < 2e-16 ***\n",
       "PClass2nd     0.9347     0.1898   4.925 8.45e-07 ***\n",
       "---\n",
       "Signif. codes:  0 ‘***’ 0.001 ‘**’ 0.01 ‘*’ 0.05 ‘.’ 0.1 ‘ ’ 1\n",
       "\n",
       "(Dispersion parameter for binomial family taken to be 1)\n",
       "\n",
       "    Null deviance: 1025.57  on 755  degrees of freedom\n",
       "Residual deviance:  947.55  on 753  degrees of freedom\n",
       "AIC: 953.55\n",
       "\n",
       "Number of Fisher Scoring iterations: 4\n"
      ]
     },
     "metadata": {},
     "output_type": "display_data"
    }
   ],
   "source": [
    "# Specify the base level (e.g., 'Category1') using the 'relevel()' function\n",
    "titanic$PClass <- relevel(titanic$PClass, ref = \"3rd\")\n",
    "\n",
    "# Fit the logistic regression model\n",
    "model2 <- glm(Survived ~ PClass, data = titanic, family = binomial)\n",
    "\n",
    "# Print the model summary\n",
    "summary(model2)"
   ]
  },
  {
   "cell_type": "code",
   "execution_count": 49,
   "metadata": {},
   "outputs": [
    {
     "name": "stdout",
     "output_type": "stream",
     "text": [
      "[1] 0.6150523\n",
      "[1] 0.4528406\n",
      "[1] 0.2452886\n"
     ]
    }
   ],
   "source": [
    "# Define the logistic function\n",
    "logistic <- function(intercept, coef1, coef2, ind1, ind2) {\n",
    "  1 / (1 + exp(-(intercept + coef1 * ind1 + coef2 * ind2)))\n",
    "}\n",
    "\n",
    "# Set the values for the intercept and coefficients\n",
    "intercept <- -1.1239\n",
    "coef1 <- 1.5925\n",
    "coef2 <- 0.9347\n",
    "\n",
    "# Calculate the probabilities of PClass1st, PClass2nd, and PClass3rd\n",
    "pclass1st_prob <- logistic(intercept, coef1, coef2, 1, 0)  # PClass1st\n",
    "pclass2nd_prob <- logistic(intercept, coef1, coef2, 0, 1)  # PClass2nd\n",
    "pclass3rd_prob <- logistic(intercept, coef1, coef2, 0, 0)  # PClass3rd (base case)\n",
    "\n",
    "# Print the probabilities\n",
    "print(pclass1st_prob)\n",
    "print(pclass2nd_prob)\n",
    "print(pclass3rd_prob)"
   ]
  },
  {
   "cell_type": "markdown",
   "metadata": {},
   "source": [
    "---"
   ]
  }
 ],
 "metadata": {
  "kernelspec": {
   "display_name": "R 3.5.1",
   "language": "R",
   "name": "ir"
  },
  "language_info": {
   "codemirror_mode": "r",
   "file_extension": ".r",
   "mimetype": "text/x-r-source",
   "name": "R",
   "pygments_lexer": "r",
   "version": "3.5.1"
  }
 },
 "nbformat": 4,
 "nbformat_minor": 2
}
