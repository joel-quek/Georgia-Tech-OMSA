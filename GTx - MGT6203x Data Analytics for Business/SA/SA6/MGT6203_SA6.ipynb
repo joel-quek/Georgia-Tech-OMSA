{
  "cells": [
    {
      "cell_type": "code",
      "source": [
        "buffett <- read.csv(\"Factor_Data_SA_6.xls\")"
      ],
      "metadata": {
        "id": "iwZ0GBKvCzYT"
      },
      "execution_count": 4,
      "outputs": []
    },
    {
      "cell_type": "code",
      "source": [
        "head(buffett)"
      ],
      "metadata": {
        "colab": {
          "base_uri": "https://localhost:8080/",
          "height": 286
        },
        "id": "mooOzhHrC4hO",
        "outputId": "8c2f3602-f09c-45a9-f604-71e15d0fba0f"
      },
      "execution_count": 5,
      "outputs": [
        {
          "output_type": "display_data",
          "data": {
            "text/html": [
              "<table class=\"dataframe\">\n",
              "<caption>A data.frame: 6 × 11</caption>\n",
              "<thead>\n",
              "\t<tr><th></th><th scope=col>Date</th><th scope=col>Mom</th><th scope=col>Mkt_rf</th><th scope=col>SMB</th><th scope=col>HML</th><th scope=col>RF</th><th scope=col>QMJ</th><th scope=col>BAB</th><th scope=col>Brk_ret</th><th scope=col>Brk_exret</th><th scope=col>Mkt</th></tr>\n",
              "\t<tr><th></th><th scope=col>&lt;chr&gt;</th><th scope=col>&lt;dbl&gt;</th><th scope=col>&lt;dbl&gt;</th><th scope=col>&lt;dbl&gt;</th><th scope=col>&lt;dbl&gt;</th><th scope=col>&lt;dbl&gt;</th><th scope=col>&lt;dbl&gt;</th><th scope=col>&lt;dbl&gt;</th><th scope=col>&lt;dbl&gt;</th><th scope=col>&lt;dbl&gt;</th><th scope=col>&lt;dbl&gt;</th></tr>\n",
              "</thead>\n",
              "<tbody>\n",
              "\t<tr><th scope=row>1</th><td>11/30/1976</td><td>0.0290</td><td> 0.0036</td><td> 0.0231</td><td>0.0152</td><td>0.0040</td><td>-0.0201</td><td>0.0045</td><td> 0.1544</td><td> 0.1504</td><td> 0.0076</td></tr>\n",
              "\t<tr><th scope=row>2</th><td>12/31/1976</td><td>0.0078</td><td> 0.0565</td><td> 0.0300</td><td>0.0223</td><td>0.0040</td><td>-0.0089</td><td>0.0317</td><td> 0.1465</td><td> 0.1425</td><td> 0.0605</td></tr>\n",
              "\t<tr><th scope=row>3</th><td>1/31/1977 </td><td>0.0397</td><td>-0.0405</td><td> 0.0478</td><td>0.0427</td><td>0.0036</td><td>-0.0263</td><td>0.0407</td><td> 0.0000</td><td>-0.0036</td><td>-0.0369</td></tr>\n",
              "\t<tr><th scope=row>4</th><td>2/28/1977 </td><td>0.0038</td><td>-0.0195</td><td> 0.0108</td><td>0.0051</td><td>0.0035</td><td> 0.0207</td><td>0.0249</td><td> 0.0000</td><td>-0.0035</td><td>-0.0160</td></tr>\n",
              "\t<tr><th scope=row>5</th><td>3/31/1977 </td><td>0.0049</td><td>-0.0137</td><td> 0.0099</td><td>0.0100</td><td>0.0038</td><td>-0.0085</td><td>0.0123</td><td> 0.0778</td><td> 0.0740</td><td>-0.0099</td></tr>\n",
              "\t<tr><th scope=row>6</th><td>4/30/1977 </td><td>0.0424</td><td> 0.0015</td><td>-0.0012</td><td>0.0344</td><td>0.0038</td><td>-0.0173</td><td>0.0106</td><td>-0.0103</td><td>-0.0141</td><td> 0.0053</td></tr>\n",
              "</tbody>\n",
              "</table>\n"
            ],
            "text/markdown": "\nA data.frame: 6 × 11\n\n| <!--/--> | Date &lt;chr&gt; | Mom &lt;dbl&gt; | Mkt_rf &lt;dbl&gt; | SMB &lt;dbl&gt; | HML &lt;dbl&gt; | RF &lt;dbl&gt; | QMJ &lt;dbl&gt; | BAB &lt;dbl&gt; | Brk_ret &lt;dbl&gt; | Brk_exret &lt;dbl&gt; | Mkt &lt;dbl&gt; |\n|---|---|---|---|---|---|---|---|---|---|---|---|\n| 1 | 11/30/1976 | 0.0290 |  0.0036 |  0.0231 | 0.0152 | 0.0040 | -0.0201 | 0.0045 |  0.1544 |  0.1504 |  0.0076 |\n| 2 | 12/31/1976 | 0.0078 |  0.0565 |  0.0300 | 0.0223 | 0.0040 | -0.0089 | 0.0317 |  0.1465 |  0.1425 |  0.0605 |\n| 3 | 1/31/1977  | 0.0397 | -0.0405 |  0.0478 | 0.0427 | 0.0036 | -0.0263 | 0.0407 |  0.0000 | -0.0036 | -0.0369 |\n| 4 | 2/28/1977  | 0.0038 | -0.0195 |  0.0108 | 0.0051 | 0.0035 |  0.0207 | 0.0249 |  0.0000 | -0.0035 | -0.0160 |\n| 5 | 3/31/1977  | 0.0049 | -0.0137 |  0.0099 | 0.0100 | 0.0038 | -0.0085 | 0.0123 |  0.0778 |  0.0740 | -0.0099 |\n| 6 | 4/30/1977  | 0.0424 |  0.0015 | -0.0012 | 0.0344 | 0.0038 | -0.0173 | 0.0106 | -0.0103 | -0.0141 |  0.0053 |\n\n",
            "text/latex": "A data.frame: 6 × 11\n\\begin{tabular}{r|lllllllllll}\n  & Date & Mom & Mkt\\_rf & SMB & HML & RF & QMJ & BAB & Brk\\_ret & Brk\\_exret & Mkt\\\\\n  & <chr> & <dbl> & <dbl> & <dbl> & <dbl> & <dbl> & <dbl> & <dbl> & <dbl> & <dbl> & <dbl>\\\\\n\\hline\n\t1 & 11/30/1976 & 0.0290 &  0.0036 &  0.0231 & 0.0152 & 0.0040 & -0.0201 & 0.0045 &  0.1544 &  0.1504 &  0.0076\\\\\n\t2 & 12/31/1976 & 0.0078 &  0.0565 &  0.0300 & 0.0223 & 0.0040 & -0.0089 & 0.0317 &  0.1465 &  0.1425 &  0.0605\\\\\n\t3 & 1/31/1977  & 0.0397 & -0.0405 &  0.0478 & 0.0427 & 0.0036 & -0.0263 & 0.0407 &  0.0000 & -0.0036 & -0.0369\\\\\n\t4 & 2/28/1977  & 0.0038 & -0.0195 &  0.0108 & 0.0051 & 0.0035 &  0.0207 & 0.0249 &  0.0000 & -0.0035 & -0.0160\\\\\n\t5 & 3/31/1977  & 0.0049 & -0.0137 &  0.0099 & 0.0100 & 0.0038 & -0.0085 & 0.0123 &  0.0778 &  0.0740 & -0.0099\\\\\n\t6 & 4/30/1977  & 0.0424 &  0.0015 & -0.0012 & 0.0344 & 0.0038 & -0.0173 & 0.0106 & -0.0103 & -0.0141 &  0.0053\\\\\n\\end{tabular}\n",
            "text/plain": [
              "  Date       Mom    Mkt_rf  SMB     HML    RF     QMJ     BAB    Brk_ret\n",
              "1 11/30/1976 0.0290  0.0036  0.0231 0.0152 0.0040 -0.0201 0.0045  0.1544\n",
              "2 12/31/1976 0.0078  0.0565  0.0300 0.0223 0.0040 -0.0089 0.0317  0.1465\n",
              "3 1/31/1977  0.0397 -0.0405  0.0478 0.0427 0.0036 -0.0263 0.0407  0.0000\n",
              "4 2/28/1977  0.0038 -0.0195  0.0108 0.0051 0.0035  0.0207 0.0249  0.0000\n",
              "5 3/31/1977  0.0049 -0.0137  0.0099 0.0100 0.0038 -0.0085 0.0123  0.0778\n",
              "6 4/30/1977  0.0424  0.0015 -0.0012 0.0344 0.0038 -0.0173 0.0106 -0.0103\n",
              "  Brk_exret Mkt    \n",
              "1  0.1504    0.0076\n",
              "2  0.1425    0.0605\n",
              "3 -0.0036   -0.0369\n",
              "4 -0.0035   -0.0160\n",
              "5  0.0740   -0.0099\n",
              "6 -0.0141    0.0053"
            ]
          },
          "metadata": {}
        }
      ]
    },
    {
      "cell_type": "code",
      "source": [
        "summary(buffett)"
      ],
      "metadata": {
        "colab": {
          "base_uri": "https://localhost:8080/",
          "height": 382
        },
        "id": "ohqO8RwQDMR5",
        "outputId": "da4d9a21-8f07-4554-eb08-ebe8139304b9"
      },
      "execution_count": 6,
      "outputs": [
        {
          "output_type": "display_data",
          "data": {
            "text/plain": [
              "     Date                Mom                Mkt_rf               SMB           \n",
              " Length:500         Min.   :-0.343900   Min.   :-0.232400   Min.   :-0.172800  \n",
              " Class :character   1st Qu.:-0.009475   1st Qu.:-0.019200   1st Qu.:-0.014225  \n",
              " Mode  :character   Median : 0.007800   Median : 0.010600   Median : 0.002100  \n",
              "                    Mean   : 0.006506   Mean   : 0.006447   Mean   : 0.002327  \n",
              "                    3rd Qu.: 0.028725   3rd Qu.: 0.034925   3rd Qu.: 0.020150  \n",
              "                    Max.   : 0.183300   Max.   : 0.124700   Max.   : 0.221400  \n",
              "      HML                  RF                QMJ                 BAB           \n",
              " Min.   :-0.111000   Min.   :0.000000   Min.   :-0.090700   Min.   :-0.154000  \n",
              " 1st Qu.:-0.013075   1st Qu.:0.000975   1st Qu.:-0.008125   1st Qu.:-0.004375  \n",
              " Median : 0.000800   Median :0.003900   Median : 0.004100   Median : 0.011050  \n",
              " Mean   : 0.002637   Mean   :0.003711   Mean   : 0.004397   Mean   : 0.008972  \n",
              " 3rd Qu.: 0.017125   3rd Qu.:0.005325   3rd Qu.: 0.015775   3rd Qu.: 0.026100  \n",
              " Max.   : 0.129000   Max.   :0.013500   Max.   : 0.125700   Max.   : 0.130300  \n",
              "    Brk_ret           Brk_exret             Mkt          \n",
              " Min.   :-0.21740   Min.   :-0.22950   Min.   :-0.22640  \n",
              " 1st Qu.:-0.01622   1st Qu.:-0.01955   1st Qu.:-0.01565  \n",
              " Median : 0.01220   Median : 0.00770   Median : 0.01365  \n",
              " Mean   : 0.01899   Mean   : 0.01528   Mean   : 0.01016  \n",
              " 3rd Qu.: 0.04760   3rd Qu.: 0.04482   3rd Qu.: 0.03890  \n",
              " Max.   : 0.35480   Max.   : 0.34710   Max.   : 0.12890  "
            ]
          },
          "metadata": {}
        }
      ]
    },
    {
      "cell_type": "code",
      "source": [
        "# Install required packages if not already installed\n",
        "# install.packages(\"tidyverse\")\n",
        "# install.packages(\"ggplot2\")\n",
        "\n",
        "# Load required libraries\n",
        "library(tidyverse)\n",
        "library(ggplot2)"
      ],
      "metadata": {
        "id": "gkwkM2inDPtL"
      },
      "execution_count": 8,
      "outputs": []
    },
    {
      "cell_type": "code",
      "source": [
        "# Calculate excess returns\n",
        "buffett$ExcessRet <- buffett$Brk_ret - buffett$RF\n",
        "buffett$ExcessMkt <- buffett$Mkt - buffett$RF"
      ],
      "metadata": {
        "id": "cresLu-AD45i"
      },
      "execution_count": 11,
      "outputs": []
    },
    {
      "cell_type": "code",
      "source": [
        "# Perform the regression analysis\n",
        "model <- lm(ExcessRet ~ ExcessMkt, data = buffett)\n",
        "\n",
        "# Print the regression results\n",
        "summary(model)"
      ],
      "metadata": {
        "colab": {
          "base_uri": "https://localhost:8080/",
          "height": 329
        },
        "id": "ksnVS7MJD1ZU",
        "outputId": "db80baf4-ecdd-47d9-bbc8-f2e286bfca2f"
      },
      "execution_count": 12,
      "outputs": [
        {
          "output_type": "display_data",
          "data": {
            "text/plain": [
              "\n",
              "Call:\n",
              "lm(formula = ExcessRet ~ ExcessMkt, data = buffett)\n",
              "\n",
              "Residuals:\n",
              "     Min       1Q   Median       3Q      Max \n",
              "-0.17263 -0.03475 -0.00688  0.02608  0.33062 \n",
              "\n",
              "Coefficients:\n",
              "            Estimate Std. Error t value Pr(>|t|)    \n",
              "(Intercept) 0.010829   0.002724   3.976 8.05e-05 ***\n",
              "ExcessMkt   0.689755   0.061777  11.165  < 2e-16 ***\n",
              "---\n",
              "Signif. codes:  0 ‘***’ 0.001 ‘**’ 0.01 ‘*’ 0.05 ‘.’ 0.1 ‘ ’ 1\n",
              "\n",
              "Residual standard error: 0.06025 on 498 degrees of freedom\n",
              "Multiple R-squared:  0.2002,\tAdjusted R-squared:  0.1986 \n",
              "F-statistic: 124.7 on 1 and 498 DF,  p-value: < 2.2e-16\n"
            ]
          },
          "metadata": {}
        }
      ]
    },
    {
      "cell_type": "code",
      "source": [
        "alpha <- coef(summary(model))[1, 1]\n",
        "\n",
        "# Print Jensen's Alpha\n",
        "print(alpha)"
      ],
      "metadata": {
        "colab": {
          "base_uri": "https://localhost:8080/"
        },
        "id": "QvbecfWGEGM3",
        "outputId": "46a073cb-248d-4f62-a2cc-4962782d02fd"
      },
      "execution_count": 13,
      "outputs": [
        {
          "output_type": "stream",
          "name": "stdout",
          "text": [
            "[1] 0.01082887\n"
          ]
        }
      ]
    },
    {
      "cell_type": "code",
      "source": [
        "# Perform the regression analysis\n",
        "model2 <- lm(ExcessRet ~ ExcessMkt + SMB + HML, data = buffett)\n",
        "\n",
        "# Print the regression results\n",
        "summary(model2)"
      ],
      "metadata": {
        "colab": {
          "base_uri": "https://localhost:8080/",
          "height": 364
        },
        "id": "IMxanS1pEN1Q",
        "outputId": "e3313532-07a8-4f89-fe4a-f8c44194d181"
      },
      "execution_count": 14,
      "outputs": [
        {
          "output_type": "display_data",
          "data": {
            "text/plain": [
              "\n",
              "Call:\n",
              "lm(formula = ExcessRet ~ ExcessMkt + SMB + HML, data = buffett)\n",
              "\n",
              "Residuals:\n",
              "     Min       1Q   Median       3Q      Max \n",
              "-0.14769 -0.03547 -0.01046  0.02657  0.32709 \n",
              "\n",
              "Coefficients:\n",
              "             Estimate Std. Error t value Pr(>|t|)    \n",
              "(Intercept)  0.009479   0.002656   3.569 0.000394 ***\n",
              "ExcessMkt    0.819781   0.062958  13.021  < 2e-16 ***\n",
              "SMB         -0.292096   0.090797  -3.217 0.001380 ** \n",
              "HML          0.451676   0.096140   4.698 3.41e-06 ***\n",
              "---\n",
              "Signif. codes:  0 ‘***’ 0.001 ‘**’ 0.01 ‘*’ 0.05 ‘.’ 0.1 ‘ ’ 1\n",
              "\n",
              "Residual standard error: 0.05806 on 496 degrees of freedom\n",
              "Multiple R-squared:  0.2603,\tAdjusted R-squared:  0.2558 \n",
              "F-statistic: 58.18 on 3 and 496 DF,  p-value: < 2.2e-16\n"
            ]
          },
          "metadata": {}
        }
      ]
    },
    {
      "cell_type": "markdown",
      "source": [
        "The coefficient of HML in the three-factor model regression for Berkshire Hathaway's excess returns represents the estimated effect of the HML (Value Factor) on Berkshire Hathaway's excess returns, while controlling for the other factors in the model (MKT-rf and SMB).\n",
        "\n",
        "In this case, if the coefficient of HML is 0.451676, it means that for every one-unit increase in HML, Berkshire Hathaway's excess returns are estimated to increase by 0.451676 units, assuming the other factors remain constant.\n",
        "\n",
        "Furthermore, the sign of the coefficient can provide additional insight. Since the coefficient is positive (assuming it's statistically significant), it suggests that when the HML factor (representing the value premium) is high, Berkshire Hathaway's excess returns tend to be higher than expected, considering the influence of MKT-rf and SMB.\n",
        "\n",
        "However, it's important to interpret the coefficient in the context of the specific dataset and the model's assumptions. Additionally, be mindful of potential multicollinearity and the statistical significance of the coefficient, which can be assessed through the p-value associated with the coefficient in the regression output."
      ],
      "metadata": {
        "id": "HzMwLcsAFQrR"
      }
    },
    {
      "cell_type": "markdown",
      "source": [
        "The coefficient of 0.451676 for HML in the three-factor model regression suggests that Berkshire Hathaway's excess returns have a positive association with the HML (Value Factor).\n",
        "\n",
        "In the Fama-French three-factor model, HML represents the excess return of value stocks relative to growth stocks. A positive coefficient indicates that Berkshire Hathaway's excess returns tend to be higher when the value factor is high, implying a tilt towards value stocks.\n",
        "\n",
        "Therefore, based on the coefficient value, it suggests that Berkshire Hathaway's investment strategy has a preference for value stocks rather than growth stocks. This aligns with the known investment philosophy of Warren Buffett, who is known for his value investing approach, focusing on undervalued companies with strong fundamentals.\n",
        "\n",
        "However, it's important to note that this interpretation relies on the specific model and dataset used, and it's crucial to consider other factors and perform a thorough analysis to confirm the investment style or strategy of Berkshire Hathaway."
      ],
      "metadata": {
        "id": "Ku7zbmjRFR9-"
      }
    },
    {
      "cell_type": "markdown",
      "source": [
        "---\n",
        "\n",
        "The coefficient of -0.292096 for SMB in the three-factor model regression suggests that Berkshire Hathaway's excess returns have a negative association with the SMB (Size Factor).\n",
        "\n",
        "In the Fama-French three-factor model, SMB represents the excess return of small-cap stocks relative to large-cap stocks. A negative coefficient indicates that Berkshire Hathaway's excess returns tend to be higher when the size factor is low, implying a tilt away from small-cap stocks.\n",
        "\n",
        "Therefore, based on the coefficient value, it suggests that Berkshire Hathaway's investment strategy is tilted towards large-cap stocks rather than small-cap stocks. This aligns with Berkshire Hathaway's historical focus on acquiring established, well-known companies with substantial market capitalization.\n",
        "\n",
        "It's important to note that this interpretation is based on the specific model and dataset used, and further analysis and consideration of other factors are needed to fully understand Berkshire Hathaway's investment strategy regarding small-cap and large-cap stocks."
      ],
      "metadata": {
        "id": "fMxAZKTZFhAj"
      }
    },
    {
      "cell_type": "markdown",
      "source": [
        "Warren Buffett’s level of outperformance based on the three factor model is:\n",
        "\n",
        "0.9% per month"
      ],
      "metadata": {
        "id": "m9HC5LyaGWrB"
      }
    },
    {
      "cell_type": "markdown",
      "source": [
        "---"
      ],
      "metadata": {
        "id": "n-Q8fs2LGcTk"
      }
    },
    {
      "cell_type": "code",
      "source": [
        "\n",
        "# Perform the regression analysis\n",
        "model3 <- lm(ExcessRet ~ ExcessMkt + SMB + HML + Mom + BAB + QMJ, data = buffett)\n",
        "\n",
        "# Print the regression results\n",
        "summary(model3)\n"
      ],
      "metadata": {
        "colab": {
          "base_uri": "https://localhost:8080/",
          "height": 434
        },
        "id": "ATMHInuxEut1",
        "outputId": "41f893e4-8bfd-48bf-fd3e-f906508bea04"
      },
      "execution_count": 16,
      "outputs": [
        {
          "output_type": "display_data",
          "data": {
            "text/plain": [
              "\n",
              "Call:\n",
              "lm(formula = ExcessRet ~ ExcessMkt + SMB + HML + Mom + BAB + \n",
              "    QMJ, data = buffett)\n",
              "\n",
              "Residuals:\n",
              "     Min       1Q   Median       3Q      Max \n",
              "-0.14561 -0.03317 -0.00769  0.02345  0.32308 \n",
              "\n",
              "Coefficients:\n",
              "             Estimate Std. Error t value Pr(>|t|)    \n",
              "(Intercept)  0.004654   0.002843   1.637 0.102200    \n",
              "ExcessMkt    0.936662   0.073590  12.728  < 2e-16 ***\n",
              "SMB         -0.175346   0.101652  -1.725 0.085160 .  \n",
              "HML          0.399840   0.109863   3.639 0.000302 ***\n",
              "Mom         -0.048167   0.065350  -0.737 0.461440    \n",
              "BAB          0.274218   0.086524   3.169 0.001623 ** \n",
              "QMJ          0.406937   0.155086   2.624 0.008961 ** \n",
              "---\n",
              "Signif. codes:  0 ‘***’ 0.001 ‘**’ 0.01 ‘*’ 0.05 ‘.’ 0.1 ‘ ’ 1\n",
              "\n",
              "Residual standard error: 0.05694 on 493 degrees of freedom\n",
              "Multiple R-squared:  0.2928,\tAdjusted R-squared:  0.2842 \n",
              "F-statistic: 34.02 on 6 and 493 DF,  p-value: < 2.2e-16\n"
            ]
          },
          "metadata": {}
        }
      ]
    },
    {
      "cell_type": "code",
      "source": [],
      "metadata": {
        "id": "7hW6LOnOGh_6"
      },
      "execution_count": null,
      "outputs": []
    }
  ],
  "metadata": {
    "kernelspec": {
      "display_name": "R 3.5.1",
      "language": "R",
      "name": "ir"
    },
    "language_info": {
      "codemirror_mode": "r",
      "file_extension": ".r",
      "mimetype": "text/x-r-source",
      "name": "R",
      "pygments_lexer": "r",
      "version": "3.5.1"
    },
    "colab": {
      "provenance": []
    }
  },
  "nbformat": 4,
  "nbformat_minor": 0
}