{
 "cells": [
  {
   "cell_type": "markdown",
   "metadata": {
    "deletable": false,
    "editable": false,
    "nbgrader": {
     "grade": false,
     "locked": true,
     "solution": false
    }
   },
   "source": [
    "# Practice Assignment"
   ]
  },
  {
   "cell_type": "markdown",
   "metadata": {
    "deletable": false,
    "editable": false,
    "nbgrader": {
     "grade": false,
     "locked": true,
     "solution": false
    }
   },
   "source": [
    "## Instructions:\n",
    "\n",
    "**For the rest of the semester, we will be using Vocareum to work on and submit your homework assignments. Vocareum is a cloud platform for programming classes. It provides an infrastructure that allows us to move the educational aspects like assignments, exams, quizzes, etc, to the cloud. The merit of this platform is that all of you will be working in the same coding environment. This way we can eliminate many issues we might encounter when working on an individual basis, such as those with library installations and RStudio malfunctions. Some you you might be new to this platform, here we provided a few things to keep in mind to get you started, please try to read through them.**\n",
    "\n",
    "**Things to keep in mind:**\n",
    "\n",
    "\n",
    "<ol>\n",
    "<li>Even though we are moving from your local envrionment to the cloud, **our expectations from your homework will stay the same**. Same goes for the rubrics.</li>\n",
    "\n",
    "<li>Vocareum has its own cloud based file system, the data files you will be using for the assignments will be stored in the cloud with path **\"../resource/asnlib/publicdata/FILENAME.csv\"**. You will be able to import them with the same method as you do in RStudio, simply substitute the path name to the one specified in the instructions. You won't be able to modify these data files.</li>\n",
    "\n",
    "<li>You will be able to find the data files on Canvas/EdX if you would like to explore them offline.</li>\n",
    "\n",
    "<li>**For coding questions, you will be graded on the R code as well as the output** in your submission.</li>\n",
    "\n",
    "<li>**For interpretations or short response questions, please type the answers in the notebook's markdown cells**. To change a code cell to a markdown cell, click on the cell, and in the dropdown menu above, switch the type of the cell block from \"code\" to \"markdown\". **Adding print statements to code cells for short response/interpretation questions is also fine, as long as we can clearly see the output of your response**.</li>\n",
    "\n",
    "<li>You don't need to, but if you would like to learn more about how to format your markdown cells, visit the following site: https://www.earthdatascience.org/courses/intro-to-earth-data-science/file-formats/use-text-files/format-text-with-markdown-jupyter-notebook/. Jupyter notebook also support LaTeX.</li>\n",
    "\n",
    "<li>**Feel free to add as many additional cells as you need**. But please keep your solution to a question directly under that question to aviod confusions.</li>\n",
    "\n",
    "<li>You may delete the #SOLUTION BEGINS/ENDS HERE comments from the cell blocks, they are just pointers that indicates where to put you solutions.</li>\n",
    "\n",
    "<li>When you have finished the assignment, remember to rerun your notebook to check if it runs correctly. You can do so by going to **Kernel-> Restart & Run All**. You may lose points if your solutions does not run successfully.</li>\n",
    "\n",
    "<li>**Click the \"Submit\" button on the top right corner to turn in your assignment**. Your assignment will enter the next phase for peer review.</li>\n",
    "\n",
    "<li>You will be able to come back and resubmit your assignment as long as it is before the start of the peer review period.</li>\n",
    "\n",
    "</ol>"
   ]
  },
  {
   "cell_type": "markdown",
   "metadata": {
    "deletable": false,
    "editable": false,
    "nbgrader": {
     "grade": false,
     "locked": true,
     "solution": false
    }
   },
   "source": [
    "# About Package Installation:\n",
    "\n",
    "Most of the packages (if not all) that you will need to complete this assignment are already installed in this environment. An easy way to check this is to run the command: library(PackageName). If this command runs successfully then the package was already installed and has been successfully attached to the code. If the command gave an error saying the Package was not found then follow the steps below to successfully install the package and attach it to the code: \n",
    "\n",
    "Use *installed.packages()* command to return a table of the packages that are preinstalled in the environment.\n",
    "\n",
    "To attach a preinstalled library in Vocareum, simply use *library(PackageName)*\n",
    "\n",
    "**To install a package that does not come with the provided environment, please use the following syntax:**\n",
    "\n",
    "*install.packages(\"PackageName\", lib=\"../work/\")*\n",
    "\n",
    "**To attach a library you just installed, use the following syntax:**\n",
    "\n",
    "*library(PackageName, lib.loc=\"../work/\")*\n",
    "\n",
    "Make sure the file location is the same as the above code snippets *(\"../work/\")*"
   ]
  },
  {
   "cell_type": "markdown",
   "metadata": {
    "deletable": false,
    "editable": false,
    "nbgrader": {
     "grade": false,
     "locked": true,
     "solution": false
    }
   },
   "source": [
    "## Use the *\"Auto Insurance data.csv\"* provided and answer the following questions on Linear Regression:\n",
    "\n",
    "**Instruction: The file \"Auto Insurance data.csv\" can be accessed at the path: (\"../resource/asnlib/publicdata/Auto Insurance data.csv\")**"
   ]
  },
  {
   "cell_type": "markdown",
   "metadata": {
    "deletable": false,
    "editable": false,
    "nbgrader": {
     "grade": false,
     "locked": true,
     "solution": false
    }
   },
   "source": [
    "Q1. Read the \"Auto Insurance data.csv\" dataset and calculate the mean of the column \"Total_Payment_in_thousands\""
   ]
  },
  {
   "cell_type": "code",
   "execution_count": 4,
   "metadata": {},
   "outputs": [
    {
     "data": {
      "text/html": [
       "<table>\n",
       "<caption>A data.frame: 6 × 2</caption>\n",
       "<thead>\n",
       "\t<tr><th></th><th scope=col>Number_of_Claims</th><th scope=col>Total_Payment_in_thousands</th></tr>\n",
       "\t<tr><th></th><th scope=col>&lt;int&gt;</th><th scope=col>&lt;dbl&gt;</th></tr>\n",
       "</thead>\n",
       "<tbody>\n",
       "\t<tr><th scope=row>1</th><td>108</td><td>392.5</td></tr>\n",
       "\t<tr><th scope=row>2</th><td> 19</td><td> 46.2</td></tr>\n",
       "\t<tr><th scope=row>3</th><td> 13</td><td> 15.7</td></tr>\n",
       "\t<tr><th scope=row>4</th><td>124</td><td>422.2</td></tr>\n",
       "\t<tr><th scope=row>5</th><td> 40</td><td>119.4</td></tr>\n",
       "\t<tr><th scope=row>6</th><td> 57</td><td>170.9</td></tr>\n",
       "</tbody>\n",
       "</table>\n"
      ],
      "text/latex": [
       "A data.frame: 6 × 2\n",
       "\\begin{tabular}{r|ll}\n",
       "  & Number\\_of\\_Claims & Total\\_Payment\\_in\\_thousands\\\\\n",
       "  & <int> & <dbl>\\\\\n",
       "\\hline\n",
       "\t1 & 108 & 392.5\\\\\n",
       "\t2 &  19 &  46.2\\\\\n",
       "\t3 &  13 &  15.7\\\\\n",
       "\t4 & 124 & 422.2\\\\\n",
       "\t5 &  40 & 119.4\\\\\n",
       "\t6 &  57 & 170.9\\\\\n",
       "\\end{tabular}\n"
      ],
      "text/markdown": [
       "\n",
       "A data.frame: 6 × 2\n",
       "\n",
       "| <!--/--> | Number_of_Claims &lt;int&gt; | Total_Payment_in_thousands &lt;dbl&gt; |\n",
       "|---|---|---|\n",
       "| 1 | 108 | 392.5 |\n",
       "| 2 |  19 |  46.2 |\n",
       "| 3 |  13 |  15.7 |\n",
       "| 4 | 124 | 422.2 |\n",
       "| 5 |  40 | 119.4 |\n",
       "| 6 |  57 | 170.9 |\n",
       "\n"
      ],
      "text/plain": [
       "  Number_of_Claims Total_Payment_in_thousands\n",
       "1 108              392.5                     \n",
       "2  19               46.2                     \n",
       "3  13               15.7                     \n",
       "4 124              422.2                     \n",
       "5  40              119.4                     \n",
       "6  57              170.9                     "
      ]
     },
     "metadata": {},
     "output_type": "display_data"
    },
    {
     "data": {
      "text/html": [
       "98.1873015873016"
      ],
      "text/latex": [
       "98.1873015873016"
      ],
      "text/markdown": [
       "98.1873015873016"
      ],
      "text/plain": [
       "[1] 98.1873"
      ]
     },
     "metadata": {},
     "output_type": "display_data"
    }
   ],
   "source": [
    "# SOLUTION BEGINS HERE\n",
    "\n",
    "auto <- read.csv(\"../resource/asnlib/publicdata/Auto Insurance data.csv\", header=TRUE)\n",
    "head(auto)\n",
    "mean(auto$Total_Payment_in_thousands)\n",
    "# SOLUTION ENDS HERE"
   ]
  },
  {
   "cell_type": "markdown",
   "metadata": {},
   "source": [
    "Mean of Total Payment in Thousands = 98.1873015873016"
   ]
  },
  {
   "cell_type": "markdown",
   "metadata": {},
   "source": [
    "---"
   ]
  },
  {
   "cell_type": "markdown",
   "metadata": {
    "deletable": false,
    "editable": false,
    "nbgrader": {
     "grade": false,
     "locked": true,
     "solution": false
    }
   },
   "source": [
    "Q2. Create a plot of \"Total_Payment_in_thousands\" vs \"Number_of_Claims\" with \"Number_of_Claims\" on x-axis and \"Total_Payment_in_thousands\" on y-axis"
   ]
  },
  {
   "cell_type": "code",
   "execution_count": 10,
   "metadata": {},
   "outputs": [
    {
     "data": {
      "image/png": "[encoded data removed]",
      "text/plain": [
       "Plot with title “Total Payment in thousands vs Number of Claims”"
      ]
     },
     "metadata": {
      "image/png": {
       "height": 420,
       "width": 420
      }
     },
     "output_type": "display_data"
    }
   ],
   "source": [
    "# SOLUTION BEGINS HERE\n",
    "plot(auto$Number_of_Claims,auto$Total_Payment_in_thousands,col = 'blue', main = 'Total Payment in thousands vs Number of Claims', xlab = 'Number of Claims', ylab = 'Total Payment in Thousands')\n",
    "# SOLUTION ENDS HERE"
   ]
  },
  {
   "cell_type": "markdown",
   "metadata": {},
   "source": [
    "---"
   ]
  },
  {
   "cell_type": "markdown",
   "metadata": {
    "deletable": false,
    "editable": false,
    "nbgrader": {
     "grade": false,
     "locked": true,
     "solution": false
    }
   },
   "source": [
    "Q3. Create a simple regression model based on the dataset with \"Total_Payment_in_thousands\" as the response variable and \"Number_of_Claims\" as the independant variable. The formula for the model is given below. \n",
    "$$\\text{Total_Payment_in_thousands} = \\beta_0 + \\beta_1\\text{Number_of_Claims} $$\n",
    "Report the coefficient of \"Number_of_Claims\" ($\\beta_1$)"
   ]
  },
  {
   "cell_type": "code",
   "execution_count": 9,
   "metadata": {},
   "outputs": [
    {
     "data": {
      "text/plain": [
       "\n",
       "Call:\n",
       "lm(formula = Total_Payment_in_thousands ~ Number_of_Claims, data = auto)\n",
       "\n",
       "Coefficients:\n",
       "     (Intercept)  Number_of_Claims  \n",
       "          19.994             3.414  \n"
      ]
     },
     "metadata": {},
     "output_type": "display_data"
    }
   ],
   "source": [
    "# SOLUTION BEGINS HERE\n",
    "model <- lm(Total_Payment_in_thousands ~ Number_of_Claims, data = auto)\n",
    "model\n",
    "# SOLUTION ENDS HERE"
   ]
  },
  {
   "cell_type": "markdown",
   "metadata": {},
   "source": [
    "$\\beta_1 = 3.414$"
   ]
  },
  {
   "cell_type": "markdown",
   "metadata": {},
   "source": [
    "---"
   ]
  }
 ],
 "metadata": {
  "kernelspec": {
   "display_name": "R 4.0.2",
   "language": "R",
   "name": "ir-4.0.2"
  },
  "language_info": {
   "codemirror_mode": "r",
   "file_extension": ".r",
   "mimetype": "text/x-r-source",
   "name": "R",
   "pygments_lexer": "r",
   "version": "4.0.2"
  }
 },
 "nbformat": 4,
 "nbformat_minor": 2
}
