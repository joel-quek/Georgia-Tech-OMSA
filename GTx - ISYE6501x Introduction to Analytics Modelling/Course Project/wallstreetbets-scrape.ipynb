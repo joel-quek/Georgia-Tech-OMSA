{
 "cells": [
  {
   "cell_type": "markdown",
   "metadata": {},
   "source": [
    "<img src=\"http://imgur.com/1ZcRyrc.png\" style=\"float: left; margin: 20px; height: 55px\">\n",
    "\n",
    "# Project 3 Web APIs and NLP\n",
    "\n",
    "_Authors: Joel Quek (SG)_"
   ]
  },
  {
   "cell_type": "code",
   "execution_count": 30,
   "metadata": {},
   "outputs": [],
   "source": [
    "import requests\n",
    "import pandas as pd\n",
    "import time\n",
    "from datetime import datetime\n",
    "\n",
    "import random\n",
    "\n",
    "import json\n",
    "import csv"
   ]
  },
  {
   "cell_type": "code",
   "execution_count": 31,
   "metadata": {},
   "outputs": [],
   "source": [
    "url = 'https://api.pushshift.io/reddit/search/submission'"
   ]
  },
  {
   "cell_type": "markdown",
   "metadata": {},
   "source": [
    "## Current Unix Timestamp [[Epoch Converter]](https://www.epochconverter.com/)"
   ]
  },
  {
   "cell_type": "code",
   "execution_count": 32,
   "metadata": {},
   "outputs": [
    {
     "name": "stdout",
     "output_type": "stream",
     "text": [
      "1667627085.067862\n"
     ]
    }
   ],
   "source": [
    "presentDate = datetime.now()\n",
    "unix_timestamp = datetime.timestamp(presentDate)\n",
    "print(unix_timestamp)"
   ]
  },
  {
   "cell_type": "markdown",
   "metadata": {},
   "source": [
    "https://www.epochconverter.com/"
   ]
  },
  {
   "cell_type": "markdown",
   "metadata": {},
   "source": [
    "## Function "
   ]
  },
  {
   "cell_type": "code",
   "execution_count": 33,
   "metadata": {},
   "outputs": [],
   "source": [
    "def PushShift5000(sub, size, present):\n",
    "    url = 'https://api.pushshift.io/reddit/search/submission'\n",
    "    #-----------------------------------------------------------------\n",
    "    params ={\n",
    "        'subreddit': str(sub),\n",
    "        'size': int(size),\n",
    "        'before': int(present)\n",
    "    }\n",
    "    res = requests.get(url,params)\n",
    "    data=res.json()\n",
    "    posts = data['data']\n",
    "    df=pd.DataFrame(posts)\n",
    "    max_size = df.shape[0]-1\n",
    "    #------------------------------------------------------------------\n",
    "    while df.shape[0] < size:\n",
    "        params2 ={\n",
    "            'subreddit': str(sub),\n",
    "            'size': int(size),\n",
    "            'before': posts[max_size]['created_utc']\n",
    "        }\n",
    "        res2 = requests.get(url,params2)\n",
    "        data2=res2.json()\n",
    "        posts = data2['data']\n",
    "        df2=pd.DataFrame(posts) \n",
    "        df=pd.concat([df,df2],ignore_index=True)\n",
    "    return df"
   ]
  },
  {
   "cell_type": "markdown",
   "metadata": {},
   "source": [
    "# r/wallstreetbets"
   ]
  },
  {
   "cell_type": "code",
   "execution_count": 34,
   "metadata": {},
   "outputs": [],
   "source": [
    "wallstreetbets = PushShift5000('wallstreetbets', 2500, unix_timestamp)"
   ]
  },
  {
   "cell_type": "code",
   "execution_count": 35,
   "metadata": {},
   "outputs": [
    {
     "name": "stdout",
     "output_type": "stream",
     "text": [
      "(2500, 83)\n"
     ]
    },
    {
     "data": {
      "text/html": [
       "<div>\n",
       "<style scoped>\n",
       "    .dataframe tbody tr th:only-of-type {\n",
       "        vertical-align: middle;\n",
       "    }\n",
       "\n",
       "    .dataframe tbody tr th {\n",
       "        vertical-align: top;\n",
       "    }\n",
       "\n",
       "    .dataframe thead th {\n",
       "        text-align: right;\n",
       "    }\n",
       "</style>\n",
       "<table border=\"1\" class=\"dataframe\">\n",
       "  <thead>\n",
       "    <tr style=\"text-align: right;\">\n",
       "      <th></th>\n",
       "      <th>all_awardings</th>\n",
       "      <th>allow_live_comments</th>\n",
       "      <th>author</th>\n",
       "      <th>author_flair_css_class</th>\n",
       "      <th>author_flair_richtext</th>\n",
       "      <th>author_flair_text</th>\n",
       "      <th>author_flair_type</th>\n",
       "      <th>author_fullname</th>\n",
       "      <th>author_is_blocked</th>\n",
       "      <th>author_patreon_flair</th>\n",
       "      <th>author_premium</th>\n",
       "      <th>awarders</th>\n",
       "      <th>can_mod_post</th>\n",
       "      <th>contest_mode</th>\n",
       "      <th>created_utc</th>\n",
       "      <th>domain</th>\n",
       "      <th>full_link</th>\n",
       "      <th>gildings</th>\n",
       "      <th>id</th>\n",
       "      <th>is_created_from_ads_ui</th>\n",
       "      <th>is_crosspostable</th>\n",
       "      <th>is_meta</th>\n",
       "      <th>is_original_content</th>\n",
       "      <th>is_reddit_media_domain</th>\n",
       "      <th>is_robot_indexable</th>\n",
       "      <th>is_self</th>\n",
       "      <th>is_video</th>\n",
       "      <th>link_flair_background_color</th>\n",
       "      <th>link_flair_css_class</th>\n",
       "      <th>link_flair_richtext</th>\n",
       "      <th>link_flair_template_id</th>\n",
       "      <th>link_flair_text</th>\n",
       "      <th>link_flair_text_color</th>\n",
       "      <th>link_flair_type</th>\n",
       "      <th>locked</th>\n",
       "      <th>media_only</th>\n",
       "      <th>no_follow</th>\n",
       "      <th>num_comments</th>\n",
       "      <th>num_crossposts</th>\n",
       "      <th>over_18</th>\n",
       "      <th>parent_whitelist_status</th>\n",
       "      <th>permalink</th>\n",
       "      <th>pinned</th>\n",
       "      <th>post_hint</th>\n",
       "      <th>preview</th>\n",
       "      <th>pwls</th>\n",
       "      <th>retrieved_on</th>\n",
       "      <th>score</th>\n",
       "      <th>selftext</th>\n",
       "      <th>send_replies</th>\n",
       "      <th>spoiler</th>\n",
       "      <th>stickied</th>\n",
       "      <th>subreddit</th>\n",
       "      <th>subreddit_id</th>\n",
       "      <th>subreddit_subscribers</th>\n",
       "      <th>subreddit_type</th>\n",
       "      <th>suggested_sort</th>\n",
       "      <th>thumbnail</th>\n",
       "      <th>thumbnail_height</th>\n",
       "      <th>thumbnail_width</th>\n",
       "      <th>title</th>\n",
       "      <th>total_awards_received</th>\n",
       "      <th>treatment_tags</th>\n",
       "      <th>upvote_ratio</th>\n",
       "      <th>url</th>\n",
       "      <th>url_overridden_by_dest</th>\n",
       "      <th>whitelist_status</th>\n",
       "      <th>wls</th>\n",
       "      <th>removed_by_category</th>\n",
       "      <th>author_flair_background_color</th>\n",
       "      <th>author_flair_text_color</th>\n",
       "      <th>is_gallery</th>\n",
       "      <th>author_flair_template_id</th>\n",
       "      <th>media_metadata</th>\n",
       "      <th>media</th>\n",
       "      <th>media_embed</th>\n",
       "      <th>secure_media</th>\n",
       "      <th>secure_media_embed</th>\n",
       "      <th>gallery_data</th>\n",
       "      <th>poll_data</th>\n",
       "      <th>banned_by</th>\n",
       "      <th>live_audio</th>\n",
       "      <th>author_cakeday</th>\n",
       "    </tr>\n",
       "  </thead>\n",
       "  <tbody>\n",
       "    <tr>\n",
       "      <th>0</th>\n",
       "      <td>[]</td>\n",
       "      <td>False</td>\n",
       "      <td>Pro-Gambler99</td>\n",
       "      <td>None</td>\n",
       "      <td>[]</td>\n",
       "      <td>None</td>\n",
       "      <td>text</td>\n",
       "      <td>t2_t5c0fa0k</td>\n",
       "      <td>False</td>\n",
       "      <td>False</td>\n",
       "      <td>False</td>\n",
       "      <td>[]</td>\n",
       "      <td>False</td>\n",
       "      <td>False</td>\n",
       "      <td>1667623379</td>\n",
       "      <td>i.redd.it</td>\n",
       "      <td>https://www.reddit.com/r/wallstreetbets/commen...</td>\n",
       "      <td>{}</td>\n",
       "      <td>ymkcn4</td>\n",
       "      <td>False</td>\n",
       "      <td>True</td>\n",
       "      <td>False</td>\n",
       "      <td>False</td>\n",
       "      <td>True</td>\n",
       "      <td>True</td>\n",
       "      <td>False</td>\n",
       "      <td>False</td>\n",
       "      <td>#014980</td>\n",
       "      <td>meme</td>\n",
       "      <td>[{'e': 'text', 't': 'Meme'}]</td>\n",
       "      <td>0513bea8-4f64-11e9-886d-0e2b4fe7300c</td>\n",
       "      <td>Meme</td>\n",
       "      <td>light</td>\n",
       "      <td>richtext</td>\n",
       "      <td>False</td>\n",
       "      <td>False</td>\n",
       "      <td>True</td>\n",
       "      <td>1</td>\n",
       "      <td>0</td>\n",
       "      <td>False</td>\n",
       "      <td>some_ads</td>\n",
       "      <td>/r/wallstreetbets/comments/ymkcn4/i_wish_i_was...</td>\n",
       "      <td>False</td>\n",
       "      <td>image</td>\n",
       "      <td>{'enabled': True, 'images': [{'id': '8g2q9oaVA...</td>\n",
       "      <td>7</td>\n",
       "      <td>1667623390</td>\n",
       "      <td>1</td>\n",
       "      <td></td>\n",
       "      <td>True</td>\n",
       "      <td>False</td>\n",
       "      <td>False</td>\n",
       "      <td>wallstreetbets</td>\n",
       "      <td>t5_2th52</td>\n",
       "      <td>13003730</td>\n",
       "      <td>public</td>\n",
       "      <td>confidence</td>\n",
       "      <td>https://b.thumbs.redditmedia.com/A_H6HxZ-vgbhS...</td>\n",
       "      <td>111.0</td>\n",
       "      <td>140.0</td>\n",
       "      <td>i wish i was indian</td>\n",
       "      <td>0</td>\n",
       "      <td>[]</td>\n",
       "      <td>1.0</td>\n",
       "      <td>https://i.redd.it/533ww70hs3y91.png</td>\n",
       "      <td>https://i.redd.it/533ww70hs3y91.png</td>\n",
       "      <td>some_ads</td>\n",
       "      <td>7</td>\n",
       "      <td>NaN</td>\n",
       "      <td>NaN</td>\n",
       "      <td>NaN</td>\n",
       "      <td>NaN</td>\n",
       "      <td>NaN</td>\n",
       "      <td>NaN</td>\n",
       "      <td>NaN</td>\n",
       "      <td>NaN</td>\n",
       "      <td>NaN</td>\n",
       "      <td>NaN</td>\n",
       "      <td>NaN</td>\n",
       "      <td>NaN</td>\n",
       "      <td>NaN</td>\n",
       "      <td>NaN</td>\n",
       "      <td>NaN</td>\n",
       "    </tr>\n",
       "    <tr>\n",
       "      <th>1</th>\n",
       "      <td>[]</td>\n",
       "      <td>False</td>\n",
       "      <td>Fit_One4445</td>\n",
       "      <td>None</td>\n",
       "      <td>[]</td>\n",
       "      <td>None</td>\n",
       "      <td>text</td>\n",
       "      <td>t2_7cutind3</td>\n",
       "      <td>False</td>\n",
       "      <td>False</td>\n",
       "      <td>False</td>\n",
       "      <td>[]</td>\n",
       "      <td>False</td>\n",
       "      <td>False</td>\n",
       "      <td>1667623262</td>\n",
       "      <td>i.redd.it</td>\n",
       "      <td>https://www.reddit.com/r/wallstreetbets/commen...</td>\n",
       "      <td>{}</td>\n",
       "      <td>ymkbfb</td>\n",
       "      <td>False</td>\n",
       "      <td>True</td>\n",
       "      <td>False</td>\n",
       "      <td>False</td>\n",
       "      <td>True</td>\n",
       "      <td>True</td>\n",
       "      <td>False</td>\n",
       "      <td>False</td>\n",
       "      <td>#014980</td>\n",
       "      <td>meme</td>\n",
       "      <td>[{'e': 'text', 't': 'Meme'}]</td>\n",
       "      <td>0513bea8-4f64-11e9-886d-0e2b4fe7300c</td>\n",
       "      <td>Meme</td>\n",
       "      <td>light</td>\n",
       "      <td>richtext</td>\n",
       "      <td>False</td>\n",
       "      <td>False</td>\n",
       "      <td>True</td>\n",
       "      <td>1</td>\n",
       "      <td>0</td>\n",
       "      <td>False</td>\n",
       "      <td>some_ads</td>\n",
       "      <td>/r/wallstreetbets/comments/ymkbfb/be_back_in_3...</td>\n",
       "      <td>False</td>\n",
       "      <td>image</td>\n",
       "      <td>{'enabled': True, 'images': [{'id': 'pH2ONVIy7...</td>\n",
       "      <td>7</td>\n",
       "      <td>1667623273</td>\n",
       "      <td>1</td>\n",
       "      <td></td>\n",
       "      <td>True</td>\n",
       "      <td>False</td>\n",
       "      <td>False</td>\n",
       "      <td>wallstreetbets</td>\n",
       "      <td>t5_2th52</td>\n",
       "      <td>13003722</td>\n",
       "      <td>public</td>\n",
       "      <td>confidence</td>\n",
       "      <td>https://b.thumbs.redditmedia.com/x3X1Jf1wJZqbY...</td>\n",
       "      <td>98.0</td>\n",
       "      <td>140.0</td>\n",
       "      <td>Be back in 3 months I guess…</td>\n",
       "      <td>0</td>\n",
       "      <td>[]</td>\n",
       "      <td>1.0</td>\n",
       "      <td>https://i.redd.it/euu5cjfma2y91.jpg</td>\n",
       "      <td>https://i.redd.it/euu5cjfma2y91.jpg</td>\n",
       "      <td>some_ads</td>\n",
       "      <td>7</td>\n",
       "      <td>NaN</td>\n",
       "      <td>NaN</td>\n",
       "      <td>NaN</td>\n",
       "      <td>NaN</td>\n",
       "      <td>NaN</td>\n",
       "      <td>NaN</td>\n",
       "      <td>NaN</td>\n",
       "      <td>NaN</td>\n",
       "      <td>NaN</td>\n",
       "      <td>NaN</td>\n",
       "      <td>NaN</td>\n",
       "      <td>NaN</td>\n",
       "      <td>NaN</td>\n",
       "      <td>NaN</td>\n",
       "      <td>NaN</td>\n",
       "    </tr>\n",
       "    <tr>\n",
       "      <th>2</th>\n",
       "      <td>[]</td>\n",
       "      <td>False</td>\n",
       "      <td>Plastic-Ad-2191</td>\n",
       "      <td>None</td>\n",
       "      <td>[]</td>\n",
       "      <td>None</td>\n",
       "      <td>text</td>\n",
       "      <td>t2_9055lcq2</td>\n",
       "      <td>False</td>\n",
       "      <td>False</td>\n",
       "      <td>False</td>\n",
       "      <td>[]</td>\n",
       "      <td>False</td>\n",
       "      <td>False</td>\n",
       "      <td>1667622272</td>\n",
       "      <td>self.wallstreetbets</td>\n",
       "      <td>https://www.reddit.com/r/wallstreetbets/commen...</td>\n",
       "      <td>{}</td>\n",
       "      <td>ymk0mh</td>\n",
       "      <td>False</td>\n",
       "      <td>True</td>\n",
       "      <td>False</td>\n",
       "      <td>False</td>\n",
       "      <td>False</td>\n",
       "      <td>True</td>\n",
       "      <td>True</td>\n",
       "      <td>False</td>\n",
       "      <td>#800080</td>\n",
       "      <td>question</td>\n",
       "      <td>[{'e': 'text', 't': 'Discussion'}]</td>\n",
       "      <td>96f6c79e-b853-11e5-a4cb-0ebdf030e05d</td>\n",
       "      <td>Discussion</td>\n",
       "      <td>light</td>\n",
       "      <td>richtext</td>\n",
       "      <td>False</td>\n",
       "      <td>False</td>\n",
       "      <td>False</td>\n",
       "      <td>1</td>\n",
       "      <td>0</td>\n",
       "      <td>False</td>\n",
       "      <td>some_ads</td>\n",
       "      <td>/r/wallstreetbets/comments/ymk0mh/introducing_...</td>\n",
       "      <td>False</td>\n",
       "      <td>NaN</td>\n",
       "      <td>NaN</td>\n",
       "      <td>7</td>\n",
       "      <td>1667622283</td>\n",
       "      <td>1</td>\n",
       "      <td>What do you think to become in a \"introducing ...</td>\n",
       "      <td>True</td>\n",
       "      <td>False</td>\n",
       "      <td>False</td>\n",
       "      <td>wallstreetbets</td>\n",
       "      <td>t5_2th52</td>\n",
       "      <td>13003656</td>\n",
       "      <td>public</td>\n",
       "      <td>confidence</td>\n",
       "      <td>self</td>\n",
       "      <td>NaN</td>\n",
       "      <td>NaN</td>\n",
       "      <td>INTRODUCING BROKER TICKMILL</td>\n",
       "      <td>0</td>\n",
       "      <td>[]</td>\n",
       "      <td>1.0</td>\n",
       "      <td>https://www.reddit.com/r/wallstreetbets/commen...</td>\n",
       "      <td>NaN</td>\n",
       "      <td>some_ads</td>\n",
       "      <td>7</td>\n",
       "      <td>NaN</td>\n",
       "      <td>NaN</td>\n",
       "      <td>NaN</td>\n",
       "      <td>NaN</td>\n",
       "      <td>NaN</td>\n",
       "      <td>NaN</td>\n",
       "      <td>NaN</td>\n",
       "      <td>NaN</td>\n",
       "      <td>NaN</td>\n",
       "      <td>NaN</td>\n",
       "      <td>NaN</td>\n",
       "      <td>NaN</td>\n",
       "      <td>NaN</td>\n",
       "      <td>NaN</td>\n",
       "      <td>NaN</td>\n",
       "    </tr>\n",
       "  </tbody>\n",
       "</table>\n",
       "</div>"
      ],
      "text/plain": [
       "  all_awardings  allow_live_comments           author author_flair_css_class  \\\n",
       "0            []                False    Pro-Gambler99                   None   \n",
       "1            []                False      Fit_One4445                   None   \n",
       "2            []                False  Plastic-Ad-2191                   None   \n",
       "\n",
       "  author_flair_richtext author_flair_text author_flair_type author_fullname  \\\n",
       "0                    []              None              text     t2_t5c0fa0k   \n",
       "1                    []              None              text     t2_7cutind3   \n",
       "2                    []              None              text     t2_9055lcq2   \n",
       "\n",
       "   author_is_blocked author_patreon_flair author_premium awarders  \\\n",
       "0              False                False          False       []   \n",
       "1              False                False          False       []   \n",
       "2              False                False          False       []   \n",
       "\n",
       "   can_mod_post  contest_mode  created_utc               domain  \\\n",
       "0         False         False   1667623379            i.redd.it   \n",
       "1         False         False   1667623262            i.redd.it   \n",
       "2         False         False   1667622272  self.wallstreetbets   \n",
       "\n",
       "                                           full_link gildings      id  \\\n",
       "0  https://www.reddit.com/r/wallstreetbets/commen...       {}  ymkcn4   \n",
       "1  https://www.reddit.com/r/wallstreetbets/commen...       {}  ymkbfb   \n",
       "2  https://www.reddit.com/r/wallstreetbets/commen...       {}  ymk0mh   \n",
       "\n",
       "   is_created_from_ads_ui  is_crosspostable  is_meta  is_original_content  \\\n",
       "0                   False              True    False                False   \n",
       "1                   False              True    False                False   \n",
       "2                   False              True    False                False   \n",
       "\n",
       "   is_reddit_media_domain  is_robot_indexable  is_self  is_video  \\\n",
       "0                    True                True    False     False   \n",
       "1                    True                True    False     False   \n",
       "2                   False                True     True     False   \n",
       "\n",
       "  link_flair_background_color link_flair_css_class  \\\n",
       "0                     #014980                 meme   \n",
       "1                     #014980                 meme   \n",
       "2                     #800080             question   \n",
       "\n",
       "                  link_flair_richtext                link_flair_template_id  \\\n",
       "0        [{'e': 'text', 't': 'Meme'}]  0513bea8-4f64-11e9-886d-0e2b4fe7300c   \n",
       "1        [{'e': 'text', 't': 'Meme'}]  0513bea8-4f64-11e9-886d-0e2b4fe7300c   \n",
       "2  [{'e': 'text', 't': 'Discussion'}]  96f6c79e-b853-11e5-a4cb-0ebdf030e05d   \n",
       "\n",
       "  link_flair_text link_flair_text_color link_flair_type  locked  media_only  \\\n",
       "0            Meme                 light        richtext   False       False   \n",
       "1            Meme                 light        richtext   False       False   \n",
       "2      Discussion                 light        richtext   False       False   \n",
       "\n",
       "   no_follow  num_comments  num_crossposts  over_18 parent_whitelist_status  \\\n",
       "0       True             1               0    False                some_ads   \n",
       "1       True             1               0    False                some_ads   \n",
       "2      False             1               0    False                some_ads   \n",
       "\n",
       "                                           permalink  pinned post_hint  \\\n",
       "0  /r/wallstreetbets/comments/ymkcn4/i_wish_i_was...   False     image   \n",
       "1  /r/wallstreetbets/comments/ymkbfb/be_back_in_3...   False     image   \n",
       "2  /r/wallstreetbets/comments/ymk0mh/introducing_...   False       NaN   \n",
       "\n",
       "                                             preview  pwls  retrieved_on  \\\n",
       "0  {'enabled': True, 'images': [{'id': '8g2q9oaVA...     7    1667623390   \n",
       "1  {'enabled': True, 'images': [{'id': 'pH2ONVIy7...     7    1667623273   \n",
       "2                                                NaN     7    1667622283   \n",
       "\n",
       "   score                                           selftext  send_replies  \\\n",
       "0      1                                                             True   \n",
       "1      1                                                             True   \n",
       "2      1  What do you think to become in a \"introducing ...          True   \n",
       "\n",
       "   spoiler  stickied       subreddit subreddit_id  subreddit_subscribers  \\\n",
       "0    False     False  wallstreetbets     t5_2th52               13003730   \n",
       "1    False     False  wallstreetbets     t5_2th52               13003722   \n",
       "2    False     False  wallstreetbets     t5_2th52               13003656   \n",
       "\n",
       "  subreddit_type suggested_sort  \\\n",
       "0         public     confidence   \n",
       "1         public     confidence   \n",
       "2         public     confidence   \n",
       "\n",
       "                                           thumbnail  thumbnail_height  \\\n",
       "0  https://b.thumbs.redditmedia.com/A_H6HxZ-vgbhS...             111.0   \n",
       "1  https://b.thumbs.redditmedia.com/x3X1Jf1wJZqbY...              98.0   \n",
       "2                                               self               NaN   \n",
       "\n",
       "   thumbnail_width                         title  total_awards_received  \\\n",
       "0            140.0           i wish i was indian                      0   \n",
       "1            140.0  Be back in 3 months I guess…                      0   \n",
       "2              NaN   INTRODUCING BROKER TICKMILL                      0   \n",
       "\n",
       "  treatment_tags  upvote_ratio  \\\n",
       "0             []           1.0   \n",
       "1             []           1.0   \n",
       "2             []           1.0   \n",
       "\n",
       "                                                 url  \\\n",
       "0                https://i.redd.it/533ww70hs3y91.png   \n",
       "1                https://i.redd.it/euu5cjfma2y91.jpg   \n",
       "2  https://www.reddit.com/r/wallstreetbets/commen...   \n",
       "\n",
       "                url_overridden_by_dest whitelist_status  wls  \\\n",
       "0  https://i.redd.it/533ww70hs3y91.png         some_ads    7   \n",
       "1  https://i.redd.it/euu5cjfma2y91.jpg         some_ads    7   \n",
       "2                                  NaN         some_ads    7   \n",
       "\n",
       "  removed_by_category author_flair_background_color author_flair_text_color  \\\n",
       "0                 NaN                           NaN                     NaN   \n",
       "1                 NaN                           NaN                     NaN   \n",
       "2                 NaN                           NaN                     NaN   \n",
       "\n",
       "  is_gallery author_flair_template_id media_metadata media media_embed  \\\n",
       "0        NaN                      NaN            NaN   NaN         NaN   \n",
       "1        NaN                      NaN            NaN   NaN         NaN   \n",
       "2        NaN                      NaN            NaN   NaN         NaN   \n",
       "\n",
       "  secure_media secure_media_embed gallery_data poll_data banned_by live_audio  \\\n",
       "0          NaN                NaN          NaN       NaN       NaN        NaN   \n",
       "1          NaN                NaN          NaN       NaN       NaN        NaN   \n",
       "2          NaN                NaN          NaN       NaN       NaN        NaN   \n",
       "\n",
       "  author_cakeday  \n",
       "0            NaN  \n",
       "1            NaN  \n",
       "2            NaN  "
      ]
     },
     "execution_count": 35,
     "metadata": {},
     "output_type": "execute_result"
    }
   ],
   "source": [
    "pd.set_option('display.max_columns', None)\n",
    "\n",
    "print(wallstreetbets.shape)\n",
    "\n",
    "wallstreetbets.head(3)"
   ]
  },
  {
   "cell_type": "code",
   "execution_count": 36,
   "metadata": {},
   "outputs": [
    {
     "data": {
      "text/plain": [
       "1667308264"
      ]
     },
     "execution_count": 36,
     "metadata": {},
     "output_type": "execute_result"
    }
   ],
   "source": [
    "wallstreetbets.iloc[wallstreetbets.shape[0]-1]['created_utc']"
   ]
  },
  {
   "cell_type": "markdown",
   "metadata": {},
   "source": [
    "---"
   ]
  },
  {
   "cell_type": "code",
   "execution_count": 37,
   "metadata": {},
   "outputs": [],
   "source": [
    "wallstreetbets2 = PushShift5000('wallstreetbets', 500, 1667308264)"
   ]
  },
  {
   "cell_type": "code",
   "execution_count": 38,
   "metadata": {},
   "outputs": [
    {
     "data": {
      "text/plain": [
       "(3000, 83)"
      ]
     },
     "execution_count": 38,
     "metadata": {},
     "output_type": "execute_result"
    }
   ],
   "source": [
    "wallstreetbets=pd.concat([wallstreetbets,wallstreetbets2],ignore_index=True)\n",
    "wallstreetbets.shape"
   ]
  },
  {
   "cell_type": "code",
   "execution_count": 39,
   "metadata": {},
   "outputs": [
    {
     "data": {
      "text/plain": [
       "1667234194"
      ]
     },
     "execution_count": 39,
     "metadata": {},
     "output_type": "execute_result"
    }
   ],
   "source": [
    "wallstreetbets2.iloc[wallstreetbets2.shape[0]-1]['created_utc']"
   ]
  },
  {
   "cell_type": "markdown",
   "metadata": {},
   "source": [
    "---"
   ]
  },
  {
   "cell_type": "code",
   "execution_count": 40,
   "metadata": {},
   "outputs": [],
   "source": [
    "wallstreetbets3 = PushShift5000('wallstreetbets', 500, 1667234194)"
   ]
  },
  {
   "cell_type": "code",
   "execution_count": 41,
   "metadata": {},
   "outputs": [
    {
     "data": {
      "text/plain": [
       "(3749, 83)"
      ]
     },
     "execution_count": 41,
     "metadata": {},
     "output_type": "execute_result"
    }
   ],
   "source": [
    "wallstreetbets=pd.concat([wallstreetbets,wallstreetbets3],ignore_index=True)\n",
    "wallstreetbets.shape"
   ]
  },
  {
   "cell_type": "code",
   "execution_count": 42,
   "metadata": {},
   "outputs": [
    {
     "data": {
      "text/plain": [
       "1667081029"
      ]
     },
     "execution_count": 42,
     "metadata": {},
     "output_type": "execute_result"
    }
   ],
   "source": [
    "wallstreetbets3.iloc[wallstreetbets3.shape[0]-1]['created_utc']"
   ]
  },
  {
   "cell_type": "markdown",
   "metadata": {},
   "source": [
    "---"
   ]
  },
  {
   "cell_type": "code",
   "execution_count": 43,
   "metadata": {},
   "outputs": [],
   "source": [
    "wallstreetbets4 = PushShift5000('wallstreetbets', 500, 1667081029)"
   ]
  },
  {
   "cell_type": "code",
   "execution_count": 44,
   "metadata": {},
   "outputs": [
    {
     "data": {
      "text/plain": [
       "(4498, 83)"
      ]
     },
     "execution_count": 44,
     "metadata": {},
     "output_type": "execute_result"
    }
   ],
   "source": [
    "wallstreetbets=pd.concat([wallstreetbets,wallstreetbets4],ignore_index=True)\n",
    "wallstreetbets.shape"
   ]
  },
  {
   "cell_type": "code",
   "execution_count": 45,
   "metadata": {},
   "outputs": [
    {
     "data": {
      "text/plain": [
       "1666977111"
      ]
     },
     "execution_count": 45,
     "metadata": {},
     "output_type": "execute_result"
    }
   ],
   "source": [
    "wallstreetbets4.iloc[wallstreetbets4.shape[0]-1]['created_utc']"
   ]
  },
  {
   "cell_type": "markdown",
   "metadata": {},
   "source": [
    "---"
   ]
  },
  {
   "cell_type": "code",
   "execution_count": 46,
   "metadata": {},
   "outputs": [],
   "source": [
    "wallstreetbets5 = PushShift5000('wallstreetbets', 500, 1666977111)"
   ]
  },
  {
   "cell_type": "code",
   "execution_count": 47,
   "metadata": {},
   "outputs": [
    {
     "data": {
      "text/plain": [
       "(4998, 83)"
      ]
     },
     "execution_count": 47,
     "metadata": {},
     "output_type": "execute_result"
    }
   ],
   "source": [
    "wallstreetbets=pd.concat([wallstreetbets,wallstreetbets5],ignore_index=True)\n",
    "wallstreetbets.shape"
   ]
  },
  {
   "cell_type": "code",
   "execution_count": 48,
   "metadata": {},
   "outputs": [
    {
     "data": {
      "text/plain": [
       "1666922376"
      ]
     },
     "execution_count": 48,
     "metadata": {},
     "output_type": "execute_result"
    }
   ],
   "source": [
    "wallstreetbets5.iloc[wallstreetbets5.shape[0]-1]['created_utc']"
   ]
  },
  {
   "cell_type": "markdown",
   "metadata": {},
   "source": [
    "---"
   ]
  },
  {
   "cell_type": "code",
   "execution_count": 51,
   "metadata": {},
   "outputs": [],
   "source": [
    "wallstreetbets6 = PushShift5000('wallstreetbets', 500, 1666922376)"
   ]
  },
  {
   "cell_type": "code",
   "execution_count": 52,
   "metadata": {},
   "outputs": [
    {
     "data": {
      "text/plain": [
       "(5498, 83)"
      ]
     },
     "execution_count": 52,
     "metadata": {},
     "output_type": "execute_result"
    }
   ],
   "source": [
    "wallstreetbets=pd.concat([wallstreetbets,wallstreetbets6],ignore_index=True)\n",
    "wallstreetbets.shape"
   ]
  },
  {
   "cell_type": "code",
   "execution_count": 53,
   "metadata": {},
   "outputs": [
    {
     "data": {
      "text/plain": [
       "1666890339"
      ]
     },
     "execution_count": 53,
     "metadata": {},
     "output_type": "execute_result"
    }
   ],
   "source": [
    "wallstreetbets6.iloc[wallstreetbets6.shape[0]-1]['created_utc']"
   ]
  },
  {
   "cell_type": "markdown",
   "metadata": {},
   "source": [
    "---"
   ]
  },
  {
   "cell_type": "code",
   "execution_count": 55,
   "metadata": {},
   "outputs": [],
   "source": [
    "wallstreetbets7 = PushShift5000('wallstreetbets', 500, 1666890339)"
   ]
  },
  {
   "cell_type": "code",
   "execution_count": 56,
   "metadata": {},
   "outputs": [
    {
     "data": {
      "text/plain": [
       "(5998, 83)"
      ]
     },
     "execution_count": 56,
     "metadata": {},
     "output_type": "execute_result"
    }
   ],
   "source": [
    "wallstreetbets=pd.concat([wallstreetbets,wallstreetbets7],ignore_index=True)\n",
    "wallstreetbets.shape"
   ]
  },
  {
   "cell_type": "code",
   "execution_count": 57,
   "metadata": {},
   "outputs": [
    {
     "data": {
      "text/plain": [
       "1666828956"
      ]
     },
     "execution_count": 57,
     "metadata": {},
     "output_type": "execute_result"
    }
   ],
   "source": [
    "wallstreetbets7.iloc[wallstreetbets6.shape[0]-1]['created_utc']"
   ]
  },
  {
   "cell_type": "markdown",
   "metadata": {},
   "source": [
    "---"
   ]
  },
  {
   "cell_type": "code",
   "execution_count": 58,
   "metadata": {},
   "outputs": [],
   "source": [
    "wallstreetbets.to_csv('datasets/wallstreetbets.csv')"
   ]
  }
 ],
 "metadata": {
  "kernelspec": {
   "display_name": "Python 3.10.5 64-bit",
   "language": "python",
   "name": "python3"
  },
  "language_info": {
   "codemirror_mode": {
    "name": "ipython",
    "version": 3
   },
   "file_extension": ".py",
   "mimetype": "text/x-python",
   "name": "python",
   "nbconvert_exporter": "python",
   "pygments_lexer": "ipython3",
   "version": "3.10.5"
  },
  "orig_nbformat": 4,
  "vscode": {
   "interpreter": {
    "hash": "f1131d84b9e97d700f196cec3f143c1c5ca4787d89ba01101505d30befb8a4c0"
   }
  }
 },
 "nbformat": 4,
 "nbformat_minor": 2
}
