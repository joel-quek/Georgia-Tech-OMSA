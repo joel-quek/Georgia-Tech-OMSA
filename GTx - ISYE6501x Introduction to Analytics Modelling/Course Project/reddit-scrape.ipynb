{
 "cells": [
  {
   "cell_type": "markdown",
   "metadata": {},
   "source": [
    "<img src=\"http://imgur.com/1ZcRyrc.png\" style=\"float: left; margin: 20px; height: 55px\">\n",
    "\n",
    "# Project 3 Web APIs and NLP\n",
    "\n",
    "_Authors: Joel Quek (SG)_"
   ]
  },
  {
   "cell_type": "markdown",
   "metadata": {},
   "source": [
    "# Web Scraping for r/investing"
   ]
  },
  {
   "cell_type": "code",
   "execution_count": 1,
   "metadata": {},
   "outputs": [],
   "source": [
    "import requests\n",
    "import pandas as pd\n",
    "import time\n",
    "from datetime import datetime\n",
    "\n",
    "import random\n",
    "\n",
    "import json\n",
    "import csv"
   ]
  },
  {
   "cell_type": "code",
   "execution_count": 2,
   "metadata": {},
   "outputs": [],
   "source": [
    "url = 'https://api.pushshift.io/reddit/search/submission'"
   ]
  },
  {
   "cell_type": "markdown",
   "metadata": {},
   "source": [
    "# Function to Pull 5000 rows of data"
   ]
  },
  {
   "cell_type": "markdown",
   "metadata": {},
   "source": [
    "## Current Unix Timestamp [[Epoch Converter]](https://www.epochconverter.com/)"
   ]
  },
  {
   "cell_type": "code",
   "execution_count": 3,
   "metadata": {},
   "outputs": [
    {
     "name": "stdout",
     "output_type": "stream",
     "text": [
      "1667611970.297744\n"
     ]
    }
   ],
   "source": [
    "presentDate = datetime.now()\n",
    "unix_timestamp = datetime.timestamp(presentDate)\n",
    "print(unix_timestamp)"
   ]
  },
  {
   "cell_type": "markdown",
   "metadata": {},
   "source": [
    "https://www.epochconverter.com/"
   ]
  },
  {
   "cell_type": "markdown",
   "metadata": {},
   "source": [
    "## Function "
   ]
  },
  {
   "cell_type": "code",
   "execution_count": 4,
   "metadata": {},
   "outputs": [],
   "source": [
    "def PushShift5000(sub, size, present):\n",
    "    url = 'https://api.pushshift.io/reddit/search/submission'\n",
    "    #-----------------------------------------------------------------\n",
    "    params ={\n",
    "        'subreddit': str(sub),\n",
    "        'size': int(size),\n",
    "        'before': int(present)\n",
    "    }\n",
    "    res = requests.get(url,params)\n",
    "    data=res.json()\n",
    "    posts = data['data']\n",
    "    df=pd.DataFrame(posts)\n",
    "    max_size = df.shape[0]-1\n",
    "    #------------------------------------------------------------------\n",
    "    while df.shape[0] < size:\n",
    "        params2 ={\n",
    "            'subreddit': str(sub),\n",
    "            'size': int(size),\n",
    "            'before': posts[max_size]['created_utc']\n",
    "        }\n",
    "        res2 = requests.get(url,params2)\n",
    "        data2=res2.json()\n",
    "        posts = data2['data']\n",
    "        df2=pd.DataFrame(posts) \n",
    "        df=pd.concat([df,df2],ignore_index=True)\n",
    "    return df"
   ]
  },
  {
   "cell_type": "markdown",
   "metadata": {},
   "source": [
    "# r/investing"
   ]
  },
  {
   "cell_type": "code",
   "execution_count": 11,
   "metadata": {},
   "outputs": [],
   "source": [
    "investing = PushShift5000('investing', 4000, unix_timestamp)"
   ]
  },
  {
   "cell_type": "code",
   "execution_count": 12,
   "metadata": {},
   "outputs": [
    {
     "data": {
      "text/html": [
       "<div>\n",
       "<style scoped>\n",
       "    .dataframe tbody tr th:only-of-type {\n",
       "        vertical-align: middle;\n",
       "    }\n",
       "\n",
       "    .dataframe tbody tr th {\n",
       "        vertical-align: top;\n",
       "    }\n",
       "\n",
       "    .dataframe thead th {\n",
       "        text-align: right;\n",
       "    }\n",
       "</style>\n",
       "<table border=\"1\" class=\"dataframe\">\n",
       "  <thead>\n",
       "    <tr style=\"text-align: right;\">\n",
       "      <th></th>\n",
       "      <th>all_awardings</th>\n",
       "      <th>allow_live_comments</th>\n",
       "      <th>author</th>\n",
       "      <th>author_flair_css_class</th>\n",
       "      <th>author_flair_richtext</th>\n",
       "      <th>author_flair_text</th>\n",
       "      <th>author_flair_type</th>\n",
       "      <th>author_fullname</th>\n",
       "      <th>author_is_blocked</th>\n",
       "      <th>author_patreon_flair</th>\n",
       "      <th>...</th>\n",
       "      <th>link_flair_text</th>\n",
       "      <th>thumbnail_height</th>\n",
       "      <th>thumbnail_width</th>\n",
       "      <th>url_overridden_by_dest</th>\n",
       "      <th>author_flair_background_color</th>\n",
       "      <th>author_flair_text_color</th>\n",
       "      <th>banned_by</th>\n",
       "      <th>suggested_sort</th>\n",
       "      <th>call_to_action</th>\n",
       "      <th>category</th>\n",
       "    </tr>\n",
       "  </thead>\n",
       "  <tbody>\n",
       "    <tr>\n",
       "      <th>0</th>\n",
       "      <td>[]</td>\n",
       "      <td>False</td>\n",
       "      <td>HomeInvading</td>\n",
       "      <td>None</td>\n",
       "      <td>[]</td>\n",
       "      <td>None</td>\n",
       "      <td>text</td>\n",
       "      <td>t2_60y3kcsm</td>\n",
       "      <td>False</td>\n",
       "      <td>False</td>\n",
       "      <td>...</td>\n",
       "      <td>NaN</td>\n",
       "      <td>NaN</td>\n",
       "      <td>NaN</td>\n",
       "      <td>NaN</td>\n",
       "      <td>NaN</td>\n",
       "      <td>NaN</td>\n",
       "      <td>NaN</td>\n",
       "      <td>NaN</td>\n",
       "      <td>NaN</td>\n",
       "      <td>NaN</td>\n",
       "    </tr>\n",
       "    <tr>\n",
       "      <th>1</th>\n",
       "      <td>[]</td>\n",
       "      <td>False</td>\n",
       "      <td>ocean-airseashell10</td>\n",
       "      <td>None</td>\n",
       "      <td>[]</td>\n",
       "      <td>None</td>\n",
       "      <td>text</td>\n",
       "      <td>t2_tse6j7f8</td>\n",
       "      <td>False</td>\n",
       "      <td>False</td>\n",
       "      <td>...</td>\n",
       "      <td>NaN</td>\n",
       "      <td>NaN</td>\n",
       "      <td>NaN</td>\n",
       "      <td>NaN</td>\n",
       "      <td>NaN</td>\n",
       "      <td>NaN</td>\n",
       "      <td>NaN</td>\n",
       "      <td>NaN</td>\n",
       "      <td>NaN</td>\n",
       "      <td>NaN</td>\n",
       "    </tr>\n",
       "    <tr>\n",
       "      <th>2</th>\n",
       "      <td>[]</td>\n",
       "      <td>False</td>\n",
       "      <td>ocean-airseashell10</td>\n",
       "      <td>None</td>\n",
       "      <td>[]</td>\n",
       "      <td>None</td>\n",
       "      <td>text</td>\n",
       "      <td>t2_tse6j7f8</td>\n",
       "      <td>False</td>\n",
       "      <td>False</td>\n",
       "      <td>...</td>\n",
       "      <td>NaN</td>\n",
       "      <td>NaN</td>\n",
       "      <td>NaN</td>\n",
       "      <td>NaN</td>\n",
       "      <td>NaN</td>\n",
       "      <td>NaN</td>\n",
       "      <td>NaN</td>\n",
       "      <td>NaN</td>\n",
       "      <td>NaN</td>\n",
       "      <td>NaN</td>\n",
       "    </tr>\n",
       "    <tr>\n",
       "      <th>3</th>\n",
       "      <td>[]</td>\n",
       "      <td>False</td>\n",
       "      <td>iamjokingiamserious</td>\n",
       "      <td>None</td>\n",
       "      <td>[]</td>\n",
       "      <td>None</td>\n",
       "      <td>text</td>\n",
       "      <td>t2_n7k52a8r</td>\n",
       "      <td>False</td>\n",
       "      <td>False</td>\n",
       "      <td>...</td>\n",
       "      <td>NaN</td>\n",
       "      <td>NaN</td>\n",
       "      <td>NaN</td>\n",
       "      <td>NaN</td>\n",
       "      <td>NaN</td>\n",
       "      <td>NaN</td>\n",
       "      <td>NaN</td>\n",
       "      <td>NaN</td>\n",
       "      <td>NaN</td>\n",
       "      <td>NaN</td>\n",
       "    </tr>\n",
       "    <tr>\n",
       "      <th>4</th>\n",
       "      <td>[]</td>\n",
       "      <td>False</td>\n",
       "      <td>jamesterryburke01</td>\n",
       "      <td>None</td>\n",
       "      <td>[]</td>\n",
       "      <td>None</td>\n",
       "      <td>text</td>\n",
       "      <td>t2_7or5f6fk</td>\n",
       "      <td>False</td>\n",
       "      <td>False</td>\n",
       "      <td>...</td>\n",
       "      <td>NaN</td>\n",
       "      <td>NaN</td>\n",
       "      <td>NaN</td>\n",
       "      <td>NaN</td>\n",
       "      <td>NaN</td>\n",
       "      <td>NaN</td>\n",
       "      <td>NaN</td>\n",
       "      <td>NaN</td>\n",
       "      <td>NaN</td>\n",
       "      <td>NaN</td>\n",
       "    </tr>\n",
       "  </tbody>\n",
       "</table>\n",
       "<p>5 rows × 74 columns</p>\n",
       "</div>"
      ],
      "text/plain": [
       "  all_awardings  allow_live_comments               author  \\\n",
       "0            []                False         HomeInvading   \n",
       "1            []                False  ocean-airseashell10   \n",
       "2            []                False  ocean-airseashell10   \n",
       "3            []                False  iamjokingiamserious   \n",
       "4            []                False    jamesterryburke01   \n",
       "\n",
       "  author_flair_css_class author_flair_richtext author_flair_text  \\\n",
       "0                   None                    []              None   \n",
       "1                   None                    []              None   \n",
       "2                   None                    []              None   \n",
       "3                   None                    []              None   \n",
       "4                   None                    []              None   \n",
       "\n",
       "  author_flair_type author_fullname  author_is_blocked author_patreon_flair  \\\n",
       "0              text     t2_60y3kcsm              False                False   \n",
       "1              text     t2_tse6j7f8              False                False   \n",
       "2              text     t2_tse6j7f8              False                False   \n",
       "3              text     t2_n7k52a8r              False                False   \n",
       "4              text     t2_7or5f6fk              False                False   \n",
       "\n",
       "   ... link_flair_text thumbnail_height  thumbnail_width  \\\n",
       "0  ...             NaN              NaN              NaN   \n",
       "1  ...             NaN              NaN              NaN   \n",
       "2  ...             NaN              NaN              NaN   \n",
       "3  ...             NaN              NaN              NaN   \n",
       "4  ...             NaN              NaN              NaN   \n",
       "\n",
       "   url_overridden_by_dest  author_flair_background_color  \\\n",
       "0                     NaN                            NaN   \n",
       "1                     NaN                            NaN   \n",
       "2                     NaN                            NaN   \n",
       "3                     NaN                            NaN   \n",
       "4                     NaN                            NaN   \n",
       "\n",
       "  author_flair_text_color banned_by suggested_sort call_to_action  category  \n",
       "0                     NaN       NaN            NaN            NaN       NaN  \n",
       "1                     NaN       NaN            NaN            NaN       NaN  \n",
       "2                     NaN       NaN            NaN            NaN       NaN  \n",
       "3                     NaN       NaN            NaN            NaN       NaN  \n",
       "4                     NaN       NaN            NaN            NaN       NaN  \n",
       "\n",
       "[5 rows x 74 columns]"
      ]
     },
     "execution_count": 12,
     "metadata": {},
     "output_type": "execute_result"
    }
   ],
   "source": [
    "investing.head()"
   ]
  },
  {
   "cell_type": "code",
   "execution_count": 13,
   "metadata": {},
   "outputs": [
    {
     "data": {
      "text/plain": [
       "4000"
      ]
     },
     "execution_count": 13,
     "metadata": {},
     "output_type": "execute_result"
    }
   ],
   "source": [
    "investing.shape[0]"
   ]
  },
  {
   "cell_type": "code",
   "execution_count": 14,
   "metadata": {},
   "outputs": [
    {
     "data": {
      "text/plain": [
       "1662586585"
      ]
     },
     "execution_count": 14,
     "metadata": {},
     "output_type": "execute_result"
    }
   ],
   "source": [
    "investing.iloc[investing.shape[0]-1]['created_utc']"
   ]
  },
  {
   "cell_type": "code",
   "execution_count": 15,
   "metadata": {},
   "outputs": [],
   "source": [
    "investing2 = PushShift5000('investing', 1000, investing.iloc[investing.shape[0]-1]['created_utc'])"
   ]
  },
  {
   "cell_type": "code",
   "execution_count": 16,
   "metadata": {},
   "outputs": [
    {
     "data": {
      "text/plain": [
       "1248"
      ]
     },
     "execution_count": 16,
     "metadata": {},
     "output_type": "execute_result"
    }
   ],
   "source": [
    "investing2.shape[0]"
   ]
  },
  {
   "cell_type": "code",
   "execution_count": 17,
   "metadata": {},
   "outputs": [
    {
     "data": {
      "text/plain": [
       "(5248, 74)"
      ]
     },
     "execution_count": 17,
     "metadata": {},
     "output_type": "execute_result"
    }
   ],
   "source": [
    "investing=pd.concat([investing,investing2],ignore_index=True)\n",
    "investing.shape"
   ]
  },
  {
   "cell_type": "code",
   "execution_count": 55,
   "metadata": {},
   "outputs": [],
   "source": [
    "investing3 = PushShift5000('investing', 1000, investing2.iloc[investing2.shape[0]-1]['created_utc'])"
   ]
  },
  {
   "cell_type": "code",
   "execution_count": 56,
   "metadata": {},
   "outputs": [
    {
     "data": {
      "text/plain": [
       "(6248, 74)"
      ]
     },
     "execution_count": 56,
     "metadata": {},
     "output_type": "execute_result"
    }
   ],
   "source": [
    "investing=pd.concat([investing,investing3],ignore_index=True)\n",
    "investing.shape"
   ]
  },
  {
   "cell_type": "code",
   "execution_count": 60,
   "metadata": {},
   "outputs": [],
   "source": [
    "investing4 = PushShift5000('investing', 1000, investing3.iloc[investing3.shape[0]-1]['created_utc'])"
   ]
  },
  {
   "cell_type": "code",
   "execution_count": 61,
   "metadata": {},
   "outputs": [
    {
     "data": {
      "text/plain": [
       "(7248, 74)"
      ]
     },
     "execution_count": 61,
     "metadata": {},
     "output_type": "execute_result"
    }
   ],
   "source": [
    "investing=pd.concat([investing,investing4],ignore_index=True)\n",
    "investing.shape"
   ]
  },
  {
   "cell_type": "code",
   "execution_count": 63,
   "metadata": {},
   "outputs": [],
   "source": [
    "investing5 = PushShift5000('investing', 500, investing4.iloc[investing4.shape[0]-1]['created_utc'])"
   ]
  },
  {
   "cell_type": "code",
   "execution_count": 64,
   "metadata": {},
   "outputs": [
    {
     "data": {
      "text/plain": [
       "(7995, 74)"
      ]
     },
     "execution_count": 64,
     "metadata": {},
     "output_type": "execute_result"
    }
   ],
   "source": [
    "investing=pd.concat([investing,investing5],ignore_index=True)\n",
    "investing.shape"
   ]
  },
  {
   "cell_type": "code",
   "execution_count": 66,
   "metadata": {},
   "outputs": [
    {
     "data": {
      "text/html": [
       "<div>\n",
       "<style scoped>\n",
       "    .dataframe tbody tr th:only-of-type {\n",
       "        vertical-align: middle;\n",
       "    }\n",
       "\n",
       "    .dataframe tbody tr th {\n",
       "        vertical-align: top;\n",
       "    }\n",
       "\n",
       "    .dataframe thead th {\n",
       "        text-align: right;\n",
       "    }\n",
       "</style>\n",
       "<table border=\"1\" class=\"dataframe\">\n",
       "  <thead>\n",
       "    <tr style=\"text-align: right;\">\n",
       "      <th></th>\n",
       "      <th>subreddit</th>\n",
       "      <th>author</th>\n",
       "      <th>selftext</th>\n",
       "      <th>title</th>\n",
       "    </tr>\n",
       "  </thead>\n",
       "  <tbody>\n",
       "    <tr>\n",
       "      <th>0</th>\n",
       "      <td>investing</td>\n",
       "      <td>HomeInvading</td>\n",
       "      <td>Hey guys, I’m a 22 year old male, I grew up wi...</td>\n",
       "      <td>Help a young man out would ya?</td>\n",
       "    </tr>\n",
       "    <tr>\n",
       "      <th>1</th>\n",
       "      <td>investing</td>\n",
       "      <td>ocean-airseashell10</td>\n",
       "      <td>[removed]</td>\n",
       "      <td>Treasury bonds is it a good idea to buy</td>\n",
       "    </tr>\n",
       "    <tr>\n",
       "      <th>2</th>\n",
       "      <td>investing</td>\n",
       "      <td>ocean-airseashell10</td>\n",
       "      <td>[removed]</td>\n",
       "      <td>How to buy treasury bonds? Is treasury’s direc...</td>\n",
       "    </tr>\n",
       "    <tr>\n",
       "      <th>3</th>\n",
       "      <td>investing</td>\n",
       "      <td>iamjokingiamserious</td>\n",
       "      <td>[removed]</td>\n",
       "      <td>Early Exercise of Stock Options</td>\n",
       "    </tr>\n",
       "    <tr>\n",
       "      <th>4</th>\n",
       "      <td>investing</td>\n",
       "      <td>jamesterryburke01</td>\n",
       "      <td>Hello Redditors 👋 \\n\\nI work as a Investment C...</td>\n",
       "      <td>Alternative Investments -</td>\n",
       "    </tr>\n",
       "    <tr>\n",
       "      <th>5</th>\n",
       "      <td>investing</td>\n",
       "      <td>James_OrangeRiver</td>\n",
       "      <td>[removed]</td>\n",
       "      <td>Alternative Investing - Interested to hear the...</td>\n",
       "    </tr>\n",
       "    <tr>\n",
       "      <th>6</th>\n",
       "      <td>investing</td>\n",
       "      <td>woke4evainfinity</td>\n",
       "      <td>[removed]</td>\n",
       "      <td>Best way to invest $250k? what do rich people do?</td>\n",
       "    </tr>\n",
       "    <tr>\n",
       "      <th>7</th>\n",
       "      <td>investing</td>\n",
       "      <td>Whistleblower793</td>\n",
       "      <td>Back around 2005ish, I remember reading an ad ...</td>\n",
       "      <td>Can someone explain why “your house is not a r...</td>\n",
       "    </tr>\n",
       "    <tr>\n",
       "      <th>8</th>\n",
       "      <td>investing</td>\n",
       "      <td>Lonely_Possibility92</td>\n",
       "      <td>[removed]</td>\n",
       "      <td>silly question for saving bond</td>\n",
       "    </tr>\n",
       "    <tr>\n",
       "      <th>9</th>\n",
       "      <td>investing</td>\n",
       "      <td>FlounderFair9656</td>\n",
       "      <td>[removed]</td>\n",
       "      <td>What is the next wallstreetbets?</td>\n",
       "    </tr>\n",
       "  </tbody>\n",
       "</table>\n",
       "</div>"
      ],
      "text/plain": [
       "   subreddit                author  \\\n",
       "0  investing          HomeInvading   \n",
       "1  investing   ocean-airseashell10   \n",
       "2  investing   ocean-airseashell10   \n",
       "3  investing   iamjokingiamserious   \n",
       "4  investing     jamesterryburke01   \n",
       "5  investing     James_OrangeRiver   \n",
       "6  investing      woke4evainfinity   \n",
       "7  investing      Whistleblower793   \n",
       "8  investing  Lonely_Possibility92   \n",
       "9  investing      FlounderFair9656   \n",
       "\n",
       "                                            selftext  \\\n",
       "0  Hey guys, I’m a 22 year old male, I grew up wi...   \n",
       "1                                          [removed]   \n",
       "2                                          [removed]   \n",
       "3                                          [removed]   \n",
       "4  Hello Redditors 👋 \\n\\nI work as a Investment C...   \n",
       "5                                          [removed]   \n",
       "6                                          [removed]   \n",
       "7  Back around 2005ish, I remember reading an ad ...   \n",
       "8                                          [removed]   \n",
       "9                                          [removed]   \n",
       "\n",
       "                                               title  \n",
       "0                     Help a young man out would ya?  \n",
       "1            Treasury bonds is it a good idea to buy  \n",
       "2  How to buy treasury bonds? Is treasury’s direc...  \n",
       "3                    Early Exercise of Stock Options  \n",
       "4                          Alternative Investments -  \n",
       "5  Alternative Investing - Interested to hear the...  \n",
       "6  Best way to invest $250k? what do rich people do?  \n",
       "7  Can someone explain why “your house is not a r...  \n",
       "8                     silly question for saving bond  \n",
       "9                   What is the next wallstreetbets?  "
      ]
     },
     "execution_count": 66,
     "metadata": {},
     "output_type": "execute_result"
    }
   ],
   "source": [
    "investing[['subreddit', 'author', 'selftext', 'title']].head(10)"
   ]
  },
  {
   "cell_type": "code",
   "execution_count": 67,
   "metadata": {},
   "outputs": [],
   "source": [
    "investing.to_csv('datasets/investing.csv')"
   ]
  },
  {
   "cell_type": "code",
   "execution_count": 68,
   "metadata": {},
   "outputs": [
    {
     "data": {
      "text/plain": [
       "1657271926"
      ]
     },
     "execution_count": 68,
     "metadata": {},
     "output_type": "execute_result"
    }
   ],
   "source": [
    "investing.iloc[investing.shape[0]-1]['created_utc']"
   ]
  },
  {
   "cell_type": "code",
   "execution_count": 21,
   "metadata": {},
   "outputs": [
    {
     "ename": "TypeError",
     "evalue": "tzinfo argument must be None or of a tzinfo subclass, not type 'int'",
     "output_type": "error",
     "traceback": [
      "\u001b[1;31m---------------------------------------------------------------------------\u001b[0m",
      "\u001b[1;31mTypeError\u001b[0m                                 Traceback (most recent call last)",
      "\u001b[1;32mc:\\Users\\redoc\\OneDrive\\Desktop\\DSI-Roughpaper\\0. project_3 (DO THIS)\\reddit-scrape.ipynb Cell 22\u001b[0m in \u001b[0;36m<cell line: 1>\u001b[1;34m()\u001b[0m\n\u001b[1;32m----> <a href='vscode-notebook-cell:/c%3A/Users/redoc/OneDrive/Desktop/DSI-Roughpaper/0.%20project_3%20%28DO%20THIS%29/reddit-scrape.ipynb#X30sZmlsZQ%3D%3D?line=0'>1</a>\u001b[0m datetime\u001b[39m.\u001b[39;49mnow(\u001b[39mint\u001b[39;49m(\u001b[39m1660670168\u001b[39;49m))\n",
      "\u001b[1;31mTypeError\u001b[0m: tzinfo argument must be None or of a tzinfo subclass, not type 'int'"
     ]
    }
   ],
   "source": [
    "datetime.now(int(1660670168))"
   ]
  },
  {
   "cell_type": "markdown",
   "metadata": {},
   "source": [
    "# r/stockmarket"
   ]
  },
  {
   "cell_type": "code",
   "execution_count": 27,
   "metadata": {},
   "outputs": [],
   "source": [
    "stockmarket = PushShift5000('StockMarket', 3000, unix_timestamp)"
   ]
  },
  {
   "cell_type": "code",
   "execution_count": 28,
   "metadata": {},
   "outputs": [
    {
     "data": {
      "text/plain": [
       "(3000, 80)"
      ]
     },
     "execution_count": 28,
     "metadata": {},
     "output_type": "execute_result"
    }
   ],
   "source": [
    "stockmarket.shape"
   ]
  },
  {
   "cell_type": "code",
   "execution_count": 29,
   "metadata": {},
   "outputs": [
    {
     "data": {
      "text/plain": [
       "1664718418"
      ]
     },
     "execution_count": 29,
     "metadata": {},
     "output_type": "execute_result"
    }
   ],
   "source": [
    "stockmarket.iloc[2499]['created_utc']"
   ]
  },
  {
   "cell_type": "code",
   "execution_count": 31,
   "metadata": {},
   "outputs": [],
   "source": [
    "stockmarket2 = PushShift5000('StockMarket', 2000, stockmarket.iloc[stockmarket.shape[0]-1]['created_utc'])"
   ]
  },
  {
   "cell_type": "code",
   "execution_count": 32,
   "metadata": {},
   "outputs": [
    {
     "data": {
      "text/plain": [
       "(5248, 80)"
      ]
     },
     "execution_count": 32,
     "metadata": {},
     "output_type": "execute_result"
    }
   ],
   "source": [
    "stockmarket=pd.concat([stockmarket,stockmarket2],ignore_index=True)\n",
    "stockmarket.shape"
   ]
  },
  {
   "cell_type": "code",
   "execution_count": 33,
   "metadata": {},
   "outputs": [
    {
     "data": {
      "text/plain": [
       "all_awardings                    []\n",
       "allow_live_comments           False\n",
       "author                     zitrored\n",
       "author_flair_css_class         None\n",
       "author_flair_richtext            []\n",
       "                             ...   \n",
       "author_flair_text_color         NaN\n",
       "gallery_data                    NaN\n",
       "media_metadata                  NaN\n",
       "author_cakeday                  NaN\n",
       "banned_by                       NaN\n",
       "Name: 0, Length: 80, dtype: object"
      ]
     },
     "execution_count": 33,
     "metadata": {},
     "output_type": "execute_result"
    }
   ],
   "source": [
    "stockmarket.iloc[0]"
   ]
  },
  {
   "cell_type": "code",
   "execution_count": 36,
   "metadata": {},
   "outputs": [
    {
     "data": {
      "text/plain": [
       "all_awardings                              []\n",
       "allow_live_comments                     False\n",
       "author                     Obvious-Expert-007\n",
       "author_flair_css_class                   None\n",
       "author_flair_richtext                      []\n",
       "                                  ...        \n",
       "author_flair_text_color                   NaN\n",
       "gallery_data                              NaN\n",
       "media_metadata                            NaN\n",
       "author_cakeday                            NaN\n",
       "banned_by                                 NaN\n",
       "Name: 3000, Length: 80, dtype: object"
      ]
     },
     "execution_count": 36,
     "metadata": {},
     "output_type": "execute_result"
    }
   ],
   "source": [
    "stockmarket.iloc[3000]"
   ]
  },
  {
   "cell_type": "code",
   "execution_count": 69,
   "metadata": {},
   "outputs": [],
   "source": [
    "stockmarket3 = PushShift5000('StockMarket', 1000, stockmarket2.iloc[stockmarket2.shape[0]-1]['created_utc'])"
   ]
  },
  {
   "cell_type": "code",
   "execution_count": 70,
   "metadata": {},
   "outputs": [
    {
     "data": {
      "text/plain": [
       "(6494, 80)"
      ]
     },
     "execution_count": 70,
     "metadata": {},
     "output_type": "execute_result"
    }
   ],
   "source": [
    "stockmarket=pd.concat([stockmarket,stockmarket3],ignore_index=True)\n",
    "stockmarket.shape"
   ]
  },
  {
   "cell_type": "code",
   "execution_count": 72,
   "metadata": {},
   "outputs": [],
   "source": [
    "stockmarket4 = PushShift5000('StockMarket', 1000, stockmarket3.iloc[stockmarket3.shape[0]-1]['created_utc'])"
   ]
  },
  {
   "cell_type": "code",
   "execution_count": 73,
   "metadata": {},
   "outputs": [
    {
     "data": {
      "text/plain": [
       "(7494, 80)"
      ]
     },
     "execution_count": 73,
     "metadata": {},
     "output_type": "execute_result"
    }
   ],
   "source": [
    "stockmarket=pd.concat([stockmarket,stockmarket4],ignore_index=True)\n",
    "stockmarket.shape"
   ]
  },
  {
   "cell_type": "code",
   "execution_count": 77,
   "metadata": {},
   "outputs": [
    {
     "ename": "IndexError",
     "evalue": "list index out of range",
     "output_type": "error",
     "traceback": [
      "\u001b[1;31m---------------------------------------------------------------------------\u001b[0m",
      "\u001b[1;31mIndexError\u001b[0m                                Traceback (most recent call last)",
      "\u001b[1;32mc:\\Users\\redoc\\OneDrive\\Desktop\\DSI-Roughpaper\\0. project_3 (DO THIS)\\reddit-scrape.ipynb Cell 41\u001b[0m in \u001b[0;36m<cell line: 1>\u001b[1;34m()\u001b[0m\n\u001b[1;32m----> <a href='vscode-notebook-cell:/c%3A/Users/redoc/OneDrive/Desktop/DSI-Roughpaper/0.%20project_3%20%28DO%20THIS%29/reddit-scrape.ipynb#Y102sZmlsZQ%3D%3D?line=0'>1</a>\u001b[0m stockmarket5 \u001b[39m=\u001b[39m PushShift5000(\u001b[39m'\u001b[39;49m\u001b[39mStockMarket\u001b[39;49m\u001b[39m'\u001b[39;49m, \u001b[39m500\u001b[39;49m, stockmarket4\u001b[39m.\u001b[39;49miloc[stockmarket4\u001b[39m.\u001b[39;49mshape[\u001b[39m0\u001b[39;49m]\u001b[39m-\u001b[39;49m\u001b[39m1\u001b[39;49m][\u001b[39m'\u001b[39;49m\u001b[39mcreated_utc\u001b[39;49m\u001b[39m'\u001b[39;49m])\n",
      "\u001b[1;32mc:\\Users\\redoc\\OneDrive\\Desktop\\DSI-Roughpaper\\0. project_3 (DO THIS)\\reddit-scrape.ipynb Cell 41\u001b[0m in \u001b[0;36mPushShift5000\u001b[1;34m(sub, size, present)\u001b[0m\n\u001b[0;32m     <a href='vscode-notebook-cell:/c%3A/Users/redoc/OneDrive/Desktop/DSI-Roughpaper/0.%20project_3%20%28DO%20THIS%29/reddit-scrape.ipynb#Y102sZmlsZQ%3D%3D?line=13'>14</a>\u001b[0m \u001b[39m#------------------------------------------------------------------\u001b[39;00m\n\u001b[0;32m     <a href='vscode-notebook-cell:/c%3A/Users/redoc/OneDrive/Desktop/DSI-Roughpaper/0.%20project_3%20%28DO%20THIS%29/reddit-scrape.ipynb#Y102sZmlsZQ%3D%3D?line=14'>15</a>\u001b[0m \u001b[39mwhile\u001b[39;00m df\u001b[39m.\u001b[39mshape[\u001b[39m0\u001b[39m] \u001b[39m<\u001b[39m size:\n\u001b[0;32m     <a href='vscode-notebook-cell:/c%3A/Users/redoc/OneDrive/Desktop/DSI-Roughpaper/0.%20project_3%20%28DO%20THIS%29/reddit-scrape.ipynb#Y102sZmlsZQ%3D%3D?line=15'>16</a>\u001b[0m     params2 \u001b[39m=\u001b[39m{\n\u001b[0;32m     <a href='vscode-notebook-cell:/c%3A/Users/redoc/OneDrive/Desktop/DSI-Roughpaper/0.%20project_3%20%28DO%20THIS%29/reddit-scrape.ipynb#Y102sZmlsZQ%3D%3D?line=16'>17</a>\u001b[0m         \u001b[39m'\u001b[39m\u001b[39msubreddit\u001b[39m\u001b[39m'\u001b[39m: \u001b[39mstr\u001b[39m(sub),\n\u001b[0;32m     <a href='vscode-notebook-cell:/c%3A/Users/redoc/OneDrive/Desktop/DSI-Roughpaper/0.%20project_3%20%28DO%20THIS%29/reddit-scrape.ipynb#Y102sZmlsZQ%3D%3D?line=17'>18</a>\u001b[0m         \u001b[39m'\u001b[39m\u001b[39msize\u001b[39m\u001b[39m'\u001b[39m: \u001b[39mint\u001b[39m(size),\n\u001b[1;32m---> <a href='vscode-notebook-cell:/c%3A/Users/redoc/OneDrive/Desktop/DSI-Roughpaper/0.%20project_3%20%28DO%20THIS%29/reddit-scrape.ipynb#Y102sZmlsZQ%3D%3D?line=18'>19</a>\u001b[0m         \u001b[39m'\u001b[39m\u001b[39mbefore\u001b[39m\u001b[39m'\u001b[39m: posts[max_size][\u001b[39m'\u001b[39m\u001b[39mcreated_utc\u001b[39m\u001b[39m'\u001b[39m]\n\u001b[0;32m     <a href='vscode-notebook-cell:/c%3A/Users/redoc/OneDrive/Desktop/DSI-Roughpaper/0.%20project_3%20%28DO%20THIS%29/reddit-scrape.ipynb#Y102sZmlsZQ%3D%3D?line=19'>20</a>\u001b[0m     }\n\u001b[0;32m     <a href='vscode-notebook-cell:/c%3A/Users/redoc/OneDrive/Desktop/DSI-Roughpaper/0.%20project_3%20%28DO%20THIS%29/reddit-scrape.ipynb#Y102sZmlsZQ%3D%3D?line=20'>21</a>\u001b[0m     res2 \u001b[39m=\u001b[39m requests\u001b[39m.\u001b[39mget(url,params2)\n\u001b[0;32m     <a href='vscode-notebook-cell:/c%3A/Users/redoc/OneDrive/Desktop/DSI-Roughpaper/0.%20project_3%20%28DO%20THIS%29/reddit-scrape.ipynb#Y102sZmlsZQ%3D%3D?line=21'>22</a>\u001b[0m     data2\u001b[39m=\u001b[39mres2\u001b[39m.\u001b[39mjson()\n",
      "\u001b[1;31mIndexError\u001b[0m: list index out of range"
     ]
    }
   ],
   "source": [
    "# stockmarket5 = PushShift5000('StockMarket', 500, stockmarket4.iloc[stockmarket4.shape[0]-1]['created_utc'])"
   ]
  },
  {
   "cell_type": "code",
   "execution_count": null,
   "metadata": {},
   "outputs": [],
   "source": [
    "#stockmarket=pd.concat([stockmarket,stockmarket5],ignore_index=True)\n",
    "#stockmarket.shape"
   ]
  },
  {
   "cell_type": "code",
   "execution_count": 78,
   "metadata": {},
   "outputs": [],
   "source": [
    "stockmarket.to_csv('datasets/stockmarket.csv')"
   ]
  },
  {
   "cell_type": "code",
   "execution_count": 79,
   "metadata": {},
   "outputs": [
    {
     "data": {
      "text/plain": [
       "1657678438"
      ]
     },
     "execution_count": 79,
     "metadata": {},
     "output_type": "execute_result"
    }
   ],
   "source": [
    "stockmarket.iloc[stockmarket.shape[0]-1]['created_utc']"
   ]
  },
  {
   "cell_type": "markdown",
   "metadata": {},
   "source": [
    "# r/wallstreetbets"
   ]
  },
  {
   "cell_type": "code",
   "execution_count": 45,
   "metadata": {},
   "outputs": [],
   "source": [
    "wallstreetbets = PushShift5000('wallstreetbets', 2500, unix_timestamp)"
   ]
  },
  {
   "cell_type": "code",
   "execution_count": 49,
   "metadata": {},
   "outputs": [
    {
     "name": "stdout",
     "output_type": "stream",
     "text": [
      "(2500, 83)\n"
     ]
    },
    {
     "data": {
      "text/html": [
       "<div>\n",
       "<style scoped>\n",
       "    .dataframe tbody tr th:only-of-type {\n",
       "        vertical-align: middle;\n",
       "    }\n",
       "\n",
       "    .dataframe tbody tr th {\n",
       "        vertical-align: top;\n",
       "    }\n",
       "\n",
       "    .dataframe thead th {\n",
       "        text-align: right;\n",
       "    }\n",
       "</style>\n",
       "<table border=\"1\" class=\"dataframe\">\n",
       "  <thead>\n",
       "    <tr style=\"text-align: right;\">\n",
       "      <th></th>\n",
       "      <th>all_awardings</th>\n",
       "      <th>allow_live_comments</th>\n",
       "      <th>author</th>\n",
       "      <th>author_flair_css_class</th>\n",
       "      <th>author_flair_richtext</th>\n",
       "      <th>author_flair_text</th>\n",
       "      <th>author_flair_type</th>\n",
       "      <th>author_fullname</th>\n",
       "      <th>author_is_blocked</th>\n",
       "      <th>author_patreon_flair</th>\n",
       "      <th>author_premium</th>\n",
       "      <th>awarders</th>\n",
       "      <th>can_mod_post</th>\n",
       "      <th>contest_mode</th>\n",
       "      <th>created_utc</th>\n",
       "      <th>domain</th>\n",
       "      <th>full_link</th>\n",
       "      <th>gildings</th>\n",
       "      <th>id</th>\n",
       "      <th>is_created_from_ads_ui</th>\n",
       "      <th>is_crosspostable</th>\n",
       "      <th>is_meta</th>\n",
       "      <th>is_original_content</th>\n",
       "      <th>is_reddit_media_domain</th>\n",
       "      <th>is_robot_indexable</th>\n",
       "      <th>is_self</th>\n",
       "      <th>is_video</th>\n",
       "      <th>link_flair_background_color</th>\n",
       "      <th>link_flair_css_class</th>\n",
       "      <th>link_flair_richtext</th>\n",
       "      <th>link_flair_template_id</th>\n",
       "      <th>link_flair_text</th>\n",
       "      <th>link_flair_text_color</th>\n",
       "      <th>link_flair_type</th>\n",
       "      <th>locked</th>\n",
       "      <th>media_only</th>\n",
       "      <th>no_follow</th>\n",
       "      <th>num_comments</th>\n",
       "      <th>num_crossposts</th>\n",
       "      <th>over_18</th>\n",
       "      <th>parent_whitelist_status</th>\n",
       "      <th>permalink</th>\n",
       "      <th>pinned</th>\n",
       "      <th>pwls</th>\n",
       "      <th>removed_by_category</th>\n",
       "      <th>retrieved_on</th>\n",
       "      <th>score</th>\n",
       "      <th>selftext</th>\n",
       "      <th>send_replies</th>\n",
       "      <th>spoiler</th>\n",
       "      <th>stickied</th>\n",
       "      <th>subreddit</th>\n",
       "      <th>subreddit_id</th>\n",
       "      <th>subreddit_subscribers</th>\n",
       "      <th>subreddit_type</th>\n",
       "      <th>suggested_sort</th>\n",
       "      <th>thumbnail</th>\n",
       "      <th>title</th>\n",
       "      <th>total_awards_received</th>\n",
       "      <th>treatment_tags</th>\n",
       "      <th>upvote_ratio</th>\n",
       "      <th>url</th>\n",
       "      <th>whitelist_status</th>\n",
       "      <th>wls</th>\n",
       "      <th>post_hint</th>\n",
       "      <th>preview</th>\n",
       "      <th>thumbnail_height</th>\n",
       "      <th>thumbnail_width</th>\n",
       "      <th>url_overridden_by_dest</th>\n",
       "      <th>author_flair_background_color</th>\n",
       "      <th>author_flair_text_color</th>\n",
       "      <th>media</th>\n",
       "      <th>media_embed</th>\n",
       "      <th>secure_media</th>\n",
       "      <th>secure_media_embed</th>\n",
       "      <th>is_gallery</th>\n",
       "      <th>gallery_data</th>\n",
       "      <th>media_metadata</th>\n",
       "      <th>author_flair_template_id</th>\n",
       "      <th>poll_data</th>\n",
       "      <th>banned_by</th>\n",
       "      <th>live_audio</th>\n",
       "      <th>author_cakeday</th>\n",
       "    </tr>\n",
       "  </thead>\n",
       "  <tbody>\n",
       "    <tr>\n",
       "      <th>0</th>\n",
       "      <td>[]</td>\n",
       "      <td>False</td>\n",
       "      <td>Icy_Finance_23</td>\n",
       "      <td>None</td>\n",
       "      <td>[]</td>\n",
       "      <td>None</td>\n",
       "      <td>text</td>\n",
       "      <td>t2_7sglhkjp</td>\n",
       "      <td>False</td>\n",
       "      <td>False</td>\n",
       "      <td>False</td>\n",
       "      <td>[]</td>\n",
       "      <td>False</td>\n",
       "      <td>False</td>\n",
       "      <td>1667611954</td>\n",
       "      <td>self.wallstreetbets</td>\n",
       "      <td>https://www.reddit.com/r/wallstreetbets/commen...</td>\n",
       "      <td>{}</td>\n",
       "      <td>ymgkxn</td>\n",
       "      <td>False</td>\n",
       "      <td>False</td>\n",
       "      <td>False</td>\n",
       "      <td>False</td>\n",
       "      <td>False</td>\n",
       "      <td>False</td>\n",
       "      <td>True</td>\n",
       "      <td>False</td>\n",
       "      <td>#800080</td>\n",
       "      <td>question</td>\n",
       "      <td>[{'e': 'text', 't': 'Discussion'}]</td>\n",
       "      <td>96f6c79e-b853-11e5-a4cb-0ebdf030e05d</td>\n",
       "      <td>Discussion</td>\n",
       "      <td>light</td>\n",
       "      <td>richtext</td>\n",
       "      <td>False</td>\n",
       "      <td>False</td>\n",
       "      <td>True</td>\n",
       "      <td>1</td>\n",
       "      <td>0</td>\n",
       "      <td>False</td>\n",
       "      <td>some_ads</td>\n",
       "      <td>/r/wallstreetbets/comments/ymgkxn/aem_yri_gfi/</td>\n",
       "      <td>False</td>\n",
       "      <td>7</td>\n",
       "      <td>moderator</td>\n",
       "      <td>1667611964</td>\n",
       "      <td>1</td>\n",
       "      <td>[removed]</td>\n",
       "      <td>True</td>\n",
       "      <td>False</td>\n",
       "      <td>False</td>\n",
       "      <td>wallstreetbets</td>\n",
       "      <td>t5_2th52</td>\n",
       "      <td>13002962</td>\n",
       "      <td>public</td>\n",
       "      <td>confidence</td>\n",
       "      <td>self</td>\n",
       "      <td>AEM / YRI / GFI</td>\n",
       "      <td>0</td>\n",
       "      <td>[]</td>\n",
       "      <td>1.0</td>\n",
       "      <td>https://www.reddit.com/r/wallstreetbets/commen...</td>\n",
       "      <td>some_ads</td>\n",
       "      <td>7</td>\n",
       "      <td>NaN</td>\n",
       "      <td>NaN</td>\n",
       "      <td>NaN</td>\n",
       "      <td>NaN</td>\n",
       "      <td>NaN</td>\n",
       "      <td>NaN</td>\n",
       "      <td>NaN</td>\n",
       "      <td>NaN</td>\n",
       "      <td>NaN</td>\n",
       "      <td>NaN</td>\n",
       "      <td>NaN</td>\n",
       "      <td>NaN</td>\n",
       "      <td>NaN</td>\n",
       "      <td>NaN</td>\n",
       "      <td>NaN</td>\n",
       "      <td>NaN</td>\n",
       "      <td>NaN</td>\n",
       "      <td>NaN</td>\n",
       "      <td>NaN</td>\n",
       "    </tr>\n",
       "    <tr>\n",
       "      <th>1</th>\n",
       "      <td>[]</td>\n",
       "      <td>False</td>\n",
       "      <td>JohnnyFaang</td>\n",
       "      <td>None</td>\n",
       "      <td>[]</td>\n",
       "      <td>None</td>\n",
       "      <td>text</td>\n",
       "      <td>t2_tzf4m0d9</td>\n",
       "      <td>False</td>\n",
       "      <td>False</td>\n",
       "      <td>False</td>\n",
       "      <td>[]</td>\n",
       "      <td>False</td>\n",
       "      <td>False</td>\n",
       "      <td>1667611909</td>\n",
       "      <td>self.wallstreetbets</td>\n",
       "      <td>https://www.reddit.com/r/wallstreetbets/commen...</td>\n",
       "      <td>{}</td>\n",
       "      <td>ymgkc4</td>\n",
       "      <td>False</td>\n",
       "      <td>False</td>\n",
       "      <td>False</td>\n",
       "      <td>False</td>\n",
       "      <td>False</td>\n",
       "      <td>False</td>\n",
       "      <td>True</td>\n",
       "      <td>False</td>\n",
       "      <td>#0392cf</td>\n",
       "      <td>yolo</td>\n",
       "      <td>[{'e': 'text', 't': 'YOLO'}]</td>\n",
       "      <td>da18a43a-83c5-11e8-9b6c-0e287561ddb8</td>\n",
       "      <td>YOLO</td>\n",
       "      <td>light</td>\n",
       "      <td>richtext</td>\n",
       "      <td>False</td>\n",
       "      <td>False</td>\n",
       "      <td>True</td>\n",
       "      <td>1</td>\n",
       "      <td>0</td>\n",
       "      <td>False</td>\n",
       "      <td>some_ads</td>\n",
       "      <td>/r/wallstreetbets/comments/ymgkc4/here_me_out_...</td>\n",
       "      <td>False</td>\n",
       "      <td>7</td>\n",
       "      <td>moderator</td>\n",
       "      <td>1667611919</td>\n",
       "      <td>1</td>\n",
       "      <td></td>\n",
       "      <td>True</td>\n",
       "      <td>False</td>\n",
       "      <td>False</td>\n",
       "      <td>wallstreetbets</td>\n",
       "      <td>t5_2th52</td>\n",
       "      <td>13002959</td>\n",
       "      <td>public</td>\n",
       "      <td>confidence</td>\n",
       "      <td>self</td>\n",
       "      <td>Here Me Out… If the Apes Reddits Buys All The ...</td>\n",
       "      <td>0</td>\n",
       "      <td>[]</td>\n",
       "      <td>1.0</td>\n",
       "      <td>https://www.reddit.com/r/wallstreetbets/commen...</td>\n",
       "      <td>some_ads</td>\n",
       "      <td>7</td>\n",
       "      <td>NaN</td>\n",
       "      <td>NaN</td>\n",
       "      <td>NaN</td>\n",
       "      <td>NaN</td>\n",
       "      <td>NaN</td>\n",
       "      <td>NaN</td>\n",
       "      <td>NaN</td>\n",
       "      <td>NaN</td>\n",
       "      <td>NaN</td>\n",
       "      <td>NaN</td>\n",
       "      <td>NaN</td>\n",
       "      <td>NaN</td>\n",
       "      <td>NaN</td>\n",
       "      <td>NaN</td>\n",
       "      <td>NaN</td>\n",
       "      <td>NaN</td>\n",
       "      <td>NaN</td>\n",
       "      <td>NaN</td>\n",
       "      <td>NaN</td>\n",
       "    </tr>\n",
       "    <tr>\n",
       "      <th>2</th>\n",
       "      <td>[]</td>\n",
       "      <td>False</td>\n",
       "      <td>JohnnyFaang</td>\n",
       "      <td>None</td>\n",
       "      <td>[]</td>\n",
       "      <td>None</td>\n",
       "      <td>text</td>\n",
       "      <td>t2_tzf4m0d9</td>\n",
       "      <td>False</td>\n",
       "      <td>False</td>\n",
       "      <td>False</td>\n",
       "      <td>[]</td>\n",
       "      <td>False</td>\n",
       "      <td>False</td>\n",
       "      <td>1667611743</td>\n",
       "      <td>self.wallstreetbets</td>\n",
       "      <td>https://www.reddit.com/r/wallstreetbets/commen...</td>\n",
       "      <td>{}</td>\n",
       "      <td>ymgi74</td>\n",
       "      <td>False</td>\n",
       "      <td>False</td>\n",
       "      <td>False</td>\n",
       "      <td>False</td>\n",
       "      <td>False</td>\n",
       "      <td>False</td>\n",
       "      <td>True</td>\n",
       "      <td>False</td>\n",
       "      <td>#0392cf</td>\n",
       "      <td>yolo</td>\n",
       "      <td>[{'e': 'text', 't': 'YOLO'}]</td>\n",
       "      <td>da18a43a-83c5-11e8-9b6c-0e287561ddb8</td>\n",
       "      <td>YOLO</td>\n",
       "      <td>light</td>\n",
       "      <td>richtext</td>\n",
       "      <td>False</td>\n",
       "      <td>False</td>\n",
       "      <td>True</td>\n",
       "      <td>1</td>\n",
       "      <td>0</td>\n",
       "      <td>False</td>\n",
       "      <td>some_ads</td>\n",
       "      <td>/r/wallstreetbets/comments/ymgi74/here_me_out_...</td>\n",
       "      <td>False</td>\n",
       "      <td>7</td>\n",
       "      <td>moderator</td>\n",
       "      <td>1667611754</td>\n",
       "      <td>1</td>\n",
       "      <td></td>\n",
       "      <td>True</td>\n",
       "      <td>False</td>\n",
       "      <td>False</td>\n",
       "      <td>wallstreetbets</td>\n",
       "      <td>t5_2th52</td>\n",
       "      <td>13002945</td>\n",
       "      <td>public</td>\n",
       "      <td>confidence</td>\n",
       "      <td>self</td>\n",
       "      <td>Here me out.. We buy all the $BCH, Reddits Per...</td>\n",
       "      <td>0</td>\n",
       "      <td>[]</td>\n",
       "      <td>1.0</td>\n",
       "      <td>https://www.reddit.com/r/wallstreetbets/commen...</td>\n",
       "      <td>some_ads</td>\n",
       "      <td>7</td>\n",
       "      <td>NaN</td>\n",
       "      <td>NaN</td>\n",
       "      <td>NaN</td>\n",
       "      <td>NaN</td>\n",
       "      <td>NaN</td>\n",
       "      <td>NaN</td>\n",
       "      <td>NaN</td>\n",
       "      <td>NaN</td>\n",
       "      <td>NaN</td>\n",
       "      <td>NaN</td>\n",
       "      <td>NaN</td>\n",
       "      <td>NaN</td>\n",
       "      <td>NaN</td>\n",
       "      <td>NaN</td>\n",
       "      <td>NaN</td>\n",
       "      <td>NaN</td>\n",
       "      <td>NaN</td>\n",
       "      <td>NaN</td>\n",
       "      <td>NaN</td>\n",
       "    </tr>\n",
       "    <tr>\n",
       "      <th>3</th>\n",
       "      <td>[]</td>\n",
       "      <td>False</td>\n",
       "      <td>Scaldie-B</td>\n",
       "      <td>None</td>\n",
       "      <td>[]</td>\n",
       "      <td>None</td>\n",
       "      <td>text</td>\n",
       "      <td>t2_dflz4ht1</td>\n",
       "      <td>False</td>\n",
       "      <td>False</td>\n",
       "      <td>False</td>\n",
       "      <td>[]</td>\n",
       "      <td>False</td>\n",
       "      <td>False</td>\n",
       "      <td>1667611728</td>\n",
       "      <td>self.wallstreetbets</td>\n",
       "      <td>https://www.reddit.com/r/wallstreetbets/commen...</td>\n",
       "      <td>{}</td>\n",
       "      <td>ymgi0o</td>\n",
       "      <td>False</td>\n",
       "      <td>False</td>\n",
       "      <td>False</td>\n",
       "      <td>False</td>\n",
       "      <td>False</td>\n",
       "      <td>False</td>\n",
       "      <td>True</td>\n",
       "      <td>False</td>\n",
       "      <td>#800080</td>\n",
       "      <td>question</td>\n",
       "      <td>[{'e': 'text', 't': 'Discussion'}]</td>\n",
       "      <td>96f6c79e-b853-11e5-a4cb-0ebdf030e05d</td>\n",
       "      <td>Discussion</td>\n",
       "      <td>light</td>\n",
       "      <td>richtext</td>\n",
       "      <td>False</td>\n",
       "      <td>False</td>\n",
       "      <td>True</td>\n",
       "      <td>2</td>\n",
       "      <td>0</td>\n",
       "      <td>False</td>\n",
       "      <td>some_ads</td>\n",
       "      <td>/r/wallstreetbets/comments/ymgi0o/we_worked_to...</td>\n",
       "      <td>False</td>\n",
       "      <td>7</td>\n",
       "      <td>moderator</td>\n",
       "      <td>1667611739</td>\n",
       "      <td>1</td>\n",
       "      <td></td>\n",
       "      <td>True</td>\n",
       "      <td>False</td>\n",
       "      <td>False</td>\n",
       "      <td>wallstreetbets</td>\n",
       "      <td>t5_2th52</td>\n",
       "      <td>13002944</td>\n",
       "      <td>public</td>\n",
       "      <td>confidence</td>\n",
       "      <td>self</td>\n",
       "      <td>We worked together to beat the system with Gam...</td>\n",
       "      <td>0</td>\n",
       "      <td>[]</td>\n",
       "      <td>1.0</td>\n",
       "      <td>https://www.reddit.com/r/wallstreetbets/commen...</td>\n",
       "      <td>some_ads</td>\n",
       "      <td>7</td>\n",
       "      <td>NaN</td>\n",
       "      <td>NaN</td>\n",
       "      <td>NaN</td>\n",
       "      <td>NaN</td>\n",
       "      <td>NaN</td>\n",
       "      <td>NaN</td>\n",
       "      <td>NaN</td>\n",
       "      <td>NaN</td>\n",
       "      <td>NaN</td>\n",
       "      <td>NaN</td>\n",
       "      <td>NaN</td>\n",
       "      <td>NaN</td>\n",
       "      <td>NaN</td>\n",
       "      <td>NaN</td>\n",
       "      <td>NaN</td>\n",
       "      <td>NaN</td>\n",
       "      <td>NaN</td>\n",
       "      <td>NaN</td>\n",
       "      <td>NaN</td>\n",
       "    </tr>\n",
       "    <tr>\n",
       "      <th>4</th>\n",
       "      <td>[]</td>\n",
       "      <td>False</td>\n",
       "      <td>barackosamathe3rd</td>\n",
       "      <td>None</td>\n",
       "      <td>[]</td>\n",
       "      <td>None</td>\n",
       "      <td>text</td>\n",
       "      <td>t2_tzet4ur2</td>\n",
       "      <td>False</td>\n",
       "      <td>False</td>\n",
       "      <td>False</td>\n",
       "      <td>[]</td>\n",
       "      <td>False</td>\n",
       "      <td>False</td>\n",
       "      <td>1667611603</td>\n",
       "      <td>i.redd.it</td>\n",
       "      <td>https://www.reddit.com/r/wallstreetbets/commen...</td>\n",
       "      <td>{}</td>\n",
       "      <td>ymggfr</td>\n",
       "      <td>False</td>\n",
       "      <td>False</td>\n",
       "      <td>False</td>\n",
       "      <td>False</td>\n",
       "      <td>True</td>\n",
       "      <td>False</td>\n",
       "      <td>False</td>\n",
       "      <td>False</td>\n",
       "      <td>#ff0000</td>\n",
       "      <td>loss</td>\n",
       "      <td>[{'e': 'text', 't': 'Loss'}]</td>\n",
       "      <td>7d5f3586-0a95-11e9-a050-0efea8d9040e</td>\n",
       "      <td>Loss</td>\n",
       "      <td>light</td>\n",
       "      <td>richtext</td>\n",
       "      <td>False</td>\n",
       "      <td>False</td>\n",
       "      <td>True</td>\n",
       "      <td>1</td>\n",
       "      <td>0</td>\n",
       "      <td>False</td>\n",
       "      <td>some_ads</td>\n",
       "      <td>/r/wallstreetbets/comments/ymggfr/almost_700_l...</td>\n",
       "      <td>False</td>\n",
       "      <td>7</td>\n",
       "      <td>reddit</td>\n",
       "      <td>1667611613</td>\n",
       "      <td>1</td>\n",
       "      <td></td>\n",
       "      <td>True</td>\n",
       "      <td>False</td>\n",
       "      <td>False</td>\n",
       "      <td>wallstreetbets</td>\n",
       "      <td>t5_2th52</td>\n",
       "      <td>13002932</td>\n",
       "      <td>public</td>\n",
       "      <td>confidence</td>\n",
       "      <td>https://b.thumbs.redditmedia.com/jZSYUU6IE0k3F...</td>\n",
       "      <td>Almost $700 loss, stayed in the fetal position...</td>\n",
       "      <td>0</td>\n",
       "      <td>[]</td>\n",
       "      <td>1.0</td>\n",
       "      <td>https://i.redd.it/p1nug5fyb1y91.jpg</td>\n",
       "      <td>some_ads</td>\n",
       "      <td>7</td>\n",
       "      <td>image</td>\n",
       "      <td>{'enabled': True, 'images': [{'id': 'oxY0zm2xq...</td>\n",
       "      <td>11.0</td>\n",
       "      <td>140.0</td>\n",
       "      <td>https://i.redd.it/p1nug5fyb1y91.jpg</td>\n",
       "      <td>NaN</td>\n",
       "      <td>NaN</td>\n",
       "      <td>NaN</td>\n",
       "      <td>NaN</td>\n",
       "      <td>NaN</td>\n",
       "      <td>NaN</td>\n",
       "      <td>NaN</td>\n",
       "      <td>NaN</td>\n",
       "      <td>NaN</td>\n",
       "      <td>NaN</td>\n",
       "      <td>NaN</td>\n",
       "      <td>NaN</td>\n",
       "      <td>NaN</td>\n",
       "      <td>NaN</td>\n",
       "    </tr>\n",
       "  </tbody>\n",
       "</table>\n",
       "</div>"
      ],
      "text/plain": [
       "  all_awardings  allow_live_comments             author  \\\n",
       "0            []                False     Icy_Finance_23   \n",
       "1            []                False        JohnnyFaang   \n",
       "2            []                False        JohnnyFaang   \n",
       "3            []                False          Scaldie-B   \n",
       "4            []                False  barackosamathe3rd   \n",
       "\n",
       "  author_flair_css_class author_flair_richtext author_flair_text  \\\n",
       "0                   None                    []              None   \n",
       "1                   None                    []              None   \n",
       "2                   None                    []              None   \n",
       "3                   None                    []              None   \n",
       "4                   None                    []              None   \n",
       "\n",
       "  author_flair_type author_fullname  author_is_blocked author_patreon_flair  \\\n",
       "0              text     t2_7sglhkjp              False                False   \n",
       "1              text     t2_tzf4m0d9              False                False   \n",
       "2              text     t2_tzf4m0d9              False                False   \n",
       "3              text     t2_dflz4ht1              False                False   \n",
       "4              text     t2_tzet4ur2              False                False   \n",
       "\n",
       "  author_premium awarders  can_mod_post  contest_mode  created_utc  \\\n",
       "0          False       []         False         False   1667611954   \n",
       "1          False       []         False         False   1667611909   \n",
       "2          False       []         False         False   1667611743   \n",
       "3          False       []         False         False   1667611728   \n",
       "4          False       []         False         False   1667611603   \n",
       "\n",
       "                domain                                          full_link  \\\n",
       "0  self.wallstreetbets  https://www.reddit.com/r/wallstreetbets/commen...   \n",
       "1  self.wallstreetbets  https://www.reddit.com/r/wallstreetbets/commen...   \n",
       "2  self.wallstreetbets  https://www.reddit.com/r/wallstreetbets/commen...   \n",
       "3  self.wallstreetbets  https://www.reddit.com/r/wallstreetbets/commen...   \n",
       "4            i.redd.it  https://www.reddit.com/r/wallstreetbets/commen...   \n",
       "\n",
       "  gildings      id  is_created_from_ads_ui  is_crosspostable  is_meta  \\\n",
       "0       {}  ymgkxn                   False             False    False   \n",
       "1       {}  ymgkc4                   False             False    False   \n",
       "2       {}  ymgi74                   False             False    False   \n",
       "3       {}  ymgi0o                   False             False    False   \n",
       "4       {}  ymggfr                   False             False    False   \n",
       "\n",
       "   is_original_content  is_reddit_media_domain  is_robot_indexable  is_self  \\\n",
       "0                False                   False               False     True   \n",
       "1                False                   False               False     True   \n",
       "2                False                   False               False     True   \n",
       "3                False                   False               False     True   \n",
       "4                False                    True               False    False   \n",
       "\n",
       "   is_video link_flair_background_color link_flair_css_class  \\\n",
       "0     False                     #800080             question   \n",
       "1     False                     #0392cf                 yolo   \n",
       "2     False                     #0392cf                 yolo   \n",
       "3     False                     #800080             question   \n",
       "4     False                     #ff0000                 loss   \n",
       "\n",
       "                  link_flair_richtext                link_flair_template_id  \\\n",
       "0  [{'e': 'text', 't': 'Discussion'}]  96f6c79e-b853-11e5-a4cb-0ebdf030e05d   \n",
       "1        [{'e': 'text', 't': 'YOLO'}]  da18a43a-83c5-11e8-9b6c-0e287561ddb8   \n",
       "2        [{'e': 'text', 't': 'YOLO'}]  da18a43a-83c5-11e8-9b6c-0e287561ddb8   \n",
       "3  [{'e': 'text', 't': 'Discussion'}]  96f6c79e-b853-11e5-a4cb-0ebdf030e05d   \n",
       "4        [{'e': 'text', 't': 'Loss'}]  7d5f3586-0a95-11e9-a050-0efea8d9040e   \n",
       "\n",
       "  link_flair_text link_flair_text_color link_flair_type  locked  media_only  \\\n",
       "0      Discussion                 light        richtext   False       False   \n",
       "1            YOLO                 light        richtext   False       False   \n",
       "2            YOLO                 light        richtext   False       False   \n",
       "3      Discussion                 light        richtext   False       False   \n",
       "4            Loss                 light        richtext   False       False   \n",
       "\n",
       "   no_follow  num_comments  num_crossposts  over_18 parent_whitelist_status  \\\n",
       "0       True             1               0    False                some_ads   \n",
       "1       True             1               0    False                some_ads   \n",
       "2       True             1               0    False                some_ads   \n",
       "3       True             2               0    False                some_ads   \n",
       "4       True             1               0    False                some_ads   \n",
       "\n",
       "                                           permalink  pinned  pwls  \\\n",
       "0     /r/wallstreetbets/comments/ymgkxn/aem_yri_gfi/   False     7   \n",
       "1  /r/wallstreetbets/comments/ymgkc4/here_me_out_...   False     7   \n",
       "2  /r/wallstreetbets/comments/ymgi74/here_me_out_...   False     7   \n",
       "3  /r/wallstreetbets/comments/ymgi0o/we_worked_to...   False     7   \n",
       "4  /r/wallstreetbets/comments/ymggfr/almost_700_l...   False     7   \n",
       "\n",
       "  removed_by_category  retrieved_on  score   selftext  send_replies  spoiler  \\\n",
       "0           moderator    1667611964      1  [removed]          True    False   \n",
       "1           moderator    1667611919      1                     True    False   \n",
       "2           moderator    1667611754      1                     True    False   \n",
       "3           moderator    1667611739      1                     True    False   \n",
       "4              reddit    1667611613      1                     True    False   \n",
       "\n",
       "   stickied       subreddit subreddit_id  subreddit_subscribers  \\\n",
       "0     False  wallstreetbets     t5_2th52               13002962   \n",
       "1     False  wallstreetbets     t5_2th52               13002959   \n",
       "2     False  wallstreetbets     t5_2th52               13002945   \n",
       "3     False  wallstreetbets     t5_2th52               13002944   \n",
       "4     False  wallstreetbets     t5_2th52               13002932   \n",
       "\n",
       "  subreddit_type suggested_sort  \\\n",
       "0         public     confidence   \n",
       "1         public     confidence   \n",
       "2         public     confidence   \n",
       "3         public     confidence   \n",
       "4         public     confidence   \n",
       "\n",
       "                                           thumbnail  \\\n",
       "0                                               self   \n",
       "1                                               self   \n",
       "2                                               self   \n",
       "3                                               self   \n",
       "4  https://b.thumbs.redditmedia.com/jZSYUU6IE0k3F...   \n",
       "\n",
       "                                               title  total_awards_received  \\\n",
       "0                                    AEM / YRI / GFI                      0   \n",
       "1  Here Me Out… If the Apes Reddits Buys All The ...                      0   \n",
       "2  Here me out.. We buy all the $BCH, Reddits Per...                      0   \n",
       "3  We worked together to beat the system with Gam...                      0   \n",
       "4  Almost $700 loss, stayed in the fetal position...                      0   \n",
       "\n",
       "  treatment_tags  upvote_ratio  \\\n",
       "0             []           1.0   \n",
       "1             []           1.0   \n",
       "2             []           1.0   \n",
       "3             []           1.0   \n",
       "4             []           1.0   \n",
       "\n",
       "                                                 url whitelist_status  wls  \\\n",
       "0  https://www.reddit.com/r/wallstreetbets/commen...         some_ads    7   \n",
       "1  https://www.reddit.com/r/wallstreetbets/commen...         some_ads    7   \n",
       "2  https://www.reddit.com/r/wallstreetbets/commen...         some_ads    7   \n",
       "3  https://www.reddit.com/r/wallstreetbets/commen...         some_ads    7   \n",
       "4                https://i.redd.it/p1nug5fyb1y91.jpg         some_ads    7   \n",
       "\n",
       "  post_hint                                            preview  \\\n",
       "0       NaN                                                NaN   \n",
       "1       NaN                                                NaN   \n",
       "2       NaN                                                NaN   \n",
       "3       NaN                                                NaN   \n",
       "4     image  {'enabled': True, 'images': [{'id': 'oxY0zm2xq...   \n",
       "\n",
       "   thumbnail_height  thumbnail_width               url_overridden_by_dest  \\\n",
       "0               NaN              NaN                                  NaN   \n",
       "1               NaN              NaN                                  NaN   \n",
       "2               NaN              NaN                                  NaN   \n",
       "3               NaN              NaN                                  NaN   \n",
       "4              11.0            140.0  https://i.redd.it/p1nug5fyb1y91.jpg   \n",
       "\n",
       "  author_flair_background_color author_flair_text_color media media_embed  \\\n",
       "0                           NaN                     NaN   NaN         NaN   \n",
       "1                           NaN                     NaN   NaN         NaN   \n",
       "2                           NaN                     NaN   NaN         NaN   \n",
       "3                           NaN                     NaN   NaN         NaN   \n",
       "4                           NaN                     NaN   NaN         NaN   \n",
       "\n",
       "  secure_media secure_media_embed is_gallery gallery_data media_metadata  \\\n",
       "0          NaN                NaN        NaN          NaN            NaN   \n",
       "1          NaN                NaN        NaN          NaN            NaN   \n",
       "2          NaN                NaN        NaN          NaN            NaN   \n",
       "3          NaN                NaN        NaN          NaN            NaN   \n",
       "4          NaN                NaN        NaN          NaN            NaN   \n",
       "\n",
       "  author_flair_template_id poll_data banned_by live_audio author_cakeday  \n",
       "0                      NaN       NaN       NaN        NaN            NaN  \n",
       "1                      NaN       NaN       NaN        NaN            NaN  \n",
       "2                      NaN       NaN       NaN        NaN            NaN  \n",
       "3                      NaN       NaN       NaN        NaN            NaN  \n",
       "4                      NaN       NaN       NaN        NaN            NaN  "
      ]
     },
     "execution_count": 49,
     "metadata": {},
     "output_type": "execute_result"
    }
   ],
   "source": [
    "pd.set_option('display.max_columns', None)\n",
    "\n",
    "print(wallstreetbets.shape)\n",
    "\n",
    "wallstreetbets.head()"
   ]
  },
  {
   "cell_type": "code",
   "execution_count": 53,
   "metadata": {},
   "outputs": [
    {
     "data": {
      "text/plain": [
       "1667300528"
      ]
     },
     "execution_count": 53,
     "metadata": {},
     "output_type": "execute_result"
    }
   ],
   "source": [
    "wallstreetbets.iloc[wallstreetbets.shape[0]-1]['created_utc']"
   ]
  },
  {
   "cell_type": "code",
   "execution_count": 50,
   "metadata": {},
   "outputs": [
    {
     "ename": "IndexError",
     "evalue": "list index out of range",
     "output_type": "error",
     "traceback": [
      "\u001b[1;31m---------------------------------------------------------------------------\u001b[0m",
      "\u001b[1;31mIndexError\u001b[0m                                Traceback (most recent call last)",
      "\u001b[1;32mc:\\Users\\redoc\\OneDrive\\Desktop\\DSI-Roughpaper\\0. project_3 (DO THIS)\\reddit-scrape.ipynb Cell 36\u001b[0m in \u001b[0;36m<cell line: 1>\u001b[1;34m()\u001b[0m\n\u001b[1;32m----> <a href='vscode-notebook-cell:/c%3A/Users/redoc/OneDrive/Desktop/DSI-Roughpaper/0.%20project_3%20%28DO%20THIS%29/reddit-scrape.ipynb#X50sZmlsZQ%3D%3D?line=0'>1</a>\u001b[0m wallstreetbets2 \u001b[39m=\u001b[39m PushShift5000(\u001b[39m'\u001b[39;49m\u001b[39mwallstreetbets\u001b[39;49m\u001b[39m'\u001b[39;49m, \u001b[39m500\u001b[39;49m, wallstreetbets\u001b[39m.\u001b[39;49miloc[wallstreetbets\u001b[39m.\u001b[39;49mshape[\u001b[39m0\u001b[39;49m]\u001b[39m-\u001b[39;49m\u001b[39m1\u001b[39;49m][\u001b[39m'\u001b[39;49m\u001b[39mcreated_utc\u001b[39;49m\u001b[39m'\u001b[39;49m])\n",
      "\u001b[1;32mc:\\Users\\redoc\\OneDrive\\Desktop\\DSI-Roughpaper\\0. project_3 (DO THIS)\\reddit-scrape.ipynb Cell 36\u001b[0m in \u001b[0;36mPushShift5000\u001b[1;34m(sub, size, present)\u001b[0m\n\u001b[0;32m     <a href='vscode-notebook-cell:/c%3A/Users/redoc/OneDrive/Desktop/DSI-Roughpaper/0.%20project_3%20%28DO%20THIS%29/reddit-scrape.ipynb#X50sZmlsZQ%3D%3D?line=13'>14</a>\u001b[0m \u001b[39m#------------------------------------------------------------------\u001b[39;00m\n\u001b[0;32m     <a href='vscode-notebook-cell:/c%3A/Users/redoc/OneDrive/Desktop/DSI-Roughpaper/0.%20project_3%20%28DO%20THIS%29/reddit-scrape.ipynb#X50sZmlsZQ%3D%3D?line=14'>15</a>\u001b[0m \u001b[39mwhile\u001b[39;00m df\u001b[39m.\u001b[39mshape[\u001b[39m0\u001b[39m] \u001b[39m<\u001b[39m size:\n\u001b[0;32m     <a href='vscode-notebook-cell:/c%3A/Users/redoc/OneDrive/Desktop/DSI-Roughpaper/0.%20project_3%20%28DO%20THIS%29/reddit-scrape.ipynb#X50sZmlsZQ%3D%3D?line=15'>16</a>\u001b[0m     params2 \u001b[39m=\u001b[39m{\n\u001b[0;32m     <a href='vscode-notebook-cell:/c%3A/Users/redoc/OneDrive/Desktop/DSI-Roughpaper/0.%20project_3%20%28DO%20THIS%29/reddit-scrape.ipynb#X50sZmlsZQ%3D%3D?line=16'>17</a>\u001b[0m         \u001b[39m'\u001b[39m\u001b[39msubreddit\u001b[39m\u001b[39m'\u001b[39m: \u001b[39mstr\u001b[39m(sub),\n\u001b[0;32m     <a href='vscode-notebook-cell:/c%3A/Users/redoc/OneDrive/Desktop/DSI-Roughpaper/0.%20project_3%20%28DO%20THIS%29/reddit-scrape.ipynb#X50sZmlsZQ%3D%3D?line=17'>18</a>\u001b[0m         \u001b[39m'\u001b[39m\u001b[39msize\u001b[39m\u001b[39m'\u001b[39m: \u001b[39mint\u001b[39m(size),\n\u001b[1;32m---> <a href='vscode-notebook-cell:/c%3A/Users/redoc/OneDrive/Desktop/DSI-Roughpaper/0.%20project_3%20%28DO%20THIS%29/reddit-scrape.ipynb#X50sZmlsZQ%3D%3D?line=18'>19</a>\u001b[0m         \u001b[39m'\u001b[39m\u001b[39mbefore\u001b[39m\u001b[39m'\u001b[39m: posts[max_size][\u001b[39m'\u001b[39m\u001b[39mcreated_utc\u001b[39m\u001b[39m'\u001b[39m]\n\u001b[0;32m     <a href='vscode-notebook-cell:/c%3A/Users/redoc/OneDrive/Desktop/DSI-Roughpaper/0.%20project_3%20%28DO%20THIS%29/reddit-scrape.ipynb#X50sZmlsZQ%3D%3D?line=19'>20</a>\u001b[0m     }\n\u001b[0;32m     <a href='vscode-notebook-cell:/c%3A/Users/redoc/OneDrive/Desktop/DSI-Roughpaper/0.%20project_3%20%28DO%20THIS%29/reddit-scrape.ipynb#X50sZmlsZQ%3D%3D?line=20'>21</a>\u001b[0m     res2 \u001b[39m=\u001b[39m requests\u001b[39m.\u001b[39mget(url,params2)\n\u001b[0;32m     <a href='vscode-notebook-cell:/c%3A/Users/redoc/OneDrive/Desktop/DSI-Roughpaper/0.%20project_3%20%28DO%20THIS%29/reddit-scrape.ipynb#X50sZmlsZQ%3D%3D?line=21'>22</a>\u001b[0m     data2\u001b[39m=\u001b[39mres2\u001b[39m.\u001b[39mjson()\n",
      "\u001b[1;31mIndexError\u001b[0m: list index out of range"
     ]
    }
   ],
   "source": [
    "wallstreetbets2 = PushShift5000('wallstreetbets', 500, wallstreetbets.iloc[wallstreetbets.shape[0]-1]['created_utc'])"
   ]
  },
  {
   "cell_type": "code",
   "execution_count": 80,
   "metadata": {},
   "outputs": [
    {
     "ename": "IndexError",
     "evalue": "list index out of range",
     "output_type": "error",
     "traceback": [
      "\u001b[1;31m---------------------------------------------------------------------------\u001b[0m",
      "\u001b[1;31mIndexError\u001b[0m                                Traceback (most recent call last)",
      "\u001b[1;32mc:\\Users\\redoc\\OneDrive\\Desktop\\DSI-Roughpaper\\0. project_3 (DO THIS)\\reddit-scrape.ipynb Cell 50\u001b[0m in \u001b[0;36m<cell line: 1>\u001b[1;34m()\u001b[0m\n\u001b[1;32m----> <a href='vscode-notebook-cell:/c%3A/Users/redoc/OneDrive/Desktop/DSI-Roughpaper/0.%20project_3%20%28DO%20THIS%29/reddit-scrape.ipynb#Y104sZmlsZQ%3D%3D?line=0'>1</a>\u001b[0m wallstreetbets2 \u001b[39m=\u001b[39m PushShift5000(\u001b[39m'\u001b[39;49m\u001b[39mwallstreetbets\u001b[39;49m\u001b[39m'\u001b[39;49m, \u001b[39m2500\u001b[39;49m, \u001b[39m1667300528\u001b[39;49m)\n",
      "\u001b[1;32mc:\\Users\\redoc\\OneDrive\\Desktop\\DSI-Roughpaper\\0. project_3 (DO THIS)\\reddit-scrape.ipynb Cell 50\u001b[0m in \u001b[0;36mPushShift5000\u001b[1;34m(sub, size, present)\u001b[0m\n\u001b[0;32m     <a href='vscode-notebook-cell:/c%3A/Users/redoc/OneDrive/Desktop/DSI-Roughpaper/0.%20project_3%20%28DO%20THIS%29/reddit-scrape.ipynb#Y104sZmlsZQ%3D%3D?line=13'>14</a>\u001b[0m \u001b[39m#------------------------------------------------------------------\u001b[39;00m\n\u001b[0;32m     <a href='vscode-notebook-cell:/c%3A/Users/redoc/OneDrive/Desktop/DSI-Roughpaper/0.%20project_3%20%28DO%20THIS%29/reddit-scrape.ipynb#Y104sZmlsZQ%3D%3D?line=14'>15</a>\u001b[0m \u001b[39mwhile\u001b[39;00m df\u001b[39m.\u001b[39mshape[\u001b[39m0\u001b[39m] \u001b[39m<\u001b[39m size:\n\u001b[0;32m     <a href='vscode-notebook-cell:/c%3A/Users/redoc/OneDrive/Desktop/DSI-Roughpaper/0.%20project_3%20%28DO%20THIS%29/reddit-scrape.ipynb#Y104sZmlsZQ%3D%3D?line=15'>16</a>\u001b[0m     params2 \u001b[39m=\u001b[39m{\n\u001b[0;32m     <a href='vscode-notebook-cell:/c%3A/Users/redoc/OneDrive/Desktop/DSI-Roughpaper/0.%20project_3%20%28DO%20THIS%29/reddit-scrape.ipynb#Y104sZmlsZQ%3D%3D?line=16'>17</a>\u001b[0m         \u001b[39m'\u001b[39m\u001b[39msubreddit\u001b[39m\u001b[39m'\u001b[39m: \u001b[39mstr\u001b[39m(sub),\n\u001b[0;32m     <a href='vscode-notebook-cell:/c%3A/Users/redoc/OneDrive/Desktop/DSI-Roughpaper/0.%20project_3%20%28DO%20THIS%29/reddit-scrape.ipynb#Y104sZmlsZQ%3D%3D?line=17'>18</a>\u001b[0m         \u001b[39m'\u001b[39m\u001b[39msize\u001b[39m\u001b[39m'\u001b[39m: \u001b[39mint\u001b[39m(size),\n\u001b[1;32m---> <a href='vscode-notebook-cell:/c%3A/Users/redoc/OneDrive/Desktop/DSI-Roughpaper/0.%20project_3%20%28DO%20THIS%29/reddit-scrape.ipynb#Y104sZmlsZQ%3D%3D?line=18'>19</a>\u001b[0m         \u001b[39m'\u001b[39m\u001b[39mbefore\u001b[39m\u001b[39m'\u001b[39m: posts[max_size][\u001b[39m'\u001b[39m\u001b[39mcreated_utc\u001b[39m\u001b[39m'\u001b[39m]\n\u001b[0;32m     <a href='vscode-notebook-cell:/c%3A/Users/redoc/OneDrive/Desktop/DSI-Roughpaper/0.%20project_3%20%28DO%20THIS%29/reddit-scrape.ipynb#Y104sZmlsZQ%3D%3D?line=19'>20</a>\u001b[0m     }\n\u001b[0;32m     <a href='vscode-notebook-cell:/c%3A/Users/redoc/OneDrive/Desktop/DSI-Roughpaper/0.%20project_3%20%28DO%20THIS%29/reddit-scrape.ipynb#Y104sZmlsZQ%3D%3D?line=20'>21</a>\u001b[0m     res2 \u001b[39m=\u001b[39m requests\u001b[39m.\u001b[39mget(url,params2)\n\u001b[0;32m     <a href='vscode-notebook-cell:/c%3A/Users/redoc/OneDrive/Desktop/DSI-Roughpaper/0.%20project_3%20%28DO%20THIS%29/reddit-scrape.ipynb#Y104sZmlsZQ%3D%3D?line=21'>22</a>\u001b[0m     data2\u001b[39m=\u001b[39mres2\u001b[39m.\u001b[39mjson()\n",
      "\u001b[1;31mIndexError\u001b[0m: list index out of range"
     ]
    }
   ],
   "source": [
    "wallstreetbets2 = PushShift5000('wallstreetbets', 2500, 1667300528)"
   ]
  },
  {
   "cell_type": "code",
   "execution_count": null,
   "metadata": {},
   "outputs": [],
   "source": [
    "wallstreetbets=pd.concat([wallstreetbets,wallstreetbets2],ignore_index=True)\n",
    "wallstreetbets.shape"
   ]
  },
  {
   "cell_type": "code",
   "execution_count": 42,
   "metadata": {},
   "outputs": [
    {
     "data": {
      "text/plain": [
       "2499"
      ]
     },
     "execution_count": 42,
     "metadata": {},
     "output_type": "execute_result"
    }
   ],
   "source": [
    "wallstreetbets.shape[0]-1"
   ]
  },
  {
   "cell_type": "code",
   "execution_count": 43,
   "metadata": {},
   "outputs": [],
   "source": [
    "wallstreetbets.to_csv('datasets/wallstreetbets.csv')"
   ]
  },
  {
   "cell_type": "code",
   "execution_count": null,
   "metadata": {},
   "outputs": [],
   "source": [
    "# wallstreetbets2 = PushShift5000('wallstreetbets', 500, wallstreetbets.iloc[wallstreetbets.shape[0]-1]['created_utc'])"
   ]
  }
 ],
 "metadata": {
  "kernelspec": {
   "display_name": "Python 3.10.5 64-bit",
   "language": "python",
   "name": "python3"
  },
  "language_info": {
   "codemirror_mode": {
    "name": "ipython",
    "version": 3
   },
   "file_extension": ".py",
   "mimetype": "text/x-python",
   "name": "python",
   "nbconvert_exporter": "python",
   "pygments_lexer": "ipython3",
   "version": "3.10.5"
  },
  "orig_nbformat": 4,
  "vscode": {
   "interpreter": {
    "hash": "f1131d84b9e97d700f196cec3f143c1c5ca4787d89ba01101505d30befb8a4c0"
   }
  }
 },
 "nbformat": 4,
 "nbformat_minor": 2
}
