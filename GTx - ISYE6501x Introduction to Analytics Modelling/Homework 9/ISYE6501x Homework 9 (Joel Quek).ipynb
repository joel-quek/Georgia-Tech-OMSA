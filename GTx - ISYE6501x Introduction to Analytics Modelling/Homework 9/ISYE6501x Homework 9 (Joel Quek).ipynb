{
 "cells": [
  {
   "cell_type": "markdown",
   "id": "49faadd7",
   "metadata": {},
   "source": [
    "# ISYE6501x Homework 9 \n",
    "Done By: Joel Quek"
   ]
  },
  {
   "cell_type": "markdown",
   "id": "51d3be8c",
   "metadata": {},
   "source": [
    "## Question 12.1\n",
    "\n",
    "Describe a situation or problem from your job, everyday life, current events, etc., for which a design of experiments approach would be appropriate.\n"
   ]
  },
  {
   "cell_type": "markdown",
   "id": "d4dca284",
   "metadata": {},
   "source": [
    "A situation where a design of experiments (DOE) approach would be appropriate is in improving the conversion rate of a website or app. In the digital age, websites and apps have become crucial tools for businesses to engage with their customers and increase revenue. One of the key metrics for measuring the success of a website or app is the conversion rate, which is the percentage of visitors who take a desired action, such as making a purchase, filling out a form, or signing up for a newsletter.\n",
    "\n",
    "To improve the conversion rate, a DOE approach could be used to systematically test different variations of the website or app to determine which changes have the most significant impact on conversion. For example, the DOE could involve testing different versions of the website or app with varying layouts, color schemes, copy, calls to action, and other design elements. By randomly assigning users to different versions of the website or app and measuring the conversion rate for each group, the DOE can help identify the most effective design elements and inform future design decisions.\n",
    "\n",
    "Overall, a DOE approach can help businesses optimize their digital assets, increase revenue, and improve customer satisfaction by providing data-driven insights into what works and what doesn't."
   ]
  },
  {
   "cell_type": "markdown",
   "id": "d01aad56",
   "metadata": {},
   "source": [
    "## Question 12.2\n",
    "\n",
    "To determine the value of 10 different yes/no features to the market value of a house (large yard, solar roof, etc.), a real estate agent plans to survey 50 potential buyers, showing a fictitious house with different combinations of features.  To reduce the survey size, the agent wants to show just 16 fictitious houses. Use R’s FrF2 function (in the FrF2 package) to find a fractional factorial design for this experiment: what set of features should each of the 16 fictitious houses have?  Note: the output of FrF2 is “1” (include) or  “-1” (don’t include) for each feature.\n"
   ]
  },
  {
   "cell_type": "markdown",
   "id": "b5978795",
   "metadata": {},
   "source": [
    "## Use R Kernel"
   ]
  },
  {
   "cell_type": "code",
   "execution_count": 2,
   "id": "6bc52c92",
   "metadata": {
    "collapsed": true
   },
   "outputs": [
    {
     "name": "stderr",
     "output_type": "stream",
     "text": [
      "Installing package into 'C:/Users/redoc/AppData/Local/R/win-library/4.2'\n",
      "(as 'lib' is unspecified)\n",
      "\n",
      "also installing the dependencies 'rbibutils', 'gmp', 'polynom', 'sets', 'mathjaxr', 'Rdpack', 'conf.design', 'vcd', 'combinat', 'numbers', 'partitions', 'DoE.base', 'sfsmisc', 'scatterplot3d'\n",
      "\n",
      "\n"
     ]
    },
    {
     "name": "stdout",
     "output_type": "stream",
     "text": [
      "package 'rbibutils' successfully unpacked and MD5 sums checked\n",
      "package 'gmp' successfully unpacked and MD5 sums checked\n",
      "package 'polynom' successfully unpacked and MD5 sums checked\n",
      "package 'sets' successfully unpacked and MD5 sums checked\n",
      "package 'mathjaxr' successfully unpacked and MD5 sums checked\n",
      "package 'Rdpack' successfully unpacked and MD5 sums checked\n",
      "package 'conf.design' successfully unpacked and MD5 sums checked\n",
      "package 'vcd' successfully unpacked and MD5 sums checked\n",
      "package 'combinat' successfully unpacked and MD5 sums checked\n",
      "package 'numbers' successfully unpacked and MD5 sums checked\n",
      "package 'partitions' successfully unpacked and MD5 sums checked\n",
      "package 'DoE.base' successfully unpacked and MD5 sums checked\n",
      "package 'sfsmisc' successfully unpacked and MD5 sums checked\n",
      "package 'scatterplot3d' successfully unpacked and MD5 sums checked\n",
      "package 'FrF2' successfully unpacked and MD5 sums checked\n",
      "\n",
      "The downloaded binary packages are in\n",
      "\tC:\\Users\\redoc\\AppData\\Local\\Temp\\RtmpqchjZE\\downloaded_packages\n"
     ]
    }
   ],
   "source": [
    "install.packages('FrF2')"
   ]
  },
  {
   "cell_type": "code",
   "execution_count": 3,
   "id": "515898ef",
   "metadata": {
    "collapsed": true
   },
   "outputs": [
    {
     "name": "stderr",
     "output_type": "stream",
     "text": [
      "Loading required package: DoE.base\n",
      "\n",
      "Loading required package: grid\n",
      "\n",
      "Loading required package: conf.design\n",
      "\n",
      "Registered S3 method overwritten by 'DoE.base':\n",
      "  method           from       \n",
      "  factorize.factor conf.design\n",
      "\n",
      "\n",
      "Attaching package: 'DoE.base'\n",
      "\n",
      "\n",
      "The following objects are masked from 'package:stats':\n",
      "\n",
      "    aov, lm\n",
      "\n",
      "\n",
      "The following object is masked from 'package:graphics':\n",
      "\n",
      "    plot.design\n",
      "\n",
      "\n",
      "The following object is masked from 'package:base':\n",
      "\n",
      "    lengths\n",
      "\n",
      "\n"
     ]
    }
   ],
   "source": [
    "library('FrF2')"
   ]
  },
  {
   "cell_type": "code",
   "execution_count": 4,
   "id": "5e94fe13",
   "metadata": {},
   "outputs": [
    {
     "data": {
      "text/html": [
       "<table class=\"dataframe\">\n",
       "<caption>A design: 16 × 10</caption>\n",
       "<thead>\n",
       "\t<tr><th></th><th scope=col>A</th><th scope=col>B</th><th scope=col>C</th><th scope=col>D</th><th scope=col>E</th><th scope=col>F</th><th scope=col>G</th><th scope=col>H</th><th scope=col>J</th><th scope=col>K</th></tr>\n",
       "\t<tr><th></th><th scope=col>&lt;fct&gt;</th><th scope=col>&lt;fct&gt;</th><th scope=col>&lt;fct&gt;</th><th scope=col>&lt;fct&gt;</th><th scope=col>&lt;fct&gt;</th><th scope=col>&lt;fct&gt;</th><th scope=col>&lt;fct&gt;</th><th scope=col>&lt;fct&gt;</th><th scope=col>&lt;fct&gt;</th><th scope=col>&lt;fct&gt;</th></tr>\n",
       "</thead>\n",
       "<tbody>\n",
       "\t<tr><th scope=row>1</th><td>-1</td><td>1 </td><td>1 </td><td>1 </td><td>-1</td><td>-1</td><td>1 </td><td>-1</td><td>1 </td><td>-1</td></tr>\n",
       "\t<tr><th scope=row>2</th><td>1 </td><td>-1</td><td>1 </td><td>-1</td><td>-1</td><td>1 </td><td>-1</td><td>-1</td><td>1 </td><td>1 </td></tr>\n",
       "\t<tr><th scope=row>3</th><td>1 </td><td>-1</td><td>-1</td><td>-1</td><td>-1</td><td>-1</td><td>1 </td><td>-1</td><td>-1</td><td>-1</td></tr>\n",
       "\t<tr><th scope=row>4</th><td>1 </td><td>1 </td><td>-1</td><td>1 </td><td>1 </td><td>-1</td><td>-1</td><td>1 </td><td>-1</td><td>-1</td></tr>\n",
       "\t<tr><th scope=row>5</th><td>-1</td><td>1 </td><td>-1</td><td>1 </td><td>-1</td><td>1 </td><td>-1</td><td>-1</td><td>-1</td><td>1 </td></tr>\n",
       "\t<tr><th scope=row>6</th><td>-1</td><td>-1</td><td>1 </td><td>1 </td><td>1 </td><td>-1</td><td>-1</td><td>-1</td><td>-1</td><td>1 </td></tr>\n",
       "\t<tr><th scope=row>7</th><td>-1</td><td>1 </td><td>-1</td><td>-1</td><td>-1</td><td>1 </td><td>-1</td><td>1 </td><td>1 </td><td>-1</td></tr>\n",
       "\t<tr><th scope=row>8</th><td>-1</td><td>-1</td><td>-1</td><td>-1</td><td>1 </td><td>1 </td><td>1 </td><td>1 </td><td>-1</td><td>1 </td></tr>\n",
       "\t<tr><th scope=row>9</th><td>1 </td><td>1 </td><td>1 </td><td>-1</td><td>1 </td><td>1 </td><td>1 </td><td>-1</td><td>-1</td><td>-1</td></tr>\n",
       "\t<tr><th scope=row>10</th><td>1 </td><td>1 </td><td>-1</td><td>-1</td><td>1 </td><td>-1</td><td>-1</td><td>-1</td><td>1 </td><td>1 </td></tr>\n",
       "\t<tr><th scope=row>11</th><td>1 </td><td>-1</td><td>-1</td><td>1 </td><td>-1</td><td>-1</td><td>1 </td><td>1 </td><td>1 </td><td>1 </td></tr>\n",
       "\t<tr><th scope=row>12</th><td>1 </td><td>1 </td><td>1 </td><td>1 </td><td>1 </td><td>1 </td><td>1 </td><td>1 </td><td>1 </td><td>1 </td></tr>\n",
       "\t<tr><th scope=row>13</th><td>-1</td><td>-1</td><td>-1</td><td>1 </td><td>1 </td><td>1 </td><td>1 </td><td>-1</td><td>1 </td><td>-1</td></tr>\n",
       "\t<tr><th scope=row>14</th><td>-1</td><td>1 </td><td>1 </td><td>-1</td><td>-1</td><td>-1</td><td>1 </td><td>1 </td><td>-1</td><td>1 </td></tr>\n",
       "\t<tr><th scope=row>15</th><td>-1</td><td>-1</td><td>1 </td><td>-1</td><td>1 </td><td>-1</td><td>-1</td><td>1 </td><td>1 </td><td>-1</td></tr>\n",
       "\t<tr><th scope=row>16</th><td>1 </td><td>-1</td><td>1 </td><td>1 </td><td>-1</td><td>1 </td><td>-1</td><td>1 </td><td>-1</td><td>-1</td></tr>\n",
       "</tbody>\n",
       "</table>\n"
      ],
      "text/latex": [
       "A design: 16 × 10\n",
       "\\begin{tabular}{r|llllllllll}\n",
       "  & A & B & C & D & E & F & G & H & J & K\\\\\n",
       "  & <fct> & <fct> & <fct> & <fct> & <fct> & <fct> & <fct> & <fct> & <fct> & <fct>\\\\\n",
       "\\hline\n",
       "\t1 & -1 & 1  & 1  & 1  & -1 & -1 & 1  & -1 & 1  & -1\\\\\n",
       "\t2 & 1  & -1 & 1  & -1 & -1 & 1  & -1 & -1 & 1  & 1 \\\\\n",
       "\t3 & 1  & -1 & -1 & -1 & -1 & -1 & 1  & -1 & -1 & -1\\\\\n",
       "\t4 & 1  & 1  & -1 & 1  & 1  & -1 & -1 & 1  & -1 & -1\\\\\n",
       "\t5 & -1 & 1  & -1 & 1  & -1 & 1  & -1 & -1 & -1 & 1 \\\\\n",
       "\t6 & -1 & -1 & 1  & 1  & 1  & -1 & -1 & -1 & -1 & 1 \\\\\n",
       "\t7 & -1 & 1  & -1 & -1 & -1 & 1  & -1 & 1  & 1  & -1\\\\\n",
       "\t8 & -1 & -1 & -1 & -1 & 1  & 1  & 1  & 1  & -1 & 1 \\\\\n",
       "\t9 & 1  & 1  & 1  & -1 & 1  & 1  & 1  & -1 & -1 & -1\\\\\n",
       "\t10 & 1  & 1  & -1 & -1 & 1  & -1 & -1 & -1 & 1  & 1 \\\\\n",
       "\t11 & 1  & -1 & -1 & 1  & -1 & -1 & 1  & 1  & 1  & 1 \\\\\n",
       "\t12 & 1  & 1  & 1  & 1  & 1  & 1  & 1  & 1  & 1  & 1 \\\\\n",
       "\t13 & -1 & -1 & -1 & 1  & 1  & 1  & 1  & -1 & 1  & -1\\\\\n",
       "\t14 & -1 & 1  & 1  & -1 & -1 & -1 & 1  & 1  & -1 & 1 \\\\\n",
       "\t15 & -1 & -1 & 1  & -1 & 1  & -1 & -1 & 1  & 1  & -1\\\\\n",
       "\t16 & 1  & -1 & 1  & 1  & -1 & 1  & -1 & 1  & -1 & -1\\\\\n",
       "\\end{tabular}\n"
      ],
      "text/markdown": [
       "\n",
       "A design: 16 × 10\n",
       "\n",
       "| <!--/--> | A &lt;fct&gt; | B &lt;fct&gt; | C &lt;fct&gt; | D &lt;fct&gt; | E &lt;fct&gt; | F &lt;fct&gt; | G &lt;fct&gt; | H &lt;fct&gt; | J &lt;fct&gt; | K &lt;fct&gt; |\n",
       "|---|---|---|---|---|---|---|---|---|---|---|\n",
       "| 1 | -1 | 1  | 1  | 1  | -1 | -1 | 1  | -1 | 1  | -1 |\n",
       "| 2 | 1  | -1 | 1  | -1 | -1 | 1  | -1 | -1 | 1  | 1  |\n",
       "| 3 | 1  | -1 | -1 | -1 | -1 | -1 | 1  | -1 | -1 | -1 |\n",
       "| 4 | 1  | 1  | -1 | 1  | 1  | -1 | -1 | 1  | -1 | -1 |\n",
       "| 5 | -1 | 1  | -1 | 1  | -1 | 1  | -1 | -1 | -1 | 1  |\n",
       "| 6 | -1 | -1 | 1  | 1  | 1  | -1 | -1 | -1 | -1 | 1  |\n",
       "| 7 | -1 | 1  | -1 | -1 | -1 | 1  | -1 | 1  | 1  | -1 |\n",
       "| 8 | -1 | -1 | -1 | -1 | 1  | 1  | 1  | 1  | -1 | 1  |\n",
       "| 9 | 1  | 1  | 1  | -1 | 1  | 1  | 1  | -1 | -1 | -1 |\n",
       "| 10 | 1  | 1  | -1 | -1 | 1  | -1 | -1 | -1 | 1  | 1  |\n",
       "| 11 | 1  | -1 | -1 | 1  | -1 | -1 | 1  | 1  | 1  | 1  |\n",
       "| 12 | 1  | 1  | 1  | 1  | 1  | 1  | 1  | 1  | 1  | 1  |\n",
       "| 13 | -1 | -1 | -1 | 1  | 1  | 1  | 1  | -1 | 1  | -1 |\n",
       "| 14 | -1 | 1  | 1  | -1 | -1 | -1 | 1  | 1  | -1 | 1  |\n",
       "| 15 | -1 | -1 | 1  | -1 | 1  | -1 | -1 | 1  | 1  | -1 |\n",
       "| 16 | 1  | -1 | 1  | 1  | -1 | 1  | -1 | 1  | -1 | -1 |\n",
       "\n"
      ],
      "text/plain": [
       "   A  B  C  D  E  F  G  H  J  K \n",
       "1  -1 1  1  1  -1 -1 1  -1 1  -1\n",
       "2  1  -1 1  -1 -1 1  -1 -1 1  1 \n",
       "3  1  -1 -1 -1 -1 -1 1  -1 -1 -1\n",
       "4  1  1  -1 1  1  -1 -1 1  -1 -1\n",
       "5  -1 1  -1 1  -1 1  -1 -1 -1 1 \n",
       "6  -1 -1 1  1  1  -1 -1 -1 -1 1 \n",
       "7  -1 1  -1 -1 -1 1  -1 1  1  -1\n",
       "8  -1 -1 -1 -1 1  1  1  1  -1 1 \n",
       "9  1  1  1  -1 1  1  1  -1 -1 -1\n",
       "10 1  1  -1 -1 1  -1 -1 -1 1  1 \n",
       "11 1  -1 -1 1  -1 -1 1  1  1  1 \n",
       "12 1  1  1  1  1  1  1  1  1  1 \n",
       "13 -1 -1 -1 1  1  1  1  -1 1  -1\n",
       "14 -1 1  1  -1 -1 -1 1  1  -1 1 \n",
       "15 -1 -1 1  -1 1  -1 -1 1  1  -1\n",
       "16 1  -1 1  1  -1 1  -1 1  -1 -1"
      ]
     },
     "metadata": {},
     "output_type": "display_data"
    }
   ],
   "source": [
    "House.ex <- FrF2(nruns = 16, nfactors = 10)\n",
    "House.ex"
   ]
  },
  {
   "cell_type": "markdown",
   "id": "099690dd",
   "metadata": {},
   "source": [
    "### Second Try"
   ]
  },
  {
   "cell_type": "markdown",
   "id": "7956753d",
   "metadata": {},
   "source": [
    "Set the number of features to 10, and the number of runs to 16"
   ]
  },
  {
   "cell_type": "code",
   "execution_count": 5,
   "id": "5725fe4f",
   "metadata": {},
   "outputs": [],
   "source": [
    "n <- 10 # number of features\n",
    "k <- 16 # number of runs"
   ]
  },
  {
   "cell_type": "markdown",
   "id": "ddfe9aad",
   "metadata": {},
   "source": [
    "Use the FrF2 function to generate a fractional factorial design:"
   ]
  },
  {
   "cell_type": "code",
   "execution_count": 7,
   "id": "1d353cb8",
   "metadata": {},
   "outputs": [],
   "source": [
    "design <- FrF2(k, n)"
   ]
  },
  {
   "cell_type": "code",
   "execution_count": 8,
   "id": "ef479d23",
   "metadata": {},
   "outputs": [
    {
     "data": {
      "text/html": [
       "<table class=\"dataframe\">\n",
       "<caption>A design: 16 × 10</caption>\n",
       "<thead>\n",
       "\t<tr><th></th><th scope=col>A</th><th scope=col>B</th><th scope=col>C</th><th scope=col>D</th><th scope=col>E</th><th scope=col>F</th><th scope=col>G</th><th scope=col>H</th><th scope=col>J</th><th scope=col>K</th></tr>\n",
       "\t<tr><th></th><th scope=col>&lt;fct&gt;</th><th scope=col>&lt;fct&gt;</th><th scope=col>&lt;fct&gt;</th><th scope=col>&lt;fct&gt;</th><th scope=col>&lt;fct&gt;</th><th scope=col>&lt;fct&gt;</th><th scope=col>&lt;fct&gt;</th><th scope=col>&lt;fct&gt;</th><th scope=col>&lt;fct&gt;</th><th scope=col>&lt;fct&gt;</th></tr>\n",
       "</thead>\n",
       "<tbody>\n",
       "\t<tr><th scope=row>1</th><td>-1</td><td>-1</td><td>1 </td><td>-1</td><td>1 </td><td>-1</td><td>-1</td><td>1 </td><td>1 </td><td>-1</td></tr>\n",
       "\t<tr><th scope=row>2</th><td>1 </td><td>-1</td><td>1 </td><td>-1</td><td>-1</td><td>1 </td><td>-1</td><td>-1</td><td>1 </td><td>1 </td></tr>\n",
       "\t<tr><th scope=row>3</th><td>-1</td><td>1 </td><td>1 </td><td>1 </td><td>-1</td><td>-1</td><td>1 </td><td>-1</td><td>1 </td><td>-1</td></tr>\n",
       "\t<tr><th scope=row>4</th><td>-1</td><td>-1</td><td>-1</td><td>-1</td><td>1 </td><td>1 </td><td>1 </td><td>1 </td><td>-1</td><td>1 </td></tr>\n",
       "\t<tr><th scope=row>5</th><td>-1</td><td>-1</td><td>-1</td><td>1 </td><td>1 </td><td>1 </td><td>1 </td><td>-1</td><td>1 </td><td>-1</td></tr>\n",
       "\t<tr><th scope=row>6</th><td>-1</td><td>1 </td><td>1 </td><td>-1</td><td>-1</td><td>-1</td><td>1 </td><td>1 </td><td>-1</td><td>1 </td></tr>\n",
       "\t<tr><th scope=row>7</th><td>1 </td><td>1 </td><td>1 </td><td>-1</td><td>1 </td><td>1 </td><td>1 </td><td>-1</td><td>-1</td><td>-1</td></tr>\n",
       "\t<tr><th scope=row>8</th><td>1 </td><td>1 </td><td>1 </td><td>1 </td><td>1 </td><td>1 </td><td>1 </td><td>1 </td><td>1 </td><td>1 </td></tr>\n",
       "\t<tr><th scope=row>9</th><td>1 </td><td>1 </td><td>-1</td><td>1 </td><td>1 </td><td>-1</td><td>-1</td><td>1 </td><td>-1</td><td>-1</td></tr>\n",
       "\t<tr><th scope=row>10</th><td>1 </td><td>-1</td><td>-1</td><td>-1</td><td>-1</td><td>-1</td><td>1 </td><td>-1</td><td>-1</td><td>-1</td></tr>\n",
       "\t<tr><th scope=row>11</th><td>1 </td><td>1 </td><td>-1</td><td>-1</td><td>1 </td><td>-1</td><td>-1</td><td>-1</td><td>1 </td><td>1 </td></tr>\n",
       "\t<tr><th scope=row>12</th><td>1 </td><td>-1</td><td>1 </td><td>1 </td><td>-1</td><td>1 </td><td>-1</td><td>1 </td><td>-1</td><td>-1</td></tr>\n",
       "\t<tr><th scope=row>13</th><td>1 </td><td>-1</td><td>-1</td><td>1 </td><td>-1</td><td>-1</td><td>1 </td><td>1 </td><td>1 </td><td>1 </td></tr>\n",
       "\t<tr><th scope=row>14</th><td>-1</td><td>-1</td><td>1 </td><td>1 </td><td>1 </td><td>-1</td><td>-1</td><td>-1</td><td>-1</td><td>1 </td></tr>\n",
       "\t<tr><th scope=row>15</th><td>-1</td><td>1 </td><td>-1</td><td>1 </td><td>-1</td><td>1 </td><td>-1</td><td>-1</td><td>-1</td><td>1 </td></tr>\n",
       "\t<tr><th scope=row>16</th><td>-1</td><td>1 </td><td>-1</td><td>-1</td><td>-1</td><td>1 </td><td>-1</td><td>1 </td><td>1 </td><td>-1</td></tr>\n",
       "</tbody>\n",
       "</table>\n"
      ],
      "text/latex": [
       "A design: 16 × 10\n",
       "\\begin{tabular}{r|llllllllll}\n",
       "  & A & B & C & D & E & F & G & H & J & K\\\\\n",
       "  & <fct> & <fct> & <fct> & <fct> & <fct> & <fct> & <fct> & <fct> & <fct> & <fct>\\\\\n",
       "\\hline\n",
       "\t1 & -1 & -1 & 1  & -1 & 1  & -1 & -1 & 1  & 1  & -1\\\\\n",
       "\t2 & 1  & -1 & 1  & -1 & -1 & 1  & -1 & -1 & 1  & 1 \\\\\n",
       "\t3 & -1 & 1  & 1  & 1  & -1 & -1 & 1  & -1 & 1  & -1\\\\\n",
       "\t4 & -1 & -1 & -1 & -1 & 1  & 1  & 1  & 1  & -1 & 1 \\\\\n",
       "\t5 & -1 & -1 & -1 & 1  & 1  & 1  & 1  & -1 & 1  & -1\\\\\n",
       "\t6 & -1 & 1  & 1  & -1 & -1 & -1 & 1  & 1  & -1 & 1 \\\\\n",
       "\t7 & 1  & 1  & 1  & -1 & 1  & 1  & 1  & -1 & -1 & -1\\\\\n",
       "\t8 & 1  & 1  & 1  & 1  & 1  & 1  & 1  & 1  & 1  & 1 \\\\\n",
       "\t9 & 1  & 1  & -1 & 1  & 1  & -1 & -1 & 1  & -1 & -1\\\\\n",
       "\t10 & 1  & -1 & -1 & -1 & -1 & -1 & 1  & -1 & -1 & -1\\\\\n",
       "\t11 & 1  & 1  & -1 & -1 & 1  & -1 & -1 & -1 & 1  & 1 \\\\\n",
       "\t12 & 1  & -1 & 1  & 1  & -1 & 1  & -1 & 1  & -1 & -1\\\\\n",
       "\t13 & 1  & -1 & -1 & 1  & -1 & -1 & 1  & 1  & 1  & 1 \\\\\n",
       "\t14 & -1 & -1 & 1  & 1  & 1  & -1 & -1 & -1 & -1 & 1 \\\\\n",
       "\t15 & -1 & 1  & -1 & 1  & -1 & 1  & -1 & -1 & -1 & 1 \\\\\n",
       "\t16 & -1 & 1  & -1 & -1 & -1 & 1  & -1 & 1  & 1  & -1\\\\\n",
       "\\end{tabular}\n"
      ],
      "text/markdown": [
       "\n",
       "A design: 16 × 10\n",
       "\n",
       "| <!--/--> | A &lt;fct&gt; | B &lt;fct&gt; | C &lt;fct&gt; | D &lt;fct&gt; | E &lt;fct&gt; | F &lt;fct&gt; | G &lt;fct&gt; | H &lt;fct&gt; | J &lt;fct&gt; | K &lt;fct&gt; |\n",
       "|---|---|---|---|---|---|---|---|---|---|---|\n",
       "| 1 | -1 | -1 | 1  | -1 | 1  | -1 | -1 | 1  | 1  | -1 |\n",
       "| 2 | 1  | -1 | 1  | -1 | -1 | 1  | -1 | -1 | 1  | 1  |\n",
       "| 3 | -1 | 1  | 1  | 1  | -1 | -1 | 1  | -1 | 1  | -1 |\n",
       "| 4 | -1 | -1 | -1 | -1 | 1  | 1  | 1  | 1  | -1 | 1  |\n",
       "| 5 | -1 | -1 | -1 | 1  | 1  | 1  | 1  | -1 | 1  | -1 |\n",
       "| 6 | -1 | 1  | 1  | -1 | -1 | -1 | 1  | 1  | -1 | 1  |\n",
       "| 7 | 1  | 1  | 1  | -1 | 1  | 1  | 1  | -1 | -1 | -1 |\n",
       "| 8 | 1  | 1  | 1  | 1  | 1  | 1  | 1  | 1  | 1  | 1  |\n",
       "| 9 | 1  | 1  | -1 | 1  | 1  | -1 | -1 | 1  | -1 | -1 |\n",
       "| 10 | 1  | -1 | -1 | -1 | -1 | -1 | 1  | -1 | -1 | -1 |\n",
       "| 11 | 1  | 1  | -1 | -1 | 1  | -1 | -1 | -1 | 1  | 1  |\n",
       "| 12 | 1  | -1 | 1  | 1  | -1 | 1  | -1 | 1  | -1 | -1 |\n",
       "| 13 | 1  | -1 | -1 | 1  | -1 | -1 | 1  | 1  | 1  | 1  |\n",
       "| 14 | -1 | -1 | 1  | 1  | 1  | -1 | -1 | -1 | -1 | 1  |\n",
       "| 15 | -1 | 1  | -1 | 1  | -1 | 1  | -1 | -1 | -1 | 1  |\n",
       "| 16 | -1 | 1  | -1 | -1 | -1 | 1  | -1 | 1  | 1  | -1 |\n",
       "\n"
      ],
      "text/plain": [
       "   A  B  C  D  E  F  G  H  J  K \n",
       "1  -1 -1 1  -1 1  -1 -1 1  1  -1\n",
       "2  1  -1 1  -1 -1 1  -1 -1 1  1 \n",
       "3  -1 1  1  1  -1 -1 1  -1 1  -1\n",
       "4  -1 -1 -1 -1 1  1  1  1  -1 1 \n",
       "5  -1 -1 -1 1  1  1  1  -1 1  -1\n",
       "6  -1 1  1  -1 -1 -1 1  1  -1 1 \n",
       "7  1  1  1  -1 1  1  1  -1 -1 -1\n",
       "8  1  1  1  1  1  1  1  1  1  1 \n",
       "9  1  1  -1 1  1  -1 -1 1  -1 -1\n",
       "10 1  -1 -1 -1 -1 -1 1  -1 -1 -1\n",
       "11 1  1  -1 -1 1  -1 -1 -1 1  1 \n",
       "12 1  -1 1  1  -1 1  -1 1  -1 -1\n",
       "13 1  -1 -1 1  -1 -1 1  1  1  1 \n",
       "14 -1 -1 1  1  1  -1 -1 -1 -1 1 \n",
       "15 -1 1  -1 1  -1 1  -1 -1 -1 1 \n",
       "16 -1 1  -1 -1 -1 1  -1 1  1  -1"
      ]
     },
     "metadata": {},
     "output_type": "display_data"
    }
   ],
   "source": [
    "design"
   ]
  },
  {
   "cell_type": "markdown",
   "id": "d1c6303f",
   "metadata": {},
   "source": [
    "The output of this command will be a matrix with 16 rows (one for each run) and 10 columns (one for each feature). The entries in the matrix will be either 1 (include the feature) or -1 (don't include the feature), indicating which features should be present in each of the 16 fictitious houses.\n",
    "\n",
    "You can use the row numbers of the matrix as the design labels for the 16 fictitious houses, and the column numbers as the feature labels. For example, if the first row of the matrix has entries [1, -1, 1, -1, 1, -1, 1, -1, 1, -1], this means that the first fictitious house should have features 1, 3, 5, 7, and 9, but not features 2, 4, 6, 8, or 10."
   ]
  },
  {
   "cell_type": "markdown",
   "id": "eefa5ded",
   "metadata": {},
   "source": [
    "---"
   ]
  },
  {
   "cell_type": "markdown",
   "id": "cf1b6afb",
   "metadata": {},
   "source": [
    "## Question 13.1\n",
    "\n",
    "For each of the following distributions, give an example of data that you would expect to follow this distribution (besides the examples already discussed in class).\n",
    "Binomial   \n",
    "Geometric   \n",
    "Poisson   \n",
    "Exponential  \n",
    "Weibull"
   ]
  },
  {
   "cell_type": "markdown",
   "id": "01fc16ff",
   "metadata": {},
   "source": [
    "#### Binomial:\n",
    "\n",
    "A binomial distribution models the number of successes in a fixed number of independent trials with a constant probability of success. An example of data that could follow a binomial distribution is the number of heads in 10 flips of a fair coin.\n",
    "\n",
    "\n",
    "#### Geometric:\n",
    "\n",
    "A geometric distribution models the number of independent trials needed to achieve the first success with a constant probability of success. An example of data that could follow a geometric distribution is the number of times you need to roll a die before getting a 6.\n",
    "\n",
    "\n",
    "#### Poisson:\n",
    "\n",
    "A Poisson distribution models the number of occurrences of a rare event in a fixed time or space interval. An example of data that could follow a Poisson distribution is the number of cars that pass through a toll booth in a fixed amount of time.\n",
    "\n",
    "\n",
    "#### Exponential:\n",
    "\n",
    "An exponential distribution models the time between events in a Poisson process. An example of data that could follow an exponential distribution is the time between arrivals of customers at a store that experiences a constant rate of customer arrivals.\n",
    "\n",
    "\n",
    "#### Weibull:\n",
    "\n",
    "A Weibull distribution models the time to failure of a component that may fail due to a variety of causes. An example of data that could follow a Weibull distribution is the lifetime of a light bulb that may fail due to manufacturing defects or normal wear and tear."
   ]
  },
  {
   "cell_type": "markdown",
   "id": "77170522",
   "metadata": {},
   "source": [
    "---"
   ]
  },
  {
   "cell_type": "markdown",
   "id": "b5613132",
   "metadata": {},
   "source": [
    "## Question 13.2\n",
    "\n",
    "In this problem you, can simulate a simplified airport security system at a busy airport. \n",
    "\n",
    "Passengers arrive according to a **Poisson distribution** with $λ_1$ = 5 per minute (i.e., mean interarrival rate 1 = 0.2 minutes) to the ID/boarding-pass check queue, \n",
    "\n",
    "where there are several servers who each have **exponential service time** with mean rate $\\mu_2$ = 0.75 minutes. \n",
    "\n",
    "[Hint: model them as one block that has more than one resource.]  \n",
    "\n",
    "---\n",
    "\n",
    "After that, the passengers are assigned to the shortest of the several personal-check queues, where they go through the personal scanner (time is uniformly distributed between 0.5 minutes and 1 minute). \n",
    "\n",
    "Use the Arena software (PC users) or Python with SimPy (PC or Mac users) to build a simulation of the system, and then vary the number of ID/boarding-pass checkers and personal-check queues to determine how many are needed to keep average wait times below 15 minutes.  \n",
    "\n",
    "[If you’re using SimPy, or if you have access to a non-student version of Arena, you can use λ1 = 50 to simulate a busier airport.]"
   ]
  },
  {
   "cell_type": "markdown",
   "id": "46a9d80f",
   "metadata": {},
   "source": [
    "## Use Python Kernel"
   ]
  },
  {
   "cell_type": "code",
   "execution_count": null,
   "id": "0b6d2c3d",
   "metadata": {},
   "outputs": [],
   "source": [
    "import sys"
   ]
  },
  {
   "cell_type": "code",
   "execution_count": null,
   "id": "ce37fc33",
   "metadata": {},
   "outputs": [],
   "source": [
    "!{sys.executable} -m pip install SimPy"
   ]
  },
  {
   "cell_type": "markdown",
   "id": "4d7474c6",
   "metadata": {},
   "source": [
    "### Question 13.2 Summary\n",
    "---\n",
    "#### Passenger Arrivals Distribution\n",
    "**Poisson** with $λ_1 = 5$\n",
    "\n",
    "5 per minute to the ID/boarding-pass check queue where the meet the servers\n",
    "\n",
    "Mean Inter-Arrival Rate  $\\mu_1 = \\frac{1}{5}$ or $0.2$\n",
    "\n",
    "#### Servers Distribution at ID/Boarding-Pass Check Queues\n",
    "**Exponential** with $\\mu_2 = 0.75$\n",
    "\n",
    "Each server has **exponential service time** with mean rate $\\mu_2 = 0.75$ minutes.\n",
    "\n",
    "ie 0.75 minutes is the average service time spent by each server on each customer\n",
    "\n",
    "[Hint: model them as one block that has more than one **resource**.]  \n",
    "\n",
    "---\n",
    "\n",
    "#### Time Distribution for Personal Check Queues\n",
    "After ID/Boarding-Pass Checks, Passengers are assigned to the shortest of the several personal-check queues, where they go through the personal scanner \n",
    "\n",
    "**Uniform** distribution of time at personal scanner between 0.5 minutes and 1 minute \n",
    "\n",
    "---\n",
    "vary the number of \n",
    "- ID/boarding-pass checkers and \n",
    "- personal-check queues to determine how many are needed \n",
    "\n",
    "Objective: to keep average wait times below 15 minutes.  \n",
    "\n",
    "[use $λ_1 = 50$ to simulate a busier airport.]"
   ]
  },
  {
   "cell_type": "code",
   "execution_count": 1,
   "id": "2d85d217",
   "metadata": {},
   "outputs": [
    {
     "name": "stdout",
     "output_type": "stream",
     "text": [
      "Average wait time: 352.16 minutes\n"
     ]
    }
   ],
   "source": [
    "import simpy\n",
    "import random\n",
    "\n",
    "# Define parameters\n",
    "lambda_1 = 50 / 60  # 50 arrivals per minute\n",
    "mu_1 = 15  # Mean inter-arrival rate of 15 minutes\n",
    "mu_2 = 0.75  # Mean service rate of 0.75 minutes\n",
    "num_checkers = 3  # Number of ID/boarding-pass checkers\n",
    "num_scanners = 5  # Number of personal-check queues\n",
    "\n",
    "# Define helper functions\n",
    "def interarrival_time():\n",
    "    return random.expovariate(lambda_1)\n",
    "\n",
    "def service_time():\n",
    "    return random.expovariate(mu_2)\n",
    "\n",
    "def scanner_time():\n",
    "    return random.uniform(0.5, 1)\n",
    "\n",
    "# Define the simulation environment\n",
    "class AirportSecuritySimulation:\n",
    "    def __init__(self, num_checkers, num_scanners):\n",
    "        self.env = simpy.Environment()\n",
    "        self.id_queue = simpy.Resource(self.env, capacity=num_checkers)\n",
    "        self.scanner_queues = [simpy.Resource(self.env) for i in range(num_scanners)]\n",
    "        self.wait_times = []\n",
    "\n",
    "    def run(self, num_passengers):\n",
    "        for i in range(num_passengers):\n",
    "            self.env.process(self.passenger_arrival())\n",
    "\n",
    "        self.env.run()\n",
    "\n",
    "        average_wait_time = sum(self.wait_times) / len(self.wait_times)\n",
    "        print(f\"Average wait time: {average_wait_time:.2f} minutes\")\n",
    "\n",
    "    def passenger_arrival(self):\n",
    "        arrival_time = self.env.now\n",
    "        with self.id_queue.request() as request:\n",
    "            yield request\n",
    "            service_time_ = service_time()\n",
    "            yield self.env.timeout(service_time_)\n",
    "\n",
    "            scanner_queue = min(self.scanner_queues, key=lambda q: q.count)\n",
    "            with scanner_queue.request() as scanner_request:\n",
    "                yield scanner_request\n",
    "                scanner_time_ = scanner_time()\n",
    "                yield self.env.timeout(scanner_time_)\n",
    "\n",
    "                wait_time = self.env.now - arrival_time\n",
    "                self.wait_times.append(wait_time)\n",
    "\n",
    "# Create and run the simulation\n",
    "simulation = AirportSecuritySimulation(num_checkers, num_scanners)\n",
    "simulation.run(1000)"
   ]
  },
  {
   "cell_type": "code",
   "execution_count": null,
   "id": "dc4afa6e",
   "metadata": {},
   "outputs": [],
   "source": []
  },
  {
   "cell_type": "code",
   "execution_count": null,
   "id": "244093c0",
   "metadata": {},
   "outputs": [],
   "source": []
  },
  {
   "cell_type": "code",
   "execution_count": null,
   "id": "d814c146",
   "metadata": {},
   "outputs": [],
   "source": []
  }
 ],
 "metadata": {
  "kernelspec": {
   "display_name": "Python 3 (ipykernel)",
   "language": "python",
   "name": "python3"
  },
  "language_info": {
   "codemirror_mode": {
    "name": "ipython",
    "version": 3
   },
   "file_extension": ".py",
   "mimetype": "text/x-python",
   "name": "python",
   "nbconvert_exporter": "python",
   "pygments_lexer": "ipython3",
   "version": "3.9.13"
  }
 },
 "nbformat": 4,
 "nbformat_minor": 5
}
